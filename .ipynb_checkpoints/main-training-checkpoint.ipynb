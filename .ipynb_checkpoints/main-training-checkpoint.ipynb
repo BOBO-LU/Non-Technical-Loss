{
 "cells": [
  {
   "cell_type": "code",
   "execution_count": 2,
   "id": "b3500b14",
   "metadata": {
    "Collapsed": "false"
   },
   "outputs": [],
   "source": [
    "import import_ipynb"
   ]
  },
  {
   "cell_type": "code",
   "execution_count": 79,
   "id": "239f5891",
   "metadata": {},
   "outputs": [],
   "source": [
    "%run requirements.ipynb\n",
    "%run config.ipynb\n",
    "%run module_preprocess.ipynb\n",
    "# %run module_feature_extraction.ipynb\n",
    "%run module_training.ipynb"
   ]
  },
  {
   "cell_type": "code",
   "execution_count": 89,
   "id": "88dd4058",
   "metadata": {
    "Collapsed": "false"
   },
   "outputs": [
    {
     "name": "stdout",
     "output_type": "stream",
     "text": [
      "(2239250, 7) (2239250, 9) (2239250, 4) (2239250, 2) (2239250, 2)\n"
     ]
    }
   ],
   "source": [
    "four_time = pd.read_csv(\"CSV/four_time.csv\")\n",
    "v_value = pd.read_csv(\"CSV/v_value.csv\")\n",
    "mic = pd.read_csv(\"CSV/mic.csv\")\n",
    "dwt_distance_48 = pd.read_csv(\"CSV/tsc_dtw_sdtw_10_48.csv\", names=['meter_dtw_48', 'meter_sdtw_48'], header=0)\n",
    "dwt_distance_530 = pd.read_csv(\"CSV/tsc_dtw_sdtw_10_530_48.csv\", names=['meter_dtw_530', 'meter_sdtw_530'], header=0)\n",
    "# smart_meter = pd.read_csv(\"CSV/smart_meter.csv\")\n",
    "# fdi = pd.read_csv(\"CSV/FDI.csv\")\n",
    "print(four_time.shape, v_value.shape, mic.shape, dwt_distance_48.shape, dwt_distance_530.shape)"
   ]
  },
  {
   "cell_type": "code",
   "execution_count": 70,
   "id": "a3fcf197",
   "metadata": {},
   "outputs": [
    {
     "data": {
      "text/plain": [
       "(Index(['meter_dtw_48', 'meter_sdtw_48'], dtype='object'),\n",
       " Index(['meter_dtw_530', 'meter_sdtw_530'], dtype='object'))"
      ]
     },
     "execution_count": 70,
     "metadata": {},
     "output_type": "execute_result"
    }
   ],
   "source": [
    "dwt_distance_48.columns, dwt_distance_530.columns"
   ]
  },
  {
   "cell_type": "code",
   "execution_count": 73,
   "id": "fa594299",
   "metadata": {},
   "outputs": [
    {
     "data": {
      "text/plain": [
       "(   meter_dtw_48  meter_sdtw_48\n",
       " 0      2.524154     -68.984877\n",
       " 1      1.896432     -71.081359\n",
       " 2      1.963119     -71.260790\n",
       " 3      2.880804     -64.383998\n",
       " 4      2.117505     -69.355208,\n",
       " meter_dtw_48     float64\n",
       " meter_sdtw_48    float64\n",
       " dtype: object)"
      ]
     },
     "execution_count": 73,
     "metadata": {},
     "output_type": "execute_result"
    }
   ],
   "source": [
    "dwt_distance_48.head(), dwt_distance_48.dtypes"
   ]
  },
  {
   "cell_type": "markdown",
   "id": "7919d1ff",
   "metadata": {},
   "source": [
    "## prepare data"
   ]
  },
  {
   "cell_type": "code",
   "execution_count": 74,
   "id": "33bab401",
   "metadata": {
    "Collapsed": "false",
    "collapsed": true,
    "jupyter": {
     "outputs_hidden": true
    }
   },
   "outputs": [
    {
     "data": {
      "text/html": [
       "<div>\n",
       "<style scoped>\n",
       "    .dataframe tbody tr th:only-of-type {\n",
       "        vertical-align: middle;\n",
       "    }\n",
       "\n",
       "    .dataframe tbody tr th {\n",
       "        vertical-align: top;\n",
       "    }\n",
       "\n",
       "    .dataframe thead th {\n",
       "        text-align: right;\n",
       "    }\n",
       "</style>\n",
       "<table border=\"1\" class=\"dataframe\">\n",
       "  <thead>\n",
       "    <tr style=\"text-align: right;\">\n",
       "      <th></th>\n",
       "      <th>MeterID</th>\n",
       "      <th>Day</th>\n",
       "      <th>FDI</th>\n",
       "      <th>overnight</th>\n",
       "      <th>breakfast</th>\n",
       "      <th>daytime</th>\n",
       "      <th>evening</th>\n",
       "    </tr>\n",
       "  </thead>\n",
       "  <tbody>\n",
       "    <tr>\n",
       "      <th>0</th>\n",
       "      <td>1236</td>\n",
       "      <td>2009-07-15</td>\n",
       "      <td>True</td>\n",
       "      <td>0.12852</td>\n",
       "      <td>0.0678</td>\n",
       "      <td>0.120048</td>\n",
       "      <td>0.119347</td>\n",
       "    </tr>\n",
       "  </tbody>\n",
       "</table>\n",
       "</div>"
      ],
      "text/plain": [
       "   MeterID         Day   FDI  overnight  breakfast   daytime   evening\n",
       "0     1236  2009-07-15  True    0.12852     0.0678  0.120048  0.119347"
      ]
     },
     "metadata": {},
     "output_type": "display_data"
    },
    {
     "data": {
      "text/html": [
       "<div>\n",
       "<style scoped>\n",
       "    .dataframe tbody tr th:only-of-type {\n",
       "        vertical-align: middle;\n",
       "    }\n",
       "\n",
       "    .dataframe tbody tr th {\n",
       "        vertical-align: top;\n",
       "    }\n",
       "\n",
       "    .dataframe thead th {\n",
       "        text-align: right;\n",
       "    }\n",
       "</style>\n",
       "<table border=\"1\" class=\"dataframe\">\n",
       "  <thead>\n",
       "    <tr style=\"text-align: right;\">\n",
       "      <th></th>\n",
       "      <th>MeterID</th>\n",
       "      <th>Day</th>\n",
       "      <th>FDI</th>\n",
       "      <th>Tmax1</th>\n",
       "      <th>Tmax2</th>\n",
       "      <th>Tmin1</th>\n",
       "      <th>Cmax1</th>\n",
       "      <th>Cmax2</th>\n",
       "      <th>Cmin1</th>\n",
       "    </tr>\n",
       "  </thead>\n",
       "  <tbody>\n",
       "    <tr>\n",
       "      <th>0</th>\n",
       "      <td>1236</td>\n",
       "      <td>2009-07-15</td>\n",
       "      <td>True</td>\n",
       "      <td>12</td>\n",
       "      <td>30</td>\n",
       "      <td>15</td>\n",
       "      <td>0.205161</td>\n",
       "      <td>0.209875</td>\n",
       "      <td>0.059876</td>\n",
       "    </tr>\n",
       "  </tbody>\n",
       "</table>\n",
       "</div>"
      ],
      "text/plain": [
       "   MeterID         Day   FDI  Tmax1  Tmax2  Tmin1     Cmax1     Cmax2     Cmin1\n",
       "0     1236  2009-07-15  True     12     30     15  0.205161  0.209875  0.059876"
      ]
     },
     "metadata": {},
     "output_type": "display_data"
    },
    {
     "data": {
      "text/html": [
       "<div>\n",
       "<style scoped>\n",
       "    .dataframe tbody tr th:only-of-type {\n",
       "        vertical-align: middle;\n",
       "    }\n",
       "\n",
       "    .dataframe tbody tr th {\n",
       "        vertical-align: top;\n",
       "    }\n",
       "\n",
       "    .dataframe thead th {\n",
       "        text-align: right;\n",
       "    }\n",
       "</style>\n",
       "<table border=\"1\" class=\"dataframe\">\n",
       "  <thead>\n",
       "    <tr style=\"text-align: right;\">\n",
       "      <th></th>\n",
       "      <th>MeterID</th>\n",
       "      <th>Day</th>\n",
       "      <th>FDI</th>\n",
       "      <th>overnight</th>\n",
       "      <th>breakfast</th>\n",
       "      <th>daytime</th>\n",
       "      <th>evening</th>\n",
       "      <th>Tmax1</th>\n",
       "      <th>Tmax2</th>\n",
       "      <th>Tmin1</th>\n",
       "      <th>Cmax1</th>\n",
       "      <th>Cmax2</th>\n",
       "      <th>Cmin1</th>\n",
       "    </tr>\n",
       "  </thead>\n",
       "  <tbody>\n",
       "    <tr>\n",
       "      <th>0</th>\n",
       "      <td>1236</td>\n",
       "      <td>2009-07-15</td>\n",
       "      <td>True</td>\n",
       "      <td>0.12852</td>\n",
       "      <td>0.0678</td>\n",
       "      <td>0.120048</td>\n",
       "      <td>0.119347</td>\n",
       "      <td>12</td>\n",
       "      <td>30</td>\n",
       "      <td>15</td>\n",
       "      <td>0.205161</td>\n",
       "      <td>0.209875</td>\n",
       "      <td>0.059876</td>\n",
       "    </tr>\n",
       "  </tbody>\n",
       "</table>\n",
       "</div>"
      ],
      "text/plain": [
       "   MeterID         Day   FDI  overnight  breakfast   daytime   evening  Tmax1  Tmax2  Tmin1     Cmax1     Cmax2     Cmin1\n",
       "0     1236  2009-07-15  True    0.12852     0.0678  0.120048  0.119347     12     30     15  0.205161  0.209875  0.059876"
      ]
     },
     "metadata": {},
     "output_type": "display_data"
    },
    {
     "data": {
      "text/html": [
       "<div>\n",
       "<style scoped>\n",
       "    .dataframe tbody tr th:only-of-type {\n",
       "        vertical-align: middle;\n",
       "    }\n",
       "\n",
       "    .dataframe tbody tr th {\n",
       "        vertical-align: top;\n",
       "    }\n",
       "\n",
       "    .dataframe thead th {\n",
       "        text-align: right;\n",
       "    }\n",
       "</style>\n",
       "<table border=\"1\" class=\"dataframe\">\n",
       "  <thead>\n",
       "    <tr style=\"text-align: right;\">\n",
       "      <th></th>\n",
       "      <th>MeterID</th>\n",
       "      <th>Day</th>\n",
       "      <th>FDI</th>\n",
       "      <th>overnight</th>\n",
       "      <th>breakfast</th>\n",
       "      <th>daytime</th>\n",
       "      <th>evening</th>\n",
       "      <th>Tmax1</th>\n",
       "      <th>Tmax2</th>\n",
       "      <th>Tmin1</th>\n",
       "      <th>Cmax1</th>\n",
       "      <th>Cmax2</th>\n",
       "      <th>Cmin1</th>\n",
       "    </tr>\n",
       "  </thead>\n",
       "  <tbody>\n",
       "    <tr>\n",
       "      <th>0</th>\n",
       "      <td>1236</td>\n",
       "      <td>2009-07-15</td>\n",
       "      <td>True</td>\n",
       "      <td>0.12852</td>\n",
       "      <td>0.0678</td>\n",
       "      <td>0.120048</td>\n",
       "      <td>0.119347</td>\n",
       "      <td>12</td>\n",
       "      <td>30</td>\n",
       "      <td>15</td>\n",
       "      <td>0.205161</td>\n",
       "      <td>0.209875</td>\n",
       "      <td>0.059876</td>\n",
       "    </tr>\n",
       "  </tbody>\n",
       "</table>\n",
       "</div>"
      ],
      "text/plain": [
       "   MeterID         Day   FDI  overnight  breakfast   daytime   evening  Tmax1  Tmax2  Tmin1     Cmax1     Cmax2     Cmin1\n",
       "0     1236  2009-07-15  True    0.12852     0.0678  0.120048  0.119347     12     30     15  0.205161  0.209875  0.059876"
      ]
     },
     "metadata": {},
     "output_type": "display_data"
    },
    {
     "data": {
      "text/html": [
       "<div>\n",
       "<style scoped>\n",
       "    .dataframe tbody tr th:only-of-type {\n",
       "        vertical-align: middle;\n",
       "    }\n",
       "\n",
       "    .dataframe tbody tr th {\n",
       "        vertical-align: top;\n",
       "    }\n",
       "\n",
       "    .dataframe thead th {\n",
       "        text-align: right;\n",
       "    }\n",
       "</style>\n",
       "<table border=\"1\" class=\"dataframe\">\n",
       "  <thead>\n",
       "    <tr style=\"text-align: right;\">\n",
       "      <th></th>\n",
       "      <th>MeterID</th>\n",
       "      <th>Day</th>\n",
       "      <th>FDI</th>\n",
       "      <th>mic</th>\n",
       "    </tr>\n",
       "  </thead>\n",
       "  <tbody>\n",
       "    <tr>\n",
       "      <th>0</th>\n",
       "      <td>1236</td>\n",
       "      <td>2009-07-15</td>\n",
       "      <td>True</td>\n",
       "      <td>0.624128</td>\n",
       "    </tr>\n",
       "  </tbody>\n",
       "</table>\n",
       "</div>"
      ],
      "text/plain": [
       "   MeterID         Day   FDI       mic\n",
       "0     1236  2009-07-15  True  0.624128"
      ]
     },
     "metadata": {},
     "output_type": "display_data"
    },
    {
     "data": {
      "text/html": [
       "<div>\n",
       "<style scoped>\n",
       "    .dataframe tbody tr th:only-of-type {\n",
       "        vertical-align: middle;\n",
       "    }\n",
       "\n",
       "    .dataframe tbody tr th {\n",
       "        vertical-align: top;\n",
       "    }\n",
       "\n",
       "    .dataframe thead th {\n",
       "        text-align: right;\n",
       "    }\n",
       "</style>\n",
       "<table border=\"1\" class=\"dataframe\">\n",
       "  <thead>\n",
       "    <tr style=\"text-align: right;\">\n",
       "      <th></th>\n",
       "      <th>MeterID</th>\n",
       "      <th>Day</th>\n",
       "      <th>FDI</th>\n",
       "      <th>overnight</th>\n",
       "      <th>breakfast</th>\n",
       "      <th>daytime</th>\n",
       "      <th>evening</th>\n",
       "      <th>Tmax1</th>\n",
       "      <th>Tmax2</th>\n",
       "      <th>Tmin1</th>\n",
       "      <th>Cmax1</th>\n",
       "      <th>Cmax2</th>\n",
       "      <th>Cmin1</th>\n",
       "      <th>mic</th>\n",
       "    </tr>\n",
       "  </thead>\n",
       "  <tbody>\n",
       "    <tr>\n",
       "      <th>0</th>\n",
       "      <td>1236</td>\n",
       "      <td>2009-07-15</td>\n",
       "      <td>True</td>\n",
       "      <td>0.12852</td>\n",
       "      <td>0.0678</td>\n",
       "      <td>0.120048</td>\n",
       "      <td>0.119347</td>\n",
       "      <td>12</td>\n",
       "      <td>30</td>\n",
       "      <td>15</td>\n",
       "      <td>0.205161</td>\n",
       "      <td>0.209875</td>\n",
       "      <td>0.059876</td>\n",
       "      <td>0.624128</td>\n",
       "    </tr>\n",
       "  </tbody>\n",
       "</table>\n",
       "</div>"
      ],
      "text/plain": [
       "   MeterID         Day   FDI  overnight  breakfast   daytime   evening  Tmax1  Tmax2  Tmin1     Cmax1     Cmax2     Cmin1       mic\n",
       "0     1236  2009-07-15  True    0.12852     0.0678  0.120048  0.119347     12     30     15  0.205161  0.209875  0.059876  0.624128"
      ]
     },
     "metadata": {},
     "output_type": "display_data"
    },
    {
     "data": {
      "text/html": [
       "<div>\n",
       "<style scoped>\n",
       "    .dataframe tbody tr th:only-of-type {\n",
       "        vertical-align: middle;\n",
       "    }\n",
       "\n",
       "    .dataframe tbody tr th {\n",
       "        vertical-align: top;\n",
       "    }\n",
       "\n",
       "    .dataframe thead th {\n",
       "        text-align: right;\n",
       "    }\n",
       "</style>\n",
       "<table border=\"1\" class=\"dataframe\">\n",
       "  <thead>\n",
       "    <tr style=\"text-align: right;\">\n",
       "      <th></th>\n",
       "      <th>MeterID</th>\n",
       "      <th>Day</th>\n",
       "      <th>FDI</th>\n",
       "      <th>overnight</th>\n",
       "      <th>breakfast</th>\n",
       "      <th>daytime</th>\n",
       "      <th>evening</th>\n",
       "      <th>Tmax1</th>\n",
       "      <th>Tmax2</th>\n",
       "      <th>Tmin1</th>\n",
       "      <th>Cmax1</th>\n",
       "      <th>Cmax2</th>\n",
       "      <th>Cmin1</th>\n",
       "      <th>mic</th>\n",
       "    </tr>\n",
       "  </thead>\n",
       "  <tbody>\n",
       "    <tr>\n",
       "      <th>0</th>\n",
       "      <td>1236</td>\n",
       "      <td>2009-07-15</td>\n",
       "      <td>True</td>\n",
       "      <td>0.12852</td>\n",
       "      <td>0.0678</td>\n",
       "      <td>0.120048</td>\n",
       "      <td>0.119347</td>\n",
       "      <td>12</td>\n",
       "      <td>30</td>\n",
       "      <td>15</td>\n",
       "      <td>0.205161</td>\n",
       "      <td>0.209875</td>\n",
       "      <td>0.059876</td>\n",
       "      <td>0.624128</td>\n",
       "    </tr>\n",
       "  </tbody>\n",
       "</table>\n",
       "</div>"
      ],
      "text/plain": [
       "   MeterID         Day   FDI  overnight  breakfast   daytime   evening  Tmax1  Tmax2  Tmin1     Cmax1     Cmax2     Cmin1       mic\n",
       "0     1236  2009-07-15  True    0.12852     0.0678  0.120048  0.119347     12     30     15  0.205161  0.209875  0.059876  0.624128"
      ]
     },
     "metadata": {},
     "output_type": "display_data"
    },
    {
     "data": {
      "text/html": [
       "<div>\n",
       "<style scoped>\n",
       "    .dataframe tbody tr th:only-of-type {\n",
       "        vertical-align: middle;\n",
       "    }\n",
       "\n",
       "    .dataframe tbody tr th {\n",
       "        vertical-align: top;\n",
       "    }\n",
       "\n",
       "    .dataframe thead th {\n",
       "        text-align: right;\n",
       "    }\n",
       "</style>\n",
       "<table border=\"1\" class=\"dataframe\">\n",
       "  <thead>\n",
       "    <tr style=\"text-align: right;\">\n",
       "      <th></th>\n",
       "      <th>meter_dtw_48</th>\n",
       "      <th>meter_sdtw_48</th>\n",
       "    </tr>\n",
       "  </thead>\n",
       "  <tbody>\n",
       "    <tr>\n",
       "      <th>0</th>\n",
       "      <td>2.524154</td>\n",
       "      <td>-68.984877</td>\n",
       "    </tr>\n",
       "  </tbody>\n",
       "</table>\n",
       "</div>"
      ],
      "text/plain": [
       "   meter_dtw_48  meter_sdtw_48\n",
       "0      2.524154     -68.984877"
      ]
     },
     "metadata": {},
     "output_type": "display_data"
    },
    {
     "data": {
      "text/html": [
       "<div>\n",
       "<style scoped>\n",
       "    .dataframe tbody tr th:only-of-type {\n",
       "        vertical-align: middle;\n",
       "    }\n",
       "\n",
       "    .dataframe tbody tr th {\n",
       "        vertical-align: top;\n",
       "    }\n",
       "\n",
       "    .dataframe thead th {\n",
       "        text-align: right;\n",
       "    }\n",
       "</style>\n",
       "<table border=\"1\" class=\"dataframe\">\n",
       "  <thead>\n",
       "    <tr style=\"text-align: right;\">\n",
       "      <th></th>\n",
       "      <th>MeterID</th>\n",
       "      <th>Day</th>\n",
       "      <th>FDI</th>\n",
       "      <th>overnight</th>\n",
       "      <th>breakfast</th>\n",
       "      <th>daytime</th>\n",
       "      <th>evening</th>\n",
       "      <th>Tmax1</th>\n",
       "      <th>Tmax2</th>\n",
       "      <th>Tmin1</th>\n",
       "      <th>Cmax1</th>\n",
       "      <th>Cmax2</th>\n",
       "      <th>Cmin1</th>\n",
       "      <th>mic</th>\n",
       "      <th>meter_dtw_48</th>\n",
       "      <th>meter_sdtw_48</th>\n",
       "    </tr>\n",
       "  </thead>\n",
       "  <tbody>\n",
       "    <tr>\n",
       "      <th>0</th>\n",
       "      <td>1236</td>\n",
       "      <td>2009-07-15</td>\n",
       "      <td>True</td>\n",
       "      <td>0.12852</td>\n",
       "      <td>0.0678</td>\n",
       "      <td>0.120048</td>\n",
       "      <td>0.119347</td>\n",
       "      <td>12</td>\n",
       "      <td>30</td>\n",
       "      <td>15</td>\n",
       "      <td>0.205161</td>\n",
       "      <td>0.209875</td>\n",
       "      <td>0.059876</td>\n",
       "      <td>0.624128</td>\n",
       "      <td>2.524154</td>\n",
       "      <td>-68.984877</td>\n",
       "    </tr>\n",
       "  </tbody>\n",
       "</table>\n",
       "</div>"
      ],
      "text/plain": [
       "   MeterID         Day   FDI  overnight  breakfast   daytime   evening  Tmax1  Tmax2  Tmin1     Cmax1     Cmax2     Cmin1       mic  meter_dtw_48  meter_sdtw_48\n",
       "0     1236  2009-07-15  True    0.12852     0.0678  0.120048  0.119347     12     30     15  0.205161  0.209875  0.059876  0.624128      2.524154     -68.984877"
      ]
     },
     "metadata": {},
     "output_type": "display_data"
    },
    {
     "data": {
      "text/html": [
       "<div>\n",
       "<style scoped>\n",
       "    .dataframe tbody tr th:only-of-type {\n",
       "        vertical-align: middle;\n",
       "    }\n",
       "\n",
       "    .dataframe tbody tr th {\n",
       "        vertical-align: top;\n",
       "    }\n",
       "\n",
       "    .dataframe thead th {\n",
       "        text-align: right;\n",
       "    }\n",
       "</style>\n",
       "<table border=\"1\" class=\"dataframe\">\n",
       "  <thead>\n",
       "    <tr style=\"text-align: right;\">\n",
       "      <th></th>\n",
       "      <th>MeterID</th>\n",
       "      <th>Day</th>\n",
       "      <th>FDI</th>\n",
       "      <th>overnight</th>\n",
       "      <th>breakfast</th>\n",
       "      <th>daytime</th>\n",
       "      <th>evening</th>\n",
       "      <th>Tmax1</th>\n",
       "      <th>Tmax2</th>\n",
       "      <th>Tmin1</th>\n",
       "      <th>Cmax1</th>\n",
       "      <th>Cmax2</th>\n",
       "      <th>Cmin1</th>\n",
       "      <th>mic</th>\n",
       "      <th>meter_dtw_48</th>\n",
       "      <th>meter_sdtw_48</th>\n",
       "    </tr>\n",
       "  </thead>\n",
       "  <tbody>\n",
       "    <tr>\n",
       "      <th>0</th>\n",
       "      <td>1236</td>\n",
       "      <td>2009-07-15</td>\n",
       "      <td>True</td>\n",
       "      <td>0.12852</td>\n",
       "      <td>0.0678</td>\n",
       "      <td>0.120048</td>\n",
       "      <td>0.119347</td>\n",
       "      <td>12</td>\n",
       "      <td>30</td>\n",
       "      <td>15</td>\n",
       "      <td>0.205161</td>\n",
       "      <td>0.209875</td>\n",
       "      <td>0.059876</td>\n",
       "      <td>0.624128</td>\n",
       "      <td>2.524154</td>\n",
       "      <td>-68.984877</td>\n",
       "    </tr>\n",
       "  </tbody>\n",
       "</table>\n",
       "</div>"
      ],
      "text/plain": [
       "   MeterID         Day   FDI  overnight  breakfast   daytime   evening  Tmax1  Tmax2  Tmin1     Cmax1     Cmax2     Cmin1       mic  meter_dtw_48  meter_sdtw_48\n",
       "0     1236  2009-07-15  True    0.12852     0.0678  0.120048  0.119347     12     30     15  0.205161  0.209875  0.059876  0.624128      2.524154     -68.984877"
      ]
     },
     "metadata": {},
     "output_type": "display_data"
    },
    {
     "data": {
      "text/html": [
       "<div>\n",
       "<style scoped>\n",
       "    .dataframe tbody tr th:only-of-type {\n",
       "        vertical-align: middle;\n",
       "    }\n",
       "\n",
       "    .dataframe tbody tr th {\n",
       "        vertical-align: top;\n",
       "    }\n",
       "\n",
       "    .dataframe thead th {\n",
       "        text-align: right;\n",
       "    }\n",
       "</style>\n",
       "<table border=\"1\" class=\"dataframe\">\n",
       "  <thead>\n",
       "    <tr style=\"text-align: right;\">\n",
       "      <th></th>\n",
       "      <th>meter_dtw_530</th>\n",
       "      <th>meter_sdtw_530</th>\n",
       "    </tr>\n",
       "  </thead>\n",
       "  <tbody>\n",
       "    <tr>\n",
       "      <th>0</th>\n",
       "      <td>3.991317</td>\n",
       "      <td>-50.432597</td>\n",
       "    </tr>\n",
       "  </tbody>\n",
       "</table>\n",
       "</div>"
      ],
      "text/plain": [
       "   meter_dtw_530  meter_sdtw_530\n",
       "0       3.991317      -50.432597"
      ]
     },
     "metadata": {},
     "output_type": "display_data"
    },
    {
     "data": {
      "text/html": [
       "<div>\n",
       "<style scoped>\n",
       "    .dataframe tbody tr th:only-of-type {\n",
       "        vertical-align: middle;\n",
       "    }\n",
       "\n",
       "    .dataframe tbody tr th {\n",
       "        vertical-align: top;\n",
       "    }\n",
       "\n",
       "    .dataframe thead th {\n",
       "        text-align: right;\n",
       "    }\n",
       "</style>\n",
       "<table border=\"1\" class=\"dataframe\">\n",
       "  <thead>\n",
       "    <tr style=\"text-align: right;\">\n",
       "      <th></th>\n",
       "      <th>MeterID</th>\n",
       "      <th>Day</th>\n",
       "      <th>FDI</th>\n",
       "      <th>overnight</th>\n",
       "      <th>breakfast</th>\n",
       "      <th>daytime</th>\n",
       "      <th>evening</th>\n",
       "      <th>Tmax1</th>\n",
       "      <th>Tmax2</th>\n",
       "      <th>Tmin1</th>\n",
       "      <th>Cmax1</th>\n",
       "      <th>Cmax2</th>\n",
       "      <th>Cmin1</th>\n",
       "      <th>mic</th>\n",
       "      <th>meter_dtw_48</th>\n",
       "      <th>meter_sdtw_48</th>\n",
       "      <th>meter_dtw_530</th>\n",
       "      <th>meter_sdtw_530</th>\n",
       "    </tr>\n",
       "  </thead>\n",
       "  <tbody>\n",
       "    <tr>\n",
       "      <th>0</th>\n",
       "      <td>1236</td>\n",
       "      <td>2009-07-15</td>\n",
       "      <td>True</td>\n",
       "      <td>0.12852</td>\n",
       "      <td>0.0678</td>\n",
       "      <td>0.120048</td>\n",
       "      <td>0.119347</td>\n",
       "      <td>12</td>\n",
       "      <td>30</td>\n",
       "      <td>15</td>\n",
       "      <td>0.205161</td>\n",
       "      <td>0.209875</td>\n",
       "      <td>0.059876</td>\n",
       "      <td>0.624128</td>\n",
       "      <td>2.524154</td>\n",
       "      <td>-68.984877</td>\n",
       "      <td>3.991317</td>\n",
       "      <td>-50.432597</td>\n",
       "    </tr>\n",
       "  </tbody>\n",
       "</table>\n",
       "</div>"
      ],
      "text/plain": [
       "   MeterID         Day   FDI  overnight  breakfast   daytime   evening  Tmax1  Tmax2  Tmin1     Cmax1     Cmax2     Cmin1       mic  meter_dtw_48  meter_sdtw_48  meter_dtw_530  meter_sdtw_530\n",
       "0     1236  2009-07-15  True    0.12852     0.0678  0.120048  0.119347     12     30     15  0.205161  0.209875  0.059876  0.624128      2.524154     -68.984877       3.991317      -50.432597"
      ]
     },
     "metadata": {},
     "output_type": "display_data"
    }
   ],
   "source": [
    "training_data = concat_two_df_and_drop_same_column_in_df2(four_time, v_value)\n",
    "training_data = concat_two_df_and_drop_same_column_in_df2(training_data, mic)\n",
    "training_data = concat_two_df_and_drop_same_column_in_df2(training_data, dwt_distance_48)\n",
    "training_data = concat_two_df_and_drop_same_column_in_df2(training_data, dwt_distance_530)"
   ]
  },
  {
   "cell_type": "code",
   "execution_count": 18,
   "id": "62d72f15",
   "metadata": {},
   "outputs": [
    {
     "data": {
      "text/html": [
       "<div>\n",
       "<style scoped>\n",
       "    .dataframe tbody tr th:only-of-type {\n",
       "        vertical-align: middle;\n",
       "    }\n",
       "\n",
       "    .dataframe tbody tr th {\n",
       "        vertical-align: top;\n",
       "    }\n",
       "\n",
       "    .dataframe thead th {\n",
       "        text-align: right;\n",
       "    }\n",
       "</style>\n",
       "<table border=\"1\" class=\"dataframe\">\n",
       "  <thead>\n",
       "    <tr style=\"text-align: right;\">\n",
       "      <th></th>\n",
       "      <th>MeterID</th>\n",
       "      <th>Day</th>\n",
       "      <th>FDI</th>\n",
       "      <th>overnight</th>\n",
       "      <th>breakfast</th>\n",
       "      <th>daytime</th>\n",
       "      <th>evening</th>\n",
       "      <th>Tmax1</th>\n",
       "      <th>Tmax2</th>\n",
       "      <th>Tmin1</th>\n",
       "      <th>Cmax1</th>\n",
       "      <th>Cmax2</th>\n",
       "      <th>Cmin1</th>\n",
       "      <th>mic</th>\n",
       "      <th>meter_dtw</th>\n",
       "      <th>meter_sdtw</th>\n",
       "    </tr>\n",
       "  </thead>\n",
       "  <tbody>\n",
       "    <tr>\n",
       "      <th>0</th>\n",
       "      <td>1236</td>\n",
       "      <td>2009-07-15</td>\n",
       "      <td>True</td>\n",
       "      <td>0.128520</td>\n",
       "      <td>0.06780</td>\n",
       "      <td>0.120048</td>\n",
       "      <td>0.119347</td>\n",
       "      <td>12</td>\n",
       "      <td>30</td>\n",
       "      <td>15</td>\n",
       "      <td>0.205161</td>\n",
       "      <td>0.209875</td>\n",
       "      <td>0.059876</td>\n",
       "      <td>0.624128</td>\n",
       "      <td>2.524154</td>\n",
       "      <td>-68.984877</td>\n",
       "    </tr>\n",
       "    <tr>\n",
       "      <th>1</th>\n",
       "      <td>1236</td>\n",
       "      <td>2009-07-16</td>\n",
       "      <td>True</td>\n",
       "      <td>0.084015</td>\n",
       "      <td>0.23875</td>\n",
       "      <td>0.201571</td>\n",
       "      <td>0.196692</td>\n",
       "      <td>20</td>\n",
       "      <td>34</td>\n",
       "      <td>24</td>\n",
       "      <td>0.656000</td>\n",
       "      <td>0.706000</td>\n",
       "      <td>0.012000</td>\n",
       "      <td>0.000000</td>\n",
       "      <td>1.896432</td>\n",
       "      <td>-71.081359</td>\n",
       "    </tr>\n",
       "    <tr>\n",
       "      <th>2</th>\n",
       "      <td>1236</td>\n",
       "      <td>2009-07-17</td>\n",
       "      <td>True</td>\n",
       "      <td>0.135647</td>\n",
       "      <td>0.17500</td>\n",
       "      <td>0.231000</td>\n",
       "      <td>0.408409</td>\n",
       "      <td>18</td>\n",
       "      <td>35</td>\n",
       "      <td>24</td>\n",
       "      <td>0.925000</td>\n",
       "      <td>1.387000</td>\n",
       "      <td>0.020000</td>\n",
       "      <td>0.000000</td>\n",
       "      <td>1.963119</td>\n",
       "      <td>-71.260790</td>\n",
       "    </tr>\n",
       "  </tbody>\n",
       "</table>\n",
       "</div>"
      ],
      "text/plain": [
       "   MeterID         Day   FDI  overnight  breakfast   daytime   evening  Tmax1  Tmax2  Tmin1     Cmax1     Cmax2     Cmin1       mic  meter_dtw  meter_sdtw\n",
       "0     1236  2009-07-15  True   0.128520    0.06780  0.120048  0.119347     12     30     15  0.205161  0.209875  0.059876  0.624128   2.524154  -68.984877\n",
       "1     1236  2009-07-16  True   0.084015    0.23875  0.201571  0.196692     20     34     24  0.656000  0.706000  0.012000  0.000000   1.896432  -71.081359\n",
       "2     1236  2009-07-17  True   0.135647    0.17500  0.231000  0.408409     18     35     24  0.925000  1.387000  0.020000  0.000000   1.963119  -71.260790"
      ]
     },
     "execution_count": 18,
     "metadata": {},
     "output_type": "execute_result"
    }
   ],
   "source": [
    "training_data.head(3)"
   ]
  },
  {
   "cell_type": "markdown",
   "id": "0c7b6eac",
   "metadata": {},
   "source": [
    "## classifier"
   ]
  },
  {
   "cell_type": "code",
   "execution_count": 42,
   "id": "3720067d",
   "metadata": {},
   "outputs": [],
   "source": [
    "xgboost = XGBClassifier(scale_pos_weight=1, use_label_encoder=False, n_jobs=-1, verbosity=0)\n",
    "adaboost = AdaBoostClassifier()\n",
    "lineSVM = LinearSVC(max_iter=1000000, C=50) # kernel = rbf\n",
    "randforest = RandomForestClassifier(n_jobs=-1)\n",
    "complementNB = ComplementNB()\n",
    "DT = DecisionTreeClassifier()\n",
    "kNN = KNeighborsClassifier(n_jobs=-1)"
   ]
  },
  {
   "cell_type": "markdown",
   "id": "8c7fed71",
   "metadata": {},
   "source": [
    "## sample training"
   ]
  },
  {
   "cell_type": "code",
   "execution_count": 75,
   "id": "3c573233",
   "metadata": {},
   "outputs": [],
   "source": [
    "x_col = ['overnight', 'breakfast', 'daytime', 'evening', 'Tmax1', 'Tmax2', 'Tmin1', 'Cmax1', 'Cmax2', 'Cmin1', 'mic', 'meter_dtw_48', 'meter_sdtw_48', 'meter_dtw_530', 'meter_sdtw_530']\n",
    "y_col = ['FDI']\n",
    "training_sample = training_data.iloc[:422*3*530]"
   ]
  },
  {
   "cell_type": "markdown",
   "id": "6bd1d620",
   "metadata": {},
   "source": [
    "#### xgboos whole"
   ]
  },
  {
   "cell_type": "code",
   "execution_count": 80,
   "id": "abc965b5",
   "metadata": {},
   "outputs": [
    {
     "name": "stdout",
     "output_type": "stream",
     "text": [
      "\n",
      " Time taken: 0 hours 2 minutes and 10.26 seconds.\n",
      "average_precision_score: 0.9576343717904827\n",
      "average_recall_score: 0.25132524707996406\n",
      "average_accuracy_score: 0.92438075650541\n",
      "average_roc_auc_score: 0.6250481746819879\n",
      "average_f1_score: 0.39815671482456766\n"
     ]
    }
   ],
   "source": [
    "model, score = train_single_model(xgboost, training_data, x_col, y_col, split_num = 1, return_model=True)"
   ]
  },
  {
   "cell_type": "markdown",
   "id": "66680e1a",
   "metadata": {},
   "source": [
    "#### xgboost no 48"
   ]
  },
  {
   "cell_type": "code",
   "execution_count": 81,
   "id": "a72e9d6e",
   "metadata": {},
   "outputs": [
    {
     "name": "stdout",
     "output_type": "stream",
     "text": [
      "\n",
      " Time taken: 0 hours 1 minutes and 37.97 seconds.\n",
      "\n",
      " Time taken: 0 hours 1 minutes and 39.39 seconds.\n",
      "\n",
      " Time taken: 0 hours 1 minutes and 43.58 seconds.\n",
      "average_precision_score: 0.95528232067998\n",
      "average_recall_score: 0.2450658879904163\n",
      "average_accuracy_score: 0.9237235088974337\n",
      "average_roc_auc_score: 0.6218994617045759\n",
      "average_f1_score: 0.3900421986186518\n"
     ]
    }
   ],
   "source": [
    "x_col = ['overnight', 'breakfast', 'daytime', 'evening', 'Tmax1', 'Tmax2', 'Tmin1', 'Cmax1', 'Cmax2', 'Cmin1', 'mic', 'meter_dtw_530', 'meter_sdtw_530']\n",
    "model, score = train_single_model(xgboost, training_data, x_col, y_col, split_num = 3, return_model=True)"
   ]
  },
  {
   "cell_type": "markdown",
   "id": "f0a22711",
   "metadata": {},
   "source": [
    "#### xgboost no 530"
   ]
  },
  {
   "cell_type": "code",
   "execution_count": 83,
   "id": "dc212a24",
   "metadata": {},
   "outputs": [
    {
     "name": "stdout",
     "output_type": "stream",
     "text": [
      "\n",
      " Time taken: 0 hours 1 minutes and 42.7 seconds.\n",
      "\n",
      " Time taken: 0 hours 1 minutes and 42.07 seconds.\n",
      "\n",
      " Time taken: 0 hours 1 minutes and 44.55 seconds.\n",
      "average_precision_score: 0.9561944793054696\n",
      "average_recall_score: 0.24276729559748425\n",
      "average_accuracy_score: 0.9235290172583386\n",
      "average_roc_auc_score: 0.6207691989407481\n",
      "average_f1_score: 0.3872219081312886\n"
     ]
    }
   ],
   "source": [
    "x_col = ['overnight', 'breakfast', 'daytime', 'evening', 'Tmax1', 'Tmax2', 'Tmin1', 'Cmax1', 'Cmax2', 'Cmin1', 'mic', 'meter_dtw_48', 'meter_sdtw_48']\n",
    "model, score = train_single_model(xgboost, training_data, x_col, y_col, split_num = 3, return_model=True)"
   ]
  },
  {
   "cell_type": "markdown",
   "id": "2bdaa1d4",
   "metadata": {},
   "source": [
    "#### xgboost whole weight=10"
   ]
  },
  {
   "cell_type": "code",
   "execution_count": 84,
   "id": "32b281ba",
   "metadata": {},
   "outputs": [
    {
     "name": "stdout",
     "output_type": "stream",
     "text": [
      "\n",
      " Time taken: 0 hours 1 minutes and 59.43 seconds.\n",
      "\n",
      " Time taken: 0 hours 1 minutes and 56.29 seconds.\n",
      "\n",
      " Time taken: 0 hours 2 minutes and 1.51 seconds.\n",
      "average_precision_score: 0.19155439658425402\n",
      "average_recall_score: 0.6483453129679545\n",
      "average_accuracy_score: 0.692659244686876\n",
      "average_roc_auc_score: 0.6729512066329345\n",
      "average_f1_score: 0.2957307508124474\n"
     ]
    }
   ],
   "source": [
    "x_col = ['overnight', 'breakfast', 'daytime', 'evening', 'Tmax1', 'Tmax2', 'Tmin1', 'Cmax1', 'Cmax2', 'Cmin1', 'mic', 'meter_dtw_48', 'meter_sdtw_48', 'meter_dtw_530', 'meter_sdtw_530']\n",
    "xgboost = XGBClassifier(scale_pos_weight=10, use_label_encoder=False, n_jobs=-1, verbosity=0)\n",
    "model, score = train_single_model(xgboost, training_data, x_col, y_col, split_num = 3, return_model=True)"
   ]
  },
  {
   "cell_type": "markdown",
   "id": "efd9f948",
   "metadata": {},
   "source": [
    "## XGBoost"
   ]
  },
  {
   "cell_type": "code",
   "execution_count": null,
   "id": "775cdd9d",
   "metadata": {},
   "outputs": [],
   "source": []
  },
  {
   "cell_type": "code",
   "execution_count": null,
   "id": "677b2c5e",
   "metadata": {},
   "outputs": [],
   "source": []
  }
 ],
 "metadata": {
  "environment": {
   "name": "common-cpu.m71",
   "type": "gcloud",
   "uri": "gcr.io/deeplearning-platform-release/base-cpu:m71"
  },
  "kernelspec": {
   "display_name": "Python 3",
   "language": "python",
   "name": "python3"
  },
  "language_info": {
   "codemirror_mode": {
    "name": "ipython",
    "version": 3
   },
   "file_extension": ".py",
   "mimetype": "text/x-python",
   "name": "python",
   "nbconvert_exporter": "python",
   "pygments_lexer": "ipython3",
   "version": "3.7.10"
  }
 },
 "nbformat": 4,
 "nbformat_minor": 5
}
