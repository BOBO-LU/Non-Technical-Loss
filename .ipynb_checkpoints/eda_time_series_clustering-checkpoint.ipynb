{
 "cells": [
  {
   "cell_type": "code",
   "execution_count": 1,
   "id": "76c4288e",
   "metadata": {
    "Collapsed": "false"
   },
   "outputs": [],
   "source": [
    "%run requirements.ipynb\n",
    "%run config.ipynb\n",
    "%run module_preprocess.ipynb\n",
    "%run module_training.ipynb\n",
    "%run module_fdi_generator.ipynb\n",
    "%run module_feature_extraction.ipynb"
   ]
  },
  {
   "cell_type": "code",
   "execution_count": 2,
   "id": "a6b30bb9",
   "metadata": {
    "Collapsed": "false"
   },
   "outputs": [
    {
     "name": "stdout",
     "output_type": "stream",
     "text": [
      "(10735680, 8)\n",
      "(10735680, 8)\n",
      "(10735680, 8)\n",
      "(10735680, 8)\n",
      "(10735680, 8)\n",
      "(10735680, 8)\n",
      "(10735680, 8)\n",
      "(10735680, 8)\n",
      "(10735680, 8)\n",
      "(10862880, 8)\n"
     ]
    }
   ],
   "source": [
    "smart_meter_data_group = []\n",
    "for i in range(10):\n",
    "    d1 = pd.read_csv('CSV/smartmeterhalf/smart_meter_'+str(i)+'_1.csv')\n",
    "    d2 = pd.read_csv('CSV/smartmeterhalf/smart_meter_'+str(i)+'_2.csv')\n",
    "    data = pd.concat([d1,d2])\n",
    "    print(data.shape)\n",
    "    smart_meter_data_group.append(data)"
   ]
  },
  {
   "cell_type": "code",
   "execution_count": 3,
   "id": "14b29c42",
   "metadata": {
    "Collapsed": "false",
    "collapsed": true,
    "jupyter": {
     "outputs_hidden": true
    }
   },
   "outputs": [
    {
     "name": "stdout",
     "output_type": "stream",
     "text": [
      "(10735680, 8) 534240\n",
      "(10735680, 8) 534240\n",
      "\n",
      "(10735680, 8) 534240\n",
      "(10735680, 8) 534240\n",
      "\n",
      "(10735680, 8) 534240\n",
      "(10735680, 8) 534240\n",
      "\n",
      "(10735680, 8) 534240\n",
      "(10735680, 8) 534240\n",
      "\n",
      "(10735680, 8) 534240\n",
      "(10735680, 8) 534240\n",
      "\n",
      "(10735680, 8) 534240\n",
      "(10735680, 8) 534240\n",
      "\n",
      "(10735680, 8) 534240\n",
      "(10735680, 8) 534240\n",
      "\n",
      "(10735680, 8) 534240\n",
      "(10735680, 8) 534240\n",
      "\n",
      "(10735680, 8) 534240\n",
      "(10735680, 8) 534240\n",
      "\n",
      "(10862880, 8) 534240\n",
      "(10862880, 8) 534240\n",
      "\n"
     ]
    }
   ],
   "source": [
    "for f in smart_meter_data_group:\n",
    "    print(f.shape, f[ f['FDI_method'] != 0 ]['FDI'].count())\n",
    "    print(f.shape, f[ f['FDI'] == True ]['FDI'].count())\n",
    "    print()"
   ]
  },
  {
   "cell_type": "markdown",
   "id": "6930143d",
   "metadata": {
    "Collapsed": "false"
   },
   "source": [
    "### start"
   ]
  },
  {
   "cell_type": "code",
   "execution_count": 32,
   "id": "9f2f2e62",
   "metadata": {
    "Collapsed": "false"
   },
   "outputs": [],
   "source": [
    "# if daily == True: X.reshape(-1, 48)\n",
    "# if daily == False: X.reshape(-1, 530, 48)  ## default\n",
    "\n",
    "def get_no_ntl(daily=False):\n",
    "    X_list = []\n",
    "    pbar = tqdm(smart_meter_data_group)\n",
    "    count = 1\n",
    "    for area in pbar: # iterate 10 data groups\n",
    "#         print(f'start {count}')\n",
    "        X = []\n",
    "        for meter_index in range(int(area.shape[0]/530/48)): # iterate every fdi meter in area \n",
    "            meter_offset = meter_index * 530 * 48\n",
    "            meter = area[meter_offset: meter_offset + 530 * 48]\n",
    "            for i in range(530):\n",
    "                if any(meter[i*48:(i+1)*48]['FDI']):\n",
    "                    continue\n",
    "                X.append(meter[\"Atk_Elec\"][i*48:(i+1)*48].to_numpy())\n",
    "        X = np.array(X)\n",
    "        if daily:\n",
    "            X = X.reshape(-1, 48)\n",
    "        else:\n",
    "            X = X.reshape(-1, 530, 48)\n",
    "        X_list.append(X)\n",
    "        count = count + 1\n",
    "    return X_list\n",
    "\n",
    "def get_only_ntl(daily=False):\n",
    "    X_list = []\n",
    "    pbar = tqdm(smart_meter_data_group)\n",
    "    count = 1\n",
    "    for area in pbar: # iterate 10 data groups\n",
    "#         print(f'start {count}')\n",
    "        X = []\n",
    "        for meter_index in range(int(area.shape[0]/530/48)): # iterate every fdi meter in area \n",
    "            meter_offset = meter_index * 530 * 48\n",
    "            meter = area[meter_offset: meter_offset + 530 * 48]\n",
    "            for i in range(530):\n",
    "                if not any(meter[i*48:(i+1)*48]['FDI']):\n",
    "                    continue\n",
    "                X.append(meter[\"Atk_Elec\"][i*48:(i+1)*48].to_numpy())\n",
    "        X = np.array(X)\n",
    "        if daily:\n",
    "            X = X.reshape(-1, 48)\n",
    "        else:\n",
    "            X = X.reshape(-1, 530, 48)\n",
    "        X_list.append(X)\n",
    "        count = count + 1\n",
    "    return X_list\n",
    "\n",
    "def get_all(daily=False):\n",
    "    X_list = []\n",
    "    pbar = tqdm(smart_meter_data_group)\n",
    "    count = 1\n",
    "    for area in pbar: # iterate 10 data groups\n",
    "#         print(f'start {count}')\n",
    "        X = area['Atk_Elec'].to_numpy()\n",
    "        if daily:\n",
    "            X = X.reshape(-1, 48)\n",
    "        else:\n",
    "            X = X.reshape(-1, 530, 48)\n",
    "        X_list.append(X)\n",
    "        count = count + 1\n",
    "    return X_list"
   ]
  },
  {
   "cell_type": "code",
   "execution_count": null,
   "id": "73a2e94f",
   "metadata": {
    "Collapsed": "false"
   },
   "outputs": [],
   "source": [
    "\"\"\"\n",
    "calculate dba 48 & 530, sdtw 48 & 530\n",
    "check ntl affect\n",
    "silhouette\n",
    "cluster it\n",
    "\"\"\""
   ]
  },
  {
   "cell_type": "markdown",
   "id": "6171e222",
   "metadata": {
    "Collapsed": "false"
   },
   "source": [
    "# euclidean"
   ]
  },
  {
   "cell_type": "markdown",
   "id": "68b615e5",
   "metadata": {
    "Collapsed": "false"
   },
   "source": [
    "## eu, -1 * 530 * 48"
   ]
  },
  {
   "cell_type": "code",
   "execution_count": 123,
   "id": "90def6f6",
   "metadata": {
    "Collapsed": "false"
   },
   "outputs": [
    {
     "data": {
      "application/vnd.jupyter.widget-view+json": {
       "model_id": "ff34559331bf4802a3e321904d931566",
       "version_major": 2,
       "version_minor": 0
      },
      "text/plain": [
       "  0%|          | 0/10 [00:00<?, ?it/s]"
      ]
     },
     "metadata": {},
     "output_type": "display_data"
    },
    {
     "data": {
      "application/vnd.jupyter.widget-view+json": {
       "model_id": "43426affd3d04ceb84ea90f7111cb2e1",
       "version_major": 2,
       "version_minor": 0
      },
      "text/plain": [
       "  0%|          | 0/10 [00:00<?, ?it/s]"
      ]
     },
     "metadata": {},
     "output_type": "display_data"
    },
    {
     "name": "stdout",
     "output_type": "stream",
     "text": [
      "(530, 48)\n"
     ]
    },
    {
     "data": {
      "application/vnd.jupyter.widget-view+json": {
       "model_id": "17f33ce38e6f4bf295e7140fc13b6e48",
       "version_major": 2,
       "version_minor": 0
      },
      "text/plain": [
       "  0%|          | 0/10 [00:00<?, ?it/s]"
      ]
     },
     "metadata": {},
     "output_type": "display_data"
    },
    {
     "data": {
      "application/vnd.jupyter.widget-view+json": {
       "model_id": "54be7f2b69754e13aa61d6c4b017d080",
       "version_major": 2,
       "version_minor": 0
      },
      "text/plain": [
       "  0%|          | 0/10 [00:00<?, ?it/s]"
      ]
     },
     "metadata": {},
     "output_type": "display_data"
    },
    {
     "name": "stdout",
     "output_type": "stream",
     "text": [
      "(530, 48)\n"
     ]
    },
    {
     "data": {
      "application/vnd.jupyter.widget-view+json": {
       "model_id": "f7f04f00f1c54098b5693480524af5e2",
       "version_major": 2,
       "version_minor": 0
      },
      "text/plain": [
       "  0%|          | 0/10 [00:00<?, ?it/s]"
      ]
     },
     "metadata": {},
     "output_type": "display_data"
    },
    {
     "data": {
      "application/vnd.jupyter.widget-view+json": {
       "model_id": "2b8f7663f3694574ae0f49a711160165",
       "version_major": 2,
       "version_minor": 0
      },
      "text/plain": [
       "  0%|          | 0/10 [00:00<?, ?it/s]"
      ]
     },
     "metadata": {},
     "output_type": "display_data"
    },
    {
     "name": "stdout",
     "output_type": "stream",
     "text": [
      "(530, 48)\n"
     ]
    }
   ],
   "source": [
    "# 530 * 48 all\n",
    "one_cluster_eu_barycenter_48 = []\n",
    "X_list = get_all()\n",
    "pbar = tqdm(X_list)\n",
    "for X in pbar:\n",
    "    result = euclidean_barycenter(X)\n",
    "    one_cluster_eu_barycenter_48.append(result)\n",
    "print(one_cluster_eu_barycenter_48[0].shape)\n",
    "\n",
    "# 530 * 48 no ntl\n",
    "one_cluster_eu_barycenter_48_no_ntl = []\n",
    "X_list = get_no_ntl()\n",
    "pbar = tqdm(X_list)\n",
    "for X in pbar:\n",
    "    result = euclidean_barycenter(X)\n",
    "    one_cluster_eu_barycenter_48_no_ntl.append(result)\n",
    "print(one_cluster_eu_barycenter_48_no_ntl[0].shape)\n",
    "\n",
    "# 530 * 48 only ntl\n",
    "one_cluster_eu_barycenter_48_only_ntl = []\n",
    "X_list = get_only_ntl()\n",
    "pbar = tqdm(X_list)\n",
    "for X in pbar:\n",
    "    result = euclidean_barycenter(X)\n",
    "    one_cluster_eu_barycenter_48_only_ntl.append(result)\n",
    "print(one_cluster_eu_barycenter_48_only_ntl[0].shape)"
   ]
  },
  {
   "cell_type": "code",
   "execution_count": 129,
   "id": "24b672b2",
   "metadata": {
    "Collapsed": "false"
   },
   "outputs": [
    {
     "data": {
      "image/png": "[encoded data removed]",
      "text/plain": [
       "<Figure size 432x288 with 1 Axes>"
      ]
     },
     "metadata": {},
     "output_type": "display_data"
    }
   ],
   "source": [
    "# sdtw area 0\n",
    "plt.plot(one_cluster_eu_barycenter_48[0][0], label=\"all\")\n",
    "plt.plot(one_cluster_eu_barycenter_48_no_ntl[0][0], label=\"no ntl\")\n",
    "plt.plot(one_cluster_eu_barycenter_48_only_ntl[0][0], label=\"only ntl\")\n",
    "plt.legend(loc=\"upper left\")\n",
    "plt.xlabel(\"Half hours\")\n",
    "plt.ylabel(\"Electricity\")\n",
    "plt.savefig(\"eucldean barycenter 530*48 1 day in area 0\")"
   ]
  },
  {
   "cell_type": "markdown",
   "id": "838792af",
   "metadata": {
    "Collapsed": "false"
   },
   "source": [
    "## eu, -1 * 48"
   ]
  },
  {
   "cell_type": "code",
   "execution_count": 125,
   "id": "c413d525",
   "metadata": {
    "Collapsed": "false"
   },
   "outputs": [
    {
     "data": {
      "application/vnd.jupyter.widget-view+json": {
       "model_id": "d45716f4255c48aca75ab3e875d66cfc",
       "version_major": 2,
       "version_minor": 0
      },
      "text/plain": [
       "  0%|          | 0/10 [00:00<?, ?it/s]"
      ]
     },
     "metadata": {},
     "output_type": "display_data"
    },
    {
     "data": {
      "application/vnd.jupyter.widget-view+json": {
       "model_id": "076a5488d3084d93bbf3e54b78a54336",
       "version_major": 2,
       "version_minor": 0
      },
      "text/plain": [
       "  0%|          | 0/10 [00:00<?, ?it/s]"
      ]
     },
     "metadata": {},
     "output_type": "display_data"
    },
    {
     "name": "stdout",
     "output_type": "stream",
     "text": [
      "(48, 1)\n"
     ]
    },
    {
     "data": {
      "application/vnd.jupyter.widget-view+json": {
       "model_id": "2885008f9cda443e8a54cee28868efc3",
       "version_major": 2,
       "version_minor": 0
      },
      "text/plain": [
       "  0%|          | 0/10 [00:00<?, ?it/s]"
      ]
     },
     "metadata": {},
     "output_type": "display_data"
    },
    {
     "data": {
      "application/vnd.jupyter.widget-view+json": {
       "model_id": "8b83adb630aa422083ac6abd178b35ce",
       "version_major": 2,
       "version_minor": 0
      },
      "text/plain": [
       "  0%|          | 0/10 [00:00<?, ?it/s]"
      ]
     },
     "metadata": {},
     "output_type": "display_data"
    },
    {
     "name": "stdout",
     "output_type": "stream",
     "text": [
      "(48, 1)\n"
     ]
    },
    {
     "data": {
      "application/vnd.jupyter.widget-view+json": {
       "model_id": "218ad17e21d746fda8d2ca744cc33f2e",
       "version_major": 2,
       "version_minor": 0
      },
      "text/plain": [
       "  0%|          | 0/10 [00:00<?, ?it/s]"
      ]
     },
     "metadata": {},
     "output_type": "display_data"
    },
    {
     "data": {
      "application/vnd.jupyter.widget-view+json": {
       "model_id": "bd083fb80efb4a6f81e0c3c4c1da990e",
       "version_major": 2,
       "version_minor": 0
      },
      "text/plain": [
       "  0%|          | 0/10 [00:00<?, ?it/s]"
      ]
     },
     "metadata": {},
     "output_type": "display_data"
    },
    {
     "name": "stdout",
     "output_type": "stream",
     "text": [
      "(48, 1)\n"
     ]
    }
   ],
   "source": [
    "# 530 * 48 all\n",
    "one_cluster_eu_barycenter = []\n",
    "X_list = get_all(daily=True)\n",
    "pbar = tqdm(X_list)\n",
    "for X in pbar:\n",
    "    result = euclidean_barycenter(X)\n",
    "    one_cluster_eu_barycenter.append(result)\n",
    "print(one_cluster_eu_barycenter[0].shape)\n",
    "\n",
    "# 530 * 48 no ntl\n",
    "one_cluster_eu_barycenter_no_ntl = []\n",
    "X_list = get_no_ntl(daily=True)\n",
    "pbar = tqdm(X_list)\n",
    "for X in pbar:\n",
    "    result = euclidean_barycenter(X)\n",
    "    one_cluster_eu_barycenter_no_ntl.append(result)\n",
    "print(one_cluster_eu_barycenter_no_ntl[0].shape)\n",
    "\n",
    "# 530 * 48 only ntl\n",
    "one_cluster_eu_barycenter_only_ntl = []\n",
    "X_list = get_only_ntl(daily=True)\n",
    "pbar = tqdm(X_list)\n",
    "for X in pbar:\n",
    "    result = euclidean_barycenter(X)\n",
    "    one_cluster_eu_barycenter_only_ntl.append(result)\n",
    "print(one_cluster_eu_barycenter_only_ntl[0].shape)"
   ]
  },
  {
   "cell_type": "code",
   "execution_count": 128,
   "id": "5e6db378",
   "metadata": {
    "Collapsed": "false"
   },
   "outputs": [
    {
     "data": {
      "image/png": "[encoded data removed]",
      "text/plain": [
       "<Figure size 432x288 with 1 Axes>"
      ]
     },
     "metadata": {},
     "output_type": "display_data"
    }
   ],
   "source": [
    "# sdtw area 0\n",
    "plt.plot(one_cluster_eu_barycenter[0], label=\"all\")\n",
    "plt.plot(one_cluster_eu_barycenter_no_ntl[0], label=\"no ntl\")\n",
    "plt.plot(one_cluster_eu_barycenter_only_ntl[0], label=\"only ntl\")\n",
    "plt.legend(loc=\"upper left\")\n",
    "plt.xlabel(\"Half hours\")\n",
    "plt.ylabel(\"Electricity\")\n",
    "plt.savefig(\"euclidean barycenter -1*48 1 day in area 0\")"
   ]
  },
  {
   "cell_type": "markdown",
   "id": "41c2e9e3",
   "metadata": {
    "Collapsed": "false"
   },
   "source": [
    "# dba"
   ]
  },
  {
   "cell_type": "markdown",
   "id": "d110af17",
   "metadata": {
    "Collapsed": "false"
   },
   "source": [
    "## dba, -1 * 530 * 48"
   ]
  },
  {
   "cell_type": "code",
   "execution_count": 10,
   "id": "b04c4499",
   "metadata": {
    "Collapsed": "false",
    "collapsed": true,
    "jupyter": {
     "outputs_hidden": true
    }
   },
   "outputs": [
    {
     "data": {
      "application/vnd.jupyter.widget-view+json": {
       "model_id": "63e546fe93a54f52b2c24cb93fd9a9b1",
       "version_major": 2,
       "version_minor": 0
      },
      "text/plain": [
       "  0%|          | 0/10 [00:00<?, ?it/s]"
      ]
     },
     "metadata": {},
     "output_type": "display_data"
    },
    {
     "name": "stdout",
     "output_type": "stream",
     "text": [
      "(530, 48)\n"
     ]
    }
   ],
   "source": [
    "# 530 * 48 all\n",
    "one_cluster_dba_barycenter_48 = []\n",
    "X_list = get_all()\n",
    "pbar = tqdm(X_list)\n",
    "for X in pbar:\n",
    "    result = dtw_barycenter_averaging_subgradient(X, max_iter=20, tol=1e-3)\n",
    "    one_cluster_dba_barycenter_48.append(result)\n",
    "print(one_cluster_dba_barycenter_48[0].shape)"
   ]
  },
  {
   "cell_type": "code",
   "execution_count": 16,
   "id": "1375cb60",
   "metadata": {
    "Collapsed": "false",
    "collapsed": true,
    "jupyter": {
     "outputs_hidden": true
    }
   },
   "outputs": [
    {
     "data": {
      "application/vnd.jupyter.widget-view+json": {
       "model_id": "42d0dc161a7446d19fad2df2f71b82dd",
       "version_major": 2,
       "version_minor": 0
      },
      "text/plain": [
       "  0%|          | 0/10 [00:00<?, ?it/s]"
      ]
     },
     "metadata": {},
     "output_type": "display_data"
    },
    {
     "name": "stdout",
     "output_type": "stream",
     "text": [
      "start 1\n",
      "start 2\n",
      "start 3\n",
      "start 4\n",
      "start 5\n",
      "start 6\n",
      "start 7\n",
      "start 8\n",
      "start 9\n",
      "start 10\n"
     ]
    },
    {
     "data": {
      "application/vnd.jupyter.widget-view+json": {
       "model_id": "f41019b248a94526aa7df22e4065cd9d",
       "version_major": 2,
       "version_minor": 0
      },
      "text/plain": [
       "  0%|          | 0/10 [00:00<?, ?it/s]"
      ]
     },
     "metadata": {},
     "output_type": "display_data"
    },
    {
     "name": "stdout",
     "output_type": "stream",
     "text": [
      "(530, 48)\n"
     ]
    }
   ],
   "source": [
    "# 530 * 48 no ntl\n",
    "one_cluster_dba_barycenter_48_no_ntl = []\n",
    "X_list = get_no_ntl()\n",
    "pbar = tqdm(X_list)\n",
    "for X in pbar:\n",
    "    result = dtw_barycenter_averaging_subgradient(X, max_iter=20, tol=1e-3)\n",
    "    one_cluster_dba_barycenter_48_no_ntl.append(result)\n",
    "print(one_cluster_dba_barycenter_48_no_ntl[0].shape)"
   ]
  },
  {
   "cell_type": "code",
   "execution_count": 17,
   "id": "486c3fa2",
   "metadata": {
    "Collapsed": "false",
    "collapsed": true,
    "jupyter": {
     "outputs_hidden": true
    }
   },
   "outputs": [
    {
     "data": {
      "application/vnd.jupyter.widget-view+json": {
       "model_id": "2a41538b753b479a9455f5d49e1e4c95",
       "version_major": 2,
       "version_minor": 0
      },
      "text/plain": [
       "  0%|          | 0/10 [00:00<?, ?it/s]"
      ]
     },
     "metadata": {},
     "output_type": "display_data"
    },
    {
     "name": "stdout",
     "output_type": "stream",
     "text": [
      "start 1\n",
      "start 2\n",
      "start 3\n",
      "start 4\n",
      "start 5\n",
      "start 6\n",
      "start 7\n",
      "start 8\n",
      "start 9\n",
      "start 10\n"
     ]
    },
    {
     "data": {
      "application/vnd.jupyter.widget-view+json": {
       "model_id": "419a34033a6d4eb78bd3d685a831de8b",
       "version_major": 2,
       "version_minor": 0
      },
      "text/plain": [
       "  0%|          | 0/10 [00:00<?, ?it/s]"
      ]
     },
     "metadata": {},
     "output_type": "display_data"
    },
    {
     "name": "stdout",
     "output_type": "stream",
     "text": [
      "(530, 48)\n"
     ]
    }
   ],
   "source": [
    "# 530 * 48 only ntl\n",
    "one_cluster_dba_barycenter_48_only_ntl = []\n",
    "X_list = get_only_ntl()\n",
    "pbar = tqdm(X_list)\n",
    "for X in pbar:\n",
    "    result = dtw_barycenter_averaging_subgradient(X, max_iter=20, tol=1e-3)\n",
    "    one_cluster_dba_barycenter_48_only_ntl.append(result)\n",
    "print(one_cluster_dba_barycenter_48_only_ntl[0].shape)"
   ]
  },
  {
   "cell_type": "code",
   "execution_count": 19,
   "id": "baa30651",
   "metadata": {
    "Collapsed": "false"
   },
   "outputs": [
    {
     "data": {
      "text/plain": [
       "<matplotlib.legend.Legend at 0x7fb6b04cfd10>"
      ]
     },
     "execution_count": 19,
     "metadata": {},
     "output_type": "execute_result"
    },
    {
     "data": {
      "image/png": "[encoded data removed]",
      "text/plain": [
       "<Figure size 432x288 with 1 Axes>"
      ]
     },
     "metadata": {},
     "output_type": "display_data"
    }
   ],
   "source": [
    "# dba area 0\n",
    "plt.plot(one_cluster_dba_barycenter_48[0][0], label=\"all\")\n",
    "plt.plot(one_cluster_dba_barycenter_48_no_ntl[0][0], label=\"no ntl\")\n",
    "plt.plot(one_cluster_dba_barycenter_48_only_ntl[0][0], label=\"only ntl\")\n",
    "plt.legend(loc=\"upper left\")"
   ]
  },
  {
   "cell_type": "markdown",
   "id": "607fff91",
   "metadata": {
    "Collapsed": "true"
   },
   "source": [
    "## dba, -1 * 48"
   ]
  },
  {
   "cell_type": "code",
   "execution_count": 24,
   "id": "88b6c6b5",
   "metadata": {
    "Collapsed": "false",
    "collapsed": true,
    "jupyter": {
     "outputs_hidden": true
    }
   },
   "outputs": [
    {
     "data": {
      "application/vnd.jupyter.widget-view+json": {
       "model_id": "253a898099194a9cb2d5c6e19d483909",
       "version_major": 2,
       "version_minor": 0
      },
      "text/plain": [
       "  0%|          | 0/10 [00:00<?, ?it/s]"
      ]
     },
     "metadata": {},
     "output_type": "display_data"
    },
    {
     "name": "stdout",
     "output_type": "stream",
     "text": [
      "start 1\n",
      "start 2\n",
      "start 3\n",
      "start 4\n",
      "start 5\n",
      "start 6\n",
      "start 7\n",
      "start 8\n",
      "start 9\n",
      "start 10\n"
     ]
    },
    {
     "data": {
      "application/vnd.jupyter.widget-view+json": {
       "model_id": "1a5d551a7e324b78be1068ecb5dd68cd",
       "version_major": 2,
       "version_minor": 0
      },
      "text/plain": [
       "  0%|          | 0/10 [00:00<?, ?it/s]"
      ]
     },
     "metadata": {},
     "output_type": "display_data"
    },
    {
     "name": "stdout",
     "output_type": "stream",
     "text": [
      "(48, 1)\n"
     ]
    },
    {
     "data": {
      "application/vnd.jupyter.widget-view+json": {
       "model_id": "a0cc7f2d002046fda94ea25591bd4468",
       "version_major": 2,
       "version_minor": 0
      },
      "text/plain": [
       "  0%|          | 0/10 [00:00<?, ?it/s]"
      ]
     },
     "metadata": {},
     "output_type": "display_data"
    },
    {
     "name": "stdout",
     "output_type": "stream",
     "text": [
      "start 1\n",
      "start 2\n",
      "start 3\n",
      "start 4\n",
      "start 5\n",
      "start 6\n",
      "start 7\n",
      "start 8\n",
      "start 9\n",
      "start 10\n"
     ]
    },
    {
     "data": {
      "application/vnd.jupyter.widget-view+json": {
       "model_id": "5a5091dc39b549c0b9becae7038573ac",
       "version_major": 2,
       "version_minor": 0
      },
      "text/plain": [
       "  0%|          | 0/10 [00:00<?, ?it/s]"
      ]
     },
     "metadata": {},
     "output_type": "display_data"
    },
    {
     "name": "stdout",
     "output_type": "stream",
     "text": [
      "(48, 1)\n"
     ]
    },
    {
     "data": {
      "application/vnd.jupyter.widget-view+json": {
       "model_id": "1acef7d5c72146f78a6930fad812721c",
       "version_major": 2,
       "version_minor": 0
      },
      "text/plain": [
       "  0%|          | 0/10 [00:00<?, ?it/s]"
      ]
     },
     "metadata": {},
     "output_type": "display_data"
    },
    {
     "name": "stdout",
     "output_type": "stream",
     "text": [
      "start 1\n",
      "start 2\n",
      "start 3\n",
      "start 4\n",
      "start 5\n",
      "start 6\n",
      "start 7\n",
      "start 8\n",
      "start 9\n",
      "start 10\n"
     ]
    },
    {
     "data": {
      "application/vnd.jupyter.widget-view+json": {
       "model_id": "a7d8ee5364da4b6f8b6d38d59d2b4929",
       "version_major": 2,
       "version_minor": 0
      },
      "text/plain": [
       "  0%|          | 0/10 [00:00<?, ?it/s]"
      ]
     },
     "metadata": {},
     "output_type": "display_data"
    },
    {
     "name": "stderr",
     "output_type": "stream",
     "text": [
      "/opt/conda/lib/python3.7/site-packages/tslearn/barycenters/dba.py:736: ConvergenceWarning: DBA loss is increasing while it should not be. Stopping optimization.\n",
      "  \"Stopping optimization.\", ConvergenceWarning)\n"
     ]
    },
    {
     "name": "stdout",
     "output_type": "stream",
     "text": [
      "(48, 1)\n"
     ]
    }
   ],
   "source": [
    "# 530 * 48 all\n",
    "one_cluster_dba_barycenter = []\n",
    "X_list = get_all(daily=True)\n",
    "pbar = tqdm(X_list)\n",
    "for X in pbar:\n",
    "    result = dtw_barycenter_averaging_subgradient(X, max_iter=20, tol=1e-3)\n",
    "    one_cluster_dba_barycenter.append(result)\n",
    "print(one_cluster_dba_barycenter[0].shape)\n",
    "\n",
    "# 530 * 48 no ntl\n",
    "one_cluster_dba_barycenter_no_ntl = []\n",
    "X_list = get_no_ntl(daily=True)\n",
    "pbar = tqdm(X_list)\n",
    "for X in pbar:\n",
    "    result = dtw_barycenter_averaging_subgradient(X, max_iter=20, tol=1e-3)\n",
    "    one_cluster_dba_barycenter_no_ntl.append(result)\n",
    "print(one_cluster_dba_barycenter_no_ntl[0].shape)\n",
    "\n",
    "# 530 * 48 only ntl\n",
    "one_cluster_dba_barycenter_only_ntl = []\n",
    "X_list = get_only_ntl(daily=True)\n",
    "pbar = tqdm(X_list)\n",
    "for X in pbar:\n",
    "    result = dtw_barycenter_averaging_subgradient(X, max_iter=20, tol=1e-3)\n",
    "    one_cluster_dba_barycenter_only_ntl.append(result)\n",
    "print(one_cluster_dba_barycenter_only_ntl[0].shape)"
   ]
  },
  {
   "cell_type": "code",
   "execution_count": 25,
   "id": "bab5f692",
   "metadata": {
    "Collapsed": "false"
   },
   "outputs": [
    {
     "data": {
      "text/plain": [
       "<matplotlib.legend.Legend at 0x7fb6b04a30d0>"
      ]
     },
     "execution_count": 25,
     "metadata": {},
     "output_type": "execute_result"
    },
    {
     "data": {
      "image/png": "[encoded data removed]",
      "text/plain": [
       "<Figure size 432x288 with 1 Axes>"
      ]
     },
     "metadata": {},
     "output_type": "display_data"
    }
   ],
   "source": [
    "# dba area 0\n",
    "plt.plot(one_cluster_dba_barycenter[0], label=\"all\")\n",
    "plt.plot(one_cluster_dba_barycenter_no_ntl[0], label=\"no ntl\")\n",
    "plt.plot(one_cluster_dba_barycenter_only_ntl[0], label=\"only ntl\")\n",
    "plt.legend(loc=\"upper left\")"
   ]
  },
  {
   "cell_type": "markdown",
   "id": "40b610ef",
   "metadata": {
    "Collapsed": "false"
   },
   "source": [
    "# sdtw"
   ]
  },
  {
   "cell_type": "markdown",
   "id": "82a2c50c",
   "metadata": {
    "Collapsed": "true"
   },
   "source": [
    "## sdtw, -1 * 530 * 48"
   ]
  },
  {
   "cell_type": "code",
   "execution_count": 36,
   "id": "4c63ae9e",
   "metadata": {
    "Collapsed": "false"
   },
   "outputs": [
    {
     "data": {
      "application/vnd.jupyter.widget-view+json": {
       "model_id": "ee1877a7b6bb407da6a4886cdba51984",
       "version_major": 2,
       "version_minor": 0
      },
      "text/plain": [
       "  0%|          | 0/10 [00:00<?, ?it/s]"
      ]
     },
     "metadata": {},
     "output_type": "display_data"
    },
    {
     "data": {
      "application/vnd.jupyter.widget-view+json": {
       "model_id": "9324ec6ec0114546910b4bb7e23eec51",
       "version_major": 2,
       "version_minor": 0
      },
      "text/plain": [
       "  0%|          | 0/10 [00:00<?, ?it/s]"
      ]
     },
     "metadata": {},
     "output_type": "display_data"
    },
    {
     "name": "stdout",
     "output_type": "stream",
     "text": [
      "(530, 48)\n"
     ]
    },
    {
     "data": {
      "application/vnd.jupyter.widget-view+json": {
       "model_id": "409224fa55bb4be193cdaae5c2b3bebe",
       "version_major": 2,
       "version_minor": 0
      },
      "text/plain": [
       "  0%|          | 0/10 [00:00<?, ?it/s]"
      ]
     },
     "metadata": {},
     "output_type": "display_data"
    },
    {
     "data": {
      "application/vnd.jupyter.widget-view+json": {
       "model_id": "63a9e04ef60d4c329f09557e4830f2f8",
       "version_major": 2,
       "version_minor": 0
      },
      "text/plain": [
       "  0%|          | 0/10 [00:00<?, ?it/s]"
      ]
     },
     "metadata": {},
     "output_type": "display_data"
    },
    {
     "name": "stdout",
     "output_type": "stream",
     "text": [
      "(530, 48)\n"
     ]
    },
    {
     "data": {
      "application/vnd.jupyter.widget-view+json": {
       "model_id": "3622d73adbb04760a13c257de1cf6260",
       "version_major": 2,
       "version_minor": 0
      },
      "text/plain": [
       "  0%|          | 0/10 [00:00<?, ?it/s]"
      ]
     },
     "metadata": {},
     "output_type": "display_data"
    },
    {
     "data": {
      "application/vnd.jupyter.widget-view+json": {
       "model_id": "a44da9ce86fc416e96f4d4d80f862b50",
       "version_major": 2,
       "version_minor": 0
      },
      "text/plain": [
       "  0%|          | 0/10 [00:00<?, ?it/s]"
      ]
     },
     "metadata": {},
     "output_type": "display_data"
    },
    {
     "name": "stdout",
     "output_type": "stream",
     "text": [
      "(530, 48)\n"
     ]
    }
   ],
   "source": [
    "# 530 * 48 all\n",
    "one_cluster_sdtw_barycenter_48 = []\n",
    "X_list = get_all()\n",
    "pbar = tqdm(X_list)\n",
    "for X in pbar:\n",
    "    result = softdtw_barycenter(X, max_iter=20, tol=1e-3)\n",
    "    one_cluster_sdtw_barycenter_48.append(result)\n",
    "print(one_cluster_sdtw_barycenter_48[0].shape)\n",
    "\n",
    "# 530 * 48 no ntl\n",
    "one_cluster_sdtw_barycenter_48_no_ntl = []\n",
    "X_list = get_no_ntl()\n",
    "pbar = tqdm(X_list)\n",
    "for X in pbar:\n",
    "    result = softdtw_barycenter(X, max_iter=20, tol=1e-3)\n",
    "    one_cluster_sdtw_barycenter_48_no_ntl.append(result)\n",
    "print(one_cluster_sdtw_barycenter_48_no_ntl[0].shape)\n",
    "\n",
    "# 530 * 48 only ntl\n",
    "one_cluster_sdtw_barycenter_48_only_ntl = []\n",
    "X_list = get_only_ntl()\n",
    "pbar = tqdm(X_list)\n",
    "for X in pbar:\n",
    "    result = softdtw_barycenter(X, max_iter=20, tol=1e-3)\n",
    "    one_cluster_sdtw_barycenter_48_only_ntl.append(result)\n",
    "print(one_cluster_sdtw_barycenter_48_only_ntl[0].shape)"
   ]
  },
  {
   "cell_type": "code",
   "execution_count": 47,
   "id": "1b354783",
   "metadata": {
    "Collapsed": "false"
   },
   "outputs": [
    {
     "data": {
      "image/png": "[encoded data removed]",
      "text/plain": [
       "<Figure size 360x144 with 1 Axes>"
      ]
     },
     "metadata": {},
     "output_type": "display_data"
    },
    {
     "data": {
      "image/png": "[encoded data removed]",
      "text/plain": [
       "<Figure size 360x144 with 1 Axes>"
      ]
     },
     "metadata": {},
     "output_type": "display_data"
    },
    {
     "data": {
      "image/png": "[encoded data removed]",
      "text/plain": [
       "<Figure size 360x144 with 1 Axes>"
      ]
     },
     "metadata": {},
     "output_type": "display_data"
    },
    {
     "data": {
      "image/png": "[encoded data removed]",
      "text/plain": [
       "<Figure size 360x144 with 1 Axes>"
      ]
     },
     "metadata": {},
     "output_type": "display_data"
    },
    {
     "data": {
      "image/png": "[encoded data removed]",
      "text/plain": [
       "<Figure size 360x144 with 1 Axes>"
      ]
     },
     "metadata": {},
     "output_type": "display_data"
    },
    {
     "data": {
      "image/png": "[encoded data removed]",
      "text/plain": [
       "<Figure size 360x144 with 1 Axes>"
      ]
     },
     "metadata": {},
     "output_type": "display_data"
    },
    {
     "data": {
      "image/png": "[encoded data removed]",
      "text/plain": [
       "<Figure size 360x144 with 1 Axes>"
      ]
     },
     "metadata": {},
     "output_type": "display_data"
    },
    {
     "data": {
      "image/png": "[encoded data removed]",
      "text/plain": [
       "<Figure size 360x144 with 1 Axes>"
      ]
     },
     "metadata": {},
     "output_type": "display_data"
    },
    {
     "data": {
      "image/png": "[encoded data removed]",
      "text/plain": [
       "<Figure size 360x144 with 1 Axes>"
      ]
     },
     "metadata": {},
     "output_type": "display_data"
    },
    {
     "data": {
      "image/png": "[encoded data removed]",
      "text/plain": [
       "<Figure size 360x144 with 1 Axes>"
      ]
     },
     "metadata": {},
     "output_type": "display_data"
    }
   ],
   "source": [
    "# sdtw area 0\n",
    "for i in range(10):\n",
    "    plt.figure(figsize=(5,2))\n",
    "    plt.plot(one_cluster_sdtw_barycenter_48[i][0], label=\"all\")\n",
    "    plt.plot(one_cluster_sdtw_barycenter_48_no_ntl[i][0], label=\"no ntl\")\n",
    "    plt.plot(one_cluster_sdtw_barycenter_48_only_ntl[i][0], label=\"only ntl\")\n",
    "    plt.legend(loc=\"upper left\")\n",
    "    plt.show()"
   ]
  },
  {
   "cell_type": "code",
   "execution_count": 38,
   "id": "d20958b5",
   "metadata": {
    "Collapsed": "false"
   },
   "outputs": [
    {
     "data": {
      "image/png": "[encoded data removed]",
      "text/plain": [
       "<Figure size 432x288 with 1 Axes>"
      ]
     },
     "metadata": {},
     "output_type": "display_data"
    }
   ],
   "source": [
    "plt.plot(one_cluster_sdtw_barycenter_48[0][0], label=\"all\")\n",
    "plt.plot(one_cluster_sdtw_barycenter_48_no_ntl[0][0], label=\"no ntl\")\n",
    "plt.plot(one_cluster_sdtw_barycenter_48_only_ntl[0][0], label=\"only ntl\")\n",
    "plt.legend(loc=\"upper left\")\n",
    "plt.xlabel(\"Half hours\")\n",
    "plt.ylabel(\"Electricity\")\n",
    "plt.savefig(\"sdtw barycenter 530*48 1 day in area 0\")"
   ]
  },
  {
   "cell_type": "code",
   "execution_count": 39,
   "id": "57bdde74",
   "metadata": {
    "Collapsed": "false"
   },
   "outputs": [
    {
     "name": "stdout",
     "output_type": "stream",
     "text": [
      "10\n",
      "21\n",
      "530\n",
      "48\n"
     ]
    }
   ],
   "source": [
    "print(len(X_list))\n",
    "print(len(X_list[0]))\n",
    "print(len(X_list[0][0]))\n",
    "print(len(X_list[0][0][0]))"
   ]
  },
  {
   "cell_type": "code",
   "execution_count": 40,
   "id": "17c16df7",
   "metadata": {
    "Collapsed": "false"
   },
   "outputs": [
    {
     "name": "stdout",
     "output_type": "stream",
     "text": [
      "10\n",
      "530\n",
      "48\n"
     ]
    }
   ],
   "source": [
    "print(len(one_cluster_sdtw_barycenter_48))\n",
    "print(len(one_cluster_sdtw_barycenter_48[0]))\n",
    "print(len(one_cluster_sdtw_barycenter_48[0][0]))"
   ]
  },
  {
   "cell_type": "code",
   "execution_count": 41,
   "id": "88857160",
   "metadata": {
    "Collapsed": "false"
   },
   "outputs": [
    {
     "data": {
      "image/png": "[encoded data removed]",
      "text/plain": [
       "<Figure size 432x288 with 1 Axes>"
      ]
     },
     "metadata": {},
     "output_type": "display_data"
    }
   ],
   "source": [
    "continous = np.empty(0)\n",
    "continous_no_ntl = np.empty(0)\n",
    "continous_only_ntl = np.empty(0)\n",
    "for i in range(5): #前五天\n",
    "    plt.plot(one_cluster_sdtw_barycenter_48[0][i], label=i)\n",
    "    continous = np.append(continous, one_cluster_sdtw_barycenter_48[0][i][0:48])\n",
    "    continous_no_ntl = np.append(continous_no_ntl, one_cluster_sdtw_barycenter_48_no_ntl[0][i][0:48])\n",
    "    continous_only_ntl = np.append(continous_only_ntl, one_cluster_sdtw_barycenter_48_only_ntl[0][i][0:48])\n",
    "    plt.legend(loc=\"upper left\")"
   ]
  },
  {
   "cell_type": "code",
   "execution_count": 42,
   "id": "bce430dd",
   "metadata": {
    "Collapsed": "false"
   },
   "outputs": [
    {
     "data": {
      "image/png": "[encoded data removed]",
      "text/plain": [
       "<Figure size 720x216 with 1 Axes>"
      ]
     },
     "metadata": {},
     "output_type": "display_data"
    }
   ],
   "source": [
    "# sdtw area 0\n",
    "plt.figure(figsize=(10,3))\n",
    "plt.plot(continous, label=\"all\")\n",
    "plt.plot(continous_no_ntl, label=\"no ntl\")\n",
    "plt.plot(continous_only_ntl, label=\"only ntl\")\n",
    "plt.legend(loc=\"upper left\")\n",
    "plt.xlabel(\"Half hours\")\n",
    "plt.ylabel(\"Electricity\")\n",
    "plt.savefig(\"sdtw barycenter 530*48 5 day in area 0\")"
   ]
  },
  {
   "cell_type": "markdown",
   "id": "edd0f7c4",
   "metadata": {
    "Collapsed": "false"
   },
   "source": [
    "## sdtw, -1 * 48"
   ]
  },
  {
   "cell_type": "code",
   "execution_count": null,
   "id": "ae37fbce",
   "metadata": {
    "Collapsed": "false"
   },
   "outputs": [
    {
     "data": {
      "application/vnd.jupyter.widget-view+json": {
       "model_id": "dec5e0e82131429b8aee165bed7c7427",
       "version_major": 2,
       "version_minor": 0
      },
      "text/plain": [
       "  0%|          | 0/10 [00:00<?, ?it/s]"
      ]
     },
     "metadata": {},
     "output_type": "display_data"
    },
    {
     "data": {
      "application/vnd.jupyter.widget-view+json": {
       "model_id": "c9efcabd3c044121bc46fa6a09cd1014",
       "version_major": 2,
       "version_minor": 0
      },
      "text/plain": [
       "  0%|          | 0/10 [00:00<?, ?it/s]"
      ]
     },
     "metadata": {},
     "output_type": "display_data"
    }
   ],
   "source": [
    "# 530 * 48 all\n",
    "one_cluster_sdtw_barycenter = []\n",
    "X_list = get_all(daily=True)\n",
    "pbar = tqdm(X_list)\n",
    "for X in pbar:\n",
    "    result = softdtw_barycenter(X, max_iter=20, tol=1e-3)\n",
    "    one_cluster_sdtw_barycenter.append(result)\n",
    "print(one_cluster_sdtw_barycenter[0].shape)\n",
    "\n",
    "# 530 * 48 no ntl\n",
    "one_cluster_sdtw_barycenter_no_ntl = []\n",
    "X_list = get_no_ntl(daily=True)\n",
    "pbar = tqdm(X_list)\n",
    "for X in pbar:\n",
    "    result = softdtw_barycenter(X, max_iter=20, tol=1e-3)\n",
    "    one_cluster_sdtw_barycenter_no_ntl.append(result)\n",
    "print(one_cluster_sdtw_barycenter_no_ntl[0].shape)\n",
    "\n",
    "# 530 * 48 only ntl\n",
    "one_cluster_sdtw_barycenter_only_ntl = []\n",
    "X_list = get_only_ntl(daily=True)\n",
    "pbar = tqdm(X_list)\n",
    "for X in pbar:\n",
    "    result = softdtw_barycenter(X, max_iter=20, tol=1e-3)\n",
    "    one_cluster_sdtw_barycenter_only_ntl.append(result)\n",
    "print(one_cluster_sdtw_barycenter_only_ntl[0].shape)"
   ]
  },
  {
   "cell_type": "code",
   "execution_count": null,
   "id": "e11c9a76",
   "metadata": {
    "Collapsed": "false"
   },
   "outputs": [],
   "source": [
    "# sdtw area 0\n",
    "plt.plot(one_cluster_sdtw_barycenter[0], label=\"all\")\n",
    "plt.plot(one_cluster_sdtw_barycenter_no_ntl[0], label=\"no ntl\")\n",
    "plt.plot(one_cluster_sdtw_barycenter_only_ntl[0], label=\"only ntl\")\n",
    "plt.legend(loc=\"upper left\")\n",
    "plt.xlabel(\"Half hours\")\n",
    "plt.ylabel(\"Electricity\")\n",
    "plt.savefig(\"sdtw barycenter -1*48 1 day in area 0\")"
   ]
  },
  {
   "cell_type": "code",
   "execution_count": null,
   "id": "ae2d1e37",
   "metadata": {
    "Collapsed": "false"
   },
   "outputs": [],
   "source": [
    "print(len(one_cluster_sdtw_barycenter))\n",
    "print(len(one_cluster_sdtw_barycenter[0]))\n",
    "print(len(one_cluster_sdtw_barycenter[0][0]))"
   ]
  },
  {
   "cell_type": "code",
   "execution_count": null,
   "id": "51c3ba73",
   "metadata": {
    "Collapsed": "false"
   },
   "outputs": [],
   "source": [
    "continous = np.empty(0)\n",
    "continous_no_ntl = np.empty(0)\n",
    "continous_only_ntl = np.empty(0)\n",
    "for i in range(10): #前五天\n",
    "    plt.plot(one_cluster_sdtw_barycenter[i], label=i)\n",
    "    continous = np.append(continous, one_cluster_sdtw_barycenter[i][0:48])\n",
    "    continous_no_ntl = np.append(continous_no_ntl, one_cluster_sdtw_barycenter_no_ntl[i][0:48])\n",
    "    continous_only_ntl = np.append(continous_only_ntl, one_cluster_sdtw_barycenter_only_ntl[i][0:48])\n",
    "    plt.legend(loc=\"upper left\")"
   ]
  },
  {
   "cell_type": "code",
   "execution_count": null,
   "id": "17eb4b43",
   "metadata": {
    "Collapsed": "false"
   },
   "outputs": [],
   "source": [
    "# sdtw area 0\n",
    "plt.figure(figsize=(10,3))\n",
    "plt.plot(continous, label=\"all\")\n",
    "plt.plot(continous_no_ntl, label=\"no ntl\")\n",
    "plt.plot(continous_only_ntl, label=\"only ntl\")\n",
    "plt.legend(loc=\"upper left\")\n",
    "plt.xlabel(\"Half hours\")\n",
    "plt.ylabel(\"Electricity\")\n",
    "plt.savefig(\"sdtw barycenter -1*48 10 day in area 0\")"
   ]
  },
  {
   "cell_type": "code",
   "execution_count": 35,
   "id": "b674ace8",
   "metadata": {
    "Collapsed": "false"
   },
   "outputs": [
    {
     "name": "stdout",
     "output_type": "stream",
     "text": [
      "finish\n"
     ]
    }
   ],
   "source": [
    "print('finish')"
   ]
  },
  {
   "cell_type": "markdown",
   "id": "825939a6",
   "metadata": {
    "Collapsed": "false"
   },
   "source": [
    "# save results"
   ]
  },
  {
   "cell_type": "markdown",
   "id": "1131fb1f",
   "metadata": {
    "Collapsed": "false"
   },
   "source": [
    "## 530 * 48"
   ]
  },
  {
   "cell_type": "code",
   "execution_count": 130,
   "id": "066a4b60",
   "metadata": {
    "Collapsed": "false"
   },
   "outputs": [],
   "source": [
    "#euclidean\n",
    "df = pd.DataFrame(np.array(one_cluster_eu_barycenter_48).reshape(10, 530*48))\n",
    "df.shape\n",
    "e = df.to_csv(index=False)\n",
    "f = open('CSV/tsc/one_cluster_eu_barycenter_48.csv','w')\n",
    "f.write(e) #Give your csv text here.\n",
    "f.close()\n",
    "\n",
    "df = pd.DataFrame(np.array(one_cluster_eu_barycenter_48_no_ntl).reshape(10, 530*48))\n",
    "df.shape\n",
    "e = df.to_csv(index=False)\n",
    "f = open('CSV/tsc/one_cluster_eu_barycenter_48_no_ntl.csv','w')\n",
    "f.write(e) #Give your csv text here.\n",
    "f.close()\n",
    "\n",
    "df = pd.DataFrame(np.array(one_cluster_eu_barycenter_48_only_ntl).reshape(10, 530*48))\n",
    "df.shape\n",
    "e = df.to_csv(index=False)\n",
    "f = open('CSV/tsc/one_cluster_eu_barycenter_48_only_ntl.csv','w')\n",
    "f.write(e) #Give your csv text here.\n",
    "f.close()"
   ]
  },
  {
   "cell_type": "code",
   "execution_count": 30,
   "id": "3fa60c76",
   "metadata": {
    "Collapsed": "false"
   },
   "outputs": [],
   "source": [
    "#dba\n",
    "df = pd.DataFrame(np.array(one_cluster_dba_barycenter_48).reshape(10, 530*48))\n",
    "df.shape\n",
    "e = df.to_csv(index=False)\n",
    "f = open('CSV/tsc/one_cluster_dba_barycenter_48.csv','w')\n",
    "f.write(e) #Give your csv text here.\n",
    "f.close()\n",
    "\n",
    "df = pd.DataFrame(np.array(one_cluster_dba_barycenter_48_no_ntl).reshape(10, 530*48))\n",
    "df.shape\n",
    "e = df.to_csv(index=False)\n",
    "f = open('CSV/tsc/one_cluster_dba_barycenter_48_no_ntl.csv','w')\n",
    "f.write(e) #Give your csv text here.\n",
    "f.close()\n",
    "\n",
    "df = pd.DataFrame(np.array(one_cluster_dba_barycenter_48_only_ntl).reshape(10, 530*48))\n",
    "df.shape\n",
    "e = df.to_csv(index=False)\n",
    "f = open('CSV/tsc/one_cluster_dba_barycenter_48_only_ntl.csv','w')\n",
    "f.write(e) #Give your csv text here.\n",
    "f.close()"
   ]
  },
  {
   "cell_type": "code",
   "execution_count": 43,
   "id": "d70607c7",
   "metadata": {
    "Collapsed": "false"
   },
   "outputs": [],
   "source": [
    "#sdtw\n",
    "df = pd.DataFrame(np.array(one_cluster_sdtw_barycenter_48).reshape(10, 530*48))\n",
    "df.shape\n",
    "e = df.to_csv(index=False)\n",
    "f = open('CSV/tsc/one_cluster_sdtw_barycenter_48.csv','w')\n",
    "f.write(e) #Give your csv text here.\n",
    "f.close()\n",
    "\n",
    "df = pd.DataFrame(np.array(one_cluster_sdtw_barycenter_48_no_ntl).reshape(10, 530*48))\n",
    "df.shape\n",
    "e = df.to_csv(index=False)\n",
    "f = open('CSV/tsc/one_cluster_sdtw_barycenter_48_no_ntl.csv','w')\n",
    "f.write(e) #Give your csv text here.\n",
    "f.close()\n",
    "\n",
    "df = pd.DataFrame(np.array(one_cluster_sdtw_barycenter_48_only_ntl).reshape(10, 530*48))\n",
    "df.shape\n",
    "e = df.to_csv(index=False)\n",
    "f = open('CSV/tsc/one_cluster_sdtw_barycenter_48_only_ntl.csv','w')\n",
    "f.write(e) #Give your csv text here.\n",
    "f.close()"
   ]
  },
  {
   "cell_type": "markdown",
   "id": "ffbbb0c3",
   "metadata": {
    "Collapsed": "false"
   },
   "source": [
    "## -1 * 48"
   ]
  },
  {
   "cell_type": "code",
   "execution_count": 137,
   "id": "73acf089",
   "metadata": {
    "Collapsed": "false"
   },
   "outputs": [],
   "source": [
    "#euclidean\n",
    "df = pd.DataFrame(np.array(one_cluster_eu_barycenter).reshape(10,48))\n",
    "df.shape\n",
    "e = df.to_csv(index=False)\n",
    "f = open('CSV/tsc/one_cluster_eu_barycenter.csv','w')\n",
    "f.write(e) #Give your csv text here.\n",
    "f.close()\n",
    "\n",
    "df = pd.DataFrame(np.array(one_cluster_eu_barycenter_no_ntl).reshape(10, 48))\n",
    "df.shape\n",
    "e = df.to_csv(index=False)\n",
    "f = open('CSV/tsc/one_cluster_eu_barycenter_no_ntl.csv','w')\n",
    "f.write(e) #Give your csv text here.\n",
    "f.close()\n",
    "\n",
    "df = pd.DataFrame(np.array(one_cluster_eu_barycenter_only_ntl).reshape(10, 48))\n",
    "df.shape\n",
    "e = df.to_csv(index=False)\n",
    "f = open('CSV/tsc/one_cluster_eu_barycenter_only_ntl.csv','w')\n",
    "f.write(e) #Give your csv text here.\n",
    "f.close()"
   ]
  },
  {
   "cell_type": "code",
   "execution_count": 140,
   "id": "555e58ea",
   "metadata": {
    "Collapsed": "false"
   },
   "outputs": [],
   "source": [
    "#dba\n",
    "df = pd.DataFrame(np.array(one_cluster_dba_barycenter).reshape(10, 48))\n",
    "df.shape\n",
    "e = df.to_csv(index=False)\n",
    "f = open('CSV/tsc/one_cluster_dba_barycenter.csv','w')\n",
    "f.write(e) #Give your csv text here.\n",
    "f.close()\n",
    "\n",
    "df = pd.DataFrame(np.array(one_cluster_dba_barycenter_no_ntl).reshape(10, 48))\n",
    "df.shape\n",
    "e = df.to_csv(index=False)\n",
    "f = open('CSV/tsc/one_cluster_dba_barycenter_no_ntl.csv','w')\n",
    "f.write(e) #Give your csv text here.\n",
    "f.close()\n",
    "\n",
    "df = pd.DataFrame(np.array(one_cluster_dba_barycenter_only_ntl).reshape(10, 48))\n",
    "df.shape\n",
    "e = df.to_csv(index=False)\n",
    "f = open('CSV/tsc/one_cluster_dba_barycenter_only_ntl.csv','w')\n",
    "f.write(e) #Give your csv text here.\n",
    "f.close()"
   ]
  },
  {
   "cell_type": "code",
   "execution_count": 141,
   "id": "9da91ad4",
   "metadata": {
    "Collapsed": "false"
   },
   "outputs": [],
   "source": [
    "#sdtw\n",
    "df = pd.DataFrame(np.array(one_cluster_sdtw_barycenter).reshape(10, 48))\n",
    "df.shape\n",
    "e = df.to_csv(index=False)\n",
    "f = open('CSV/tsc/one_cluster_sdtw_barycenter.csv','w')\n",
    "f.write(e) #Give your csv text here.\n",
    "f.close()\n",
    "\n",
    "df = pd.DataFrame(np.array(one_cluster_sdtw_barycenter_no_ntl).reshape(10, 48))\n",
    "df.shape\n",
    "e = df.to_csv(index=False)\n",
    "f = open('CSV/tsc/one_cluster_sdtw_barycenter_no_ntl.csv','w')\n",
    "f.write(e) #Give your csv text here.\n",
    "f.close()\n",
    "\n",
    "df = pd.DataFrame(np.array(one_cluster_sdtw_barycenter_only_ntl).reshape(10, 48))\n",
    "df.shape\n",
    "e = df.to_csv(index=False)\n",
    "f = open('CSV/tsc/one_cluster_sdtw_barycenter_only_ntl.csv','w')\n",
    "f.write(e) #Give your csv text here.\n",
    "f.close()"
   ]
  }
 ],
 "metadata": {
  "environment": {
   "name": "common-cpu.m71",
   "type": "gcloud",
   "uri": "gcr.io/deeplearning-platform-release/base-cpu:m71"
  },
  "kernelspec": {
   "display_name": "Python 3",
   "language": "python",
   "name": "python3"
  },
  "language_info": {
   "codemirror_mode": {
    "name": "ipython",
    "version": 3
   },
   "file_extension": ".py",
   "mimetype": "text/x-python",
   "name": "python",
   "nbconvert_exporter": "python",
   "pygments_lexer": "ipython3",
   "version": "3.7.10"
  },
  "widgets": {
   "application/vnd.jupyter.widget-state+json": {
    "state": {
     "0160ba22307042bfb988b07440409846": {
      "model_module": "@jupyter-widgets/base",
      "model_module_version": "1.2.0",
      "model_name": "LayoutModel",
      "state": {}
     },
     "02782f154c3046d79087e9b7a4f0d745": {
      "model_module": "@jupyter-widgets/base",
      "model_module_version": "1.2.0",
      "model_name": "LayoutModel",
      "state": {}
     },
     "028793704a3941c9b7db6da55ffb89bc": {
      "model_module": "@jupyter-widgets/controls",
      "model_module_version": "1.5.0",
      "model_name": "FloatProgressModel",
      "state": {
       "bar_style": "danger",
       "layout": "IPY_MODEL_79a5ca3f80e4496ea044be5ebd4317f8",
       "max": 10,
       "style": "IPY_MODEL_d888fe3231c0439faf5c85559913b7e1"
      }
     },
     "058ae65112404c158a405f3b0277ff64": {
      "model_module": "@jupyter-widgets/controls",
      "model_module_version": "1.5.0",
      "model_name": "FloatProgressModel",
      "state": {
       "bar_style": "success",
       "layout": "IPY_MODEL_805a7b86c87448339f8f146a506ae598",
       "max": 10,
       "style": "IPY_MODEL_5a54032159624240a3041fd027ab13c2",
       "value": 10
      }
     },
     "05d68b705bab4625a26d8b2a12fee69a": {
      "model_module": "@jupyter-widgets/base",
      "model_module_version": "1.2.0",
      "model_name": "LayoutModel",
      "state": {}
     },
     "05f5dc43433d4fd1b23c6d73ef90c65a": {
      "model_module": "@jupyter-widgets/controls",
      "model_module_version": "1.5.0",
      "model_name": "FloatProgressModel",
      "state": {
       "bar_style": "success",
       "layout": "IPY_MODEL_977d38daabca4230a909088fa7cb2475",
       "max": 10,
       "style": "IPY_MODEL_b40702a4242146b38aa9c627420ba620",
       "value": 10
      }
     },
     "06e44a46142047e3b9327ff87011c41d": {
      "model_module": "@jupyter-widgets/base",
      "model_module_version": "1.2.0",
      "model_name": "LayoutModel",
      "state": {}
     },
     "08624ba7d98840dcb0e72a0bb1d944a0": {
      "model_module": "@jupyter-widgets/controls",
      "model_module_version": "1.5.0",
      "model_name": "ProgressStyleModel",
      "state": {
       "description_width": ""
      }
     },
     "08dd9be0a4d849a8a40c607df2114e72": {
      "model_module": "@jupyter-widgets/controls",
      "model_module_version": "1.5.0",
      "model_name": "HTMLModel",
      "state": {
       "layout": "IPY_MODEL_248bf3d584e643158c7f14f5ccb1473b",
       "style": "IPY_MODEL_12ddb635801d4b339f12455319a41e3c",
       "value": " 0/10 [02:24&lt;?, ?it/s]"
      }
     },
     "0b47b07572ed4e02aed4e5afd594caa3": {
      "model_module": "@jupyter-widgets/controls",
      "model_module_version": "1.5.0",
      "model_name": "HBoxModel",
      "state": {
       "children": [
        "IPY_MODEL_db1bed8af1734d5392d40eb12ff92c96",
        "IPY_MODEL_058ae65112404c158a405f3b0277ff64",
        "IPY_MODEL_fdb2c57eadee4a8ab6c5d8f9414aaebe"
       ],
       "layout": "IPY_MODEL_9045e6bfe63b464d851b8d732cb64231"
      }
     },
     "0b5d9849ddfd49d98359089c00d62ce0": {
      "model_module": "@jupyter-widgets/controls",
      "model_module_version": "1.5.0",
      "model_name": "ProgressStyleModel",
      "state": {
       "description_width": ""
      }
     },
     "0be667dd898e46998c698c18cdba9d5c": {
      "model_module": "@jupyter-widgets/controls",
      "model_module_version": "1.5.0",
      "model_name": "HTMLModel",
      "state": {
       "layout": "IPY_MODEL_92bfc1feb9a34d8e925dfac93f2f3106",
       "style": "IPY_MODEL_61c38ea9a5fb4bbba7fc81c7b8b7976f",
       "value": "100%"
      }
     },
     "0c9ef0080b704f5fab26decaa417609a": {
      "model_module": "@jupyter-widgets/base",
      "model_module_version": "1.2.0",
      "model_name": "LayoutModel",
      "state": {}
     },
     "0d6f295743ab44a39c1025560add6c42": {
      "model_module": "@jupyter-widgets/controls",
      "model_module_version": "1.5.0",
      "model_name": "DescriptionStyleModel",
      "state": {
       "description_width": ""
      }
     },
     "0f2c28cb90eb4eca9ed1f34b1901fb3e": {
      "model_module": "@jupyter-widgets/base",
      "model_module_version": "1.2.0",
      "model_name": "LayoutModel",
      "state": {}
     },
     "111c5b98d9434b62883b1c5ee498bcd6": {
      "model_module": "@jupyter-widgets/base",
      "model_module_version": "1.2.0",
      "model_name": "LayoutModel",
      "state": {}
     },
     "113e5980129c4b25841b36885c37a8f4": {
      "model_module": "@jupyter-widgets/controls",
      "model_module_version": "1.5.0",
      "model_name": "DescriptionStyleModel",
      "state": {
       "description_width": ""
      }
     },
     "12184b1d9a8d4f3ebe346d6b211acd0d": {
      "model_module": "@jupyter-widgets/base",
      "model_module_version": "1.2.0",
      "model_name": "LayoutModel",
      "state": {}
     },
     "12ddb635801d4b339f12455319a41e3c": {
      "model_module": "@jupyter-widgets/controls",
      "model_module_version": "1.5.0",
      "model_name": "DescriptionStyleModel",
      "state": {
       "description_width": ""
      }
     },
     "1301f716de704dfca857c8f91d0493d5": {
      "model_module": "@jupyter-widgets/base",
      "model_module_version": "1.2.0",
      "model_name": "LayoutModel",
      "state": {}
     },
     "13446290696444c1935ac1c08ac03cef": {
      "model_module": "@jupyter-widgets/controls",
      "model_module_version": "1.5.0",
      "model_name": "HTMLModel",
      "state": {
       "layout": "IPY_MODEL_38de92d684e34693915ba4756b0ec10a",
       "style": "IPY_MODEL_ab2a84ad451e4b6fa3bfbf6a30c8d14f",
       "value": "  0%"
      }
     },
     "13e7eef8bb2b48dfbba21bdb0ded491f": {
      "model_module": "@jupyter-widgets/controls",
      "model_module_version": "1.5.0",
      "model_name": "DescriptionStyleModel",
      "state": {
       "description_width": ""
      }
     },
     "150a51da23f74812ad6f0cab3efb5df0": {
      "model_module": "@jupyter-widgets/base",
      "model_module_version": "1.2.0",
      "model_name": "LayoutModel",
      "state": {}
     },
     "1544fd1539e3433a8753a41f088c2839": {
      "model_module": "@jupyter-widgets/base",
      "model_module_version": "1.2.0",
      "model_name": "LayoutModel",
      "state": {}
     },
     "182b778ab5f6410aac400723ce7b4297": {
      "model_module": "@jupyter-widgets/controls",
      "model_module_version": "1.5.0",
      "model_name": "DescriptionStyleModel",
      "state": {
       "description_width": ""
      }
     },
     "1a0043f84b4d45c5ae71e68256c821d7": {
      "model_module": "@jupyter-widgets/base",
      "model_module_version": "1.2.0",
      "model_name": "LayoutModel",
      "state": {}
     },
     "1a40d9b87ff942b9802bc6081b6f30db": {
      "model_module": "@jupyter-widgets/controls",
      "model_module_version": "1.5.0",
      "model_name": "FloatProgressModel",
      "state": {
       "bar_style": "danger",
       "layout": "IPY_MODEL_64f5ea355f234fb39423c29fc6d9d3ce",
       "max": 10,
       "style": "IPY_MODEL_0b5d9849ddfd49d98359089c00d62ce0"
      }
     },
     "1b4e2fbcee5142f79b46bed4d877eea3": {
      "model_module": "@jupyter-widgets/base",
      "model_module_version": "1.2.0",
      "model_name": "LayoutModel",
      "state": {}
     },
     "1b79334c5dff494fa04c80671711d071": {
      "model_module": "@jupyter-widgets/controls",
      "model_module_version": "1.5.0",
      "model_name": "FloatProgressModel",
      "state": {
       "bar_style": "success",
       "layout": "IPY_MODEL_4b7ddf7f2b5448aa9d02b638bff37c22",
       "max": 10,
       "style": "IPY_MODEL_848084ab61984468a53f9c780b09fd1b",
       "value": 10
      }
     },
     "1d07e113cfad4a8994daece5b08d7d1c": {
      "model_module": "@jupyter-widgets/controls",
      "model_module_version": "1.5.0",
      "model_name": "HTMLModel",
      "state": {
       "layout": "IPY_MODEL_05d68b705bab4625a26d8b2a12fee69a",
       "style": "IPY_MODEL_79d19b0874534ed6a4783064346506be",
       "value": " 9/10 [2:47:33&lt;17:32, 1052.39s/it]"
      }
     },
     "1df89184f7fc45de9229e078e9563ab3": {
      "model_module": "@jupyter-widgets/base",
      "model_module_version": "1.2.0",
      "model_name": "LayoutModel",
      "state": {}
     },
     "1e3221dac6474e06968d1dd6ad4307ae": {
      "model_module": "@jupyter-widgets/controls",
      "model_module_version": "1.5.0",
      "model_name": "HTMLModel",
      "state": {
       "layout": "IPY_MODEL_9b742883a26e456c904b949536a98aaa",
       "style": "IPY_MODEL_36c914ac9cbc4128bae1f47977010080",
       "value": " 10/10 [00:00&lt;00:00, 413.07it/s]"
      }
     },
     "1ec6ca44c9c64e95a036940aa64138fd": {
      "model_module": "@jupyter-widgets/controls",
      "model_module_version": "1.5.0",
      "model_name": "DescriptionStyleModel",
      "state": {
       "description_width": ""
      }
     },
     "200291409cfe409eb9e5fcb33ad21cef": {
      "model_module": "@jupyter-widgets/controls",
      "model_module_version": "1.5.0",
      "model_name": "DescriptionStyleModel",
      "state": {
       "description_width": ""
      }
     },
     "20b6a0ecb944455096051e0d0588931e": {
      "model_module": "@jupyter-widgets/base",
      "model_module_version": "1.2.0",
      "model_name": "LayoutModel",
      "state": {}
     },
     "20ea6d5f6dae421ca23c732dfcaf2dc8": {
      "model_module": "@jupyter-widgets/controls",
      "model_module_version": "1.5.0",
      "model_name": "HTMLModel",
      "state": {
       "layout": "IPY_MODEL_cd60d9bdf6f6467192bd40486b44b5bd",
       "style": "IPY_MODEL_b4cc2c2410f1480fbee1e945d43c0dc7",
       "value": "100%"
      }
     },
     "210c73d20fd14bb0b753c6d46b03e8f0": {
      "model_module": "@jupyter-widgets/base",
      "model_module_version": "1.2.0",
      "model_name": "LayoutModel",
      "state": {}
     },
     "21c9c2eb065940dd9a188a8d7cdab49b": {
      "model_module": "@jupyter-widgets/controls",
      "model_module_version": "1.5.0",
      "model_name": "HTMLModel",
      "state": {
       "layout": "IPY_MODEL_35eff1d5603d40d1893f29928943f745",
       "style": "IPY_MODEL_e78da3962be24b2eb70946f2fa0b4fce",
       "value": "100%"
      }
     },
     "2410c2c7002b46c88c68c2b0a14d64b9": {
      "model_module": "@jupyter-widgets/controls",
      "model_module_version": "1.5.0",
      "model_name": "FloatProgressModel",
      "state": {
       "bar_style": "success",
       "layout": "IPY_MODEL_1df89184f7fc45de9229e078e9563ab3",
       "max": 10,
       "style": "IPY_MODEL_08624ba7d98840dcb0e72a0bb1d944a0",
       "value": 10
      }
     },
     "248bf3d584e643158c7f14f5ccb1473b": {
      "model_module": "@jupyter-widgets/base",
      "model_module_version": "1.2.0",
      "model_name": "LayoutModel",
      "state": {}
     },
     "2660e808c46a4a34b06f7efc0fa306f1": {
      "model_module": "@jupyter-widgets/controls",
      "model_module_version": "1.5.0",
      "model_name": "FloatProgressModel",
      "state": {
       "bar_style": "danger",
       "layout": "IPY_MODEL_78d2c23063694d6faaa70d26cfc571dd",
       "max": 10,
       "style": "IPY_MODEL_ad5c7123bb8e42488cc38f3a601c4b5d",
       "value": 9
      }
     },
     "270f159b7efb4b0c92faf5b48cd3d99a": {
      "model_module": "@jupyter-widgets/controls",
      "model_module_version": "1.5.0",
      "model_name": "HTMLModel",
      "state": {
       "layout": "IPY_MODEL_0c9ef0080b704f5fab26decaa417609a",
       "style": "IPY_MODEL_200291409cfe409eb9e5fcb33ad21cef",
       "value": "100%"
      }
     },
     "273adb2c834944e3b8ce73b840183237": {
      "model_module": "@jupyter-widgets/controls",
      "model_module_version": "1.5.0",
      "model_name": "DescriptionStyleModel",
      "state": {
       "description_width": ""
      }
     },
     "2805321b766e4f7b9d4d8095e1a2214f": {
      "model_module": "@jupyter-widgets/controls",
      "model_module_version": "1.5.0",
      "model_name": "ProgressStyleModel",
      "state": {
       "description_width": ""
      }
     },
     "29705f6347cb42b2bf6c2b8deaf7d9fa": {
      "model_module": "@jupyter-widgets/base",
      "model_module_version": "1.2.0",
      "model_name": "LayoutModel",
      "state": {}
     },
     "29aaf75fb0d54c89837b0e60d606ccb4": {
      "model_module": "@jupyter-widgets/controls",
      "model_module_version": "1.5.0",
      "model_name": "DescriptionStyleModel",
      "state": {
       "description_width": ""
      }
     },
     "2a9ae0a8ebd94cb4983529750a45d8cb": {
      "model_module": "@jupyter-widgets/controls",
      "model_module_version": "1.5.0",
      "model_name": "HBoxModel",
      "state": {
       "children": [
        "IPY_MODEL_b82b925cb1c44df79a8b246b7169a312",
        "IPY_MODEL_8bd7bbddfd0b4cd6b3b5c060f74f934b",
        "IPY_MODEL_08dd9be0a4d849a8a40c607df2114e72"
       ],
       "layout": "IPY_MODEL_35d826c858044300b50edf119117725e"
      }
     },
     "2ae1c88d70024c6e8a4ecfc933b068f5": {
      "model_module": "@jupyter-widgets/controls",
      "model_module_version": "1.5.0",
      "model_name": "DescriptionStyleModel",
      "state": {
       "description_width": ""
      }
     },
     "2b0e5127af2a4a9fa17d2c90ea4f8bab": {
      "model_module": "@jupyter-widgets/controls",
      "model_module_version": "1.5.0",
      "model_name": "HTMLModel",
      "state": {
       "layout": "IPY_MODEL_68b16e2d1d9a4b1e99add14b0a5f2bb9",
       "style": "IPY_MODEL_63cbeb9abb1849b4bd9b6980ae90a325",
       "value": " 90%"
      }
     },
     "2c31089a4d3d4b958c3c7ba5db921943": {
      "model_module": "@jupyter-widgets/controls",
      "model_module_version": "1.5.0",
      "model_name": "HBoxModel",
      "state": {
       "children": [
        "IPY_MODEL_593ea1114de648e2a921defd7d2bfd29",
        "IPY_MODEL_05f5dc43433d4fd1b23c6d73ef90c65a",
        "IPY_MODEL_d59108cfaed94608993d7df266d9fbdc"
       ],
       "layout": "IPY_MODEL_82656a208d494f8cb4940a64f6c460a5"
      }
     },
     "2e3f1e130f9648dfa9479f8943ebe451": {
      "model_module": "@jupyter-widgets/controls",
      "model_module_version": "1.5.0",
      "model_name": "HTMLModel",
      "state": {
       "layout": "IPY_MODEL_9867d718c6c54a3ab8fbcecab928379c",
       "style": "IPY_MODEL_9cd18b998969458da18af80f12e010c1",
       "value": " 0/10 [00:00&lt;?, ?it/s]"
      }
     },
     "2edb959a188743e999d3e25bcdfff565": {
      "model_module": "@jupyter-widgets/base",
      "model_module_version": "1.2.0",
      "model_name": "LayoutModel",
      "state": {}
     },
     "2f6b440b71674110ad54cf0f2ddf994b": {
      "model_module": "@jupyter-widgets/controls",
      "model_module_version": "1.5.0",
      "model_name": "HTMLModel",
      "state": {
       "layout": "IPY_MODEL_ee1a339e0a04417eb68d898c70488d9c",
       "style": "IPY_MODEL_29aaf75fb0d54c89837b0e60d606ccb4",
       "value": "  0%"
      }
     },
     "2fb7c405be594ed0acc3685da74d616d": {
      "model_module": "@jupyter-widgets/controls",
      "model_module_version": "1.5.0",
      "model_name": "ProgressStyleModel",
      "state": {
       "description_width": ""
      }
     },
     "35d826c858044300b50edf119117725e": {
      "model_module": "@jupyter-widgets/base",
      "model_module_version": "1.2.0",
      "model_name": "LayoutModel",
      "state": {}
     },
     "35eff1d5603d40d1893f29928943f745": {
      "model_module": "@jupyter-widgets/base",
      "model_module_version": "1.2.0",
      "model_name": "LayoutModel",
      "state": {}
     },
     "3622d73adbb04760a13c257de1cf6260": {
      "model_module": "@jupyter-widgets/controls",
      "model_module_version": "1.5.0",
      "model_name": "HBoxModel",
      "state": {
       "children": [
        "IPY_MODEL_932117c21a6a4f8190c8e3f0ef8f13da",
        "IPY_MODEL_bc5989d52af742bca868125d6b891ab4",
        "IPY_MODEL_6e48e162abab44cf9db6b32ce9bb2169"
       ],
       "layout": "IPY_MODEL_4b5e523260504e97a9996350fff1db26"
      }
     },
     "36c914ac9cbc4128bae1f47977010080": {
      "model_module": "@jupyter-widgets/controls",
      "model_module_version": "1.5.0",
      "model_name": "DescriptionStyleModel",
      "state": {
       "description_width": ""
      }
     },
     "36f4f40d452e41cc9e02565b5f09eb0f": {
      "model_module": "@jupyter-widgets/controls",
      "model_module_version": "1.5.0",
      "model_name": "DescriptionStyleModel",
      "state": {
       "description_width": ""
      }
     },
     "37a6d69bb25c4180a2dcaa2eebcd03a2": {
      "model_module": "@jupyter-widgets/controls",
      "model_module_version": "1.5.0",
      "model_name": "ProgressStyleModel",
      "state": {
       "description_width": ""
      }
     },
     "37f84555043b46058b419e2edbf31c4f": {
      "model_module": "@jupyter-widgets/controls",
      "model_module_version": "1.5.0",
      "model_name": "HBoxModel",
      "state": {
       "children": [
        "IPY_MODEL_8e065b10b9c3458ea64e6b3ac3f585d1",
        "IPY_MODEL_ce7e5a5839a048e8844d9c078d6ed920",
        "IPY_MODEL_7d60ff294778433db4b25f82d06b4f1c"
       ],
       "layout": "IPY_MODEL_52de397aace940998c6d646250ddb806"
      }
     },
     "38606598d4d54a60abe2cb212359e796": {
      "model_module": "@jupyter-widgets/controls",
      "model_module_version": "1.5.0",
      "model_name": "DescriptionStyleModel",
      "state": {
       "description_width": ""
      }
     },
     "38bb695f388a44b6a897b1a04f173f1e": {
      "model_module": "@jupyter-widgets/controls",
      "model_module_version": "1.5.0",
      "model_name": "HTMLModel",
      "state": {
       "layout": "IPY_MODEL_12184b1d9a8d4f3ebe346d6b211acd0d",
       "style": "IPY_MODEL_38606598d4d54a60abe2cb212359e796",
       "value": "100%"
      }
     },
     "38de92d684e34693915ba4756b0ec10a": {
      "model_module": "@jupyter-widgets/base",
      "model_module_version": "1.2.0",
      "model_name": "LayoutModel",
      "state": {}
     },
     "39d67caf214d4e47a1002bb4d52763ab": {
      "model_module": "@jupyter-widgets/controls",
      "model_module_version": "1.5.0",
      "model_name": "DescriptionStyleModel",
      "state": {
       "description_width": ""
      }
     },
     "3b859923c3d04f689e49bb586648dae6": {
      "model_module": "@jupyter-widgets/controls",
      "model_module_version": "1.5.0",
      "model_name": "HTMLModel",
      "state": {
       "layout": "IPY_MODEL_1a0043f84b4d45c5ae71e68256c821d7",
       "style": "IPY_MODEL_89f0e52f4b324334b8baa7a5cc3a44a5",
       "value": "  0%"
      }
     },
     "3e3dc695ebfc4a6abe417837d7a86cd9": {
      "model_module": "@jupyter-widgets/controls",
      "model_module_version": "1.5.0",
      "model_name": "HBoxModel",
      "state": {
       "children": [
        "IPY_MODEL_63b8b5d96f164ee1898caa4544cfc378",
        "IPY_MODEL_c6e743294bee4d26afb28bd09dc8ea72",
        "IPY_MODEL_2e3f1e130f9648dfa9479f8943ebe451"
       ],
       "layout": "IPY_MODEL_9d391432448540458b460b2d8f715ff7"
      }
     },
     "3e4bb31b1efb48b3a022716ae0d90976": {
      "model_module": "@jupyter-widgets/controls",
      "model_module_version": "1.5.0",
      "model_name": "HBoxModel",
      "state": {
       "children": [
        "IPY_MODEL_21c9c2eb065940dd9a188a8d7cdab49b",
        "IPY_MODEL_e2dff83d546a45c39604544f1e835866",
        "IPY_MODEL_1e3221dac6474e06968d1dd6ad4307ae"
       ],
       "layout": "IPY_MODEL_da1f3ac50ed24e95a74656ff18b8df91"
      }
     },
     "409224fa55bb4be193cdaae5c2b3bebe": {
      "model_module": "@jupyter-widgets/controls",
      "model_module_version": "1.5.0",
      "model_name": "HBoxModel",
      "state": {
       "children": [
        "IPY_MODEL_270f159b7efb4b0c92faf5b48cd3d99a",
        "IPY_MODEL_d01f2bde27414b029c09c28bbef805a0",
        "IPY_MODEL_f1a384f4e1944a33a743c47a3193e248"
       ],
       "layout": "IPY_MODEL_665cf912abae42db9c07b83d2d974b65"
      }
     },
     "427afe2082c446738469d8993dff5990": {
      "model_module": "@jupyter-widgets/base",
      "model_module_version": "1.2.0",
      "model_name": "LayoutModel",
      "state": {}
     },
     "429b0c396e7044298dd15e06ada4c7e8": {
      "model_module": "@jupyter-widgets/controls",
      "model_module_version": "1.5.0",
      "model_name": "ProgressStyleModel",
      "state": {
       "description_width": ""
      }
     },
     "440def59890d41a68189252f2aa86839": {
      "model_module": "@jupyter-widgets/controls",
      "model_module_version": "1.5.0",
      "model_name": "HTMLModel",
      "state": {
       "layout": "IPY_MODEL_d1d1fb66991d42bd91facbf2f9ab5814",
       "style": "IPY_MODEL_b1bd46c58c884f7db178782407e97136",
       "value": " 0/10 [00:35&lt;?, ?it/s]"
      }
     },
     "45b4ddbd0db0421c8b91b7804f56413e": {
      "model_module": "@jupyter-widgets/controls",
      "model_module_version": "1.5.0",
      "model_name": "DescriptionStyleModel",
      "state": {
       "description_width": ""
      }
     },
     "45d71df4564648ba9935074e6c967128": {
      "model_module": "@jupyter-widgets/base",
      "model_module_version": "1.2.0",
      "model_name": "LayoutModel",
      "state": {}
     },
     "45f2272855fb4a1ca38c371943d5ebd7": {
      "model_module": "@jupyter-widgets/base",
      "model_module_version": "1.2.0",
      "model_name": "LayoutModel",
      "state": {}
     },
     "466e055585254031afda60fb1a6fe5fc": {
      "model_module": "@jupyter-widgets/controls",
      "model_module_version": "1.5.0",
      "model_name": "HTMLModel",
      "state": {
       "layout": "IPY_MODEL_6832a9491fd34edd85e0dfc9be727a42",
       "style": "IPY_MODEL_905553e14a364e5a9ce7b5d83e0d18d7",
       "value": " 10/10 [00:00&lt;00:00, 366.62it/s]"
      }
     },
     "46c838a7796e4541bd2f1cdbf5ca19d2": {
      "model_module": "@jupyter-widgets/base",
      "model_module_version": "1.2.0",
      "model_name": "LayoutModel",
      "state": {}
     },
     "46cc0345b83841c599e5ae367e9dc9ed": {
      "model_module": "@jupyter-widgets/controls",
      "model_module_version": "1.5.0",
      "model_name": "HBoxModel",
      "state": {
       "children": [
        "IPY_MODEL_eb85d75d850d46459d21cd0755f91226",
        "IPY_MODEL_c461489e68f74f20a3b69fcb55c21f51",
        "IPY_MODEL_79a2d440806a48cab28f04a6a9820427"
       ],
       "layout": "IPY_MODEL_a595f7bdaf5a4eb2a5bd9fa11a7e1c7e"
      }
     },
     "480fa591e98e4839a41167db5fbad7c2": {
      "model_module": "@jupyter-widgets/controls",
      "model_module_version": "1.5.0",
      "model_name": "DescriptionStyleModel",
      "state": {
       "description_width": ""
      }
     },
     "4b5e523260504e97a9996350fff1db26": {
      "model_module": "@jupyter-widgets/base",
      "model_module_version": "1.2.0",
      "model_name": "LayoutModel",
      "state": {}
     },
     "4b7ddf7f2b5448aa9d02b638bff37c22": {
      "model_module": "@jupyter-widgets/base",
      "model_module_version": "1.2.0",
      "model_name": "LayoutModel",
      "state": {}
     },
     "4ca11549ead046f28a14558e805ed8b4": {
      "model_module": "@jupyter-widgets/controls",
      "model_module_version": "1.5.0",
      "model_name": "HTMLModel",
      "state": {
       "layout": "IPY_MODEL_5432114ad8194459b4670640efacdc54",
       "style": "IPY_MODEL_480fa591e98e4839a41167db5fbad7c2",
       "value": "  0%"
      }
     },
     "4ca89b3c8ff5470ea0a15d6d068a89d2": {
      "model_module": "@jupyter-widgets/base",
      "model_module_version": "1.2.0",
      "model_name": "LayoutModel",
      "state": {}
     },
     "4d24e43c40a6486688684cec3c4c677f": {
      "model_module": "@jupyter-widgets/base",
      "model_module_version": "1.2.0",
      "model_name": "LayoutModel",
      "state": {}
     },
     "52de397aace940998c6d646250ddb806": {
      "model_module": "@jupyter-widgets/base",
      "model_module_version": "1.2.0",
      "model_name": "LayoutModel",
      "state": {}
     },
     "53154c5cb0c14d519a7e4305a9939e59": {
      "model_module": "@jupyter-widgets/base",
      "model_module_version": "1.2.0",
      "model_name": "LayoutModel",
      "state": {}
     },
     "5432114ad8194459b4670640efacdc54": {
      "model_module": "@jupyter-widgets/base",
      "model_module_version": "1.2.0",
      "model_name": "LayoutModel",
      "state": {}
     },
     "54987f147f8844d29c76f962d1cc1b85": {
      "model_module": "@jupyter-widgets/base",
      "model_module_version": "1.2.0",
      "model_name": "LayoutModel",
      "state": {}
     },
     "5547cd8b457a46859b4cddca66e36cbb": {
      "model_module": "@jupyter-widgets/controls",
      "model_module_version": "1.5.0",
      "model_name": "FloatProgressModel",
      "state": {
       "bar_style": "success",
       "layout": "IPY_MODEL_a535196dfca541cebcfe953476f3e075",
       "max": 10,
       "style": "IPY_MODEL_ea3626cbe07e464e961c66e572bc6dbd",
       "value": 10
      }
     },
     "57830f867dd8446d9e970d43deb958f3": {
      "model_module": "@jupyter-widgets/controls",
      "model_module_version": "1.5.0",
      "model_name": "ProgressStyleModel",
      "state": {
       "description_width": ""
      }
     },
     "5899dd9df5374913860343056cf2d36f": {
      "model_module": "@jupyter-widgets/controls",
      "model_module_version": "1.5.0",
      "model_name": "HTMLModel",
      "state": {
       "layout": "IPY_MODEL_a881a69bf44d42f18a4a267c6e5828df",
       "style": "IPY_MODEL_f05d66f8dbb24a94ac1f8ee151c52eb0",
       "value": " 10/10 [00:00&lt;00:00, 406.63it/s]"
      }
     },
     "593ea1114de648e2a921defd7d2bfd29": {
      "model_module": "@jupyter-widgets/controls",
      "model_module_version": "1.5.0",
      "model_name": "HTMLModel",
      "state": {
       "layout": "IPY_MODEL_9f13ada3d6094b6da801be4d96d272f5",
       "style": "IPY_MODEL_997ce3f5a1f64c65b32424b89e78a69c",
       "value": "100%"
      }
     },
     "5a54032159624240a3041fd027ab13c2": {
      "model_module": "@jupyter-widgets/controls",
      "model_module_version": "1.5.0",
      "model_name": "ProgressStyleModel",
      "state": {
       "description_width": ""
      }
     },
     "5a74266d64ae4a5a9e4e502cc2b5e0bb": {
      "model_module": "@jupyter-widgets/controls",
      "model_module_version": "1.5.0",
      "model_name": "DescriptionStyleModel",
      "state": {
       "description_width": ""
      }
     },
     "5b58b20b99de4db58cbdce6deb680472": {
      "model_module": "@jupyter-widgets/controls",
      "model_module_version": "1.5.0",
      "model_name": "DescriptionStyleModel",
      "state": {
       "description_width": ""
      }
     },
     "5bc6eab672504331bb414df5a6ec14c3": {
      "model_module": "@jupyter-widgets/base",
      "model_module_version": "1.2.0",
      "model_name": "LayoutModel",
      "state": {}
     },
     "5c221ee4a909464c974df2f95f03ccdb": {
      "model_module": "@jupyter-widgets/base",
      "model_module_version": "1.2.0",
      "model_name": "LayoutModel",
      "state": {}
     },
     "5f0a78fbaaeb4ed2bfa7791e6b3282e9": {
      "model_module": "@jupyter-widgets/controls",
      "model_module_version": "1.5.0",
      "model_name": "FloatProgressModel",
      "state": {
       "bar_style": "success",
       "layout": "IPY_MODEL_779c439f3aac418592ece7361164c47e",
       "max": 10,
       "style": "IPY_MODEL_8bbe542296f74d69b3b40f4291d3156c",
       "value": 10
      }
     },
     "5f5871489eb144ee92e9151158c7605a": {
      "model_module": "@jupyter-widgets/controls",
      "model_module_version": "1.5.0",
      "model_name": "HTMLModel",
      "state": {
       "layout": "IPY_MODEL_02782f154c3046d79087e9b7a4f0d745",
       "style": "IPY_MODEL_2ae1c88d70024c6e8a4ecfc933b068f5",
       "value": "100%"
      }
     },
     "6044c1baeb0748fbb68815fda15b1460": {
      "model_module": "@jupyter-widgets/base",
      "model_module_version": "1.2.0",
      "model_name": "LayoutModel",
      "state": {}
     },
     "604d259e2de84ed3afcc4dce920c515d": {
      "model_module": "@jupyter-widgets/controls",
      "model_module_version": "1.5.0",
      "model_name": "HTMLModel",
      "state": {
       "layout": "IPY_MODEL_bd44bd9a57c64b65973e1782e4bea401",
       "style": "IPY_MODEL_b2e0ca85e4554b10a01e6158a39a72fc",
       "value": " 0/10 [00:00&lt;?, ?it/s]"
      }
     },
     "61c38ea9a5fb4bbba7fc81c7b8b7976f": {
      "model_module": "@jupyter-widgets/controls",
      "model_module_version": "1.5.0",
      "model_name": "DescriptionStyleModel",
      "state": {
       "description_width": ""
      }
     },
     "63a9e04ef60d4c329f09557e4830f2f8": {
      "model_module": "@jupyter-widgets/controls",
      "model_module_version": "1.5.0",
      "model_name": "HBoxModel",
      "state": {
       "children": [
        "IPY_MODEL_76ba80ffd1064bedbb9ea4cb0472764c",
        "IPY_MODEL_5f0a78fbaaeb4ed2bfa7791e6b3282e9",
        "IPY_MODEL_e486d5f0680b437abde4558f7e474527"
       ],
       "layout": "IPY_MODEL_d3ee133acd8e46dcae55e3152e409b24"
      }
     },
     "63b8b5d96f164ee1898caa4544cfc378": {
      "model_module": "@jupyter-widgets/controls",
      "model_module_version": "1.5.0",
      "model_name": "HTMLModel",
      "state": {
       "layout": "IPY_MODEL_ee366e58426841b7b63772146e9d276f",
       "style": "IPY_MODEL_182b778ab5f6410aac400723ce7b4297",
       "value": "  0%"
      }
     },
     "63cbeb9abb1849b4bd9b6980ae90a325": {
      "model_module": "@jupyter-widgets/controls",
      "model_module_version": "1.5.0",
      "model_name": "DescriptionStyleModel",
      "state": {
       "description_width": ""
      }
     },
     "6442d16a30944e9cbb1484cfa4fa667b": {
      "model_module": "@jupyter-widgets/base",
      "model_module_version": "1.2.0",
      "model_name": "LayoutModel",
      "state": {}
     },
     "64f5ea355f234fb39423c29fc6d9d3ce": {
      "model_module": "@jupyter-widgets/base",
      "model_module_version": "1.2.0",
      "model_name": "LayoutModel",
      "state": {}
     },
     "665cf912abae42db9c07b83d2d974b65": {
      "model_module": "@jupyter-widgets/base",
      "model_module_version": "1.2.0",
      "model_name": "LayoutModel",
      "state": {}
     },
     "6832a9491fd34edd85e0dfc9be727a42": {
      "model_module": "@jupyter-widgets/base",
      "model_module_version": "1.2.0",
      "model_name": "LayoutModel",
      "state": {}
     },
     "68b16e2d1d9a4b1e99add14b0a5f2bb9": {
      "model_module": "@jupyter-widgets/base",
      "model_module_version": "1.2.0",
      "model_name": "LayoutModel",
      "state": {}
     },
     "68cd22d8161742efa4e5411d09461a9b": {
      "model_module": "@jupyter-widgets/controls",
      "model_module_version": "1.5.0",
      "model_name": "DescriptionStyleModel",
      "state": {
       "description_width": ""
      }
     },
     "6918e8f05727457f9e80a162dc5bff91": {
      "model_module": "@jupyter-widgets/controls",
      "model_module_version": "1.5.0",
      "model_name": "ProgressStyleModel",
      "state": {
       "description_width": ""
      }
     },
     "6e48e162abab44cf9db6b32ce9bb2169": {
      "model_module": "@jupyter-widgets/controls",
      "model_module_version": "1.5.0",
      "model_name": "HTMLModel",
      "state": {
       "layout": "IPY_MODEL_1b4e2fbcee5142f79b46bed4d877eea3",
       "style": "IPY_MODEL_d4e59b37fbfb4e0fb9beefdc677b3a10",
       "value": " 10/10 [04:03&lt;00:00, 24.22s/it]"
      }
     },
     "6e9320d0966847dd888a94978291ae49": {
      "model_module": "@jupyter-widgets/controls",
      "model_module_version": "1.5.0",
      "model_name": "HTMLModel",
      "state": {
       "layout": "IPY_MODEL_45f2272855fb4a1ca38c371943d5ebd7",
       "style": "IPY_MODEL_39d67caf214d4e47a1002bb4d52763ab",
       "value": " 0/10 [00:34&lt;?, ?it/s]"
      }
     },
     "6f319527cb0743549c2933cc2c9afb4f": {
      "model_module": "@jupyter-widgets/controls",
      "model_module_version": "1.5.0",
      "model_name": "HTMLModel",
      "state": {
       "layout": "IPY_MODEL_4d24e43c40a6486688684cec3c4c677f",
       "style": "IPY_MODEL_ab82bc4b9b4043e299cd30726a6b655e",
       "value": "  0%"
      }
     },
     "713c61fe951140329ba483fab106b7bb": {
      "model_module": "@jupyter-widgets/base",
      "model_module_version": "1.2.0",
      "model_name": "LayoutModel",
      "state": {}
     },
     "71e8b776f89e439f9e0c7d12125357f0": {
      "model_module": "@jupyter-widgets/controls",
      "model_module_version": "1.5.0",
      "model_name": "ProgressStyleModel",
      "state": {
       "description_width": ""
      }
     },
     "72a30f390cf54fe5b5b256bf9eba62e1": {
      "model_module": "@jupyter-widgets/controls",
      "model_module_version": "1.5.0",
      "model_name": "HBoxModel",
      "state": {
       "children": [
        "IPY_MODEL_13446290696444c1935ac1c08ac03cef",
        "IPY_MODEL_a6b311be8b644b669d17f4c59e6439f2",
        "IPY_MODEL_da21d202c8b9441a8d1bbcd6491524b2"
       ],
       "layout": "IPY_MODEL_46c838a7796e4541bd2f1cdbf5ca19d2"
      }
     },
     "72e3ea3de4b44ec79f788d1d3efa8eb3": {
      "model_module": "@jupyter-widgets/controls",
      "model_module_version": "1.5.0",
      "model_name": "DescriptionStyleModel",
      "state": {
       "description_width": ""
      }
     },
     "7454dc9f32b048aaa5f4de294595c912": {
      "model_module": "@jupyter-widgets/base",
      "model_module_version": "1.2.0",
      "model_name": "LayoutModel",
      "state": {}
     },
     "7585f2a157464741a23db2ffe34206c7": {
      "model_module": "@jupyter-widgets/base",
      "model_module_version": "1.2.0",
      "model_name": "LayoutModel",
      "state": {}
     },
     "76b5dd522e17425db69fd0a006bfde5b": {
      "model_module": "@jupyter-widgets/controls",
      "model_module_version": "1.5.0",
      "model_name": "ProgressStyleModel",
      "state": {
       "description_width": ""
      }
     },
     "76ba80ffd1064bedbb9ea4cb0472764c": {
      "model_module": "@jupyter-widgets/controls",
      "model_module_version": "1.5.0",
      "model_name": "HTMLModel",
      "state": {
       "layout": "IPY_MODEL_4ca89b3c8ff5470ea0a15d6d068a89d2",
       "style": "IPY_MODEL_5b58b20b99de4db58cbdce6deb680472",
       "value": "100%"
      }
     },
     "779c439f3aac418592ece7361164c47e": {
      "model_module": "@jupyter-widgets/base",
      "model_module_version": "1.2.0",
      "model_name": "LayoutModel",
      "state": {}
     },
     "78beb4ea55b24f04ae693c30fbad8efa": {
      "model_module": "@jupyter-widgets/controls",
      "model_module_version": "1.5.0",
      "model_name": "ProgressStyleModel",
      "state": {
       "description_width": ""
      }
     },
     "78d2c23063694d6faaa70d26cfc571dd": {
      "model_module": "@jupyter-widgets/base",
      "model_module_version": "1.2.0",
      "model_name": "LayoutModel",
      "state": {}
     },
     "7941b0f874b54e10a3deced08497b650": {
      "model_module": "@jupyter-widgets/base",
      "model_module_version": "1.2.0",
      "model_name": "LayoutModel",
      "state": {}
     },
     "79a2d440806a48cab28f04a6a9820427": {
      "model_module": "@jupyter-widgets/controls",
      "model_module_version": "1.5.0",
      "model_name": "HTMLModel",
      "state": {
       "layout": "IPY_MODEL_eabc29bb72774ef9a3f385804b0349cc",
       "style": "IPY_MODEL_9795b6492e9a436bb1099d71427d8d72",
       "value": " 0/10 [00:00&lt;?, ?it/s]"
      }
     },
     "79a5ca3f80e4496ea044be5ebd4317f8": {
      "model_module": "@jupyter-widgets/base",
      "model_module_version": "1.2.0",
      "model_name": "LayoutModel",
      "state": {}
     },
     "79d19b0874534ed6a4783064346506be": {
      "model_module": "@jupyter-widgets/controls",
      "model_module_version": "1.5.0",
      "model_name": "DescriptionStyleModel",
      "state": {
       "description_width": ""
      }
     },
     "7a25359d6ae343bb835c888fce121c55": {
      "model_module": "@jupyter-widgets/controls",
      "model_module_version": "1.5.0",
      "model_name": "DescriptionStyleModel",
      "state": {
       "description_width": ""
      }
     },
     "7b81388d14e74d91b2fd171b47495e4e": {
      "model_module": "@jupyter-widgets/controls",
      "model_module_version": "1.5.0",
      "model_name": "HBoxModel",
      "state": {
       "children": [
        "IPY_MODEL_b9a7f788dec94c6e972fb3b379e9f351",
        "IPY_MODEL_7d1181d99df74caeb51ec6d900cd323d",
        "IPY_MODEL_dc53a922f5c34dacb08248a7e01aa5a6"
       ],
       "layout": "IPY_MODEL_713c61fe951140329ba483fab106b7bb"
      }
     },
     "7d1181d99df74caeb51ec6d900cd323d": {
      "model_module": "@jupyter-widgets/controls",
      "model_module_version": "1.5.0",
      "model_name": "FloatProgressModel",
      "state": {
       "bar_style": "success",
       "layout": "IPY_MODEL_0f2c28cb90eb4eca9ed1f34b1901fb3e",
       "max": 10,
       "style": "IPY_MODEL_37a6d69bb25c4180a2dcaa2eebcd03a2",
       "value": 10
      }
     },
     "7d60ff294778433db4b25f82d06b4f1c": {
      "model_module": "@jupyter-widgets/controls",
      "model_module_version": "1.5.0",
      "model_name": "HTMLModel",
      "state": {
       "layout": "IPY_MODEL_a52d59e6852042b0af6f41e931c3909d",
       "style": "IPY_MODEL_922dbbf1ec514009923173858260f4e6",
       "value": " 0/10 [07:34&lt;?, ?it/s]"
      }
     },
     "7e1bfad5b031428f801bfa68d629dccc": {
      "model_module": "@jupyter-widgets/base",
      "model_module_version": "1.2.0",
      "model_name": "LayoutModel",
      "state": {}
     },
     "7ee54372c5f5430185fc04f4ed299bf8": {
      "model_module": "@jupyter-widgets/controls",
      "model_module_version": "1.5.0",
      "model_name": "HTMLModel",
      "state": {
       "layout": "IPY_MODEL_f63316813dcc4decafa59da05df5938e",
       "style": "IPY_MODEL_e764468112b24bdcb94ba4c70e3b6133",
       "value": " 10/10 [06:31&lt;00:00, 40.23s/it]"
      }
     },
     "7f45d953613649cba727c63fef3f451d": {
      "model_module": "@jupyter-widgets/controls",
      "model_module_version": "1.5.0",
      "model_name": "DescriptionStyleModel",
      "state": {
       "description_width": ""
      }
     },
     "7ff9a7b90a5f4f79a5d8585cdc59e0b0": {
      "model_module": "@jupyter-widgets/base",
      "model_module_version": "1.2.0",
      "model_name": "LayoutModel",
      "state": {}
     },
     "805a7b86c87448339f8f146a506ae598": {
      "model_module": "@jupyter-widgets/base",
      "model_module_version": "1.2.0",
      "model_name": "LayoutModel",
      "state": {}
     },
     "80db7b164c1f483fa12d942503ba6849": {
      "model_module": "@jupyter-widgets/controls",
      "model_module_version": "1.5.0",
      "model_name": "DescriptionStyleModel",
      "state": {
       "description_width": ""
      }
     },
     "82656a208d494f8cb4940a64f6c460a5": {
      "model_module": "@jupyter-widgets/base",
      "model_module_version": "1.2.0",
      "model_name": "LayoutModel",
      "state": {}
     },
     "848084ab61984468a53f9c780b09fd1b": {
      "model_module": "@jupyter-widgets/controls",
      "model_module_version": "1.5.0",
      "model_name": "ProgressStyleModel",
      "state": {
       "description_width": ""
      }
     },
     "848760db121f4a9ba48ef12b582e2144": {
      "model_module": "@jupyter-widgets/base",
      "model_module_version": "1.2.0",
      "model_name": "LayoutModel",
      "state": {}
     },
     "84d9f7793f5048e5952ac01169132e91": {
      "model_module": "@jupyter-widgets/controls",
      "model_module_version": "1.5.0",
      "model_name": "HTMLModel",
      "state": {
       "layout": "IPY_MODEL_54987f147f8844d29c76f962d1cc1b85",
       "style": "IPY_MODEL_1ec6ca44c9c64e95a036940aa64138fd",
       "value": "  0%"
      }
     },
     "89f0e52f4b324334b8baa7a5cc3a44a5": {
      "model_module": "@jupyter-widgets/controls",
      "model_module_version": "1.5.0",
      "model_name": "DescriptionStyleModel",
      "state": {
       "description_width": ""
      }
     },
     "8b2aec486c994a4fa9b0f5353f697dba": {
      "model_module": "@jupyter-widgets/base",
      "model_module_version": "1.2.0",
      "model_name": "LayoutModel",
      "state": {}
     },
     "8bbe542296f74d69b3b40f4291d3156c": {
      "model_module": "@jupyter-widgets/controls",
      "model_module_version": "1.5.0",
      "model_name": "ProgressStyleModel",
      "state": {
       "description_width": ""
      }
     },
     "8bd7bbddfd0b4cd6b3b5c060f74f934b": {
      "model_module": "@jupyter-widgets/controls",
      "model_module_version": "1.5.0",
      "model_name": "FloatProgressModel",
      "state": {
       "bar_style": "danger",
       "layout": "IPY_MODEL_bab03d0a4c4143229b137e881ba845ca",
       "max": 10,
       "style": "IPY_MODEL_b545e497e7574812a3b97c611de76c8d"
      }
     },
     "8e065b10b9c3458ea64e6b3ac3f585d1": {
      "model_module": "@jupyter-widgets/controls",
      "model_module_version": "1.5.0",
      "model_name": "HTMLModel",
      "state": {
       "layout": "IPY_MODEL_9190e8a6c12c4a76947ffe82e35e22aa",
       "style": "IPY_MODEL_d9a41e3c86ec440f93a918a2c6fd4c3a",
       "value": "  0%"
      }
     },
     "9045e6bfe63b464d851b8d732cb64231": {
      "model_module": "@jupyter-widgets/base",
      "model_module_version": "1.2.0",
      "model_name": "LayoutModel",
      "state": {}
     },
     "905553e14a364e5a9ce7b5d83e0d18d7": {
      "model_module": "@jupyter-widgets/controls",
      "model_module_version": "1.5.0",
      "model_name": "DescriptionStyleModel",
      "state": {
       "description_width": ""
      }
     },
     "90dd75adbaa4444d8a82eba4f8fad0c3": {
      "model_module": "@jupyter-widgets/base",
      "model_module_version": "1.2.0",
      "model_name": "LayoutModel",
      "state": {}
     },
     "9190e8a6c12c4a76947ffe82e35e22aa": {
      "model_module": "@jupyter-widgets/base",
      "model_module_version": "1.2.0",
      "model_name": "LayoutModel",
      "state": {}
     },
     "91dba727eec44d5686874438192ba9bf": {
      "model_module": "@jupyter-widgets/controls",
      "model_module_version": "1.5.0",
      "model_name": "DescriptionStyleModel",
      "state": {
       "description_width": ""
      }
     },
     "922dbbf1ec514009923173858260f4e6": {
      "model_module": "@jupyter-widgets/controls",
      "model_module_version": "1.5.0",
      "model_name": "DescriptionStyleModel",
      "state": {
       "description_width": ""
      }
     },
     "92bfc1feb9a34d8e925dfac93f2f3106": {
      "model_module": "@jupyter-widgets/base",
      "model_module_version": "1.2.0",
      "model_name": "LayoutModel",
      "state": {}
     },
     "932117c21a6a4f8190c8e3f0ef8f13da": {
      "model_module": "@jupyter-widgets/controls",
      "model_module_version": "1.5.0",
      "model_name": "HTMLModel",
      "state": {
       "layout": "IPY_MODEL_f2c187174fd8456782f4427194985ac8",
       "style": "IPY_MODEL_df15375bf300401f911e6c9eb09b6d45",
       "value": "100%"
      }
     },
     "9324ec6ec0114546910b4bb7e23eec51": {
      "model_module": "@jupyter-widgets/controls",
      "model_module_version": "1.5.0",
      "model_name": "HBoxModel",
      "state": {
       "children": [
        "IPY_MODEL_c8c8c418a08a4f499f540f476712257d",
        "IPY_MODEL_1b79334c5dff494fa04c80671711d071",
        "IPY_MODEL_d8482da9a9614e8482d15fe6f7bfef8b"
       ],
       "layout": "IPY_MODEL_210c73d20fd14bb0b753c6d46b03e8f0"
      }
     },
     "941ceecde5af4c88aeee40c151cdaa0e": {
      "model_module": "@jupyter-widgets/base",
      "model_module_version": "1.2.0",
      "model_name": "LayoutModel",
      "state": {}
     },
     "952b71c9b14749c2ae99d12267040867": {
      "model_module": "@jupyter-widgets/controls",
      "model_module_version": "1.5.0",
      "model_name": "FloatProgressModel",
      "state": {
       "bar_style": "success",
       "layout": "IPY_MODEL_20b6a0ecb944455096051e0d0588931e",
       "max": 10,
       "style": "IPY_MODEL_429b0c396e7044298dd15e06ada4c7e8",
       "value": 10
      }
     },
     "962eb3d06fac4d56b1b4e7ec5183ed5c": {
      "model_module": "@jupyter-widgets/controls",
      "model_module_version": "1.5.0",
      "model_name": "DescriptionStyleModel",
      "state": {
       "description_width": ""
      }
     },
     "9637fcacfc064b3ebf4b33f911bbebe6": {
      "model_module": "@jupyter-widgets/base",
      "model_module_version": "1.2.0",
      "model_name": "LayoutModel",
      "state": {}
     },
     "96a625744fda4821af5e110877607e99": {
      "model_module": "@jupyter-widgets/controls",
      "model_module_version": "1.5.0",
      "model_name": "FloatProgressModel",
      "state": {
       "bar_style": "danger",
       "layout": "IPY_MODEL_9a04c20f7c504bbdb6c1bc03f8aec178",
       "max": 10,
       "style": "IPY_MODEL_c56ee2fe983443cb906cc82b8d1e8d84"
      }
     },
     "977d38daabca4230a909088fa7cb2475": {
      "model_module": "@jupyter-widgets/base",
      "model_module_version": "1.2.0",
      "model_name": "LayoutModel",
      "state": {}
     },
     "9795b6492e9a436bb1099d71427d8d72": {
      "model_module": "@jupyter-widgets/controls",
      "model_module_version": "1.5.0",
      "model_name": "DescriptionStyleModel",
      "state": {
       "description_width": ""
      }
     },
     "9867d718c6c54a3ab8fbcecab928379c": {
      "model_module": "@jupyter-widgets/base",
      "model_module_version": "1.2.0",
      "model_name": "LayoutModel",
      "state": {}
     },
     "997ce3f5a1f64c65b32424b89e78a69c": {
      "model_module": "@jupyter-widgets/controls",
      "model_module_version": "1.5.0",
      "model_name": "DescriptionStyleModel",
      "state": {
       "description_width": ""
      }
     },
     "9a04c20f7c504bbdb6c1bc03f8aec178": {
      "model_module": "@jupyter-widgets/base",
      "model_module_version": "1.2.0",
      "model_name": "LayoutModel",
      "state": {}
     },
     "9a1b681815cf4570bdd0ae8495d22a0a": {
      "model_module": "@jupyter-widgets/base",
      "model_module_version": "1.2.0",
      "model_name": "LayoutModel",
      "state": {}
     },
     "9b742883a26e456c904b949536a98aaa": {
      "model_module": "@jupyter-widgets/base",
      "model_module_version": "1.2.0",
      "model_name": "LayoutModel",
      "state": {}
     },
     "9cd18b998969458da18af80f12e010c1": {
      "model_module": "@jupyter-widgets/controls",
      "model_module_version": "1.5.0",
      "model_name": "DescriptionStyleModel",
      "state": {
       "description_width": ""
      }
     },
     "9d0538720b924a41810d68eae81931c0": {
      "model_module": "@jupyter-widgets/controls",
      "model_module_version": "1.5.0",
      "model_name": "HTMLModel",
      "state": {
       "layout": "IPY_MODEL_7454dc9f32b048aaa5f4de294595c912",
       "style": "IPY_MODEL_113e5980129c4b25841b36885c37a8f4",
       "value": " 0/10 [00:34&lt;?, ?it/s]"
      }
     },
     "9d391432448540458b460b2d8f715ff7": {
      "model_module": "@jupyter-widgets/base",
      "model_module_version": "1.2.0",
      "model_name": "LayoutModel",
      "state": {}
     },
     "9f13ada3d6094b6da801be4d96d272f5": {
      "model_module": "@jupyter-widgets/base",
      "model_module_version": "1.2.0",
      "model_name": "LayoutModel",
      "state": {}
     },
     "a089414aa42745b483636ff5bde36758": {
      "model_module": "@jupyter-widgets/controls",
      "model_module_version": "1.5.0",
      "model_name": "FloatProgressModel",
      "state": {
       "bar_style": "danger",
       "layout": "IPY_MODEL_caa372db863d4aef98620b496ce2e58a",
       "max": 10,
       "style": "IPY_MODEL_78beb4ea55b24f04ae693c30fbad8efa"
      }
     },
     "a1312cb7118645e4a1e886f6bffcad61": {
      "model_module": "@jupyter-widgets/controls",
      "model_module_version": "1.5.0",
      "model_name": "ProgressStyleModel",
      "state": {
       "description_width": ""
      }
     },
     "a22d048903db4c809500ae1a424e3850": {
      "model_module": "@jupyter-widgets/controls",
      "model_module_version": "1.5.0",
      "model_name": "FloatProgressModel",
      "state": {
       "bar_style": "success",
       "layout": "IPY_MODEL_ca198d6b48e84ea59d2574f04a2a903a",
       "max": 10,
       "style": "IPY_MODEL_6918e8f05727457f9e80a162dc5bff91",
       "value": 10
      }
     },
     "a2480d1cb7a74582b1fa260165dbb275": {
      "model_module": "@jupyter-widgets/controls",
      "model_module_version": "1.5.0",
      "model_name": "DescriptionStyleModel",
      "state": {
       "description_width": ""
      }
     },
     "a4197da2e3e843888dc66a2aea4156bc": {
      "model_module": "@jupyter-widgets/controls",
      "model_module_version": "1.5.0",
      "model_name": "HBoxModel",
      "state": {
       "children": [
        "IPY_MODEL_3b859923c3d04f689e49bb586648dae6",
        "IPY_MODEL_96a625744fda4821af5e110877607e99",
        "IPY_MODEL_d094d014e8d646a3be133eac502eea0e"
       ],
       "layout": "IPY_MODEL_45d71df4564648ba9935074e6c967128"
      }
     },
     "a44da9ce86fc416e96f4d4d80f862b50": {
      "model_module": "@jupyter-widgets/controls",
      "model_module_version": "1.5.0",
      "model_name": "HBoxModel",
      "state": {
       "children": [
        "IPY_MODEL_20ea6d5f6dae421ca23c732dfcaf2dc8",
        "IPY_MODEL_5547cd8b457a46859b4cddca66e36cbb",
        "IPY_MODEL_7ee54372c5f5430185fc04f4ed299bf8"
       ],
       "layout": "IPY_MODEL_b08a626cb0674765afab6a9aed6e4b6c"
      }
     },
     "a52d59e6852042b0af6f41e931c3909d": {
      "model_module": "@jupyter-widgets/base",
      "model_module_version": "1.2.0",
      "model_name": "LayoutModel",
      "state": {}
     },
     "a535196dfca541cebcfe953476f3e075": {
      "model_module": "@jupyter-widgets/base",
      "model_module_version": "1.2.0",
      "model_name": "LayoutModel",
      "state": {}
     },
     "a595f7bdaf5a4eb2a5bd9fa11a7e1c7e": {
      "model_module": "@jupyter-widgets/base",
      "model_module_version": "1.2.0",
      "model_name": "LayoutModel",
      "state": {}
     },
     "a6b311be8b644b669d17f4c59e6439f2": {
      "model_module": "@jupyter-widgets/controls",
      "model_module_version": "1.5.0",
      "model_name": "FloatProgressModel",
      "state": {
       "bar_style": "danger",
       "layout": "IPY_MODEL_ea8816c8cf6f41a3a19038c17896b4b6",
       "max": 10,
       "style": "IPY_MODEL_2fb7c405be594ed0acc3685da74d616d"
      }
     },
     "a81c5e027bbd4c3dbd0a4a1af40a8d96": {
      "model_module": "@jupyter-widgets/controls",
      "model_module_version": "1.5.0",
      "model_name": "HTMLModel",
      "state": {
       "layout": "IPY_MODEL_c6c88a2dde4d402795c3d8c5d524e063",
       "style": "IPY_MODEL_13e7eef8bb2b48dfbba21bdb0ded491f",
       "value": "  0%"
      }
     },
     "a881a69bf44d42f18a4a267c6e5828df": {
      "model_module": "@jupyter-widgets/base",
      "model_module_version": "1.2.0",
      "model_name": "LayoutModel",
      "state": {}
     },
     "ab2a84ad451e4b6fa3bfbf6a30c8d14f": {
      "model_module": "@jupyter-widgets/controls",
      "model_module_version": "1.5.0",
      "model_name": "DescriptionStyleModel",
      "state": {
       "description_width": ""
      }
     },
     "ab82bc4b9b4043e299cd30726a6b655e": {
      "model_module": "@jupyter-widgets/controls",
      "model_module_version": "1.5.0",
      "model_name": "DescriptionStyleModel",
      "state": {
       "description_width": ""
      }
     },
     "ab95e4a3458c4777908978b9b1be5df8": {
      "model_module": "@jupyter-widgets/base",
      "model_module_version": "1.2.0",
      "model_name": "LayoutModel",
      "state": {}
     },
     "ac7eb723764743bb9c8535889f5ab1ad": {
      "model_module": "@jupyter-widgets/controls",
      "model_module_version": "1.5.0",
      "model_name": "ProgressStyleModel",
      "state": {
       "description_width": ""
      }
     },
     "ad5c7123bb8e42488cc38f3a601c4b5d": {
      "model_module": "@jupyter-widgets/controls",
      "model_module_version": "1.5.0",
      "model_name": "ProgressStyleModel",
      "state": {
       "description_width": ""
      }
     },
     "b08a626cb0674765afab6a9aed6e4b6c": {
      "model_module": "@jupyter-widgets/base",
      "model_module_version": "1.2.0",
      "model_name": "LayoutModel",
      "state": {}
     },
     "b1a8431fb1d5409ea027db23c898ee6b": {
      "model_module": "@jupyter-widgets/controls",
      "model_module_version": "1.5.0",
      "model_name": "HBoxModel",
      "state": {
       "children": [
        "IPY_MODEL_84d9f7793f5048e5952ac01169132e91",
        "IPY_MODEL_e6450fdcf147494aa8370ddeda3e6483",
        "IPY_MODEL_9d0538720b924a41810d68eae81931c0"
       ],
       "layout": "IPY_MODEL_e2cbe58961d6490cae6815fb31bfe5b1"
      }
     },
     "b1bd46c58c884f7db178782407e97136": {
      "model_module": "@jupyter-widgets/controls",
      "model_module_version": "1.5.0",
      "model_name": "DescriptionStyleModel",
      "state": {
       "description_width": ""
      }
     },
     "b21cf07859cd425d9e7783da4d16393b": {
      "model_module": "@jupyter-widgets/controls",
      "model_module_version": "1.5.0",
      "model_name": "HTMLModel",
      "state": {
       "layout": "IPY_MODEL_8b2aec486c994a4fa9b0f5353f697dba",
       "style": "IPY_MODEL_45b4ddbd0db0421c8b91b7804f56413e",
       "value": "100%"
      }
     },
     "b2e0ca85e4554b10a01e6158a39a72fc": {
      "model_module": "@jupyter-widgets/controls",
      "model_module_version": "1.5.0",
      "model_name": "DescriptionStyleModel",
      "state": {
       "description_width": ""
      }
     },
     "b40702a4242146b38aa9c627420ba620": {
      "model_module": "@jupyter-widgets/controls",
      "model_module_version": "1.5.0",
      "model_name": "ProgressStyleModel",
      "state": {
       "description_width": ""
      }
     },
     "b4cc2c2410f1480fbee1e945d43c0dc7": {
      "model_module": "@jupyter-widgets/controls",
      "model_module_version": "1.5.0",
      "model_name": "DescriptionStyleModel",
      "state": {
       "description_width": ""
      }
     },
     "b545e497e7574812a3b97c611de76c8d": {
      "model_module": "@jupyter-widgets/controls",
      "model_module_version": "1.5.0",
      "model_name": "ProgressStyleModel",
      "state": {
       "description_width": ""
      }
     },
     "b82b925cb1c44df79a8b246b7169a312": {
      "model_module": "@jupyter-widgets/controls",
      "model_module_version": "1.5.0",
      "model_name": "HTMLModel",
      "state": {
       "layout": "IPY_MODEL_f4eb22e21e2a4b9c8925910d9f0fd68d",
       "style": "IPY_MODEL_e5af9088ca034907a6601a28089573eb",
       "value": "  0%"
      }
     },
     "b9a7f788dec94c6e972fb3b379e9f351": {
      "model_module": "@jupyter-widgets/controls",
      "model_module_version": "1.5.0",
      "model_name": "HTMLModel",
      "state": {
       "layout": "IPY_MODEL_5c221ee4a909464c974df2f95f03ccdb",
       "style": "IPY_MODEL_273adb2c834944e3b8ce73b840183237",
       "value": "100%"
      }
     },
     "b9cbb15480414b3095c2449e64054035": {
      "model_module": "@jupyter-widgets/controls",
      "model_module_version": "1.5.0",
      "model_name": "HBoxModel",
      "state": {
       "children": [
        "IPY_MODEL_6f319527cb0743549c2933cc2c9afb4f",
        "IPY_MODEL_028793704a3941c9b7db6da55ffb89bc",
        "IPY_MODEL_604d259e2de84ed3afcc4dce920c515d"
       ],
       "layout": "IPY_MODEL_1544fd1539e3433a8753a41f088c2839"
      }
     },
     "bab03d0a4c4143229b137e881ba845ca": {
      "model_module": "@jupyter-widgets/base",
      "model_module_version": "1.2.0",
      "model_name": "LayoutModel",
      "state": {}
     },
     "bac56f8595304c8da1c525114e6d92cf": {
      "model_module": "@jupyter-widgets/controls",
      "model_module_version": "1.5.0",
      "model_name": "ProgressStyleModel",
      "state": {
       "description_width": ""
      }
     },
     "bbe1b2325ac648f487ae73bb6b70e623": {
      "model_module": "@jupyter-widgets/controls",
      "model_module_version": "1.5.0",
      "model_name": "DescriptionStyleModel",
      "state": {
       "description_width": ""
      }
     },
     "bc47410791bf4089843499e2d135da4d": {
      "model_module": "@jupyter-widgets/controls",
      "model_module_version": "1.5.0",
      "model_name": "HBoxModel",
      "state": {
       "children": [
        "IPY_MODEL_0be667dd898e46998c698c18cdba9d5c",
        "IPY_MODEL_2410c2c7002b46c88c68c2b0a14d64b9",
        "IPY_MODEL_5899dd9df5374913860343056cf2d36f"
       ],
       "layout": "IPY_MODEL_150a51da23f74812ad6f0cab3efb5df0"
      }
     },
     "bc5989d52af742bca868125d6b891ab4": {
      "model_module": "@jupyter-widgets/controls",
      "model_module_version": "1.5.0",
      "model_name": "FloatProgressModel",
      "state": {
       "bar_style": "success",
       "layout": "IPY_MODEL_7941b0f874b54e10a3deced08497b650",
       "max": 10,
       "style": "IPY_MODEL_c1f9c025d14f4f3c8cb31ccb6bb74a64",
       "value": 10
      }
     },
     "bd44bd9a57c64b65973e1782e4bea401": {
      "model_module": "@jupyter-widgets/base",
      "model_module_version": "1.2.0",
      "model_name": "LayoutModel",
      "state": {}
     },
     "bff216d9c2724bbcbb48953c5896fe5f": {
      "model_module": "@jupyter-widgets/base",
      "model_module_version": "1.2.0",
      "model_name": "LayoutModel",
      "state": {}
     },
     "c04c654a9abb465c8f3b83b676c214f8": {
      "model_module": "@jupyter-widgets/base",
      "model_module_version": "1.2.0",
      "model_name": "LayoutModel",
      "state": {}
     },
     "c1f3014a29f745b9bd45f8d24b7ef261": {
      "model_module": "@jupyter-widgets/base",
      "model_module_version": "1.2.0",
      "model_name": "LayoutModel",
      "state": {}
     },
     "c1f9c025d14f4f3c8cb31ccb6bb74a64": {
      "model_module": "@jupyter-widgets/controls",
      "model_module_version": "1.5.0",
      "model_name": "ProgressStyleModel",
      "state": {
       "description_width": ""
      }
     },
     "c461489e68f74f20a3b69fcb55c21f51": {
      "model_module": "@jupyter-widgets/controls",
      "model_module_version": "1.5.0",
      "model_name": "FloatProgressModel",
      "state": {
       "bar_style": "danger",
       "layout": "IPY_MODEL_c1f3014a29f745b9bd45f8d24b7ef261",
       "max": 10,
       "style": "IPY_MODEL_ac7eb723764743bb9c8535889f5ab1ad"
      }
     },
     "c56ee2fe983443cb906cc82b8d1e8d84": {
      "model_module": "@jupyter-widgets/controls",
      "model_module_version": "1.5.0",
      "model_name": "ProgressStyleModel",
      "state": {
       "description_width": ""
      }
     },
     "c6c88a2dde4d402795c3d8c5d524e063": {
      "model_module": "@jupyter-widgets/base",
      "model_module_version": "1.2.0",
      "model_name": "LayoutModel",
      "state": {}
     },
     "c6e743294bee4d26afb28bd09dc8ea72": {
      "model_module": "@jupyter-widgets/controls",
      "model_module_version": "1.5.0",
      "model_name": "FloatProgressModel",
      "state": {
       "bar_style": "danger",
       "layout": "IPY_MODEL_6442d16a30944e9cbb1484cfa4fa667b",
       "max": 10,
       "style": "IPY_MODEL_bac56f8595304c8da1c525114e6d92cf"
      }
     },
     "c8c8c418a08a4f499f540f476712257d": {
      "model_module": "@jupyter-widgets/controls",
      "model_module_version": "1.5.0",
      "model_name": "HTMLModel",
      "state": {
       "layout": "IPY_MODEL_9637fcacfc064b3ebf4b33f911bbebe6",
       "style": "IPY_MODEL_68cd22d8161742efa4e5411d09461a9b",
       "value": "100%"
      }
     },
     "c9efcabd3c044121bc46fa6a09cd1014": {
      "model_module": "@jupyter-widgets/controls",
      "model_module_version": "1.5.0",
      "model_name": "HBoxModel",
      "state": {
       "children": [
        "IPY_MODEL_2b0e5127af2a4a9fa17d2c90ea4f8bab",
        "IPY_MODEL_2660e808c46a4a34b06f7efc0fa306f1",
        "IPY_MODEL_1d07e113cfad4a8994daece5b08d7d1c"
       ],
       "layout": "IPY_MODEL_d929539da15440f5acf44e0a72f1e332"
      }
     },
     "ca198d6b48e84ea59d2574f04a2a903a": {
      "model_module": "@jupyter-widgets/base",
      "model_module_version": "1.2.0",
      "model_name": "LayoutModel",
      "state": {}
     },
     "ca629a42881c4a92b9d60a2e770912ad": {
      "model_module": "@jupyter-widgets/controls",
      "model_module_version": "1.5.0",
      "model_name": "HBoxModel",
      "state": {
       "children": [
        "IPY_MODEL_2f6b440b71674110ad54cf0f2ddf994b",
        "IPY_MODEL_1a40d9b87ff942b9802bc6081b6f30db",
        "IPY_MODEL_6e9320d0966847dd888a94978291ae49"
       ],
       "layout": "IPY_MODEL_53154c5cb0c14d519a7e4305a9939e59"
      }
     },
     "caa372db863d4aef98620b496ce2e58a": {
      "model_module": "@jupyter-widgets/base",
      "model_module_version": "1.2.0",
      "model_name": "LayoutModel",
      "state": {}
     },
     "cc300ed2a8d3469794feb76fdef1ce7c": {
      "model_module": "@jupyter-widgets/controls",
      "model_module_version": "1.5.0",
      "model_name": "HTMLModel",
      "state": {
       "layout": "IPY_MODEL_2edb959a188743e999d3e25bcdfff565",
       "style": "IPY_MODEL_d74dfbd92b3a416bbcc5b6502610e547",
       "value": " 0/10 [00:09&lt;?, ?it/s]"
      }
     },
     "cd60d9bdf6f6467192bd40486b44b5bd": {
      "model_module": "@jupyter-widgets/base",
      "model_module_version": "1.2.0",
      "model_name": "LayoutModel",
      "state": {}
     },
     "ce7e5a5839a048e8844d9c078d6ed920": {
      "model_module": "@jupyter-widgets/controls",
      "model_module_version": "1.5.0",
      "model_name": "FloatProgressModel",
      "state": {
       "bar_style": "danger",
       "layout": "IPY_MODEL_ab95e4a3458c4777908978b9b1be5df8",
       "max": 10,
       "style": "IPY_MODEL_71e8b776f89e439f9e0c7d12125357f0"
      }
     },
     "cf140c02a6d644d58fef37f86a1e0bb2": {
      "model_module": "@jupyter-widgets/controls",
      "model_module_version": "1.5.0",
      "model_name": "DescriptionStyleModel",
      "state": {
       "description_width": ""
      }
     },
     "d01f2bde27414b029c09c28bbef805a0": {
      "model_module": "@jupyter-widgets/controls",
      "model_module_version": "1.5.0",
      "model_name": "FloatProgressModel",
      "state": {
       "bar_style": "success",
       "layout": "IPY_MODEL_90dd75adbaa4444d8a82eba4f8fad0c3",
       "max": 10,
       "style": "IPY_MODEL_a1312cb7118645e4a1e886f6bffcad61",
       "value": 10
      }
     },
     "d06e0bc5a2814217a6c184d72fd1fd80": {
      "model_module": "@jupyter-widgets/base",
      "model_module_version": "1.2.0",
      "model_name": "LayoutModel",
      "state": {}
     },
     "d094d014e8d646a3be133eac502eea0e": {
      "model_module": "@jupyter-widgets/controls",
      "model_module_version": "1.5.0",
      "model_name": "HTMLModel",
      "state": {
       "layout": "IPY_MODEL_c04c654a9abb465c8f3b83b676c214f8",
       "style": "IPY_MODEL_5a74266d64ae4a5a9e4e502cc2b5e0bb",
       "value": " 0/10 [00:00&lt;?, ?it/s]"
      }
     },
     "d1c4542b38144ff7b2ead412f6439b5c": {
      "model_module": "@jupyter-widgets/controls",
      "model_module_version": "1.5.0",
      "model_name": "FloatProgressModel",
      "state": {
       "bar_style": "danger",
       "layout": "IPY_MODEL_d06e0bc5a2814217a6c184d72fd1fd80",
       "max": 10,
       "style": "IPY_MODEL_57830f867dd8446d9e970d43deb958f3"
      }
     },
     "d1d1fb66991d42bd91facbf2f9ab5814": {
      "model_module": "@jupyter-widgets/base",
      "model_module_version": "1.2.0",
      "model_name": "LayoutModel",
      "state": {}
     },
     "d3ee133acd8e46dcae55e3152e409b24": {
      "model_module": "@jupyter-widgets/base",
      "model_module_version": "1.2.0",
      "model_name": "LayoutModel",
      "state": {}
     },
     "d4e59b37fbfb4e0fb9beefdc677b3a10": {
      "model_module": "@jupyter-widgets/controls",
      "model_module_version": "1.5.0",
      "model_name": "DescriptionStyleModel",
      "state": {
       "description_width": ""
      }
     },
     "d59108cfaed94608993d7df266d9fbdc": {
      "model_module": "@jupyter-widgets/controls",
      "model_module_version": "1.5.0",
      "model_name": "HTMLModel",
      "state": {
       "layout": "IPY_MODEL_941ceecde5af4c88aeee40c151cdaa0e",
       "style": "IPY_MODEL_80db7b164c1f483fa12d942503ba6849",
       "value": " 10/10 [00:00&lt;00:00, 370.77it/s]"
      }
     },
     "d74dfbd92b3a416bbcc5b6502610e547": {
      "model_module": "@jupyter-widgets/controls",
      "model_module_version": "1.5.0",
      "model_name": "DescriptionStyleModel",
      "state": {
       "description_width": ""
      }
     },
     "d7dd2004211c458c9c9c4ccaa47697c5": {
      "model_module": "@jupyter-widgets/controls",
      "model_module_version": "1.5.0",
      "model_name": "HBoxModel",
      "state": {
       "children": [
        "IPY_MODEL_4ca11549ead046f28a14558e805ed8b4",
        "IPY_MODEL_a089414aa42745b483636ff5bde36758",
        "IPY_MODEL_cc300ed2a8d3469794feb76fdef1ce7c"
       ],
       "layout": "IPY_MODEL_fd13f1d277a84d0885c31c8e6362fb56"
      }
     },
     "d8482da9a9614e8482d15fe6f7bfef8b": {
      "model_module": "@jupyter-widgets/controls",
      "model_module_version": "1.5.0",
      "model_name": "HTMLModel",
      "state": {
       "layout": "IPY_MODEL_848760db121f4a9ba48ef12b582e2144",
       "style": "IPY_MODEL_bbe1b2325ac648f487ae73bb6b70e623",
       "value": " 10/10 [2:35:23&lt;00:00, 934.01s/it]"
      }
     },
     "d888fe3231c0439faf5c85559913b7e1": {
      "model_module": "@jupyter-widgets/controls",
      "model_module_version": "1.5.0",
      "model_name": "ProgressStyleModel",
      "state": {
       "description_width": ""
      }
     },
     "d929539da15440f5acf44e0a72f1e332": {
      "model_module": "@jupyter-widgets/base",
      "model_module_version": "1.2.0",
      "model_name": "LayoutModel",
      "state": {}
     },
     "d9a41e3c86ec440f93a918a2c6fd4c3a": {
      "model_module": "@jupyter-widgets/controls",
      "model_module_version": "1.5.0",
      "model_name": "DescriptionStyleModel",
      "state": {
       "description_width": ""
      }
     },
     "da1f3ac50ed24e95a74656ff18b8df91": {
      "model_module": "@jupyter-widgets/base",
      "model_module_version": "1.2.0",
      "model_name": "LayoutModel",
      "state": {}
     },
     "da21d202c8b9441a8d1bbcd6491524b2": {
      "model_module": "@jupyter-widgets/controls",
      "model_module_version": "1.5.0",
      "model_name": "HTMLModel",
      "state": {
       "layout": "IPY_MODEL_427afe2082c446738469d8993dff5990",
       "style": "IPY_MODEL_a2480d1cb7a74582b1fa260165dbb275",
       "value": " 0/10 [06:38&lt;?, ?it/s]"
      }
     },
     "db1bed8af1734d5392d40eb12ff92c96": {
      "model_module": "@jupyter-widgets/controls",
      "model_module_version": "1.5.0",
      "model_name": "HTMLModel",
      "state": {
       "layout": "IPY_MODEL_bff216d9c2724bbcbb48953c5896fe5f",
       "style": "IPY_MODEL_36f4f40d452e41cc9e02565b5f09eb0f",
       "value": "100%"
      }
     },
     "dc53a922f5c34dacb08248a7e01aa5a6": {
      "model_module": "@jupyter-widgets/controls",
      "model_module_version": "1.5.0",
      "model_name": "HTMLModel",
      "state": {
       "layout": "IPY_MODEL_9a1b681815cf4570bdd0ae8495d22a0a",
       "style": "IPY_MODEL_72e3ea3de4b44ec79f788d1d3efa8eb3",
       "value": " 10/10 [04:00&lt;00:00, 24.27s/it]"
      }
     },
     "dec5e0e82131429b8aee165bed7c7427": {
      "model_module": "@jupyter-widgets/controls",
      "model_module_version": "1.5.0",
      "model_name": "HBoxModel",
      "state": {
       "children": [
        "IPY_MODEL_5f5871489eb144ee92e9151158c7605a",
        "IPY_MODEL_e1910b84320d49b38258cadeba345ade",
        "IPY_MODEL_f06d3a14236341fcb979c027d8f02a13"
       ],
       "layout": "IPY_MODEL_7e1bfad5b031428f801bfa68d629dccc"
      }
     },
     "df15375bf300401f911e6c9eb09b6d45": {
      "model_module": "@jupyter-widgets/controls",
      "model_module_version": "1.5.0",
      "model_name": "DescriptionStyleModel",
      "state": {
       "description_width": ""
      }
     },
     "dfbae4aa05ef4b2d8e1c38cb1f8fc72f": {
      "model_module": "@jupyter-widgets/controls",
      "model_module_version": "1.5.0",
      "model_name": "ProgressStyleModel",
      "state": {
       "description_width": ""
      }
     },
     "e05514dbe1674ba4b7b1360ca662372f": {
      "model_module": "@jupyter-widgets/base",
      "model_module_version": "1.2.0",
      "model_name": "LayoutModel",
      "state": {}
     },
     "e1910b84320d49b38258cadeba345ade": {
      "model_module": "@jupyter-widgets/controls",
      "model_module_version": "1.5.0",
      "model_name": "FloatProgressModel",
      "state": {
       "bar_style": "success",
       "layout": "IPY_MODEL_29705f6347cb42b2bf6c2b8deaf7d9fa",
       "max": 10,
       "style": "IPY_MODEL_dfbae4aa05ef4b2d8e1c38cb1f8fc72f",
       "value": 10
      }
     },
     "e2cbe58961d6490cae6815fb31bfe5b1": {
      "model_module": "@jupyter-widgets/base",
      "model_module_version": "1.2.0",
      "model_name": "LayoutModel",
      "state": {}
     },
     "e2dff83d546a45c39604544f1e835866": {
      "model_module": "@jupyter-widgets/controls",
      "model_module_version": "1.5.0",
      "model_name": "FloatProgressModel",
      "state": {
       "bar_style": "success",
       "layout": "IPY_MODEL_7ff9a7b90a5f4f79a5d8585cdc59e0b0",
       "max": 10,
       "style": "IPY_MODEL_76b5dd522e17425db69fd0a006bfde5b",
       "value": 10
      }
     },
     "e486d5f0680b437abde4558f7e474527": {
      "model_module": "@jupyter-widgets/controls",
      "model_module_version": "1.5.0",
      "model_name": "HTMLModel",
      "state": {
       "layout": "IPY_MODEL_e05514dbe1674ba4b7b1360ca662372f",
       "style": "IPY_MODEL_91dba727eec44d5686874438192ba9bf",
       "value": " 10/10 [2:21:21&lt;00:00, 674.33s/it]"
      }
     },
     "e5af9088ca034907a6601a28089573eb": {
      "model_module": "@jupyter-widgets/controls",
      "model_module_version": "1.5.0",
      "model_name": "DescriptionStyleModel",
      "state": {
       "description_width": ""
      }
     },
     "e64382348bfc498081ea1b9d37865e08": {
      "model_module": "@jupyter-widgets/controls",
      "model_module_version": "1.5.0",
      "model_name": "HBoxModel",
      "state": {
       "children": [
        "IPY_MODEL_b21cf07859cd425d9e7783da4d16393b",
        "IPY_MODEL_952b71c9b14749c2ae99d12267040867",
        "IPY_MODEL_fc26c3fea244466d86985882ac698be2"
       ],
       "layout": "IPY_MODEL_5bc6eab672504331bb414df5a6ec14c3"
      }
     },
     "e6450fdcf147494aa8370ddeda3e6483": {
      "model_module": "@jupyter-widgets/controls",
      "model_module_version": "1.5.0",
      "model_name": "FloatProgressModel",
      "state": {
       "bar_style": "danger",
       "layout": "IPY_MODEL_fd676c790189407a93a307e11b650dff",
       "max": 10,
       "style": "IPY_MODEL_2805321b766e4f7b9d4d8095e1a2214f"
      }
     },
     "e71b47eadb1c4c2aa7713281f64ce921": {
      "model_module": "@jupyter-widgets/controls",
      "model_module_version": "1.5.0",
      "model_name": "HBoxModel",
      "state": {
       "children": [
        "IPY_MODEL_a81c5e027bbd4c3dbd0a4a1af40a8d96",
        "IPY_MODEL_d1c4542b38144ff7b2ead412f6439b5c",
        "IPY_MODEL_440def59890d41a68189252f2aa86839"
       ],
       "layout": "IPY_MODEL_111c5b98d9434b62883b1c5ee498bcd6"
      }
     },
     "e764468112b24bdcb94ba4c70e3b6133": {
      "model_module": "@jupyter-widgets/controls",
      "model_module_version": "1.5.0",
      "model_name": "DescriptionStyleModel",
      "state": {
       "description_width": ""
      }
     },
     "e78da3962be24b2eb70946f2fa0b4fce": {
      "model_module": "@jupyter-widgets/controls",
      "model_module_version": "1.5.0",
      "model_name": "DescriptionStyleModel",
      "state": {
       "description_width": ""
      }
     },
     "ea3626cbe07e464e961c66e572bc6dbd": {
      "model_module": "@jupyter-widgets/controls",
      "model_module_version": "1.5.0",
      "model_name": "ProgressStyleModel",
      "state": {
       "description_width": ""
      }
     },
     "ea8816c8cf6f41a3a19038c17896b4b6": {
      "model_module": "@jupyter-widgets/base",
      "model_module_version": "1.2.0",
      "model_name": "LayoutModel",
      "state": {}
     },
     "eabc29bb72774ef9a3f385804b0349cc": {
      "model_module": "@jupyter-widgets/base",
      "model_module_version": "1.2.0",
      "model_name": "LayoutModel",
      "state": {}
     },
     "eb85d75d850d46459d21cd0755f91226": {
      "model_module": "@jupyter-widgets/controls",
      "model_module_version": "1.5.0",
      "model_name": "HTMLModel",
      "state": {
       "layout": "IPY_MODEL_7585f2a157464741a23db2ffe34206c7",
       "style": "IPY_MODEL_7a25359d6ae343bb835c888fce121c55",
       "value": "  0%"
      }
     },
     "ee1877a7b6bb407da6a4886cdba51984": {
      "model_module": "@jupyter-widgets/controls",
      "model_module_version": "1.5.0",
      "model_name": "HBoxModel",
      "state": {
       "children": [
        "IPY_MODEL_38bb695f388a44b6a897b1a04f173f1e",
        "IPY_MODEL_a22d048903db4c809500ae1a424e3850",
        "IPY_MODEL_466e055585254031afda60fb1a6fe5fc"
       ],
       "layout": "IPY_MODEL_1301f716de704dfca857c8f91d0493d5"
      }
     },
     "ee1a339e0a04417eb68d898c70488d9c": {
      "model_module": "@jupyter-widgets/base",
      "model_module_version": "1.2.0",
      "model_name": "LayoutModel",
      "state": {}
     },
     "ee366e58426841b7b63772146e9d276f": {
      "model_module": "@jupyter-widgets/base",
      "model_module_version": "1.2.0",
      "model_name": "LayoutModel",
      "state": {}
     },
     "f05d66f8dbb24a94ac1f8ee151c52eb0": {
      "model_module": "@jupyter-widgets/controls",
      "model_module_version": "1.5.0",
      "model_name": "DescriptionStyleModel",
      "state": {
       "description_width": ""
      }
     },
     "f06d3a14236341fcb979c027d8f02a13": {
      "model_module": "@jupyter-widgets/controls",
      "model_module_version": "1.5.0",
      "model_name": "HTMLModel",
      "state": {
       "layout": "IPY_MODEL_6044c1baeb0748fbb68815fda15b1460",
       "style": "IPY_MODEL_0d6f295743ab44a39c1025560add6c42",
       "value": " 10/10 [00:00&lt;00:00, 353.40it/s]"
      }
     },
     "f167bcc96d8644808dc54fa9cb69430b": {
      "model_module": "@jupyter-widgets/base",
      "model_module_version": "1.2.0",
      "model_name": "LayoutModel",
      "state": {}
     },
     "f1a384f4e1944a33a743c47a3193e248": {
      "model_module": "@jupyter-widgets/controls",
      "model_module_version": "1.5.0",
      "model_name": "HTMLModel",
      "state": {
       "layout": "IPY_MODEL_06e44a46142047e3b9327ff87011c41d",
       "style": "IPY_MODEL_cf140c02a6d644d58fef37f86a1e0bb2",
       "value": " 10/10 [06:02&lt;00:00, 36.16s/it]"
      }
     },
     "f2c187174fd8456782f4427194985ac8": {
      "model_module": "@jupyter-widgets/base",
      "model_module_version": "1.2.0",
      "model_name": "LayoutModel",
      "state": {}
     },
     "f4eb22e21e2a4b9c8925910d9f0fd68d": {
      "model_module": "@jupyter-widgets/base",
      "model_module_version": "1.2.0",
      "model_name": "LayoutModel",
      "state": {}
     },
     "f63316813dcc4decafa59da05df5938e": {
      "model_module": "@jupyter-widgets/base",
      "model_module_version": "1.2.0",
      "model_name": "LayoutModel",
      "state": {}
     },
     "fc26c3fea244466d86985882ac698be2": {
      "model_module": "@jupyter-widgets/controls",
      "model_module_version": "1.5.0",
      "model_name": "HTMLModel",
      "state": {
       "layout": "IPY_MODEL_f167bcc96d8644808dc54fa9cb69430b",
       "style": "IPY_MODEL_7f45d953613649cba727c63fef3f451d",
       "value": " 10/10 [00:00&lt;00:00, 397.02it/s]"
      }
     },
     "fd13f1d277a84d0885c31c8e6362fb56": {
      "model_module": "@jupyter-widgets/base",
      "model_module_version": "1.2.0",
      "model_name": "LayoutModel",
      "state": {}
     },
     "fd676c790189407a93a307e11b650dff": {
      "model_module": "@jupyter-widgets/base",
      "model_module_version": "1.2.0",
      "model_name": "LayoutModel",
      "state": {}
     },
     "fdb2c57eadee4a8ab6c5d8f9414aaebe": {
      "model_module": "@jupyter-widgets/controls",
      "model_module_version": "1.5.0",
      "model_name": "HTMLModel",
      "state": {
       "layout": "IPY_MODEL_0160ba22307042bfb988b07440409846",
       "style": "IPY_MODEL_962eb3d06fac4d56b1b4e7ec5183ed5c",
       "value": " 10/10 [06:02&lt;00:00, 35.60s/it]"
      }
     }
    },
    "version_major": 2,
    "version_minor": 0
   }
  }
 },
 "nbformat": 4,
 "nbformat_minor": 5
}
