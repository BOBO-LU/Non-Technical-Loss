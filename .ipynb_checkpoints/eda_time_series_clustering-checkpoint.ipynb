{
 "cells": [
  {
   "cell_type": "code",
   "execution_count": 1,
   "id": "b50f5949",
   "metadata": {
    "Collapsed": "false"
   },
   "outputs": [],
   "source": [
    "%run requirements.ipynb\n",
    "%run config.ipynb\n",
    "%run module_preprocess.ipynb\n",
    "%run module_training.ipynb\n",
    "%run module_fdi_generator.ipynb\n",
    "%run module_feature_extraction.ipynb"
   ]
  },
  {
   "cell_type": "code",
   "execution_count": 2,
   "id": "1e509366",
   "metadata": {
    "Collapsed": "false"
   },
   "outputs": [
    {
     "name": "stdout",
     "output_type": "stream",
     "text": [
      "(10735680, 8)\n",
      "(10735680, 8)\n",
      "(10735680, 8)\n",
      "(10735680, 8)\n",
      "(10735680, 8)\n",
      "(10735680, 8)\n",
      "(10735680, 8)\n",
      "(10735680, 8)\n",
      "(10735680, 8)\n",
      "(10862880, 8)\n"
     ]
    }
   ],
   "source": [
    "smart_meter_data_group = []\n",
    "for i in range(10):\n",
    "    d1 = pd.read_csv('CSV/smartmeterhalf/smart_meter_'+str(i)+'_1.csv')\n",
    "    d2 = pd.read_csv('CSV/smartmeterhalf/smart_meter_'+str(i)+'_2.csv')\n",
    "    data = pd.concat([d1,d2])\n",
    "    print(data.shape)\n",
    "    smart_meter_data_group.append(data)"
   ]
  },
  {
   "cell_type": "code",
   "execution_count": 3,
   "id": "c68e8b06",
   "metadata": {
    "Collapsed": "false",
    "collapsed": true,
    "jupyter": {
     "outputs_hidden": true
    }
   },
   "outputs": [
    {
     "name": "stdout",
     "output_type": "stream",
     "text": [
      "(10735680, 8) 534240\n",
      "(10735680, 8) 534240\n",
      "\n",
      "(10735680, 8) 534240\n",
      "(10735680, 8) 534240\n",
      "\n",
      "(10735680, 8) 534240\n",
      "(10735680, 8) 534240\n",
      "\n",
      "(10735680, 8) 534240\n",
      "(10735680, 8) 534240\n",
      "\n",
      "(10735680, 8) 534240\n",
      "(10735680, 8) 534240\n",
      "\n",
      "(10735680, 8) 534240\n",
      "(10735680, 8) 534240\n",
      "\n",
      "(10735680, 8) 534240\n",
      "(10735680, 8) 534240\n",
      "\n",
      "(10735680, 8) 534240\n",
      "(10735680, 8) 534240\n",
      "\n",
      "(10735680, 8) 534240\n",
      "(10735680, 8) 534240\n",
      "\n",
      "(10862880, 8) 534240\n",
      "(10862880, 8) 534240\n",
      "\n"
     ]
    }
   ],
   "source": [
    "for f in smart_meter_data_group:\n",
    "    print(f.shape, f[ f['FDI_method'] != 0 ]['FDI'].count())\n",
    "    print(f.shape, f[ f['FDI'] == True ]['FDI'].count())\n",
    "    print()"
   ]
  },
  {
   "cell_type": "code",
   "execution_count": 4,
   "id": "ab4e92cc",
   "metadata": {
    "Collapsed": "false"
   },
   "outputs": [
    {
     "name": "stdout",
     "output_type": "stream",
     "text": [
      "(10735680,)\n",
      "(10735680,)\n"
     ]
    }
   ],
   "source": [
    "norm_smart_meter_group = []\n",
    "# the value of x is divided by its\n",
    "# maximum and scaled into a value between zero and one\n",
    "# normalized smart_meter_data_group by divide the max eletricity of the meter\n",
    "for meter in smart_meter_data_group:\n",
    "    \n",
    "    cp = meter.copy(deep=True)\n",
    "    \n",
    "    meter_numpy = cp['Electricity'].to_numpy()\n",
    "    cp['Electricity'] = meter_numpy / meter_numpy.max()\n",
    "    meter_numpy = cp['Atk_Elec'].to_numpy()\n",
    "    cp['Atk_Elec'] = meter_numpy / meter_numpy.max()\n",
    "    norm_smart_meter_group.append(cp)\n",
    "    \n",
    "print(smart_meter_data_group[0]['Electricity'].to_numpy().shape)\n",
    "print(norm_smart_meter_group[0]['Electricity'].to_numpy().shape)"
   ]
  },
  {
   "cell_type": "code",
   "execution_count": 8,
   "id": "b29771e3",
   "metadata": {
    "Collapsed": "false"
   },
   "outputs": [
    {
     "data": {
      "text/plain": [
       "0    0.362\n",
       "1    0.064\n",
       "2    0.119\n",
       "3    0.023\n",
       "Name: Electricity, dtype: float64"
      ]
     },
     "execution_count": 8,
     "metadata": {},
     "output_type": "execute_result"
    }
   ],
   "source": [
    "smart_meter_data_group[0]['Electricity'][:4]"
   ]
  },
  {
   "cell_type": "code",
   "execution_count": 9,
   "id": "5b4bd66d",
   "metadata": {
    "Collapsed": "false"
   },
   "outputs": [
    {
     "data": {
      "text/plain": [
       "0    0.025205\n",
       "1    0.004456\n",
       "2    0.008286\n",
       "3    0.001601\n",
       "Name: Electricity, dtype: float64"
      ]
     },
     "execution_count": 9,
     "metadata": {},
     "output_type": "execute_result"
    }
   ],
   "source": [
    "smart_meter_data_group = norm_smart_meter_group\n",
    "smart_meter_data_group[0]['Electricity'][:4]"
   ]
  },
  {
   "cell_type": "markdown",
   "id": "38889592",
   "metadata": {
    "Collapsed": "false"
   },
   "source": [
    "### start"
   ]
  },
  {
   "cell_type": "code",
   "execution_count": 10,
   "id": "32420cf7",
   "metadata": {
    "Collapsed": "false"
   },
   "outputs": [],
   "source": [
    "# if daily == True: X.reshape(-1, 48)\n",
    "# if daily == False: X.reshape(-1, 530, 48)  ## default\n",
    "\n",
    "def get_no_ntl(daily=False):\n",
    "    X_list = []\n",
    "    pbar = tqdm(smart_meter_data_group)\n",
    "    count = 1\n",
    "    for area in pbar: # iterate 10 data groups\n",
    "#         print(f'start {count}')\n",
    "        X = []\n",
    "        for meter_index in range(int(area.shape[0]/530/48)): # iterate every fdi meter in area \n",
    "            meter_offset = meter_index * 530 * 48\n",
    "            meter = area[meter_offset: meter_offset + 530 * 48]\n",
    "            for i in range(530):\n",
    "                if any(meter[i*48:(i+1)*48]['FDI']):\n",
    "                    continue\n",
    "                X.append(meter[\"Atk_Elec\"][i*48:(i+1)*48].to_numpy())\n",
    "        X = np.array(X)\n",
    "        if daily:\n",
    "            X = X.reshape(-1, 48)\n",
    "        else:\n",
    "            X = X.reshape(-1, 530, 48)\n",
    "        X_list.append(X)\n",
    "        count = count + 1\n",
    "    return X_list\n",
    "\n",
    "def get_only_ntl(daily=False):\n",
    "    X_list = []\n",
    "    pbar = tqdm(smart_meter_data_group)\n",
    "    count = 1\n",
    "    for area in pbar: # iterate 10 data groups\n",
    "#         print(f'start {count}')\n",
    "        X = []\n",
    "        for meter_index in range(int(area.shape[0]/530/48)): # iterate every fdi meter in area \n",
    "            meter_offset = meter_index * 530 * 48\n",
    "            meter = area[meter_offset: meter_offset + 530 * 48]\n",
    "            for i in range(530):\n",
    "                if not any(meter[i*48:(i+1)*48]['FDI']):\n",
    "                    continue\n",
    "                X.append(meter[\"Atk_Elec\"][i*48:(i+1)*48].to_numpy())\n",
    "        X = np.array(X)\n",
    "        if daily:\n",
    "            X = X.reshape(-1, 48)\n",
    "        else:\n",
    "            X = X.reshape(-1, 530, 48)\n",
    "        X_list.append(X)\n",
    "        count = count + 1\n",
    "    return X_list\n",
    "\n",
    "def get_all(daily=False):\n",
    "    X_list = []\n",
    "    pbar = tqdm(smart_meter_data_group)\n",
    "    count = 1\n",
    "    for area in pbar: # iterate 10 data groups\n",
    "#         print(f'start {count}')\n",
    "        X = area['Atk_Elec'].to_numpy()\n",
    "        if daily:\n",
    "            X = X.reshape(-1, 48)\n",
    "        else:\n",
    "            X = X.reshape(-1, 530, 48)\n",
    "        X_list.append(X)\n",
    "        count = count + 1\n",
    "    return X_list"
   ]
  },
  {
   "cell_type": "code",
   "execution_count": 11,
   "id": "c5597d92",
   "metadata": {
    "Collapsed": "false"
   },
   "outputs": [
    {
     "data": {
      "text/plain": [
       "'\\ncalculate dba 48 & 530, sdtw 48 & 530\\ncheck ntl affect\\nsilhouette\\ncluster it\\n'"
      ]
     },
     "execution_count": 11,
     "metadata": {},
     "output_type": "execute_result"
    }
   ],
   "source": [
    "\"\"\"\n",
    "calculate dba 48 & 530, sdtw 48 & 530\n",
    "check ntl affect\n",
    "silhouette\n",
    "cluster it\n",
    "\"\"\""
   ]
  },
  {
   "cell_type": "markdown",
   "id": "546e2c14",
   "metadata": {
    "Collapsed": "false"
   },
   "source": [
    "# euclidean"
   ]
  },
  {
   "cell_type": "markdown",
   "id": "0045b0b7",
   "metadata": {
    "Collapsed": "false"
   },
   "source": [
    "## eu, -1 * 530 * 48"
   ]
  },
  {
   "cell_type": "code",
   "execution_count": 12,
   "id": "adecd40d",
   "metadata": {
    "Collapsed": "false"
   },
   "outputs": [
    {
     "data": {
      "application/vnd.jupyter.widget-view+json": {
       "model_id": "7e0aa45313394ca3b6ae5623569b3ddb",
       "version_major": 2,
       "version_minor": 0
      },
      "text/plain": [
       "  0%|          | 0/10 [00:00<?, ?it/s]"
      ]
     },
     "metadata": {},
     "output_type": "display_data"
    },
    {
     "data": {
      "application/vnd.jupyter.widget-view+json": {
       "model_id": "f612477c592e49778911265402c4de28",
       "version_major": 2,
       "version_minor": 0
      },
      "text/plain": [
       "  0%|          | 0/10 [00:00<?, ?it/s]"
      ]
     },
     "metadata": {},
     "output_type": "display_data"
    },
    {
     "name": "stdout",
     "output_type": "stream",
     "text": [
      "(530, 48)\n"
     ]
    },
    {
     "data": {
      "application/vnd.jupyter.widget-view+json": {
       "model_id": "f3ccbc50fd034000aacef87da63775b1",
       "version_major": 2,
       "version_minor": 0
      },
      "text/plain": [
       "  0%|          | 0/10 [00:00<?, ?it/s]"
      ]
     },
     "metadata": {},
     "output_type": "display_data"
    },
    {
     "data": {
      "application/vnd.jupyter.widget-view+json": {
       "model_id": "7ad72715cb624b7d8ad28577fc604420",
       "version_major": 2,
       "version_minor": 0
      },
      "text/plain": [
       "  0%|          | 0/10 [00:00<?, ?it/s]"
      ]
     },
     "metadata": {},
     "output_type": "display_data"
    },
    {
     "name": "stdout",
     "output_type": "stream",
     "text": [
      "(530, 48)\n"
     ]
    },
    {
     "data": {
      "application/vnd.jupyter.widget-view+json": {
       "model_id": "7b3a2c7a5717444097ad0e49c3f07ab7",
       "version_major": 2,
       "version_minor": 0
      },
      "text/plain": [
       "  0%|          | 0/10 [00:00<?, ?it/s]"
      ]
     },
     "metadata": {},
     "output_type": "display_data"
    },
    {
     "data": {
      "application/vnd.jupyter.widget-view+json": {
       "model_id": "87179cc570bc46a5aef9dcbed44eca76",
       "version_major": 2,
       "version_minor": 0
      },
      "text/plain": [
       "  0%|          | 0/10 [00:00<?, ?it/s]"
      ]
     },
     "metadata": {},
     "output_type": "display_data"
    },
    {
     "name": "stdout",
     "output_type": "stream",
     "text": [
      "(530, 48)\n"
     ]
    }
   ],
   "source": [
    "# 530 * 48 all\n",
    "one_cluster_eu_barycenter_48 = []\n",
    "X_list = get_all()\n",
    "pbar = tqdm(X_list)\n",
    "for X in pbar:\n",
    "    result = euclidean_barycenter(X)\n",
    "    one_cluster_eu_barycenter_48.append(result)\n",
    "print(one_cluster_eu_barycenter_48[0].shape)\n",
    "\n",
    "# 530 * 48 no ntl\n",
    "one_cluster_eu_barycenter_48_no_ntl = []\n",
    "X_list = get_no_ntl()\n",
    "pbar = tqdm(X_list)\n",
    "for X in pbar:\n",
    "    result = euclidean_barycenter(X)\n",
    "    one_cluster_eu_barycenter_48_no_ntl.append(result)\n",
    "print(one_cluster_eu_barycenter_48_no_ntl[0].shape)\n",
    "\n",
    "# 530 * 48 only ntl\n",
    "one_cluster_eu_barycenter_48_only_ntl = []\n",
    "X_list = get_only_ntl()\n",
    "pbar = tqdm(X_list)\n",
    "for X in pbar:\n",
    "    result = euclidean_barycenter(X)\n",
    "    one_cluster_eu_barycenter_48_only_ntl.append(result)\n",
    "print(one_cluster_eu_barycenter_48_only_ntl[0].shape)"
   ]
  },
  {
   "cell_type": "code",
   "execution_count": 13,
   "id": "5943f1dd",
   "metadata": {
    "Collapsed": "false"
   },
   "outputs": [
    {
     "data": {
      "image/png": "[encoded data removed]",
      "text/plain": [
       "<Figure size 432x288 with 1 Axes>"
      ]
     },
     "metadata": {},
     "output_type": "display_data"
    }
   ],
   "source": [
    "# sdtw area 0\n",
    "plt.plot(one_cluster_eu_barycenter_48[0][0], label=\"all\")\n",
    "plt.plot(one_cluster_eu_barycenter_48_no_ntl[0][0], label=\"no ntl\")\n",
    "plt.plot(one_cluster_eu_barycenter_48_only_ntl[0][0], label=\"only ntl\")\n",
    "plt.legend(loc=\"upper left\")\n",
    "plt.xlabel(\"Half hours\")\n",
    "plt.ylabel(\"Electricity\")\n",
    "plt.savefig(\"eucldean barycenter 530*48 1 day in area 0\")"
   ]
  },
  {
   "cell_type": "markdown",
   "id": "d3eea8ba",
   "metadata": {
    "Collapsed": "false"
   },
   "source": [
    "## eu, -1 * 48"
   ]
  },
  {
   "cell_type": "code",
   "execution_count": 14,
   "id": "40ee2e11",
   "metadata": {
    "Collapsed": "false"
   },
   "outputs": [
    {
     "data": {
      "application/vnd.jupyter.widget-view+json": {
       "model_id": "d0b084c5fd31477bb55764dd4b4afaf6",
       "version_major": 2,
       "version_minor": 0
      },
      "text/plain": [
       "  0%|          | 0/10 [00:00<?, ?it/s]"
      ]
     },
     "metadata": {},
     "output_type": "display_data"
    },
    {
     "data": {
      "application/vnd.jupyter.widget-view+json": {
       "model_id": "077b93b929e64f22a3915d9a97029d21",
       "version_major": 2,
       "version_minor": 0
      },
      "text/plain": [
       "  0%|          | 0/10 [00:00<?, ?it/s]"
      ]
     },
     "metadata": {},
     "output_type": "display_data"
    },
    {
     "name": "stdout",
     "output_type": "stream",
     "text": [
      "(48, 1)\n"
     ]
    },
    {
     "data": {
      "application/vnd.jupyter.widget-view+json": {
       "model_id": "2532afaa2d054cdca494bc4593a56e20",
       "version_major": 2,
       "version_minor": 0
      },
      "text/plain": [
       "  0%|          | 0/10 [00:00<?, ?it/s]"
      ]
     },
     "metadata": {},
     "output_type": "display_data"
    },
    {
     "data": {
      "application/vnd.jupyter.widget-view+json": {
       "model_id": "444210e5928540c0928e52fdffe02d31",
       "version_major": 2,
       "version_minor": 0
      },
      "text/plain": [
       "  0%|          | 0/10 [00:00<?, ?it/s]"
      ]
     },
     "metadata": {},
     "output_type": "display_data"
    },
    {
     "name": "stdout",
     "output_type": "stream",
     "text": [
      "(48, 1)\n"
     ]
    },
    {
     "data": {
      "application/vnd.jupyter.widget-view+json": {
       "model_id": "36ce25e16f27481983d40e67b6bd1bdf",
       "version_major": 2,
       "version_minor": 0
      },
      "text/plain": [
       "  0%|          | 0/10 [00:00<?, ?it/s]"
      ]
     },
     "metadata": {},
     "output_type": "display_data"
    },
    {
     "data": {
      "application/vnd.jupyter.widget-view+json": {
       "model_id": "3957a2d17732413ca1c093c800edca35",
       "version_major": 2,
       "version_minor": 0
      },
      "text/plain": [
       "  0%|          | 0/10 [00:00<?, ?it/s]"
      ]
     },
     "metadata": {},
     "output_type": "display_data"
    },
    {
     "name": "stdout",
     "output_type": "stream",
     "text": [
      "(48, 1)\n"
     ]
    }
   ],
   "source": [
    "# 530 * 48 all\n",
    "one_cluster_eu_barycenter = []\n",
    "X_list = get_all(daily=True)\n",
    "pbar = tqdm(X_list)\n",
    "for X in pbar:\n",
    "    result = euclidean_barycenter(X)\n",
    "    one_cluster_eu_barycenter.append(result)\n",
    "print(one_cluster_eu_barycenter[0].shape)\n",
    "\n",
    "# 530 * 48 no ntl\n",
    "one_cluster_eu_barycenter_no_ntl = []\n",
    "X_list = get_no_ntl(daily=True)\n",
    "pbar = tqdm(X_list)\n",
    "for X in pbar:\n",
    "    result = euclidean_barycenter(X)\n",
    "    one_cluster_eu_barycenter_no_ntl.append(result)\n",
    "print(one_cluster_eu_barycenter_no_ntl[0].shape)\n",
    "\n",
    "# 530 * 48 only ntl\n",
    "one_cluster_eu_barycenter_only_ntl = []\n",
    "X_list = get_only_ntl(daily=True)\n",
    "pbar = tqdm(X_list)\n",
    "for X in pbar:\n",
    "    result = euclidean_barycenter(X)\n",
    "    one_cluster_eu_barycenter_only_ntl.append(result)\n",
    "print(one_cluster_eu_barycenter_only_ntl[0].shape)"
   ]
  },
  {
   "cell_type": "code",
   "execution_count": 15,
   "id": "e9b0dc84",
   "metadata": {
    "Collapsed": "false"
   },
   "outputs": [
    {
     "data": {
      "image/png": "[encoded data removed]",
      "text/plain": [
       "<Figure size 432x288 with 1 Axes>"
      ]
     },
     "metadata": {},
     "output_type": "display_data"
    }
   ],
   "source": [
    "# sdtw area 0\n",
    "plt.plot(one_cluster_eu_barycenter[0], label=\"all\")\n",
    "plt.plot(one_cluster_eu_barycenter_no_ntl[0], label=\"no ntl\")\n",
    "plt.plot(one_cluster_eu_barycenter_only_ntl[0], label=\"only ntl\")\n",
    "plt.legend(loc=\"upper left\")\n",
    "plt.xlabel(\"Half hours\")\n",
    "plt.ylabel(\"Electricity\")\n",
    "plt.savefig(\"euclidean barycenter -1*48 1 day in area 0\")"
   ]
  },
  {
   "cell_type": "markdown",
   "id": "0c803c38",
   "metadata": {
    "Collapsed": "false"
   },
   "source": [
    "# dba"
   ]
  },
  {
   "cell_type": "markdown",
   "id": "1fdb9e64",
   "metadata": {
    "Collapsed": "false"
   },
   "source": [
    "## dba, -1 * 530 * 48"
   ]
  },
  {
   "cell_type": "code",
   "execution_count": 16,
   "id": "695952d7",
   "metadata": {
    "Collapsed": "false"
   },
   "outputs": [
    {
     "data": {
      "application/vnd.jupyter.widget-view+json": {
       "model_id": "d97131f2a4114ef3b8e49cbac93d0dcd",
       "version_major": 2,
       "version_minor": 0
      },
      "text/plain": [
       "  0%|          | 0/10 [00:00<?, ?it/s]"
      ]
     },
     "metadata": {},
     "output_type": "display_data"
    },
    {
     "data": {
      "application/vnd.jupyter.widget-view+json": {
       "model_id": "00ed87bd494842e0a2f4db6a54ed9b13",
       "version_major": 2,
       "version_minor": 0
      },
      "text/plain": [
       "  0%|          | 0/10 [00:00<?, ?it/s]"
      ]
     },
     "metadata": {},
     "output_type": "display_data"
    },
    {
     "name": "stderr",
     "output_type": "stream",
     "text": [
      "/opt/conda/lib/python3.7/site-packages/tslearn/barycenters/dba.py:736: ConvergenceWarning: DBA loss is increasing while it should not be. Stopping optimization.\n",
      "  \"Stopping optimization.\", ConvergenceWarning)\n"
     ]
    },
    {
     "name": "stdout",
     "output_type": "stream",
     "text": [
      "(530, 48)\n"
     ]
    }
   ],
   "source": [
    "# 530 * 48 all\n",
    "one_cluster_dba_barycenter_48 = []\n",
    "X_list = get_all()\n",
    "pbar = tqdm(X_list)\n",
    "for X in pbar:\n",
    "    result = dtw_barycenter_averaging_subgradient(X, max_iter=20, tol=1e-3)\n",
    "    one_cluster_dba_barycenter_48.append(result)\n",
    "print(one_cluster_dba_barycenter_48[0].shape)"
   ]
  },
  {
   "cell_type": "code",
   "execution_count": 17,
   "id": "6c4d0c65",
   "metadata": {
    "Collapsed": "false"
   },
   "outputs": [
    {
     "data": {
      "application/vnd.jupyter.widget-view+json": {
       "model_id": "b2f8137765d44febb5371f3d68f14a71",
       "version_major": 2,
       "version_minor": 0
      },
      "text/plain": [
       "  0%|          | 0/10 [00:00<?, ?it/s]"
      ]
     },
     "metadata": {},
     "output_type": "display_data"
    },
    {
     "data": {
      "application/vnd.jupyter.widget-view+json": {
       "model_id": "3ebb43491d364b309e8ae0d0c9ff60f2",
       "version_major": 2,
       "version_minor": 0
      },
      "text/plain": [
       "  0%|          | 0/10 [00:00<?, ?it/s]"
      ]
     },
     "metadata": {},
     "output_type": "display_data"
    },
    {
     "name": "stdout",
     "output_type": "stream",
     "text": [
      "(530, 48)\n"
     ]
    }
   ],
   "source": [
    "# 530 * 48 no ntl\n",
    "one_cluster_dba_barycenter_48_no_ntl = []\n",
    "X_list = get_no_ntl()\n",
    "pbar = tqdm(X_list)\n",
    "for X in pbar:\n",
    "    result = dtw_barycenter_averaging_subgradient(X, max_iter=20, tol=1e-3)\n",
    "    one_cluster_dba_barycenter_48_no_ntl.append(result)\n",
    "print(one_cluster_dba_barycenter_48_no_ntl[0].shape)"
   ]
  },
  {
   "cell_type": "code",
   "execution_count": 18,
   "id": "2c25d7ed",
   "metadata": {
    "Collapsed": "false"
   },
   "outputs": [
    {
     "data": {
      "application/vnd.jupyter.widget-view+json": {
       "model_id": "962091c44c01408d9bcf8a6105b6b0a3",
       "version_major": 2,
       "version_minor": 0
      },
      "text/plain": [
       "  0%|          | 0/10 [00:00<?, ?it/s]"
      ]
     },
     "metadata": {},
     "output_type": "display_data"
    },
    {
     "data": {
      "application/vnd.jupyter.widget-view+json": {
       "model_id": "25149f84c75c4bfc8e91f1640d5a1a2c",
       "version_major": 2,
       "version_minor": 0
      },
      "text/plain": [
       "  0%|          | 0/10 [00:00<?, ?it/s]"
      ]
     },
     "metadata": {},
     "output_type": "display_data"
    },
    {
     "name": "stdout",
     "output_type": "stream",
     "text": [
      "(530, 48)\n"
     ]
    }
   ],
   "source": [
    "# 530 * 48 only ntl\n",
    "one_cluster_dba_barycenter_48_only_ntl = []\n",
    "X_list = get_only_ntl()\n",
    "pbar = tqdm(X_list)\n",
    "for X in pbar:\n",
    "    result = dtw_barycenter_averaging_subgradient(X, max_iter=20, tol=1e-3)\n",
    "    one_cluster_dba_barycenter_48_only_ntl.append(result)\n",
    "print(one_cluster_dba_barycenter_48_only_ntl[0].shape)"
   ]
  },
  {
   "cell_type": "code",
   "execution_count": 19,
   "id": "a6c454c9",
   "metadata": {
    "Collapsed": "false"
   },
   "outputs": [
    {
     "data": {
      "text/plain": [
       "<matplotlib.legend.Legend at 0x7f7fa2a12b50>"
      ]
     },
     "execution_count": 19,
     "metadata": {},
     "output_type": "execute_result"
    },
    {
     "data": {
      "image/png": "[encoded data removed]",
      "text/plain": [
       "<Figure size 432x288 with 1 Axes>"
      ]
     },
     "metadata": {},
     "output_type": "display_data"
    }
   ],
   "source": [
    "# dba area 0\n",
    "plt.plot(one_cluster_dba_barycenter_48[0][0], label=\"all\")\n",
    "plt.plot(one_cluster_dba_barycenter_48_no_ntl[0][0], label=\"no ntl\")\n",
    "plt.plot(one_cluster_dba_barycenter_48_only_ntl[0][0], label=\"only ntl\")\n",
    "plt.legend(loc=\"upper left\")"
   ]
  },
  {
   "cell_type": "markdown",
   "id": "427553bf",
   "metadata": {
    "Collapsed": "false"
   },
   "source": [
    "## dba, -1 * 48"
   ]
  },
  {
   "cell_type": "code",
   "execution_count": 20,
   "id": "a9f0529d",
   "metadata": {
    "Collapsed": "false"
   },
   "outputs": [
    {
     "data": {
      "application/vnd.jupyter.widget-view+json": {
       "model_id": "10a2f825aeb04c50bccd6717ec5fe4f0",
       "version_major": 2,
       "version_minor": 0
      },
      "text/plain": [
       "  0%|          | 0/10 [00:00<?, ?it/s]"
      ]
     },
     "metadata": {},
     "output_type": "display_data"
    },
    {
     "data": {
      "application/vnd.jupyter.widget-view+json": {
       "model_id": "18f282d5f0414d9481f2ebf6bb621a63",
       "version_major": 2,
       "version_minor": 0
      },
      "text/plain": [
       "  0%|          | 0/10 [00:00<?, ?it/s]"
      ]
     },
     "metadata": {},
     "output_type": "display_data"
    },
    {
     "name": "stdout",
     "output_type": "stream",
     "text": [
      "(48, 1)\n"
     ]
    },
    {
     "data": {
      "application/vnd.jupyter.widget-view+json": {
       "model_id": "444cbb3c4647405c9ff3780d01b58e77",
       "version_major": 2,
       "version_minor": 0
      },
      "text/plain": [
       "  0%|          | 0/10 [00:00<?, ?it/s]"
      ]
     },
     "metadata": {},
     "output_type": "display_data"
    },
    {
     "data": {
      "application/vnd.jupyter.widget-view+json": {
       "model_id": "3cb053a9eb76445eaa570410d219adb4",
       "version_major": 2,
       "version_minor": 0
      },
      "text/plain": [
       "  0%|          | 0/10 [00:00<?, ?it/s]"
      ]
     },
     "metadata": {},
     "output_type": "display_data"
    },
    {
     "name": "stdout",
     "output_type": "stream",
     "text": [
      "(48, 1)\n"
     ]
    },
    {
     "data": {
      "application/vnd.jupyter.widget-view+json": {
       "model_id": "dc883238ceb545f3aef04a67a96a8f97",
       "version_major": 2,
       "version_minor": 0
      },
      "text/plain": [
       "  0%|          | 0/10 [00:00<?, ?it/s]"
      ]
     },
     "metadata": {},
     "output_type": "display_data"
    },
    {
     "data": {
      "application/vnd.jupyter.widget-view+json": {
       "model_id": "bdb868ccba684a06a3befef4b0da06eb",
       "version_major": 2,
       "version_minor": 0
      },
      "text/plain": [
       "  0%|          | 0/10 [00:00<?, ?it/s]"
      ]
     },
     "metadata": {},
     "output_type": "display_data"
    },
    {
     "name": "stdout",
     "output_type": "stream",
     "text": [
      "(48, 1)\n"
     ]
    }
   ],
   "source": [
    "# 530 * 48 all\n",
    "one_cluster_dba_barycenter = []\n",
    "X_list = get_all(daily=True)\n",
    "pbar = tqdm(X_list)\n",
    "for X in pbar:\n",
    "    result = dtw_barycenter_averaging_subgradient(X, max_iter=20, tol=1e-3)\n",
    "    one_cluster_dba_barycenter.append(result)\n",
    "print(one_cluster_dba_barycenter[0].shape)\n",
    "\n",
    "# 530 * 48 no ntl\n",
    "one_cluster_dba_barycenter_no_ntl = []\n",
    "X_list = get_no_ntl(daily=True)\n",
    "pbar = tqdm(X_list)\n",
    "for X in pbar:\n",
    "    result = dtw_barycenter_averaging_subgradient(X, max_iter=20, tol=1e-3)\n",
    "    one_cluster_dba_barycenter_no_ntl.append(result)\n",
    "print(one_cluster_dba_barycenter_no_ntl[0].shape)\n",
    "\n",
    "# 530 * 48 only ntl\n",
    "one_cluster_dba_barycenter_only_ntl = []\n",
    "X_list = get_only_ntl(daily=True)\n",
    "pbar = tqdm(X_list)\n",
    "for X in pbar:\n",
    "    result = dtw_barycenter_averaging_subgradient(X, max_iter=20, tol=1e-3)\n",
    "    one_cluster_dba_barycenter_only_ntl.append(result)\n",
    "print(one_cluster_dba_barycenter_only_ntl[0].shape)"
   ]
  },
  {
   "cell_type": "code",
   "execution_count": 21,
   "id": "e6a39038",
   "metadata": {
    "Collapsed": "false"
   },
   "outputs": [
    {
     "data": {
      "text/plain": [
       "<matplotlib.legend.Legend at 0x7f7f856329d0>"
      ]
     },
     "execution_count": 21,
     "metadata": {},
     "output_type": "execute_result"
    },
    {
     "data": {
      "image/png": "[encoded data removed]",
      "text/plain": [
       "<Figure size 432x288 with 1 Axes>"
      ]
     },
     "metadata": {},
     "output_type": "display_data"
    }
   ],
   "source": [
    "# dba area 0\n",
    "plt.plot(one_cluster_dba_barycenter[0], label=\"all\")\n",
    "plt.plot(one_cluster_dba_barycenter_no_ntl[0], label=\"no ntl\")\n",
    "plt.plot(one_cluster_dba_barycenter_only_ntl[0], label=\"only ntl\")\n",
    "plt.legend(loc=\"upper left\")"
   ]
  },
  {
   "cell_type": "markdown",
   "id": "fd0ad40c",
   "metadata": {
    "Collapsed": "false"
   },
   "source": [
    "# sdtw"
   ]
  },
  {
   "cell_type": "markdown",
   "id": "09cf3576",
   "metadata": {
    "Collapsed": "false"
   },
   "source": [
    "## sdtw, -1 * 530 * 48"
   ]
  },
  {
   "cell_type": "code",
   "execution_count": 36,
   "id": "022a2ed5",
   "metadata": {
    "Collapsed": "false"
   },
   "outputs": [
    {
     "data": {
      "application/vnd.jupyter.widget-view+json": {
       "model_id": "ee1877a7b6bb407da6a4886cdba51984",
       "version_major": 2,
       "version_minor": 0
      },
      "text/plain": [
       "  0%|          | 0/10 [00:00<?, ?it/s]"
      ]
     },
     "metadata": {},
     "output_type": "display_data"
    },
    {
     "data": {
      "application/vnd.jupyter.widget-view+json": {
       "model_id": "9324ec6ec0114546910b4bb7e23eec51",
       "version_major": 2,
       "version_minor": 0
      },
      "text/plain": [
       "  0%|          | 0/10 [00:00<?, ?it/s]"
      ]
     },
     "metadata": {},
     "output_type": "display_data"
    },
    {
     "name": "stdout",
     "output_type": "stream",
     "text": [
      "(530, 48)\n"
     ]
    },
    {
     "data": {
      "application/vnd.jupyter.widget-view+json": {
       "model_id": "409224fa55bb4be193cdaae5c2b3bebe",
       "version_major": 2,
       "version_minor": 0
      },
      "text/plain": [
       "  0%|          | 0/10 [00:00<?, ?it/s]"
      ]
     },
     "metadata": {},
     "output_type": "display_data"
    },
    {
     "data": {
      "application/vnd.jupyter.widget-view+json": {
       "model_id": "63a9e04ef60d4c329f09557e4830f2f8",
       "version_major": 2,
       "version_minor": 0
      },
      "text/plain": [
       "  0%|          | 0/10 [00:00<?, ?it/s]"
      ]
     },
     "metadata": {},
     "output_type": "display_data"
    },
    {
     "name": "stdout",
     "output_type": "stream",
     "text": [
      "(530, 48)\n"
     ]
    },
    {
     "data": {
      "application/vnd.jupyter.widget-view+json": {
       "model_id": "3622d73adbb04760a13c257de1cf6260",
       "version_major": 2,
       "version_minor": 0
      },
      "text/plain": [
       "  0%|          | 0/10 [00:00<?, ?it/s]"
      ]
     },
     "metadata": {},
     "output_type": "display_data"
    },
    {
     "data": {
      "application/vnd.jupyter.widget-view+json": {
       "model_id": "a44da9ce86fc416e96f4d4d80f862b50",
       "version_major": 2,
       "version_minor": 0
      },
      "text/plain": [
       "  0%|          | 0/10 [00:00<?, ?it/s]"
      ]
     },
     "metadata": {},
     "output_type": "display_data"
    },
    {
     "name": "stdout",
     "output_type": "stream",
     "text": [
      "(530, 48)\n"
     ]
    }
   ],
   "source": [
    "# 530 * 48 all\n",
    "one_cluster_sdtw_barycenter_48 = []\n",
    "X_list = get_all()\n",
    "pbar = tqdm(X_list)\n",
    "for X in pbar:\n",
    "    result = softdtw_barycenter(X, max_iter=20, tol=1e-3)\n",
    "    one_cluster_sdtw_barycenter_48.append(result)\n",
    "print(one_cluster_sdtw_barycenter_48[0].shape)\n",
    "\n",
    "# 530 * 48 no ntl\n",
    "one_cluster_sdtw_barycenter_48_no_ntl = []\n",
    "X_list = get_no_ntl()\n",
    "pbar = tqdm(X_list)\n",
    "for X in pbar:\n",
    "    result = softdtw_barycenter(X, max_iter=20, tol=1e-3)\n",
    "    one_cluster_sdtw_barycenter_48_no_ntl.append(result)\n",
    "print(one_cluster_sdtw_barycenter_48_no_ntl[0].shape)\n",
    "\n",
    "# 530 * 48 only ntl\n",
    "one_cluster_sdtw_barycenter_48_only_ntl = []\n",
    "X_list = get_only_ntl()\n",
    "pbar = tqdm(X_list)\n",
    "for X in pbar:\n",
    "    result = softdtw_barycenter(X, max_iter=20, tol=1e-3)\n",
    "    one_cluster_sdtw_barycenter_48_only_ntl.append(result)\n",
    "print(one_cluster_sdtw_barycenter_48_only_ntl[0].shape)"
   ]
  },
  {
   "cell_type": "code",
   "execution_count": 47,
   "id": "1bf4f785",
   "metadata": {
    "Collapsed": "false"
   },
   "outputs": [
    {
     "data": {
      "image/png": "[encoded data removed]",
      "text/plain": [
       "<Figure size 360x144 with 1 Axes>"
      ]
     },
     "metadata": {},
     "output_type": "display_data"
    },
    {
     "data": {
      "image/png": "[encoded data removed]",
      "text/plain": [
       "<Figure size 360x144 with 1 Axes>"
      ]
     },
     "metadata": {},
     "output_type": "display_data"
    },
    {
     "data": {
      "image/png": "[encoded data removed]",
      "text/plain": [
       "<Figure size 360x144 with 1 Axes>"
      ]
     },
     "metadata": {},
     "output_type": "display_data"
    },
    {
     "data": {
      "image/png": "[encoded data removed]",
      "text/plain": [
       "<Figure size 360x144 with 1 Axes>"
      ]
     },
     "metadata": {},
     "output_type": "display_data"
    },
    {
     "data": {
      "image/png": "[encoded data removed]",
      "text/plain": [
       "<Figure size 360x144 with 1 Axes>"
      ]
     },
     "metadata": {},
     "output_type": "display_data"
    },
    {
     "data": {
      "image/png": "[encoded data removed]",
      "text/plain": [
       "<Figure size 360x144 with 1 Axes>"
      ]
     },
     "metadata": {},
     "output_type": "display_data"
    },
    {
     "data": {
      "image/png": "[encoded data removed]",
      "text/plain": [
       "<Figure size 360x144 with 1 Axes>"
      ]
     },
     "metadata": {},
     "output_type": "display_data"
    },
    {
     "data": {
      "image/png": "[encoded data removed]",
      "text/plain": [
       "<Figure size 360x144 with 1 Axes>"
      ]
     },
     "metadata": {},
     "output_type": "display_data"
    },
    {
     "data": {
      "image/png": "[encoded data removed]",
      "text/plain": [
       "<Figure size 360x144 with 1 Axes>"
      ]
     },
     "metadata": {},
     "output_type": "display_data"
    },
    {
     "data": {
      "image/png": "[encoded data removed]",
      "text/plain": [
       "<Figure size 360x144 with 1 Axes>"
      ]
     },
     "metadata": {},
     "output_type": "display_data"
    }
   ],
   "source": [
    "# sdtw area 0\n",
    "for i in range(10):\n",
    "    plt.figure(figsize=(5,2))\n",
    "    plt.plot(one_cluster_sdtw_barycenter_48[i][0], label=\"all\")\n",
    "    plt.plot(one_cluster_sdtw_barycenter_48_no_ntl[i][0], label=\"no ntl\")\n",
    "    plt.plot(one_cluster_sdtw_barycenter_48_only_ntl[i][0], label=\"only ntl\")\n",
    "    plt.legend(loc=\"upper left\")\n",
    "    plt.show()"
   ]
  },
  {
   "cell_type": "code",
   "execution_count": 38,
   "id": "f79ebedd",
   "metadata": {
    "Collapsed": "false"
   },
   "outputs": [
    {
     "data": {
      "image/png": "[encoded data removed]",
      "text/plain": [
       "<Figure size 432x288 with 1 Axes>"
      ]
     },
     "metadata": {},
     "output_type": "display_data"
    }
   ],
   "source": [
    "plt.plot(one_cluster_sdtw_barycenter_48[0][0], label=\"all\")\n",
    "plt.plot(one_cluster_sdtw_barycenter_48_no_ntl[0][0], label=\"no ntl\")\n",
    "plt.plot(one_cluster_sdtw_barycenter_48_only_ntl[0][0], label=\"only ntl\")\n",
    "plt.legend(loc=\"upper left\")\n",
    "plt.xlabel(\"Half hours\")\n",
    "plt.ylabel(\"Electricity\")\n",
    "plt.savefig(\"sdtw barycenter 530*48 1 day in area 0\")"
   ]
  },
  {
   "cell_type": "code",
   "execution_count": 39,
   "id": "8f6c6aea",
   "metadata": {
    "Collapsed": "false"
   },
   "outputs": [
    {
     "name": "stdout",
     "output_type": "stream",
     "text": [
      "10\n",
      "21\n",
      "530\n",
      "48\n"
     ]
    }
   ],
   "source": [
    "print(len(X_list))\n",
    "print(len(X_list[0]))\n",
    "print(len(X_list[0][0]))\n",
    "print(len(X_list[0][0][0]))"
   ]
  },
  {
   "cell_type": "code",
   "execution_count": 40,
   "id": "04b8a8c4",
   "metadata": {
    "Collapsed": "false"
   },
   "outputs": [
    {
     "name": "stdout",
     "output_type": "stream",
     "text": [
      "10\n",
      "530\n",
      "48\n"
     ]
    }
   ],
   "source": [
    "print(len(one_cluster_sdtw_barycenter_48))\n",
    "print(len(one_cluster_sdtw_barycenter_48[0]))\n",
    "print(len(one_cluster_sdtw_barycenter_48[0][0]))"
   ]
  },
  {
   "cell_type": "code",
   "execution_count": 41,
   "id": "7f371302",
   "metadata": {
    "Collapsed": "false"
   },
   "outputs": [
    {
     "data": {
      "image/png": "[encoded data removed]",
      "text/plain": [
       "<Figure size 432x288 with 1 Axes>"
      ]
     },
     "metadata": {},
     "output_type": "display_data"
    }
   ],
   "source": [
    "continous = np.empty(0)\n",
    "continous_no_ntl = np.empty(0)\n",
    "continous_only_ntl = np.empty(0)\n",
    "for i in range(5): #前五天\n",
    "    plt.plot(one_cluster_sdtw_barycenter_48[0][i], label=i)\n",
    "    continous = np.append(continous, one_cluster_sdtw_barycenter_48[0][i][0:48])\n",
    "    continous_no_ntl = np.append(continous_no_ntl, one_cluster_sdtw_barycenter_48_no_ntl[0][i][0:48])\n",
    "    continous_only_ntl = np.append(continous_only_ntl, one_cluster_sdtw_barycenter_48_only_ntl[0][i][0:48])\n",
    "    plt.legend(loc=\"upper left\")"
   ]
  },
  {
   "cell_type": "code",
   "execution_count": 42,
   "id": "1a6e9359",
   "metadata": {
    "Collapsed": "false"
   },
   "outputs": [
    {
     "data": {
      "image/png": "[encoded data removed]",
      "text/plain": [
       "<Figure size 720x216 with 1 Axes>"
      ]
     },
     "metadata": {},
     "output_type": "display_data"
    }
   ],
   "source": [
    "# sdtw area 0\n",
    "plt.figure(figsize=(10,3))\n",
    "plt.plot(continous, label=\"all\")\n",
    "plt.plot(continous_no_ntl, label=\"no ntl\")\n",
    "plt.plot(continous_only_ntl, label=\"only ntl\")\n",
    "plt.legend(loc=\"upper left\")\n",
    "plt.xlabel(\"Half hours\")\n",
    "plt.ylabel(\"Electricity\")\n",
    "plt.savefig(\"sdtw barycenter 530*48 5 day in area 0\")"
   ]
  },
  {
   "cell_type": "markdown",
   "id": "2f3855ac",
   "metadata": {
    "Collapsed": "false"
   },
   "source": [
    "## sdtw, -1 * 48"
   ]
  },
  {
   "cell_type": "code",
   "execution_count": null,
   "id": "e63f9bc4",
   "metadata": {
    "Collapsed": "false"
   },
   "outputs": [
    {
     "data": {
      "application/vnd.jupyter.widget-view+json": {
       "model_id": "dec5e0e82131429b8aee165bed7c7427",
       "version_major": 2,
       "version_minor": 0
      },
      "text/plain": [
       "  0%|          | 0/10 [00:00<?, ?it/s]"
      ]
     },
     "metadata": {},
     "output_type": "display_data"
    },
    {
     "data": {
      "application/vnd.jupyter.widget-view+json": {
       "model_id": "c9efcabd3c044121bc46fa6a09cd1014",
       "version_major": 2,
       "version_minor": 0
      },
      "text/plain": [
       "  0%|          | 0/10 [00:00<?, ?it/s]"
      ]
     },
     "metadata": {},
     "output_type": "display_data"
    }
   ],
   "source": [
    "# 530 * 48 all\n",
    "one_cluster_sdtw_barycenter = []\n",
    "X_list = get_all(daily=True)\n",
    "pbar = tqdm(X_list)\n",
    "for X in pbar:\n",
    "    result = softdtw_barycenter(X, max_iter=20, tol=1e-3)\n",
    "    one_cluster_sdtw_barycenter.append(result)\n",
    "print(one_cluster_sdtw_barycenter[0].shape)\n",
    "\n",
    "# 530 * 48 no ntl\n",
    "one_cluster_sdtw_barycenter_no_ntl = []\n",
    "X_list = get_no_ntl(daily=True)\n",
    "pbar = tqdm(X_list)\n",
    "for X in pbar:\n",
    "    result = softdtw_barycenter(X, max_iter=20, tol=1e-3)\n",
    "    one_cluster_sdtw_barycenter_no_ntl.append(result)\n",
    "print(one_cluster_sdtw_barycenter_no_ntl[0].shape)\n",
    "\n",
    "# 530 * 48 only ntl\n",
    "one_cluster_sdtw_barycenter_only_ntl = []\n",
    "X_list = get_only_ntl(daily=True)\n",
    "pbar = tqdm(X_list)\n",
    "for X in pbar:\n",
    "    result = softdtw_barycenter(X, max_iter=20, tol=1e-3)\n",
    "    one_cluster_sdtw_barycenter_only_ntl.append(result)\n",
    "print(one_cluster_sdtw_barycenter_only_ntl[0].shape)"
   ]
  },
  {
   "cell_type": "code",
   "execution_count": null,
   "id": "0a50ea29",
   "metadata": {
    "Collapsed": "false"
   },
   "outputs": [],
   "source": [
    "# sdtw area 0\n",
    "plt.plot(one_cluster_sdtw_barycenter[0], label=\"all\")\n",
    "plt.plot(one_cluster_sdtw_barycenter_no_ntl[0], label=\"no ntl\")\n",
    "plt.plot(one_cluster_sdtw_barycenter_only_ntl[0], label=\"only ntl\")\n",
    "plt.legend(loc=\"upper left\")\n",
    "plt.xlabel(\"Half hours\")\n",
    "plt.ylabel(\"Electricity\")\n",
    "plt.savefig(\"sdtw barycenter -1*48 1 day in area 0\")"
   ]
  },
  {
   "cell_type": "code",
   "execution_count": null,
   "id": "2c332237",
   "metadata": {
    "Collapsed": "false"
   },
   "outputs": [],
   "source": [
    "print(len(one_cluster_sdtw_barycenter))\n",
    "print(len(one_cluster_sdtw_barycenter[0]))\n",
    "print(len(one_cluster_sdtw_barycenter[0][0]))"
   ]
  },
  {
   "cell_type": "code",
   "execution_count": null,
   "id": "45bf22f6",
   "metadata": {
    "Collapsed": "false"
   },
   "outputs": [],
   "source": [
    "continous = np.empty(0)\n",
    "continous_no_ntl = np.empty(0)\n",
    "continous_only_ntl = np.empty(0)\n",
    "for i in range(10): #前五天\n",
    "    plt.plot(one_cluster_sdtw_barycenter[i], label=i)\n",
    "    continous = np.append(continous, one_cluster_sdtw_barycenter[i][0:48])\n",
    "    continous_no_ntl = np.append(continous_no_ntl, one_cluster_sdtw_barycenter_no_ntl[i][0:48])\n",
    "    continous_only_ntl = np.append(continous_only_ntl, one_cluster_sdtw_barycenter_only_ntl[i][0:48])\n",
    "    plt.legend(loc=\"upper left\")"
   ]
  },
  {
   "cell_type": "code",
   "execution_count": null,
   "id": "5428b7c4",
   "metadata": {
    "Collapsed": "false"
   },
   "outputs": [],
   "source": [
    "# sdtw area 0\n",
    "plt.figure(figsize=(10,3))\n",
    "plt.plot(continous, label=\"all\")\n",
    "plt.plot(continous_no_ntl, label=\"no ntl\")\n",
    "plt.plot(continous_only_ntl, label=\"only ntl\")\n",
    "plt.legend(loc=\"upper left\")\n",
    "plt.xlabel(\"Half hours\")\n",
    "plt.ylabel(\"Electricity\")\n",
    "plt.savefig(\"sdtw barycenter -1*48 10 day in area 0\")"
   ]
  },
  {
   "cell_type": "code",
   "execution_count": 35,
   "id": "eeafa238",
   "metadata": {
    "Collapsed": "false"
   },
   "outputs": [
    {
     "name": "stdout",
     "output_type": "stream",
     "text": [
      "finish\n"
     ]
    }
   ],
   "source": [
    "print('finish')"
   ]
  },
  {
   "cell_type": "markdown",
   "id": "228a9402",
   "metadata": {
    "Collapsed": "false"
   },
   "source": [
    "# save results"
   ]
  },
  {
   "cell_type": "markdown",
   "id": "be618f8e",
   "metadata": {
    "Collapsed": "false"
   },
   "source": [
    "## 530 * 48"
   ]
  },
  {
   "cell_type": "code",
   "execution_count": 58,
   "id": "4718eecc",
   "metadata": {
    "Collapsed": "false"
   },
   "outputs": [],
   "source": [
    "#euclidean\n",
    "df = pd.DataFrame(np.array(one_cluster_eu_barycenter_48).reshape(10, 530*48))\n",
    "df.shape\n",
    "e = df.to_csv(index=False)\n",
    "f = open('CSV/tsc/one_cluster_eu_barycenter_48.csv','w')\n",
    "f.write(e) #Give your csv text here.\n",
    "f.close()\n",
    "\n",
    "df = pd.DataFrame(np.array(one_cluster_eu_barycenter_48_no_ntl).reshape(10, 530*48))\n",
    "df.shape\n",
    "e = df.to_csv(index=False)\n",
    "f = open('CSV/tsc/one_cluster_eu_barycenter_48_no_ntl.csv','w')\n",
    "f.write(e) #Give your csv text here.\n",
    "f.close()\n",
    "\n",
    "df = pd.DataFrame(np.array(one_cluster_eu_barycenter_48_only_ntl).reshape(10, 530*48))\n",
    "df.shape\n",
    "e = df.to_csv(index=False)\n",
    "f = open('CSV/tsc/one_cluster_eu_barycenter_48_only_ntl.csv','w')\n",
    "f.write(e) #Give your csv text here.\n",
    "f.close()"
   ]
  },
  {
   "cell_type": "code",
   "execution_count": 59,
   "id": "36efe0bf",
   "metadata": {
    "Collapsed": "false"
   },
   "outputs": [],
   "source": [
    "#dba\n",
    "df = pd.DataFrame(np.array(one_cluster_dba_barycenter_48).reshape(10, 530*48))\n",
    "df.shape\n",
    "e = df.to_csv(index=False)\n",
    "f = open('CSV/tsc/one_cluster_dba_barycenter_48.csv','w')\n",
    "f.write(e) #Give your csv text here.\n",
    "f.close()\n",
    "\n",
    "df = pd.DataFrame(np.array(one_cluster_dba_barycenter_48_no_ntl).reshape(10, 530*48))\n",
    "df.shape\n",
    "e = df.to_csv(index=False)\n",
    "f = open('CSV/tsc/one_cluster_dba_barycenter_48_no_ntl.csv','w')\n",
    "f.write(e) #Give your csv text here.\n",
    "f.close()\n",
    "\n",
    "df = pd.DataFrame(np.array(one_cluster_dba_barycenter_48_only_ntl).reshape(10, 530*48))\n",
    "df.shape\n",
    "e = df.to_csv(index=False)\n",
    "f = open('CSV/tsc/one_cluster_dba_barycenter_48_only_ntl.csv','w')\n",
    "f.write(e) #Give your csv text here.\n",
    "f.close()"
   ]
  },
  {
   "cell_type": "code",
   "execution_count": 43,
   "id": "38a8ecaa",
   "metadata": {
    "Collapsed": "false"
   },
   "outputs": [],
   "source": [
    "#sdtw\n",
    "df = pd.DataFrame(np.array(one_cluster_sdtw_barycenter_48).reshape(10, 530*48))\n",
    "df.shape\n",
    "e = df.to_csv(index=False)\n",
    "f = open('CSV/tsc/one_cluster_sdtw_barycenter_48.csv','w')\n",
    "f.write(e) #Give your csv text here.\n",
    "f.close()\n",
    "\n",
    "df = pd.DataFrame(np.array(one_cluster_sdtw_barycenter_48_no_ntl).reshape(10, 530*48))\n",
    "df.shape\n",
    "e = df.to_csv(index=False)\n",
    "f = open('CSV/tsc/one_cluster_sdtw_barycenter_48_no_ntl.csv','w')\n",
    "f.write(e) #Give your csv text here.\n",
    "f.close()\n",
    "\n",
    "df = pd.DataFrame(np.array(one_cluster_sdtw_barycenter_48_only_ntl).reshape(10, 530*48))\n",
    "df.shape\n",
    "e = df.to_csv(index=False)\n",
    "f = open('CSV/tsc/one_cluster_sdtw_barycenter_48_only_ntl.csv','w')\n",
    "f.write(e) #Give your csv text here.\n",
    "f.close()"
   ]
  },
  {
   "cell_type": "markdown",
   "id": "ba7d8d31",
   "metadata": {
    "Collapsed": "false"
   },
   "source": [
    "## -1 * 48"
   ]
  },
  {
   "cell_type": "code",
   "execution_count": 60,
   "id": "bc930d51",
   "metadata": {
    "Collapsed": "false"
   },
   "outputs": [],
   "source": [
    "#euclidean\n",
    "df = pd.DataFrame(np.array(one_cluster_eu_barycenter).reshape(10,48))\n",
    "df.shape\n",
    "e = df.to_csv(index=False)\n",
    "f = open('CSV/tsc/one_cluster_eu_barycenter.csv','w')\n",
    "f.write(e) #Give your csv text here.\n",
    "f.close()\n",
    "\n",
    "df = pd.DataFrame(np.array(one_cluster_eu_barycenter_no_ntl).reshape(10, 48))\n",
    "df.shape\n",
    "e = df.to_csv(index=False)\n",
    "f = open('CSV/tsc/one_cluster_eu_barycenter_no_ntl.csv','w')\n",
    "f.write(e) #Give your csv text here.\n",
    "f.close()\n",
    "\n",
    "df = pd.DataFrame(np.array(one_cluster_eu_barycenter_only_ntl).reshape(10, 48))\n",
    "df.shape\n",
    "e = df.to_csv(index=False)\n",
    "f = open('CSV/tsc/one_cluster_eu_barycenter_only_ntl.csv','w')\n",
    "f.write(e) #Give your csv text here.\n",
    "f.close()"
   ]
  },
  {
   "cell_type": "code",
   "execution_count": 61,
   "id": "c7f5458c",
   "metadata": {
    "Collapsed": "false"
   },
   "outputs": [],
   "source": [
    "#dba\n",
    "df = pd.DataFrame(np.array(one_cluster_dba_barycenter).reshape(10, 48))\n",
    "df.shape\n",
    "e = df.to_csv(index=False)\n",
    "f = open('CSV/tsc/one_cluster_dba_barycenter.csv','w')\n",
    "f.write(e) #Give your csv text here.\n",
    "f.close()\n",
    "\n",
    "df = pd.DataFrame(np.array(one_cluster_dba_barycenter_no_ntl).reshape(10, 48))\n",
    "df.shape\n",
    "e = df.to_csv(index=False)\n",
    "f = open('CSV/tsc/one_cluster_dba_barycenter_no_ntl.csv','w')\n",
    "f.write(e) #Give your csv text here.\n",
    "f.close()\n",
    "\n",
    "df = pd.DataFrame(np.array(one_cluster_dba_barycenter_only_ntl).reshape(10, 48))\n",
    "df.shape\n",
    "e = df.to_csv(index=False)\n",
    "f = open('CSV/tsc/one_cluster_dba_barycenter_only_ntl.csv','w')\n",
    "f.write(e) #Give your csv text here.\n",
    "f.close()"
   ]
  },
  {
   "cell_type": "code",
   "execution_count": 141,
   "id": "dca213c8",
   "metadata": {
    "Collapsed": "false"
   },
   "outputs": [],
   "source": [
    "#sdtw\n",
    "df = pd.DataFrame(np.array(one_cluster_sdtw_barycenter).reshape(10, 48))\n",
    "df.shape\n",
    "e = df.to_csv(index=False)\n",
    "f = open('CSV/tsc/one_cluster_sdtw_barycenter.csv','w')\n",
    "f.write(e) #Give your csv text here.\n",
    "f.close()\n",
    "\n",
    "df = pd.DataFrame(np.array(one_cluster_sdtw_barycenter_no_ntl).reshape(10, 48))\n",
    "df.shape\n",
    "e = df.to_csv(index=False)\n",
    "f = open('CSV/tsc/one_cluster_sdtw_barycenter_no_ntl.csv','w')\n",
    "f.write(e) #Give your csv text here.\n",
    "f.close()\n",
    "\n",
    "df = pd.DataFrame(np.array(one_cluster_sdtw_barycenter_only_ntl).reshape(10, 48))\n",
    "df.shape\n",
    "e = df.to_csv(index=False)\n",
    "f = open('CSV/tsc/one_cluster_sdtw_barycenter_only_ntl.csv','w')\n",
    "f.write(e) #Give your csv text here.\n",
    "f.close()"
   ]
  }
 ],
 "metadata": {
  "environment": {
   "name": "common-cpu.m71",
   "type": "gcloud",
   "uri": "gcr.io/deeplearning-platform-release/base-cpu:m71"
  },
  "kernelspec": {
   "display_name": "Python 3",
   "language": "python",
   "name": "python3"
  },
  "language_info": {
   "codemirror_mode": {
    "name": "ipython",
    "version": 3
   },
   "file_extension": ".py",
   "mimetype": "text/x-python",
   "name": "python",
   "nbconvert_exporter": "python",
   "pygments_lexer": "ipython3",
   "version": "3.7.10"
  },
  "widgets": {
   "application/vnd.jupyter.widget-state+json": {
    "state": {
     "00d46b8d50af4088a869e50ebc739be3": {
      "model_module": "@jupyter-widgets/base",
      "model_module_version": "1.2.0",
      "model_name": "LayoutModel",
      "state": {}
     },
     "00ed87bd494842e0a2f4db6a54ed9b13": {
      "model_module": "@jupyter-widgets/controls",
      "model_module_version": "1.5.0",
      "model_name": "HBoxModel",
      "state": {
       "children": [
        "IPY_MODEL_1d8d74255847456c825c04db84dcabd4",
        "IPY_MODEL_2be42f90b6a548e9b5b220c044ba5b84",
        "IPY_MODEL_5442bd75fb9048868dd5b3567fd84dc1"
       ],
       "layout": "IPY_MODEL_1ff82206c6f544d0a6e48d1f038cad66"
      }
     },
     "013f36497150460ab207d61c62890886": {
      "model_module": "@jupyter-widgets/controls",
      "model_module_version": "1.5.0",
      "model_name": "DescriptionStyleModel",
      "state": {
       "description_width": ""
      }
     },
     "030617703e9a4322badfbd7ba9abe918": {
      "model_module": "@jupyter-widgets/base",
      "model_module_version": "1.2.0",
      "model_name": "LayoutModel",
      "state": {}
     },
     "03484762c5bc43768ce91fef98c7121e": {
      "model_module": "@jupyter-widgets/controls",
      "model_module_version": "1.5.0",
      "model_name": "HTMLModel",
      "state": {
       "layout": "IPY_MODEL_1b9186943d3443bba287812de7808127",
       "style": "IPY_MODEL_976a16b536d643f8a2ac8ae361d4d7ac",
       "value": " 10/10 [00:54&lt;00:00,  5.41s/it]"
      }
     },
     "03679d9250f14a7dbedda1c77ddf643f": {
      "model_module": "@jupyter-widgets/base",
      "model_module_version": "1.2.0",
      "model_name": "LayoutModel",
      "state": {}
     },
     "05b5627b1bba428a9124902498f20511": {
      "model_module": "@jupyter-widgets/base",
      "model_module_version": "1.2.0",
      "model_name": "LayoutModel",
      "state": {}
     },
     "06ca9e71a35c40e1b7dfdd6bc03a7acf": {
      "model_module": "@jupyter-widgets/base",
      "model_module_version": "1.2.0",
      "model_name": "LayoutModel",
      "state": {}
     },
     "077b93b929e64f22a3915d9a97029d21": {
      "model_module": "@jupyter-widgets/controls",
      "model_module_version": "1.5.0",
      "model_name": "HBoxModel",
      "state": {
       "children": [
        "IPY_MODEL_d15efbfed0414bd28c49e55c14ddaf3c",
        "IPY_MODEL_60de34e3674345f6a88b7bfaef716e65",
        "IPY_MODEL_03484762c5bc43768ce91fef98c7121e"
       ],
       "layout": "IPY_MODEL_0bed4f1052264f97aea1cbda05e69396"
      }
     },
     "07b22ebbadf84e46b773939024eae951": {
      "model_module": "@jupyter-widgets/controls",
      "model_module_version": "1.5.0",
      "model_name": "HTMLModel",
      "state": {
       "layout": "IPY_MODEL_9a0f6bad6fe349fa86208f19972e8edd",
       "style": "IPY_MODEL_3e75cda9fafb4a57b722a979aec2e435",
       "value": " 10/10 [00:01&lt;00:00,  7.69it/s]"
      }
     },
     "09379aecf83d4e98b564efe73948f22e": {
      "model_module": "@jupyter-widgets/controls",
      "model_module_version": "1.5.0",
      "model_name": "HTMLModel",
      "state": {
       "layout": "IPY_MODEL_b7e358a6c4e64a09a2d25b0e460260f3",
       "style": "IPY_MODEL_a450b6670d4248faaab319df470f869d",
       "value": "100%"
      }
     },
     "0b17f7e5c2574b0e9d0c4a8766a49043": {
      "model_module": "@jupyter-widgets/base",
      "model_module_version": "1.2.0",
      "model_name": "LayoutModel",
      "state": {}
     },
     "0bed4f1052264f97aea1cbda05e69396": {
      "model_module": "@jupyter-widgets/base",
      "model_module_version": "1.2.0",
      "model_name": "LayoutModel",
      "state": {}
     },
     "0c3cf8fba6cc4b0fb01e7ecf05a2d8d8": {
      "model_module": "@jupyter-widgets/controls",
      "model_module_version": "1.5.0",
      "model_name": "HTMLModel",
      "state": {
       "layout": "IPY_MODEL_c6b6775b959947379f15fc72ac825119",
       "style": "IPY_MODEL_938b9eda0678416892858f2b55677c46",
       "value": "100%"
      }
     },
     "0d62363c5687496bbd3d486839aefe7f": {
      "model_module": "@jupyter-widgets/controls",
      "model_module_version": "1.5.0",
      "model_name": "FloatProgressModel",
      "state": {
       "bar_style": "success",
       "layout": "IPY_MODEL_9a47d1edf57d48eca8550e91d695b14b",
       "max": 10,
       "style": "IPY_MODEL_f46d8f25df9c4da4b2c80f94bb3d0087",
       "value": 10
      }
     },
     "0d904e9449524daaa711f3a0820e3c31": {
      "model_module": "@jupyter-widgets/base",
      "model_module_version": "1.2.0",
      "model_name": "LayoutModel",
      "state": {}
     },
     "0ef4c5d6b65a4514a410f1e8b51cd507": {
      "model_module": "@jupyter-widgets/controls",
      "model_module_version": "1.5.0",
      "model_name": "HTMLModel",
      "state": {
       "layout": "IPY_MODEL_00d46b8d50af4088a869e50ebc739be3",
       "style": "IPY_MODEL_c97d53d4c7cc44c9a8c1fcfb4b22225a",
       "value": " 10/10 [00:00&lt;00:00, 327.75it/s]"
      }
     },
     "0f411fec6154461b9ed7ed3c8c156c76": {
      "model_module": "@jupyter-widgets/controls",
      "model_module_version": "1.5.0",
      "model_name": "HTMLModel",
      "state": {
       "layout": "IPY_MODEL_2892b420fb7b450babecc707c0516a36",
       "style": "IPY_MODEL_98c8b61292e64323bfc69383d5c8c2e5",
       "value": " 10/10 [06:18&lt;00:00, 36.53s/it]"
      }
     },
     "10a2f825aeb04c50bccd6717ec5fe4f0": {
      "model_module": "@jupyter-widgets/controls",
      "model_module_version": "1.5.0",
      "model_name": "HBoxModel",
      "state": {
       "children": [
        "IPY_MODEL_4ec59112e5b94eae9131c2128310c0ae",
        "IPY_MODEL_bf623d852aa649bba26f1ea5fb8ea685",
        "IPY_MODEL_0ef4c5d6b65a4514a410f1e8b51cd507"
       ],
       "layout": "IPY_MODEL_1769c3a782bf49cbbb02a0ced1fb2157"
      }
     },
     "113ba23542a74e20928a42cf6997e7b2": {
      "model_module": "@jupyter-widgets/base",
      "model_module_version": "1.2.0",
      "model_name": "LayoutModel",
      "state": {}
     },
     "11cfda7963f4471da4069cfe6e59f625": {
      "model_module": "@jupyter-widgets/controls",
      "model_module_version": "1.5.0",
      "model_name": "DescriptionStyleModel",
      "state": {
       "description_width": ""
      }
     },
     "14764f8f6c5c4b338426609ab27490c8": {
      "model_module": "@jupyter-widgets/controls",
      "model_module_version": "1.5.0",
      "model_name": "DescriptionStyleModel",
      "state": {
       "description_width": ""
      }
     },
     "14d24b290b7742d69740a6f2044042f7": {
      "model_module": "@jupyter-widgets/controls",
      "model_module_version": "1.5.0",
      "model_name": "HTMLModel",
      "state": {
       "layout": "IPY_MODEL_faa12c63e12c4a8aa5c3df60b0d0a44c",
       "style": "IPY_MODEL_90bc0d8a387f45f381a6617a91fe5fb4",
       "value": "100%"
      }
     },
     "162ad3f494ad47f5bdba999c40ff0512": {
      "model_module": "@jupyter-widgets/base",
      "model_module_version": "1.2.0",
      "model_name": "LayoutModel",
      "state": {}
     },
     "16496a40ae6e4156bb149b8c034a8d68": {
      "model_module": "@jupyter-widgets/controls",
      "model_module_version": "1.5.0",
      "model_name": "FloatProgressModel",
      "state": {
       "bar_style": "success",
       "layout": "IPY_MODEL_83a72fd117084d67b9d79084b197b248",
       "max": 10,
       "style": "IPY_MODEL_61865939ab6b4c6e9e623a9ccab6f201",
       "value": 10
      }
     },
     "16f2dc9bfb8445bf8b09b0001469c8f2": {
      "model_module": "@jupyter-widgets/base",
      "model_module_version": "1.2.0",
      "model_name": "LayoutModel",
      "state": {}
     },
     "175eb5d47b4946c6ae6ef8965816f42b": {
      "model_module": "@jupyter-widgets/controls",
      "model_module_version": "1.5.0",
      "model_name": "HTMLModel",
      "state": {
       "layout": "IPY_MODEL_8ae90b3eb5f244df937ce5e9b24778f3",
       "style": "IPY_MODEL_8427c6f8b49c4947a98ce5a505805736",
       "value": " 10/10 [04:04&lt;00:00, 24.32s/it]"
      }
     },
     "1769c3a782bf49cbbb02a0ced1fb2157": {
      "model_module": "@jupyter-widgets/base",
      "model_module_version": "1.2.0",
      "model_name": "LayoutModel",
      "state": {}
     },
     "17894061ff924e6abc52321cde843e7d": {
      "model_module": "@jupyter-widgets/base",
      "model_module_version": "1.2.0",
      "model_name": "LayoutModel",
      "state": {}
     },
     "18966966d8c64b43ac66781d892116bc": {
      "model_module": "@jupyter-widgets/controls",
      "model_module_version": "1.5.0",
      "model_name": "ProgressStyleModel",
      "state": {
       "description_width": ""
      }
     },
     "18f282d5f0414d9481f2ebf6bb621a63": {
      "model_module": "@jupyter-widgets/controls",
      "model_module_version": "1.5.0",
      "model_name": "HBoxModel",
      "state": {
       "children": [
        "IPY_MODEL_5149ced05b5e445eafdd1ad7960d2bc2",
        "IPY_MODEL_5c9fd9ef40d8432382c7704beb9b8f83",
        "IPY_MODEL_dd99fe252f9946f2ac542d42ba031fc7"
       ],
       "layout": "IPY_MODEL_1e4db54c964a45a79cf37318e50d71f7"
      }
     },
     "1a2deeefc6f84b2481e628eb1895cd2a": {
      "model_module": "@jupyter-widgets/base",
      "model_module_version": "1.2.0",
      "model_name": "LayoutModel",
      "state": {}
     },
     "1b80106df87a4d0d9a3a016b3fa87ef0": {
      "model_module": "@jupyter-widgets/controls",
      "model_module_version": "1.5.0",
      "model_name": "HTMLModel",
      "state": {
       "layout": "IPY_MODEL_e7731bba6adc4050bdcfd69c4109cc36",
       "style": "IPY_MODEL_90944df2e603407badd2f0082b62669e",
       "value": "100%"
      }
     },
     "1b8cf57686a545c2af0ce1b42e829906": {
      "model_module": "@jupyter-widgets/controls",
      "model_module_version": "1.5.0",
      "model_name": "DescriptionStyleModel",
      "state": {
       "description_width": ""
      }
     },
     "1b9186943d3443bba287812de7808127": {
      "model_module": "@jupyter-widgets/base",
      "model_module_version": "1.2.0",
      "model_name": "LayoutModel",
      "state": {}
     },
     "1d56fe9139e6458e8eb0ef89a3953418": {
      "model_module": "@jupyter-widgets/controls",
      "model_module_version": "1.5.0",
      "model_name": "FloatProgressModel",
      "state": {
       "bar_style": "success",
       "layout": "IPY_MODEL_248bb6f08bb34170b72807207439b9d5",
       "max": 10,
       "style": "IPY_MODEL_e0e595eadd8f4f5aa0fa870773f601a3",
       "value": 10
      }
     },
     "1d8d74255847456c825c04db84dcabd4": {
      "model_module": "@jupyter-widgets/controls",
      "model_module_version": "1.5.0",
      "model_name": "HTMLModel",
      "state": {
       "layout": "IPY_MODEL_17894061ff924e6abc52321cde843e7d",
       "style": "IPY_MODEL_3278623bd23a45e58f7850393fa582ab",
       "value": "100%"
      }
     },
     "1e4db54c964a45a79cf37318e50d71f7": {
      "model_module": "@jupyter-widgets/base",
      "model_module_version": "1.2.0",
      "model_name": "LayoutModel",
      "state": {}
     },
     "1e96e1bc5cd746a9a97ae874a7764892": {
      "model_module": "@jupyter-widgets/base",
      "model_module_version": "1.2.0",
      "model_name": "LayoutModel",
      "state": {}
     },
     "1ec7310ba36e4c66b654fcd0531269b4": {
      "model_module": "@jupyter-widgets/controls",
      "model_module_version": "1.5.0",
      "model_name": "FloatProgressModel",
      "state": {
       "bar_style": "success",
       "layout": "IPY_MODEL_da79c073c1d74ff1965862b7f2f29fd9",
       "max": 10,
       "style": "IPY_MODEL_b7d87e7477bc42e18383e447b58d16a9",
       "value": 10
      }
     },
     "1ff82206c6f544d0a6e48d1f038cad66": {
      "model_module": "@jupyter-widgets/base",
      "model_module_version": "1.2.0",
      "model_name": "LayoutModel",
      "state": {}
     },
     "228d05c0ee4f4d80830598d0f686c98f": {
      "model_module": "@jupyter-widgets/base",
      "model_module_version": "1.2.0",
      "model_name": "LayoutModel",
      "state": {}
     },
     "237b72b644594fb8a3bf1d3e6bc96466": {
      "model_module": "@jupyter-widgets/base",
      "model_module_version": "1.2.0",
      "model_name": "LayoutModel",
      "state": {}
     },
     "248bb6f08bb34170b72807207439b9d5": {
      "model_module": "@jupyter-widgets/base",
      "model_module_version": "1.2.0",
      "model_name": "LayoutModel",
      "state": {}
     },
     "25149f84c75c4bfc8e91f1640d5a1a2c": {
      "model_module": "@jupyter-widgets/controls",
      "model_module_version": "1.5.0",
      "model_name": "HBoxModel",
      "state": {
       "children": [
        "IPY_MODEL_b1bb26dc93ef4fa18f8e23c7ea0f57f6",
        "IPY_MODEL_5c7507e574fe424fb93e49fe18948aa6",
        "IPY_MODEL_d9028efe988e443e84ee3e1cb2c7cc5c"
       ],
       "layout": "IPY_MODEL_b3913777b9304293b94befbd3327312b"
      }
     },
     "2532afaa2d054cdca494bc4593a56e20": {
      "model_module": "@jupyter-widgets/controls",
      "model_module_version": "1.5.0",
      "model_name": "HBoxModel",
      "state": {
       "children": [
        "IPY_MODEL_f168f755d4044c92ba5de5889a75be71",
        "IPY_MODEL_7855da9d627243fab7d32951e21546a3",
        "IPY_MODEL_d3d312654673435fa07ba407be631349"
       ],
       "layout": "IPY_MODEL_0d904e9449524daaa711f3a0820e3c31"
      }
     },
     "26b4c34c61024115801d111ad570d108": {
      "model_module": "@jupyter-widgets/base",
      "model_module_version": "1.2.0",
      "model_name": "LayoutModel",
      "state": {}
     },
     "2892b420fb7b450babecc707c0516a36": {
      "model_module": "@jupyter-widgets/base",
      "model_module_version": "1.2.0",
      "model_name": "LayoutModel",
      "state": {}
     },
     "28bc3034ece142f095459ccfe3237eec": {
      "model_module": "@jupyter-widgets/controls",
      "model_module_version": "1.5.0",
      "model_name": "FloatProgressModel",
      "state": {
       "bar_style": "success",
       "layout": "IPY_MODEL_1a2deeefc6f84b2481e628eb1895cd2a",
       "max": 10,
       "style": "IPY_MODEL_9dc7da54c76e4c8e8d1f0a8588b97c85",
       "value": 10
      }
     },
     "2936fe97c0bb4eeeb1257db31281e9a1": {
      "model_module": "@jupyter-widgets/controls",
      "model_module_version": "1.5.0",
      "model_name": "ProgressStyleModel",
      "state": {
       "description_width": ""
      }
     },
     "296f178e49ed40e0b86398f4e212ed65": {
      "model_module": "@jupyter-widgets/base",
      "model_module_version": "1.2.0",
      "model_name": "LayoutModel",
      "state": {}
     },
     "2be42f90b6a548e9b5b220c044ba5b84": {
      "model_module": "@jupyter-widgets/controls",
      "model_module_version": "1.5.0",
      "model_name": "FloatProgressModel",
      "state": {
       "bar_style": "success",
       "layout": "IPY_MODEL_81e494cf5a63498bb5c750cc6292b586",
       "max": 10,
       "style": "IPY_MODEL_2936fe97c0bb4eeeb1257db31281e9a1",
       "value": 10
      }
     },
     "2bf134ed621841aa9867a656e66a5e31": {
      "model_module": "@jupyter-widgets/controls",
      "model_module_version": "1.5.0",
      "model_name": "DescriptionStyleModel",
      "state": {
       "description_width": ""
      }
     },
     "2d3ec89bfd4d48daa83ae17d2b8375f0": {
      "model_module": "@jupyter-widgets/base",
      "model_module_version": "1.2.0",
      "model_name": "LayoutModel",
      "state": {}
     },
     "2e894cdd174c4b66b52722c72f58763e": {
      "model_module": "@jupyter-widgets/controls",
      "model_module_version": "1.5.0",
      "model_name": "DescriptionStyleModel",
      "state": {
       "description_width": ""
      }
     },
     "2f565beca7014cbca04634b5f01c2a61": {
      "model_module": "@jupyter-widgets/base",
      "model_module_version": "1.2.0",
      "model_name": "LayoutModel",
      "state": {}
     },
     "3278623bd23a45e58f7850393fa582ab": {
      "model_module": "@jupyter-widgets/controls",
      "model_module_version": "1.5.0",
      "model_name": "DescriptionStyleModel",
      "state": {
       "description_width": ""
      }
     },
     "33b720aa1940489bab93f5cc7942737e": {
      "model_module": "@jupyter-widgets/base",
      "model_module_version": "1.2.0",
      "model_name": "LayoutModel",
      "state": {}
     },
     "3464e446c2104b23bcd142d7b5b357c3": {
      "model_module": "@jupyter-widgets/controls",
      "model_module_version": "1.5.0",
      "model_name": "ProgressStyleModel",
      "state": {
       "description_width": ""
      }
     },
     "361e287cd987438b9814e4c2df0d0948": {
      "model_module": "@jupyter-widgets/base",
      "model_module_version": "1.2.0",
      "model_name": "LayoutModel",
      "state": {}
     },
     "36ce25e16f27481983d40e67b6bd1bdf": {
      "model_module": "@jupyter-widgets/controls",
      "model_module_version": "1.5.0",
      "model_name": "HBoxModel",
      "state": {
       "children": [
        "IPY_MODEL_09379aecf83d4e98b564efe73948f22e",
        "IPY_MODEL_28bc3034ece142f095459ccfe3237eec",
        "IPY_MODEL_ab9f6a1f8fdc4e1589caa80c9140f958"
       ],
       "layout": "IPY_MODEL_b3c967cac10d4b28bafeab0a965f41d1"
      }
     },
     "3722498688c34393a72793ee07a6bff1": {
      "model_module": "@jupyter-widgets/controls",
      "model_module_version": "1.5.0",
      "model_name": "HTMLModel",
      "state": {
       "layout": "IPY_MODEL_b79ed8e1099748a0b48147d21e698603",
       "style": "IPY_MODEL_d2f68555803945bd91e04d7973de9982",
       "value": "100%"
      }
     },
     "38ac9fc4333f4d8c9c1f10ea501ec32e": {
      "model_module": "@jupyter-widgets/base",
      "model_module_version": "1.2.0",
      "model_name": "LayoutModel",
      "state": {}
     },
     "39459fb07f6d496dafe161bf8dbc17e2": {
      "model_module": "@jupyter-widgets/controls",
      "model_module_version": "1.5.0",
      "model_name": "ProgressStyleModel",
      "state": {
       "description_width": ""
      }
     },
     "3957a2d17732413ca1c093c800edca35": {
      "model_module": "@jupyter-widgets/controls",
      "model_module_version": "1.5.0",
      "model_name": "HBoxModel",
      "state": {
       "children": [
        "IPY_MODEL_1b80106df87a4d0d9a3a016b3fa87ef0",
        "IPY_MODEL_0d62363c5687496bbd3d486839aefe7f",
        "IPY_MODEL_a573c55347e24bef88f18270ecf18c75"
       ],
       "layout": "IPY_MODEL_403b98fc14fa4216b7b944f81f22977b"
      }
     },
     "399d1b421de14204a324cfb3104f5c84": {
      "model_module": "@jupyter-widgets/controls",
      "model_module_version": "1.5.0",
      "model_name": "DescriptionStyleModel",
      "state": {
       "description_width": ""
      }
     },
     "3a68cd5a15c446fe836873c1d49ca7a1": {
      "model_module": "@jupyter-widgets/controls",
      "model_module_version": "1.5.0",
      "model_name": "FloatProgressModel",
      "state": {
       "bar_style": "success",
       "layout": "IPY_MODEL_64b8c47c15d2450bbc0fd97986571da0",
       "max": 10,
       "style": "IPY_MODEL_fde578a88a9c4503802644ab376b35db",
       "value": 10
      }
     },
     "3a6bcaffaba94abcb2348e58b29b14ee": {
      "model_module": "@jupyter-widgets/base",
      "model_module_version": "1.2.0",
      "model_name": "LayoutModel",
      "state": {}
     },
     "3be4ec01cc9440a7837b3df493b6a628": {
      "model_module": "@jupyter-widgets/controls",
      "model_module_version": "1.5.0",
      "model_name": "DescriptionStyleModel",
      "state": {
       "description_width": ""
      }
     },
     "3cb053a9eb76445eaa570410d219adb4": {
      "model_module": "@jupyter-widgets/controls",
      "model_module_version": "1.5.0",
      "model_name": "HBoxModel",
      "state": {
       "children": [
        "IPY_MODEL_db213c94e6e042adb1b6804d33b01bcd",
        "IPY_MODEL_beb4dd27b3be4cd78780271f77bf0e77",
        "IPY_MODEL_79d4cfeaf3954cf6afc2a6cc7cb4918e"
       ],
       "layout": "IPY_MODEL_05b5627b1bba428a9124902498f20511"
      }
     },
     "3e1f2ba5561540fa87734bd9ed26e1eb": {
      "model_module": "@jupyter-widgets/controls",
      "model_module_version": "1.5.0",
      "model_name": "HTMLModel",
      "state": {
       "layout": "IPY_MODEL_d7f9c0f1ce294ade85ca015597c4d1df",
       "style": "IPY_MODEL_efe283c08bf64c1b8021e5b959377e20",
       "value": "100%"
      }
     },
     "3e75cda9fafb4a57b722a979aec2e435": {
      "model_module": "@jupyter-widgets/controls",
      "model_module_version": "1.5.0",
      "model_name": "DescriptionStyleModel",
      "state": {
       "description_width": ""
      }
     },
     "3ebb43491d364b309e8ae0d0c9ff60f2": {
      "model_module": "@jupyter-widgets/controls",
      "model_module_version": "1.5.0",
      "model_name": "HBoxModel",
      "state": {
       "children": [
        "IPY_MODEL_d95e0b1935604ab9bedd04a35a1ed7ef",
        "IPY_MODEL_c309eda9be21498685ac409f2e1ecb23",
        "IPY_MODEL_0f411fec6154461b9ed7ed3c8c156c76"
       ],
       "layout": "IPY_MODEL_7aac4fb27775466da365c8daf43c8285"
      }
     },
     "403b98fc14fa4216b7b944f81f22977b": {
      "model_module": "@jupyter-widgets/base",
      "model_module_version": "1.2.0",
      "model_name": "LayoutModel",
      "state": {}
     },
     "41e992ed8d5246218367503588c53d0c": {
      "model_module": "@jupyter-widgets/controls",
      "model_module_version": "1.5.0",
      "model_name": "HTMLModel",
      "state": {
       "layout": "IPY_MODEL_c34cefc61f4942b4bd7893736e3f78be",
       "style": "IPY_MODEL_6bb5751d6f6a437184be9c2f25138832",
       "value": " 10/10 [06:01&lt;00:00, 36.52s/it]"
      }
     },
     "4297824c4b70492182bf13ca50175ea8": {
      "model_module": "@jupyter-widgets/controls",
      "model_module_version": "1.5.0",
      "model_name": "DescriptionStyleModel",
      "state": {
       "description_width": ""
      }
     },
     "444210e5928540c0928e52fdffe02d31": {
      "model_module": "@jupyter-widgets/controls",
      "model_module_version": "1.5.0",
      "model_name": "HBoxModel",
      "state": {
       "children": [
        "IPY_MODEL_0c3cf8fba6cc4b0fb01e7ecf05a2d8d8",
        "IPY_MODEL_16496a40ae6e4156bb149b8c034a8d68",
        "IPY_MODEL_82a37ab422ed4eb68d1607bb5449b3b0"
       ],
       "layout": "IPY_MODEL_c1f35616bb6f40ddbeabbf2eccfda137"
      }
     },
     "444bd6c1cf6c4c7894f87c391f71c0b1": {
      "model_module": "@jupyter-widgets/controls",
      "model_module_version": "1.5.0",
      "model_name": "ProgressStyleModel",
      "state": {
       "description_width": ""
      }
     },
     "444cbb3c4647405c9ff3780d01b58e77": {
      "model_module": "@jupyter-widgets/controls",
      "model_module_version": "1.5.0",
      "model_name": "HBoxModel",
      "state": {
       "children": [
        "IPY_MODEL_5653e030e5dc4a54a7fa7be4362995f9",
        "IPY_MODEL_1d56fe9139e6458e8eb0ef89a3953418",
        "IPY_MODEL_beeac468e5aa46a4a8d01a9b21b2f438"
       ],
       "layout": "IPY_MODEL_d6299a3ac8c947f28d111543762a6434"
      }
     },
     "456df8936a8649fda52d9a430fa83690": {
      "model_module": "@jupyter-widgets/base",
      "model_module_version": "1.2.0",
      "model_name": "LayoutModel",
      "state": {}
     },
     "47b7497085624a9ea295c00c5b024f78": {
      "model_module": "@jupyter-widgets/base",
      "model_module_version": "1.2.0",
      "model_name": "LayoutModel",
      "state": {}
     },
     "48cbc4daf6d44e7a9b30da69c51b15cb": {
      "model_module": "@jupyter-widgets/controls",
      "model_module_version": "1.5.0",
      "model_name": "ProgressStyleModel",
      "state": {
       "description_width": ""
      }
     },
     "4b1e4175eca9486cbcefaf3794ddf36b": {
      "model_module": "@jupyter-widgets/base",
      "model_module_version": "1.2.0",
      "model_name": "LayoutModel",
      "state": {}
     },
     "4ba8e82a469642cb9005179495f2ff3e": {
      "model_module": "@jupyter-widgets/base",
      "model_module_version": "1.2.0",
      "model_name": "LayoutModel",
      "state": {}
     },
     "4cbfb42b18b34ed3bd2cc42afbd6a802": {
      "model_module": "@jupyter-widgets/controls",
      "model_module_version": "1.5.0",
      "model_name": "DescriptionStyleModel",
      "state": {
       "description_width": ""
      }
     },
     "4cedc7c6d855406e95e989e52376b19b": {
      "model_module": "@jupyter-widgets/controls",
      "model_module_version": "1.5.0",
      "model_name": "DescriptionStyleModel",
      "state": {
       "description_width": ""
      }
     },
     "4de3d7dfea4545c595d501e78f5148df": {
      "model_module": "@jupyter-widgets/base",
      "model_module_version": "1.2.0",
      "model_name": "LayoutModel",
      "state": {}
     },
     "4ec59112e5b94eae9131c2128310c0ae": {
      "model_module": "@jupyter-widgets/controls",
      "model_module_version": "1.5.0",
      "model_name": "HTMLModel",
      "state": {
       "layout": "IPY_MODEL_b7cab4d3d0ee41348ae2588dc7c9eb22",
       "style": "IPY_MODEL_f3b7891de851453882089829cd1131c2",
       "value": "100%"
      }
     },
     "4fa5b66ff1e74452a399e9e0cd29fddf": {
      "model_module": "@jupyter-widgets/controls",
      "model_module_version": "1.5.0",
      "model_name": "HTMLModel",
      "state": {
       "layout": "IPY_MODEL_4ba8e82a469642cb9005179495f2ff3e",
       "style": "IPY_MODEL_9575140521494082b064e8c2f67aa78f",
       "value": " 10/10 [00:01&lt;00:00,  6.04it/s]"
      }
     },
     "509ca8fe99464d629e1c0632af441ba9": {
      "model_module": "@jupyter-widgets/controls",
      "model_module_version": "1.5.0",
      "model_name": "DescriptionStyleModel",
      "state": {
       "description_width": ""
      }
     },
     "5149ced05b5e445eafdd1ad7960d2bc2": {
      "model_module": "@jupyter-widgets/controls",
      "model_module_version": "1.5.0",
      "model_name": "HTMLModel",
      "state": {
       "layout": "IPY_MODEL_33b720aa1940489bab93f5cc7942737e",
       "style": "IPY_MODEL_5890c3272c844b1ea48f0c4778a8e73b",
       "value": "100%"
      }
     },
     "5442bd75fb9048868dd5b3567fd84dc1": {
      "model_module": "@jupyter-widgets/controls",
      "model_module_version": "1.5.0",
      "model_name": "HTMLModel",
      "state": {
       "layout": "IPY_MODEL_7f6aba29b7ca42769e4258cf1dc26d4d",
       "style": "IPY_MODEL_f5a8b5f065af4f75bf665f5d5ed2f619",
       "value": " 10/10 [07:19&lt;00:00, 48.13s/it]"
      }
     },
     "5653e030e5dc4a54a7fa7be4362995f9": {
      "model_module": "@jupyter-widgets/controls",
      "model_module_version": "1.5.0",
      "model_name": "HTMLModel",
      "state": {
       "layout": "IPY_MODEL_a965e4f820304924a3e0f68257b537bc",
       "style": "IPY_MODEL_87c3f882dcef401f84df2bbc2d89ab70",
       "value": "100%"
      }
     },
     "5890c3272c844b1ea48f0c4778a8e73b": {
      "model_module": "@jupyter-widgets/controls",
      "model_module_version": "1.5.0",
      "model_name": "DescriptionStyleModel",
      "state": {
       "description_width": ""
      }
     },
     "59edb9c119f44a6c887348c14eac8e93": {
      "model_module": "@jupyter-widgets/controls",
      "model_module_version": "1.5.0",
      "model_name": "HTMLModel",
      "state": {
       "layout": "IPY_MODEL_684d6aa48d3e424a8530e4b2ad851e64",
       "style": "IPY_MODEL_c65639387b1b4ca2bab210e1855e0704",
       "value": "100%"
      }
     },
     "5ac360c93006492c850f1cad49ed5153": {
      "model_module": "@jupyter-widgets/controls",
      "model_module_version": "1.5.0",
      "model_name": "HTMLModel",
      "state": {
       "layout": "IPY_MODEL_16f2dc9bfb8445bf8b09b0001469c8f2",
       "style": "IPY_MODEL_1b8cf57686a545c2af0ce1b42e829906",
       "value": " 10/10 [06:21&lt;00:00, 37.47s/it]"
      }
     },
     "5b613e5d5f274753ab7ff3a1932f5a91": {
      "model_module": "@jupyter-widgets/controls",
      "model_module_version": "1.5.0",
      "model_name": "DescriptionStyleModel",
      "state": {
       "description_width": ""
      }
     },
     "5c7507e574fe424fb93e49fe18948aa6": {
      "model_module": "@jupyter-widgets/controls",
      "model_module_version": "1.5.0",
      "model_name": "FloatProgressModel",
      "state": {
       "bar_style": "success",
       "layout": "IPY_MODEL_38ac9fc4333f4d8c9c1f10ea501ec32e",
       "max": 10,
       "style": "IPY_MODEL_39459fb07f6d496dafe161bf8dbc17e2",
       "value": 10
      }
     },
     "5c9fd9ef40d8432382c7704beb9b8f83": {
      "model_module": "@jupyter-widgets/controls",
      "model_module_version": "1.5.0",
      "model_name": "FloatProgressModel",
      "state": {
       "bar_style": "success",
       "layout": "IPY_MODEL_296f178e49ed40e0b86398f4e212ed65",
       "max": 10,
       "style": "IPY_MODEL_921df0e6c2f64f119987462370160b16",
       "value": 10
      }
     },
     "5d8a2d1629804669b82c5f6c7b9efa72": {
      "model_module": "@jupyter-widgets/controls",
      "model_module_version": "1.5.0",
      "model_name": "FloatProgressModel",
      "state": {
       "bar_style": "success",
       "layout": "IPY_MODEL_b25a0f4d684749f8ae78ab1f094d902a",
       "max": 10,
       "style": "IPY_MODEL_7ea4d687f8e04af19759f51c3003c6f3",
       "value": 10
      }
     },
     "6009d550d7934a5aaddddd1290ae532c": {
      "model_module": "@jupyter-widgets/controls",
      "model_module_version": "1.5.0",
      "model_name": "DescriptionStyleModel",
      "state": {
       "description_width": ""
      }
     },
     "60de34e3674345f6a88b7bfaef716e65": {
      "model_module": "@jupyter-widgets/controls",
      "model_module_version": "1.5.0",
      "model_name": "FloatProgressModel",
      "state": {
       "bar_style": "success",
       "layout": "IPY_MODEL_26b4c34c61024115801d111ad570d108",
       "max": 10,
       "style": "IPY_MODEL_18966966d8c64b43ac66781d892116bc",
       "value": 10
      }
     },
     "61039abecfc04d69baa480afc20c8fdc": {
      "model_module": "@jupyter-widgets/base",
      "model_module_version": "1.2.0",
      "model_name": "LayoutModel",
      "state": {}
     },
     "61865939ab6b4c6e9e623a9ccab6f201": {
      "model_module": "@jupyter-widgets/controls",
      "model_module_version": "1.5.0",
      "model_name": "ProgressStyleModel",
      "state": {
       "description_width": ""
      }
     },
     "64b8c47c15d2450bbc0fd97986571da0": {
      "model_module": "@jupyter-widgets/base",
      "model_module_version": "1.2.0",
      "model_name": "LayoutModel",
      "state": {}
     },
     "682deeedd7534ccb844cbb25b8daea8f": {
      "model_module": "@jupyter-widgets/base",
      "model_module_version": "1.2.0",
      "model_name": "LayoutModel",
      "state": {}
     },
     "684d6aa48d3e424a8530e4b2ad851e64": {
      "model_module": "@jupyter-widgets/base",
      "model_module_version": "1.2.0",
      "model_name": "LayoutModel",
      "state": {}
     },
     "6abb4e83e59142978c522baa25ec5b66": {
      "model_module": "@jupyter-widgets/controls",
      "model_module_version": "1.5.0",
      "model_name": "HTMLModel",
      "state": {
       "layout": "IPY_MODEL_a0d6bf287f374481a0d54dcb2a1dfdb9",
       "style": "IPY_MODEL_87c5a7ac17d240df8e8e3911ebb82c2e",
       "value": " 10/10 [00:36&lt;00:00,  3.32s/it]"
      }
     },
     "6ac14f0722a04a9e9085c177baa12bc4": {
      "model_module": "@jupyter-widgets/controls",
      "model_module_version": "1.5.0",
      "model_name": "HTMLModel",
      "state": {
       "layout": "IPY_MODEL_c24f4f10becb465d959ab2c04665b563",
       "style": "IPY_MODEL_ea96c5372ad04874915da34e41c2a931",
       "value": " 10/10 [00:00&lt;00:00, 124.44it/s]"
      }
     },
     "6bb5751d6f6a437184be9c2f25138832": {
      "model_module": "@jupyter-widgets/controls",
      "model_module_version": "1.5.0",
      "model_name": "DescriptionStyleModel",
      "state": {
       "description_width": ""
      }
     },
     "6cdec489e15346218d1df04de11b4cc4": {
      "model_module": "@jupyter-widgets/controls",
      "model_module_version": "1.5.0",
      "model_name": "FloatProgressModel",
      "state": {
       "bar_style": "success",
       "layout": "IPY_MODEL_a95ab24c88d74cb9ad96cf7c7ebbf203",
       "max": 10,
       "style": "IPY_MODEL_fdc8d607bfa246b3876b0ff1c48ae068",
       "value": 10
      }
     },
     "6ceb82be77dd4ca3a303a68d071637f5": {
      "model_module": "@jupyter-widgets/base",
      "model_module_version": "1.2.0",
      "model_name": "LayoutModel",
      "state": {}
     },
     "6dd63170972f41fdabd47babcdc064d0": {
      "model_module": "@jupyter-widgets/controls",
      "model_module_version": "1.5.0",
      "model_name": "FloatProgressModel",
      "state": {
       "bar_style": "success",
       "layout": "IPY_MODEL_b83d5090aa244b2c86574fa058271f71",
       "max": 10,
       "style": "IPY_MODEL_ee6d0ac0ccfe4837a72fa4c03ec9334f",
       "value": 10
      }
     },
     "6f9511978bd042d4b64590ce82d4f901": {
      "model_module": "@jupyter-widgets/controls",
      "model_module_version": "1.5.0",
      "model_name": "DescriptionStyleModel",
      "state": {
       "description_width": ""
      }
     },
     "71bf6b67e026491eb920feaac34d0187": {
      "model_module": "@jupyter-widgets/controls",
      "model_module_version": "1.5.0",
      "model_name": "HTMLModel",
      "state": {
       "layout": "IPY_MODEL_c17af8d197de49e187bab8122ceef841",
       "style": "IPY_MODEL_ca59987657cc44e7b2d898125efcd4eb",
       "value": "100%"
      }
     },
     "738db5bfe51a4aa7a312e650dac7ee99": {
      "model_module": "@jupyter-widgets/controls",
      "model_module_version": "1.5.0",
      "model_name": "HTMLModel",
      "state": {
       "layout": "IPY_MODEL_030617703e9a4322badfbd7ba9abe918",
       "style": "IPY_MODEL_838a212e19974d148ed8f0c284d75e8f",
       "value": " 10/10 [04:05&lt;00:00, 24.87s/it]"
      }
     },
     "74573fed36b94f21b50b3c1ca2dc2849": {
      "model_module": "@jupyter-widgets/controls",
      "model_module_version": "1.5.0",
      "model_name": "HTMLModel",
      "state": {
       "layout": "IPY_MODEL_7801ed8de98f40dba4a40aca6bfdbb2d",
       "style": "IPY_MODEL_a85d8fb0e3e843489b81331123d5bd3f",
       "value": "100%"
      }
     },
     "77cfe776468b433c83f88d3b83d8dc24": {
      "model_module": "@jupyter-widgets/controls",
      "model_module_version": "1.5.0",
      "model_name": "ProgressStyleModel",
      "state": {
       "description_width": ""
      }
     },
     "7801ed8de98f40dba4a40aca6bfdbb2d": {
      "model_module": "@jupyter-widgets/base",
      "model_module_version": "1.2.0",
      "model_name": "LayoutModel",
      "state": {}
     },
     "7855da9d627243fab7d32951e21546a3": {
      "model_module": "@jupyter-widgets/controls",
      "model_module_version": "1.5.0",
      "model_name": "FloatProgressModel",
      "state": {
       "bar_style": "success",
       "layout": "IPY_MODEL_4de3d7dfea4545c595d501e78f5148df",
       "max": 10,
       "style": "IPY_MODEL_48cbc4daf6d44e7a9b30da69c51b15cb",
       "value": 10
      }
     },
     "798d9eaf8874428fb961c89f429afca8": {
      "model_module": "@jupyter-widgets/base",
      "model_module_version": "1.2.0",
      "model_name": "LayoutModel",
      "state": {}
     },
     "79d4cfeaf3954cf6afc2a6cc7cb4918e": {
      "model_module": "@jupyter-widgets/controls",
      "model_module_version": "1.5.0",
      "model_name": "HTMLModel",
      "state": {
       "layout": "IPY_MODEL_4b1e4175eca9486cbcefaf3794ddf36b",
       "style": "IPY_MODEL_5b613e5d5f274753ab7ff3a1932f5a91",
       "value": " 10/10 [17:05&lt;00:00, 102.99s/it]"
      }
     },
     "7aac4fb27775466da365c8daf43c8285": {
      "model_module": "@jupyter-widgets/base",
      "model_module_version": "1.2.0",
      "model_name": "LayoutModel",
      "state": {}
     },
     "7ad72715cb624b7d8ad28577fc604420": {
      "model_module": "@jupyter-widgets/controls",
      "model_module_version": "1.5.0",
      "model_name": "HBoxModel",
      "state": {
       "children": [
        "IPY_MODEL_d722efac83ba4dcea302fcb373b1411b",
        "IPY_MODEL_914685e3df8b4f8ba391ed6ca265a308",
        "IPY_MODEL_4fa5b66ff1e74452a399e9e0cd29fddf"
       ],
       "layout": "IPY_MODEL_d9d4a063e6574c7f9fcc9eba3d4da721"
      }
     },
     "7b3a2c7a5717444097ad0e49c3f07ab7": {
      "model_module": "@jupyter-widgets/controls",
      "model_module_version": "1.5.0",
      "model_name": "HBoxModel",
      "state": {
       "children": [
        "IPY_MODEL_fb9ed60bd16b4c8eb96adc582dfa0cfe",
        "IPY_MODEL_fda95436741041d4b56c39f6a63ed7dd",
        "IPY_MODEL_175eb5d47b4946c6ae6ef8965816f42b"
       ],
       "layout": "IPY_MODEL_47b7497085624a9ea295c00c5b024f78"
      }
     },
     "7e0aa45313394ca3b6ae5623569b3ddb": {
      "model_module": "@jupyter-widgets/controls",
      "model_module_version": "1.5.0",
      "model_name": "HBoxModel",
      "state": {
       "children": [
        "IPY_MODEL_de5357ec18c842f99858c1c945939358",
        "IPY_MODEL_1ec7310ba36e4c66b654fcd0531269b4",
        "IPY_MODEL_944ceb1184d6453baa19015894b526a1"
       ],
       "layout": "IPY_MODEL_113ba23542a74e20928a42cf6997e7b2"
      }
     },
     "7ea4d687f8e04af19759f51c3003c6f3": {
      "model_module": "@jupyter-widgets/controls",
      "model_module_version": "1.5.0",
      "model_name": "ProgressStyleModel",
      "state": {
       "description_width": ""
      }
     },
     "7f6aba29b7ca42769e4258cf1dc26d4d": {
      "model_module": "@jupyter-widgets/base",
      "model_module_version": "1.2.0",
      "model_name": "LayoutModel",
      "state": {}
     },
     "7fe1b838d10c4103bb856e8b0737869e": {
      "model_module": "@jupyter-widgets/controls",
      "model_module_version": "1.5.0",
      "model_name": "FloatProgressModel",
      "state": {
       "bar_style": "success",
       "layout": "IPY_MODEL_06ca9e71a35c40e1b7dfdd6bc03a7acf",
       "max": 10,
       "style": "IPY_MODEL_444bd6c1cf6c4c7894f87c391f71c0b1",
       "value": 10
      }
     },
     "80c794cd3cc74558bc561f5b22309b94": {
      "model_module": "@jupyter-widgets/base",
      "model_module_version": "1.2.0",
      "model_name": "LayoutModel",
      "state": {}
     },
     "81e494cf5a63498bb5c750cc6292b586": {
      "model_module": "@jupyter-widgets/base",
      "model_module_version": "1.2.0",
      "model_name": "LayoutModel",
      "state": {}
     },
     "82a37ab422ed4eb68d1607bb5449b3b0": {
      "model_module": "@jupyter-widgets/controls",
      "model_module_version": "1.5.0",
      "model_name": "HTMLModel",
      "state": {
       "layout": "IPY_MODEL_6ceb82be77dd4ca3a303a68d071637f5",
       "style": "IPY_MODEL_2bf134ed621841aa9867a656e66a5e31",
       "value": " 10/10 [00:51&lt;00:00,  5.13s/it]"
      }
     },
     "838a212e19974d148ed8f0c284d75e8f": {
      "model_module": "@jupyter-widgets/controls",
      "model_module_version": "1.5.0",
      "model_name": "DescriptionStyleModel",
      "state": {
       "description_width": ""
      }
     },
     "8394ade5a9794ac09657c3e23d0ed778": {
      "model_module": "@jupyter-widgets/base",
      "model_module_version": "1.2.0",
      "model_name": "LayoutModel",
      "state": {}
     },
     "83a72fd117084d67b9d79084b197b248": {
      "model_module": "@jupyter-widgets/base",
      "model_module_version": "1.2.0",
      "model_name": "LayoutModel",
      "state": {}
     },
     "8427c6f8b49c4947a98ce5a505805736": {
      "model_module": "@jupyter-widgets/controls",
      "model_module_version": "1.5.0",
      "model_name": "DescriptionStyleModel",
      "state": {
       "description_width": ""
      }
     },
     "84e72ab61aa04d7ea46d6c13918cd9e3": {
      "model_module": "@jupyter-widgets/controls",
      "model_module_version": "1.5.0",
      "model_name": "ProgressStyleModel",
      "state": {
       "description_width": ""
      }
     },
     "87179cc570bc46a5aef9dcbed44eca76": {
      "model_module": "@jupyter-widgets/controls",
      "model_module_version": "1.5.0",
      "model_name": "HBoxModel",
      "state": {
       "children": [
        "IPY_MODEL_71bf6b67e026491eb920feaac34d0187",
        "IPY_MODEL_6cdec489e15346218d1df04de11b4cc4",
        "IPY_MODEL_6ac14f0722a04a9e9085c177baa12bc4"
       ],
       "layout": "IPY_MODEL_d02c9f48bb8f4b229a951363fb0cacc9"
      }
     },
     "87c3f882dcef401f84df2bbc2d89ab70": {
      "model_module": "@jupyter-widgets/controls",
      "model_module_version": "1.5.0",
      "model_name": "DescriptionStyleModel",
      "state": {
       "description_width": ""
      }
     },
     "87c5a7ac17d240df8e8e3911ebb82c2e": {
      "model_module": "@jupyter-widgets/controls",
      "model_module_version": "1.5.0",
      "model_name": "DescriptionStyleModel",
      "state": {
       "description_width": ""
      }
     },
     "8800d80fe6374453a54e0568efc56b83": {
      "model_module": "@jupyter-widgets/base",
      "model_module_version": "1.2.0",
      "model_name": "LayoutModel",
      "state": {}
     },
     "8ab3f2c4140240d9b76c89d523f5eaee": {
      "model_module": "@jupyter-widgets/base",
      "model_module_version": "1.2.0",
      "model_name": "LayoutModel",
      "state": {}
     },
     "8ae90b3eb5f244df937ce5e9b24778f3": {
      "model_module": "@jupyter-widgets/base",
      "model_module_version": "1.2.0",
      "model_name": "LayoutModel",
      "state": {}
     },
     "8c4dd5477ad34613969b362359ab11b6": {
      "model_module": "@jupyter-widgets/controls",
      "model_module_version": "1.5.0",
      "model_name": "DescriptionStyleModel",
      "state": {
       "description_width": ""
      }
     },
     "8c80abd1df234f74b8e86243383e495a": {
      "model_module": "@jupyter-widgets/base",
      "model_module_version": "1.2.0",
      "model_name": "LayoutModel",
      "state": {}
     },
     "8cdc92d3497c4b438a5cd9f23fc96c06": {
      "model_module": "@jupyter-widgets/controls",
      "model_module_version": "1.5.0",
      "model_name": "HTMLModel",
      "state": {
       "layout": "IPY_MODEL_9fa9d98456774b38b3daa471a1b5f503",
       "style": "IPY_MODEL_4cbfb42b18b34ed3bd2cc42afbd6a802",
       "value": " 10/10 [00:00&lt;00:00, 421.52it/s]"
      }
     },
     "90944df2e603407badd2f0082b62669e": {
      "model_module": "@jupyter-widgets/controls",
      "model_module_version": "1.5.0",
      "model_name": "DescriptionStyleModel",
      "state": {
       "description_width": ""
      }
     },
     "90bc0d8a387f45f381a6617a91fe5fb4": {
      "model_module": "@jupyter-widgets/controls",
      "model_module_version": "1.5.0",
      "model_name": "DescriptionStyleModel",
      "state": {
       "description_width": ""
      }
     },
     "91254353ea5e4b8eb0875f0022e67b81": {
      "model_module": "@jupyter-widgets/base",
      "model_module_version": "1.2.0",
      "model_name": "LayoutModel",
      "state": {}
     },
     "914685e3df8b4f8ba391ed6ca265a308": {
      "model_module": "@jupyter-widgets/controls",
      "model_module_version": "1.5.0",
      "model_name": "FloatProgressModel",
      "state": {
       "bar_style": "success",
       "layout": "IPY_MODEL_8ab3f2c4140240d9b76c89d523f5eaee",
       "max": 10,
       "style": "IPY_MODEL_dd33645f56d84184aebd78e6490d42d7",
       "value": 10
      }
     },
     "921df0e6c2f64f119987462370160b16": {
      "model_module": "@jupyter-widgets/controls",
      "model_module_version": "1.5.0",
      "model_name": "ProgressStyleModel",
      "state": {
       "description_width": ""
      }
     },
     "938b9eda0678416892858f2b55677c46": {
      "model_module": "@jupyter-widgets/controls",
      "model_module_version": "1.5.0",
      "model_name": "DescriptionStyleModel",
      "state": {
       "description_width": ""
      }
     },
     "944ceb1184d6453baa19015894b526a1": {
      "model_module": "@jupyter-widgets/controls",
      "model_module_version": "1.5.0",
      "model_name": "HTMLModel",
      "state": {
       "layout": "IPY_MODEL_228d05c0ee4f4d80830598d0f686c98f",
       "style": "IPY_MODEL_509ca8fe99464d629e1c0632af441ba9",
       "value": " 10/10 [00:00&lt;00:00, 304.83it/s]"
      }
     },
     "953316531c9043f696d003256fda3e1c": {
      "model_module": "@jupyter-widgets/base",
      "model_module_version": "1.2.0",
      "model_name": "LayoutModel",
      "state": {}
     },
     "9575140521494082b064e8c2f67aa78f": {
      "model_module": "@jupyter-widgets/controls",
      "model_module_version": "1.5.0",
      "model_name": "DescriptionStyleModel",
      "state": {
       "description_width": ""
      }
     },
     "962091c44c01408d9bcf8a6105b6b0a3": {
      "model_module": "@jupyter-widgets/controls",
      "model_module_version": "1.5.0",
      "model_name": "HBoxModel",
      "state": {
       "children": [
        "IPY_MODEL_74573fed36b94f21b50b3c1ca2dc2849",
        "IPY_MODEL_df0b08ff3c5b42a78a76c923e3eb7e14",
        "IPY_MODEL_738db5bfe51a4aa7a312e650dac7ee99"
       ],
       "layout": "IPY_MODEL_af217a5b823741cc991c6e3d1e1e12bb"
      }
     },
     "976a16b536d643f8a2ac8ae361d4d7ac": {
      "model_module": "@jupyter-widgets/controls",
      "model_module_version": "1.5.0",
      "model_name": "DescriptionStyleModel",
      "state": {
       "description_width": ""
      }
     },
     "98c8b61292e64323bfc69383d5c8c2e5": {
      "model_module": "@jupyter-widgets/controls",
      "model_module_version": "1.5.0",
      "model_name": "DescriptionStyleModel",
      "state": {
       "description_width": ""
      }
     },
     "9a0f6bad6fe349fa86208f19972e8edd": {
      "model_module": "@jupyter-widgets/base",
      "model_module_version": "1.2.0",
      "model_name": "LayoutModel",
      "state": {}
     },
     "9a47d1edf57d48eca8550e91d695b14b": {
      "model_module": "@jupyter-widgets/base",
      "model_module_version": "1.2.0",
      "model_name": "LayoutModel",
      "state": {}
     },
     "9b50ac1f8b5247cd807f9c4d69575e2f": {
      "model_module": "@jupyter-widgets/base",
      "model_module_version": "1.2.0",
      "model_name": "LayoutModel",
      "state": {}
     },
     "9dc7da54c76e4c8e8d1f0a8588b97c85": {
      "model_module": "@jupyter-widgets/controls",
      "model_module_version": "1.5.0",
      "model_name": "ProgressStyleModel",
      "state": {
       "description_width": ""
      }
     },
     "9fa9d98456774b38b3daa471a1b5f503": {
      "model_module": "@jupyter-widgets/base",
      "model_module_version": "1.2.0",
      "model_name": "LayoutModel",
      "state": {}
     },
     "a0d6bf287f374481a0d54dcb2a1dfdb9": {
      "model_module": "@jupyter-widgets/base",
      "model_module_version": "1.2.0",
      "model_name": "LayoutModel",
      "state": {}
     },
     "a24da5172b994a9dba9b6ef9a27c35ab": {
      "model_module": "@jupyter-widgets/controls",
      "model_module_version": "1.5.0",
      "model_name": "HTMLModel",
      "state": {
       "layout": "IPY_MODEL_61039abecfc04d69baa480afc20c8fdc",
       "style": "IPY_MODEL_c9472b4f17704a3090e9a29a34bc0867",
       "value": "100%"
      }
     },
     "a450b6670d4248faaab319df470f869d": {
      "model_module": "@jupyter-widgets/controls",
      "model_module_version": "1.5.0",
      "model_name": "DescriptionStyleModel",
      "state": {
       "description_width": ""
      }
     },
     "a549afd025f24153ac73b475d001bb4f": {
      "model_module": "@jupyter-widgets/base",
      "model_module_version": "1.2.0",
      "model_name": "LayoutModel",
      "state": {}
     },
     "a573c55347e24bef88f18270ecf18c75": {
      "model_module": "@jupyter-widgets/controls",
      "model_module_version": "1.5.0",
      "model_name": "HTMLModel",
      "state": {
       "layout": "IPY_MODEL_e9a9f45be2c3473aa2d5ef0d074f1353",
       "style": "IPY_MODEL_4cedc7c6d855406e95e989e52376b19b",
       "value": " 10/10 [00:02&lt;00:00,  3.71it/s]"
      }
     },
     "a674a01861ca43de9527bd909f408ce8": {
      "model_module": "@jupyter-widgets/controls",
      "model_module_version": "1.5.0",
      "model_name": "HTMLModel",
      "state": {
       "layout": "IPY_MODEL_03679d9250f14a7dbedda1c77ddf643f",
       "style": "IPY_MODEL_14764f8f6c5c4b338426609ab27490c8",
       "value": " 10/10 [04:10&lt;00:00, 25.11s/it]"
      }
     },
     "a85d8fb0e3e843489b81331123d5bd3f": {
      "model_module": "@jupyter-widgets/controls",
      "model_module_version": "1.5.0",
      "model_name": "DescriptionStyleModel",
      "state": {
       "description_width": ""
      }
     },
     "a95ab24c88d74cb9ad96cf7c7ebbf203": {
      "model_module": "@jupyter-widgets/base",
      "model_module_version": "1.2.0",
      "model_name": "LayoutModel",
      "state": {}
     },
     "a965e4f820304924a3e0f68257b537bc": {
      "model_module": "@jupyter-widgets/base",
      "model_module_version": "1.2.0",
      "model_name": "LayoutModel",
      "state": {}
     },
     "ab9f6a1f8fdc4e1589caa80c9140f958": {
      "model_module": "@jupyter-widgets/controls",
      "model_module_version": "1.5.0",
      "model_name": "HTMLModel",
      "state": {
       "layout": "IPY_MODEL_162ad3f494ad47f5bdba999c40ff0512",
       "style": "IPY_MODEL_013f36497150460ab207d61c62890886",
       "value": " 10/10 [04:00&lt;00:00, 24.01s/it]"
      }
     },
     "abf911d8c8994107a059cacc98a65da5": {
      "model_module": "@jupyter-widgets/controls",
      "model_module_version": "1.5.0",
      "model_name": "ProgressStyleModel",
      "state": {
       "description_width": ""
      }
     },
     "ad95312284044113bb9dcbe656bcbfa2": {
      "model_module": "@jupyter-widgets/base",
      "model_module_version": "1.2.0",
      "model_name": "LayoutModel",
      "state": {}
     },
     "af217a5b823741cc991c6e3d1e1e12bb": {
      "model_module": "@jupyter-widgets/base",
      "model_module_version": "1.2.0",
      "model_name": "LayoutModel",
      "state": {}
     },
     "afd3804347b54056aee8d011a72be075": {
      "model_module": "@jupyter-widgets/base",
      "model_module_version": "1.2.0",
      "model_name": "LayoutModel",
      "state": {}
     },
     "b0b8161df5cb4c959ab86e3e82509ada": {
      "model_module": "@jupyter-widgets/controls",
      "model_module_version": "1.5.0",
      "model_name": "ProgressStyleModel",
      "state": {
       "description_width": ""
      }
     },
     "b1bb26dc93ef4fa18f8e23c7ea0f57f6": {
      "model_module": "@jupyter-widgets/controls",
      "model_module_version": "1.5.0",
      "model_name": "HTMLModel",
      "state": {
       "layout": "IPY_MODEL_953316531c9043f696d003256fda3e1c",
       "style": "IPY_MODEL_f3caa9803ba04380a898a0721c2207bd",
       "value": "100%"
      }
     },
     "b25a0f4d684749f8ae78ab1f094d902a": {
      "model_module": "@jupyter-widgets/base",
      "model_module_version": "1.2.0",
      "model_name": "LayoutModel",
      "state": {}
     },
     "b2a7dc5a58b64761951afe5684cd1a51": {
      "model_module": "@jupyter-widgets/controls",
      "model_module_version": "1.5.0",
      "model_name": "DescriptionStyleModel",
      "state": {
       "description_width": ""
      }
     },
     "b2c9213163d4465f8edba67daf13f834": {
      "model_module": "@jupyter-widgets/base",
      "model_module_version": "1.2.0",
      "model_name": "LayoutModel",
      "state": {}
     },
     "b2f8137765d44febb5371f3d68f14a71": {
      "model_module": "@jupyter-widgets/controls",
      "model_module_version": "1.5.0",
      "model_name": "HBoxModel",
      "state": {
       "children": [
        "IPY_MODEL_3e1f2ba5561540fa87734bd9ed26e1eb",
        "IPY_MODEL_d0bec7fae2bb4604ba7320b432d6387c",
        "IPY_MODEL_41e992ed8d5246218367503588c53d0c"
       ],
       "layout": "IPY_MODEL_8800d80fe6374453a54e0568efc56b83"
      }
     },
     "b3913777b9304293b94befbd3327312b": {
      "model_module": "@jupyter-widgets/base",
      "model_module_version": "1.2.0",
      "model_name": "LayoutModel",
      "state": {}
     },
     "b3c967cac10d4b28bafeab0a965f41d1": {
      "model_module": "@jupyter-widgets/base",
      "model_module_version": "1.2.0",
      "model_name": "LayoutModel",
      "state": {}
     },
     "b73bd38ff5d54b03be13b5f2a598e7fc": {
      "model_module": "@jupyter-widgets/base",
      "model_module_version": "1.2.0",
      "model_name": "LayoutModel",
      "state": {}
     },
     "b77fac57bfff4e3b8862416e72e6dd00": {
      "model_module": "@jupyter-widgets/controls",
      "model_module_version": "1.5.0",
      "model_name": "DescriptionStyleModel",
      "state": {
       "description_width": ""
      }
     },
     "b79ed8e1099748a0b48147d21e698603": {
      "model_module": "@jupyter-widgets/base",
      "model_module_version": "1.2.0",
      "model_name": "LayoutModel",
      "state": {}
     },
     "b7cab4d3d0ee41348ae2588dc7c9eb22": {
      "model_module": "@jupyter-widgets/base",
      "model_module_version": "1.2.0",
      "model_name": "LayoutModel",
      "state": {}
     },
     "b7d87e7477bc42e18383e447b58d16a9": {
      "model_module": "@jupyter-widgets/controls",
      "model_module_version": "1.5.0",
      "model_name": "ProgressStyleModel",
      "state": {
       "description_width": ""
      }
     },
     "b7e358a6c4e64a09a2d25b0e460260f3": {
      "model_module": "@jupyter-widgets/base",
      "model_module_version": "1.2.0",
      "model_name": "LayoutModel",
      "state": {}
     },
     "b83d5090aa244b2c86574fa058271f71": {
      "model_module": "@jupyter-widgets/base",
      "model_module_version": "1.2.0",
      "model_name": "LayoutModel",
      "state": {}
     },
     "ba6b8b0810664ea8a9a2e886f2e3d765": {
      "model_module": "@jupyter-widgets/controls",
      "model_module_version": "1.5.0",
      "model_name": "DescriptionStyleModel",
      "state": {
       "description_width": ""
      }
     },
     "bb1f083d92c44116ac4be28a85d0605b": {
      "model_module": "@jupyter-widgets/base",
      "model_module_version": "1.2.0",
      "model_name": "LayoutModel",
      "state": {}
     },
     "bb304dbed8fd4d10a4665cf71bb38576": {
      "model_module": "@jupyter-widgets/base",
      "model_module_version": "1.2.0",
      "model_name": "LayoutModel",
      "state": {}
     },
     "bcc6dbf8d48c42579415cb15649ebe50": {
      "model_module": "@jupyter-widgets/controls",
      "model_module_version": "1.5.0",
      "model_name": "ProgressStyleModel",
      "state": {
       "description_width": ""
      }
     },
     "bdb868ccba684a06a3befef4b0da06eb": {
      "model_module": "@jupyter-widgets/controls",
      "model_module_version": "1.5.0",
      "model_name": "HBoxModel",
      "state": {
       "children": [
        "IPY_MODEL_14d24b290b7742d69740a6f2044042f7",
        "IPY_MODEL_6dd63170972f41fdabd47babcdc064d0",
        "IPY_MODEL_6abb4e83e59142978c522baa25ec5b66"
       ],
       "layout": "IPY_MODEL_8394ade5a9794ac09657c3e23d0ed778"
      }
     },
     "beb4dd27b3be4cd78780271f77bf0e77": {
      "model_module": "@jupyter-widgets/controls",
      "model_module_version": "1.5.0",
      "model_name": "FloatProgressModel",
      "state": {
       "bar_style": "success",
       "layout": "IPY_MODEL_bb304dbed8fd4d10a4665cf71bb38576",
       "max": 10,
       "style": "IPY_MODEL_abf911d8c8994107a059cacc98a65da5",
       "value": 10
      }
     },
     "beeac468e5aa46a4a8d01a9b21b2f438": {
      "model_module": "@jupyter-widgets/controls",
      "model_module_version": "1.5.0",
      "model_name": "HTMLModel",
      "state": {
       "layout": "IPY_MODEL_798d9eaf8874428fb961c89f429afca8",
       "style": "IPY_MODEL_ed9f2ec492ca41f2ab1d1b75a79619b4",
       "value": " 10/10 [06:02&lt;00:00, 35.94s/it]"
      }
     },
     "bf623d852aa649bba26f1ea5fb8ea685": {
      "model_module": "@jupyter-widgets/controls",
      "model_module_version": "1.5.0",
      "model_name": "FloatProgressModel",
      "state": {
       "bar_style": "success",
       "layout": "IPY_MODEL_e03a8476f15e4c5c9d53b0ba133687da",
       "max": 10,
       "style": "IPY_MODEL_77cfe776468b433c83f88d3b83d8dc24",
       "value": 10
      }
     },
     "c17af8d197de49e187bab8122ceef841": {
      "model_module": "@jupyter-widgets/base",
      "model_module_version": "1.2.0",
      "model_name": "LayoutModel",
      "state": {}
     },
     "c1f35616bb6f40ddbeabbf2eccfda137": {
      "model_module": "@jupyter-widgets/base",
      "model_module_version": "1.2.0",
      "model_name": "LayoutModel",
      "state": {}
     },
     "c24f4f10becb465d959ab2c04665b563": {
      "model_module": "@jupyter-widgets/base",
      "model_module_version": "1.2.0",
      "model_name": "LayoutModel",
      "state": {}
     },
     "c309eda9be21498685ac409f2e1ecb23": {
      "model_module": "@jupyter-widgets/controls",
      "model_module_version": "1.5.0",
      "model_name": "FloatProgressModel",
      "state": {
       "bar_style": "success",
       "layout": "IPY_MODEL_e1caa0e40a404da590b44c451a3e4668",
       "max": 10,
       "style": "IPY_MODEL_84e72ab61aa04d7ea46d6c13918cd9e3",
       "value": 10
      }
     },
     "c34cefc61f4942b4bd7893736e3f78be": {
      "model_module": "@jupyter-widgets/base",
      "model_module_version": "1.2.0",
      "model_name": "LayoutModel",
      "state": {}
     },
     "c65639387b1b4ca2bab210e1855e0704": {
      "model_module": "@jupyter-widgets/controls",
      "model_module_version": "1.5.0",
      "model_name": "DescriptionStyleModel",
      "state": {
       "description_width": ""
      }
     },
     "c6b6775b959947379f15fc72ac825119": {
      "model_module": "@jupyter-widgets/base",
      "model_module_version": "1.2.0",
      "model_name": "LayoutModel",
      "state": {}
     },
     "c7864ff2c94642ed95224cfe61743a75": {
      "model_module": "@jupyter-widgets/base",
      "model_module_version": "1.2.0",
      "model_name": "LayoutModel",
      "state": {}
     },
     "c9472b4f17704a3090e9a29a34bc0867": {
      "model_module": "@jupyter-widgets/controls",
      "model_module_version": "1.5.0",
      "model_name": "DescriptionStyleModel",
      "state": {
       "description_width": ""
      }
     },
     "c97d53d4c7cc44c9a8c1fcfb4b22225a": {
      "model_module": "@jupyter-widgets/controls",
      "model_module_version": "1.5.0",
      "model_name": "DescriptionStyleModel",
      "state": {
       "description_width": ""
      }
     },
     "ca59987657cc44e7b2d898125efcd4eb": {
      "model_module": "@jupyter-widgets/controls",
      "model_module_version": "1.5.0",
      "model_name": "DescriptionStyleModel",
      "state": {
       "description_width": ""
      }
     },
     "cbfd58309a9940d28d716b788bbb764a": {
      "model_module": "@jupyter-widgets/controls",
      "model_module_version": "1.5.0",
      "model_name": "DescriptionStyleModel",
      "state": {
       "description_width": ""
      }
     },
     "cd99151fea844f82999ef4b70b491e62": {
      "model_module": "@jupyter-widgets/controls",
      "model_module_version": "1.5.0",
      "model_name": "ProgressStyleModel",
      "state": {
       "description_width": ""
      }
     },
     "ce97c776e20c4e32b08849bb5b1b18f4": {
      "model_module": "@jupyter-widgets/controls",
      "model_module_version": "1.5.0",
      "model_name": "FloatProgressModel",
      "state": {
       "bar_style": "success",
       "layout": "IPY_MODEL_a549afd025f24153ac73b475d001bb4f",
       "max": 10,
       "style": "IPY_MODEL_b0b8161df5cb4c959ab86e3e82509ada",
       "value": 10
      }
     },
     "d02c9f48bb8f4b229a951363fb0cacc9": {
      "model_module": "@jupyter-widgets/base",
      "model_module_version": "1.2.0",
      "model_name": "LayoutModel",
      "state": {}
     },
     "d0b084c5fd31477bb55764dd4b4afaf6": {
      "model_module": "@jupyter-widgets/controls",
      "model_module_version": "1.5.0",
      "model_name": "HBoxModel",
      "state": {
       "children": [
        "IPY_MODEL_de9c67e29e8b453bbdd01eff3668e373",
        "IPY_MODEL_7fe1b838d10c4103bb856e8b0737869e",
        "IPY_MODEL_d3c2a84d596f44a5844452fbf7e0fc81"
       ],
       "layout": "IPY_MODEL_afd3804347b54056aee8d011a72be075"
      }
     },
     "d0bec7fae2bb4604ba7320b432d6387c": {
      "model_module": "@jupyter-widgets/controls",
      "model_module_version": "1.5.0",
      "model_name": "FloatProgressModel",
      "state": {
       "bar_style": "success",
       "layout": "IPY_MODEL_2d3ec89bfd4d48daa83ae17d2b8375f0",
       "max": 10,
       "style": "IPY_MODEL_d282194672444de89a3d9f095fff83fa",
       "value": 10
      }
     },
     "d15efbfed0414bd28c49e55c14ddaf3c": {
      "model_module": "@jupyter-widgets/controls",
      "model_module_version": "1.5.0",
      "model_name": "HTMLModel",
      "state": {
       "layout": "IPY_MODEL_b73bd38ff5d54b03be13b5f2a598e7fc",
       "style": "IPY_MODEL_4297824c4b70492182bf13ca50175ea8",
       "value": "100%"
      }
     },
     "d282194672444de89a3d9f095fff83fa": {
      "model_module": "@jupyter-widgets/controls",
      "model_module_version": "1.5.0",
      "model_name": "ProgressStyleModel",
      "state": {
       "description_width": ""
      }
     },
     "d2f68555803945bd91e04d7973de9982": {
      "model_module": "@jupyter-widgets/controls",
      "model_module_version": "1.5.0",
      "model_name": "DescriptionStyleModel",
      "state": {
       "description_width": ""
      }
     },
     "d3c2a84d596f44a5844452fbf7e0fc81": {
      "model_module": "@jupyter-widgets/controls",
      "model_module_version": "1.5.0",
      "model_name": "HTMLModel",
      "state": {
       "layout": "IPY_MODEL_0b17f7e5c2574b0e9d0c4a8766a49043",
       "style": "IPY_MODEL_3be4ec01cc9440a7837b3df493b6a628",
       "value": " 10/10 [00:00&lt;00:00, 384.58it/s]"
      }
     },
     "d3d312654673435fa07ba407be631349": {
      "model_module": "@jupyter-widgets/controls",
      "model_module_version": "1.5.0",
      "model_name": "HTMLModel",
      "state": {
       "layout": "IPY_MODEL_3a6bcaffaba94abcb2348e58b29b14ee",
       "style": "IPY_MODEL_fc9ebd1c3c98428abf0fef74d97fc56a",
       "value": " 10/10 [05:53&lt;00:00, 35.52s/it]"
      }
     },
     "d6299a3ac8c947f28d111543762a6434": {
      "model_module": "@jupyter-widgets/base",
      "model_module_version": "1.2.0",
      "model_name": "LayoutModel",
      "state": {}
     },
     "d722efac83ba4dcea302fcb373b1411b": {
      "model_module": "@jupyter-widgets/controls",
      "model_module_version": "1.5.0",
      "model_name": "HTMLModel",
      "state": {
       "layout": "IPY_MODEL_80c794cd3cc74558bc561f5b22309b94",
       "style": "IPY_MODEL_b2a7dc5a58b64761951afe5684cd1a51",
       "value": "100%"
      }
     },
     "d72f980210f94131b396a2cceb27f9ac": {
      "model_module": "@jupyter-widgets/base",
      "model_module_version": "1.2.0",
      "model_name": "LayoutModel",
      "state": {}
     },
     "d7f9c0f1ce294ade85ca015597c4d1df": {
      "model_module": "@jupyter-widgets/base",
      "model_module_version": "1.2.0",
      "model_name": "LayoutModel",
      "state": {}
     },
     "d8e3b17575244f7f96d7a2a8fce54eb5": {
      "model_module": "@jupyter-widgets/base",
      "model_module_version": "1.2.0",
      "model_name": "LayoutModel",
      "state": {}
     },
     "d9028efe988e443e84ee3e1cb2c7cc5c": {
      "model_module": "@jupyter-widgets/controls",
      "model_module_version": "1.5.0",
      "model_name": "HTMLModel",
      "state": {
       "layout": "IPY_MODEL_8c80abd1df234f74b8e86243383e495a",
       "style": "IPY_MODEL_6009d550d7934a5aaddddd1290ae532c",
       "value": " 10/10 [00:23&lt;00:00,  2.19s/it]"
      }
     },
     "d95e0b1935604ab9bedd04a35a1ed7ef": {
      "model_module": "@jupyter-widgets/controls",
      "model_module_version": "1.5.0",
      "model_name": "HTMLModel",
      "state": {
       "layout": "IPY_MODEL_1e96e1bc5cd746a9a97ae874a7764892",
       "style": "IPY_MODEL_11cfda7963f4471da4069cfe6e59f625",
       "value": "100%"
      }
     },
     "d97131f2a4114ef3b8e49cbac93d0dcd": {
      "model_module": "@jupyter-widgets/controls",
      "model_module_version": "1.5.0",
      "model_name": "HBoxModel",
      "state": {
       "children": [
        "IPY_MODEL_59edb9c119f44a6c887348c14eac8e93",
        "IPY_MODEL_ce97c776e20c4e32b08849bb5b1b18f4",
        "IPY_MODEL_8cdc92d3497c4b438a5cd9f23fc96c06"
       ],
       "layout": "IPY_MODEL_456df8936a8649fda52d9a430fa83690"
      }
     },
     "d9d4a063e6574c7f9fcc9eba3d4da721": {
      "model_module": "@jupyter-widgets/base",
      "model_module_version": "1.2.0",
      "model_name": "LayoutModel",
      "state": {}
     },
     "da79c073c1d74ff1965862b7f2f29fd9": {
      "model_module": "@jupyter-widgets/base",
      "model_module_version": "1.2.0",
      "model_name": "LayoutModel",
      "state": {}
     },
     "db213c94e6e042adb1b6804d33b01bcd": {
      "model_module": "@jupyter-widgets/controls",
      "model_module_version": "1.5.0",
      "model_name": "HTMLModel",
      "state": {
       "layout": "IPY_MODEL_9b50ac1f8b5247cd807f9c4d69575e2f",
       "style": "IPY_MODEL_8c4dd5477ad34613969b362359ab11b6",
       "value": "100%"
      }
     },
     "dc883238ceb545f3aef04a67a96a8f97": {
      "model_module": "@jupyter-widgets/controls",
      "model_module_version": "1.5.0",
      "model_name": "HBoxModel",
      "state": {
       "children": [
        "IPY_MODEL_f5dc48420b404af385cfe89a6069935d",
        "IPY_MODEL_5d8a2d1629804669b82c5f6c7b9efa72",
        "IPY_MODEL_a674a01861ca43de9527bd909f408ce8"
       ],
       "layout": "IPY_MODEL_d72f980210f94131b396a2cceb27f9ac"
      }
     },
     "dd33645f56d84184aebd78e6490d42d7": {
      "model_module": "@jupyter-widgets/controls",
      "model_module_version": "1.5.0",
      "model_name": "ProgressStyleModel",
      "state": {
       "description_width": ""
      }
     },
     "dd99fe252f9946f2ac542d42ba031fc7": {
      "model_module": "@jupyter-widgets/controls",
      "model_module_version": "1.5.0",
      "model_name": "HTMLModel",
      "state": {
       "layout": "IPY_MODEL_c7864ff2c94642ed95224cfe61743a75",
       "style": "IPY_MODEL_cbfd58309a9940d28d716b788bbb764a",
       "value": " 10/10 [18:23&lt;00:00, 110.96s/it]"
      }
     },
     "de5357ec18c842f99858c1c945939358": {
      "model_module": "@jupyter-widgets/controls",
      "model_module_version": "1.5.0",
      "model_name": "HTMLModel",
      "state": {
       "layout": "IPY_MODEL_361e287cd987438b9814e4c2df0d0948",
       "style": "IPY_MODEL_2e894cdd174c4b66b52722c72f58763e",
       "value": "100%"
      }
     },
     "de9c67e29e8b453bbdd01eff3668e373": {
      "model_module": "@jupyter-widgets/controls",
      "model_module_version": "1.5.0",
      "model_name": "HTMLModel",
      "state": {
       "layout": "IPY_MODEL_ad95312284044113bb9dcbe656bcbfa2",
       "style": "IPY_MODEL_6f9511978bd042d4b64590ce82d4f901",
       "value": "100%"
      }
     },
     "df0b08ff3c5b42a78a76c923e3eb7e14": {
      "model_module": "@jupyter-widgets/controls",
      "model_module_version": "1.5.0",
      "model_name": "FloatProgressModel",
      "state": {
       "bar_style": "success",
       "layout": "IPY_MODEL_d8e3b17575244f7f96d7a2a8fce54eb5",
       "max": 10,
       "style": "IPY_MODEL_cd99151fea844f82999ef4b70b491e62",
       "value": 10
      }
     },
     "e03a8476f15e4c5c9d53b0ba133687da": {
      "model_module": "@jupyter-widgets/base",
      "model_module_version": "1.2.0",
      "model_name": "LayoutModel",
      "state": {}
     },
     "e0e595eadd8f4f5aa0fa870773f601a3": {
      "model_module": "@jupyter-widgets/controls",
      "model_module_version": "1.5.0",
      "model_name": "ProgressStyleModel",
      "state": {
       "description_width": ""
      }
     },
     "e1caa0e40a404da590b44c451a3e4668": {
      "model_module": "@jupyter-widgets/base",
      "model_module_version": "1.2.0",
      "model_name": "LayoutModel",
      "state": {}
     },
     "e7731bba6adc4050bdcfd69c4109cc36": {
      "model_module": "@jupyter-widgets/base",
      "model_module_version": "1.2.0",
      "model_name": "LayoutModel",
      "state": {}
     },
     "e9a9f45be2c3473aa2d5ef0d074f1353": {
      "model_module": "@jupyter-widgets/base",
      "model_module_version": "1.2.0",
      "model_name": "LayoutModel",
      "state": {}
     },
     "ea96c5372ad04874915da34e41c2a931": {
      "model_module": "@jupyter-widgets/controls",
      "model_module_version": "1.5.0",
      "model_name": "DescriptionStyleModel",
      "state": {
       "description_width": ""
      }
     },
     "ed9f2ec492ca41f2ab1d1b75a79619b4": {
      "model_module": "@jupyter-widgets/controls",
      "model_module_version": "1.5.0",
      "model_name": "DescriptionStyleModel",
      "state": {
       "description_width": ""
      }
     },
     "ee6d0ac0ccfe4837a72fa4c03ec9334f": {
      "model_module": "@jupyter-widgets/controls",
      "model_module_version": "1.5.0",
      "model_name": "ProgressStyleModel",
      "state": {
       "description_width": ""
      }
     },
     "efe283c08bf64c1b8021e5b959377e20": {
      "model_module": "@jupyter-widgets/controls",
      "model_module_version": "1.5.0",
      "model_name": "DescriptionStyleModel",
      "state": {
       "description_width": ""
      }
     },
     "f168f755d4044c92ba5de5889a75be71": {
      "model_module": "@jupyter-widgets/controls",
      "model_module_version": "1.5.0",
      "model_name": "HTMLModel",
      "state": {
       "layout": "IPY_MODEL_2f565beca7014cbca04634b5f01c2a61",
       "style": "IPY_MODEL_ba6b8b0810664ea8a9a2e886f2e3d765",
       "value": "100%"
      }
     },
     "f3b7891de851453882089829cd1131c2": {
      "model_module": "@jupyter-widgets/controls",
      "model_module_version": "1.5.0",
      "model_name": "DescriptionStyleModel",
      "state": {
       "description_width": ""
      }
     },
     "f3caa9803ba04380a898a0721c2207bd": {
      "model_module": "@jupyter-widgets/controls",
      "model_module_version": "1.5.0",
      "model_name": "DescriptionStyleModel",
      "state": {
       "description_width": ""
      }
     },
     "f3ccbc50fd034000aacef87da63775b1": {
      "model_module": "@jupyter-widgets/controls",
      "model_module_version": "1.5.0",
      "model_name": "HBoxModel",
      "state": {
       "children": [
        "IPY_MODEL_a24da5172b994a9dba9b6ef9a27c35ab",
        "IPY_MODEL_f57a0864aa06459ea44d1b238f30dcb1",
        "IPY_MODEL_5ac360c93006492c850f1cad49ed5153"
       ],
       "layout": "IPY_MODEL_91254353ea5e4b8eb0875f0022e67b81"
      }
     },
     "f46d8f25df9c4da4b2c80f94bb3d0087": {
      "model_module": "@jupyter-widgets/controls",
      "model_module_version": "1.5.0",
      "model_name": "ProgressStyleModel",
      "state": {
       "description_width": ""
      }
     },
     "f57a0864aa06459ea44d1b238f30dcb1": {
      "model_module": "@jupyter-widgets/controls",
      "model_module_version": "1.5.0",
      "model_name": "FloatProgressModel",
      "state": {
       "bar_style": "success",
       "layout": "IPY_MODEL_ff92d9f5189d45dba36adb327f3b9a1d",
       "max": 10,
       "style": "IPY_MODEL_bcc6dbf8d48c42579415cb15649ebe50",
       "value": 10
      }
     },
     "f5a8b5f065af4f75bf665f5d5ed2f619": {
      "model_module": "@jupyter-widgets/controls",
      "model_module_version": "1.5.0",
      "model_name": "DescriptionStyleModel",
      "state": {
       "description_width": ""
      }
     },
     "f5dc48420b404af385cfe89a6069935d": {
      "model_module": "@jupyter-widgets/controls",
      "model_module_version": "1.5.0",
      "model_name": "HTMLModel",
      "state": {
       "layout": "IPY_MODEL_237b72b644594fb8a3bf1d3e6bc96466",
       "style": "IPY_MODEL_b77fac57bfff4e3b8862416e72e6dd00",
       "value": "100%"
      }
     },
     "f612477c592e49778911265402c4de28": {
      "model_module": "@jupyter-widgets/controls",
      "model_module_version": "1.5.0",
      "model_name": "HBoxModel",
      "state": {
       "children": [
        "IPY_MODEL_3722498688c34393a72793ee07a6bff1",
        "IPY_MODEL_3a68cd5a15c446fe836873c1d49ca7a1",
        "IPY_MODEL_07b22ebbadf84e46b773939024eae951"
       ],
       "layout": "IPY_MODEL_682deeedd7534ccb844cbb25b8daea8f"
      }
     },
     "faa12c63e12c4a8aa5c3df60b0d0a44c": {
      "model_module": "@jupyter-widgets/base",
      "model_module_version": "1.2.0",
      "model_name": "LayoutModel",
      "state": {}
     },
     "fb9ed60bd16b4c8eb96adc582dfa0cfe": {
      "model_module": "@jupyter-widgets/controls",
      "model_module_version": "1.5.0",
      "model_name": "HTMLModel",
      "state": {
       "layout": "IPY_MODEL_b2c9213163d4465f8edba67daf13f834",
       "style": "IPY_MODEL_399d1b421de14204a324cfb3104f5c84",
       "value": "100%"
      }
     },
     "fc9ebd1c3c98428abf0fef74d97fc56a": {
      "model_module": "@jupyter-widgets/controls",
      "model_module_version": "1.5.0",
      "model_name": "DescriptionStyleModel",
      "state": {
       "description_width": ""
      }
     },
     "fda95436741041d4b56c39f6a63ed7dd": {
      "model_module": "@jupyter-widgets/controls",
      "model_module_version": "1.5.0",
      "model_name": "FloatProgressModel",
      "state": {
       "bar_style": "success",
       "layout": "IPY_MODEL_bb1f083d92c44116ac4be28a85d0605b",
       "max": 10,
       "style": "IPY_MODEL_3464e446c2104b23bcd142d7b5b357c3",
       "value": 10
      }
     },
     "fdc8d607bfa246b3876b0ff1c48ae068": {
      "model_module": "@jupyter-widgets/controls",
      "model_module_version": "1.5.0",
      "model_name": "ProgressStyleModel",
      "state": {
       "description_width": ""
      }
     },
     "fde578a88a9c4503802644ab376b35db": {
      "model_module": "@jupyter-widgets/controls",
      "model_module_version": "1.5.0",
      "model_name": "ProgressStyleModel",
      "state": {
       "description_width": ""
      }
     },
     "ff92d9f5189d45dba36adb327f3b9a1d": {
      "model_module": "@jupyter-widgets/base",
      "model_module_version": "1.2.0",
      "model_name": "LayoutModel",
      "state": {}
     }
    },
    "version_major": 2,
    "version_minor": 0
   }
  }
 },
 "nbformat": 4,
 "nbformat_minor": 5
}
