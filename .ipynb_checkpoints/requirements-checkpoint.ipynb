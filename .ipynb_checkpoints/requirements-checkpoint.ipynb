{
 "cells": [
  {
   "cell_type": "code",
   "execution_count": 3,
   "id": "70853bbf",
   "metadata": {
    "Collapsed": "false"
   },
   "outputs": [],
   "source": [
    "import copy\n",
    "import datetime\n",
    "import gc\n",
    "import logging\n",
    "import os\n",
    "from math import exp, floor, sqrt\n",
    "from time import time, sleep\n",
    "from concurrent.futures import ProcessPoolExecutor, ThreadPoolExecutor\n",
    "\n",
    "import matplotlib.patches as mpatches\n",
    "import matplotlib.pyplot as plt\n",
    "import numpy as np\n",
    "import pandas as pd\n",
    "import psutil\n",
    "import seaborn as sns\n",
    "import tensorflow as tf\n",
    "import tqdm.notebook as tq\n",
    "from minepy import MINE\n",
    "from numpy import mean\n",
    "from sklearn.cluster import KMeans\n",
    "from sklearn.datasets import make_classification\n",
    "from sklearn.ensemble import AdaBoostClassifier, RandomForestClassifier\n",
    "from sklearn.inspection import permutation_importance\n",
    "from sklearn.metrics import (accuracy_score, auc, f1_score, precision_score,\n",
    "                             recall_score, roc_auc_score, silhouette_score)\n",
    "from sklearn.model_selection import (GridSearchCV, RepeatedStratifiedKFold,\n",
    "                                     ShuffleSplit, StratifiedShuffleSplit,\n",
    "                                     cross_val_score)\n",
    "from tqdm.notebook import tqdm\n",
    "from tslearn.barycenters import (dtw_barycenter_averaging,\n",
    "                                 dtw_barycenter_averaging_subgradient,\n",
    "                                 euclidean_barycenter, softdtw_barycenter)\n",
    "from tslearn.clustering import TimeSeriesKMeans\n",
    "from tslearn.datasets import CachedDatasets\n",
    "from tslearn.metrics import dtw, soft_dtw\n",
    "from tslearn.preprocessing import (TimeSeriesResampler,\n",
    "                                   TimeSeriesScalerMeanVariance)\n",
    "\n",
    "from sklearn.svm import LinearSVC, SVC\n",
    "from sklearn.naive_bayes import ComplementNB\n",
    "from sklearn.tree import DecisionTreeClassifier\n",
    "from sklearn.neighbors import KNeighborsClassifier\n",
    "from xgboost import XGBClassifier\n",
    "\n",
    "import imblearn"
   ]
  },
  {
   "cell_type": "code",
   "execution_count": null,
   "id": "5dc74880",
   "metadata": {
    "Collapsed": "false"
   },
   "outputs": [],
   "source": [
    "sns.set()  # for plot styling\n",
    "\n",
    "tf.get_logger().setLevel(logging.ERROR)\n",
    "\n",
    "psutil.virtual_memory()\n",
    "pd.set_option('display.max_rows', 500)\n",
    "pd.set_option('display.max_columns', 500)\n",
    "pd.set_option('display.width', 1000)"
   ]
  }
 ],
 "metadata": {
  "environment": {
   "name": "common-cpu.m71",
   "type": "gcloud",
   "uri": "gcr.io/deeplearning-platform-release/base-cpu:m71"
  },
  "kernelspec": {
   "display_name": "Python 3",
   "language": "python",
   "name": "python3"
  },
  "language_info": {
   "codemirror_mode": {
    "name": "ipython",
    "version": 3
   },
   "file_extension": ".py",
   "mimetype": "text/x-python",
   "name": "python",
   "nbconvert_exporter": "python",
   "pygments_lexer": "ipython3",
   "version": "3.7.10"
  }
 },
 "nbformat": 4,
 "nbformat_minor": 5
}
