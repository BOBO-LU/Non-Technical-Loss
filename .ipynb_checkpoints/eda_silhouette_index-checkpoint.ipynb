{
 "cells": [
  {
   "cell_type": "code",
   "execution_count": 18,
   "id": "spectacular-switch",
   "metadata": {
    "Collapsed": "false"
   },
   "outputs": [],
   "source": [
    "import pandas as pd\n",
    "import tqdm.notebook as tq\n",
    "from sklearn.cluster import KMeans\n",
    "from sklearn.metrics import silhouette_score\n",
    "import matplotlib.pyplot as plt"
   ]
  },
  {
   "cell_type": "code",
   "execution_count": 2,
   "id": "regulated-essence",
   "metadata": {
    "Collapsed": "false"
   },
   "outputs": [],
   "source": [
    "smart_meter = pd.read_csv(\"CSV/smart_meter.csv\")"
   ]
  },
  {
   "cell_type": "code",
   "execution_count": 3,
   "id": "visible-triple",
   "metadata": {
    "Collapsed": "false"
   },
   "outputs": [
    {
     "data": {
      "text/html": [
       "<div>\n",
       "<style scoped>\n",
       "    .dataframe tbody tr th:only-of-type {\n",
       "        vertical-align: middle;\n",
       "    }\n",
       "\n",
       "    .dataframe tbody tr th {\n",
       "        vertical-align: top;\n",
       "    }\n",
       "\n",
       "    .dataframe thead th {\n",
       "        text-align: right;\n",
       "    }\n",
       "</style>\n",
       "<table border=\"1\" class=\"dataframe\">\n",
       "  <thead>\n",
       "    <tr style=\"text-align: right;\">\n",
       "      <th></th>\n",
       "      <th>MeterID</th>\n",
       "      <th>Day</th>\n",
       "      <th>Time</th>\n",
       "      <th>Electricity</th>\n",
       "      <th>FDI</th>\n",
       "    </tr>\n",
       "  </thead>\n",
       "  <tbody>\n",
       "    <tr>\n",
       "      <th>0</th>\n",
       "      <td>1236</td>\n",
       "      <td>2009-07-15</td>\n",
       "      <td>1</td>\n",
       "      <td>0.134070</td>\n",
       "      <td>True</td>\n",
       "    </tr>\n",
       "    <tr>\n",
       "      <th>1</th>\n",
       "      <td>1236</td>\n",
       "      <td>2009-07-15</td>\n",
       "      <td>2</td>\n",
       "      <td>0.129562</td>\n",
       "      <td>True</td>\n",
       "    </tr>\n",
       "    <tr>\n",
       "      <th>2</th>\n",
       "      <td>1236</td>\n",
       "      <td>2009-07-15</td>\n",
       "      <td>3</td>\n",
       "      <td>0.113616</td>\n",
       "      <td>True</td>\n",
       "    </tr>\n",
       "    <tr>\n",
       "      <th>3</th>\n",
       "      <td>1236</td>\n",
       "      <td>2009-07-15</td>\n",
       "      <td>4</td>\n",
       "      <td>0.186020</td>\n",
       "      <td>True</td>\n",
       "    </tr>\n",
       "    <tr>\n",
       "      <th>4</th>\n",
       "      <td>1236</td>\n",
       "      <td>2009-07-15</td>\n",
       "      <td>5</td>\n",
       "      <td>0.075942</td>\n",
       "      <td>True</td>\n",
       "    </tr>\n",
       "    <tr>\n",
       "      <th>...</th>\n",
       "      <td>...</td>\n",
       "      <td>...</td>\n",
       "      <td>...</td>\n",
       "      <td>...</td>\n",
       "      <td>...</td>\n",
       "    </tr>\n",
       "    <tr>\n",
       "      <th>107483995</th>\n",
       "      <td>6954</td>\n",
       "      <td>2010-12-31</td>\n",
       "      <td>44</td>\n",
       "      <td>0.618000</td>\n",
       "      <td>False</td>\n",
       "    </tr>\n",
       "    <tr>\n",
       "      <th>107483996</th>\n",
       "      <td>6954</td>\n",
       "      <td>2010-12-31</td>\n",
       "      <td>45</td>\n",
       "      <td>0.371000</td>\n",
       "      <td>False</td>\n",
       "    </tr>\n",
       "    <tr>\n",
       "      <th>107483997</th>\n",
       "      <td>6954</td>\n",
       "      <td>2010-12-31</td>\n",
       "      <td>46</td>\n",
       "      <td>0.344000</td>\n",
       "      <td>False</td>\n",
       "    </tr>\n",
       "    <tr>\n",
       "      <th>107483998</th>\n",
       "      <td>6954</td>\n",
       "      <td>2010-12-31</td>\n",
       "      <td>47</td>\n",
       "      <td>0.319000</td>\n",
       "      <td>False</td>\n",
       "    </tr>\n",
       "    <tr>\n",
       "      <th>107483999</th>\n",
       "      <td>6954</td>\n",
       "      <td>2010-12-31</td>\n",
       "      <td>48</td>\n",
       "      <td>0.362000</td>\n",
       "      <td>False</td>\n",
       "    </tr>\n",
       "  </tbody>\n",
       "</table>\n",
       "<p>107484000 rows × 5 columns</p>\n",
       "</div>"
      ],
      "text/plain": [
       "           MeterID         Day  Time  Electricity    FDI\n",
       "0             1236  2009-07-15     1     0.134070   True\n",
       "1             1236  2009-07-15     2     0.129562   True\n",
       "2             1236  2009-07-15     3     0.113616   True\n",
       "3             1236  2009-07-15     4     0.186020   True\n",
       "4             1236  2009-07-15     5     0.075942   True\n",
       "...            ...         ...   ...          ...    ...\n",
       "107483995     6954  2010-12-31    44     0.618000  False\n",
       "107483996     6954  2010-12-31    45     0.371000  False\n",
       "107483997     6954  2010-12-31    46     0.344000  False\n",
       "107483998     6954  2010-12-31    47     0.319000  False\n",
       "107483999     6954  2010-12-31    48     0.362000  False\n",
       "\n",
       "[107484000 rows x 5 columns]"
      ]
     },
     "execution_count": 3,
     "metadata": {},
     "output_type": "execute_result"
    }
   ],
   "source": [
    "smart_meter"
   ]
  },
  {
   "cell_type": "code",
   "execution_count": null,
   "id": "comparative-ozone",
   "metadata": {
    "Collapsed": "false"
   },
   "outputs": [],
   "source": [
    "# X = []\n",
    "# X_meter = []\n",
    "# Y = []\n",
    "# for i in range(10):\n",
    "#     data = final_data_group[i]\n",
    "#     for normal in data[\"normal\"]:\n",
    "#         X.append(normal[\"Electricity\"].to_numpy())\n",
    "#         X_meter.append(normal[\"MeterID\"].iloc[0])\n",
    "#         Y.append([0])\n",
    "#     for fdi in data[\"fdi\"]:\n",
    "#         X.append(fdi[\"Electricity\"].to_numpy())\n",
    "#         X_meter.append(normal[\"MeterID\"].iloc[0])\n",
    "#         Y.append([1])\n",
    "# X = np.array(X)\n",
    "# X_meter = np.array(X_meter)\n",
    "# Y = np.array(Y).reshape(-1)\n",
    "# print(X.shape)"
   ]
  },
  {
   "cell_type": "code",
   "execution_count": 16,
   "id": "hungarian-orientation",
   "metadata": {
    "Collapsed": "false"
   },
   "outputs": [],
   "source": [
    "X = smart_meter[\"Electricity\"].to_numpy().reshape(4225, -1)\n",
    "Y = smart_meter[\"FDI\"].to_numpy()"
   ]
  },
  {
   "cell_type": "code",
   "execution_count": 20,
   "id": "muslim-gateway",
   "metadata": {
    "Collapsed": "false"
   },
   "outputs": [
    {
     "data": {
      "application/vnd.jupyter.widget-view+json": {
       "model_id": "db19392012f04f07ad662d3fecfe86c8",
       "version_major": 2,
       "version_minor": 0
      },
      "text/plain": [
       "  0%|          | 0/3 [00:00<?, ?it/s]"
      ]
     },
     "metadata": {},
     "output_type": "display_data"
    },
    {
     "data": {
      "text/plain": [
       "[<matplotlib.lines.Line2D at 0x7f2c807002d0>]"
      ]
     },
     "execution_count": 20,
     "metadata": {},
     "output_type": "execute_result"
    },
    {
     "data": {
      "image/png": "[encoded data removed]",
      "text/plain": [
       "<Figure size 432x288 with 1 Axes>"
      ]
     },
     "metadata": {
      "needs_background": "light"
     },
     "output_type": "display_data"
    }
   ],
   "source": [
    "# silhouette index\n",
    "silhouette_avg = []\n",
    "for i in tq.tqdm(range(2,30)):\n",
    "    kmeans_fit = KMeans(n_clusters = i).fit(X)\n",
    "    silhouette_avg.append(silhouette_score(X, kmeans_fit.labels_))\n",
    "plt.plot(range(2,30), silhouette_avg)"
   ]
  },
  {
   "cell_type": "code",
   "execution_count": null,
   "id": "demonstrated-lunch",
   "metadata": {
    "Collapsed": "false"
   },
   "outputs": [],
   "source": [
    "plt.title(\"Silhouette analysis in fdi data\")\n",
    "plt.xlabel('n-clusters') \n",
    "# naming the y axis \n",
    "plt.ylabel('silhouette index') \n",
    "plt.plot(range(2,30), silhouette_avg)\n",
    "save_fig(\"Silhouette analysis in fdi data\")"
   ]
  }
 ],
 "metadata": {
  "environment": {
   "name": "common-cpu.m65",
   "type": "gcloud",
   "uri": "gcr.io/deeplearning-platform-release/base-cpu:m65"
  },
  "kernelspec": {
   "display_name": "Python 3",
   "language": "python",
   "name": "python3"
  },
  "language_info": {
   "codemirror_mode": {
    "name": "ipython",
    "version": 3
   },
   "file_extension": ".py",
   "mimetype": "text/x-python",
   "name": "python",
   "nbconvert_exporter": "python",
   "pygments_lexer": "ipython3",
   "version": "3.7.10"
  }
 },
 "nbformat": 4,
 "nbformat_minor": 5
}
