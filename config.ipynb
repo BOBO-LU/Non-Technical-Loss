{
 "cells": [
  {
   "cell_type": "code",
   "execution_count": null,
   "id": "corrected-custom",
   "metadata": {
    "Collapsed": "false"
   },
   "outputs": [],
   "source": [
    "# data preprocessing CONST\n",
    "DATA_FOLDER_PATH = \"Data\"\n",
    "IMAGES_PATH = \"Image\"\n",
    "ALLOCATION_PATH = \"SME and Residential allocations.xlsx\"\n",
    "START_DATE = datetime.date(2009, 1, 1)\n",
    "MAX_NUMBER_OF_HOURS = 530 * 24 * 2\n",
    "HOURS_LIST = np.arange(MAX_NUMBER_OF_HOURS)"
   ]
  },
  {
   "cell_type": "code",
   "execution_count": null,
   "id": "bacterial-psychology",
   "metadata": {
    "Collapsed": "false"
   },
   "outputs": [],
   "source": [
    "# FDI CONST\n",
    "NUMBER_OF_DAYS = 530\n",
    "NUMBER_OF_HALF_HOURS = NUMBER_OF_DAYS * 48\n",
    "AREA_NUM = 10\n",
    "TOTAL_METER = 4225\n",
    "METER_IN_RANGE = 422"
   ]
  }
 ],
 "metadata": {
  "environment": {
   "name": "common-cpu.m65",
   "type": "gcloud",
   "uri": "gcr.io/deeplearning-platform-release/base-cpu:m65"
  },
  "kernelspec": {
   "display_name": "Python 3",
   "language": "python",
   "name": "python3"
  },
  "language_info": {
   "codemirror_mode": {
    "name": "ipython",
    "version": 3
   },
   "file_extension": ".py",
   "mimetype": "text/x-python",
   "name": "python",
   "nbconvert_exporter": "python",
   "pygments_lexer": "ipython3",
   "version": "3.7.10"
  }
 },
 "nbformat": 4,
 "nbformat_minor": 5
}
