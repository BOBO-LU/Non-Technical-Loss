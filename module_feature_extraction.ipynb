{
 "cells": [
  {
   "cell_type": "code",
   "execution_count": 1,
   "id": "distant-revolution",
   "metadata": {
    "Collapsed": "false"
   },
   "outputs": [],
   "source": [
    "%run requirements.ipynb\n",
    "%run config.ipynb\n",
    "%run module_training.ipynb"
   ]
  },
  {
   "cell_type": "code",
   "execution_count": null,
   "id": "cathedral-collection",
   "metadata": {
    "Collapsed": "false"
   },
   "outputs": [],
   "source": [
    "\"\"\"\n",
    "start_time = timer(None)\n",
    "timer(start_time)\n",
    "\"\"\""
   ]
  },
  {
   "cell_type": "code",
   "execution_count": 2,
   "id": "organic-scotland",
   "metadata": {
    "Collapsed": "false"
   },
   "outputs": [],
   "source": [
    "def v_value(smart_meter_data_group, NUMBER_OF_DAYS):\n",
    "    CONDITION_FILTER = 28\n",
    "    v_value_list = []\n",
    "    v_value_df = pd.DataFrame(columns=['MeterID', 'Day', 'FDI', 'Tmax1', 'Cmax1', 'Tmax2', 'Cmax2', 'Tmin1', 'Cmin1'])\n",
    "    pbar = tqdm(smart_meter_data_group) \n",
    "    for area in pbar: # iterate 10 data groups\n",
    "        for meter in area['fdi']: # iterate every fdi meter in area \n",
    "            day_list = meter['Day'].reset_index()\n",
    "            for i in range(NUMBER_OF_DAYS): # iterate every day\n",
    "                meter_id = meter['MeterID'].max()\n",
    "                meter_day = day_list['Day'][i*48]\n",
    "                meter_numpy = meter['Electricity'].to_numpy()[i*48:(i+1)*48]\n",
    "\n",
    "                # 1. Cmax1 and T max1 are the maximum consumption before 2 p.m.\n",
    "                Tmax1 = meter_numpy[:CONDITION_FILTER].argmax()\n",
    "\n",
    "                # 2. Cmax2 and T max2 are the maximum consumption after 2 p.m.\n",
    "                Tmax2 = meter_numpy[CONDITION_FILTER:].argmax() + CONDITION_FILTER\n",
    "\n",
    "                # 3. Cmin1 and T min1 are the minimum consumption between T max1 and T max2 \n",
    "                Tmin1 = meter_numpy[Tmax1: Tmax2].argmin() + Tmax1\n",
    "\n",
    "                se = {'MeterID': meter_id, 'Day': meter_day,'FDI': True, 'Tmax1': Tmax1, 'Tmax2': Tmax2, 'Tmin1': Tmin1, 'Cmax1': meter_numpy[Tmax1], 'Cmax2': meter_numpy[Tmax2], 'Cmin1': meter_numpy[Tmin1]}\n",
    "                v_value_list.append(se)\n",
    "        print('finish fdi')\n",
    "        for meter in area['normal']:\n",
    "            day_list = meter['Day'].reset_index()\n",
    "            for i in range(NUMBER_OF_DAYS): # iterate every day\n",
    "                meter_id = meter['MeterID'].max()\n",
    "                meter_day = day_list['Day'][i*48]\n",
    "                meter_numpy = meter['Electricity'].to_numpy()[i*48:(i+1)*48]\n",
    "    #             print(meter_numpy)\n",
    "                # 1. Cmax1 and T max1 are the maximum consumption before 2 p.m.\n",
    "                Tmax1 = meter_numpy[:CONDITION_FILTER].argmax()\n",
    "\n",
    "                # 2. Cmax2 and T max2 are the maximum consumption after 2 p.m.\n",
    "                Tmax2 = meter_numpy[CONDITION_FILTER:].argmax() + CONDITION_FILTER\n",
    "\n",
    "                # 3. Cmin1 and T min1 are the minimum consumption between T max1 and T max2 \n",
    "                Tmin1 = meter_numpy[Tmax1: Tmax2].argmin() + Tmax1\n",
    "\n",
    "                se = {'MeterID': meter_id, 'Day': meter_day,'FDI': False, 'Tmax1': Tmax1, 'Tmax2': Tmax2, 'Tmin1': Tmin1, 'Cmax1': meter_numpy[Tmax1], 'Cmax2': meter_numpy[Tmax2], 'Cmin1': meter_numpy[Tmin1]}\n",
    "                v_value_list.append(se)\n",
    "        print('finish normal')\n",
    "    return v_value_list"
   ]
  },
  {
   "cell_type": "code",
   "execution_count": null,
   "id": "gross-valve",
   "metadata": {
    "Collapsed": "false"
   },
   "outputs": [],
   "source": [
    "# four_time_list = four_time(smart_meter_data_group)\n",
    "def four_time(smart_meter_data_group, NUMBER_OF_DAYS):\n",
    "    four_time_list = []\n",
    "    fourtime_df = pd.DataFrame(columns=['MeterID', 'Day', 'FDI', 'overnight', 'breakfast', 'daytime', 'evening'])\n",
    "    pbar = tqdm(smart_meter_data_group)\n",
    "    count = 1\n",
    "    for area in pbar: # iterate 10 data groups\n",
    "        print(count)\n",
    "        count += 1\n",
    "        \n",
    "        for meter in area['fdi']: # iterate every fdi meter in area \n",
    "            day_list = meter['Day'].reset_index()\n",
    "            for i in range(NUMBER_OF_DAYS): # iterate every day\n",
    "                meter_id = meter['MeterID'].max()\n",
    "                meter_day = day_list['Day'][i*48]\n",
    "\n",
    "                if i == 0:\n",
    "                    meter_numpy = meter['Electricity'].to_numpy()[44:48]\n",
    "                    meter_numpy = np.append(meter_numpy, meter['Electricity'].to_numpy()[i*48:(i+1)*48-4])\n",
    "                else:\n",
    "                    meter_numpy = meter['Electricity'].to_numpy()[i*48-4:(i+1)*48-4]\n",
    "\n",
    "                overnight = np.mean(meter_numpy[0:17])\n",
    "                breakfast = np.mean(meter_numpy[17:21])\n",
    "                daytime = np.mean(meter_numpy[21:35])\n",
    "                evening = np.mean(meter_numpy[35:48])\n",
    "                se = {'MeterID': meter_id, 'Day': meter_day,'FDI': True, 'overnight': overnight, 'breakfast': breakfast, 'daytime': daytime, 'evening': evening}\n",
    "                four_time_list.append(se)\n",
    "        \n",
    "        for meter in area['normal']: # iterate every fdi meter in area \n",
    "            for i in range(NUMBER_OF_DAYS): # iterate every day\n",
    "                meter_id = meter['MeterID'].max()\n",
    "                meter_day = day_list['Day'][i*48]\n",
    "\n",
    "                if i == 0:\n",
    "                    meter_numpy = meter['Electricity'].to_numpy()[44:48]\n",
    "                    meter_numpy = np.append(meter_numpy, meter['Electricity'].to_numpy()[i*48:(i+1)*48-4])\n",
    "                else:\n",
    "                    meter_numpy = meter['Electricity'].to_numpy()[i*48-4:(i+1)*48-4]\n",
    "\n",
    "                overnight = np.mean(meter_numpy[0:17])\n",
    "                breakfast = np.mean(meter_numpy[17:21])\n",
    "                daytime = np.mean(meter_numpy[21:35])\n",
    "                evening = np.mean(meter_numpy[35:48])\n",
    "\n",
    "                se = {'MeterID': meter_id, 'Day': meter_day,'FDI': False, 'overnight': overnight, 'breakfast': breakfast, 'daytime': daytime, 'evening': evening}\n",
    "                four_time_list.append(se)\n",
    "        return four_time_list"
   ]
  }
 ],
 "metadata": {
  "environment": {
   "name": "common-cpu.m65",
   "type": "gcloud",
   "uri": "gcr.io/deeplearning-platform-release/base-cpu:m65"
  },
  "kernelspec": {
   "display_name": "Python 3",
   "language": "python",
   "name": "python3"
  },
  "language_info": {
   "codemirror_mode": {
    "name": "ipython",
    "version": 3
   },
   "file_extension": ".py",
   "mimetype": "text/x-python",
   "name": "python",
   "nbconvert_exporter": "python",
   "pygments_lexer": "ipython3",
   "version": "3.7.10"
  }
 },
 "nbformat": 4,
 "nbformat_minor": 5
}
