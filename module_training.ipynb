{
 "cells": [
  {
   "cell_type": "code",
   "execution_count": null,
   "id": "152bc3d6",
   "metadata": {
    "Collapsed": "false"
   },
   "outputs": [],
   "source": [
    "%run requirements.ipynb\n",
    "%run config.ipynb"
   ]
  },
  {
   "cell_type": "code",
   "execution_count": null,
   "id": "85a95c65",
   "metadata": {
    "Collapsed": "false"
   },
   "outputs": [],
   "source": [
    "def concat_two_df_and_drop_same_column_in_df2(DF1, DF2):\n",
    "    display(DF1.head(1))\n",
    "    display(DF2.head(1))\n",
    "    DF2.drop(DF2.columns[DF2.columns.isin(DF1.columns)],axis=1,inplace=True)\n",
    "#     DF1.drop(DF1.columns[DF1.columns.isin(DF2.columns)],axis=1,inplace=True)\n",
    "    result = pd.concat([DF1, DF2], axis=1)\n",
    "    display(result.head(1))\n",
    "    return result\n",
    "\n",
    "def count_list_val(arr):\n",
    "    values, counts = np.unique(arr, return_counts=True)\n",
    "    print(values, counts)\n",
    "    \n",
    "    \n",
    "\"\"\"\n",
    "start_time = timer(None)\n",
    "timer(start_time)\n",
    "\"\"\"\n",
    "def timer(start_time=None):\n",
    "    if not start_time:\n",
    "        start_time = datetime.datetime.now()\n",
    "        return start_time\n",
    "    elif start_time:\n",
    "        thour, temp_sec = divmod((datetime.datetime.now() - start_time).total_seconds(), 3600)\n",
    "        tmin, tsec = divmod(temp_sec, 60)\n",
    "        print('\\n Time taken: %i hours %i minutes and %s seconds.' % (thour, tmin, round(tsec, 2)))"
   ]
  },
  {
   "cell_type": "code",
   "execution_count": null,
   "id": "219bd7e3",
   "metadata": {
    "Collapsed": "false"
   },
   "outputs": [],
   "source": [
    "def train_single_model(model, df, x_col, y_col, score = False, split_num = 3, return_model=False ):\n",
    "    \n",
    "    X = df[x_col]\n",
    "    Y = df[y_col]\n",
    "\n",
    "#     partition = 422*7*530\n",
    "#     evaluation = 422*3*530\n",
    "#     total = 2239250\n",
    "\n",
    "    round = 1\n",
    "    average_score = {}\n",
    "    average_score[\"precision_score\"] = 0\n",
    "    average_score[\"recall_score\"] = 0\n",
    "    average_score[\"accuracy_score\"] = 0\n",
    "    average_score[\"roc_auc_score\"] = 0\n",
    "    average_score[\"f1_score\"] = 0\n",
    "\n",
    "\n",
    "    sss = StratifiedShuffleSplit(n_splits=split_num, test_size=0.3, random_state=1)\n",
    "    for train_index, test_index in sss.split(X, Y):\n",
    "#         test_index = np.concatenate((np.array(test_index), np.array(X[total-(partition+evaluation): total].index)))\n",
    "        X_train, X_test = X.iloc[train_index], X.iloc[test_index]\n",
    "        Y_train, Y_test = np.array(Y.iloc[train_index]).reshape(-1) , np.array(Y.iloc[test_index]).reshape(-1)\n",
    "        start_time = timer(None)\n",
    "        model.fit(X_train, Y_train)\n",
    "        timer(start_time)\n",
    "        y_hat = model.predict(X_test)\n",
    "        average_score[\"precision_score\"] += precision_score(Y_test, y_hat)\n",
    "        average_score[\"recall_score\"] += recall_score(Y_test, y_hat)\n",
    "        average_score[\"accuracy_score\"] += accuracy_score(Y_test, y_hat)\n",
    "        average_score[\"roc_auc_score\"] += roc_auc_score(Y_test, y_hat)\n",
    "        average_score[\"f1_score\"] += f1_score(Y_test, y_hat)\n",
    "\n",
    "        if score:\n",
    "            print(\"round: \" + str(round))\n",
    "            print(\"accuracy_score: \" + str(accuracy_score(Y_test, y_hat)))\n",
    "            print(\"precision score: \" + str(precision_score(Y_test, y_hat)))\n",
    "            print(\"recall_score: \" + str(recall_score(Y_test, y_hat)))\n",
    "            print(\"roc_auc_score: \" + str(roc_auc_score(Y_test, y_hat)))\n",
    "            print(\"f1_score: \" + str(f1_score(Y_test, y_hat)))\n",
    "            print()\n",
    "\n",
    "        round += 1\n",
    "    for key, score in average_score.items():\n",
    "        average_score[key] = score / split_num\n",
    "        print(\"average_\" + key + \": \" + str(average_score[key]))\n",
    "    if return_model==True:\n",
    "        return model, average_score\n",
    "    return average_score"
   ]
  },
  {
   "cell_type": "code",
   "execution_count": null,
   "id": "2a5832f8",
   "metadata": {
    "Collapsed": "false"
   },
   "outputs": [],
   "source": [
    "def save_importance(importance, title, size=(10,10)):\n",
    "    y_label = list(importance.keys())\n",
    "    y_pos = np.arange(len(importance))\n",
    "    \n",
    "    \n",
    "    plt.rcdefaults()\n",
    "#     fig, ax = plt.subplots()\n",
    "    plt.figure(dpi=150, figsize=size)\n",
    "    plt.barh(y_pos, list(importance.values()), align='center')\n",
    "\n",
    "#     ax.set_yticks(y_pos)\n",
    "#     ax.set_yticklabels(y_label)\n",
    "    plt.yticks(y_pos, y_label)\n",
    "    plt.xlabel('Importance Mean')\n",
    "#     ax.set_xlabel('Importance Mean')\n",
    "#     ax.set_title('Permutation importance')\n",
    "    plt.title('Permutation importance')\n",
    "\n",
    "    save_fig('Permutation importance: '+ title)\n",
    "def cal_importance_dict():\n",
    "    importance_dict = {r}\n",
    "    for index, key in zip(range(len(col)), col):\n",
    "        print(f'{key}: ', r.importances[index], r.importances_mean[index])\n",
    "        importance_dict[key] = r.importances_mean[index]\n",
    "    return importance_dict"
   ]
  }
 ],
 "metadata": {
  "environment": {
   "name": "common-cpu.m71",
   "type": "gcloud",
   "uri": "gcr.io/deeplearning-platform-release/base-cpu:m71"
  },
  "kernelspec": {
   "display_name": "Python 3",
   "language": "python",
   "name": "python3"
  },
  "language_info": {
   "codemirror_mode": {
    "name": "ipython",
    "version": 3
   },
   "file_extension": ".py",
   "mimetype": "text/x-python",
   "name": "python",
   "nbconvert_exporter": "python",
   "pygments_lexer": "ipython3",
   "version": "3.7.10"
  },
  "widgets": {
   "application/vnd.jupyter.widget-state+json": {
    "state": {},
    "version_major": 2,
    "version_minor": 0
   }
  }
 },
 "nbformat": 4,
 "nbformat_minor": 5
}
