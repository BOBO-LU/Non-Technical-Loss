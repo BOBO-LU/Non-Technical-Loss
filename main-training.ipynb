{
 "cells": [
  {
   "cell_type": "code",
   "execution_count": 2,
   "id": "442200d1",
   "metadata": {
    "heading_collapsed": "false"
   },
   "outputs": [],
   "source": [
    "import import_ipynb"
   ]
  },
  {
   "cell_type": "code",
   "execution_count": 176,
   "id": "209decc9",
   "metadata": {},
   "outputs": [],
   "source": [
    "%run requirements.ipynb\n",
    "%run config.ipynb\n",
    "%run module_preprocess.ipynb\n",
    "%run module_feature_extraction.ipynb\n",
    "%run module_training.ipynb"
   ]
  },
  {
   "cell_type": "code",
   "execution_count": 89,
   "id": "1f842de6",
   "metadata": {
    "heading_collapsed": "false"
   },
   "outputs": [
    {
     "name": "stdout",
     "output_type": "stream",
     "text": [
      "(2239250, 7) (2239250, 9) (2239250, 4) (2239250, 2) (2239250, 2)\n"
     ]
    }
   ],
   "source": [
    "four_time = pd.read_csv(\"CSV/four_time.csv\")\n",
    "v_value = pd.read_csv(\"CSV/v_value.csv\")\n",
    "mic = pd.read_csv(\"CSV/mic.csv\")\n",
    "dwt_distance_48 = pd.read_csv(\"CSV/tsc_dtw_sdtw_10_48.csv\", names=['meter_dtw_48', 'meter_sdtw_48'], header=0)\n",
    "dwt_distance_530 = pd.read_csv(\"CSV/tsc_dtw_sdtw_10_530_48.csv\", names=['meter_dtw_530', 'meter_sdtw_530'], header=0)\n",
    "# smart_meter = pd.read_csv(\"CSV/smart_meter.csv\")\n",
    "# fdi = pd.read_csv(\"CSV/FDI.csv\")\n",
    "print(four_time.shape, v_value.shape, mic.shape, dwt_distance_48.shape, dwt_distance_530.shape)"
   ]
  },
  {
   "cell_type": "code",
   "execution_count": 70,
   "id": "50539a37",
   "metadata": {},
   "outputs": [
    {
     "data": {
      "text/plain": [
       "(Index(['meter_dtw_48', 'meter_sdtw_48'], dtype='object'),\n",
       " Index(['meter_dtw_530', 'meter_sdtw_530'], dtype='object'))"
      ]
     },
     "execution_count": 70,
     "metadata": {},
     "output_type": "execute_result"
    }
   ],
   "source": [
    "dwt_distance_48.columns, dwt_distance_530.columns"
   ]
  },
  {
   "cell_type": "code",
   "execution_count": 73,
   "id": "36e80d60",
   "metadata": {},
   "outputs": [
    {
     "data": {
      "text/plain": [
       "(   meter_dtw_48  meter_sdtw_48\n",
       " 0      2.524154     -68.984877\n",
       " 1      1.896432     -71.081359\n",
       " 2      1.963119     -71.260790\n",
       " 3      2.880804     -64.383998\n",
       " 4      2.117505     -69.355208,\n",
       " meter_dtw_48     float64\n",
       " meter_sdtw_48    float64\n",
       " dtype: object)"
      ]
     },
     "execution_count": 73,
     "metadata": {},
     "output_type": "execute_result"
    }
   ],
   "source": [
    "dwt_distance_48.head(), dwt_distance_48.dtypes"
   ]
  },
  {
   "cell_type": "markdown",
   "id": "679c2d13",
   "metadata": {},
   "source": [
    "## prepare data"
   ]
  },
  {
   "cell_type": "code",
   "execution_count": 74,
   "id": "3951f6b0",
   "metadata": {
    "collapsed": true,
    "heading_collapsed": "false",
    "jupyter": {
     "outputs_hidden": true
    }
   },
   "outputs": [
    {
     "data": {
      "text/html": [
       "<div>\n",
       "<style scoped>\n",
       "    .dataframe tbody tr th:only-of-type {\n",
       "        vertical-align: middle;\n",
       "    }\n",
       "\n",
       "    .dataframe tbody tr th {\n",
       "        vertical-align: top;\n",
       "    }\n",
       "\n",
       "    .dataframe thead th {\n",
       "        text-align: right;\n",
       "    }\n",
       "</style>\n",
       "<table border=\"1\" class=\"dataframe\">\n",
       "  <thead>\n",
       "    <tr style=\"text-align: right;\">\n",
       "      <th></th>\n",
       "      <th>MeterID</th>\n",
       "      <th>Day</th>\n",
       "      <th>FDI</th>\n",
       "      <th>overnight</th>\n",
       "      <th>breakfast</th>\n",
       "      <th>daytime</th>\n",
       "      <th>evening</th>\n",
       "    </tr>\n",
       "  </thead>\n",
       "  <tbody>\n",
       "    <tr>\n",
       "      <th>0</th>\n",
       "      <td>1236</td>\n",
       "      <td>2009-07-15</td>\n",
       "      <td>True</td>\n",
       "      <td>0.12852</td>\n",
       "      <td>0.0678</td>\n",
       "      <td>0.120048</td>\n",
       "      <td>0.119347</td>\n",
       "    </tr>\n",
       "  </tbody>\n",
       "</table>\n",
       "</div>"
      ],
      "text/plain": [
       "   MeterID         Day   FDI  overnight  breakfast   daytime   evening\n",
       "0     1236  2009-07-15  True    0.12852     0.0678  0.120048  0.119347"
      ]
     },
     "metadata": {},
     "output_type": "display_data"
    },
    {
     "data": {
      "text/html": [
       "<div>\n",
       "<style scoped>\n",
       "    .dataframe tbody tr th:only-of-type {\n",
       "        vertical-align: middle;\n",
       "    }\n",
       "\n",
       "    .dataframe tbody tr th {\n",
       "        vertical-align: top;\n",
       "    }\n",
       "\n",
       "    .dataframe thead th {\n",
       "        text-align: right;\n",
       "    }\n",
       "</style>\n",
       "<table border=\"1\" class=\"dataframe\">\n",
       "  <thead>\n",
       "    <tr style=\"text-align: right;\">\n",
       "      <th></th>\n",
       "      <th>MeterID</th>\n",
       "      <th>Day</th>\n",
       "      <th>FDI</th>\n",
       "      <th>Tmax1</th>\n",
       "      <th>Tmax2</th>\n",
       "      <th>Tmin1</th>\n",
       "      <th>Cmax1</th>\n",
       "      <th>Cmax2</th>\n",
       "      <th>Cmin1</th>\n",
       "    </tr>\n",
       "  </thead>\n",
       "  <tbody>\n",
       "    <tr>\n",
       "      <th>0</th>\n",
       "      <td>1236</td>\n",
       "      <td>2009-07-15</td>\n",
       "      <td>True</td>\n",
       "      <td>12</td>\n",
       "      <td>30</td>\n",
       "      <td>15</td>\n",
       "      <td>0.205161</td>\n",
       "      <td>0.209875</td>\n",
       "      <td>0.059876</td>\n",
       "    </tr>\n",
       "  </tbody>\n",
       "</table>\n",
       "</div>"
      ],
      "text/plain": [
       "   MeterID         Day   FDI  Tmax1  Tmax2  Tmin1     Cmax1     Cmax2     Cmin1\n",
       "0     1236  2009-07-15  True     12     30     15  0.205161  0.209875  0.059876"
      ]
     },
     "metadata": {},
     "output_type": "display_data"
    },
    {
     "data": {
      "text/html": [
       "<div>\n",
       "<style scoped>\n",
       "    .dataframe tbody tr th:only-of-type {\n",
       "        vertical-align: middle;\n",
       "    }\n",
       "\n",
       "    .dataframe tbody tr th {\n",
       "        vertical-align: top;\n",
       "    }\n",
       "\n",
       "    .dataframe thead th {\n",
       "        text-align: right;\n",
       "    }\n",
       "</style>\n",
       "<table border=\"1\" class=\"dataframe\">\n",
       "  <thead>\n",
       "    <tr style=\"text-align: right;\">\n",
       "      <th></th>\n",
       "      <th>MeterID</th>\n",
       "      <th>Day</th>\n",
       "      <th>FDI</th>\n",
       "      <th>overnight</th>\n",
       "      <th>breakfast</th>\n",
       "      <th>daytime</th>\n",
       "      <th>evening</th>\n",
       "      <th>Tmax1</th>\n",
       "      <th>Tmax2</th>\n",
       "      <th>Tmin1</th>\n",
       "      <th>Cmax1</th>\n",
       "      <th>Cmax2</th>\n",
       "      <th>Cmin1</th>\n",
       "    </tr>\n",
       "  </thead>\n",
       "  <tbody>\n",
       "    <tr>\n",
       "      <th>0</th>\n",
       "      <td>1236</td>\n",
       "      <td>2009-07-15</td>\n",
       "      <td>True</td>\n",
       "      <td>0.12852</td>\n",
       "      <td>0.0678</td>\n",
       "      <td>0.120048</td>\n",
       "      <td>0.119347</td>\n",
       "      <td>12</td>\n",
       "      <td>30</td>\n",
       "      <td>15</td>\n",
       "      <td>0.205161</td>\n",
       "      <td>0.209875</td>\n",
       "      <td>0.059876</td>\n",
       "    </tr>\n",
       "  </tbody>\n",
       "</table>\n",
       "</div>"
      ],
      "text/plain": [
       "   MeterID         Day   FDI  overnight  breakfast   daytime   evening  Tmax1  Tmax2  Tmin1     Cmax1     Cmax2     Cmin1\n",
       "0     1236  2009-07-15  True    0.12852     0.0678  0.120048  0.119347     12     30     15  0.205161  0.209875  0.059876"
      ]
     },
     "metadata": {},
     "output_type": "display_data"
    },
    {
     "data": {
      "text/html": [
       "<div>\n",
       "<style scoped>\n",
       "    .dataframe tbody tr th:only-of-type {\n",
       "        vertical-align: middle;\n",
       "    }\n",
       "\n",
       "    .dataframe tbody tr th {\n",
       "        vertical-align: top;\n",
       "    }\n",
       "\n",
       "    .dataframe thead th {\n",
       "        text-align: right;\n",
       "    }\n",
       "</style>\n",
       "<table border=\"1\" class=\"dataframe\">\n",
       "  <thead>\n",
       "    <tr style=\"text-align: right;\">\n",
       "      <th></th>\n",
       "      <th>MeterID</th>\n",
       "      <th>Day</th>\n",
       "      <th>FDI</th>\n",
       "      <th>overnight</th>\n",
       "      <th>breakfast</th>\n",
       "      <th>daytime</th>\n",
       "      <th>evening</th>\n",
       "      <th>Tmax1</th>\n",
       "      <th>Tmax2</th>\n",
       "      <th>Tmin1</th>\n",
       "      <th>Cmax1</th>\n",
       "      <th>Cmax2</th>\n",
       "      <th>Cmin1</th>\n",
       "    </tr>\n",
       "  </thead>\n",
       "  <tbody>\n",
       "    <tr>\n",
       "      <th>0</th>\n",
       "      <td>1236</td>\n",
       "      <td>2009-07-15</td>\n",
       "      <td>True</td>\n",
       "      <td>0.12852</td>\n",
       "      <td>0.0678</td>\n",
       "      <td>0.120048</td>\n",
       "      <td>0.119347</td>\n",
       "      <td>12</td>\n",
       "      <td>30</td>\n",
       "      <td>15</td>\n",
       "      <td>0.205161</td>\n",
       "      <td>0.209875</td>\n",
       "      <td>0.059876</td>\n",
       "    </tr>\n",
       "  </tbody>\n",
       "</table>\n",
       "</div>"
      ],
      "text/plain": [
       "   MeterID         Day   FDI  overnight  breakfast   daytime   evening  Tmax1  Tmax2  Tmin1     Cmax1     Cmax2     Cmin1\n",
       "0     1236  2009-07-15  True    0.12852     0.0678  0.120048  0.119347     12     30     15  0.205161  0.209875  0.059876"
      ]
     },
     "metadata": {},
     "output_type": "display_data"
    },
    {
     "data": {
      "text/html": [
       "<div>\n",
       "<style scoped>\n",
       "    .dataframe tbody tr th:only-of-type {\n",
       "        vertical-align: middle;\n",
       "    }\n",
       "\n",
       "    .dataframe tbody tr th {\n",
       "        vertical-align: top;\n",
       "    }\n",
       "\n",
       "    .dataframe thead th {\n",
       "        text-align: right;\n",
       "    }\n",
       "</style>\n",
       "<table border=\"1\" class=\"dataframe\">\n",
       "  <thead>\n",
       "    <tr style=\"text-align: right;\">\n",
       "      <th></th>\n",
       "      <th>MeterID</th>\n",
       "      <th>Day</th>\n",
       "      <th>FDI</th>\n",
       "      <th>mic</th>\n",
       "    </tr>\n",
       "  </thead>\n",
       "  <tbody>\n",
       "    <tr>\n",
       "      <th>0</th>\n",
       "      <td>1236</td>\n",
       "      <td>2009-07-15</td>\n",
       "      <td>True</td>\n",
       "      <td>0.624128</td>\n",
       "    </tr>\n",
       "  </tbody>\n",
       "</table>\n",
       "</div>"
      ],
      "text/plain": [
       "   MeterID         Day   FDI       mic\n",
       "0     1236  2009-07-15  True  0.624128"
      ]
     },
     "metadata": {},
     "output_type": "display_data"
    },
    {
     "data": {
      "text/html": [
       "<div>\n",
       "<style scoped>\n",
       "    .dataframe tbody tr th:only-of-type {\n",
       "        vertical-align: middle;\n",
       "    }\n",
       "\n",
       "    .dataframe tbody tr th {\n",
       "        vertical-align: top;\n",
       "    }\n",
       "\n",
       "    .dataframe thead th {\n",
       "        text-align: right;\n",
       "    }\n",
       "</style>\n",
       "<table border=\"1\" class=\"dataframe\">\n",
       "  <thead>\n",
       "    <tr style=\"text-align: right;\">\n",
       "      <th></th>\n",
       "      <th>MeterID</th>\n",
       "      <th>Day</th>\n",
       "      <th>FDI</th>\n",
       "      <th>overnight</th>\n",
       "      <th>breakfast</th>\n",
       "      <th>daytime</th>\n",
       "      <th>evening</th>\n",
       "      <th>Tmax1</th>\n",
       "      <th>Tmax2</th>\n",
       "      <th>Tmin1</th>\n",
       "      <th>Cmax1</th>\n",
       "      <th>Cmax2</th>\n",
       "      <th>Cmin1</th>\n",
       "      <th>mic</th>\n",
       "    </tr>\n",
       "  </thead>\n",
       "  <tbody>\n",
       "    <tr>\n",
       "      <th>0</th>\n",
       "      <td>1236</td>\n",
       "      <td>2009-07-15</td>\n",
       "      <td>True</td>\n",
       "      <td>0.12852</td>\n",
       "      <td>0.0678</td>\n",
       "      <td>0.120048</td>\n",
       "      <td>0.119347</td>\n",
       "      <td>12</td>\n",
       "      <td>30</td>\n",
       "      <td>15</td>\n",
       "      <td>0.205161</td>\n",
       "      <td>0.209875</td>\n",
       "      <td>0.059876</td>\n",
       "      <td>0.624128</td>\n",
       "    </tr>\n",
       "  </tbody>\n",
       "</table>\n",
       "</div>"
      ],
      "text/plain": [
       "   MeterID         Day   FDI  overnight  breakfast   daytime   evening  Tmax1  Tmax2  Tmin1     Cmax1     Cmax2     Cmin1       mic\n",
       "0     1236  2009-07-15  True    0.12852     0.0678  0.120048  0.119347     12     30     15  0.205161  0.209875  0.059876  0.624128"
      ]
     },
     "metadata": {},
     "output_type": "display_data"
    },
    {
     "data": {
      "text/html": [
       "<div>\n",
       "<style scoped>\n",
       "    .dataframe tbody tr th:only-of-type {\n",
       "        vertical-align: middle;\n",
       "    }\n",
       "\n",
       "    .dataframe tbody tr th {\n",
       "        vertical-align: top;\n",
       "    }\n",
       "\n",
       "    .dataframe thead th {\n",
       "        text-align: right;\n",
       "    }\n",
       "</style>\n",
       "<table border=\"1\" class=\"dataframe\">\n",
       "  <thead>\n",
       "    <tr style=\"text-align: right;\">\n",
       "      <th></th>\n",
       "      <th>MeterID</th>\n",
       "      <th>Day</th>\n",
       "      <th>FDI</th>\n",
       "      <th>overnight</th>\n",
       "      <th>breakfast</th>\n",
       "      <th>daytime</th>\n",
       "      <th>evening</th>\n",
       "      <th>Tmax1</th>\n",
       "      <th>Tmax2</th>\n",
       "      <th>Tmin1</th>\n",
       "      <th>Cmax1</th>\n",
       "      <th>Cmax2</th>\n",
       "      <th>Cmin1</th>\n",
       "      <th>mic</th>\n",
       "    </tr>\n",
       "  </thead>\n",
       "  <tbody>\n",
       "    <tr>\n",
       "      <th>0</th>\n",
       "      <td>1236</td>\n",
       "      <td>2009-07-15</td>\n",
       "      <td>True</td>\n",
       "      <td>0.12852</td>\n",
       "      <td>0.0678</td>\n",
       "      <td>0.120048</td>\n",
       "      <td>0.119347</td>\n",
       "      <td>12</td>\n",
       "      <td>30</td>\n",
       "      <td>15</td>\n",
       "      <td>0.205161</td>\n",
       "      <td>0.209875</td>\n",
       "      <td>0.059876</td>\n",
       "      <td>0.624128</td>\n",
       "    </tr>\n",
       "  </tbody>\n",
       "</table>\n",
       "</div>"
      ],
      "text/plain": [
       "   MeterID         Day   FDI  overnight  breakfast   daytime   evening  Tmax1  Tmax2  Tmin1     Cmax1     Cmax2     Cmin1       mic\n",
       "0     1236  2009-07-15  True    0.12852     0.0678  0.120048  0.119347     12     30     15  0.205161  0.209875  0.059876  0.624128"
      ]
     },
     "metadata": {},
     "output_type": "display_data"
    },
    {
     "data": {
      "text/html": [
       "<div>\n",
       "<style scoped>\n",
       "    .dataframe tbody tr th:only-of-type {\n",
       "        vertical-align: middle;\n",
       "    }\n",
       "\n",
       "    .dataframe tbody tr th {\n",
       "        vertical-align: top;\n",
       "    }\n",
       "\n",
       "    .dataframe thead th {\n",
       "        text-align: right;\n",
       "    }\n",
       "</style>\n",
       "<table border=\"1\" class=\"dataframe\">\n",
       "  <thead>\n",
       "    <tr style=\"text-align: right;\">\n",
       "      <th></th>\n",
       "      <th>meter_dtw_48</th>\n",
       "      <th>meter_sdtw_48</th>\n",
       "    </tr>\n",
       "  </thead>\n",
       "  <tbody>\n",
       "    <tr>\n",
       "      <th>0</th>\n",
       "      <td>2.524154</td>\n",
       "      <td>-68.984877</td>\n",
       "    </tr>\n",
       "  </tbody>\n",
       "</table>\n",
       "</div>"
      ],
      "text/plain": [
       "   meter_dtw_48  meter_sdtw_48\n",
       "0      2.524154     -68.984877"
      ]
     },
     "metadata": {},
     "output_type": "display_data"
    },
    {
     "data": {
      "text/html": [
       "<div>\n",
       "<style scoped>\n",
       "    .dataframe tbody tr th:only-of-type {\n",
       "        vertical-align: middle;\n",
       "    }\n",
       "\n",
       "    .dataframe tbody tr th {\n",
       "        vertical-align: top;\n",
       "    }\n",
       "\n",
       "    .dataframe thead th {\n",
       "        text-align: right;\n",
       "    }\n",
       "</style>\n",
       "<table border=\"1\" class=\"dataframe\">\n",
       "  <thead>\n",
       "    <tr style=\"text-align: right;\">\n",
       "      <th></th>\n",
       "      <th>MeterID</th>\n",
       "      <th>Day</th>\n",
       "      <th>FDI</th>\n",
       "      <th>overnight</th>\n",
       "      <th>breakfast</th>\n",
       "      <th>daytime</th>\n",
       "      <th>evening</th>\n",
       "      <th>Tmax1</th>\n",
       "      <th>Tmax2</th>\n",
       "      <th>Tmin1</th>\n",
       "      <th>Cmax1</th>\n",
       "      <th>Cmax2</th>\n",
       "      <th>Cmin1</th>\n",
       "      <th>mic</th>\n",
       "      <th>meter_dtw_48</th>\n",
       "      <th>meter_sdtw_48</th>\n",
       "    </tr>\n",
       "  </thead>\n",
       "  <tbody>\n",
       "    <tr>\n",
       "      <th>0</th>\n",
       "      <td>1236</td>\n",
       "      <td>2009-07-15</td>\n",
       "      <td>True</td>\n",
       "      <td>0.12852</td>\n",
       "      <td>0.0678</td>\n",
       "      <td>0.120048</td>\n",
       "      <td>0.119347</td>\n",
       "      <td>12</td>\n",
       "      <td>30</td>\n",
       "      <td>15</td>\n",
       "      <td>0.205161</td>\n",
       "      <td>0.209875</td>\n",
       "      <td>0.059876</td>\n",
       "      <td>0.624128</td>\n",
       "      <td>2.524154</td>\n",
       "      <td>-68.984877</td>\n",
       "    </tr>\n",
       "  </tbody>\n",
       "</table>\n",
       "</div>"
      ],
      "text/plain": [
       "   MeterID         Day   FDI  overnight  breakfast   daytime   evening  Tmax1  Tmax2  Tmin1     Cmax1     Cmax2     Cmin1       mic  meter_dtw_48  meter_sdtw_48\n",
       "0     1236  2009-07-15  True    0.12852     0.0678  0.120048  0.119347     12     30     15  0.205161  0.209875  0.059876  0.624128      2.524154     -68.984877"
      ]
     },
     "metadata": {},
     "output_type": "display_data"
    },
    {
     "data": {
      "text/html": [
       "<div>\n",
       "<style scoped>\n",
       "    .dataframe tbody tr th:only-of-type {\n",
       "        vertical-align: middle;\n",
       "    }\n",
       "\n",
       "    .dataframe tbody tr th {\n",
       "        vertical-align: top;\n",
       "    }\n",
       "\n",
       "    .dataframe thead th {\n",
       "        text-align: right;\n",
       "    }\n",
       "</style>\n",
       "<table border=\"1\" class=\"dataframe\">\n",
       "  <thead>\n",
       "    <tr style=\"text-align: right;\">\n",
       "      <th></th>\n",
       "      <th>MeterID</th>\n",
       "      <th>Day</th>\n",
       "      <th>FDI</th>\n",
       "      <th>overnight</th>\n",
       "      <th>breakfast</th>\n",
       "      <th>daytime</th>\n",
       "      <th>evening</th>\n",
       "      <th>Tmax1</th>\n",
       "      <th>Tmax2</th>\n",
       "      <th>Tmin1</th>\n",
       "      <th>Cmax1</th>\n",
       "      <th>Cmax2</th>\n",
       "      <th>Cmin1</th>\n",
       "      <th>mic</th>\n",
       "      <th>meter_dtw_48</th>\n",
       "      <th>meter_sdtw_48</th>\n",
       "    </tr>\n",
       "  </thead>\n",
       "  <tbody>\n",
       "    <tr>\n",
       "      <th>0</th>\n",
       "      <td>1236</td>\n",
       "      <td>2009-07-15</td>\n",
       "      <td>True</td>\n",
       "      <td>0.12852</td>\n",
       "      <td>0.0678</td>\n",
       "      <td>0.120048</td>\n",
       "      <td>0.119347</td>\n",
       "      <td>12</td>\n",
       "      <td>30</td>\n",
       "      <td>15</td>\n",
       "      <td>0.205161</td>\n",
       "      <td>0.209875</td>\n",
       "      <td>0.059876</td>\n",
       "      <td>0.624128</td>\n",
       "      <td>2.524154</td>\n",
       "      <td>-68.984877</td>\n",
       "    </tr>\n",
       "  </tbody>\n",
       "</table>\n",
       "</div>"
      ],
      "text/plain": [
       "   MeterID         Day   FDI  overnight  breakfast   daytime   evening  Tmax1  Tmax2  Tmin1     Cmax1     Cmax2     Cmin1       mic  meter_dtw_48  meter_sdtw_48\n",
       "0     1236  2009-07-15  True    0.12852     0.0678  0.120048  0.119347     12     30     15  0.205161  0.209875  0.059876  0.624128      2.524154     -68.984877"
      ]
     },
     "metadata": {},
     "output_type": "display_data"
    },
    {
     "data": {
      "text/html": [
       "<div>\n",
       "<style scoped>\n",
       "    .dataframe tbody tr th:only-of-type {\n",
       "        vertical-align: middle;\n",
       "    }\n",
       "\n",
       "    .dataframe tbody tr th {\n",
       "        vertical-align: top;\n",
       "    }\n",
       "\n",
       "    .dataframe thead th {\n",
       "        text-align: right;\n",
       "    }\n",
       "</style>\n",
       "<table border=\"1\" class=\"dataframe\">\n",
       "  <thead>\n",
       "    <tr style=\"text-align: right;\">\n",
       "      <th></th>\n",
       "      <th>meter_dtw_530</th>\n",
       "      <th>meter_sdtw_530</th>\n",
       "    </tr>\n",
       "  </thead>\n",
       "  <tbody>\n",
       "    <tr>\n",
       "      <th>0</th>\n",
       "      <td>3.991317</td>\n",
       "      <td>-50.432597</td>\n",
       "    </tr>\n",
       "  </tbody>\n",
       "</table>\n",
       "</div>"
      ],
      "text/plain": [
       "   meter_dtw_530  meter_sdtw_530\n",
       "0       3.991317      -50.432597"
      ]
     },
     "metadata": {},
     "output_type": "display_data"
    },
    {
     "data": {
      "text/html": [
       "<div>\n",
       "<style scoped>\n",
       "    .dataframe tbody tr th:only-of-type {\n",
       "        vertical-align: middle;\n",
       "    }\n",
       "\n",
       "    .dataframe tbody tr th {\n",
       "        vertical-align: top;\n",
       "    }\n",
       "\n",
       "    .dataframe thead th {\n",
       "        text-align: right;\n",
       "    }\n",
       "</style>\n",
       "<table border=\"1\" class=\"dataframe\">\n",
       "  <thead>\n",
       "    <tr style=\"text-align: right;\">\n",
       "      <th></th>\n",
       "      <th>MeterID</th>\n",
       "      <th>Day</th>\n",
       "      <th>FDI</th>\n",
       "      <th>overnight</th>\n",
       "      <th>breakfast</th>\n",
       "      <th>daytime</th>\n",
       "      <th>evening</th>\n",
       "      <th>Tmax1</th>\n",
       "      <th>Tmax2</th>\n",
       "      <th>Tmin1</th>\n",
       "      <th>Cmax1</th>\n",
       "      <th>Cmax2</th>\n",
       "      <th>Cmin1</th>\n",
       "      <th>mic</th>\n",
       "      <th>meter_dtw_48</th>\n",
       "      <th>meter_sdtw_48</th>\n",
       "      <th>meter_dtw_530</th>\n",
       "      <th>meter_sdtw_530</th>\n",
       "    </tr>\n",
       "  </thead>\n",
       "  <tbody>\n",
       "    <tr>\n",
       "      <th>0</th>\n",
       "      <td>1236</td>\n",
       "      <td>2009-07-15</td>\n",
       "      <td>True</td>\n",
       "      <td>0.12852</td>\n",
       "      <td>0.0678</td>\n",
       "      <td>0.120048</td>\n",
       "      <td>0.119347</td>\n",
       "      <td>12</td>\n",
       "      <td>30</td>\n",
       "      <td>15</td>\n",
       "      <td>0.205161</td>\n",
       "      <td>0.209875</td>\n",
       "      <td>0.059876</td>\n",
       "      <td>0.624128</td>\n",
       "      <td>2.524154</td>\n",
       "      <td>-68.984877</td>\n",
       "      <td>3.991317</td>\n",
       "      <td>-50.432597</td>\n",
       "    </tr>\n",
       "  </tbody>\n",
       "</table>\n",
       "</div>"
      ],
      "text/plain": [
       "   MeterID         Day   FDI  overnight  breakfast   daytime   evening  Tmax1  Tmax2  Tmin1     Cmax1     Cmax2     Cmin1       mic  meter_dtw_48  meter_sdtw_48  meter_dtw_530  meter_sdtw_530\n",
       "0     1236  2009-07-15  True    0.12852     0.0678  0.120048  0.119347     12     30     15  0.205161  0.209875  0.059876  0.624128      2.524154     -68.984877       3.991317      -50.432597"
      ]
     },
     "metadata": {},
     "output_type": "display_data"
    }
   ],
   "source": [
    "training_data = concat_two_df_and_drop_same_column_in_df2(four_time, v_value)\n",
    "training_data = concat_two_df_and_drop_same_column_in_df2(training_data, mic)\n",
    "training_data = concat_two_df_and_drop_same_column_in_df2(training_data, dwt_distance_48)\n",
    "training_data = concat_two_df_and_drop_same_column_in_df2(training_data, dwt_distance_530)"
   ]
  },
  {
   "cell_type": "code",
   "execution_count": 18,
   "id": "912d6dba",
   "metadata": {},
   "outputs": [
    {
     "data": {
      "text/html": [
       "<div>\n",
       "<style scoped>\n",
       "    .dataframe tbody tr th:only-of-type {\n",
       "        vertical-align: middle;\n",
       "    }\n",
       "\n",
       "    .dataframe tbody tr th {\n",
       "        vertical-align: top;\n",
       "    }\n",
       "\n",
       "    .dataframe thead th {\n",
       "        text-align: right;\n",
       "    }\n",
       "</style>\n",
       "<table border=\"1\" class=\"dataframe\">\n",
       "  <thead>\n",
       "    <tr style=\"text-align: right;\">\n",
       "      <th></th>\n",
       "      <th>MeterID</th>\n",
       "      <th>Day</th>\n",
       "      <th>FDI</th>\n",
       "      <th>overnight</th>\n",
       "      <th>breakfast</th>\n",
       "      <th>daytime</th>\n",
       "      <th>evening</th>\n",
       "      <th>Tmax1</th>\n",
       "      <th>Tmax2</th>\n",
       "      <th>Tmin1</th>\n",
       "      <th>Cmax1</th>\n",
       "      <th>Cmax2</th>\n",
       "      <th>Cmin1</th>\n",
       "      <th>mic</th>\n",
       "      <th>meter_dtw</th>\n",
       "      <th>meter_sdtw</th>\n",
       "    </tr>\n",
       "  </thead>\n",
       "  <tbody>\n",
       "    <tr>\n",
       "      <th>0</th>\n",
       "      <td>1236</td>\n",
       "      <td>2009-07-15</td>\n",
       "      <td>True</td>\n",
       "      <td>0.128520</td>\n",
       "      <td>0.06780</td>\n",
       "      <td>0.120048</td>\n",
       "      <td>0.119347</td>\n",
       "      <td>12</td>\n",
       "      <td>30</td>\n",
       "      <td>15</td>\n",
       "      <td>0.205161</td>\n",
       "      <td>0.209875</td>\n",
       "      <td>0.059876</td>\n",
       "      <td>0.624128</td>\n",
       "      <td>2.524154</td>\n",
       "      <td>-68.984877</td>\n",
       "    </tr>\n",
       "    <tr>\n",
       "      <th>1</th>\n",
       "      <td>1236</td>\n",
       "      <td>2009-07-16</td>\n",
       "      <td>True</td>\n",
       "      <td>0.084015</td>\n",
       "      <td>0.23875</td>\n",
       "      <td>0.201571</td>\n",
       "      <td>0.196692</td>\n",
       "      <td>20</td>\n",
       "      <td>34</td>\n",
       "      <td>24</td>\n",
       "      <td>0.656000</td>\n",
       "      <td>0.706000</td>\n",
       "      <td>0.012000</td>\n",
       "      <td>0.000000</td>\n",
       "      <td>1.896432</td>\n",
       "      <td>-71.081359</td>\n",
       "    </tr>\n",
       "    <tr>\n",
       "      <th>2</th>\n",
       "      <td>1236</td>\n",
       "      <td>2009-07-17</td>\n",
       "      <td>True</td>\n",
       "      <td>0.135647</td>\n",
       "      <td>0.17500</td>\n",
       "      <td>0.231000</td>\n",
       "      <td>0.408409</td>\n",
       "      <td>18</td>\n",
       "      <td>35</td>\n",
       "      <td>24</td>\n",
       "      <td>0.925000</td>\n",
       "      <td>1.387000</td>\n",
       "      <td>0.020000</td>\n",
       "      <td>0.000000</td>\n",
       "      <td>1.963119</td>\n",
       "      <td>-71.260790</td>\n",
       "    </tr>\n",
       "  </tbody>\n",
       "</table>\n",
       "</div>"
      ],
      "text/plain": [
       "   MeterID         Day   FDI  overnight  breakfast   daytime   evening  Tmax1  Tmax2  Tmin1     Cmax1     Cmax2     Cmin1       mic  meter_dtw  meter_sdtw\n",
       "0     1236  2009-07-15  True   0.128520    0.06780  0.120048  0.119347     12     30     15  0.205161  0.209875  0.059876  0.624128   2.524154  -68.984877\n",
       "1     1236  2009-07-16  True   0.084015    0.23875  0.201571  0.196692     20     34     24  0.656000  0.706000  0.012000  0.000000   1.896432  -71.081359\n",
       "2     1236  2009-07-17  True   0.135647    0.17500  0.231000  0.408409     18     35     24  0.925000  1.387000  0.020000  0.000000   1.963119  -71.260790"
      ]
     },
     "execution_count": 18,
     "metadata": {},
     "output_type": "execute_result"
    }
   ],
   "source": [
    "training_data.head(3)"
   ]
  },
  {
   "cell_type": "markdown",
   "id": "52263934",
   "metadata": {},
   "source": [
    "## classifier"
   ]
  },
  {
   "cell_type": "code",
   "execution_count": 174,
   "id": "a1f3c0de",
   "metadata": {},
   "outputs": [],
   "source": [
    "xgboost = XGBClassifier(scale_pos_weight=1, use_label_encoder=False, n_jobs=6, verbosity=0)\n",
    "adaboost = AdaBoostClassifier()\n",
    "lineSVM = LinearSVC(max_iter=1000000, C=50) # kernel = rbf\n",
    "randforest = RandomForestClassifier(n_jobs=6)\n",
    "complementNB = ComplementNB()\n",
    "DT = DecisionTreeClassifier()\n",
    "kNN = KNeighborsClassifier(n_jobs=6)"
   ]
  },
  {
   "cell_type": "markdown",
   "id": "dd4fd292",
   "metadata": {},
   "source": [
    "## sample training"
   ]
  },
  {
   "cell_type": "code",
   "execution_count": 122,
   "id": "cfc7a35e",
   "metadata": {},
   "outputs": [],
   "source": [
    "x_col = ['overnight', 'breakfast', 'daytime', 'evening', 'Tmax1', 'Tmax2', 'Tmin1', 'Cmax1', 'Cmax2', 'Cmin1', 'mic', 'meter_dtw_48', 'meter_sdtw_48', 'meter_dtw_530', 'meter_sdtw_530']\n",
    "y_col = ['FDI']\n",
    "training_sample = training_data.iloc[:422*3*530]"
   ]
  },
  {
   "cell_type": "markdown",
   "id": "72a00e85",
   "metadata": {},
   "source": [
    "#### xgboos whole"
   ]
  },
  {
   "cell_type": "code",
   "execution_count": 80,
   "id": "176c38c9",
   "metadata": {},
   "outputs": [
    {
     "name": "stdout",
     "output_type": "stream",
     "text": [
      "\n",
      " Time taken: 0 hours 2 minutes and 10.26 seconds.\n",
      "average_precision_score: 0.9576343717904827\n",
      "average_recall_score: 0.25132524707996406\n",
      "average_accuracy_score: 0.92438075650541\n",
      "average_roc_auc_score: 0.6250481746819879\n",
      "average_f1_score: 0.39815671482456766\n"
     ]
    }
   ],
   "source": [
    "model, score = train_single_model(xgboost, training_data, x_col, y_col, split_num = 1, return_model=True)"
   ]
  },
  {
   "cell_type": "markdown",
   "id": "bd504b6e",
   "metadata": {},
   "source": [
    "#### xgboost no 48"
   ]
  },
  {
   "cell_type": "code",
   "execution_count": 81,
   "id": "1f134d77",
   "metadata": {},
   "outputs": [
    {
     "name": "stdout",
     "output_type": "stream",
     "text": [
      "\n",
      " Time taken: 0 hours 1 minutes and 37.97 seconds.\n",
      "\n",
      " Time taken: 0 hours 1 minutes and 39.39 seconds.\n",
      "\n",
      " Time taken: 0 hours 1 minutes and 43.58 seconds.\n",
      "average_precision_score: 0.95528232067998\n",
      "average_recall_score: 0.2450658879904163\n",
      "average_accuracy_score: 0.9237235088974337\n",
      "average_roc_auc_score: 0.6218994617045759\n",
      "average_f1_score: 0.3900421986186518\n"
     ]
    }
   ],
   "source": [
    "x_col = ['overnight', 'breakfast', 'daytime', 'evening', 'Tmax1', 'Tmax2', 'Tmin1', 'Cmax1', 'Cmax2', 'Cmin1', 'mic', 'meter_dtw_530', 'meter_sdtw_530']\n",
    "model, score = train_single_model(xgboost, training_data, x_col, y_col, split_num = 3, return_model=True)"
   ]
  },
  {
   "cell_type": "markdown",
   "id": "1ff5567f",
   "metadata": {},
   "source": [
    "#### xgboost no 530"
   ]
  },
  {
   "cell_type": "code",
   "execution_count": 83,
   "id": "247ca976",
   "metadata": {},
   "outputs": [
    {
     "name": "stdout",
     "output_type": "stream",
     "text": [
      "\n",
      " Time taken: 0 hours 1 minutes and 42.7 seconds.\n",
      "\n",
      " Time taken: 0 hours 1 minutes and 42.07 seconds.\n",
      "\n",
      " Time taken: 0 hours 1 minutes and 44.55 seconds.\n",
      "average_precision_score: 0.9561944793054696\n",
      "average_recall_score: 0.24276729559748425\n",
      "average_accuracy_score: 0.9235290172583386\n",
      "average_roc_auc_score: 0.6207691989407481\n",
      "average_f1_score: 0.3872219081312886\n"
     ]
    }
   ],
   "source": [
    "x_col = ['overnight', 'breakfast', 'daytime', 'evening', 'Tmax1', 'Tmax2', 'Tmin1', 'Cmax1', 'Cmax2', 'Cmin1', 'mic', 'meter_dtw_48', 'meter_sdtw_48']\n",
    "model, score = train_single_model(xgboost, training_data, x_col, y_col, split_num = 3, return_model=True)"
   ]
  },
  {
   "cell_type": "markdown",
   "id": "ce113f7e",
   "metadata": {},
   "source": [
    "#### xgboost whole weight=10"
   ]
  },
  {
   "cell_type": "code",
   "execution_count": 84,
   "id": "b405edfe",
   "metadata": {},
   "outputs": [
    {
     "name": "stdout",
     "output_type": "stream",
     "text": [
      "\n",
      " Time taken: 0 hours 1 minutes and 59.43 seconds.\n",
      "\n",
      " Time taken: 0 hours 1 minutes and 56.29 seconds.\n",
      "\n",
      " Time taken: 0 hours 2 minutes and 1.51 seconds.\n",
      "average_precision_score: 0.19155439658425402\n",
      "average_recall_score: 0.6483453129679545\n",
      "average_accuracy_score: 0.692659244686876\n",
      "average_roc_auc_score: 0.6729512066329345\n",
      "average_f1_score: 0.2957307508124474\n"
     ]
    }
   ],
   "source": [
    "x_col = ['overnight', 'breakfast', 'daytime', 'evening', 'Tmax1', 'Tmax2', 'Tmin1', 'Cmax1', 'Cmax2', 'Cmin1', 'mic', 'meter_dtw_48', 'meter_sdtw_48', 'meter_dtw_530', 'meter_sdtw_530']\n",
    "xgboost = XGBClassifier(scale_pos_weight=10, use_label_encoder=False, n_jobs=-1, verbosity=0)\n",
    "model, score = train_single_model(xgboost, training_data, x_col, y_col, split_num = 3, return_model=True)"
   ]
  },
  {
   "cell_type": "markdown",
   "id": "450bc85d",
   "metadata": {},
   "source": [
    "#### four_time"
   ]
  },
  {
   "cell_type": "code",
   "execution_count": 124,
   "id": "757997f5",
   "metadata": {},
   "outputs": [
    {
     "name": "stdout",
     "output_type": "stream",
     "text": [
      "\n",
      " Time taken: 0 hours 2 minutes and 37.31 seconds.\n",
      "average_precision_score: 0.9196428571428571\n",
      "average_recall_score: 0.08560197663971249\n",
      "average_accuracy_score: 0.9082491281409282\n",
      "average_roc_auc_score: 0.5423876318153875\n",
      "average_f1_score: 0.15662502054907115\n"
     ]
    }
   ],
   "source": [
    "x_col = ['overnight', 'breakfast', 'daytime', 'evening']\n",
    "model, score = train_single_model(xgboost, training_data, x_col, y_col, split_num = 1, return_model=True)"
   ]
  },
  {
   "cell_type": "markdown",
   "id": "5045ac68",
   "metadata": {},
   "source": [
    "#### v_value"
   ]
  },
  {
   "cell_type": "code",
   "execution_count": 125,
   "id": "f82a94ba",
   "metadata": {},
   "outputs": [
    {
     "name": "stdout",
     "output_type": "stream",
     "text": [
      "\n",
      " Time taken: 0 hours 3 minutes and 10.45 seconds.\n",
      "average_precision_score: 0.9199613424705676\n",
      "average_recall_score: 0.2351976639712489\n",
      "average_accuracy_score: 0.9218456585889296\n",
      "average_roc_auc_score: 0.6164679978247506\n",
      "average_f1_score: 0.3746198704876391\n"
     ]
    }
   ],
   "source": [
    "x_col = [ 'Tmax1', 'Tmax2', 'Tmin1', 'Cmax1', 'Cmax2', 'Cmin1']\n",
    "model, score = train_single_model(xgboost, training_data, x_col, y_col, split_num = 1, return_model=True)"
   ]
  },
  {
   "cell_type": "markdown",
   "id": "c0559910",
   "metadata": {},
   "source": [
    "#### mic"
   ]
  },
  {
   "cell_type": "code",
   "execution_count": 126,
   "id": "5b71ec44",
   "metadata": {},
   "outputs": [
    {
     "name": "stdout",
     "output_type": "stream",
     "text": [
      "\n",
      " Time taken: 0 hours 1 minutes and 3.49 seconds.\n",
      "average_precision_score: 0.9907002958996759\n",
      "average_recall_score: 0.15792902066486972\n",
      "average_accuracy_score: 0.9160444424573012\n",
      "average_roc_auc_score: 0.5788825838180357\n",
      "average_f1_score: 0.2724296258984443\n"
     ]
    }
   ],
   "source": [
    "x_col = ['mic']\n",
    "model, score = train_single_model(xgboost, training_data, x_col, y_col, split_num = 1, return_model=True)"
   ]
  },
  {
   "cell_type": "markdown",
   "id": "fa4fd051",
   "metadata": {},
   "source": [
    "#### tsc_48"
   ]
  },
  {
   "cell_type": "code",
   "execution_count": 127,
   "id": "19623580",
   "metadata": {},
   "outputs": [
    {
     "name": "stdout",
     "output_type": "stream",
     "text": [
      "\n",
      " Time taken: 0 hours 2 minutes and 39.95 seconds.\n",
      "average_precision_score: 0.6399317406143344\n",
      "average_recall_score: 0.008423180592991913\n",
      "average_accuracy_score: 0.9008405615666637\n",
      "average_roc_auc_score: 0.5039496737125834\n",
      "average_f1_score: 0.016627499667450005\n"
     ]
    }
   ],
   "source": [
    "x_col = ['meter_dtw_48', 'meter_sdtw_48']\n",
    "model, score = train_single_model(xgboost, training_data, x_col, y_col, split_num = 1, return_model=True)"
   ]
  },
  {
   "cell_type": "markdown",
   "id": "c03ade5d",
   "metadata": {},
   "source": [
    "#### tsc_530"
   ]
  },
  {
   "cell_type": "code",
   "execution_count": 128,
   "id": "63f035d5",
   "metadata": {},
   "outputs": [
    {
     "name": "stdout",
     "output_type": "stream",
     "text": [
      "\n",
      " Time taken: 0 hours 2 minutes and 34.99 seconds.\n"
     ]
    },
    {
     "name": "stderr",
     "output_type": "stream",
     "text": [
      "/opt/conda/lib/python3.7/site-packages/sklearn/metrics/_classification.py:1248: UndefinedMetricWarning: Precision is ill-defined and being set to 0.0 due to no predicted samples. Use `zero_division` parameter to control this behavior.\n",
      "  _warn_prf(average, modifier, msg_start, len(result))\n"
     ]
    },
    {
     "name": "stdout",
     "output_type": "stream",
     "text": [
      "average_precision_score: 0.0\n",
      "average_recall_score: 0.0\n",
      "average_accuracy_score: 0.9004739336492891\n",
      "average_roc_auc_score: 0.5\n",
      "average_f1_score: 0.0\n"
     ]
    }
   ],
   "source": [
    "x_col = ['meter_dtw_530', 'meter_sdtw_530']\n",
    "model, score = train_single_model(xgboost, training_data, x_col, y_col, split_num = 1, return_model=True)"
   ]
  },
  {
   "cell_type": "markdown",
   "id": "c335e43f",
   "metadata": {},
   "source": [
    "#### tsc 48 & 530"
   ]
  },
  {
   "cell_type": "code",
   "execution_count": 177,
   "id": "184f18c4",
   "metadata": {},
   "outputs": [
    {
     "name": "stdout",
     "output_type": "stream",
     "text": [
      "\n",
      " Time taken: 0 hours 1 minutes and 3.61 seconds.\n",
      "average_precision_score: 0.690793283149971\n",
      "average_recall_score: 0.035729260257562144\n",
      "average_accuracy_score: 0.9025536824085445\n",
      "average_roc_auc_score: 0.5169819782060379\n",
      "average_f1_score: 0.06794430048124839\n"
     ]
    }
   ],
   "source": [
    "x_col = ['meter_dtw_48', 'meter_sdtw_48', 'meter_dtw_530', 'meter_sdtw_530']\n",
    "model, score = train_single_model(xgboost, training_data, x_col, y_col, split_num = 1, return_model=True)"
   ]
  },
  {
   "cell_type": "code",
   "execution_count": 130,
   "id": "3f09d18f",
   "metadata": {},
   "outputs": [
    {
     "name": "stdout",
     "output_type": "stream",
     "text": [
      "\n",
      " Time taken: 0 hours 3 minutes and 19.53 seconds.\n",
      "average_precision_score: 0.7030109489051095\n",
      "average_recall_score: 0.0346136567834681\n",
      "average_accuracy_score: 0.9024635607618707\n",
      "average_roc_auc_score: 0.5164987350451601\n",
      "average_f1_score: 0.06597876348689845\n"
     ]
    }
   ],
   "source": [
    "x_col = ['meter_dtw_48', 'meter_sdtw_48', 'meter_dtw_530', 'meter_sdtw_530']\n",
    "model, score = train_single_model(xgboost, training_data, x_col, y_col, split_num = 1, return_model=True)"
   ]
  },
  {
   "cell_type": "markdown",
   "id": "1a9f52e4",
   "metadata": {},
   "source": [
    "## SMOTE"
   ]
  },
  {
   "cell_type": "code",
   "execution_count": 134,
   "id": "8db7b5a6",
   "metadata": {},
   "outputs": [],
   "source": [
    "# Oversample with SMOTE and random undersample for imbalanced dataset\n",
    "from collections import Counter\n",
    "from sklearn.datasets import make_classification\n",
    "from imblearn.over_sampling import SMOTE\n",
    "from imblearn.under_sampling import RandomUnderSampler\n",
    "from imblearn.pipeline import Pipeline\n",
    "from matplotlib import pyplot\n",
    "from numpy import where"
   ]
  },
  {
   "cell_type": "code",
   "execution_count": 160,
   "id": "cdaa62d2",
   "metadata": {},
   "outputs": [
    {
     "data": {
      "text/plain": [
       "Counter({True: 222600, False: 2016650})"
      ]
     },
     "execution_count": 160,
     "metadata": {},
     "output_type": "execute_result"
    }
   ],
   "source": [
    "Counter(training_data['FDI'])"
   ]
  },
  {
   "cell_type": "code",
   "execution_count": 161,
   "id": "0460da7d",
   "metadata": {},
   "outputs": [],
   "source": [
    "x_col = ['overnight', 'breakfast', 'daytime', 'evening', 'Tmax1', 'Tmax2', 'Tmin1', 'Cmax1', 'Cmax2', 'Cmin1', 'mic', 'meter_dtw_48', 'meter_sdtw_48', 'meter_dtw_530', 'meter_sdtw_530']"
   ]
  },
  {
   "cell_type": "code",
   "execution_count": 162,
   "id": "1fba9079",
   "metadata": {},
   "outputs": [],
   "source": [
    "oversample = SMOTE()\n",
    "oversample_X, oversample_y = oversample.fit_resample(training_data[x_col], training_data['FDI'])"
   ]
  },
  {
   "cell_type": "code",
   "execution_count": 165,
   "id": "ed49bab8",
   "metadata": {},
   "outputs": [
    {
     "data": {
      "text/plain": [
       "Counter({True: 2016650, False: 2016650})"
      ]
     },
     "execution_count": 165,
     "metadata": {},
     "output_type": "execute_result"
    }
   ],
   "source": [
    "Counter(oversample_y)"
   ]
  },
  {
   "cell_type": "code",
   "execution_count": 166,
   "id": "1a596fda",
   "metadata": {},
   "outputs": [],
   "source": [
    "oversample_y = pd.DataFrame(oversample_y, columns=['FDI'])"
   ]
  },
  {
   "cell_type": "code",
   "execution_count": 167,
   "id": "9e43659a",
   "metadata": {},
   "outputs": [
    {
     "data": {
      "text/html": [
       "<div>\n",
       "<style scoped>\n",
       "    .dataframe tbody tr th:only-of-type {\n",
       "        vertical-align: middle;\n",
       "    }\n",
       "\n",
       "    .dataframe tbody tr th {\n",
       "        vertical-align: top;\n",
       "    }\n",
       "\n",
       "    .dataframe thead th {\n",
       "        text-align: right;\n",
       "    }\n",
       "</style>\n",
       "<table border=\"1\" class=\"dataframe\">\n",
       "  <thead>\n",
       "    <tr style=\"text-align: right;\">\n",
       "      <th></th>\n",
       "      <th>overnight</th>\n",
       "      <th>breakfast</th>\n",
       "      <th>daytime</th>\n",
       "      <th>evening</th>\n",
       "      <th>Tmax1</th>\n",
       "      <th>Tmax2</th>\n",
       "      <th>Tmin1</th>\n",
       "      <th>Cmax1</th>\n",
       "      <th>Cmax2</th>\n",
       "      <th>Cmin1</th>\n",
       "      <th>mic</th>\n",
       "      <th>meter_dtw_48</th>\n",
       "      <th>meter_sdtw_48</th>\n",
       "      <th>meter_dtw_530</th>\n",
       "      <th>meter_sdtw_530</th>\n",
       "    </tr>\n",
       "  </thead>\n",
       "  <tbody>\n",
       "    <tr>\n",
       "      <th>0</th>\n",
       "      <td>0.12852</td>\n",
       "      <td>0.0678</td>\n",
       "      <td>0.120048</td>\n",
       "      <td>0.119347</td>\n",
       "      <td>12</td>\n",
       "      <td>30</td>\n",
       "      <td>15</td>\n",
       "      <td>0.205161</td>\n",
       "      <td>0.209875</td>\n",
       "      <td>0.059876</td>\n",
       "      <td>0.624128</td>\n",
       "      <td>2.524154</td>\n",
       "      <td>-68.984877</td>\n",
       "      <td>3.991317</td>\n",
       "      <td>-50.432597</td>\n",
       "    </tr>\n",
       "  </tbody>\n",
       "</table>\n",
       "</div>"
      ],
      "text/plain": [
       "   overnight  breakfast   daytime   evening  Tmax1  Tmax2  Tmin1     Cmax1     Cmax2     Cmin1       mic  meter_dtw_48  meter_sdtw_48  meter_dtw_530  meter_sdtw_530\n",
       "0    0.12852     0.0678  0.120048  0.119347     12     30     15  0.205161  0.209875  0.059876  0.624128      2.524154     -68.984877       3.991317      -50.432597"
      ]
     },
     "metadata": {},
     "output_type": "display_data"
    },
    {
     "data": {
      "text/html": [
       "<div>\n",
       "<style scoped>\n",
       "    .dataframe tbody tr th:only-of-type {\n",
       "        vertical-align: middle;\n",
       "    }\n",
       "\n",
       "    .dataframe tbody tr th {\n",
       "        vertical-align: top;\n",
       "    }\n",
       "\n",
       "    .dataframe thead th {\n",
       "        text-align: right;\n",
       "    }\n",
       "</style>\n",
       "<table border=\"1\" class=\"dataframe\">\n",
       "  <thead>\n",
       "    <tr style=\"text-align: right;\">\n",
       "      <th></th>\n",
       "      <th>FDI</th>\n",
       "    </tr>\n",
       "  </thead>\n",
       "  <tbody>\n",
       "    <tr>\n",
       "      <th>0</th>\n",
       "      <td>True</td>\n",
       "    </tr>\n",
       "  </tbody>\n",
       "</table>\n",
       "</div>"
      ],
      "text/plain": [
       "    FDI\n",
       "0  True"
      ]
     },
     "metadata": {},
     "output_type": "display_data"
    },
    {
     "data": {
      "text/html": [
       "<div>\n",
       "<style scoped>\n",
       "    .dataframe tbody tr th:only-of-type {\n",
       "        vertical-align: middle;\n",
       "    }\n",
       "\n",
       "    .dataframe tbody tr th {\n",
       "        vertical-align: top;\n",
       "    }\n",
       "\n",
       "    .dataframe thead th {\n",
       "        text-align: right;\n",
       "    }\n",
       "</style>\n",
       "<table border=\"1\" class=\"dataframe\">\n",
       "  <thead>\n",
       "    <tr style=\"text-align: right;\">\n",
       "      <th></th>\n",
       "      <th>overnight</th>\n",
       "      <th>breakfast</th>\n",
       "      <th>daytime</th>\n",
       "      <th>evening</th>\n",
       "      <th>Tmax1</th>\n",
       "      <th>Tmax2</th>\n",
       "      <th>Tmin1</th>\n",
       "      <th>Cmax1</th>\n",
       "      <th>Cmax2</th>\n",
       "      <th>Cmin1</th>\n",
       "      <th>mic</th>\n",
       "      <th>meter_dtw_48</th>\n",
       "      <th>meter_sdtw_48</th>\n",
       "      <th>meter_dtw_530</th>\n",
       "      <th>meter_sdtw_530</th>\n",
       "      <th>FDI</th>\n",
       "    </tr>\n",
       "  </thead>\n",
       "  <tbody>\n",
       "    <tr>\n",
       "      <th>0</th>\n",
       "      <td>0.12852</td>\n",
       "      <td>0.0678</td>\n",
       "      <td>0.120048</td>\n",
       "      <td>0.119347</td>\n",
       "      <td>12</td>\n",
       "      <td>30</td>\n",
       "      <td>15</td>\n",
       "      <td>0.205161</td>\n",
       "      <td>0.209875</td>\n",
       "      <td>0.059876</td>\n",
       "      <td>0.624128</td>\n",
       "      <td>2.524154</td>\n",
       "      <td>-68.984877</td>\n",
       "      <td>3.991317</td>\n",
       "      <td>-50.432597</td>\n",
       "      <td>True</td>\n",
       "    </tr>\n",
       "  </tbody>\n",
       "</table>\n",
       "</div>"
      ],
      "text/plain": [
       "   overnight  breakfast   daytime   evening  Tmax1  Tmax2  Tmin1     Cmax1     Cmax2     Cmin1       mic  meter_dtw_48  meter_sdtw_48  meter_dtw_530  meter_sdtw_530   FDI\n",
       "0    0.12852     0.0678  0.120048  0.119347     12     30     15  0.205161  0.209875  0.059876  0.624128      2.524154     -68.984877       3.991317      -50.432597  True"
      ]
     },
     "metadata": {},
     "output_type": "display_data"
    }
   ],
   "source": [
    "smote_data = concat_two_df_and_drop_same_column_in_df2(oversample_X, oversample_y)"
   ]
  },
  {
   "cell_type": "code",
   "execution_count": 159,
   "id": "666490fb",
   "metadata": {},
   "outputs": [
    {
     "name": "stdout",
     "output_type": "stream",
     "text": [
      "\n",
      " Time taken: 0 hours 2 minutes and 10.96 seconds.\n",
      "average_precision_score: 0.8470510935609362\n",
      "average_recall_score: 0.7183438155136268\n",
      "average_accuracy_score: 0.7943175548935231\n",
      "average_roc_auc_score: 0.7943175548935231\n",
      "average_f1_score: 0.7774062774271743\n"
     ]
    }
   ],
   "source": [
    "# smote on training_sample\n",
    "model, scoe = train_single_model(xgboost, smote_data, x_col, y_col, split_num = 1, return_model=True)"
   ]
  },
  {
   "cell_type": "code",
   "execution_count": 182,
   "id": "fd08b58b",
   "metadata": {},
   "outputs": [
    {
     "name": "stdout",
     "output_type": "stream",
     "text": [
      "\n",
      " Time taken: 0 hours 6 minutes and 56.95 seconds.\n",
      "\n",
      " Time taken: 0 hours 7 minutes and 1.75 seconds.\n",
      "\n",
      " Time taken: 0 hours 6 minutes and 54.53 seconds.\n",
      "average_precision_score: 0.8459640082767406\n",
      "average_recall_score: 0.7223315895172687\n",
      "average_accuracy_score: 0.7954040942487127\n",
      "average_roc_auc_score: 0.7954040942487128\n",
      "average_f1_score: 0.7792693628677908\n",
      "\n",
      " Time taken: 0 hours 3 minutes and 25.23 seconds.\n",
      "\n",
      " Time taken: 0 hours 2 minutes and 58.47 seconds.\n",
      "\n",
      " Time taken: 0 hours 3 minutes and 24.26 seconds.\n",
      "average_precision_score: 0.9560228141206603\n",
      "average_recall_score: 0.24511829889188377\n",
      "average_accuracy_score: 0.9238375944326598\n",
      "average_roc_auc_score: 0.6219368302532212\n",
      "average_f1_score: 0.39018849693571084\n"
     ]
    }
   ],
   "source": [
    "x_col = ['overnight', 'breakfast', 'daytime', 'evening', 'Tmax1', 'Tmax2', 'Tmin1', 'Cmax1', 'Cmax2', 'Cmin1', 'mic', 'meter_dtw_48', 'meter_sdtw_48', 'meter_dtw_530', 'meter_sdtw_530']\n",
    "# smote on all data\n",
    "model, scoe = train_single_model(xgboost, smote_data, x_col, y_col, split_num = 3, return_model=True)\n",
    "\n",
    "# imbalanced data \n",
    "model, score = train_single_model(xgboost, training_data, x_col, y_col, split_num = 3, return_model=True)"
   ]
  },
  {
   "cell_type": "code",
   "execution_count": 183,
   "id": "6cdd35fb",
   "metadata": {},
   "outputs": [
    {
     "name": "stdout",
     "output_type": "stream",
     "text": [
      "\n",
      " Time taken: 0 hours 6 minutes and 44.42 seconds.\n",
      "\n",
      " Time taken: 0 hours 7 minutes and 27.35 seconds.\n",
      "\n",
      " Time taken: 0 hours 7 minutes and 13.06 seconds.\n",
      "average_precision_score: 0.5525945823224182\n",
      "average_recall_score: 0.9934269429223933\n",
      "average_accuracy_score: 0.5945393488100452\n",
      "average_roc_auc_score: 0.5945393488100452\n",
      "average_f1_score: 0.7101589543269068\n",
      "\n",
      " Time taken: 0 hours 4 minutes and 14.14 seconds.\n",
      "\n",
      " Time taken: 0 hours 3 minutes and 38.09 seconds.\n",
      "\n",
      " Time taken: 0 hours 3 minutes and 31.95 seconds.\n",
      "average_precision_score: 0.19184276099907524\n",
      "average_recall_score: 0.6470200658879904\n",
      "average_accuracy_score: 0.6939386947514669\n",
      "average_roc_auc_score: 0.6730688447248089\n",
      "average_f1_score: 0.2959347416254148\n"
     ]
    }
   ],
   "source": [
    "x_col = ['overnight', 'breakfast', 'daytime', 'evening', 'Tmax1', 'Tmax2', 'Tmin1', 'Cmax1', 'Cmax2', 'Cmin1', 'mic', 'meter_dtw_48', 'meter_sdtw_48', 'meter_dtw_530', 'meter_sdtw_530']\n",
    "xgboost = XGBClassifier(scale_pos_weight=10, use_label_encoder=False, n_jobs=6, verbosity=0)\n",
    "# smote on all data\n",
    "model, scoe = train_single_model(xgboost, smote_data, x_col, y_col, split_num = 3, return_model=True)\n",
    "\n",
    "# imbalanced data \n",
    "model, score = train_single_model(xgboost, training_data, x_col, y_col, split_num = 3, return_model=True)"
   ]
  },
  {
   "cell_type": "code",
   "execution_count": 184,
   "id": "28a60c19",
   "metadata": {},
   "outputs": [
    {
     "name": "stdout",
     "output_type": "stream",
     "text": [
      "\n",
      " Time taken: 0 hours 10 minutes and 59.17 seconds.\n",
      "\n",
      " Time taken: 0 hours 11 minutes and 8.46 seconds.\n",
      "\n",
      " Time taken: 0 hours 10 minutes and 58.65 seconds.\n",
      "average_precision_score: 0.6971849991309447\n",
      "average_recall_score: 0.5112014699846005\n",
      "average_accuracy_score: 0.6445127645683022\n",
      "average_roc_auc_score: 0.6445127645683022\n",
      "average_f1_score: 0.5898345754145229\n",
      "\n",
      " Time taken: 0 hours 5 minutes and 22.34 seconds.\n",
      "\n",
      " Time taken: 0 hours 4 minutes and 14.73 seconds.\n",
      "\n",
      " Time taken: 0 hours 5 minutes and 4.94 seconds.\n",
      "average_precision_score: 0.867681902535495\n",
      "average_recall_score: 0.0678995707297594\n",
      "average_accuracy_score: 0.9063123813776933\n",
      "average_roc_auc_score: 0.533378430780682\n",
      "average_f1_score: 0.12594264992418466\n"
     ]
    }
   ],
   "source": [
    "# smote on all data adaboost\n",
    "model, scoe = train_single_model(adaboost, smote_data, x_col, y_col, split_num = 3, return_model=True)\n",
    "# imbalanced data adaboost\n",
    "model, score = train_single_model(adaboost, training_data, x_col, y_col, split_num = 3, return_model=True)"
   ]
  },
  {
   "cell_type": "markdown",
   "id": "0b245fc7",
   "metadata": {},
   "source": [
    "## XGBoost"
   ]
  },
  {
   "cell_type": "code",
   "execution_count": null,
   "id": "2ebd4452",
   "metadata": {},
   "outputs": [],
   "source": []
  }
 ],
 "metadata": {
  "environment": {
   "name": "common-cpu.m71",
   "type": "gcloud",
   "uri": "gcr.io/deeplearning-platform-release/base-cpu:m71"
  },
  "kernelspec": {
   "display_name": "Python 3",
   "language": "python",
   "name": "python3"
  },
  "language_info": {
   "codemirror_mode": {
    "name": "ipython",
    "version": 3
   },
   "file_extension": ".py",
   "mimetype": "text/x-python",
   "name": "python",
   "nbconvert_exporter": "python",
   "pygments_lexer": "ipython3",
   "version": "3.9.4"
  },
  "widgets": {
   "application/vnd.jupyter.widget-state+json": {
    "state": {},
    "version_major": 2,
    "version_minor": 0
   }
  }
 },
 "nbformat": 4,
 "nbformat_minor": 5
}
