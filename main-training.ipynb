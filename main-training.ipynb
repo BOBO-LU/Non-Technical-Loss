{
 "cells": [
  {
   "cell_type": "code",
   "execution_count": 1,
   "id": "nominated-murder",
   "metadata": {
    "Collapsed": "false"
   },
   "outputs": [],
   "source": [
    "import import_ipynb"
   ]
  },
  {
   "cell_type": "code",
   "execution_count": null,
   "id": "eleven-insert",
   "metadata": {
    "Collapsed": "false"
   },
   "outputs": [],
   "source": [
    "four_time = pd.read_csv(\"CSV-48/four_time.csv\")\n",
    "v_value = pd.read_csv(\"CSV-48/v_value.csv\")\n",
    "mic = pd.read_csv(\"CSV-48/mic.csv\")\n",
    "dwt_distance = pd.read_csv(\"CSV-48/sdtw_day_score_df.csv\")\n",
    "smart_meter = pd.read_csv(\"CSV-48/smart_meter.csv\")\n",
    "fdi = pd.read_csv(\"CSV-48/FDI.csv\")\n",
    "print(four_time.shape, v_value.shape, mic.shape, dwt_distance.shape, fdi.shape, smart_meter.shape)"
   ]
  },
  {
   "cell_type": "code",
   "execution_count": null,
   "id": "possible-kitty",
   "metadata": {
    "Collapsed": "false"
   },
   "outputs": [],
   "source": []
  },
  {
   "cell_type": "code",
   "execution_count": null,
   "id": "residential-facial",
   "metadata": {
    "Collapsed": "false"
   },
   "outputs": [],
   "source": []
  }
 ],
 "metadata": {
  "environment": {
   "name": "common-cpu.m65",
   "type": "gcloud",
   "uri": "gcr.io/deeplearning-platform-release/base-cpu:m65"
  },
  "kernelspec": {
   "display_name": "Python 3",
   "language": "python",
   "name": "python3"
  },
  "language_info": {
   "codemirror_mode": {
    "name": "ipython",
    "version": 3
   },
   "file_extension": ".py",
   "mimetype": "text/x-python",
   "name": "python",
   "nbconvert_exporter": "python",
   "pygments_lexer": "ipython3",
   "version": "3.7.10"
  }
 },
 "nbformat": 4,
 "nbformat_minor": 5
}
