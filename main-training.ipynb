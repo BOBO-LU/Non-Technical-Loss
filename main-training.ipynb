{
 "cells": [
  {
   "cell_type": "code",
   "execution_count": 1,
   "id": "6f442600",
   "metadata": {
    "Collapsed": "false"
   },
   "outputs": [],
   "source": [
    "import import_ipynb"
   ]
  },
  {
   "cell_type": "code",
   "execution_count": 2,
   "id": "58a90177",
   "metadata": {
    "Collapsed": "false"
   },
   "outputs": [],
   "source": [
    "%run requirements.ipynb\n",
    "%run config.ipynb\n",
    "%run module_preprocess.ipynb\n",
    "%run module_feature_extraction.ipynb\n",
    "%run module_training.ipynb"
   ]
  },
  {
   "cell_type": "code",
   "execution_count": 3,
   "id": "ee3566fd",
   "metadata": {
    "Collapsed": "false"
   },
   "outputs": [
    {
     "name": "stdout",
     "output_type": "stream",
     "text": [
      "(2239250, 7) (2239250, 9) (2239250, 4) (2239250, 2) (2239250, 2)\n"
     ]
    }
   ],
   "source": [
    "four_time = pd.read_csv(\"CSV/four_time.csv\")\n",
    "v_value = pd.read_csv(\"CSV/v_value.csv\")\n",
    "mic = pd.read_csv(\"CSV/mic.csv\")\n",
    "dwt_distance_eu = pd.read_csv(\"CSV/tsc_dtw_eu_10_48.csv\", names=['meter_dtw_eu', 'meter_sdtw_eu'], header=0)\n",
    "dwt_distance_sdtw = pd.read_csv(\"CSV/tsc_dtw_sdtw_10_48.csv\", names=['meter_dtw_sdtw', 'meter_sdtw_sdtw'], header=0)\n",
    "# smart_meter = pd.read_csv(\"CSV/smart_meter.csv\")\n",
    "# fdi = pd.read_csv(\"CSV/FDI.csv\")\n",
    "print(four_time.shape, v_value.shape, mic.shape, dwt_distance_eu.shape, dwt_distance_sdtw.shape)"
   ]
  },
  {
   "cell_type": "code",
   "execution_count": 4,
   "id": "ce6e6899",
   "metadata": {
    "Collapsed": "false"
   },
   "outputs": [
    {
     "data": {
      "text/plain": [
       "(Index(['meter_dtw_eu', 'meter_sdtw_eu'], dtype='object'),\n",
       " Index(['meter_dtw_sdtw', 'meter_sdtw_sdtw'], dtype='object'))"
      ]
     },
     "execution_count": 4,
     "metadata": {},
     "output_type": "execute_result"
    }
   ],
   "source": [
    "dwt_distance_eu.columns, dwt_distance_sdtw.columns"
   ]
  },
  {
   "cell_type": "code",
   "execution_count": 5,
   "id": "e0dcdd0a",
   "metadata": {
    "Collapsed": "false"
   },
   "outputs": [
    {
     "data": {
      "text/plain": [
       "(   meter_dtw_sdtw  meter_sdtw_sdtw\n",
       " 0        1.983855       -69.851348\n",
       " 1        2.297941       -70.646866\n",
       " 2        2.330373       -69.688795\n",
       " 3        2.382700       -70.707523\n",
       " 4        2.022757       -71.856831,\n",
       " meter_dtw_sdtw     float64\n",
       " meter_sdtw_sdtw    float64\n",
       " dtype: object)"
      ]
     },
     "execution_count": 5,
     "metadata": {},
     "output_type": "execute_result"
    }
   ],
   "source": [
    "dwt_distance_sdtw.head(), dwt_distance_sdtw.dtypes"
   ]
  },
  {
   "cell_type": "markdown",
   "id": "7bce0776",
   "metadata": {
    "Collapsed": "false"
   },
   "source": [
    "## prepare data"
   ]
  },
  {
   "cell_type": "code",
   "execution_count": 6,
   "id": "1abc23a9",
   "metadata": {
    "Collapsed": "false"
   },
   "outputs": [
    {
     "data": {
      "text/html": [
       "<div>\n",
       "<style scoped>\n",
       "    .dataframe tbody tr th:only-of-type {\n",
       "        vertical-align: middle;\n",
       "    }\n",
       "\n",
       "    .dataframe tbody tr th {\n",
       "        vertical-align: top;\n",
       "    }\n",
       "\n",
       "    .dataframe thead th {\n",
       "        text-align: right;\n",
       "    }\n",
       "</style>\n",
       "<table border=\"1\" class=\"dataframe\">\n",
       "  <thead>\n",
       "    <tr style=\"text-align: right;\">\n",
       "      <th></th>\n",
       "      <th>MeterID</th>\n",
       "      <th>Day</th>\n",
       "      <th>FDI</th>\n",
       "      <th>overnight</th>\n",
       "      <th>breakfast</th>\n",
       "      <th>daytime</th>\n",
       "      <th>evening</th>\n",
       "    </tr>\n",
       "  </thead>\n",
       "  <tbody>\n",
       "    <tr>\n",
       "      <th>0</th>\n",
       "      <td>1002</td>\n",
       "      <td>2009-07-15</td>\n",
       "      <td>False</td>\n",
       "      <td>0.152176</td>\n",
       "      <td>0.08725</td>\n",
       "      <td>0.151714</td>\n",
       "      <td>0.099615</td>\n",
       "    </tr>\n",
       "  </tbody>\n",
       "</table>\n",
       "</div>"
      ],
      "text/plain": [
       "   MeterID         Day    FDI  overnight  breakfast   daytime   evening\n",
       "0     1002  2009-07-15  False   0.152176    0.08725  0.151714  0.099615"
      ]
     },
     "metadata": {},
     "output_type": "display_data"
    },
    {
     "data": {
      "text/html": [
       "<div>\n",
       "<style scoped>\n",
       "    .dataframe tbody tr th:only-of-type {\n",
       "        vertical-align: middle;\n",
       "    }\n",
       "\n",
       "    .dataframe tbody tr th {\n",
       "        vertical-align: top;\n",
       "    }\n",
       "\n",
       "    .dataframe thead th {\n",
       "        text-align: right;\n",
       "    }\n",
       "</style>\n",
       "<table border=\"1\" class=\"dataframe\">\n",
       "  <thead>\n",
       "    <tr style=\"text-align: right;\">\n",
       "      <th></th>\n",
       "      <th>MeterID</th>\n",
       "      <th>Day</th>\n",
       "      <th>FDI</th>\n",
       "      <th>Tmax1</th>\n",
       "      <th>Tmax2</th>\n",
       "      <th>Tmin1</th>\n",
       "      <th>Cmax1</th>\n",
       "      <th>Cmax2</th>\n",
       "      <th>Cmin1</th>\n",
       "    </tr>\n",
       "  </thead>\n",
       "  <tbody>\n",
       "    <tr>\n",
       "      <th>0</th>\n",
       "      <td>1002</td>\n",
       "      <td>2009-07-15</td>\n",
       "      <td>False</td>\n",
       "      <td>19</td>\n",
       "      <td>46</td>\n",
       "      <td>37</td>\n",
       "      <td>0.026737</td>\n",
       "      <td>0.02806</td>\n",
       "      <td>0.000975</td>\n",
       "    </tr>\n",
       "  </tbody>\n",
       "</table>\n",
       "</div>"
      ],
      "text/plain": [
       "   MeterID         Day    FDI  Tmax1  Tmax2  Tmin1     Cmax1    Cmax2     Cmin1\n",
       "0     1002  2009-07-15  False     19     46     37  0.026737  0.02806  0.000975"
      ]
     },
     "metadata": {},
     "output_type": "display_data"
    },
    {
     "data": {
      "text/html": [
       "<div>\n",
       "<style scoped>\n",
       "    .dataframe tbody tr th:only-of-type {\n",
       "        vertical-align: middle;\n",
       "    }\n",
       "\n",
       "    .dataframe tbody tr th {\n",
       "        vertical-align: top;\n",
       "    }\n",
       "\n",
       "    .dataframe thead th {\n",
       "        text-align: right;\n",
       "    }\n",
       "</style>\n",
       "<table border=\"1\" class=\"dataframe\">\n",
       "  <thead>\n",
       "    <tr style=\"text-align: right;\">\n",
       "      <th></th>\n",
       "      <th>MeterID</th>\n",
       "      <th>Day</th>\n",
       "      <th>FDI</th>\n",
       "      <th>overnight</th>\n",
       "      <th>breakfast</th>\n",
       "      <th>daytime</th>\n",
       "      <th>evening</th>\n",
       "      <th>Tmax1</th>\n",
       "      <th>Tmax2</th>\n",
       "      <th>Tmin1</th>\n",
       "      <th>Cmax1</th>\n",
       "      <th>Cmax2</th>\n",
       "      <th>Cmin1</th>\n",
       "    </tr>\n",
       "  </thead>\n",
       "  <tbody>\n",
       "    <tr>\n",
       "      <th>0</th>\n",
       "      <td>1002</td>\n",
       "      <td>2009-07-15</td>\n",
       "      <td>False</td>\n",
       "      <td>0.152176</td>\n",
       "      <td>0.08725</td>\n",
       "      <td>0.151714</td>\n",
       "      <td>0.099615</td>\n",
       "      <td>19</td>\n",
       "      <td>46</td>\n",
       "      <td>37</td>\n",
       "      <td>0.026737</td>\n",
       "      <td>0.02806</td>\n",
       "      <td>0.000975</td>\n",
       "    </tr>\n",
       "  </tbody>\n",
       "</table>\n",
       "</div>"
      ],
      "text/plain": [
       "   MeterID         Day    FDI  overnight  breakfast   daytime   evening  Tmax1  Tmax2  Tmin1     Cmax1    Cmax2     Cmin1\n",
       "0     1002  2009-07-15  False   0.152176    0.08725  0.151714  0.099615     19     46     37  0.026737  0.02806  0.000975"
      ]
     },
     "metadata": {},
     "output_type": "display_data"
    },
    {
     "data": {
      "text/html": [
       "<div>\n",
       "<style scoped>\n",
       "    .dataframe tbody tr th:only-of-type {\n",
       "        vertical-align: middle;\n",
       "    }\n",
       "\n",
       "    .dataframe tbody tr th {\n",
       "        vertical-align: top;\n",
       "    }\n",
       "\n",
       "    .dataframe thead th {\n",
       "        text-align: right;\n",
       "    }\n",
       "</style>\n",
       "<table border=\"1\" class=\"dataframe\">\n",
       "  <thead>\n",
       "    <tr style=\"text-align: right;\">\n",
       "      <th></th>\n",
       "      <th>MeterID</th>\n",
       "      <th>Day</th>\n",
       "      <th>FDI</th>\n",
       "      <th>overnight</th>\n",
       "      <th>breakfast</th>\n",
       "      <th>daytime</th>\n",
       "      <th>evening</th>\n",
       "      <th>Tmax1</th>\n",
       "      <th>Tmax2</th>\n",
       "      <th>Tmin1</th>\n",
       "      <th>Cmax1</th>\n",
       "      <th>Cmax2</th>\n",
       "      <th>Cmin1</th>\n",
       "    </tr>\n",
       "  </thead>\n",
       "  <tbody>\n",
       "    <tr>\n",
       "      <th>0</th>\n",
       "      <td>1002</td>\n",
       "      <td>2009-07-15</td>\n",
       "      <td>False</td>\n",
       "      <td>0.152176</td>\n",
       "      <td>0.08725</td>\n",
       "      <td>0.151714</td>\n",
       "      <td>0.099615</td>\n",
       "      <td>19</td>\n",
       "      <td>46</td>\n",
       "      <td>37</td>\n",
       "      <td>0.026737</td>\n",
       "      <td>0.02806</td>\n",
       "      <td>0.000975</td>\n",
       "    </tr>\n",
       "  </tbody>\n",
       "</table>\n",
       "</div>"
      ],
      "text/plain": [
       "   MeterID         Day    FDI  overnight  breakfast   daytime   evening  Tmax1  Tmax2  Tmin1     Cmax1    Cmax2     Cmin1\n",
       "0     1002  2009-07-15  False   0.152176    0.08725  0.151714  0.099615     19     46     37  0.026737  0.02806  0.000975"
      ]
     },
     "metadata": {},
     "output_type": "display_data"
    },
    {
     "data": {
      "text/html": [
       "<div>\n",
       "<style scoped>\n",
       "    .dataframe tbody tr th:only-of-type {\n",
       "        vertical-align: middle;\n",
       "    }\n",
       "\n",
       "    .dataframe tbody tr th {\n",
       "        vertical-align: top;\n",
       "    }\n",
       "\n",
       "    .dataframe thead th {\n",
       "        text-align: right;\n",
       "    }\n",
       "</style>\n",
       "<table border=\"1\" class=\"dataframe\">\n",
       "  <thead>\n",
       "    <tr style=\"text-align: right;\">\n",
       "      <th></th>\n",
       "      <th>MeterID</th>\n",
       "      <th>Day</th>\n",
       "      <th>FDI</th>\n",
       "      <th>mic</th>\n",
       "    </tr>\n",
       "  </thead>\n",
       "  <tbody>\n",
       "    <tr>\n",
       "      <th>0</th>\n",
       "      <td>1002</td>\n",
       "      <td>2009-07-15</td>\n",
       "      <td>False</td>\n",
       "      <td>0.604958</td>\n",
       "    </tr>\n",
       "  </tbody>\n",
       "</table>\n",
       "</div>"
      ],
      "text/plain": [
       "   MeterID         Day    FDI       mic\n",
       "0     1002  2009-07-15  False  0.604958"
      ]
     },
     "metadata": {},
     "output_type": "display_data"
    },
    {
     "data": {
      "text/html": [
       "<div>\n",
       "<style scoped>\n",
       "    .dataframe tbody tr th:only-of-type {\n",
       "        vertical-align: middle;\n",
       "    }\n",
       "\n",
       "    .dataframe tbody tr th {\n",
       "        vertical-align: top;\n",
       "    }\n",
       "\n",
       "    .dataframe thead th {\n",
       "        text-align: right;\n",
       "    }\n",
       "</style>\n",
       "<table border=\"1\" class=\"dataframe\">\n",
       "  <thead>\n",
       "    <tr style=\"text-align: right;\">\n",
       "      <th></th>\n",
       "      <th>MeterID</th>\n",
       "      <th>Day</th>\n",
       "      <th>FDI</th>\n",
       "      <th>overnight</th>\n",
       "      <th>breakfast</th>\n",
       "      <th>daytime</th>\n",
       "      <th>evening</th>\n",
       "      <th>Tmax1</th>\n",
       "      <th>Tmax2</th>\n",
       "      <th>Tmin1</th>\n",
       "      <th>Cmax1</th>\n",
       "      <th>Cmax2</th>\n",
       "      <th>Cmin1</th>\n",
       "      <th>mic</th>\n",
       "    </tr>\n",
       "  </thead>\n",
       "  <tbody>\n",
       "    <tr>\n",
       "      <th>0</th>\n",
       "      <td>1002</td>\n",
       "      <td>2009-07-15</td>\n",
       "      <td>False</td>\n",
       "      <td>0.152176</td>\n",
       "      <td>0.08725</td>\n",
       "      <td>0.151714</td>\n",
       "      <td>0.099615</td>\n",
       "      <td>19</td>\n",
       "      <td>46</td>\n",
       "      <td>37</td>\n",
       "      <td>0.026737</td>\n",
       "      <td>0.02806</td>\n",
       "      <td>0.000975</td>\n",
       "      <td>0.604958</td>\n",
       "    </tr>\n",
       "  </tbody>\n",
       "</table>\n",
       "</div>"
      ],
      "text/plain": [
       "   MeterID         Day    FDI  overnight  breakfast   daytime   evening  Tmax1  Tmax2  Tmin1     Cmax1    Cmax2     Cmin1       mic\n",
       "0     1002  2009-07-15  False   0.152176    0.08725  0.151714  0.099615     19     46     37  0.026737  0.02806  0.000975  0.604958"
      ]
     },
     "metadata": {},
     "output_type": "display_data"
    },
    {
     "data": {
      "text/html": [
       "<div>\n",
       "<style scoped>\n",
       "    .dataframe tbody tr th:only-of-type {\n",
       "        vertical-align: middle;\n",
       "    }\n",
       "\n",
       "    .dataframe tbody tr th {\n",
       "        vertical-align: top;\n",
       "    }\n",
       "\n",
       "    .dataframe thead th {\n",
       "        text-align: right;\n",
       "    }\n",
       "</style>\n",
       "<table border=\"1\" class=\"dataframe\">\n",
       "  <thead>\n",
       "    <tr style=\"text-align: right;\">\n",
       "      <th></th>\n",
       "      <th>MeterID</th>\n",
       "      <th>Day</th>\n",
       "      <th>FDI</th>\n",
       "      <th>overnight</th>\n",
       "      <th>breakfast</th>\n",
       "      <th>daytime</th>\n",
       "      <th>evening</th>\n",
       "      <th>Tmax1</th>\n",
       "      <th>Tmax2</th>\n",
       "      <th>Tmin1</th>\n",
       "      <th>Cmax1</th>\n",
       "      <th>Cmax2</th>\n",
       "      <th>Cmin1</th>\n",
       "      <th>mic</th>\n",
       "    </tr>\n",
       "  </thead>\n",
       "  <tbody>\n",
       "    <tr>\n",
       "      <th>0</th>\n",
       "      <td>1002</td>\n",
       "      <td>2009-07-15</td>\n",
       "      <td>False</td>\n",
       "      <td>0.152176</td>\n",
       "      <td>0.08725</td>\n",
       "      <td>0.151714</td>\n",
       "      <td>0.099615</td>\n",
       "      <td>19</td>\n",
       "      <td>46</td>\n",
       "      <td>37</td>\n",
       "      <td>0.026737</td>\n",
       "      <td>0.02806</td>\n",
       "      <td>0.000975</td>\n",
       "      <td>0.604958</td>\n",
       "    </tr>\n",
       "  </tbody>\n",
       "</table>\n",
       "</div>"
      ],
      "text/plain": [
       "   MeterID         Day    FDI  overnight  breakfast   daytime   evening  Tmax1  Tmax2  Tmin1     Cmax1    Cmax2     Cmin1       mic\n",
       "0     1002  2009-07-15  False   0.152176    0.08725  0.151714  0.099615     19     46     37  0.026737  0.02806  0.000975  0.604958"
      ]
     },
     "metadata": {},
     "output_type": "display_data"
    },
    {
     "data": {
      "text/html": [
       "<div>\n",
       "<style scoped>\n",
       "    .dataframe tbody tr th:only-of-type {\n",
       "        vertical-align: middle;\n",
       "    }\n",
       "\n",
       "    .dataframe tbody tr th {\n",
       "        vertical-align: top;\n",
       "    }\n",
       "\n",
       "    .dataframe thead th {\n",
       "        text-align: right;\n",
       "    }\n",
       "</style>\n",
       "<table border=\"1\" class=\"dataframe\">\n",
       "  <thead>\n",
       "    <tr style=\"text-align: right;\">\n",
       "      <th></th>\n",
       "      <th>meter_dtw_eu</th>\n",
       "      <th>meter_sdtw_eu</th>\n",
       "    </tr>\n",
       "  </thead>\n",
       "  <tbody>\n",
       "    <tr>\n",
       "      <th>0</th>\n",
       "      <td>1.656341</td>\n",
       "      <td>-66.713528</td>\n",
       "    </tr>\n",
       "  </tbody>\n",
       "</table>\n",
       "</div>"
      ],
      "text/plain": [
       "   meter_dtw_eu  meter_sdtw_eu\n",
       "0      1.656341     -66.713528"
      ]
     },
     "metadata": {},
     "output_type": "display_data"
    },
    {
     "data": {
      "text/html": [
       "<div>\n",
       "<style scoped>\n",
       "    .dataframe tbody tr th:only-of-type {\n",
       "        vertical-align: middle;\n",
       "    }\n",
       "\n",
       "    .dataframe tbody tr th {\n",
       "        vertical-align: top;\n",
       "    }\n",
       "\n",
       "    .dataframe thead th {\n",
       "        text-align: right;\n",
       "    }\n",
       "</style>\n",
       "<table border=\"1\" class=\"dataframe\">\n",
       "  <thead>\n",
       "    <tr style=\"text-align: right;\">\n",
       "      <th></th>\n",
       "      <th>MeterID</th>\n",
       "      <th>Day</th>\n",
       "      <th>FDI</th>\n",
       "      <th>overnight</th>\n",
       "      <th>breakfast</th>\n",
       "      <th>daytime</th>\n",
       "      <th>evening</th>\n",
       "      <th>Tmax1</th>\n",
       "      <th>Tmax2</th>\n",
       "      <th>Tmin1</th>\n",
       "      <th>Cmax1</th>\n",
       "      <th>Cmax2</th>\n",
       "      <th>Cmin1</th>\n",
       "      <th>mic</th>\n",
       "      <th>meter_dtw_eu</th>\n",
       "      <th>meter_sdtw_eu</th>\n",
       "    </tr>\n",
       "  </thead>\n",
       "  <tbody>\n",
       "    <tr>\n",
       "      <th>0</th>\n",
       "      <td>1002</td>\n",
       "      <td>2009-07-15</td>\n",
       "      <td>False</td>\n",
       "      <td>0.152176</td>\n",
       "      <td>0.08725</td>\n",
       "      <td>0.151714</td>\n",
       "      <td>0.099615</td>\n",
       "      <td>19</td>\n",
       "      <td>46</td>\n",
       "      <td>37</td>\n",
       "      <td>0.026737</td>\n",
       "      <td>0.02806</td>\n",
       "      <td>0.000975</td>\n",
       "      <td>0.604958</td>\n",
       "      <td>1.656341</td>\n",
       "      <td>-66.713528</td>\n",
       "    </tr>\n",
       "  </tbody>\n",
       "</table>\n",
       "</div>"
      ],
      "text/plain": [
       "   MeterID         Day    FDI  overnight  breakfast   daytime   evening  Tmax1  Tmax2  Tmin1     Cmax1    Cmax2     Cmin1       mic  meter_dtw_eu  meter_sdtw_eu\n",
       "0     1002  2009-07-15  False   0.152176    0.08725  0.151714  0.099615     19     46     37  0.026737  0.02806  0.000975  0.604958      1.656341     -66.713528"
      ]
     },
     "metadata": {},
     "output_type": "display_data"
    },
    {
     "data": {
      "text/html": [
       "<div>\n",
       "<style scoped>\n",
       "    .dataframe tbody tr th:only-of-type {\n",
       "        vertical-align: middle;\n",
       "    }\n",
       "\n",
       "    .dataframe tbody tr th {\n",
       "        vertical-align: top;\n",
       "    }\n",
       "\n",
       "    .dataframe thead th {\n",
       "        text-align: right;\n",
       "    }\n",
       "</style>\n",
       "<table border=\"1\" class=\"dataframe\">\n",
       "  <thead>\n",
       "    <tr style=\"text-align: right;\">\n",
       "      <th></th>\n",
       "      <th>MeterID</th>\n",
       "      <th>Day</th>\n",
       "      <th>FDI</th>\n",
       "      <th>overnight</th>\n",
       "      <th>breakfast</th>\n",
       "      <th>daytime</th>\n",
       "      <th>evening</th>\n",
       "      <th>Tmax1</th>\n",
       "      <th>Tmax2</th>\n",
       "      <th>Tmin1</th>\n",
       "      <th>Cmax1</th>\n",
       "      <th>Cmax2</th>\n",
       "      <th>Cmin1</th>\n",
       "      <th>mic</th>\n",
       "      <th>meter_dtw_eu</th>\n",
       "      <th>meter_sdtw_eu</th>\n",
       "    </tr>\n",
       "  </thead>\n",
       "  <tbody>\n",
       "    <tr>\n",
       "      <th>0</th>\n",
       "      <td>1002</td>\n",
       "      <td>2009-07-15</td>\n",
       "      <td>False</td>\n",
       "      <td>0.152176</td>\n",
       "      <td>0.08725</td>\n",
       "      <td>0.151714</td>\n",
       "      <td>0.099615</td>\n",
       "      <td>19</td>\n",
       "      <td>46</td>\n",
       "      <td>37</td>\n",
       "      <td>0.026737</td>\n",
       "      <td>0.02806</td>\n",
       "      <td>0.000975</td>\n",
       "      <td>0.604958</td>\n",
       "      <td>1.656341</td>\n",
       "      <td>-66.713528</td>\n",
       "    </tr>\n",
       "  </tbody>\n",
       "</table>\n",
       "</div>"
      ],
      "text/plain": [
       "   MeterID         Day    FDI  overnight  breakfast   daytime   evening  Tmax1  Tmax2  Tmin1     Cmax1    Cmax2     Cmin1       mic  meter_dtw_eu  meter_sdtw_eu\n",
       "0     1002  2009-07-15  False   0.152176    0.08725  0.151714  0.099615     19     46     37  0.026737  0.02806  0.000975  0.604958      1.656341     -66.713528"
      ]
     },
     "metadata": {},
     "output_type": "display_data"
    },
    {
     "data": {
      "text/html": [
       "<div>\n",
       "<style scoped>\n",
       "    .dataframe tbody tr th:only-of-type {\n",
       "        vertical-align: middle;\n",
       "    }\n",
       "\n",
       "    .dataframe tbody tr th {\n",
       "        vertical-align: top;\n",
       "    }\n",
       "\n",
       "    .dataframe thead th {\n",
       "        text-align: right;\n",
       "    }\n",
       "</style>\n",
       "<table border=\"1\" class=\"dataframe\">\n",
       "  <thead>\n",
       "    <tr style=\"text-align: right;\">\n",
       "      <th></th>\n",
       "      <th>meter_dtw_sdtw</th>\n",
       "      <th>meter_sdtw_sdtw</th>\n",
       "    </tr>\n",
       "  </thead>\n",
       "  <tbody>\n",
       "    <tr>\n",
       "      <th>0</th>\n",
       "      <td>1.983855</td>\n",
       "      <td>-69.851348</td>\n",
       "    </tr>\n",
       "  </tbody>\n",
       "</table>\n",
       "</div>"
      ],
      "text/plain": [
       "   meter_dtw_sdtw  meter_sdtw_sdtw\n",
       "0        1.983855       -69.851348"
      ]
     },
     "metadata": {},
     "output_type": "display_data"
    },
    {
     "data": {
      "text/html": [
       "<div>\n",
       "<style scoped>\n",
       "    .dataframe tbody tr th:only-of-type {\n",
       "        vertical-align: middle;\n",
       "    }\n",
       "\n",
       "    .dataframe tbody tr th {\n",
       "        vertical-align: top;\n",
       "    }\n",
       "\n",
       "    .dataframe thead th {\n",
       "        text-align: right;\n",
       "    }\n",
       "</style>\n",
       "<table border=\"1\" class=\"dataframe\">\n",
       "  <thead>\n",
       "    <tr style=\"text-align: right;\">\n",
       "      <th></th>\n",
       "      <th>MeterID</th>\n",
       "      <th>Day</th>\n",
       "      <th>FDI</th>\n",
       "      <th>overnight</th>\n",
       "      <th>breakfast</th>\n",
       "      <th>daytime</th>\n",
       "      <th>evening</th>\n",
       "      <th>Tmax1</th>\n",
       "      <th>Tmax2</th>\n",
       "      <th>Tmin1</th>\n",
       "      <th>Cmax1</th>\n",
       "      <th>Cmax2</th>\n",
       "      <th>Cmin1</th>\n",
       "      <th>mic</th>\n",
       "      <th>meter_dtw_eu</th>\n",
       "      <th>meter_sdtw_eu</th>\n",
       "      <th>meter_dtw_sdtw</th>\n",
       "      <th>meter_sdtw_sdtw</th>\n",
       "    </tr>\n",
       "  </thead>\n",
       "  <tbody>\n",
       "    <tr>\n",
       "      <th>0</th>\n",
       "      <td>1002</td>\n",
       "      <td>2009-07-15</td>\n",
       "      <td>False</td>\n",
       "      <td>0.152176</td>\n",
       "      <td>0.08725</td>\n",
       "      <td>0.151714</td>\n",
       "      <td>0.099615</td>\n",
       "      <td>19</td>\n",
       "      <td>46</td>\n",
       "      <td>37</td>\n",
       "      <td>0.026737</td>\n",
       "      <td>0.02806</td>\n",
       "      <td>0.000975</td>\n",
       "      <td>0.604958</td>\n",
       "      <td>1.656341</td>\n",
       "      <td>-66.713528</td>\n",
       "      <td>1.983855</td>\n",
       "      <td>-69.851348</td>\n",
       "    </tr>\n",
       "  </tbody>\n",
       "</table>\n",
       "</div>"
      ],
      "text/plain": [
       "   MeterID         Day    FDI  overnight  breakfast   daytime   evening  Tmax1  Tmax2  Tmin1     Cmax1    Cmax2     Cmin1       mic  meter_dtw_eu  meter_sdtw_eu  meter_dtw_sdtw  meter_sdtw_sdtw\n",
       "0     1002  2009-07-15  False   0.152176    0.08725  0.151714  0.099615     19     46     37  0.026737  0.02806  0.000975  0.604958      1.656341     -66.713528        1.983855       -69.851348"
      ]
     },
     "metadata": {},
     "output_type": "display_data"
    }
   ],
   "source": [
    "training_data = concat_two_df_and_drop_same_column_in_df2(four_time, v_value)\n",
    "training_data = concat_two_df_and_drop_same_column_in_df2(training_data, mic)\n",
    "training_data = concat_two_df_and_drop_same_column_in_df2(training_data, dwt_distance_eu)\n",
    "training_data = concat_two_df_and_drop_same_column_in_df2(training_data, dwt_distance_sdtw)"
   ]
  },
  {
   "cell_type": "code",
   "execution_count": 7,
   "id": "d87bbbd7",
   "metadata": {
    "Collapsed": "false"
   },
   "outputs": [
    {
     "data": {
      "text/html": [
       "<div>\n",
       "<style scoped>\n",
       "    .dataframe tbody tr th:only-of-type {\n",
       "        vertical-align: middle;\n",
       "    }\n",
       "\n",
       "    .dataframe tbody tr th {\n",
       "        vertical-align: top;\n",
       "    }\n",
       "\n",
       "    .dataframe thead th {\n",
       "        text-align: right;\n",
       "    }\n",
       "</style>\n",
       "<table border=\"1\" class=\"dataframe\">\n",
       "  <thead>\n",
       "    <tr style=\"text-align: right;\">\n",
       "      <th></th>\n",
       "      <th>MeterID</th>\n",
       "      <th>Day</th>\n",
       "      <th>FDI</th>\n",
       "      <th>overnight</th>\n",
       "      <th>breakfast</th>\n",
       "      <th>daytime</th>\n",
       "      <th>evening</th>\n",
       "      <th>Tmax1</th>\n",
       "      <th>Tmax2</th>\n",
       "      <th>Tmin1</th>\n",
       "      <th>Cmax1</th>\n",
       "      <th>Cmax2</th>\n",
       "      <th>Cmin1</th>\n",
       "      <th>mic</th>\n",
       "      <th>meter_dtw_eu</th>\n",
       "      <th>meter_sdtw_eu</th>\n",
       "      <th>meter_dtw_sdtw</th>\n",
       "      <th>meter_sdtw_sdtw</th>\n",
       "    </tr>\n",
       "  </thead>\n",
       "  <tbody>\n",
       "    <tr>\n",
       "      <th>0</th>\n",
       "      <td>1002</td>\n",
       "      <td>2009-07-15</td>\n",
       "      <td>False</td>\n",
       "      <td>0.152176</td>\n",
       "      <td>0.08725</td>\n",
       "      <td>0.151714</td>\n",
       "      <td>0.099615</td>\n",
       "      <td>19</td>\n",
       "      <td>46</td>\n",
       "      <td>37</td>\n",
       "      <td>0.026737</td>\n",
       "      <td>0.028060</td>\n",
       "      <td>0.000975</td>\n",
       "      <td>0.604958</td>\n",
       "      <td>1.656341</td>\n",
       "      <td>-66.713528</td>\n",
       "      <td>1.983855</td>\n",
       "      <td>-69.851348</td>\n",
       "    </tr>\n",
       "    <tr>\n",
       "      <th>1</th>\n",
       "      <td>1002</td>\n",
       "      <td>2009-07-16</td>\n",
       "      <td>False</td>\n",
       "      <td>0.154059</td>\n",
       "      <td>0.06725</td>\n",
       "      <td>0.293143</td>\n",
       "      <td>0.209538</td>\n",
       "      <td>19</td>\n",
       "      <td>35</td>\n",
       "      <td>21</td>\n",
       "      <td>0.065311</td>\n",
       "      <td>0.021794</td>\n",
       "      <td>0.007450</td>\n",
       "      <td>0.722518</td>\n",
       "      <td>1.894607</td>\n",
       "      <td>-68.912719</td>\n",
       "      <td>2.297941</td>\n",
       "      <td>-70.646866</td>\n",
       "    </tr>\n",
       "    <tr>\n",
       "      <th>2</th>\n",
       "      <td>1002</td>\n",
       "      <td>2009-07-17</td>\n",
       "      <td>False</td>\n",
       "      <td>0.119647</td>\n",
       "      <td>0.09575</td>\n",
       "      <td>0.304214</td>\n",
       "      <td>0.162692</td>\n",
       "      <td>20</td>\n",
       "      <td>30</td>\n",
       "      <td>26</td>\n",
       "      <td>0.066147</td>\n",
       "      <td>0.033839</td>\n",
       "      <td>0.006058</td>\n",
       "      <td>0.662717</td>\n",
       "      <td>1.915961</td>\n",
       "      <td>-67.859950</td>\n",
       "      <td>2.330373</td>\n",
       "      <td>-69.688795</td>\n",
       "    </tr>\n",
       "  </tbody>\n",
       "</table>\n",
       "</div>"
      ],
      "text/plain": [
       "   MeterID         Day    FDI  overnight  breakfast   daytime   evening  Tmax1  Tmax2  Tmin1     Cmax1     Cmax2     Cmin1       mic  meter_dtw_eu  meter_sdtw_eu  meter_dtw_sdtw  meter_sdtw_sdtw\n",
       "0     1002  2009-07-15  False   0.152176    0.08725  0.151714  0.099615     19     46     37  0.026737  0.028060  0.000975  0.604958      1.656341     -66.713528        1.983855       -69.851348\n",
       "1     1002  2009-07-16  False   0.154059    0.06725  0.293143  0.209538     19     35     21  0.065311  0.021794  0.007450  0.722518      1.894607     -68.912719        2.297941       -70.646866\n",
       "2     1002  2009-07-17  False   0.119647    0.09575  0.304214  0.162692     20     30     26  0.066147  0.033839  0.006058  0.662717      1.915961     -67.859950        2.330373       -69.688795"
      ]
     },
     "execution_count": 7,
     "metadata": {},
     "output_type": "execute_result"
    }
   ],
   "source": [
    "training_data.head(3)"
   ]
  },
  {
   "cell_type": "code",
   "execution_count": 8,
   "id": "6b5c62a7",
   "metadata": {
    "Collapsed": "false"
   },
   "outputs": [
    {
     "name": "stdout",
     "output_type": "stream",
     "text": [
      "(10735680, 8)\n",
      "(10735680, 8)\n",
      "(10735680, 8)\n",
      "(10735680, 8)\n",
      "(10735680, 8)\n",
      "(10735680, 8)\n",
      "(10735680, 8)\n",
      "(10735680, 8)\n",
      "(10735680, 8)\n",
      "(10862880, 8)\n",
      "(4225, 530, 48)\n",
      "(2239250, 48)\n"
     ]
    }
   ],
   "source": [
    "smart_meter_data_group = []\n",
    "for i in range(10):\n",
    "    d1 = pd.read_csv('CSV/smartmeterhalf/smart_meter_'+str(i)+'_1.csv')\n",
    "    d2 = pd.read_csv('CSV/smartmeterhalf/smart_meter_'+str(i)+'_2.csv')\n",
    "    data = pd.concat([d1,d2])\n",
    "    print(data.shape)\n",
    "    smart_meter_data_group.append(data)\n",
    "    \n",
    "smart_meter = []\n",
    "for area in smart_meter_data_group:\n",
    "    t = area['Atk_Elec'].to_numpy().reshape(-1, 530, 48)\n",
    "    for meter in t:\n",
    "        smart_meter.append(meter)        \n",
    "smart_meter = np.asarray(smart_meter)\n",
    "print(smart_meter.shape)\n",
    "smart_meter = smart_meter.reshape(-1, 48)\n",
    "smart_meter_df = pd.DataFrame(smart_meter)\n",
    "print(smart_meter_df.shape)"
   ]
  },
  {
   "cell_type": "code",
   "execution_count": 9,
   "id": "bd5c14a9",
   "metadata": {
    "Collapsed": "false"
   },
   "outputs": [
    {
     "data": {
      "text/html": [
       "<div>\n",
       "<style scoped>\n",
       "    .dataframe tbody tr th:only-of-type {\n",
       "        vertical-align: middle;\n",
       "    }\n",
       "\n",
       "    .dataframe tbody tr th {\n",
       "        vertical-align: top;\n",
       "    }\n",
       "\n",
       "    .dataframe thead th {\n",
       "        text-align: right;\n",
       "    }\n",
       "</style>\n",
       "<table border=\"1\" class=\"dataframe\">\n",
       "  <thead>\n",
       "    <tr style=\"text-align: right;\">\n",
       "      <th></th>\n",
       "      <th>MeterID</th>\n",
       "      <th>Day</th>\n",
       "      <th>FDI</th>\n",
       "      <th>overnight</th>\n",
       "      <th>breakfast</th>\n",
       "      <th>daytime</th>\n",
       "      <th>evening</th>\n",
       "      <th>Tmax1</th>\n",
       "      <th>Tmax2</th>\n",
       "      <th>Tmin1</th>\n",
       "      <th>Cmax1</th>\n",
       "      <th>Cmax2</th>\n",
       "      <th>Cmin1</th>\n",
       "      <th>mic</th>\n",
       "      <th>meter_dtw_eu</th>\n",
       "      <th>meter_sdtw_eu</th>\n",
       "      <th>meter_dtw_sdtw</th>\n",
       "      <th>meter_sdtw_sdtw</th>\n",
       "    </tr>\n",
       "  </thead>\n",
       "  <tbody>\n",
       "    <tr>\n",
       "      <th>0</th>\n",
       "      <td>1002</td>\n",
       "      <td>2009-07-15</td>\n",
       "      <td>False</td>\n",
       "      <td>0.152176</td>\n",
       "      <td>0.08725</td>\n",
       "      <td>0.151714</td>\n",
       "      <td>0.099615</td>\n",
       "      <td>19</td>\n",
       "      <td>46</td>\n",
       "      <td>37</td>\n",
       "      <td>0.026737</td>\n",
       "      <td>0.02806</td>\n",
       "      <td>0.000975</td>\n",
       "      <td>0.604958</td>\n",
       "      <td>1.656341</td>\n",
       "      <td>-66.713528</td>\n",
       "      <td>1.983855</td>\n",
       "      <td>-69.851348</td>\n",
       "    </tr>\n",
       "  </tbody>\n",
       "</table>\n",
       "</div>"
      ],
      "text/plain": [
       "   MeterID         Day    FDI  overnight  breakfast   daytime   evening  Tmax1  Tmax2  Tmin1     Cmax1    Cmax2     Cmin1       mic  meter_dtw_eu  meter_sdtw_eu  meter_dtw_sdtw  meter_sdtw_sdtw\n",
       "0     1002  2009-07-15  False   0.152176    0.08725  0.151714  0.099615     19     46     37  0.026737  0.02806  0.000975  0.604958      1.656341     -66.713528        1.983855       -69.851348"
      ]
     },
     "metadata": {},
     "output_type": "display_data"
    },
    {
     "data": {
      "text/html": [
       "<div>\n",
       "<style scoped>\n",
       "    .dataframe tbody tr th:only-of-type {\n",
       "        vertical-align: middle;\n",
       "    }\n",
       "\n",
       "    .dataframe tbody tr th {\n",
       "        vertical-align: top;\n",
       "    }\n",
       "\n",
       "    .dataframe thead th {\n",
       "        text-align: right;\n",
       "    }\n",
       "</style>\n",
       "<table border=\"1\" class=\"dataframe\">\n",
       "  <thead>\n",
       "    <tr style=\"text-align: right;\">\n",
       "      <th></th>\n",
       "      <th>0</th>\n",
       "      <th>1</th>\n",
       "      <th>2</th>\n",
       "      <th>3</th>\n",
       "      <th>4</th>\n",
       "      <th>5</th>\n",
       "      <th>6</th>\n",
       "      <th>7</th>\n",
       "      <th>8</th>\n",
       "      <th>9</th>\n",
       "      <th>10</th>\n",
       "      <th>11</th>\n",
       "      <th>12</th>\n",
       "      <th>13</th>\n",
       "      <th>14</th>\n",
       "      <th>15</th>\n",
       "      <th>16</th>\n",
       "      <th>17</th>\n",
       "      <th>18</th>\n",
       "      <th>19</th>\n",
       "      <th>20</th>\n",
       "      <th>21</th>\n",
       "      <th>22</th>\n",
       "      <th>23</th>\n",
       "      <th>24</th>\n",
       "      <th>25</th>\n",
       "      <th>26</th>\n",
       "      <th>27</th>\n",
       "      <th>28</th>\n",
       "      <th>29</th>\n",
       "      <th>30</th>\n",
       "      <th>31</th>\n",
       "      <th>32</th>\n",
       "      <th>33</th>\n",
       "      <th>34</th>\n",
       "      <th>35</th>\n",
       "      <th>36</th>\n",
       "      <th>37</th>\n",
       "      <th>38</th>\n",
       "      <th>39</th>\n",
       "      <th>40</th>\n",
       "      <th>41</th>\n",
       "      <th>42</th>\n",
       "      <th>43</th>\n",
       "      <th>44</th>\n",
       "      <th>45</th>\n",
       "      <th>46</th>\n",
       "      <th>47</th>\n",
       "    </tr>\n",
       "  </thead>\n",
       "  <tbody>\n",
       "    <tr>\n",
       "      <th>0</th>\n",
       "      <td>0.362</td>\n",
       "      <td>0.064</td>\n",
       "      <td>0.119</td>\n",
       "      <td>0.023</td>\n",
       "      <td>0.14</td>\n",
       "      <td>0.036</td>\n",
       "      <td>0.108</td>\n",
       "      <td>0.083</td>\n",
       "      <td>0.056</td>\n",
       "      <td>0.129</td>\n",
       "      <td>0.015</td>\n",
       "      <td>0.132</td>\n",
       "      <td>0.054</td>\n",
       "      <td>0.082</td>\n",
       "      <td>0.103</td>\n",
       "      <td>0.028</td>\n",
       "      <td>0.136</td>\n",
       "      <td>0.051</td>\n",
       "      <td>0.333</td>\n",
       "      <td>0.384</td>\n",
       "      <td>0.066</td>\n",
       "      <td>0.138</td>\n",
       "      <td>0.077</td>\n",
       "      <td>0.063</td>\n",
       "      <td>0.15</td>\n",
       "      <td>0.084</td>\n",
       "      <td>0.202</td>\n",
       "      <td>0.108</td>\n",
       "      <td>0.239</td>\n",
       "      <td>0.178</td>\n",
       "      <td>0.051</td>\n",
       "      <td>0.135</td>\n",
       "      <td>0.017</td>\n",
       "      <td>0.116</td>\n",
       "      <td>0.063</td>\n",
       "      <td>0.068</td>\n",
       "      <td>0.118</td>\n",
       "      <td>0.014</td>\n",
       "      <td>0.132</td>\n",
       "      <td>0.053</td>\n",
       "      <td>0.078</td>\n",
       "      <td>0.126</td>\n",
       "      <td>0.128</td>\n",
       "      <td>0.247</td>\n",
       "      <td>0.249</td>\n",
       "      <td>0.305</td>\n",
       "      <td>0.403</td>\n",
       "      <td>0.309</td>\n",
       "    </tr>\n",
       "  </tbody>\n",
       "</table>\n",
       "</div>"
      ],
      "text/plain": [
       "      0      1      2      3     4      5      6      7      8      9      10     11     12     13     14     15     16     17     18     19     20     21     22     23    24     25     26     27     28     29     30     31     32     33     34     35     36     37     38     39     40     41     42     43     44     45     46     47\n",
       "0  0.362  0.064  0.119  0.023  0.14  0.036  0.108  0.083  0.056  0.129  0.015  0.132  0.054  0.082  0.103  0.028  0.136  0.051  0.333  0.384  0.066  0.138  0.077  0.063  0.15  0.084  0.202  0.108  0.239  0.178  0.051  0.135  0.017  0.116  0.063  0.068  0.118  0.014  0.132  0.053  0.078  0.126  0.128  0.247  0.249  0.305  0.403  0.309"
      ]
     },
     "metadata": {},
     "output_type": "display_data"
    },
    {
     "data": {
      "text/html": [
       "<div>\n",
       "<style scoped>\n",
       "    .dataframe tbody tr th:only-of-type {\n",
       "        vertical-align: middle;\n",
       "    }\n",
       "\n",
       "    .dataframe tbody tr th {\n",
       "        vertical-align: top;\n",
       "    }\n",
       "\n",
       "    .dataframe thead th {\n",
       "        text-align: right;\n",
       "    }\n",
       "</style>\n",
       "<table border=\"1\" class=\"dataframe\">\n",
       "  <thead>\n",
       "    <tr style=\"text-align: right;\">\n",
       "      <th></th>\n",
       "      <th>MeterID</th>\n",
       "      <th>Day</th>\n",
       "      <th>FDI</th>\n",
       "      <th>overnight</th>\n",
       "      <th>breakfast</th>\n",
       "      <th>daytime</th>\n",
       "      <th>evening</th>\n",
       "      <th>Tmax1</th>\n",
       "      <th>Tmax2</th>\n",
       "      <th>Tmin1</th>\n",
       "      <th>Cmax1</th>\n",
       "      <th>Cmax2</th>\n",
       "      <th>Cmin1</th>\n",
       "      <th>mic</th>\n",
       "      <th>meter_dtw_eu</th>\n",
       "      <th>meter_sdtw_eu</th>\n",
       "      <th>meter_dtw_sdtw</th>\n",
       "      <th>meter_sdtw_sdtw</th>\n",
       "      <th>0</th>\n",
       "      <th>1</th>\n",
       "      <th>2</th>\n",
       "      <th>3</th>\n",
       "      <th>4</th>\n",
       "      <th>5</th>\n",
       "      <th>6</th>\n",
       "      <th>7</th>\n",
       "      <th>8</th>\n",
       "      <th>9</th>\n",
       "      <th>10</th>\n",
       "      <th>11</th>\n",
       "      <th>12</th>\n",
       "      <th>13</th>\n",
       "      <th>14</th>\n",
       "      <th>15</th>\n",
       "      <th>16</th>\n",
       "      <th>17</th>\n",
       "      <th>18</th>\n",
       "      <th>19</th>\n",
       "      <th>20</th>\n",
       "      <th>21</th>\n",
       "      <th>22</th>\n",
       "      <th>23</th>\n",
       "      <th>24</th>\n",
       "      <th>25</th>\n",
       "      <th>26</th>\n",
       "      <th>27</th>\n",
       "      <th>28</th>\n",
       "      <th>29</th>\n",
       "      <th>30</th>\n",
       "      <th>31</th>\n",
       "      <th>32</th>\n",
       "      <th>33</th>\n",
       "      <th>34</th>\n",
       "      <th>35</th>\n",
       "      <th>36</th>\n",
       "      <th>37</th>\n",
       "      <th>38</th>\n",
       "      <th>39</th>\n",
       "      <th>40</th>\n",
       "      <th>41</th>\n",
       "      <th>42</th>\n",
       "      <th>43</th>\n",
       "      <th>44</th>\n",
       "      <th>45</th>\n",
       "      <th>46</th>\n",
       "      <th>47</th>\n",
       "    </tr>\n",
       "  </thead>\n",
       "  <tbody>\n",
       "    <tr>\n",
       "      <th>0</th>\n",
       "      <td>1002</td>\n",
       "      <td>2009-07-15</td>\n",
       "      <td>False</td>\n",
       "      <td>0.152176</td>\n",
       "      <td>0.08725</td>\n",
       "      <td>0.151714</td>\n",
       "      <td>0.099615</td>\n",
       "      <td>19</td>\n",
       "      <td>46</td>\n",
       "      <td>37</td>\n",
       "      <td>0.026737</td>\n",
       "      <td>0.02806</td>\n",
       "      <td>0.000975</td>\n",
       "      <td>0.604958</td>\n",
       "      <td>1.656341</td>\n",
       "      <td>-66.713528</td>\n",
       "      <td>1.983855</td>\n",
       "      <td>-69.851348</td>\n",
       "      <td>0.362</td>\n",
       "      <td>0.064</td>\n",
       "      <td>0.119</td>\n",
       "      <td>0.023</td>\n",
       "      <td>0.14</td>\n",
       "      <td>0.036</td>\n",
       "      <td>0.108</td>\n",
       "      <td>0.083</td>\n",
       "      <td>0.056</td>\n",
       "      <td>0.129</td>\n",
       "      <td>0.015</td>\n",
       "      <td>0.132</td>\n",
       "      <td>0.054</td>\n",
       "      <td>0.082</td>\n",
       "      <td>0.103</td>\n",
       "      <td>0.028</td>\n",
       "      <td>0.136</td>\n",
       "      <td>0.051</td>\n",
       "      <td>0.333</td>\n",
       "      <td>0.384</td>\n",
       "      <td>0.066</td>\n",
       "      <td>0.138</td>\n",
       "      <td>0.077</td>\n",
       "      <td>0.063</td>\n",
       "      <td>0.15</td>\n",
       "      <td>0.084</td>\n",
       "      <td>0.202</td>\n",
       "      <td>0.108</td>\n",
       "      <td>0.239</td>\n",
       "      <td>0.178</td>\n",
       "      <td>0.051</td>\n",
       "      <td>0.135</td>\n",
       "      <td>0.017</td>\n",
       "      <td>0.116</td>\n",
       "      <td>0.063</td>\n",
       "      <td>0.068</td>\n",
       "      <td>0.118</td>\n",
       "      <td>0.014</td>\n",
       "      <td>0.132</td>\n",
       "      <td>0.053</td>\n",
       "      <td>0.078</td>\n",
       "      <td>0.126</td>\n",
       "      <td>0.128</td>\n",
       "      <td>0.247</td>\n",
       "      <td>0.249</td>\n",
       "      <td>0.305</td>\n",
       "      <td>0.403</td>\n",
       "      <td>0.309</td>\n",
       "    </tr>\n",
       "  </tbody>\n",
       "</table>\n",
       "</div>"
      ],
      "text/plain": [
       "   MeterID         Day    FDI  overnight  breakfast   daytime   evening  Tmax1  Tmax2  Tmin1     Cmax1    Cmax2     Cmin1       mic  meter_dtw_eu  meter_sdtw_eu  meter_dtw_sdtw  meter_sdtw_sdtw      0      1      2      3     4      5      6      7      8      9     10     11     12     13     14     15     16     17     18     19     20     21     22     23    24     25     26     27     28     29     30     31     32     33     34     35     36     37     38     39     40     41     42     43     44     45     46     47\n",
       "0     1002  2009-07-15  False   0.152176    0.08725  0.151714  0.099615     19     46     37  0.026737  0.02806  0.000975  0.604958      1.656341     -66.713528        1.983855       -69.851348  0.362  0.064  0.119  0.023  0.14  0.036  0.108  0.083  0.056  0.129  0.015  0.132  0.054  0.082  0.103  0.028  0.136  0.051  0.333  0.384  0.066  0.138  0.077  0.063  0.15  0.084  0.202  0.108  0.239  0.178  0.051  0.135  0.017  0.116  0.063  0.068  0.118  0.014  0.132  0.053  0.078  0.126  0.128  0.247  0.249  0.305  0.403  0.309"
      ]
     },
     "metadata": {},
     "output_type": "display_data"
    }
   ],
   "source": [
    "training_data = concat_two_df_and_drop_same_column_in_df2(training_data, smart_meter_df)"
   ]
  },
  {
   "cell_type": "code",
   "execution_count": 10,
   "id": "30fee6bb",
   "metadata": {
    "Collapsed": "false"
   },
   "outputs": [
    {
     "data": {
      "text/plain": [
       "Index(['MeterID', 'Day', 'FDI', 'overnight', 'breakfast', 'daytime', 'evening', 'Tmax1', 'Tmax2', 'Tmin1', 'Cmax1', 'Cmax2', 'Cmin1', 'mic', 'meter_dtw_eu', 'meter_sdtw_eu', 'meter_dtw_sdtw', 'meter_sdtw_sdtw', 0, 1, 2, 3, 4, 5, 6, 7, 8, 9, 10, 11, 12, 13, 14, 15, 16, 17, 18, 19, 20, 21, 22, 23, 24, 25, 26, 27, 28, 29, 30, 31, 32, 33, 34, 35, 36, 37, 38, 39, 40, 41, 42, 43, 44, 45, 46, 47], dtype='object')"
      ]
     },
     "execution_count": 10,
     "metadata": {},
     "output_type": "execute_result"
    }
   ],
   "source": [
    "training_data.columns"
   ]
  },
  {
   "cell_type": "code",
   "execution_count": 11,
   "id": "bf9e21be",
   "metadata": {
    "Collapsed": "false"
   },
   "outputs": [
    {
     "data": {
      "text/plain": [
       "Counter({False: 2127950, True: 111300})"
      ]
     },
     "execution_count": 11,
     "metadata": {},
     "output_type": "execute_result"
    }
   ],
   "source": [
    "Counter(training_data['FDI'])"
   ]
  },
  {
   "cell_type": "markdown",
   "id": "01f97fd5",
   "metadata": {
    "Collapsed": "false"
   },
   "source": [
    "## classifier"
   ]
  },
  {
   "cell_type": "code",
   "execution_count": 12,
   "id": "f607280c",
   "metadata": {
    "Collapsed": "false"
   },
   "outputs": [],
   "source": [
    "xgboost = XGBClassifier(scale_pos_weight=1, use_label_encoder=False, n_jobs=6, verbosity=0)\n",
    "adaboost = AdaBoostClassifier()\n",
    "lineSVM = LinearSVC(max_iter=100, C=50) # kernel = rbf\n",
    "randforest = RandomForestClassifier(n_jobs=6)\n",
    "complementNB = ComplementNB()\n",
    "DT = DecisionTreeClassifier()\n",
    "kNN = KNeighborsClassifier(n_neighbors=2, n_jobs=1)"
   ]
  },
  {
   "cell_type": "code",
   "execution_count": 13,
   "id": "52c52cf0",
   "metadata": {
    "Collapsed": "false"
   },
   "outputs": [],
   "source": [
    "x_col = ['overnight', 'breakfast', 'daytime', 'evening', 'Tmax1', 'Tmax2', 'Tmin1', 'Cmax1', 'Cmax2', 'Cmin1', 'mic', 'meter_dtw_eu', 'meter_sdtw_eu', 'meter_dtw_sdtw', 'meter_sdtw_sdtw']\n",
    "y_col = ['FDI']\n",
    "training_sample = training_data.iloc[:422*3*530]"
   ]
  },
  {
   "cell_type": "code",
   "execution_count": 14,
   "id": "fd3f9128",
   "metadata": {
    "Collapsed": "false"
   },
   "outputs": [
    {
     "data": {
      "text/plain": [
       "Index(['MeterID', 'Day', 'FDI', 'overnight', 'breakfast', 'daytime', 'evening', 'Tmax1', 'Tmax2', 'Tmin1', 'Cmax1', 'Cmax2', 'Cmin1', 'mic', 'meter_dtw_eu', 'meter_sdtw_eu', 'meter_dtw_sdtw', 'meter_sdtw_sdtw', 0, 1, 2, 3, 4, 5, 6, 7, 8, 9, 10, 11, 12, 13, 14, 15, 16, 17, 18, 19, 20, 21, 22, 23, 24, 25, 26, 27, 28, 29, 30, 31, 32, 33, 34, 35, 36, 37, 38, 39, 40, 41, 42, 43, 44, 45, 46, 47], dtype='object')"
      ]
     },
     "execution_count": 14,
     "metadata": {},
     "output_type": "execute_result"
    }
   ],
   "source": [
    "training_data.columns"
   ]
  },
  {
   "cell_type": "markdown",
   "id": "071dbf7a",
   "metadata": {
    "Collapsed": "true"
   },
   "source": [
    "## XGBoost"
   ]
  },
  {
   "cell_type": "markdown",
   "id": "4049566f",
   "metadata": {
    "Collapsed": "true"
   },
   "source": [
    "#### xgboost all features include origin data"
   ]
  },
  {
   "cell_type": "code",
   "execution_count": 32,
   "id": "cd756fc3",
   "metadata": {
    "Collapsed": "false"
   },
   "outputs": [
    {
     "data": {
      "text/plain": [
       "(2239250, 66)"
      ]
     },
     "execution_count": 32,
     "metadata": {},
     "output_type": "execute_result"
    }
   ],
   "source": [
    "training_data.shape"
   ]
  },
  {
   "cell_type": "code",
   "execution_count": 37,
   "id": "344d0557",
   "metadata": {
    "Collapsed": "false"
   },
   "outputs": [
    {
     "data": {
      "text/html": [
       "<div>\n",
       "<style scoped>\n",
       "    .dataframe tbody tr th:only-of-type {\n",
       "        vertical-align: middle;\n",
       "    }\n",
       "\n",
       "    .dataframe tbody tr th {\n",
       "        vertical-align: top;\n",
       "    }\n",
       "\n",
       "    .dataframe thead th {\n",
       "        text-align: right;\n",
       "    }\n",
       "</style>\n",
       "<table border=\"1\" class=\"dataframe\">\n",
       "  <thead>\n",
       "    <tr style=\"text-align: right;\">\n",
       "      <th></th>\n",
       "      <th>MeterID</th>\n",
       "      <th>Day</th>\n",
       "      <th>FDI</th>\n",
       "      <th>overnight</th>\n",
       "      <th>breakfast</th>\n",
       "      <th>daytime</th>\n",
       "      <th>evening</th>\n",
       "      <th>Tmax1</th>\n",
       "      <th>Tmax2</th>\n",
       "      <th>Tmin1</th>\n",
       "      <th>Cmax1</th>\n",
       "      <th>Cmax2</th>\n",
       "      <th>Cmin1</th>\n",
       "      <th>mic</th>\n",
       "      <th>meter_dtw_eu</th>\n",
       "      <th>meter_sdtw_eu</th>\n",
       "      <th>meter_dtw_sdtw</th>\n",
       "      <th>meter_sdtw_sdtw</th>\n",
       "      <th>0</th>\n",
       "      <th>1</th>\n",
       "      <th>2</th>\n",
       "      <th>3</th>\n",
       "      <th>4</th>\n",
       "      <th>5</th>\n",
       "      <th>6</th>\n",
       "      <th>7</th>\n",
       "      <th>8</th>\n",
       "      <th>9</th>\n",
       "      <th>10</th>\n",
       "      <th>11</th>\n",
       "      <th>12</th>\n",
       "      <th>13</th>\n",
       "      <th>14</th>\n",
       "      <th>15</th>\n",
       "      <th>16</th>\n",
       "      <th>17</th>\n",
       "      <th>18</th>\n",
       "      <th>19</th>\n",
       "      <th>20</th>\n",
       "      <th>21</th>\n",
       "      <th>22</th>\n",
       "      <th>23</th>\n",
       "      <th>24</th>\n",
       "      <th>25</th>\n",
       "      <th>26</th>\n",
       "      <th>27</th>\n",
       "      <th>28</th>\n",
       "      <th>29</th>\n",
       "      <th>30</th>\n",
       "      <th>31</th>\n",
       "      <th>32</th>\n",
       "      <th>33</th>\n",
       "      <th>34</th>\n",
       "      <th>35</th>\n",
       "      <th>36</th>\n",
       "      <th>37</th>\n",
       "      <th>38</th>\n",
       "      <th>39</th>\n",
       "      <th>40</th>\n",
       "      <th>41</th>\n",
       "      <th>42</th>\n",
       "      <th>43</th>\n",
       "      <th>44</th>\n",
       "      <th>45</th>\n",
       "      <th>46</th>\n",
       "      <th>47</th>\n",
       "    </tr>\n",
       "  </thead>\n",
       "  <tbody>\n",
       "    <tr>\n",
       "      <th>0</th>\n",
       "      <td>1002</td>\n",
       "      <td>2009-07-15</td>\n",
       "      <td>False</td>\n",
       "      <td>0.152176</td>\n",
       "      <td>0.08725</td>\n",
       "      <td>0.151714</td>\n",
       "      <td>0.099615</td>\n",
       "      <td>19</td>\n",
       "      <td>46</td>\n",
       "      <td>37</td>\n",
       "      <td>0.026737</td>\n",
       "      <td>0.028060</td>\n",
       "      <td>0.000975</td>\n",
       "      <td>0.604958</td>\n",
       "      <td>1.656341</td>\n",
       "      <td>-66.713528</td>\n",
       "      <td>1.983855</td>\n",
       "      <td>-69.851348</td>\n",
       "      <td>0.362</td>\n",
       "      <td>0.064</td>\n",
       "      <td>0.119</td>\n",
       "      <td>0.023</td>\n",
       "      <td>0.140</td>\n",
       "      <td>0.036</td>\n",
       "      <td>0.108</td>\n",
       "      <td>0.083</td>\n",
       "      <td>0.056</td>\n",
       "      <td>0.129</td>\n",
       "      <td>0.015</td>\n",
       "      <td>0.132</td>\n",
       "      <td>0.054</td>\n",
       "      <td>0.082</td>\n",
       "      <td>0.103</td>\n",
       "      <td>0.028</td>\n",
       "      <td>0.136</td>\n",
       "      <td>0.051</td>\n",
       "      <td>0.333</td>\n",
       "      <td>0.384</td>\n",
       "      <td>0.066</td>\n",
       "      <td>0.138</td>\n",
       "      <td>0.077</td>\n",
       "      <td>0.063</td>\n",
       "      <td>0.150</td>\n",
       "      <td>0.084</td>\n",
       "      <td>0.202</td>\n",
       "      <td>0.108</td>\n",
       "      <td>0.239</td>\n",
       "      <td>0.178</td>\n",
       "      <td>0.051</td>\n",
       "      <td>0.135</td>\n",
       "      <td>0.017</td>\n",
       "      <td>0.116</td>\n",
       "      <td>0.063</td>\n",
       "      <td>0.068</td>\n",
       "      <td>0.118</td>\n",
       "      <td>0.014</td>\n",
       "      <td>0.132</td>\n",
       "      <td>0.053</td>\n",
       "      <td>0.078</td>\n",
       "      <td>0.126</td>\n",
       "      <td>0.128</td>\n",
       "      <td>0.247</td>\n",
       "      <td>0.249</td>\n",
       "      <td>0.305</td>\n",
       "      <td>0.403</td>\n",
       "      <td>0.309</td>\n",
       "    </tr>\n",
       "    <tr>\n",
       "      <th>1</th>\n",
       "      <td>1002</td>\n",
       "      <td>2009-07-16</td>\n",
       "      <td>False</td>\n",
       "      <td>0.154059</td>\n",
       "      <td>0.06725</td>\n",
       "      <td>0.293143</td>\n",
       "      <td>0.209538</td>\n",
       "      <td>19</td>\n",
       "      <td>35</td>\n",
       "      <td>21</td>\n",
       "      <td>0.065311</td>\n",
       "      <td>0.021794</td>\n",
       "      <td>0.007450</td>\n",
       "      <td>0.722518</td>\n",
       "      <td>1.894607</td>\n",
       "      <td>-68.912719</td>\n",
       "      <td>2.297941</td>\n",
       "      <td>-70.646866</td>\n",
       "      <td>0.409</td>\n",
       "      <td>0.072</td>\n",
       "      <td>0.075</td>\n",
       "      <td>0.109</td>\n",
       "      <td>0.016</td>\n",
       "      <td>0.141</td>\n",
       "      <td>0.030</td>\n",
       "      <td>0.103</td>\n",
       "      <td>0.074</td>\n",
       "      <td>0.060</td>\n",
       "      <td>0.130</td>\n",
       "      <td>0.015</td>\n",
       "      <td>0.119</td>\n",
       "      <td>0.067</td>\n",
       "      <td>0.057</td>\n",
       "      <td>0.130</td>\n",
       "      <td>0.015</td>\n",
       "      <td>0.209</td>\n",
       "      <td>0.434</td>\n",
       "      <td>0.938</td>\n",
       "      <td>0.264</td>\n",
       "      <td>0.107</td>\n",
       "      <td>0.199</td>\n",
       "      <td>0.145</td>\n",
       "      <td>0.304</td>\n",
       "      <td>0.223</td>\n",
       "      <td>0.287</td>\n",
       "      <td>0.294</td>\n",
       "      <td>0.198</td>\n",
       "      <td>0.305</td>\n",
       "      <td>0.197</td>\n",
       "      <td>0.287</td>\n",
       "      <td>0.252</td>\n",
       "      <td>0.236</td>\n",
       "      <td>0.233</td>\n",
       "      <td>0.313</td>\n",
       "      <td>0.153</td>\n",
       "      <td>0.138</td>\n",
       "      <td>0.191</td>\n",
       "      <td>0.091</td>\n",
       "      <td>0.215</td>\n",
       "      <td>0.182</td>\n",
       "      <td>0.207</td>\n",
       "      <td>0.226</td>\n",
       "      <td>0.092</td>\n",
       "      <td>0.184</td>\n",
       "      <td>0.067</td>\n",
       "      <td>0.179</td>\n",
       "    </tr>\n",
       "    <tr>\n",
       "      <th>2</th>\n",
       "      <td>1002</td>\n",
       "      <td>2009-07-17</td>\n",
       "      <td>False</td>\n",
       "      <td>0.119647</td>\n",
       "      <td>0.09575</td>\n",
       "      <td>0.304214</td>\n",
       "      <td>0.162692</td>\n",
       "      <td>20</td>\n",
       "      <td>30</td>\n",
       "      <td>26</td>\n",
       "      <td>0.066147</td>\n",
       "      <td>0.033839</td>\n",
       "      <td>0.006058</td>\n",
       "      <td>0.662717</td>\n",
       "      <td>1.915961</td>\n",
       "      <td>-67.859950</td>\n",
       "      <td>2.330373</td>\n",
       "      <td>-69.688795</td>\n",
       "      <td>0.283</td>\n",
       "      <td>0.343</td>\n",
       "      <td>0.080</td>\n",
       "      <td>0.067</td>\n",
       "      <td>0.130</td>\n",
       "      <td>0.017</td>\n",
       "      <td>0.139</td>\n",
       "      <td>0.052</td>\n",
       "      <td>0.094</td>\n",
       "      <td>0.099</td>\n",
       "      <td>0.042</td>\n",
       "      <td>0.141</td>\n",
       "      <td>0.025</td>\n",
       "      <td>0.115</td>\n",
       "      <td>0.076</td>\n",
       "      <td>0.061</td>\n",
       "      <td>0.131</td>\n",
       "      <td>0.067</td>\n",
       "      <td>0.300</td>\n",
       "      <td>0.512</td>\n",
       "      <td>0.950</td>\n",
       "      <td>0.636</td>\n",
       "      <td>0.315</td>\n",
       "      <td>0.105</td>\n",
       "      <td>0.110</td>\n",
       "      <td>0.201</td>\n",
       "      <td>0.087</td>\n",
       "      <td>0.201</td>\n",
       "      <td>0.127</td>\n",
       "      <td>0.162</td>\n",
       "      <td>0.486</td>\n",
       "      <td>0.096</td>\n",
       "      <td>0.214</td>\n",
       "      <td>0.110</td>\n",
       "      <td>0.178</td>\n",
       "      <td>0.152</td>\n",
       "      <td>0.138</td>\n",
       "      <td>0.121</td>\n",
       "      <td>0.096</td>\n",
       "      <td>0.208</td>\n",
       "      <td>0.098</td>\n",
       "      <td>0.170</td>\n",
       "      <td>0.258</td>\n",
       "      <td>0.276</td>\n",
       "      <td>0.171</td>\n",
       "      <td>0.074</td>\n",
       "      <td>0.197</td>\n",
       "      <td>0.083</td>\n",
       "    </tr>\n",
       "    <tr>\n",
       "      <th>3</th>\n",
       "      <td>1002</td>\n",
       "      <td>2009-07-18</td>\n",
       "      <td>False</td>\n",
       "      <td>0.134588</td>\n",
       "      <td>0.21375</td>\n",
       "      <td>0.194429</td>\n",
       "      <td>0.189615</td>\n",
       "      <td>16</td>\n",
       "      <td>37</td>\n",
       "      <td>23</td>\n",
       "      <td>0.040524</td>\n",
       "      <td>0.024648</td>\n",
       "      <td>0.002019</td>\n",
       "      <td>0.631590</td>\n",
       "      <td>2.070341</td>\n",
       "      <td>-68.254153</td>\n",
       "      <td>2.382700</td>\n",
       "      <td>-70.707523</td>\n",
       "      <td>0.306</td>\n",
       "      <td>0.461</td>\n",
       "      <td>0.144</td>\n",
       "      <td>0.140</td>\n",
       "      <td>0.031</td>\n",
       "      <td>0.116</td>\n",
       "      <td>0.074</td>\n",
       "      <td>0.071</td>\n",
       "      <td>0.119</td>\n",
       "      <td>0.019</td>\n",
       "      <td>0.143</td>\n",
       "      <td>0.046</td>\n",
       "      <td>0.093</td>\n",
       "      <td>0.096</td>\n",
       "      <td>0.038</td>\n",
       "      <td>0.139</td>\n",
       "      <td>0.582</td>\n",
       "      <td>0.384</td>\n",
       "      <td>0.260</td>\n",
       "      <td>0.239</td>\n",
       "      <td>0.275</td>\n",
       "      <td>0.203</td>\n",
       "      <td>0.309</td>\n",
       "      <td>0.029</td>\n",
       "      <td>0.154</td>\n",
       "      <td>0.124</td>\n",
       "      <td>0.167</td>\n",
       "      <td>0.141</td>\n",
       "      <td>0.142</td>\n",
       "      <td>0.180</td>\n",
       "      <td>0.115</td>\n",
       "      <td>0.155</td>\n",
       "      <td>0.348</td>\n",
       "      <td>0.216</td>\n",
       "      <td>0.101</td>\n",
       "      <td>0.206</td>\n",
       "      <td>0.128</td>\n",
       "      <td>0.354</td>\n",
       "      <td>0.179</td>\n",
       "      <td>0.107</td>\n",
       "      <td>0.209</td>\n",
       "      <td>0.107</td>\n",
       "      <td>0.187</td>\n",
       "      <td>0.168</td>\n",
       "      <td>0.117</td>\n",
       "      <td>0.142</td>\n",
       "      <td>0.076</td>\n",
       "      <td>0.166</td>\n",
       "    </tr>\n",
       "    <tr>\n",
       "      <th>4</th>\n",
       "      <td>1002</td>\n",
       "      <td>2009-07-19</td>\n",
       "      <td>False</td>\n",
       "      <td>0.166353</td>\n",
       "      <td>0.09425</td>\n",
       "      <td>0.215357</td>\n",
       "      <td>0.222154</td>\n",
       "      <td>21</td>\n",
       "      <td>30</td>\n",
       "      <td>24</td>\n",
       "      <td>0.042195</td>\n",
       "      <td>0.042334</td>\n",
       "      <td>0.006197</td>\n",
       "      <td>0.830381</td>\n",
       "      <td>1.556185</td>\n",
       "      <td>-70.266595</td>\n",
       "      <td>2.022757</td>\n",
       "      <td>-71.856831</td>\n",
       "      <td>0.054</td>\n",
       "      <td>0.464</td>\n",
       "      <td>0.488</td>\n",
       "      <td>0.406</td>\n",
       "      <td>0.307</td>\n",
       "      <td>0.024</td>\n",
       "      <td>0.143</td>\n",
       "      <td>0.041</td>\n",
       "      <td>0.107</td>\n",
       "      <td>0.086</td>\n",
       "      <td>0.059</td>\n",
       "      <td>0.132</td>\n",
       "      <td>0.016</td>\n",
       "      <td>0.130</td>\n",
       "      <td>0.059</td>\n",
       "      <td>0.081</td>\n",
       "      <td>0.107</td>\n",
       "      <td>0.025</td>\n",
       "      <td>0.140</td>\n",
       "      <td>0.038</td>\n",
       "      <td>0.094</td>\n",
       "      <td>0.606</td>\n",
       "      <td>0.490</td>\n",
       "      <td>0.165</td>\n",
       "      <td>0.089</td>\n",
       "      <td>0.212</td>\n",
       "      <td>0.122</td>\n",
       "      <td>0.154</td>\n",
       "      <td>0.173</td>\n",
       "      <td>0.099</td>\n",
       "      <td>0.608</td>\n",
       "      <td>0.275</td>\n",
       "      <td>0.245</td>\n",
       "      <td>0.215</td>\n",
       "      <td>0.267</td>\n",
       "      <td>0.174</td>\n",
       "      <td>0.291</td>\n",
       "      <td>0.139</td>\n",
       "      <td>0.187</td>\n",
       "      <td>0.143</td>\n",
       "      <td>0.154</td>\n",
       "      <td>0.273</td>\n",
       "      <td>0.259</td>\n",
       "      <td>0.266</td>\n",
       "      <td>0.362</td>\n",
       "      <td>0.399</td>\n",
       "      <td>0.327</td>\n",
       "      <td>0.424</td>\n",
       "    </tr>\n",
       "  </tbody>\n",
       "</table>\n",
       "</div>"
      ],
      "text/plain": [
       "   MeterID         Day    FDI  overnight  breakfast   daytime   evening  Tmax1  Tmax2  Tmin1     Cmax1     Cmax2     Cmin1       mic  meter_dtw_eu  meter_sdtw_eu  meter_dtw_sdtw  meter_sdtw_sdtw      0      1      2      3      4      5      6      7      8      9     10     11     12     13     14     15     16     17     18     19     20     21     22     23     24     25     26     27     28     29     30     31     32     33     34     35     36     37     38     39     40     41     42     43     44     45     46     47\n",
       "0     1002  2009-07-15  False   0.152176    0.08725  0.151714  0.099615     19     46     37  0.026737  0.028060  0.000975  0.604958      1.656341     -66.713528        1.983855       -69.851348  0.362  0.064  0.119  0.023  0.140  0.036  0.108  0.083  0.056  0.129  0.015  0.132  0.054  0.082  0.103  0.028  0.136  0.051  0.333  0.384  0.066  0.138  0.077  0.063  0.150  0.084  0.202  0.108  0.239  0.178  0.051  0.135  0.017  0.116  0.063  0.068  0.118  0.014  0.132  0.053  0.078  0.126  0.128  0.247  0.249  0.305  0.403  0.309\n",
       "1     1002  2009-07-16  False   0.154059    0.06725  0.293143  0.209538     19     35     21  0.065311  0.021794  0.007450  0.722518      1.894607     -68.912719        2.297941       -70.646866  0.409  0.072  0.075  0.109  0.016  0.141  0.030  0.103  0.074  0.060  0.130  0.015  0.119  0.067  0.057  0.130  0.015  0.209  0.434  0.938  0.264  0.107  0.199  0.145  0.304  0.223  0.287  0.294  0.198  0.305  0.197  0.287  0.252  0.236  0.233  0.313  0.153  0.138  0.191  0.091  0.215  0.182  0.207  0.226  0.092  0.184  0.067  0.179\n",
       "2     1002  2009-07-17  False   0.119647    0.09575  0.304214  0.162692     20     30     26  0.066147  0.033839  0.006058  0.662717      1.915961     -67.859950        2.330373       -69.688795  0.283  0.343  0.080  0.067  0.130  0.017  0.139  0.052  0.094  0.099  0.042  0.141  0.025  0.115  0.076  0.061  0.131  0.067  0.300  0.512  0.950  0.636  0.315  0.105  0.110  0.201  0.087  0.201  0.127  0.162  0.486  0.096  0.214  0.110  0.178  0.152  0.138  0.121  0.096  0.208  0.098  0.170  0.258  0.276  0.171  0.074  0.197  0.083\n",
       "3     1002  2009-07-18  False   0.134588    0.21375  0.194429  0.189615     16     37     23  0.040524  0.024648  0.002019  0.631590      2.070341     -68.254153        2.382700       -70.707523  0.306  0.461  0.144  0.140  0.031  0.116  0.074  0.071  0.119  0.019  0.143  0.046  0.093  0.096  0.038  0.139  0.582  0.384  0.260  0.239  0.275  0.203  0.309  0.029  0.154  0.124  0.167  0.141  0.142  0.180  0.115  0.155  0.348  0.216  0.101  0.206  0.128  0.354  0.179  0.107  0.209  0.107  0.187  0.168  0.117  0.142  0.076  0.166\n",
       "4     1002  2009-07-19  False   0.166353    0.09425  0.215357  0.222154     21     30     24  0.042195  0.042334  0.006197  0.830381      1.556185     -70.266595        2.022757       -71.856831  0.054  0.464  0.488  0.406  0.307  0.024  0.143  0.041  0.107  0.086  0.059  0.132  0.016  0.130  0.059  0.081  0.107  0.025  0.140  0.038  0.094  0.606  0.490  0.165  0.089  0.212  0.122  0.154  0.173  0.099  0.608  0.275  0.245  0.215  0.267  0.174  0.291  0.139  0.187  0.143  0.154  0.273  0.259  0.266  0.362  0.399  0.327  0.424"
      ]
     },
     "execution_count": 37,
     "metadata": {},
     "output_type": "execute_result"
    }
   ],
   "source": [
    "training_data.head()"
   ]
  },
  {
   "cell_type": "code",
   "execution_count": 38,
   "id": "0615a93f",
   "metadata": {
    "Collapsed": "false"
   },
   "outputs": [
    {
     "name": "stdout",
     "output_type": "stream",
     "text": [
      "\n",
      " Time taken: 0 hours 3 minutes and 22.83 seconds.\n",
      "\n",
      " Time taken: 0 hours 3 minutes and 18.37 seconds.\n",
      "\n",
      " Time taken: 0 hours 3 minutes and 6.85 seconds.\n",
      "average_precision_score: 0.9291145309002503\n",
      "average_recall_score: 0.5056903264450434\n",
      "average_accuracy_score: 0.9735134531651223\n",
      "average_roc_auc_score: 0.7518363675897922\n",
      "average_f1_score: 0.6549115339164248\n"
     ]
    }
   ],
   "source": [
    "# only origin \n",
    "# no dtw sdtw\n",
    "x_col = [0, 1, 2, 3, 4, 5, 6, 7, 8, 9, 10, 11, 12, 13, 14, 15, 16, 17, 18, 19, 20, 21, 22, 23, 24, 25, 26, 27, 28, 29, 30, 31, 32, 33, 34, 35, 36, 37, 38, 39, 40, 41, 42, 43, 44, 45, 46, 47]\n",
    "model, score = train_single_model(xgboost, training_data, x_col, y_col, split_num = 3, return_model=True)"
   ]
  },
  {
   "cell_type": "code",
   "execution_count": 39,
   "id": "91f35e97",
   "metadata": {
    "Collapsed": "false"
   },
   "outputs": [
    {
     "name": "stdout",
     "output_type": "stream",
     "text": [
      "\n",
      " Time taken: 0 hours 3 minutes and 58.29 seconds.\n",
      "\n",
      " Time taken: 0 hours 4 minutes and 18.14 seconds.\n",
      "\n",
      " Time taken: 0 hours 4 minutes and 15.12 seconds.\n",
      "average_precision_score: 0.9441207873161588\n",
      "average_recall_score: 0.5662274133972248\n",
      "average_accuracy_score: 0.9767739694590203\n",
      "average_roc_auc_score: 0.7822372763313575\n",
      "average_f1_score: 0.7078874928713406\n"
     ]
    }
   ],
   "source": [
    "# origin and featrue with no dtw sdtw\n",
    "x_col = ['overnight', 'breakfast', 'daytime', 'evening', 'Tmax1', 'Tmax2', 'Tmin1', 'Cmax1', 'Cmax2', 'Cmin1', 'mic', 'meter_dtw_eu', 'meter_sdtw_eu', 0, 1, 2, 3, 4, 5, 6, 7, 8, 9, 10, 11, 12, 13, 14, 15, 16, 17, 18, 19, 20, 21, 22, 23, 24, 25, 26, 27, 28, 29, 30, 31, 32, 33, 34, 35, 36, 37, 38, 39, 40, 41, 42, 43, 44, 45, 46, 47]\n",
    "model, score = train_single_model(xgboost, training_data, x_col, y_col, split_num = 3, return_model=True)"
   ]
  },
  {
   "cell_type": "code",
   "execution_count": 46,
   "id": "4de0bd06",
   "metadata": {
    "Collapsed": "false"
   },
   "outputs": [
    {
     "name": "stdout",
     "output_type": "stream",
     "text": [
      "\n",
      " Time taken: 0 hours 5 minutes and 16.51 seconds.\n",
      "\n",
      " Time taken: 0 hours 4 minutes and 30.86 seconds.\n",
      "\n",
      " Time taken: 0 hours 5 minutes and 25.26 seconds.\n",
      "average_precision_score: 0.9390081674378257\n",
      "average_recall_score: 0.5467006089647599\n",
      "average_accuracy_score: 0.9757041668217284\n",
      "average_roc_auc_score: 0.7724216590202633\n",
      "average_f1_score: 0.6910586688050041\n"
     ]
    }
   ],
   "source": [
    "# origin and featrue with no no dtw sdtw and cmax\n",
    "x_col = ['overnight', 'breakfast', 'daytime', 'evening', 'Tmax1', 'Tmax2', 'Tmin1', 'mic', 'meter_dtw_eu', 'meter_sdtw_eu', 0, 1, 2, 3, 4, 5, 6, 7, 8, 9, 10, 11, 12, 13, 14, 15, 16, 17, 18, 19, 20, 21, 22, 23, 24, 25, 26, 27, 28, 29, 30, 31, 32, 33, 34, 35, 36, 37, 38, 39, 40, 41, 42, 43, 44, 45, 46, 47]\n",
    "model, score = train_single_model(xgboost, training_data, x_col, y_col, split_num = 3, return_model=True)"
   ]
  },
  {
   "cell_type": "code",
   "execution_count": 55,
   "id": "6159d3a4",
   "metadata": {
    "Collapsed": "false"
   },
   "outputs": [
    {
     "name": "stdout",
     "output_type": "stream",
     "text": [
      "\n",
      " Time taken: 0 hours 4 minutes and 36.93 seconds.\n",
      "\n",
      " Time taken: 0 hours 5 minutes and 2.61 seconds.\n",
      "\n",
      " Time taken: 0 hours 5 minutes and 42.03 seconds.\n",
      "average_precision_score: 0.9339160323460906\n",
      "average_recall_score: 0.5058700209643606\n",
      "average_accuracy_score: 0.9736603277387023\n",
      "average_roc_auc_score: 0.7519987938313087\n",
      "average_f1_score: 0.6562395327222353\n"
     ]
    }
   ],
   "source": [
    "# origin and four time\n",
    "x_col = ['overnight', 'breakfast', 'daytime', 'evening', 0, 1, 2, 3, 4, 5, 6, 7, 8, 9, 10, 11, 12, 13, 14, 15, 16, 17, 18, 19, 20, 21, 22, 23, 24, 25, 26, 27, 28, 29, 30, 31, 32, 33, 34, 35, 36, 37, 38, 39, 40, 41, 42, 43, 44, 45, 46, 47]\n",
    "model, score = train_single_model(xgboost, training_data, x_col, y_col, split_num = 3, return_model=True)"
   ]
  },
  {
   "cell_type": "code",
   "execution_count": 48,
   "id": "4e80ca56",
   "metadata": {
    "Collapsed": "false"
   },
   "outputs": [
    {
     "name": "stdout",
     "output_type": "stream",
     "text": [
      "\n",
      " Time taken: 0 hours 3 minutes and 55.55 seconds.\n",
      "\n",
      " Time taken: 0 hours 3 minutes and 45.51 seconds.\n",
      "\n",
      " Time taken: 0 hours 5 minutes and 4.3 seconds.\n",
      "average_precision_score: 0.9382426717189306\n",
      "average_recall_score: 0.5574722970949386\n",
      "average_accuracy_score: 0.9761810129879797\n",
      "average_roc_auc_score: 0.7777766961793842\n",
      "average_f1_score: 0.6993644517816743\n"
     ]
    }
   ],
   "source": [
    "# origin and vvalue\n",
    "x_col = ['Tmax1', 'Tmax2', 'Tmin1', 'Cmax1', 'Cmax2', 'Cmin1', 0, 1, 2, 3, 4, 5, 6, 7, 8, 9, 10, 11, 12, 13, 14, 15, 16, 17, 18, 19, 20, 21, 22, 23, 24, 25, 26, 27, 28, 29, 30, 31, 32, 33, 34, 35, 36, 37, 38, 39, 40, 41, 42, 43, 44, 45, 46, 47]\n",
    "model, score = train_single_model(xgboost, training_data, x_col, y_col, split_num = 3, return_model=True)"
   ]
  },
  {
   "cell_type": "code",
   "execution_count": 54,
   "id": "b8420a01",
   "metadata": {
    "Collapsed": "false"
   },
   "outputs": [
    {
     "name": "stdout",
     "output_type": "stream",
     "text": [
      "\n",
      " Time taken: 0 hours 3 minutes and 13.96 seconds.\n",
      "\n",
      " Time taken: 0 hours 3 minutes and 59.22 seconds.\n",
      "\n",
      " Time taken: 0 hours 4 minutes and 28.52 seconds.\n",
      "average_precision_score: 0.9279665661222798\n",
      "average_recall_score: 0.5062893081761006\n",
      "average_accuracy_score: 0.9735074987905176\n",
      "average_roc_auc_score: 0.7521170610211705\n",
      "average_f1_score: 0.6551272725439258\n"
     ]
    }
   ],
   "source": [
    "# origin and mic\n",
    "x_col = ['mic', 0, 1, 2, 3, 4, 5, 6, 7, 8, 9, 10, 11, 12, 13, 14, 15, 16, 17, 18, 19, 20, 21, 22, 23, 24, 25, 26, 27, 28, 29, 30, 31, 32, 33, 34, 35, 36, 37, 38, 39, 40, 41, 42, 43, 44, 45, 46, 47]\n",
    "model, score = train_single_model(xgboost, training_data, x_col, y_col, split_num = 3, return_model=True)"
   ]
  },
  {
   "cell_type": "code",
   "execution_count": 56,
   "id": "45edfb5c",
   "metadata": {
    "Collapsed": "false"
   },
   "outputs": [
    {
     "name": "stdout",
     "output_type": "stream",
     "text": [
      "\n",
      " Time taken: 0 hours 4 minutes and 36.28 seconds.\n",
      "\n",
      " Time taken: 0 hours 4 minutes and 50.0 seconds.\n",
      "\n",
      " Time taken: 0 hours 4 minutes and 36.29 seconds.\n",
      "average_precision_score: 0.9273053107855099\n",
      "average_recall_score: 0.5550863531995608\n",
      "average_accuracy_score: 0.9757230223413097\n",
      "average_roc_auc_score: 0.7764051486072682\n",
      "average_f1_score: 0.6944635296781025\n"
     ]
    }
   ],
   "source": [
    "# origin and featrue with eu\n",
    "x_col = ['meter_dtw_eu', 'meter_sdtw_eu', 0, 1, 2, 3, 4, 5, 6, 7, 8, 9, 10, 11, 12, 13, 14, 15, 16, 17, 18, 19, 20, 21, 22, 23, 24, 25, 26, 27, 28, 29, 30, 31, 32, 33, 34, 35, 36, 37, 38, 39, 40, 41, 42, 43, 44, 45, 46, 47]\n",
    "model, score = train_single_model(xgboost, training_data, x_col, y_col, split_num = 3, return_model=True)"
   ]
  },
  {
   "cell_type": "code",
   "execution_count": 51,
   "id": "835b7ebe",
   "metadata": {
    "Collapsed": "false"
   },
   "outputs": [
    {
     "name": "stdout",
     "output_type": "stream",
     "text": [
      "\n",
      " Time taken: 0 hours 3 minutes and 56.88 seconds.\n",
      "\n",
      " Time taken: 0 hours 4 minutes and 22.61 seconds.\n",
      "\n",
      " Time taken: 0 hours 4 minutes and 2.36 seconds.\n",
      "average_precision_score: 0.9295543105166543\n",
      "average_recall_score: 0.5424478386742538\n",
      "average_accuracy_score: 0.9752144195105008\n",
      "average_roc_auc_score: 0.7701488105339229\n",
      "average_f1_score: 0.6850999755563145\n"
     ]
    }
   ],
   "source": [
    "# origin and featrue with sdtw\n",
    "x_col = ['meter_dtw_sdtw', 'meter_sdtw_sdtw', 0, 1, 2, 3, 4, 5, 6, 7, 8, 9, 10, 11, 12, 13, 14, 15, 16, 17, 18, 19, 20, 21, 22, 23, 24, 25, 26, 27, 28, 29, 30, 31, 32, 33, 34, 35, 36, 37, 38, 39, 40, 41, 42, 43, 44, 45, 46, 47]\n",
    "model, score = train_single_model(xgboost, training_data, x_col, y_col, split_num = 3, return_model=True)"
   ]
  },
  {
   "cell_type": "code",
   "execution_count": 53,
   "id": "cd98fe73",
   "metadata": {
    "Collapsed": "false"
   },
   "outputs": [
    {
     "name": "stdout",
     "output_type": "stream",
     "text": [
      "\n",
      " Time taken: 0 hours 6 minutes and 15.41 seconds.\n",
      "\n",
      " Time taken: 0 hours 5 minutes and 0.08 seconds.\n",
      "\n",
      " Time taken: 0 hours 6 minutes and 21.95 seconds.\n",
      "average_precision_score: 0.9436379874722004\n",
      "average_recall_score: 0.5666367175801138\n",
      "average_accuracy_score: 0.97677793904209\n",
      "average_roc_auc_score: 0.7824333129321498\n",
      "average_f1_score: 0.708077525710987\n"
     ]
    }
   ],
   "source": [
    "# origin and all featrue\n",
    "x_col = ['overnight', 'breakfast', 'daytime', 'evening', 'Tmax1', 'Tmax2', 'Tmin1', 'Cmax1', 'Cmax2', 'Cmin1', 'mic', 'meter_dtw_eu', 'meter_sdtw_eu', 'meter_dtw_sdtw', 'meter_sdtw_sdtw', 0, 1, 2, 3, 4, 5, 6, 7, 8, 9, 10, 11, 12, 13, 14, 15, 16, 17, 18, 19, 20, 21, 22, 23, 24, 25, 26, 27, 28, 29, 30, 31, 32, 33, 34, 35, 36, 37, 38, 39, 40, 41, 42, 43, 44, 45, 46, 47]\n",
    "model, score = train_single_model(xgboost, training_data, x_col, y_col, split_num = 3, return_model=True)"
   ]
  },
  {
   "cell_type": "markdown",
   "id": "3daec67d",
   "metadata": {
    "Collapsed": "true"
   },
   "source": [
    "#### xgboos all features"
   ]
  },
  {
   "cell_type": "code",
   "execution_count": 57,
   "id": "0021a110",
   "metadata": {
    "Collapsed": "false"
   },
   "outputs": [
    {
     "name": "stdout",
     "output_type": "stream",
     "text": [
      "\n",
      " Time taken: 0 hours 2 minutes and 16.39 seconds.\n",
      "\n",
      " Time taken: 0 hours 1 minutes and 57.59 seconds.\n",
      "\n",
      " Time taken: 0 hours 2 minutes and 13.72 seconds.\n",
      "average_precision_score: 0.8872081384306183\n",
      "average_recall_score: 0.4140561046221423\n",
      "average_accuracy_score: 0.9682607023681044\n",
      "average_roc_auc_score: 0.7056519234859892\n",
      "average_f1_score: 0.5645977640275887\n"
     ]
    }
   ],
   "source": [
    "x_col = ['overnight', 'breakfast', 'daytime', 'evening', 'Tmax1', 'Tmax2', 'Tmin1', 'Cmax1', 'Cmax2', 'Cmin1', 'mic', 'meter_dtw_eu', 'meter_sdtw_eu', 'meter_dtw_sdtw', 'meter_sdtw_sdtw']\n",
    "model, score = train_single_model(xgboost, training_data, x_col, y_col, split_num = 3, return_model=True)"
   ]
  },
  {
   "cell_type": "markdown",
   "id": "b40d4c6d",
   "metadata": {
    "Collapsed": "true"
   },
   "source": [
    "#### xgboost no sdtw"
   ]
  },
  {
   "cell_type": "code",
   "execution_count": 18,
   "id": "bcd8d1b3",
   "metadata": {
    "Collapsed": "false"
   },
   "outputs": [
    {
     "name": "stdout",
     "output_type": "stream",
     "text": [
      "\n",
      " Time taken: 0 hours 1 minutes and 36.28 seconds.\n",
      "\n",
      " Time taken: 0 hours 1 minutes and 43.86 seconds.\n",
      "\n",
      " Time taken: 0 hours 1 minutes and 43.92 seconds.\n",
      "average_precision_score: 0.3791271791417423\n",
      "average_recall_score: 0.6039632624538285\n",
      "average_accuracy_score: 0.9311465892597969\n",
      "average_roc_auc_score: 0.7761114014021743\n",
      "average_f1_score: 0.4658252095703581\n"
     ]
    }
   ],
   "source": [
    "x_col = ['overnight', 'breakfast', 'daytime', 'evening', 'Tmax1', 'Tmax2', 'Tmin1', 'Cmax1', 'Cmax2', 'Cmin1', 'mic', 'meter_dtw_eu', 'meter_sdtw_eu']\n",
    "model, score = train_single_model(xgboost, training_data, x_col, y_col, split_num = 3, return_model=True)"
   ]
  },
  {
   "cell_type": "markdown",
   "id": "e250e2ae",
   "metadata": {
    "Collapsed": "true"
   },
   "source": [
    "#### xgboost no eu"
   ]
  },
  {
   "cell_type": "code",
   "execution_count": 13,
   "id": "40ce11ed",
   "metadata": {
    "Collapsed": "false"
   },
   "outputs": [
    {
     "name": "stdout",
     "output_type": "stream",
     "text": [
      "\n",
      " Time taken: 0 hours 1 minutes and 43.72 seconds.\n",
      "\n",
      " Time taken: 0 hours 1 minutes and 41.23 seconds.\n",
      "\n",
      " Time taken: 0 hours 1 minutes and 44.22 seconds.\n",
      "average_precision_score: 0.8848252302915997\n",
      "average_recall_score: 0.40885494659079563\n",
      "average_accuracy_score: 0.9679724113976654\n",
      "average_roc_auc_score: 0.7030356799418573\n",
      "average_f1_score: 0.5592770631726028\n"
     ]
    }
   ],
   "source": [
    "x_col = ['overnight', 'breakfast', 'daytime', 'evening', 'Tmax1', 'Tmax2', 'Tmin1', 'Cmax1', 'Cmax2', 'Cmin1', 'mic', 'meter_dtw_sdtw', 'meter_sdtw_sdtw']\n",
    "model, score = train_single_model(xgboost, training_data, x_col, y_col, split_num = 3, return_model=True)"
   ]
  },
  {
   "cell_type": "markdown",
   "id": "9c610ab0",
   "metadata": {
    "Collapsed": "true"
   },
   "source": [
    "#### xgboost whole weight=10"
   ]
  },
  {
   "cell_type": "code",
   "execution_count": 19,
   "id": "77f9344f",
   "metadata": {
    "Collapsed": "false"
   },
   "outputs": [
    {
     "name": "stdout",
     "output_type": "stream",
     "text": [
      "\n",
      " Time taken: 0 hours 1 minutes and 49.77 seconds.\n",
      "\n",
      " Time taken: 0 hours 1 minutes and 49.48 seconds.\n",
      "\n",
      " Time taken: 0 hours 1 minutes and 51.38 seconds.\n",
      "average_precision_score: 0.3739503779486825\n",
      "average_recall_score: 0.604702006588799\n",
      "average_accuracy_score: 0.9300291516256683\n",
      "average_roc_auc_score: 0.7758735119164171\n",
      "average_f1_score: 0.46211462397773256\n"
     ]
    }
   ],
   "source": [
    "x_col = ['overnight', 'breakfast', 'daytime', 'evening', 'Tmax1', 'Tmax2', 'Tmin1', 'Cmax1', 'Cmax2', 'Cmin1', 'mic', 'meter_dtw_eu', 'meter_sdtw_eu', 'meter_dtw_sdtw', 'meter_sdtw_sdtw']\n",
    "xgboost = XGBClassifier(scale_pos_weight=10, use_label_encoder=False, n_jobs=-1, verbosity=0)\n",
    "model, score = train_single_model(xgboost, training_data, x_col, y_col, split_num = 3, return_model=True)\n",
    "xgboost = XGBClassifier(scale_pos_weight=1, use_label_encoder=False, n_jobs=6, verbosity=0)"
   ]
  },
  {
   "cell_type": "markdown",
   "id": "7c786079",
   "metadata": {
    "Collapsed": "true"
   },
   "source": [
    "#### four_time"
   ]
  },
  {
   "cell_type": "code",
   "execution_count": 20,
   "id": "b3904ca8",
   "metadata": {
    "Collapsed": "false"
   },
   "outputs": [
    {
     "name": "stdout",
     "output_type": "stream",
     "text": [
      "\n",
      " Time taken: 0 hours 0 minutes and 37.69 seconds.\n",
      "\n",
      " Time taken: 0 hours 0 minutes and 38.13 seconds.\n",
      "\n",
      " Time taken: 0 hours 0 minutes and 37.13 seconds.\n",
      "average_precision_score: 0.8501484851517773\n",
      "average_recall_score: 0.24338624338624337\n",
      "average_accuracy_score: 0.9602595114931836\n",
      "average_roc_auc_score: 0.6205704971535936\n",
      "average_f1_score: 0.37839530222854306\n"
     ]
    }
   ],
   "source": [
    "x_col = ['overnight', 'breakfast', 'daytime', 'evening']\n",
    "model, score = train_single_model(xgboost, training_data, x_col, y_col, split_num = 3, return_model=True)"
   ]
  },
  {
   "cell_type": "markdown",
   "id": "5704b135",
   "metadata": {
    "Collapsed": "true"
   },
   "source": [
    "#### v_value"
   ]
  },
  {
   "cell_type": "code",
   "execution_count": 21,
   "id": "bd9475a2",
   "metadata": {
    "Collapsed": "false"
   },
   "outputs": [
    {
     "name": "stdout",
     "output_type": "stream",
     "text": [
      "\n",
      " Time taken: 0 hours 0 minutes and 43.59 seconds.\n",
      "\n",
      " Time taken: 0 hours 0 minutes and 41.73 seconds.\n",
      "\n",
      " Time taken: 0 hours 0 minutes and 40.82 seconds.\n",
      "average_precision_score: 0.8338801465777607\n",
      "average_recall_score: 0.3675351901766996\n",
      "average_accuracy_score: 0.9649257563916489\n",
      "average_roc_auc_score: 0.6818533897107172\n",
      "average_f1_score: 0.5101863882751242\n"
     ]
    }
   ],
   "source": [
    "x_col = [ 'Tmax1', 'Tmax2', 'Tmin1', 'Cmax1', 'Cmax2', 'Cmin1']\n",
    "model, score = train_single_model(xgboost, training_data, x_col, y_col, split_num = 3, return_model=True)"
   ]
  },
  {
   "cell_type": "markdown",
   "id": "cd3d1975",
   "metadata": {
    "Collapsed": "true"
   },
   "source": [
    "#### mic"
   ]
  },
  {
   "cell_type": "code",
   "execution_count": 22,
   "id": "0946bd39",
   "metadata": {
    "Collapsed": "false"
   },
   "outputs": [
    {
     "name": "stdout",
     "output_type": "stream",
     "text": [
      "\n",
      " Time taken: 0 hours 0 minutes and 27.82 seconds.\n"
     ]
    },
    {
     "name": "stderr",
     "output_type": "stream",
     "text": [
      "/opt/conda/lib/python3.7/site-packages/sklearn/metrics/_classification.py:1248: UndefinedMetricWarning: Precision is ill-defined and being set to 0.0 due to no predicted samples. Use `zero_division` parameter to control this behavior.\n",
      "  _warn_prf(average, modifier, msg_start, len(result))\n"
     ]
    },
    {
     "name": "stdout",
     "output_type": "stream",
     "text": [
      "\n",
      " Time taken: 0 hours 0 minutes and 28.69 seconds.\n"
     ]
    },
    {
     "name": "stderr",
     "output_type": "stream",
     "text": [
      "/opt/conda/lib/python3.7/site-packages/sklearn/metrics/_classification.py:1248: UndefinedMetricWarning: Precision is ill-defined and being set to 0.0 due to no predicted samples. Use `zero_division` parameter to control this behavior.\n",
      "  _warn_prf(average, modifier, msg_start, len(result))\n"
     ]
    },
    {
     "name": "stdout",
     "output_type": "stream",
     "text": [
      "\n",
      " Time taken: 0 hours 0 minutes and 28.47 seconds.\n"
     ]
    },
    {
     "name": "stderr",
     "output_type": "stream",
     "text": [
      "/opt/conda/lib/python3.7/site-packages/sklearn/metrics/_classification.py:1248: UndefinedMetricWarning: Precision is ill-defined and being set to 0.0 due to no predicted samples. Use `zero_division` parameter to control this behavior.\n",
      "  _warn_prf(average, modifier, msg_start, len(result))\n"
     ]
    },
    {
     "name": "stdout",
     "output_type": "stream",
     "text": [
      "average_precision_score: 0.0\n",
      "average_recall_score: 0.0\n",
      "average_accuracy_score: 0.9502958579881656\n",
      "average_roc_auc_score: 0.5\n",
      "average_f1_score: 0.0\n"
     ]
    }
   ],
   "source": [
    "x_col = ['mic']\n",
    "model, score = train_single_model(xgboost, training_data, x_col, y_col, split_num = 3, return_model=True)"
   ]
  },
  {
   "cell_type": "markdown",
   "id": "4dfe9bf5",
   "metadata": {
    "Collapsed": "true"
   },
   "source": [
    "#### tsc_eu"
   ]
  },
  {
   "cell_type": "code",
   "execution_count": 23,
   "id": "b298d6dd",
   "metadata": {
    "Collapsed": "false"
   },
   "outputs": [
    {
     "name": "stdout",
     "output_type": "stream",
     "text": [
      "\n",
      " Time taken: 0 hours 1 minutes and 2.3 seconds.\n",
      "\n",
      " Time taken: 0 hours 0 minutes and 59.77 seconds.\n",
      "\n",
      " Time taken: 0 hours 1 minutes and 2.49 seconds.\n",
      "average_precision_score: 0.5603285403008917\n",
      "average_recall_score: 0.012478786063691724\n",
      "average_accuracy_score: 0.9504288390210016\n",
      "average_roc_auc_score: 0.5059830169160745\n",
      "average_f1_score: 0.024409222723381422\n"
     ]
    }
   ],
   "source": [
    "x_col = ['meter_dtw_eu', 'meter_sdtw_eu']\n",
    "model, score = train_single_model(xgboost, training_data, x_col, y_col, split_num = 3, return_model=True)"
   ]
  },
  {
   "cell_type": "markdown",
   "id": "067bc127",
   "metadata": {
    "Collapsed": "true"
   },
   "source": [
    "#### tsc_sddtw"
   ]
  },
  {
   "cell_type": "code",
   "execution_count": 24,
   "id": "18e94377",
   "metadata": {
    "Collapsed": "false"
   },
   "outputs": [
    {
     "name": "stdout",
     "output_type": "stream",
     "text": [
      "\n",
      " Time taken: 0 hours 1 minutes and 1.17 seconds.\n",
      "\n",
      " Time taken: 0 hours 1 minutes and 1.23 seconds.\n",
      "\n",
      " Time taken: 0 hours 1 minutes and 0.14 seconds.\n",
      "average_precision_score: 0.7888226114970301\n",
      "average_recall_score: 0.0011280822601577318\n",
      "average_accuracy_score: 0.9503370424125142\n",
      "average_roc_auc_score: 0.5005562088658496\n",
      "average_f1_score: 0.002252893095257771\n"
     ]
    }
   ],
   "source": [
    "x_col = ['meter_dtw_sdtw', 'meter_sdtw_sdtw']\n",
    "model, score = train_single_model(xgboost, training_data, x_col, y_col, split_num = 3, return_model=True)"
   ]
  },
  {
   "cell_type": "markdown",
   "id": "f936a9c7",
   "metadata": {
    "Collapsed": "true"
   },
   "source": [
    "#### tsc eu & sdtw"
   ]
  },
  {
   "cell_type": "code",
   "execution_count": 25,
   "id": "e00943de",
   "metadata": {
    "Collapsed": "false"
   },
   "outputs": [
    {
     "name": "stdout",
     "output_type": "stream",
     "text": [
      "\n",
      " Time taken: 0 hours 1 minutes and 10.67 seconds.\n",
      "\n",
      " Time taken: 0 hours 1 minutes and 8.76 seconds.\n",
      "\n",
      " Time taken: 0 hours 1 minutes and 9.62 seconds.\n",
      "average_precision_score: 0.6933222818165969\n",
      "average_recall_score: 0.07812718378756113\n",
      "average_accuracy_score: 0.9524597769590514\n",
      "average_roc_auc_score: 0.5381589653753004\n",
      "average_f1_score: 0.14038157426537531\n"
     ]
    }
   ],
   "source": [
    "x_col = ['meter_dtw_eu', 'meter_sdtw_eu', 'meter_dtw_sdtw', 'meter_sdtw_sdtw']\n",
    "model, score = train_single_model(xgboost, training_data, x_col, y_col, split_num = 3, return_model=True)"
   ]
  },
  {
   "cell_type": "code",
   "execution_count": 130,
   "id": "ac0f8e5e",
   "metadata": {
    "Collapsed": "false"
   },
   "outputs": [
    {
     "name": "stdout",
     "output_type": "stream",
     "text": [
      "\n",
      " Time taken: 0 hours 3 minutes and 19.53 seconds.\n",
      "average_precision_score: 0.7030109489051095\n",
      "average_recall_score: 0.0346136567834681\n",
      "average_accuracy_score: 0.9024635607618707\n",
      "average_roc_auc_score: 0.5164987350451601\n",
      "average_f1_score: 0.06597876348689845\n"
     ]
    }
   ],
   "source": [
    "# old data\n",
    "x_col = ['meter_dtw_eu', 'meter_sdtw_eu', 'meter_dtw_sdtw', 'meter_sdtw_sdtw']\n",
    "model, score = train_single_model(xgboost, training_data, x_col, y_col, split_num = 3, return_model=True)"
   ]
  },
  {
   "cell_type": "markdown",
   "id": "f02e4c31",
   "metadata": {
    "Collapsed": "true"
   },
   "source": [
    "## model evaluate unbalanced (daily & 4 methods)"
   ]
  },
  {
   "cell_type": "code",
   "execution_count": 19,
   "id": "b2150859",
   "metadata": {
    "Collapsed": "false"
   },
   "outputs": [
    {
     "name": "stdout",
     "output_type": "stream",
     "text": [
      "\n",
      " Time taken: 0 hours 4 minutes and 59.63 seconds.\n",
      "\n",
      " Time taken: 0 hours 5 minutes and 21.49 seconds.\n",
      "\n",
      " Time taken: 0 hours 5 minutes and 40.25 seconds.\n",
      "average_precision_score: 0.9436379874722004\n",
      "average_recall_score: 0.5666367175801138\n",
      "average_accuracy_score: 0.97677793904209\n",
      "average_roc_auc_score: 0.7824333129321498\n",
      "average_f1_score: 0.708077525710987\n"
     ]
    }
   ],
   "source": [
    "# origin and all featrue\n",
    "x_col = ['overnight', 'breakfast', 'daytime', 'evening', 'Tmax1', 'Tmax2', 'Tmin1', 'Cmax1', 'Cmax2', 'Cmin1', 'mic', 'meter_dtw_eu', 'meter_sdtw_eu', 'meter_dtw_sdtw', 'meter_sdtw_sdtw', 0, 1, 2, 3, 4, 5, 6, 7, 8, 9, 10, 11, 12, 13, 14, 15, 16, 17, 18, 19, 20, 21, 22, 23, 24, 25, 26, 27, 28, 29, 30, 31, 32, 33, 34, 35, 36, 37, 38, 39, 40, 41, 42, 43, 44, 45, 46, 47]\n",
    "model, score = train_single_model(xgboost, training_data, x_col, y_col, split_num = 3, return_model=True)"
   ]
  },
  {
   "cell_type": "code",
   "execution_count": 20,
   "id": "b5141853",
   "metadata": {
    "Collapsed": "false"
   },
   "outputs": [
    {
     "name": "stdout",
     "output_type": "stream",
     "text": [
      "xgboost: \n",
      "(1791400, 66)\n",
      "(447850, 66)\n",
      "\n",
      "training time:  Time taken: 0 hours 5 minutes and 42.57 seconds.\n",
      "\n",
      "predict time:  Time taken: 0 hours 0 minutes and 0.45 seconds.\n",
      "accuracy_score: 0.9754203416322429\n",
      "precision score: 0.9031818833309445\n",
      "recall_score: 0.5661725067385445\n",
      "roc_auc_score: 0.7814990450232114\n",
      "f1_score: 0.6960291599933728\n",
      "adaboost: \n",
      "(1791400, 66)\n",
      "(447850, 66)\n",
      "\n",
      "training time:  Time taken: 0 hours 11 minutes and 14.54 seconds.\n",
      "\n",
      "predict time:  Time taken: 0 hours 0 minutes and 6.06 seconds.\n",
      "accuracy_score: 0.9581132075471698\n",
      "precision score: 0.7425523070527921\n",
      "recall_score: 0.2407457322551662\n",
      "roc_auc_score: 0.6181900140868867\n",
      "f1_score: 0.3636055229500967\n",
      "rf: \n",
      "(1791400, 66)\n",
      "(447850, 66)\n",
      "\n",
      "training time:  Time taken: 0 hours 11 minutes and 1.48 seconds.\n",
      "\n",
      "predict time:  Time taken: 0 hours 0 minutes and 5.16 seconds.\n",
      "accuracy_score: 0.9722719660600647\n",
      "precision score: 0.9421383647798742\n",
      "recall_score: 0.4710691823899371\n",
      "roc_auc_score: 0.7347779944704216\n",
      "f1_score: 0.6280922431865829\n",
      "nb: \n",
      "(1791400, 66)\n",
      "(447850, 66)\n"
     ]
    },
    {
     "ename": "ValueError",
     "evalue": "Negative values in data passed to ComplementNB (input X)",
     "output_type": "error",
     "traceback": [
      "\u001b[0;31m---------------------------------------------------------------------------\u001b[0m",
      "\u001b[0;31mValueError\u001b[0m                                Traceback (most recent call last)",
      "\u001b[0;32m<ipython-input-20-51df909e91d7>\u001b[0m in \u001b[0;36m<module>\u001b[0;34m\u001b[0m\n\u001b[1;32m      6\u001b[0m \u001b[0msimple_train\u001b[0m\u001b[0;34m(\u001b[0m\u001b[0mrandforest\u001b[0m\u001b[0;34m,\u001b[0m \u001b[0mtraining_data\u001b[0m\u001b[0;34m,\u001b[0m \u001b[0mx_col\u001b[0m\u001b[0;34m,\u001b[0m \u001b[0my_col\u001b[0m\u001b[0;34m)\u001b[0m\u001b[0;34m\u001b[0m\u001b[0;34m\u001b[0m\u001b[0m\n\u001b[1;32m      7\u001b[0m \u001b[0mprint\u001b[0m\u001b[0;34m(\u001b[0m\u001b[0;34m\"nb: \"\u001b[0m\u001b[0;34m)\u001b[0m\u001b[0;34m\u001b[0m\u001b[0;34m\u001b[0m\u001b[0m\n\u001b[0;32m----> 8\u001b[0;31m \u001b[0msimple_train\u001b[0m\u001b[0;34m(\u001b[0m\u001b[0mcomplementNB\u001b[0m\u001b[0;34m,\u001b[0m \u001b[0mtraining_data\u001b[0m\u001b[0;34m,\u001b[0m \u001b[0mx_col\u001b[0m\u001b[0;34m,\u001b[0m \u001b[0my_col\u001b[0m\u001b[0;34m)\u001b[0m\u001b[0;34m\u001b[0m\u001b[0;34m\u001b[0m\u001b[0m\n\u001b[0m\u001b[1;32m      9\u001b[0m \u001b[0mprint\u001b[0m\u001b[0;34m(\u001b[0m\u001b[0;34m\"dt: \"\u001b[0m\u001b[0;34m)\u001b[0m\u001b[0;34m\u001b[0m\u001b[0;34m\u001b[0m\u001b[0m\n\u001b[1;32m     10\u001b[0m \u001b[0msimple_train\u001b[0m\u001b[0;34m(\u001b[0m\u001b[0mDT\u001b[0m\u001b[0;34m,\u001b[0m \u001b[0mtraining_data\u001b[0m\u001b[0;34m,\u001b[0m \u001b[0mx_col\u001b[0m\u001b[0;34m,\u001b[0m \u001b[0my_col\u001b[0m\u001b[0;34m)\u001b[0m\u001b[0;34m\u001b[0m\u001b[0;34m\u001b[0m\u001b[0m\n",
      "\u001b[0;32m<ipython-input-2-08632e3f601b>\u001b[0m in \u001b[0;36msimple_train\u001b[0;34m(model, df, x_col, y_col, train_ratio)\u001b[0m\n\u001b[1;32m     11\u001b[0m \u001b[0;34m\u001b[0m\u001b[0m\n\u001b[1;32m     12\u001b[0m     \u001b[0mstart_time\u001b[0m \u001b[0;34m=\u001b[0m \u001b[0mtimer\u001b[0m\u001b[0;34m(\u001b[0m\u001b[0;32mNone\u001b[0m\u001b[0;34m)\u001b[0m\u001b[0;34m\u001b[0m\u001b[0;34m\u001b[0m\u001b[0m\n\u001b[0;32m---> 13\u001b[0;31m     \u001b[0mmodel\u001b[0m\u001b[0;34m.\u001b[0m\u001b[0mfit\u001b[0m\u001b[0;34m(\u001b[0m\u001b[0mX_train\u001b[0m\u001b[0;34m,\u001b[0m \u001b[0mY_train\u001b[0m\u001b[0;34m)\u001b[0m\u001b[0;34m\u001b[0m\u001b[0;34m\u001b[0m\u001b[0m\n\u001b[0m\u001b[1;32m     14\u001b[0m     \u001b[0mtimer\u001b[0m\u001b[0;34m(\u001b[0m\u001b[0mstart_time\u001b[0m\u001b[0;34m,\u001b[0m \u001b[0mtitle\u001b[0m\u001b[0;34m=\u001b[0m\u001b[0;34m\"training time: \"\u001b[0m\u001b[0;34m)\u001b[0m\u001b[0;34m\u001b[0m\u001b[0;34m\u001b[0m\u001b[0m\n\u001b[1;32m     15\u001b[0m \u001b[0;34m\u001b[0m\u001b[0m\n",
      "\u001b[0;32m/opt/conda/lib/python3.7/site-packages/sklearn/naive_bayes.py\u001b[0m in \u001b[0;36mfit\u001b[0;34m(self, X, y, sample_weight)\u001b[0m\n\u001b[1;32m    636\u001b[0m \u001b[0;34m\u001b[0m\u001b[0m\n\u001b[1;32m    637\u001b[0m         \u001b[0mself\u001b[0m\u001b[0;34m.\u001b[0m\u001b[0m_init_counters\u001b[0m\u001b[0;34m(\u001b[0m\u001b[0mn_effective_classes\u001b[0m\u001b[0;34m,\u001b[0m \u001b[0mn_features\u001b[0m\u001b[0;34m)\u001b[0m\u001b[0;34m\u001b[0m\u001b[0;34m\u001b[0m\u001b[0m\n\u001b[0;32m--> 638\u001b[0;31m         \u001b[0mself\u001b[0m\u001b[0;34m.\u001b[0m\u001b[0m_count\u001b[0m\u001b[0;34m(\u001b[0m\u001b[0mX\u001b[0m\u001b[0;34m,\u001b[0m \u001b[0mY\u001b[0m\u001b[0;34m)\u001b[0m\u001b[0;34m\u001b[0m\u001b[0;34m\u001b[0m\u001b[0m\n\u001b[0m\u001b[1;32m    639\u001b[0m         \u001b[0malpha\u001b[0m \u001b[0;34m=\u001b[0m \u001b[0mself\u001b[0m\u001b[0;34m.\u001b[0m\u001b[0m_check_alpha\u001b[0m\u001b[0;34m(\u001b[0m\u001b[0;34m)\u001b[0m\u001b[0;34m\u001b[0m\u001b[0;34m\u001b[0m\u001b[0m\n\u001b[1;32m    640\u001b[0m         \u001b[0mself\u001b[0m\u001b[0;34m.\u001b[0m\u001b[0m_update_feature_log_prob\u001b[0m\u001b[0;34m(\u001b[0m\u001b[0malpha\u001b[0m\u001b[0;34m)\u001b[0m\u001b[0;34m\u001b[0m\u001b[0;34m\u001b[0m\u001b[0m\n",
      "\u001b[0;32m/opt/conda/lib/python3.7/site-packages/sklearn/naive_bayes.py\u001b[0m in \u001b[0;36m_count\u001b[0;34m(self, X, Y)\u001b[0m\n\u001b[1;32m    892\u001b[0m     \u001b[0;32mdef\u001b[0m \u001b[0m_count\u001b[0m\u001b[0;34m(\u001b[0m\u001b[0mself\u001b[0m\u001b[0;34m,\u001b[0m \u001b[0mX\u001b[0m\u001b[0;34m,\u001b[0m \u001b[0mY\u001b[0m\u001b[0;34m)\u001b[0m\u001b[0;34m:\u001b[0m\u001b[0;34m\u001b[0m\u001b[0;34m\u001b[0m\u001b[0m\n\u001b[1;32m    893\u001b[0m         \u001b[0;34m\"\"\"Count feature occurrences.\"\"\"\u001b[0m\u001b[0;34m\u001b[0m\u001b[0;34m\u001b[0m\u001b[0m\n\u001b[0;32m--> 894\u001b[0;31m         \u001b[0mcheck_non_negative\u001b[0m\u001b[0;34m(\u001b[0m\u001b[0mX\u001b[0m\u001b[0;34m,\u001b[0m \u001b[0;34m\"ComplementNB (input X)\"\u001b[0m\u001b[0;34m)\u001b[0m\u001b[0;34m\u001b[0m\u001b[0;34m\u001b[0m\u001b[0m\n\u001b[0m\u001b[1;32m    895\u001b[0m         \u001b[0mself\u001b[0m\u001b[0;34m.\u001b[0m\u001b[0mfeature_count_\u001b[0m \u001b[0;34m+=\u001b[0m \u001b[0msafe_sparse_dot\u001b[0m\u001b[0;34m(\u001b[0m\u001b[0mY\u001b[0m\u001b[0;34m.\u001b[0m\u001b[0mT\u001b[0m\u001b[0;34m,\u001b[0m \u001b[0mX\u001b[0m\u001b[0;34m)\u001b[0m\u001b[0;34m\u001b[0m\u001b[0;34m\u001b[0m\u001b[0m\n\u001b[1;32m    896\u001b[0m         \u001b[0mself\u001b[0m\u001b[0;34m.\u001b[0m\u001b[0mclass_count_\u001b[0m \u001b[0;34m+=\u001b[0m \u001b[0mY\u001b[0m\u001b[0;34m.\u001b[0m\u001b[0msum\u001b[0m\u001b[0;34m(\u001b[0m\u001b[0maxis\u001b[0m\u001b[0;34m=\u001b[0m\u001b[0;36m0\u001b[0m\u001b[0;34m)\u001b[0m\u001b[0;34m\u001b[0m\u001b[0;34m\u001b[0m\u001b[0m\n",
      "\u001b[0;32m/opt/conda/lib/python3.7/site-packages/sklearn/utils/validation.py\u001b[0m in \u001b[0;36mcheck_non_negative\u001b[0;34m(X, whom)\u001b[0m\n\u001b[1;32m   1123\u001b[0m \u001b[0;34m\u001b[0m\u001b[0m\n\u001b[1;32m   1124\u001b[0m     \u001b[0;32mif\u001b[0m \u001b[0mX_min\u001b[0m \u001b[0;34m<\u001b[0m \u001b[0;36m0\u001b[0m\u001b[0;34m:\u001b[0m\u001b[0;34m\u001b[0m\u001b[0;34m\u001b[0m\u001b[0m\n\u001b[0;32m-> 1125\u001b[0;31m         \u001b[0;32mraise\u001b[0m \u001b[0mValueError\u001b[0m\u001b[0;34m(\u001b[0m\u001b[0;34m\"Negative values in data passed to %s\"\u001b[0m \u001b[0;34m%\u001b[0m \u001b[0mwhom\u001b[0m\u001b[0;34m)\u001b[0m\u001b[0;34m\u001b[0m\u001b[0;34m\u001b[0m\u001b[0m\n\u001b[0m\u001b[1;32m   1126\u001b[0m \u001b[0;34m\u001b[0m\u001b[0m\n\u001b[1;32m   1127\u001b[0m \u001b[0;34m\u001b[0m\u001b[0m\n",
      "\u001b[0;31mValueError\u001b[0m: Negative values in data passed to ComplementNB (input X)"
     ]
    }
   ],
   "source": [
    "print(\"xgboost: \")\n",
    "simple_train(xgboost, training_data, x_col, y_col)\n",
    "print(\"adaboost: \")\n",
    "simple_train(adaboost, training_data, x_col, y_col)\n",
    "print(\"rf: \")\n",
    "simple_train(randforest, training_data, x_col, y_col)"
   ]
  },
  {
   "cell_type": "code",
   "execution_count": 26,
   "id": "a1b60714",
   "metadata": {
    "Collapsed": "false"
   },
   "outputs": [
    {
     "data": {
      "text/html": [
       "<div>\n",
       "<style scoped>\n",
       "    .dataframe tbody tr th:only-of-type {\n",
       "        vertical-align: middle;\n",
       "    }\n",
       "\n",
       "    .dataframe tbody tr th {\n",
       "        vertical-align: top;\n",
       "    }\n",
       "\n",
       "    .dataframe thead th {\n",
       "        text-align: right;\n",
       "    }\n",
       "</style>\n",
       "<table border=\"1\" class=\"dataframe\">\n",
       "  <thead>\n",
       "    <tr style=\"text-align: right;\">\n",
       "      <th></th>\n",
       "      <th>MeterID</th>\n",
       "      <th>Day</th>\n",
       "      <th>FDI</th>\n",
       "      <th>overnight</th>\n",
       "      <th>breakfast</th>\n",
       "      <th>daytime</th>\n",
       "      <th>evening</th>\n",
       "      <th>Tmax1</th>\n",
       "      <th>Tmax2</th>\n",
       "      <th>Tmin1</th>\n",
       "      <th>Cmax1</th>\n",
       "      <th>Cmax2</th>\n",
       "      <th>Cmin1</th>\n",
       "      <th>mic</th>\n",
       "      <th>meter_dtw_eu</th>\n",
       "      <th>meter_sdtw_eu</th>\n",
       "      <th>meter_dtw_sdtw</th>\n",
       "      <th>meter_sdtw_sdtw</th>\n",
       "      <th>0</th>\n",
       "      <th>1</th>\n",
       "      <th>2</th>\n",
       "      <th>3</th>\n",
       "      <th>4</th>\n",
       "      <th>5</th>\n",
       "      <th>6</th>\n",
       "      <th>7</th>\n",
       "      <th>8</th>\n",
       "      <th>9</th>\n",
       "      <th>10</th>\n",
       "      <th>11</th>\n",
       "      <th>12</th>\n",
       "      <th>13</th>\n",
       "      <th>14</th>\n",
       "      <th>15</th>\n",
       "      <th>16</th>\n",
       "      <th>17</th>\n",
       "      <th>18</th>\n",
       "      <th>19</th>\n",
       "      <th>20</th>\n",
       "      <th>21</th>\n",
       "      <th>22</th>\n",
       "      <th>23</th>\n",
       "      <th>24</th>\n",
       "      <th>25</th>\n",
       "      <th>26</th>\n",
       "      <th>27</th>\n",
       "      <th>28</th>\n",
       "      <th>29</th>\n",
       "      <th>30</th>\n",
       "      <th>31</th>\n",
       "      <th>32</th>\n",
       "      <th>33</th>\n",
       "      <th>34</th>\n",
       "      <th>35</th>\n",
       "      <th>36</th>\n",
       "      <th>37</th>\n",
       "      <th>38</th>\n",
       "      <th>39</th>\n",
       "      <th>40</th>\n",
       "      <th>41</th>\n",
       "      <th>42</th>\n",
       "      <th>43</th>\n",
       "      <th>44</th>\n",
       "      <th>45</th>\n",
       "      <th>46</th>\n",
       "      <th>47</th>\n",
       "    </tr>\n",
       "  </thead>\n",
       "  <tbody>\n",
       "    <tr>\n",
       "      <th>0</th>\n",
       "      <td>1002</td>\n",
       "      <td>2009-07-15</td>\n",
       "      <td>False</td>\n",
       "      <td>0.152176</td>\n",
       "      <td>0.08725</td>\n",
       "      <td>0.151714</td>\n",
       "      <td>0.099615</td>\n",
       "      <td>19</td>\n",
       "      <td>46</td>\n",
       "      <td>37</td>\n",
       "      <td>0.026737</td>\n",
       "      <td>0.02806</td>\n",
       "      <td>0.000975</td>\n",
       "      <td>0.604958</td>\n",
       "      <td>1.656341</td>\n",
       "      <td>-66.713528</td>\n",
       "      <td>1.983855</td>\n",
       "      <td>-69.851348</td>\n",
       "      <td>0.362</td>\n",
       "      <td>0.064</td>\n",
       "      <td>0.119</td>\n",
       "      <td>0.023</td>\n",
       "      <td>0.14</td>\n",
       "      <td>0.036</td>\n",
       "      <td>0.108</td>\n",
       "      <td>0.083</td>\n",
       "      <td>0.056</td>\n",
       "      <td>0.129</td>\n",
       "      <td>0.015</td>\n",
       "      <td>0.132</td>\n",
       "      <td>0.054</td>\n",
       "      <td>0.082</td>\n",
       "      <td>0.103</td>\n",
       "      <td>0.028</td>\n",
       "      <td>0.136</td>\n",
       "      <td>0.051</td>\n",
       "      <td>0.333</td>\n",
       "      <td>0.384</td>\n",
       "      <td>0.066</td>\n",
       "      <td>0.138</td>\n",
       "      <td>0.077</td>\n",
       "      <td>0.063</td>\n",
       "      <td>0.15</td>\n",
       "      <td>0.084</td>\n",
       "      <td>0.202</td>\n",
       "      <td>0.108</td>\n",
       "      <td>0.239</td>\n",
       "      <td>0.178</td>\n",
       "      <td>0.051</td>\n",
       "      <td>0.135</td>\n",
       "      <td>0.017</td>\n",
       "      <td>0.116</td>\n",
       "      <td>0.063</td>\n",
       "      <td>0.068</td>\n",
       "      <td>0.118</td>\n",
       "      <td>0.014</td>\n",
       "      <td>0.132</td>\n",
       "      <td>0.053</td>\n",
       "      <td>0.078</td>\n",
       "      <td>0.126</td>\n",
       "      <td>0.128</td>\n",
       "      <td>0.247</td>\n",
       "      <td>0.249</td>\n",
       "      <td>0.305</td>\n",
       "      <td>0.403</td>\n",
       "      <td>0.309</td>\n",
       "    </tr>\n",
       "  </tbody>\n",
       "</table>\n",
       "</div>"
      ],
      "text/plain": [
       "   MeterID         Day    FDI  overnight  breakfast   daytime   evening  Tmax1  Tmax2  Tmin1     Cmax1    Cmax2     Cmin1       mic  meter_dtw_eu  meter_sdtw_eu  meter_dtw_sdtw  meter_sdtw_sdtw      0      1      2      3     4      5      6      7      8      9     10     11     12     13     14     15     16     17     18     19     20     21     22     23    24     25     26     27     28     29     30     31     32     33     34     35     36     37     38     39     40     41     42     43     44     45     46     47\n",
       "0     1002  2009-07-15  False   0.152176    0.08725  0.151714  0.099615     19     46     37  0.026737  0.02806  0.000975  0.604958      1.656341     -66.713528        1.983855       -69.851348  0.362  0.064  0.119  0.023  0.14  0.036  0.108  0.083  0.056  0.129  0.015  0.132  0.054  0.082  0.103  0.028  0.136  0.051  0.333  0.384  0.066  0.138  0.077  0.063  0.15  0.084  0.202  0.108  0.239  0.178  0.051  0.135  0.017  0.116  0.063  0.068  0.118  0.014  0.132  0.053  0.078  0.126  0.128  0.247  0.249  0.305  0.403  0.309"
      ]
     },
     "execution_count": 26,
     "metadata": {},
     "output_type": "execute_result"
    }
   ],
   "source": [
    "training_data.head(1)"
   ]
  },
  {
   "cell_type": "code",
   "execution_count": 30,
   "id": "e6af6329",
   "metadata": {
    "Collapsed": "false"
   },
   "outputs": [
    {
     "name": "stdout",
     "output_type": "stream",
     "text": [
      "nb: \n",
      "(1791400, 66)\n",
      "(447850, 66)\n",
      "\n",
      "training time:  Time taken: 0 hours 0 minutes and 0.63 seconds.\n",
      "\n",
      "predict time:  Time taken: 0 hours 0 minutes and 0.09 seconds.\n",
      "accuracy_score: 0.6785821145472815\n",
      "precision score: 0.09502732276808594\n",
      "recall_score: 0.6413746630727762\n",
      "roc_auc_score: 0.660951435486199\n",
      "f1_score: 0.16552947519144817\n",
      "dt: \n",
      "(1791400, 66)\n",
      "(447850, 66)\n",
      "\n",
      "training time:  Time taken: 0 hours 8 minutes and 22.05 seconds.\n",
      "\n",
      "predict time:  Time taken: 0 hours 0 minutes and 0.43 seconds.\n",
      "accuracy_score: 0.9366528971753936\n",
      "precision score: 0.39321168903803133\n",
      "recall_score: 0.5053459119496856\n",
      "roc_auc_score: 0.7322789147614683\n",
      "f1_score: 0.44228198474482977\n",
      "knn: \n",
      "(1791400, 66)\n",
      "(447850, 66)\n",
      "\n",
      "training time:  Time taken: 0 hours 0 minutes and 0.46 seconds.\n"
     ]
    },
    {
     "ename": "KeyboardInterrupt",
     "evalue": "",
     "output_type": "error",
     "traceback": [
      "\u001b[0;31m---------------------------------------------------------------------------\u001b[0m",
      "\u001b[0;31mKeyboardInterrupt\u001b[0m                         Traceback (most recent call last)",
      "\u001b[0;32m<ipython-input-30-6fbdd7cfca4c>\u001b[0m in \u001b[0;36m<module>\u001b[0;34m\u001b[0m\n\u001b[1;32m      4\u001b[0m \u001b[0msimple_train\u001b[0m\u001b[0;34m(\u001b[0m\u001b[0mDT\u001b[0m\u001b[0;34m,\u001b[0m \u001b[0mtraining_data\u001b[0m\u001b[0;34m,\u001b[0m \u001b[0mx_col\u001b[0m\u001b[0;34m,\u001b[0m \u001b[0my_col\u001b[0m\u001b[0;34m)\u001b[0m\u001b[0;34m\u001b[0m\u001b[0;34m\u001b[0m\u001b[0m\n\u001b[1;32m      5\u001b[0m \u001b[0mprint\u001b[0m\u001b[0;34m(\u001b[0m\u001b[0;34m\"knn: \"\u001b[0m\u001b[0;34m)\u001b[0m\u001b[0;34m\u001b[0m\u001b[0;34m\u001b[0m\u001b[0m\n\u001b[0;32m----> 6\u001b[0;31m \u001b[0msimple_train\u001b[0m\u001b[0;34m(\u001b[0m\u001b[0mkNN\u001b[0m\u001b[0;34m,\u001b[0m \u001b[0mtraining_data\u001b[0m\u001b[0;34m,\u001b[0m \u001b[0mx_col\u001b[0m\u001b[0;34m,\u001b[0m \u001b[0my_col\u001b[0m\u001b[0;34m)\u001b[0m\u001b[0;34m\u001b[0m\u001b[0;34m\u001b[0m\u001b[0m\n\u001b[0m",
      "\u001b[0;32m<ipython-input-29-511bfc827b9a>\u001b[0m in \u001b[0;36msimple_train\u001b[0;34m(model, df, x_col, y_col, train_ratio, minmax)\u001b[0m\n\u001b[1;32m     22\u001b[0m \u001b[0;34m\u001b[0m\u001b[0m\n\u001b[1;32m     23\u001b[0m     \u001b[0mstart_time\u001b[0m \u001b[0;34m=\u001b[0m \u001b[0mtimer\u001b[0m\u001b[0;34m(\u001b[0m\u001b[0;32mNone\u001b[0m\u001b[0;34m)\u001b[0m\u001b[0;34m\u001b[0m\u001b[0;34m\u001b[0m\u001b[0m\n\u001b[0;32m---> 24\u001b[0;31m     \u001b[0my_hat\u001b[0m \u001b[0;34m=\u001b[0m \u001b[0mmodel\u001b[0m\u001b[0;34m.\u001b[0m\u001b[0mpredict\u001b[0m\u001b[0;34m(\u001b[0m\u001b[0mX_test\u001b[0m\u001b[0;34m)\u001b[0m\u001b[0;34m\u001b[0m\u001b[0;34m\u001b[0m\u001b[0m\n\u001b[0m\u001b[1;32m     25\u001b[0m     \u001b[0mtimer\u001b[0m\u001b[0;34m(\u001b[0m\u001b[0mstart_time\u001b[0m\u001b[0;34m,\u001b[0m \u001b[0mtitle\u001b[0m\u001b[0;34m=\u001b[0m\u001b[0;34m\"predict time: \"\u001b[0m\u001b[0;34m)\u001b[0m\u001b[0;34m\u001b[0m\u001b[0;34m\u001b[0m\u001b[0m\n\u001b[1;32m     26\u001b[0m \u001b[0;34m\u001b[0m\u001b[0m\n",
      "\u001b[0;32m/opt/conda/lib/python3.7/site-packages/sklearn/neighbors/_classification.py\u001b[0m in \u001b[0;36mpredict\u001b[0;34m(self, X)\u001b[0m\n\u001b[1;32m    195\u001b[0m         \u001b[0mX\u001b[0m \u001b[0;34m=\u001b[0m \u001b[0mcheck_array\u001b[0m\u001b[0;34m(\u001b[0m\u001b[0mX\u001b[0m\u001b[0;34m,\u001b[0m \u001b[0maccept_sparse\u001b[0m\u001b[0;34m=\u001b[0m\u001b[0;34m'csr'\u001b[0m\u001b[0;34m)\u001b[0m\u001b[0;34m\u001b[0m\u001b[0;34m\u001b[0m\u001b[0m\n\u001b[1;32m    196\u001b[0m \u001b[0;34m\u001b[0m\u001b[0m\n\u001b[0;32m--> 197\u001b[0;31m         \u001b[0mneigh_dist\u001b[0m\u001b[0;34m,\u001b[0m \u001b[0mneigh_ind\u001b[0m \u001b[0;34m=\u001b[0m \u001b[0mself\u001b[0m\u001b[0;34m.\u001b[0m\u001b[0mkneighbors\u001b[0m\u001b[0;34m(\u001b[0m\u001b[0mX\u001b[0m\u001b[0;34m)\u001b[0m\u001b[0;34m\u001b[0m\u001b[0;34m\u001b[0m\u001b[0m\n\u001b[0m\u001b[1;32m    198\u001b[0m         \u001b[0mclasses_\u001b[0m \u001b[0;34m=\u001b[0m \u001b[0mself\u001b[0m\u001b[0;34m.\u001b[0m\u001b[0mclasses_\u001b[0m\u001b[0;34m\u001b[0m\u001b[0;34m\u001b[0m\u001b[0m\n\u001b[1;32m    199\u001b[0m         \u001b[0m_y\u001b[0m \u001b[0;34m=\u001b[0m \u001b[0mself\u001b[0m\u001b[0;34m.\u001b[0m\u001b[0m_y\u001b[0m\u001b[0;34m\u001b[0m\u001b[0;34m\u001b[0m\u001b[0m\n",
      "\u001b[0;32m/opt/conda/lib/python3.7/site-packages/sklearn/neighbors/_base.py\u001b[0m in \u001b[0;36mkneighbors\u001b[0;34m(self, X, n_neighbors, return_distance)\u001b[0m\n\u001b[1;32m    706\u001b[0m                 \u001b[0mX\u001b[0m\u001b[0;34m,\u001b[0m \u001b[0mself\u001b[0m\u001b[0;34m.\u001b[0m\u001b[0m_fit_X\u001b[0m\u001b[0;34m,\u001b[0m \u001b[0mreduce_func\u001b[0m\u001b[0;34m=\u001b[0m\u001b[0mreduce_func\u001b[0m\u001b[0;34m,\u001b[0m\u001b[0;34m\u001b[0m\u001b[0;34m\u001b[0m\u001b[0m\n\u001b[1;32m    707\u001b[0m                 \u001b[0mmetric\u001b[0m\u001b[0;34m=\u001b[0m\u001b[0mself\u001b[0m\u001b[0;34m.\u001b[0m\u001b[0meffective_metric_\u001b[0m\u001b[0;34m,\u001b[0m \u001b[0mn_jobs\u001b[0m\u001b[0;34m=\u001b[0m\u001b[0mn_jobs\u001b[0m\u001b[0;34m,\u001b[0m\u001b[0;34m\u001b[0m\u001b[0;34m\u001b[0m\u001b[0m\n\u001b[0;32m--> 708\u001b[0;31m                 **kwds))\n\u001b[0m\u001b[1;32m    709\u001b[0m \u001b[0;34m\u001b[0m\u001b[0m\n\u001b[1;32m    710\u001b[0m         \u001b[0;32melif\u001b[0m \u001b[0mself\u001b[0m\u001b[0;34m.\u001b[0m\u001b[0m_fit_method\u001b[0m \u001b[0;32min\u001b[0m \u001b[0;34m[\u001b[0m\u001b[0;34m'ball_tree'\u001b[0m\u001b[0;34m,\u001b[0m \u001b[0;34m'kd_tree'\u001b[0m\u001b[0;34m]\u001b[0m\u001b[0;34m:\u001b[0m\u001b[0;34m\u001b[0m\u001b[0;34m\u001b[0m\u001b[0m\n",
      "\u001b[0;32m/opt/conda/lib/python3.7/site-packages/sklearn/metrics/pairwise.py\u001b[0m in \u001b[0;36mpairwise_distances_chunked\u001b[0;34m(X, Y, reduce_func, metric, n_jobs, working_memory, **kwds)\u001b[0m\n\u001b[1;32m   1631\u001b[0m         \u001b[0;32mif\u001b[0m \u001b[0mreduce_func\u001b[0m \u001b[0;32mis\u001b[0m \u001b[0;32mnot\u001b[0m \u001b[0;32mNone\u001b[0m\u001b[0;34m:\u001b[0m\u001b[0;34m\u001b[0m\u001b[0;34m\u001b[0m\u001b[0m\n\u001b[1;32m   1632\u001b[0m             \u001b[0mchunk_size\u001b[0m \u001b[0;34m=\u001b[0m \u001b[0mD_chunk\u001b[0m\u001b[0;34m.\u001b[0m\u001b[0mshape\u001b[0m\u001b[0;34m[\u001b[0m\u001b[0;36m0\u001b[0m\u001b[0;34m]\u001b[0m\u001b[0;34m\u001b[0m\u001b[0;34m\u001b[0m\u001b[0m\n\u001b[0;32m-> 1633\u001b[0;31m             \u001b[0mD_chunk\u001b[0m \u001b[0;34m=\u001b[0m \u001b[0mreduce_func\u001b[0m\u001b[0;34m(\u001b[0m\u001b[0mD_chunk\u001b[0m\u001b[0;34m,\u001b[0m \u001b[0msl\u001b[0m\u001b[0;34m.\u001b[0m\u001b[0mstart\u001b[0m\u001b[0;34m)\u001b[0m\u001b[0;34m\u001b[0m\u001b[0;34m\u001b[0m\u001b[0m\n\u001b[0m\u001b[1;32m   1634\u001b[0m             \u001b[0m_check_chunk_size\u001b[0m\u001b[0;34m(\u001b[0m\u001b[0mD_chunk\u001b[0m\u001b[0;34m,\u001b[0m \u001b[0mchunk_size\u001b[0m\u001b[0;34m)\u001b[0m\u001b[0;34m\u001b[0m\u001b[0;34m\u001b[0m\u001b[0m\n\u001b[1;32m   1635\u001b[0m         \u001b[0;32myield\u001b[0m \u001b[0mD_chunk\u001b[0m\u001b[0;34m\u001b[0m\u001b[0;34m\u001b[0m\u001b[0m\n",
      "\u001b[0;32m/opt/conda/lib/python3.7/site-packages/sklearn/neighbors/_base.py\u001b[0m in \u001b[0;36m_kneighbors_reduce_func\u001b[0;34m(self, dist, start, n_neighbors, return_distance)\u001b[0m\n\u001b[1;32m    580\u001b[0m         \"\"\"\n\u001b[1;32m    581\u001b[0m         \u001b[0msample_range\u001b[0m \u001b[0;34m=\u001b[0m \u001b[0mnp\u001b[0m\u001b[0;34m.\u001b[0m\u001b[0marange\u001b[0m\u001b[0;34m(\u001b[0m\u001b[0mdist\u001b[0m\u001b[0;34m.\u001b[0m\u001b[0mshape\u001b[0m\u001b[0;34m[\u001b[0m\u001b[0;36m0\u001b[0m\u001b[0;34m]\u001b[0m\u001b[0;34m)\u001b[0m\u001b[0;34m[\u001b[0m\u001b[0;34m:\u001b[0m\u001b[0;34m,\u001b[0m \u001b[0;32mNone\u001b[0m\u001b[0;34m]\u001b[0m\u001b[0;34m\u001b[0m\u001b[0;34m\u001b[0m\u001b[0m\n\u001b[0;32m--> 582\u001b[0;31m         \u001b[0mneigh_ind\u001b[0m \u001b[0;34m=\u001b[0m \u001b[0mnp\u001b[0m\u001b[0;34m.\u001b[0m\u001b[0margpartition\u001b[0m\u001b[0;34m(\u001b[0m\u001b[0mdist\u001b[0m\u001b[0;34m,\u001b[0m \u001b[0mn_neighbors\u001b[0m \u001b[0;34m-\u001b[0m \u001b[0;36m1\u001b[0m\u001b[0;34m,\u001b[0m \u001b[0maxis\u001b[0m\u001b[0;34m=\u001b[0m\u001b[0;36m1\u001b[0m\u001b[0;34m)\u001b[0m\u001b[0;34m\u001b[0m\u001b[0;34m\u001b[0m\u001b[0m\n\u001b[0m\u001b[1;32m    583\u001b[0m         \u001b[0mneigh_ind\u001b[0m \u001b[0;34m=\u001b[0m \u001b[0mneigh_ind\u001b[0m\u001b[0;34m[\u001b[0m\u001b[0;34m:\u001b[0m\u001b[0;34m,\u001b[0m \u001b[0;34m:\u001b[0m\u001b[0mn_neighbors\u001b[0m\u001b[0;34m]\u001b[0m\u001b[0;34m\u001b[0m\u001b[0;34m\u001b[0m\u001b[0m\n\u001b[1;32m    584\u001b[0m         \u001b[0;31m# argpartition doesn't guarantee sorted order, so we sort again\u001b[0m\u001b[0;34m\u001b[0m\u001b[0;34m\u001b[0m\u001b[0;34m\u001b[0m\u001b[0m\n",
      "\u001b[0;32m<__array_function__ internals>\u001b[0m in \u001b[0;36margpartition\u001b[0;34m(*args, **kwargs)\u001b[0m\n",
      "\u001b[0;32m/opt/conda/lib/python3.7/site-packages/numpy/core/fromnumeric.py\u001b[0m in \u001b[0;36margpartition\u001b[0;34m(a, kth, axis, kind, order)\u001b[0m\n\u001b[1;32m    830\u001b[0m \u001b[0;34m\u001b[0m\u001b[0m\n\u001b[1;32m    831\u001b[0m     \"\"\"\n\u001b[0;32m--> 832\u001b[0;31m     \u001b[0;32mreturn\u001b[0m \u001b[0m_wrapfunc\u001b[0m\u001b[0;34m(\u001b[0m\u001b[0ma\u001b[0m\u001b[0;34m,\u001b[0m \u001b[0;34m'argpartition'\u001b[0m\u001b[0;34m,\u001b[0m \u001b[0mkth\u001b[0m\u001b[0;34m,\u001b[0m \u001b[0maxis\u001b[0m\u001b[0;34m=\u001b[0m\u001b[0maxis\u001b[0m\u001b[0;34m,\u001b[0m \u001b[0mkind\u001b[0m\u001b[0;34m=\u001b[0m\u001b[0mkind\u001b[0m\u001b[0;34m,\u001b[0m \u001b[0morder\u001b[0m\u001b[0;34m=\u001b[0m\u001b[0morder\u001b[0m\u001b[0;34m)\u001b[0m\u001b[0;34m\u001b[0m\u001b[0;34m\u001b[0m\u001b[0m\n\u001b[0m\u001b[1;32m    833\u001b[0m \u001b[0;34m\u001b[0m\u001b[0m\n\u001b[1;32m    834\u001b[0m \u001b[0;34m\u001b[0m\u001b[0m\n",
      "\u001b[0;32m/opt/conda/lib/python3.7/site-packages/numpy/core/fromnumeric.py\u001b[0m in \u001b[0;36m_wrapfunc\u001b[0;34m(obj, method, *args, **kwds)\u001b[0m\n\u001b[1;32m     56\u001b[0m \u001b[0;34m\u001b[0m\u001b[0m\n\u001b[1;32m     57\u001b[0m     \u001b[0;32mtry\u001b[0m\u001b[0;34m:\u001b[0m\u001b[0;34m\u001b[0m\u001b[0;34m\u001b[0m\u001b[0m\n\u001b[0;32m---> 58\u001b[0;31m         \u001b[0;32mreturn\u001b[0m \u001b[0mbound\u001b[0m\u001b[0;34m(\u001b[0m\u001b[0;34m*\u001b[0m\u001b[0margs\u001b[0m\u001b[0;34m,\u001b[0m \u001b[0;34m**\u001b[0m\u001b[0mkwds\u001b[0m\u001b[0;34m)\u001b[0m\u001b[0;34m\u001b[0m\u001b[0;34m\u001b[0m\u001b[0m\n\u001b[0m\u001b[1;32m     59\u001b[0m     \u001b[0;32mexcept\u001b[0m \u001b[0mTypeError\u001b[0m\u001b[0;34m:\u001b[0m\u001b[0;34m\u001b[0m\u001b[0;34m\u001b[0m\u001b[0m\n\u001b[1;32m     60\u001b[0m         \u001b[0;31m# A TypeError occurs if the object does have such a method in its\u001b[0m\u001b[0;34m\u001b[0m\u001b[0;34m\u001b[0m\u001b[0;34m\u001b[0m\u001b[0m\n",
      "\u001b[0;31mKeyboardInterrupt\u001b[0m: "
     ]
    }
   ],
   "source": [
    "print(\"nb: \")\n",
    "simple_train(complementNB, training_data, x_col, y_col, minmax=True)\n",
    "print(\"dt: \")\n",
    "simple_train(DT, training_data, x_col, y_col)\n",
    "print(\"knn: \")\n",
    "simple_train(kNN, training_data, x_col, y_col)"
   ]
  },
  {
   "cell_type": "markdown",
   "id": "accab40f",
   "metadata": {
    "Collapsed": "true"
   },
   "source": [
    "## SMOTE"
   ]
  },
  {
   "cell_type": "code",
   "execution_count": 17,
   "id": "652f9f47",
   "metadata": {
    "Collapsed": "false"
   },
   "outputs": [
    {
     "data": {
      "text/plain": [
       "Index(['MeterID', 'Day', 'FDI', 'overnight', 'breakfast', 'daytime', 'evening', 'Tmax1', 'Tmax2', 'Tmin1', 'Cmax1', 'Cmax2', 'Cmin1', 'mic', 'meter_dtw_eu', 'meter_sdtw_eu', 'meter_dtw_sdtw', 'meter_sdtw_sdtw', 0, 1, 2, 3, 4, 5, 6, 7, 8, 9, 10, 11, 12, 13, 14, 15, 16, 17, 18, 19, 20, 21, 22, 23, 24, 25, 26, 27, 28, 29, 30, 31, 32, 33, 34, 35, 36, 37, 38, 39, 40, 41, 42, 43, 44, 45, 46, 47], dtype='object')"
      ]
     },
     "execution_count": 17,
     "metadata": {},
     "output_type": "execute_result"
    }
   ],
   "source": [
    "training_data.columns"
   ]
  },
  {
   "cell_type": "code",
   "execution_count": 37,
   "id": "c40e3f5a",
   "metadata": {
    "Collapsed": "false"
   },
   "outputs": [],
   "source": [
    "x_col = ['overnight', 'breakfast', 'daytime', 'evening', 'Tmax1', 'Tmax2', 'Tmin1', 'Cmax1', 'Cmax2', 'Cmin1', 'mic', 'meter_dtw_eu', 'meter_sdtw_eu', 'meter_dtw_sdtw', 'meter_sdtw_sdtw', 0, 1, 2, 3, 4, 5, 6, 7, 8, 9, 10, 11, 12, 13, 14, 15, 16, 17, 18, 19, 20, 21, 22, 23, 24, 25, 26, 27, 28, 29, 30, 31, 32, 33, 34, 35, 36, 37, 38, 39, 40, 41, 42, 43, 44, 45, 46, 47]"
   ]
  },
  {
   "cell_type": "code",
   "execution_count": 38,
   "id": "d4e3953c",
   "metadata": {
    "Collapsed": "false"
   },
   "outputs": [],
   "source": [
    "oversample = SMOTE()\n",
    "oversample_X, oversample_y = oversample.fit_resample(training_data[x_col], training_data['FDI'])"
   ]
  },
  {
   "cell_type": "code",
   "execution_count": 39,
   "id": "7f650066",
   "metadata": {
    "Collapsed": "false"
   },
   "outputs": [
    {
     "data": {
      "text/plain": [
       "Counter({False: 2127950, True: 2127950})"
      ]
     },
     "execution_count": 39,
     "metadata": {},
     "output_type": "execute_result"
    }
   ],
   "source": [
    "Counter(oversample_y)"
   ]
  },
  {
   "cell_type": "code",
   "execution_count": 40,
   "id": "c02b2727",
   "metadata": {
    "Collapsed": "false"
   },
   "outputs": [],
   "source": [
    "oversample_y = pd.DataFrame(oversample_y, columns=['FDI'])"
   ]
  },
  {
   "cell_type": "code",
   "execution_count": 41,
   "id": "55198e2f",
   "metadata": {
    "Collapsed": "false"
   },
   "outputs": [
    {
     "data": {
      "text/html": [
       "<div>\n",
       "<style scoped>\n",
       "    .dataframe tbody tr th:only-of-type {\n",
       "        vertical-align: middle;\n",
       "    }\n",
       "\n",
       "    .dataframe tbody tr th {\n",
       "        vertical-align: top;\n",
       "    }\n",
       "\n",
       "    .dataframe thead th {\n",
       "        text-align: right;\n",
       "    }\n",
       "</style>\n",
       "<table border=\"1\" class=\"dataframe\">\n",
       "  <thead>\n",
       "    <tr style=\"text-align: right;\">\n",
       "      <th></th>\n",
       "      <th>overnight</th>\n",
       "      <th>breakfast</th>\n",
       "      <th>daytime</th>\n",
       "      <th>evening</th>\n",
       "      <th>Tmax1</th>\n",
       "      <th>Tmax2</th>\n",
       "      <th>Tmin1</th>\n",
       "      <th>Cmax1</th>\n",
       "      <th>Cmax2</th>\n",
       "      <th>Cmin1</th>\n",
       "      <th>mic</th>\n",
       "      <th>meter_dtw_eu</th>\n",
       "      <th>meter_sdtw_eu</th>\n",
       "      <th>meter_dtw_sdtw</th>\n",
       "      <th>meter_sdtw_sdtw</th>\n",
       "      <th>0</th>\n",
       "      <th>1</th>\n",
       "      <th>2</th>\n",
       "      <th>3</th>\n",
       "      <th>4</th>\n",
       "      <th>5</th>\n",
       "      <th>6</th>\n",
       "      <th>7</th>\n",
       "      <th>8</th>\n",
       "      <th>9</th>\n",
       "      <th>10</th>\n",
       "      <th>11</th>\n",
       "      <th>12</th>\n",
       "      <th>13</th>\n",
       "      <th>14</th>\n",
       "      <th>15</th>\n",
       "      <th>16</th>\n",
       "      <th>17</th>\n",
       "      <th>18</th>\n",
       "      <th>19</th>\n",
       "      <th>20</th>\n",
       "      <th>21</th>\n",
       "      <th>22</th>\n",
       "      <th>23</th>\n",
       "      <th>24</th>\n",
       "      <th>25</th>\n",
       "      <th>26</th>\n",
       "      <th>27</th>\n",
       "      <th>28</th>\n",
       "      <th>29</th>\n",
       "      <th>30</th>\n",
       "      <th>31</th>\n",
       "      <th>32</th>\n",
       "      <th>33</th>\n",
       "      <th>34</th>\n",
       "      <th>35</th>\n",
       "      <th>36</th>\n",
       "      <th>37</th>\n",
       "      <th>38</th>\n",
       "      <th>39</th>\n",
       "      <th>40</th>\n",
       "      <th>41</th>\n",
       "      <th>42</th>\n",
       "      <th>43</th>\n",
       "      <th>44</th>\n",
       "      <th>45</th>\n",
       "      <th>46</th>\n",
       "      <th>47</th>\n",
       "    </tr>\n",
       "  </thead>\n",
       "  <tbody>\n",
       "    <tr>\n",
       "      <th>0</th>\n",
       "      <td>0.152176</td>\n",
       "      <td>0.08725</td>\n",
       "      <td>0.151714</td>\n",
       "      <td>0.099615</td>\n",
       "      <td>19</td>\n",
       "      <td>46</td>\n",
       "      <td>37</td>\n",
       "      <td>0.026737</td>\n",
       "      <td>0.02806</td>\n",
       "      <td>0.000975</td>\n",
       "      <td>0.604958</td>\n",
       "      <td>1.656341</td>\n",
       "      <td>-66.713528</td>\n",
       "      <td>1.983855</td>\n",
       "      <td>-69.851348</td>\n",
       "      <td>0.362</td>\n",
       "      <td>0.064</td>\n",
       "      <td>0.119</td>\n",
       "      <td>0.023</td>\n",
       "      <td>0.14</td>\n",
       "      <td>0.036</td>\n",
       "      <td>0.108</td>\n",
       "      <td>0.083</td>\n",
       "      <td>0.056</td>\n",
       "      <td>0.129</td>\n",
       "      <td>0.015</td>\n",
       "      <td>0.132</td>\n",
       "      <td>0.054</td>\n",
       "      <td>0.082</td>\n",
       "      <td>0.103</td>\n",
       "      <td>0.028</td>\n",
       "      <td>0.136</td>\n",
       "      <td>0.051</td>\n",
       "      <td>0.333</td>\n",
       "      <td>0.384</td>\n",
       "      <td>0.066</td>\n",
       "      <td>0.138</td>\n",
       "      <td>0.077</td>\n",
       "      <td>0.063</td>\n",
       "      <td>0.15</td>\n",
       "      <td>0.084</td>\n",
       "      <td>0.202</td>\n",
       "      <td>0.108</td>\n",
       "      <td>0.239</td>\n",
       "      <td>0.178</td>\n",
       "      <td>0.051</td>\n",
       "      <td>0.135</td>\n",
       "      <td>0.017</td>\n",
       "      <td>0.116</td>\n",
       "      <td>0.063</td>\n",
       "      <td>0.068</td>\n",
       "      <td>0.118</td>\n",
       "      <td>0.014</td>\n",
       "      <td>0.132</td>\n",
       "      <td>0.053</td>\n",
       "      <td>0.078</td>\n",
       "      <td>0.126</td>\n",
       "      <td>0.128</td>\n",
       "      <td>0.247</td>\n",
       "      <td>0.249</td>\n",
       "      <td>0.305</td>\n",
       "      <td>0.403</td>\n",
       "      <td>0.309</td>\n",
       "    </tr>\n",
       "  </tbody>\n",
       "</table>\n",
       "</div>"
      ],
      "text/plain": [
       "   overnight  breakfast   daytime   evening  Tmax1  Tmax2  Tmin1     Cmax1    Cmax2     Cmin1       mic  meter_dtw_eu  meter_sdtw_eu  meter_dtw_sdtw  meter_sdtw_sdtw      0      1      2      3     4      5      6      7      8      9     10     11     12     13     14     15     16     17     18     19     20     21     22     23    24     25     26     27     28     29     30     31     32     33     34     35     36     37     38     39     40     41     42     43     44     45     46     47\n",
       "0   0.152176    0.08725  0.151714  0.099615     19     46     37  0.026737  0.02806  0.000975  0.604958      1.656341     -66.713528        1.983855       -69.851348  0.362  0.064  0.119  0.023  0.14  0.036  0.108  0.083  0.056  0.129  0.015  0.132  0.054  0.082  0.103  0.028  0.136  0.051  0.333  0.384  0.066  0.138  0.077  0.063  0.15  0.084  0.202  0.108  0.239  0.178  0.051  0.135  0.017  0.116  0.063  0.068  0.118  0.014  0.132  0.053  0.078  0.126  0.128  0.247  0.249  0.305  0.403  0.309"
      ]
     },
     "metadata": {},
     "output_type": "display_data"
    },
    {
     "data": {
      "text/html": [
       "<div>\n",
       "<style scoped>\n",
       "    .dataframe tbody tr th:only-of-type {\n",
       "        vertical-align: middle;\n",
       "    }\n",
       "\n",
       "    .dataframe tbody tr th {\n",
       "        vertical-align: top;\n",
       "    }\n",
       "\n",
       "    .dataframe thead th {\n",
       "        text-align: right;\n",
       "    }\n",
       "</style>\n",
       "<table border=\"1\" class=\"dataframe\">\n",
       "  <thead>\n",
       "    <tr style=\"text-align: right;\">\n",
       "      <th></th>\n",
       "      <th>FDI</th>\n",
       "    </tr>\n",
       "  </thead>\n",
       "  <tbody>\n",
       "    <tr>\n",
       "      <th>0</th>\n",
       "      <td>False</td>\n",
       "    </tr>\n",
       "  </tbody>\n",
       "</table>\n",
       "</div>"
      ],
      "text/plain": [
       "     FDI\n",
       "0  False"
      ]
     },
     "metadata": {},
     "output_type": "display_data"
    },
    {
     "data": {
      "text/html": [
       "<div>\n",
       "<style scoped>\n",
       "    .dataframe tbody tr th:only-of-type {\n",
       "        vertical-align: middle;\n",
       "    }\n",
       "\n",
       "    .dataframe tbody tr th {\n",
       "        vertical-align: top;\n",
       "    }\n",
       "\n",
       "    .dataframe thead th {\n",
       "        text-align: right;\n",
       "    }\n",
       "</style>\n",
       "<table border=\"1\" class=\"dataframe\">\n",
       "  <thead>\n",
       "    <tr style=\"text-align: right;\">\n",
       "      <th></th>\n",
       "      <th>overnight</th>\n",
       "      <th>breakfast</th>\n",
       "      <th>daytime</th>\n",
       "      <th>evening</th>\n",
       "      <th>Tmax1</th>\n",
       "      <th>Tmax2</th>\n",
       "      <th>Tmin1</th>\n",
       "      <th>Cmax1</th>\n",
       "      <th>Cmax2</th>\n",
       "      <th>Cmin1</th>\n",
       "      <th>mic</th>\n",
       "      <th>meter_dtw_eu</th>\n",
       "      <th>meter_sdtw_eu</th>\n",
       "      <th>meter_dtw_sdtw</th>\n",
       "      <th>meter_sdtw_sdtw</th>\n",
       "      <th>0</th>\n",
       "      <th>1</th>\n",
       "      <th>2</th>\n",
       "      <th>3</th>\n",
       "      <th>4</th>\n",
       "      <th>5</th>\n",
       "      <th>6</th>\n",
       "      <th>7</th>\n",
       "      <th>8</th>\n",
       "      <th>9</th>\n",
       "      <th>10</th>\n",
       "      <th>11</th>\n",
       "      <th>12</th>\n",
       "      <th>13</th>\n",
       "      <th>14</th>\n",
       "      <th>15</th>\n",
       "      <th>16</th>\n",
       "      <th>17</th>\n",
       "      <th>18</th>\n",
       "      <th>19</th>\n",
       "      <th>20</th>\n",
       "      <th>21</th>\n",
       "      <th>22</th>\n",
       "      <th>23</th>\n",
       "      <th>24</th>\n",
       "      <th>25</th>\n",
       "      <th>26</th>\n",
       "      <th>27</th>\n",
       "      <th>28</th>\n",
       "      <th>29</th>\n",
       "      <th>30</th>\n",
       "      <th>31</th>\n",
       "      <th>32</th>\n",
       "      <th>33</th>\n",
       "      <th>34</th>\n",
       "      <th>35</th>\n",
       "      <th>36</th>\n",
       "      <th>37</th>\n",
       "      <th>38</th>\n",
       "      <th>39</th>\n",
       "      <th>40</th>\n",
       "      <th>41</th>\n",
       "      <th>42</th>\n",
       "      <th>43</th>\n",
       "      <th>44</th>\n",
       "      <th>45</th>\n",
       "      <th>46</th>\n",
       "      <th>47</th>\n",
       "      <th>FDI</th>\n",
       "    </tr>\n",
       "  </thead>\n",
       "  <tbody>\n",
       "    <tr>\n",
       "      <th>0</th>\n",
       "      <td>0.152176</td>\n",
       "      <td>0.08725</td>\n",
       "      <td>0.151714</td>\n",
       "      <td>0.099615</td>\n",
       "      <td>19</td>\n",
       "      <td>46</td>\n",
       "      <td>37</td>\n",
       "      <td>0.026737</td>\n",
       "      <td>0.02806</td>\n",
       "      <td>0.000975</td>\n",
       "      <td>0.604958</td>\n",
       "      <td>1.656341</td>\n",
       "      <td>-66.713528</td>\n",
       "      <td>1.983855</td>\n",
       "      <td>-69.851348</td>\n",
       "      <td>0.362</td>\n",
       "      <td>0.064</td>\n",
       "      <td>0.119</td>\n",
       "      <td>0.023</td>\n",
       "      <td>0.14</td>\n",
       "      <td>0.036</td>\n",
       "      <td>0.108</td>\n",
       "      <td>0.083</td>\n",
       "      <td>0.056</td>\n",
       "      <td>0.129</td>\n",
       "      <td>0.015</td>\n",
       "      <td>0.132</td>\n",
       "      <td>0.054</td>\n",
       "      <td>0.082</td>\n",
       "      <td>0.103</td>\n",
       "      <td>0.028</td>\n",
       "      <td>0.136</td>\n",
       "      <td>0.051</td>\n",
       "      <td>0.333</td>\n",
       "      <td>0.384</td>\n",
       "      <td>0.066</td>\n",
       "      <td>0.138</td>\n",
       "      <td>0.077</td>\n",
       "      <td>0.063</td>\n",
       "      <td>0.15</td>\n",
       "      <td>0.084</td>\n",
       "      <td>0.202</td>\n",
       "      <td>0.108</td>\n",
       "      <td>0.239</td>\n",
       "      <td>0.178</td>\n",
       "      <td>0.051</td>\n",
       "      <td>0.135</td>\n",
       "      <td>0.017</td>\n",
       "      <td>0.116</td>\n",
       "      <td>0.063</td>\n",
       "      <td>0.068</td>\n",
       "      <td>0.118</td>\n",
       "      <td>0.014</td>\n",
       "      <td>0.132</td>\n",
       "      <td>0.053</td>\n",
       "      <td>0.078</td>\n",
       "      <td>0.126</td>\n",
       "      <td>0.128</td>\n",
       "      <td>0.247</td>\n",
       "      <td>0.249</td>\n",
       "      <td>0.305</td>\n",
       "      <td>0.403</td>\n",
       "      <td>0.309</td>\n",
       "      <td>False</td>\n",
       "    </tr>\n",
       "  </tbody>\n",
       "</table>\n",
       "</div>"
      ],
      "text/plain": [
       "   overnight  breakfast   daytime   evening  Tmax1  Tmax2  Tmin1     Cmax1    Cmax2     Cmin1       mic  meter_dtw_eu  meter_sdtw_eu  meter_dtw_sdtw  meter_sdtw_sdtw      0      1      2      3     4      5      6      7      8      9     10     11     12     13     14     15     16     17     18     19     20     21     22     23    24     25     26     27     28     29     30     31     32     33     34     35     36     37     38     39     40     41     42     43     44     45     46     47    FDI\n",
       "0   0.152176    0.08725  0.151714  0.099615     19     46     37  0.026737  0.02806  0.000975  0.604958      1.656341     -66.713528        1.983855       -69.851348  0.362  0.064  0.119  0.023  0.14  0.036  0.108  0.083  0.056  0.129  0.015  0.132  0.054  0.082  0.103  0.028  0.136  0.051  0.333  0.384  0.066  0.138  0.077  0.063  0.15  0.084  0.202  0.108  0.239  0.178  0.051  0.135  0.017  0.116  0.063  0.068  0.118  0.014  0.132  0.053  0.078  0.126  0.128  0.247  0.249  0.305  0.403  0.309  False"
      ]
     },
     "metadata": {},
     "output_type": "display_data"
    }
   ],
   "source": [
    "smote_data = concat_two_df_and_drop_same_column_in_df2(oversample_X, oversample_y)"
   ]
  },
  {
   "cell_type": "code",
   "execution_count": null,
   "id": "6added31",
   "metadata": {
    "Collapsed": "false"
   },
   "outputs": [],
   "source": [
    "# smote on training_sample\n",
    "model, scoe = train_single_model(xgboost, smote_data, x_col, y_col, split_num = 1, return_model=True)"
   ]
  },
  {
   "cell_type": "code",
   "execution_count": 182,
   "id": "199ebca6",
   "metadata": {
    "Collapsed": "false"
   },
   "outputs": [
    {
     "name": "stdout",
     "output_type": "stream",
     "text": [
      "\n",
      " Time taken: 0 hours 6 minutes and 56.95 seconds.\n",
      "\n",
      " Time taken: 0 hours 7 minutes and 1.75 seconds.\n",
      "\n",
      " Time taken: 0 hours 6 minutes and 54.53 seconds.\n",
      "average_precision_score: 0.8459640082767406\n",
      "average_recall_score: 0.7223315895172687\n",
      "average_accuracy_score: 0.7954040942487127\n",
      "average_roc_auc_score: 0.7954040942487128\n",
      "average_f1_score: 0.7792693628677908\n",
      "\n",
      " Time taken: 0 hours 3 minutes and 25.23 seconds.\n",
      "\n",
      " Time taken: 0 hours 2 minutes and 58.47 seconds.\n",
      "\n",
      " Time taken: 0 hours 3 minutes and 24.26 seconds.\n",
      "average_precision_score: 0.9560228141206603\n",
      "average_recall_score: 0.24511829889188377\n",
      "average_accuracy_score: 0.9238375944326598\n",
      "average_roc_auc_score: 0.6219368302532212\n",
      "average_f1_score: 0.39018849693571084\n"
     ]
    }
   ],
   "source": [
    "x_col = ['overnight', 'breakfast', 'daytime', 'evening', 'Tmax1', 'Tmax2', 'Tmin1', 'Cmax1', 'Cmax2', 'Cmin1', 'mic', 'meter_dtw_48', 'meter_sdtw_48', 'meter_dtw_530', 'meter_sdtw_530']\n",
    "# smote on all data\n",
    "model, scoe = train_single_model(xgboost, smote_data, x_col, y_col, split_num = 3, return_model=True)\n",
    "\n",
    "# imbalanced data \n",
    "model, score = train_single_model(xgboost, training_data, x_col, y_col, split_num = 3, return_model=True)"
   ]
  },
  {
   "cell_type": "markdown",
   "id": "c8db9459",
   "metadata": {
    "Collapsed": "false"
   },
   "source": [
    "## model evaluate smote ( daily & four features)"
   ]
  },
  {
   "cell_type": "code",
   "execution_count": 15,
   "id": "8c77a0f3",
   "metadata": {
    "Collapsed": "false"
   },
   "outputs": [
    {
     "name": "stdout",
     "output_type": "stream",
     "text": [
      "Counter({False: 1702360, True: 89040})\n",
      "Counter({False: 1702360, True: 1702360})\n"
     ]
    },
    {
     "data": {
      "text/html": [
       "<div>\n",
       "<style scoped>\n",
       "    .dataframe tbody tr th:only-of-type {\n",
       "        vertical-align: middle;\n",
       "    }\n",
       "\n",
       "    .dataframe tbody tr th {\n",
       "        vertical-align: top;\n",
       "    }\n",
       "\n",
       "    .dataframe thead th {\n",
       "        text-align: right;\n",
       "    }\n",
       "</style>\n",
       "<table border=\"1\" class=\"dataframe\">\n",
       "  <thead>\n",
       "    <tr style=\"text-align: right;\">\n",
       "      <th></th>\n",
       "      <th>overnight</th>\n",
       "      <th>breakfast</th>\n",
       "      <th>daytime</th>\n",
       "      <th>evening</th>\n",
       "      <th>Tmax1</th>\n",
       "      <th>Tmax2</th>\n",
       "      <th>Tmin1</th>\n",
       "      <th>Cmax1</th>\n",
       "      <th>Cmax2</th>\n",
       "      <th>Cmin1</th>\n",
       "      <th>mic</th>\n",
       "      <th>meter_dtw_eu</th>\n",
       "      <th>meter_sdtw_eu</th>\n",
       "      <th>meter_dtw_sdtw</th>\n",
       "      <th>meter_sdtw_sdtw</th>\n",
       "      <th>0</th>\n",
       "      <th>1</th>\n",
       "      <th>2</th>\n",
       "      <th>3</th>\n",
       "      <th>4</th>\n",
       "      <th>5</th>\n",
       "      <th>6</th>\n",
       "      <th>7</th>\n",
       "      <th>8</th>\n",
       "      <th>9</th>\n",
       "      <th>10</th>\n",
       "      <th>11</th>\n",
       "      <th>12</th>\n",
       "      <th>13</th>\n",
       "      <th>14</th>\n",
       "      <th>15</th>\n",
       "      <th>16</th>\n",
       "      <th>17</th>\n",
       "      <th>18</th>\n",
       "      <th>19</th>\n",
       "      <th>20</th>\n",
       "      <th>21</th>\n",
       "      <th>22</th>\n",
       "      <th>23</th>\n",
       "      <th>24</th>\n",
       "      <th>25</th>\n",
       "      <th>26</th>\n",
       "      <th>27</th>\n",
       "      <th>28</th>\n",
       "      <th>29</th>\n",
       "      <th>30</th>\n",
       "      <th>31</th>\n",
       "      <th>32</th>\n",
       "      <th>33</th>\n",
       "      <th>34</th>\n",
       "      <th>35</th>\n",
       "      <th>36</th>\n",
       "      <th>37</th>\n",
       "      <th>38</th>\n",
       "      <th>39</th>\n",
       "      <th>40</th>\n",
       "      <th>41</th>\n",
       "      <th>42</th>\n",
       "      <th>43</th>\n",
       "      <th>44</th>\n",
       "      <th>45</th>\n",
       "      <th>46</th>\n",
       "      <th>47</th>\n",
       "    </tr>\n",
       "  </thead>\n",
       "  <tbody>\n",
       "    <tr>\n",
       "      <th>0</th>\n",
       "      <td>0.152176</td>\n",
       "      <td>0.08725</td>\n",
       "      <td>0.151714</td>\n",
       "      <td>0.099615</td>\n",
       "      <td>19</td>\n",
       "      <td>46</td>\n",
       "      <td>37</td>\n",
       "      <td>0.026737</td>\n",
       "      <td>0.02806</td>\n",
       "      <td>0.000975</td>\n",
       "      <td>0.604958</td>\n",
       "      <td>1.656341</td>\n",
       "      <td>-66.713528</td>\n",
       "      <td>1.983855</td>\n",
       "      <td>-69.851348</td>\n",
       "      <td>0.362</td>\n",
       "      <td>0.064</td>\n",
       "      <td>0.119</td>\n",
       "      <td>0.023</td>\n",
       "      <td>0.14</td>\n",
       "      <td>0.036</td>\n",
       "      <td>0.108</td>\n",
       "      <td>0.083</td>\n",
       "      <td>0.056</td>\n",
       "      <td>0.129</td>\n",
       "      <td>0.015</td>\n",
       "      <td>0.132</td>\n",
       "      <td>0.054</td>\n",
       "      <td>0.082</td>\n",
       "      <td>0.103</td>\n",
       "      <td>0.028</td>\n",
       "      <td>0.136</td>\n",
       "      <td>0.051</td>\n",
       "      <td>0.333</td>\n",
       "      <td>0.384</td>\n",
       "      <td>0.066</td>\n",
       "      <td>0.138</td>\n",
       "      <td>0.077</td>\n",
       "      <td>0.063</td>\n",
       "      <td>0.15</td>\n",
       "      <td>0.084</td>\n",
       "      <td>0.202</td>\n",
       "      <td>0.108</td>\n",
       "      <td>0.239</td>\n",
       "      <td>0.178</td>\n",
       "      <td>0.051</td>\n",
       "      <td>0.135</td>\n",
       "      <td>0.017</td>\n",
       "      <td>0.116</td>\n",
       "      <td>0.063</td>\n",
       "      <td>0.068</td>\n",
       "      <td>0.118</td>\n",
       "      <td>0.014</td>\n",
       "      <td>0.132</td>\n",
       "      <td>0.053</td>\n",
       "      <td>0.078</td>\n",
       "      <td>0.126</td>\n",
       "      <td>0.128</td>\n",
       "      <td>0.247</td>\n",
       "      <td>0.249</td>\n",
       "      <td>0.305</td>\n",
       "      <td>0.403</td>\n",
       "      <td>0.309</td>\n",
       "    </tr>\n",
       "  </tbody>\n",
       "</table>\n",
       "</div>"
      ],
      "text/plain": [
       "   overnight  breakfast   daytime   evening  Tmax1  Tmax2  Tmin1     Cmax1    Cmax2     Cmin1       mic  meter_dtw_eu  meter_sdtw_eu  meter_dtw_sdtw  meter_sdtw_sdtw      0      1      2      3     4      5      6      7      8      9     10     11     12     13     14     15     16     17     18     19     20     21     22     23    24     25     26     27     28     29     30     31     32     33     34     35     36     37     38     39     40     41     42     43     44     45     46     47\n",
       "0   0.152176    0.08725  0.151714  0.099615     19     46     37  0.026737  0.02806  0.000975  0.604958      1.656341     -66.713528        1.983855       -69.851348  0.362  0.064  0.119  0.023  0.14  0.036  0.108  0.083  0.056  0.129  0.015  0.132  0.054  0.082  0.103  0.028  0.136  0.051  0.333  0.384  0.066  0.138  0.077  0.063  0.15  0.084  0.202  0.108  0.239  0.178  0.051  0.135  0.017  0.116  0.063  0.068  0.118  0.014  0.132  0.053  0.078  0.126  0.128  0.247  0.249  0.305  0.403  0.309"
      ]
     },
     "metadata": {},
     "output_type": "display_data"
    },
    {
     "data": {
      "text/html": [
       "<div>\n",
       "<style scoped>\n",
       "    .dataframe tbody tr th:only-of-type {\n",
       "        vertical-align: middle;\n",
       "    }\n",
       "\n",
       "    .dataframe tbody tr th {\n",
       "        vertical-align: top;\n",
       "    }\n",
       "\n",
       "    .dataframe thead th {\n",
       "        text-align: right;\n",
       "    }\n",
       "</style>\n",
       "<table border=\"1\" class=\"dataframe\">\n",
       "  <thead>\n",
       "    <tr style=\"text-align: right;\">\n",
       "      <th></th>\n",
       "      <th>FDI</th>\n",
       "    </tr>\n",
       "  </thead>\n",
       "  <tbody>\n",
       "    <tr>\n",
       "      <th>0</th>\n",
       "      <td>False</td>\n",
       "    </tr>\n",
       "  </tbody>\n",
       "</table>\n",
       "</div>"
      ],
      "text/plain": [
       "     FDI\n",
       "0  False"
      ]
     },
     "metadata": {},
     "output_type": "display_data"
    },
    {
     "data": {
      "text/html": [
       "<div>\n",
       "<style scoped>\n",
       "    .dataframe tbody tr th:only-of-type {\n",
       "        vertical-align: middle;\n",
       "    }\n",
       "\n",
       "    .dataframe tbody tr th {\n",
       "        vertical-align: top;\n",
       "    }\n",
       "\n",
       "    .dataframe thead th {\n",
       "        text-align: right;\n",
       "    }\n",
       "</style>\n",
       "<table border=\"1\" class=\"dataframe\">\n",
       "  <thead>\n",
       "    <tr style=\"text-align: right;\">\n",
       "      <th></th>\n",
       "      <th>overnight</th>\n",
       "      <th>breakfast</th>\n",
       "      <th>daytime</th>\n",
       "      <th>evening</th>\n",
       "      <th>Tmax1</th>\n",
       "      <th>Tmax2</th>\n",
       "      <th>Tmin1</th>\n",
       "      <th>Cmax1</th>\n",
       "      <th>Cmax2</th>\n",
       "      <th>Cmin1</th>\n",
       "      <th>mic</th>\n",
       "      <th>meter_dtw_eu</th>\n",
       "      <th>meter_sdtw_eu</th>\n",
       "      <th>meter_dtw_sdtw</th>\n",
       "      <th>meter_sdtw_sdtw</th>\n",
       "      <th>0</th>\n",
       "      <th>1</th>\n",
       "      <th>2</th>\n",
       "      <th>3</th>\n",
       "      <th>4</th>\n",
       "      <th>5</th>\n",
       "      <th>6</th>\n",
       "      <th>7</th>\n",
       "      <th>8</th>\n",
       "      <th>9</th>\n",
       "      <th>10</th>\n",
       "      <th>11</th>\n",
       "      <th>12</th>\n",
       "      <th>13</th>\n",
       "      <th>14</th>\n",
       "      <th>15</th>\n",
       "      <th>16</th>\n",
       "      <th>17</th>\n",
       "      <th>18</th>\n",
       "      <th>19</th>\n",
       "      <th>20</th>\n",
       "      <th>21</th>\n",
       "      <th>22</th>\n",
       "      <th>23</th>\n",
       "      <th>24</th>\n",
       "      <th>25</th>\n",
       "      <th>26</th>\n",
       "      <th>27</th>\n",
       "      <th>28</th>\n",
       "      <th>29</th>\n",
       "      <th>30</th>\n",
       "      <th>31</th>\n",
       "      <th>32</th>\n",
       "      <th>33</th>\n",
       "      <th>34</th>\n",
       "      <th>35</th>\n",
       "      <th>36</th>\n",
       "      <th>37</th>\n",
       "      <th>38</th>\n",
       "      <th>39</th>\n",
       "      <th>40</th>\n",
       "      <th>41</th>\n",
       "      <th>42</th>\n",
       "      <th>43</th>\n",
       "      <th>44</th>\n",
       "      <th>45</th>\n",
       "      <th>46</th>\n",
       "      <th>47</th>\n",
       "      <th>FDI</th>\n",
       "    </tr>\n",
       "  </thead>\n",
       "  <tbody>\n",
       "    <tr>\n",
       "      <th>0</th>\n",
       "      <td>0.152176</td>\n",
       "      <td>0.08725</td>\n",
       "      <td>0.151714</td>\n",
       "      <td>0.099615</td>\n",
       "      <td>19</td>\n",
       "      <td>46</td>\n",
       "      <td>37</td>\n",
       "      <td>0.026737</td>\n",
       "      <td>0.02806</td>\n",
       "      <td>0.000975</td>\n",
       "      <td>0.604958</td>\n",
       "      <td>1.656341</td>\n",
       "      <td>-66.713528</td>\n",
       "      <td>1.983855</td>\n",
       "      <td>-69.851348</td>\n",
       "      <td>0.362</td>\n",
       "      <td>0.064</td>\n",
       "      <td>0.119</td>\n",
       "      <td>0.023</td>\n",
       "      <td>0.14</td>\n",
       "      <td>0.036</td>\n",
       "      <td>0.108</td>\n",
       "      <td>0.083</td>\n",
       "      <td>0.056</td>\n",
       "      <td>0.129</td>\n",
       "      <td>0.015</td>\n",
       "      <td>0.132</td>\n",
       "      <td>0.054</td>\n",
       "      <td>0.082</td>\n",
       "      <td>0.103</td>\n",
       "      <td>0.028</td>\n",
       "      <td>0.136</td>\n",
       "      <td>0.051</td>\n",
       "      <td>0.333</td>\n",
       "      <td>0.384</td>\n",
       "      <td>0.066</td>\n",
       "      <td>0.138</td>\n",
       "      <td>0.077</td>\n",
       "      <td>0.063</td>\n",
       "      <td>0.15</td>\n",
       "      <td>0.084</td>\n",
       "      <td>0.202</td>\n",
       "      <td>0.108</td>\n",
       "      <td>0.239</td>\n",
       "      <td>0.178</td>\n",
       "      <td>0.051</td>\n",
       "      <td>0.135</td>\n",
       "      <td>0.017</td>\n",
       "      <td>0.116</td>\n",
       "      <td>0.063</td>\n",
       "      <td>0.068</td>\n",
       "      <td>0.118</td>\n",
       "      <td>0.014</td>\n",
       "      <td>0.132</td>\n",
       "      <td>0.053</td>\n",
       "      <td>0.078</td>\n",
       "      <td>0.126</td>\n",
       "      <td>0.128</td>\n",
       "      <td>0.247</td>\n",
       "      <td>0.249</td>\n",
       "      <td>0.305</td>\n",
       "      <td>0.403</td>\n",
       "      <td>0.309</td>\n",
       "      <td>False</td>\n",
       "    </tr>\n",
       "  </tbody>\n",
       "</table>\n",
       "</div>"
      ],
      "text/plain": [
       "   overnight  breakfast   daytime   evening  Tmax1  Tmax2  Tmin1     Cmax1    Cmax2     Cmin1       mic  meter_dtw_eu  meter_sdtw_eu  meter_dtw_sdtw  meter_sdtw_sdtw      0      1      2      3     4      5      6      7      8      9     10     11     12     13     14     15     16     17     18     19     20     21     22     23    24     25     26     27     28     29     30     31     32     33     34     35     36     37     38     39     40     41     42     43     44     45     46     47    FDI\n",
       "0   0.152176    0.08725  0.151714  0.099615     19     46     37  0.026737  0.02806  0.000975  0.604958      1.656341     -66.713528        1.983855       -69.851348  0.362  0.064  0.119  0.023  0.14  0.036  0.108  0.083  0.056  0.129  0.015  0.132  0.054  0.082  0.103  0.028  0.136  0.051  0.333  0.384  0.066  0.138  0.077  0.063  0.15  0.084  0.202  0.108  0.239  0.178  0.051  0.135  0.017  0.116  0.063  0.068  0.118  0.014  0.132  0.053  0.078  0.126  0.128  0.247  0.249  0.305  0.403  0.309  False"
      ]
     },
     "metadata": {},
     "output_type": "display_data"
    }
   ],
   "source": [
    "x_col = ['overnight', 'breakfast', 'daytime', 'evening', 'Tmax1', 'Tmax2', 'Tmin1', 'Cmax1', 'Cmax2', 'Cmin1', 'mic', 'meter_dtw_eu', 'meter_sdtw_eu', 'meter_dtw_sdtw', 'meter_sdtw_sdtw', 0, 1, 2, 3, 4, 5, 6, 7, 8, 9, 10, 11, 12, 13, 14, 15, 16, 17, 18, 19, 20, 21, 22, 23, 24, 25, 26, 27, 28, 29, 30, 31, 32, 33, 34, 35, 36, 37, 38, 39, 40, 41, 42, 43, 44, 45, 46, 47]\n",
    "training_num = int(training_data.shape[0] * 0.8)\n",
    "train = training_data.iloc[:training_num]\n",
    "test = training_data.iloc[training_num:]\n",
    "print(Counter(train['FDI']))\n",
    "oversample = SMOTE()\n",
    "oversample_X, oversample_y = oversample.fit_resample(train[x_col], train['FDI'])\n",
    "print(Counter(oversample_y))\n",
    "oversample_y = pd.DataFrame(oversample_y, columns=['FDI'])\n",
    "smote_train_data = concat_two_df_and_drop_same_column_in_df2(oversample_X, oversample_y)"
   ]
  },
  {
   "cell_type": "code",
   "execution_count": 16,
   "id": "ecb8efe1",
   "metadata": {
    "Collapsed": "false"
   },
   "outputs": [
    {
     "name": "stdout",
     "output_type": "stream",
     "text": [
      "\n",
      "training time:  Time taken: 0 hours 19 minutes and 41.8 seconds.\n",
      "\n",
      "predict time:  Time taken: 0 hours 0 minutes and 0.5 seconds.\n",
      "accuracy_score: 0.9416210784861002\n",
      "precision score: 0.44034274131629864\n",
      "recall_score: 0.644115004492363\n",
      "roc_auc_score: 0.8006483995886943\n",
      "f1_score: 0.523084219550902\n"
     ]
    }
   ],
   "source": [
    "# tune xgboost\n",
    "xgboost = XGBClassifier(scale_pos_weight=1, use_label_encoder=False, verbosity=0, max_depth=8, subsample=0.8)\n",
    "smote_train(xgboost, smote_train_data, test, x_col, y_col)"
   ]
  },
  {
   "cell_type": "code",
   "execution_count": 16,
   "id": "23bf7020",
   "metadata": {
    "Collapsed": "false"
   },
   "outputs": [
    {
     "name": "stdout",
     "output_type": "stream",
     "text": [
      "\n",
      "training time:  Time taken: 0 hours 23 minutes and 7.89 seconds.\n",
      "\n",
      "predict time:  Time taken: 0 hours 0 minutes and 0.54 seconds.\n",
      "accuracy_score: 0.9483510103829407\n",
      "precision score: 0.4855837664272237\n",
      "recall_score: 0.658984725965858\n",
      "roc_auc_score: 0.8112353550645098\n",
      "f1_score: 0.5591492119156073\n"
     ]
    }
   ],
   "source": [
    "# tune xgboost 2\n",
    "xgboost = XGBClassifier(scale_pos_weight=1, use_label_encoder=False, verbosity=0, max_depth=9, subsample=0.8)\n",
    "smote_train(xgboost, smote_train_data, test, x_col, y_col)"
   ]
  },
  {
   "cell_type": "code",
   "execution_count": 18,
   "id": "aa93b597",
   "metadata": {
    "Collapsed": "false"
   },
   "outputs": [
    {
     "name": "stdout",
     "output_type": "stream",
     "text": [
      "\n",
      "training time:  Time taken: 0 hours 28 minutes and 1.27 seconds.\n",
      "\n",
      "predict time:  Time taken: 0 hours 0 minutes and 0.6 seconds.\n",
      "accuracy_score: 0.9550206542369096\n",
      "precision score: 0.5393220842934662\n",
      "recall_score: 0.6518867924528302\n",
      "roc_auc_score: 0.8113812589581523\n",
      "f1_score: 0.5902859699792539\n"
     ]
    }
   ],
   "source": [
    "# tune xgboost 3\n",
    "xgboost = XGBClassifier(scale_pos_weight=1, use_label_encoder=False, verbosity=0, max_depth=10, subsample=0.8)\n",
    "smote_train(xgboost, smote_train_data, test, x_col, y_col)"
   ]
  },
  {
   "cell_type": "code",
   "execution_count": 19,
   "id": "0db86f04",
   "metadata": {
    "Collapsed": "false"
   },
   "outputs": [
    {
     "name": "stdout",
     "output_type": "stream",
     "text": [
      "\n",
      "training time:  Time taken: 0 hours 29 minutes and 5.47 seconds.\n",
      "\n",
      "predict time:  Time taken: 0 hours 0 minutes and 0.6 seconds.\n",
      "accuracy_score: 0.9548911465892598\n",
      "precision score: 0.5389713679745494\n",
      "recall_score: 0.639308176100629\n",
      "roc_auc_score: 0.8053527651808862\n",
      "f1_score: 0.5848676639815881\n"
     ]
    }
   ],
   "source": [
    "# tune xgboost 4\n",
    "xgboost = XGBClassifier(scale_pos_weight=1, use_label_encoder=False, verbosity=0, max_depth=10)\n",
    "smote_train(xgboost, smote_train_data, test, x_col, y_col)"
   ]
  },
  {
   "cell_type": "code",
   "execution_count": 20,
   "id": "b988f331",
   "metadata": {
    "Collapsed": "false"
   },
   "outputs": [
    {
     "name": "stdout",
     "output_type": "stream",
     "text": [
      "\n",
      "training time:  Time taken: 0 hours 26 minutes and 35.75 seconds.\n",
      "\n",
      "predict time:  Time taken: 0 hours 0 minutes and 0.59 seconds.\n",
      "accuracy_score: 0.9554270403036731\n",
      "precision score: 0.5437614259597806\n",
      "recall_score: 0.6413746630727762\n",
      "roc_auc_score: 0.8066139275560315\n",
      "f1_score: 0.5885481078407123\n"
     ]
    }
   ],
   "source": [
    "# tune xgboost 5\n",
    "xgboost = XGBClassifier(scale_pos_weight=1, use_label_encoder=False, verbosity=0, max_depth=10, subsample=0.9)\n",
    "smote_train(xgboost, smote_train_data, test, x_col, y_col)"
   ]
  },
  {
   "cell_type": "code",
   "execution_count": 21,
   "id": "7df2b488",
   "metadata": {
    "Collapsed": "false"
   },
   "outputs": [
    {
     "name": "stdout",
     "output_type": "stream",
     "text": [
      "\n",
      "training time:  Time taken: 0 hours 25 minutes and 42.98 seconds.\n",
      "\n",
      "predict time:  Time taken: 0 hours 0 minutes and 0.59 seconds.\n",
      "accuracy_score: 0.9538751814223513\n",
      "precision score: 0.5295789201756652\n",
      "recall_score: 0.6446540880503144\n",
      "roc_auc_score: 0.8073513632055891\n",
      "f1_score: 0.5814778045667282\n"
     ]
    }
   ],
   "source": [
    "# tune xgboost 6\n",
    "xgboost = XGBClassifier(scale_pos_weight=1, use_label_encoder=False, verbosity=0, max_depth=10, subsample=0.7)\n",
    "smote_train(xgboost, smote_train_data, test, x_col, y_col)"
   ]
  },
  {
   "cell_type": "code",
   "execution_count": 22,
   "id": "ccf5ef74",
   "metadata": {
    "Collapsed": "false"
   },
   "outputs": [
    {
     "name": "stdout",
     "output_type": "stream",
     "text": [
      "\n",
      "training time:  Time taken: 0 hours 26 minutes and 47.73 seconds.\n",
      "\n",
      "predict time:  Time taken: 0 hours 0 minutes and 0.59 seconds.\n",
      "accuracy_score: 0.9543373897510327\n",
      "precision score: 0.5339485332733138\n",
      "recall_score: 0.6394429469901168\n",
      "roc_auc_score: 0.8051252658773982\n",
      "f1_score: 0.5819534731591643\n"
     ]
    }
   ],
   "source": [
    "# tune xgboost ˙\n",
    "xgboost = XGBClassifier(scale_pos_weight=1, use_label_encoder=False, verbosity=0, max_depth=10, subsample=0.8, eta=0.28)\n",
    "smote_train(xgboost, smote_train_data, test, x_col, y_col)"
   ]
  },
  {
   "cell_type": "code",
   "execution_count": null,
   "id": "08ebe98a",
   "metadata": {
    "Collapsed": "false"
   },
   "outputs": [],
   "source": []
  },
  {
   "cell_type": "code",
   "execution_count": 50,
   "id": "76187597",
   "metadata": {
    "Collapsed": "false"
   },
   "outputs": [
    {
     "name": "stdout",
     "output_type": "stream",
     "text": [
      "\n",
      "training time:  Time taken: 0 hours 21 minutes and 54.41 seconds.\n",
      "\n",
      "predict time:  Time taken: 0 hours 0 minutes and 0.46 seconds.\n",
      "accuracy_score: 0.9153332589036508\n",
      "precision score: 0.33001867210907987\n",
      "recall_score: 0.6828391734052112\n",
      "roc_auc_score: 0.8051663852646018\n",
      "f1_score: 0.4449778974794345\n"
     ]
    }
   ],
   "source": [
    "smote_train(xgboost, smote_train_data, test, x_col, y_col)"
   ]
  },
  {
   "cell_type": "code",
   "execution_count": 51,
   "id": "270134c9",
   "metadata": {
    "Collapsed": "false"
   },
   "outputs": [
    {
     "name": "stdout",
     "output_type": "stream",
     "text": [
      "\n",
      "training time:  Time taken: 0 hours 39 minutes and 38.59 seconds.\n",
      "\n",
      "predict time:  Time taken: 0 hours 0 minutes and 6.76 seconds.\n",
      "accuracy_score: 0.7686569163782516\n",
      "precision score: 0.14244648586875303\n",
      "recall_score: 0.7279424977538185\n",
      "roc_auc_score: 0.7493644677025395\n",
      "f1_score: 0.23826783810609123\n"
     ]
    }
   ],
   "source": [
    "smote_train(adaboost, smote_train_data, test, x_col, y_col)"
   ]
  },
  {
   "cell_type": "code",
   "execution_count": 52,
   "id": "462baf40",
   "metadata": {
    "Collapsed": "false"
   },
   "outputs": [
    {
     "name": "stdout",
     "output_type": "stream",
     "text": [
      "\n",
      "training time:  Time taken: 0 hours 31 minutes and 5.34 seconds.\n",
      "\n",
      "predict time:  Time taken: 0 hours 0 minutes and 6.89 seconds.\n",
      "accuracy_score: 0.9549268728368874\n",
      "precision score: 0.5420416768020757\n",
      "recall_score: 0.60062893081761\n",
      "roc_auc_score: 0.7870434768987367\n",
      "f1_score: 0.5698333546434812\n"
     ]
    }
   ],
   "source": [
    "smote_train(randforest, smote_train_data, test, x_col, y_col)"
   ]
  },
  {
   "cell_type": "code",
   "execution_count": 54,
   "id": "7e55a398",
   "metadata": {
    "Collapsed": "false"
   },
   "outputs": [
    {
     "name": "stdout",
     "output_type": "stream",
     "text": [
      "\n",
      "training time:  Time taken: 0 hours 0 minutes and 1.11 seconds.\n",
      "\n",
      "predict time:  Time taken: 0 hours 0 minutes and 0.12 seconds.\n",
      "accuracy_score: 0.6847270291392207\n",
      "precision score: 0.09613229651261503\n",
      "recall_score: 0.6358939802336029\n",
      "roc_auc_score: 0.661587583175849\n",
      "f1_score: 0.1670157222500811\n"
     ]
    }
   ],
   "source": [
    "smote_train(complementNB, smote_train_data, test, x_col, y_col, minmax=True)"
   ]
  },
  {
   "cell_type": "code",
   "execution_count": 55,
   "id": "549163f9",
   "metadata": {
    "Collapsed": "false"
   },
   "outputs": [
    {
     "name": "stdout",
     "output_type": "stream",
     "text": [
      "\n",
      "training time:  Time taken: 0 hours 19 minutes and 31.32 seconds.\n",
      "\n",
      "predict time:  Time taken: 0 hours 0 minutes and 0.49 seconds.\n",
      "accuracy_score: 0.8582382494138663\n",
      "precision score: 0.19093526042759904\n",
      "recall_score: 0.5721024258760108\n",
      "roc_auc_score: 0.7226533417474229\n",
      "f1_score: 0.2863148901728906\n"
     ]
    }
   ],
   "source": [
    "smote_train(DT, smote_train_data, test, x_col, y_col)"
   ]
  },
  {
   "cell_type": "markdown",
   "id": "3c9b5cc2",
   "metadata": {
    "Collapsed": "true"
   },
   "source": [
    "## smote only features"
   ]
  },
  {
   "cell_type": "code",
   "execution_count": 183,
   "id": "9242ad78",
   "metadata": {
    "Collapsed": "false"
   },
   "outputs": [
    {
     "name": "stdout",
     "output_type": "stream",
     "text": [
      "\n",
      " Time taken: 0 hours 6 minutes and 44.42 seconds.\n",
      "\n",
      " Time taken: 0 hours 7 minutes and 27.35 seconds.\n",
      "\n",
      " Time taken: 0 hours 7 minutes and 13.06 seconds.\n",
      "average_precision_score: 0.5525945823224182\n",
      "average_recall_score: 0.9934269429223933\n",
      "average_accuracy_score: 0.5945393488100452\n",
      "average_roc_auc_score: 0.5945393488100452\n",
      "average_f1_score: 0.7101589543269068\n",
      "\n",
      " Time taken: 0 hours 4 minutes and 14.14 seconds.\n",
      "\n",
      " Time taken: 0 hours 3 minutes and 38.09 seconds.\n",
      "\n",
      " Time taken: 0 hours 3 minutes and 31.95 seconds.\n",
      "average_precision_score: 0.19184276099907524\n",
      "average_recall_score: 0.6470200658879904\n",
      "average_accuracy_score: 0.6939386947514669\n",
      "average_roc_auc_score: 0.6730688447248089\n",
      "average_f1_score: 0.2959347416254148\n"
     ]
    }
   ],
   "source": [
    "x_col = ['overnight', 'breakfast', 'daytime', 'evening', 'Tmax1', 'Tmax2', 'Tmin1', 'Cmax1', 'Cmax2', 'Cmin1', 'mic', 'meter_dtw_48', 'meter_sdtw_48', 'meter_dtw_530', 'meter_sdtw_530']\n",
    "xgboost = XGBClassifier(scale_pos_weight=10, use_label_encoder=False, n_jobs=6, verbosity=0)\n",
    "# smote on all data\n",
    "model, scoe = train_single_model(xgboost, smote_data, x_col, y_col, split_num = 3, return_model=True)\n",
    "\n",
    "# imbalanced data \n",
    "model, score = train_single_model(xgboost, training_data, x_col, y_col, split_num = 3, return_model=True)"
   ]
  },
  {
   "cell_type": "code",
   "execution_count": 184,
   "id": "8444afbd",
   "metadata": {
    "Collapsed": "false"
   },
   "outputs": [
    {
     "name": "stdout",
     "output_type": "stream",
     "text": [
      "\n",
      " Time taken: 0 hours 10 minutes and 59.17 seconds.\n",
      "\n",
      " Time taken: 0 hours 11 minutes and 8.46 seconds.\n",
      "\n",
      " Time taken: 0 hours 10 minutes and 58.65 seconds.\n",
      "average_precision_score: 0.6971849991309447\n",
      "average_recall_score: 0.5112014699846005\n",
      "average_accuracy_score: 0.6445127645683022\n",
      "average_roc_auc_score: 0.6445127645683022\n",
      "average_f1_score: 0.5898345754145229\n",
      "\n",
      " Time taken: 0 hours 5 minutes and 22.34 seconds.\n",
      "\n",
      " Time taken: 0 hours 4 minutes and 14.73 seconds.\n",
      "\n",
      " Time taken: 0 hours 5 minutes and 4.94 seconds.\n",
      "average_precision_score: 0.867681902535495\n",
      "average_recall_score: 0.0678995707297594\n",
      "average_accuracy_score: 0.9063123813776933\n",
      "average_roc_auc_score: 0.533378430780682\n",
      "average_f1_score: 0.12594264992418466\n"
     ]
    }
   ],
   "source": [
    "# smote on all data adaboost\n",
    "model, scoe = train_single_model(adaboost, smote_data, x_col, y_col, split_num = 3, return_model=True)\n",
    "# imbalanced data adaboost\n",
    "model, score = train_single_model(adaboost, training_data, x_col, y_col, split_num = 3, return_model=True)"
   ]
  },
  {
   "cell_type": "markdown",
   "id": "9842c3de",
   "metadata": {
    "Collapsed": "false"
   },
   "source": [
    "## model evaluate smote (48 hours only)"
   ]
  },
  {
   "cell_type": "code",
   "execution_count": 21,
   "id": "cc2f3a7a",
   "metadata": {
    "Collapsed": "false"
   },
   "outputs": [
    {
     "name": "stdout",
     "output_type": "stream",
     "text": [
      "Counter({False: 1702360, True: 89040})\n",
      "Counter({False: 1702360, True: 1702360})\n"
     ]
    },
    {
     "data": {
      "text/html": [
       "<div>\n",
       "<style scoped>\n",
       "    .dataframe tbody tr th:only-of-type {\n",
       "        vertical-align: middle;\n",
       "    }\n",
       "\n",
       "    .dataframe tbody tr th {\n",
       "        vertical-align: top;\n",
       "    }\n",
       "\n",
       "    .dataframe thead th {\n",
       "        text-align: right;\n",
       "    }\n",
       "</style>\n",
       "<table border=\"1\" class=\"dataframe\">\n",
       "  <thead>\n",
       "    <tr style=\"text-align: right;\">\n",
       "      <th></th>\n",
       "      <th>0</th>\n",
       "      <th>1</th>\n",
       "      <th>2</th>\n",
       "      <th>3</th>\n",
       "      <th>4</th>\n",
       "      <th>5</th>\n",
       "      <th>6</th>\n",
       "      <th>7</th>\n",
       "      <th>8</th>\n",
       "      <th>9</th>\n",
       "      <th>10</th>\n",
       "      <th>11</th>\n",
       "      <th>12</th>\n",
       "      <th>13</th>\n",
       "      <th>14</th>\n",
       "      <th>15</th>\n",
       "      <th>16</th>\n",
       "      <th>17</th>\n",
       "      <th>18</th>\n",
       "      <th>19</th>\n",
       "      <th>20</th>\n",
       "      <th>21</th>\n",
       "      <th>22</th>\n",
       "      <th>23</th>\n",
       "      <th>24</th>\n",
       "      <th>25</th>\n",
       "      <th>26</th>\n",
       "      <th>27</th>\n",
       "      <th>28</th>\n",
       "      <th>29</th>\n",
       "      <th>30</th>\n",
       "      <th>31</th>\n",
       "      <th>32</th>\n",
       "      <th>33</th>\n",
       "      <th>34</th>\n",
       "      <th>35</th>\n",
       "      <th>36</th>\n",
       "      <th>37</th>\n",
       "      <th>38</th>\n",
       "      <th>39</th>\n",
       "      <th>40</th>\n",
       "      <th>41</th>\n",
       "      <th>42</th>\n",
       "      <th>43</th>\n",
       "      <th>44</th>\n",
       "      <th>45</th>\n",
       "      <th>46</th>\n",
       "      <th>47</th>\n",
       "    </tr>\n",
       "  </thead>\n",
       "  <tbody>\n",
       "    <tr>\n",
       "      <th>0</th>\n",
       "      <td>0.362</td>\n",
       "      <td>0.064</td>\n",
       "      <td>0.119</td>\n",
       "      <td>0.023</td>\n",
       "      <td>0.14</td>\n",
       "      <td>0.036</td>\n",
       "      <td>0.108</td>\n",
       "      <td>0.083</td>\n",
       "      <td>0.056</td>\n",
       "      <td>0.129</td>\n",
       "      <td>0.015</td>\n",
       "      <td>0.132</td>\n",
       "      <td>0.054</td>\n",
       "      <td>0.082</td>\n",
       "      <td>0.103</td>\n",
       "      <td>0.028</td>\n",
       "      <td>0.136</td>\n",
       "      <td>0.051</td>\n",
       "      <td>0.333</td>\n",
       "      <td>0.384</td>\n",
       "      <td>0.066</td>\n",
       "      <td>0.138</td>\n",
       "      <td>0.077</td>\n",
       "      <td>0.063</td>\n",
       "      <td>0.15</td>\n",
       "      <td>0.084</td>\n",
       "      <td>0.202</td>\n",
       "      <td>0.108</td>\n",
       "      <td>0.239</td>\n",
       "      <td>0.178</td>\n",
       "      <td>0.051</td>\n",
       "      <td>0.135</td>\n",
       "      <td>0.017</td>\n",
       "      <td>0.116</td>\n",
       "      <td>0.063</td>\n",
       "      <td>0.068</td>\n",
       "      <td>0.118</td>\n",
       "      <td>0.014</td>\n",
       "      <td>0.132</td>\n",
       "      <td>0.053</td>\n",
       "      <td>0.078</td>\n",
       "      <td>0.126</td>\n",
       "      <td>0.128</td>\n",
       "      <td>0.247</td>\n",
       "      <td>0.249</td>\n",
       "      <td>0.305</td>\n",
       "      <td>0.403</td>\n",
       "      <td>0.309</td>\n",
       "    </tr>\n",
       "  </tbody>\n",
       "</table>\n",
       "</div>"
      ],
      "text/plain": [
       "      0      1      2      3     4      5      6      7      8      9      10     11     12     13     14     15     16     17     18     19     20     21     22     23    24     25     26     27     28     29     30     31     32     33     34     35     36     37     38     39     40     41     42     43     44     45     46     47\n",
       "0  0.362  0.064  0.119  0.023  0.14  0.036  0.108  0.083  0.056  0.129  0.015  0.132  0.054  0.082  0.103  0.028  0.136  0.051  0.333  0.384  0.066  0.138  0.077  0.063  0.15  0.084  0.202  0.108  0.239  0.178  0.051  0.135  0.017  0.116  0.063  0.068  0.118  0.014  0.132  0.053  0.078  0.126  0.128  0.247  0.249  0.305  0.403  0.309"
      ]
     },
     "metadata": {},
     "output_type": "display_data"
    },
    {
     "data": {
      "text/html": [
       "<div>\n",
       "<style scoped>\n",
       "    .dataframe tbody tr th:only-of-type {\n",
       "        vertical-align: middle;\n",
       "    }\n",
       "\n",
       "    .dataframe tbody tr th {\n",
       "        vertical-align: top;\n",
       "    }\n",
       "\n",
       "    .dataframe thead th {\n",
       "        text-align: right;\n",
       "    }\n",
       "</style>\n",
       "<table border=\"1\" class=\"dataframe\">\n",
       "  <thead>\n",
       "    <tr style=\"text-align: right;\">\n",
       "      <th></th>\n",
       "      <th>FDI</th>\n",
       "    </tr>\n",
       "  </thead>\n",
       "  <tbody>\n",
       "    <tr>\n",
       "      <th>0</th>\n",
       "      <td>False</td>\n",
       "    </tr>\n",
       "  </tbody>\n",
       "</table>\n",
       "</div>"
      ],
      "text/plain": [
       "     FDI\n",
       "0  False"
      ]
     },
     "metadata": {},
     "output_type": "display_data"
    },
    {
     "data": {
      "text/html": [
       "<div>\n",
       "<style scoped>\n",
       "    .dataframe tbody tr th:only-of-type {\n",
       "        vertical-align: middle;\n",
       "    }\n",
       "\n",
       "    .dataframe tbody tr th {\n",
       "        vertical-align: top;\n",
       "    }\n",
       "\n",
       "    .dataframe thead th {\n",
       "        text-align: right;\n",
       "    }\n",
       "</style>\n",
       "<table border=\"1\" class=\"dataframe\">\n",
       "  <thead>\n",
       "    <tr style=\"text-align: right;\">\n",
       "      <th></th>\n",
       "      <th>0</th>\n",
       "      <th>1</th>\n",
       "      <th>2</th>\n",
       "      <th>3</th>\n",
       "      <th>4</th>\n",
       "      <th>5</th>\n",
       "      <th>6</th>\n",
       "      <th>7</th>\n",
       "      <th>8</th>\n",
       "      <th>9</th>\n",
       "      <th>10</th>\n",
       "      <th>11</th>\n",
       "      <th>12</th>\n",
       "      <th>13</th>\n",
       "      <th>14</th>\n",
       "      <th>15</th>\n",
       "      <th>16</th>\n",
       "      <th>17</th>\n",
       "      <th>18</th>\n",
       "      <th>19</th>\n",
       "      <th>20</th>\n",
       "      <th>21</th>\n",
       "      <th>22</th>\n",
       "      <th>23</th>\n",
       "      <th>24</th>\n",
       "      <th>25</th>\n",
       "      <th>26</th>\n",
       "      <th>27</th>\n",
       "      <th>28</th>\n",
       "      <th>29</th>\n",
       "      <th>30</th>\n",
       "      <th>31</th>\n",
       "      <th>32</th>\n",
       "      <th>33</th>\n",
       "      <th>34</th>\n",
       "      <th>35</th>\n",
       "      <th>36</th>\n",
       "      <th>37</th>\n",
       "      <th>38</th>\n",
       "      <th>39</th>\n",
       "      <th>40</th>\n",
       "      <th>41</th>\n",
       "      <th>42</th>\n",
       "      <th>43</th>\n",
       "      <th>44</th>\n",
       "      <th>45</th>\n",
       "      <th>46</th>\n",
       "      <th>47</th>\n",
       "      <th>FDI</th>\n",
       "    </tr>\n",
       "  </thead>\n",
       "  <tbody>\n",
       "    <tr>\n",
       "      <th>0</th>\n",
       "      <td>0.362</td>\n",
       "      <td>0.064</td>\n",
       "      <td>0.119</td>\n",
       "      <td>0.023</td>\n",
       "      <td>0.14</td>\n",
       "      <td>0.036</td>\n",
       "      <td>0.108</td>\n",
       "      <td>0.083</td>\n",
       "      <td>0.056</td>\n",
       "      <td>0.129</td>\n",
       "      <td>0.015</td>\n",
       "      <td>0.132</td>\n",
       "      <td>0.054</td>\n",
       "      <td>0.082</td>\n",
       "      <td>0.103</td>\n",
       "      <td>0.028</td>\n",
       "      <td>0.136</td>\n",
       "      <td>0.051</td>\n",
       "      <td>0.333</td>\n",
       "      <td>0.384</td>\n",
       "      <td>0.066</td>\n",
       "      <td>0.138</td>\n",
       "      <td>0.077</td>\n",
       "      <td>0.063</td>\n",
       "      <td>0.15</td>\n",
       "      <td>0.084</td>\n",
       "      <td>0.202</td>\n",
       "      <td>0.108</td>\n",
       "      <td>0.239</td>\n",
       "      <td>0.178</td>\n",
       "      <td>0.051</td>\n",
       "      <td>0.135</td>\n",
       "      <td>0.017</td>\n",
       "      <td>0.116</td>\n",
       "      <td>0.063</td>\n",
       "      <td>0.068</td>\n",
       "      <td>0.118</td>\n",
       "      <td>0.014</td>\n",
       "      <td>0.132</td>\n",
       "      <td>0.053</td>\n",
       "      <td>0.078</td>\n",
       "      <td>0.126</td>\n",
       "      <td>0.128</td>\n",
       "      <td>0.247</td>\n",
       "      <td>0.249</td>\n",
       "      <td>0.305</td>\n",
       "      <td>0.403</td>\n",
       "      <td>0.309</td>\n",
       "      <td>False</td>\n",
       "    </tr>\n",
       "  </tbody>\n",
       "</table>\n",
       "</div>"
      ],
      "text/plain": [
       "       0      1      2      3     4      5      6      7      8      9     10     11     12     13     14     15     16     17     18     19     20     21     22     23    24     25     26     27     28     29     30     31     32     33     34     35     36     37     38     39     40     41     42     43     44     45     46     47    FDI\n",
       "0  0.362  0.064  0.119  0.023  0.14  0.036  0.108  0.083  0.056  0.129  0.015  0.132  0.054  0.082  0.103  0.028  0.136  0.051  0.333  0.384  0.066  0.138  0.077  0.063  0.15  0.084  0.202  0.108  0.239  0.178  0.051  0.135  0.017  0.116  0.063  0.068  0.118  0.014  0.132  0.053  0.078  0.126  0.128  0.247  0.249  0.305  0.403  0.309  False"
      ]
     },
     "metadata": {},
     "output_type": "display_data"
    }
   ],
   "source": [
    "x_col = [0, 1, 2, 3, 4, 5, 6, 7, 8, 9, 10, 11, 12, 13, 14, 15, 16, 17, 18, 19, 20, 21, 22, 23, 24, 25, 26, 27, 28, 29, 30, 31, 32, 33, 34, 35, 36, 37, 38, 39, 40, 41, 42, 43, 44, 45, 46, 47]\n",
    "training_num = int(training_data.shape[0] * 0.8)\n",
    "train = training_data.iloc[:training_num]\n",
    "test = training_data.iloc[training_num:]\n",
    "print(Counter(train['FDI']))\n",
    "oversample = SMOTE()\n",
    "oversample_X, oversample_y = oversample.fit_resample(train[x_col], train['FDI'])\n",
    "print(Counter(oversample_y))\n",
    "oversample_y = pd.DataFrame(oversample_y, columns=['FDI'])\n",
    "smote_train_data = concat_two_df_and_drop_same_column_in_df2(oversample_X, oversample_y)"
   ]
  },
  {
   "cell_type": "code",
   "execution_count": 22,
   "id": "6a44fc47",
   "metadata": {
    "Collapsed": "false"
   },
   "outputs": [
    {
     "name": "stdout",
     "output_type": "stream",
     "text": [
      "\n",
      "training time:  Time taken: 0 hours 15 minutes and 49.9 seconds.\n",
      "\n",
      "predict time:  Time taken: 0 hours 0 minutes and 0.34 seconds.\n",
      "accuracy_score: 0.878858992966395\n",
      "precision score: 0.2618682545589877\n",
      "recall_score: 0.790251572327044\n",
      "roc_auc_score: 0.8368725377319329\n",
      "f1_score: 0.39338066752390005\n"
     ]
    }
   ],
   "source": [
    "x_col = [0, 1, 2, 3, 4, 5, 6, 7, 8, 9, 10, 11, 12, 13, 14, 15, 16, 17, 18, 19, 20, 21, 22, 23, 24, 25, 26, 27, 28, 29, 30, 31, 32, 33, 34, 35, 36, 37, 38, 39, 40, 41, 42, 43, 44, 45, 46, 47]\n",
    "smote_train(xgboost, smote_train_data, test, x_col, y_col)"
   ]
  },
  {
   "cell_type": "code",
   "execution_count": 23,
   "id": "9f039a94",
   "metadata": {
    "Collapsed": "false"
   },
   "outputs": [
    {
     "name": "stdout",
     "output_type": "stream",
     "text": [
      "\n",
      "training time:  Time taken: 0 hours 32 minutes and 30.92 seconds.\n",
      "\n",
      "predict time:  Time taken: 0 hours 0 minutes and 5.01 seconds.\n",
      "accuracy_score: 0.7256983364965949\n",
      "precision score: 0.12432024620533047\n",
      "recall_score: 0.747663971248877\n",
      "roc_auc_score: 0.7361067101245443\n",
      "f1_score: 0.21319140214690135\n"
     ]
    }
   ],
   "source": [
    "x_col = [0, 1, 2, 3, 4, 5, 6, 7, 8, 9, 10, 11, 12, 13, 14, 15, 16, 17, 18, 19, 20, 21, 22, 23, 24, 25, 26, 27, 28, 29, 30, 31, 32, 33, 34, 35, 36, 37, 38, 39, 40, 41, 42, 43, 44, 45, 46, 47]\n",
    "smote_train(adaboost, smote_train_data, test, x_col, y_col)"
   ]
  },
  {
   "cell_type": "code",
   "execution_count": 28,
   "id": "da7e712d",
   "metadata": {
    "Collapsed": "false"
   },
   "outputs": [
    {
     "name": "stderr",
     "output_type": "stream",
     "text": [
      "/opt/conda/lib/python3.7/site-packages/sklearn/svm/_base.py:986: ConvergenceWarning: Liblinear failed to converge, increase the number of iterations.\n",
      "  \"the number of iterations.\", ConvergenceWarning)\n"
     ]
    },
    {
     "name": "stdout",
     "output_type": "stream",
     "text": [
      "\n",
      "training time:  Time taken: 2 hours 49 minutes and 31.13 seconds.\n",
      "\n",
      "predict time:  Time taken: 0 hours 0 minutes and 0.13 seconds.\n",
      "accuracy_score: 0.9502958579881656\n"
     ]
    },
    {
     "name": "stderr",
     "output_type": "stream",
     "text": [
      "/opt/conda/lib/python3.7/site-packages/sklearn/metrics/_classification.py:1248: UndefinedMetricWarning: Precision is ill-defined and being set to 0.0 due to no predicted samples. Use `zero_division` parameter to control this behavior.\n",
      "  _warn_prf(average, modifier, msg_start, len(result))\n"
     ]
    },
    {
     "name": "stdout",
     "output_type": "stream",
     "text": [
      "precision score: 0.0\n",
      "recall_score: 0.0\n",
      "roc_auc_score: 0.5\n",
      "f1_score: 0.0\n"
     ]
    }
   ],
   "source": [
    "x_col = [0, 1, 2, 3, 4, 5, 6, 7, 8, 9, 10, 11, 12, 13, 14, 15, 16, 17, 18, 19, 20, 21, 22, 23, 24, 25, 26, 27, 28, 29, 30, 31, 32, 33, 34, 35, 36, 37, 38, 39, 40, 41, 42, 43, 44, 45, 46, 47]\n",
    "smote_train(lineSVM, smote_train_data, test, x_col, y_col)"
   ]
  },
  {
   "cell_type": "code",
   "execution_count": 24,
   "id": "bd1f330f",
   "metadata": {
    "Collapsed": "false"
   },
   "outputs": [
    {
     "name": "stdout",
     "output_type": "stream",
     "text": [
      "\n",
      "training time:  Time taken: 0 hours 25 minutes and 29.11 seconds.\n",
      "\n",
      "predict time:  Time taken: 0 hours 0 minutes and 6.49 seconds.\n",
      "accuracy_score: 0.942643742324439\n",
      "precision score: 0.4461010977949734\n",
      "recall_score: 0.6371069182389937\n",
      "roc_auc_score: 0.797865707997525\n",
      "f1_score: 0.5247636491461769\n"
     ]
    }
   ],
   "source": [
    "x_col = [0, 1, 2, 3, 4, 5, 6, 7, 8, 9, 10, 11, 12, 13, 14, 15, 16, 17, 18, 19, 20, 21, 22, 23, 24, 25, 26, 27, 28, 29, 30, 31, 32, 33, 34, 35, 36, 37, 38, 39, 40, 41, 42, 43, 44, 45, 46, 47]\n",
    "smote_train(randforest, smote_train_data, test, x_col, y_col)"
   ]
  },
  {
   "cell_type": "code",
   "execution_count": 25,
   "id": "671745f4",
   "metadata": {
    "Collapsed": "false"
   },
   "outputs": [
    {
     "name": "stdout",
     "output_type": "stream",
     "text": [
      "\n",
      "training time:  Time taken: 0 hours 0 minutes and 0.86 seconds.\n",
      "\n",
      "predict time:  Time taken: 0 hours 0 minutes and 0.15 seconds.\n",
      "accuracy_score: 0.5695366752260802\n",
      "precision score: 0.060355896108449825\n",
      "recall_score: 0.5258310871518419\n",
      "roc_auc_score: 0.5488268666803172\n",
      "f1_score: 0.10828287687390432\n"
     ]
    }
   ],
   "source": [
    "x_col = [0, 1, 2, 3, 4, 5, 6, 7, 8, 9, 10, 11, 12, 13, 14, 15, 16, 17, 18, 19, 20, 21, 22, 23, 24, 25, 26, 27, 28, 29, 30, 31, 32, 33, 34, 35, 36, 37, 38, 39, 40, 41, 42, 43, 44, 45, 46, 47]\n",
    "smote_train(complementNB, smote_train_data, test, x_col, y_col)"
   ]
  },
  {
   "cell_type": "code",
   "execution_count": 26,
   "id": "48d05e98",
   "metadata": {
    "Collapsed": "false"
   },
   "outputs": [
    {
     "name": "stdout",
     "output_type": "stream",
     "text": [
      "\n",
      "training time:  Time taken: 0 hours 14 minutes and 21.92 seconds.\n",
      "\n",
      "predict time:  Time taken: 0 hours 0 minutes and 0.41 seconds.\n",
      "accuracy_score: 0.8221525064195602\n",
      "precision score: 0.16682728592162555\n",
      "recall_score: 0.6454627133872417\n",
      "roc_auc_score: 0.7384283890487044\n",
      "f1_score: 0.26512893850625086\n"
     ]
    }
   ],
   "source": [
    "x_col = [0, 1, 2, 3, 4, 5, 6, 7, 8, 9, 10, 11, 12, 13, 14, 15, 16, 17, 18, 19, 20, 21, 22, 23, 24, 25, 26, 27, 28, 29, 30, 31, 32, 33, 34, 35, 36, 37, 38, 39, 40, 41, 42, 43, 44, 45, 46, 47]\n",
    "smote_train(DT, smote_train_data, test, x_col, y_col)"
   ]
  },
  {
   "cell_type": "markdown",
   "id": "04ea2d85",
   "metadata": {
    "Collapsed": "true"
   },
   "source": [
    "## model evaluate unbalanced (48 hours only)"
   ]
  },
  {
   "cell_type": "code",
   "execution_count": 15,
   "id": "9dd6b853",
   "metadata": {
    "Collapsed": "false"
   },
   "outputs": [
    {
     "data": {
      "text/plain": [
       "Counter({False: 2127950, True: 111300})"
      ]
     },
     "execution_count": 15,
     "metadata": {},
     "output_type": "execute_result"
    }
   ],
   "source": [
    "Counter(training_data['FDI'])"
   ]
  },
  {
   "cell_type": "code",
   "execution_count": 16,
   "id": "f9e81758",
   "metadata": {
    "Collapsed": "false"
   },
   "outputs": [
    {
     "name": "stdout",
     "output_type": "stream",
     "text": [
      "(1791400, 66)\n",
      "(447850, 66)\n",
      "\n",
      "training time:  Time taken: 0 hours 4 minutes and 38.99 seconds.\n",
      "\n",
      "predict time:  Time taken: 0 hours 0 minutes and 0.35 seconds.\n",
      "accuracy_score: 0.9722741989505415\n",
      "precision score: 0.9158428390367553\n",
      "recall_score: 0.48692722371967656\n",
      "roc_auc_score: 0.7422934715839861\n",
      "f1_score: 0.6358117025956885\n"
     ]
    }
   ],
   "source": [
    "x_col = [0, 1, 2, 3, 4, 5, 6, 7, 8, 9, 10, 11, 12, 13, 14, 15, 16, 17, 18, 19, 20, 21, 22, 23, 24, 25, 26, 27, 28, 29, 30, 31, 32, 33, 34, 35, 36, 37, 38, 39, 40, 41, 42, 43, 44, 45, 46, 47]\n",
    "simple_train(xgboost, training_data, x_col, y_col)"
   ]
  },
  {
   "cell_type": "code",
   "execution_count": 17,
   "id": "ec5b9a8b",
   "metadata": {
    "Collapsed": "false"
   },
   "outputs": [
    {
     "name": "stdout",
     "output_type": "stream",
     "text": [
      "(1791400, 66)\n",
      "(447850, 66)\n",
      "\n",
      "training time:  Time taken: 0 hours 11 minutes and 45.06 seconds.\n",
      "\n",
      "predict time:  Time taken: 0 hours 0 minutes and 4.97 seconds.\n",
      "accuracy_score: 0.9541967176509992\n",
      "precision score: 0.6146475915474472\n",
      "recall_score: 0.21037735849056605\n",
      "roc_auc_score: 0.6017393500787143\n",
      "f1_score: 0.3134643060343385\n"
     ]
    }
   ],
   "source": [
    "x_col = [0, 1, 2, 3, 4, 5, 6, 7, 8, 9, 10, 11, 12, 13, 14, 15, 16, 17, 18, 19, 20, 21, 22, 23, 24, 25, 26, 27, 28, 29, 30, 31, 32, 33, 34, 35, 36, 37, 38, 39, 40, 41, 42, 43, 44, 45, 46, 47]\n",
    "simple_train(adaboost, training_data, x_col, y_col)"
   ]
  },
  {
   "cell_type": "code",
   "execution_count": 16,
   "id": "5ed952bb",
   "metadata": {
    "Collapsed": "false"
   },
   "outputs": [
    {
     "name": "stdout",
     "output_type": "stream",
     "text": [
      "(1791400, 66)\n",
      "(447850, 66)\n",
      "\n",
      "training time:  Time taken: 0 hours 11 minutes and 21.81 seconds.\n",
      "\n",
      "predict time:  Time taken: 0 hours 0 minutes and 4.39 seconds.\n",
      "accuracy_score: 0.9713609467455622\n",
      "precision score: 0.9201852841617674\n",
      "recall_score: 0.4640610961365678\n",
      "roc_auc_score: 0.7309778917558706\n",
      "f1_score: 0.6169742578988234\n"
     ]
    }
   ],
   "source": [
    "x_col = [0, 1, 2, 3, 4, 5, 6, 7, 8, 9, 10, 11, 12, 13, 14, 15, 16, 17, 18, 19, 20, 21, 22, 23, 24, 25, 26, 27, 28, 29, 30, 31, 32, 33, 34, 35, 36, 37, 38, 39, 40, 41, 42, 43, 44, 45, 46, 47]\n",
    "simple_train(randforest, training_data, x_col, y_col)"
   ]
  },
  {
   "cell_type": "code",
   "execution_count": 17,
   "id": "39593590",
   "metadata": {
    "Collapsed": "false"
   },
   "outputs": [
    {
     "name": "stdout",
     "output_type": "stream",
     "text": [
      "(1791400, 66)\n",
      "(447850, 66)\n",
      "\n",
      "training time:  Time taken: 0 hours 0 minutes and 0.48 seconds.\n",
      "\n",
      "predict time:  Time taken: 0 hours 0 minutes and 0.07 seconds.\n",
      "accuracy_score: 0.560160768114324\n",
      "precision score: 0.06051413623100915\n",
      "recall_score: 0.5403863432165319\n",
      "roc_auc_score: 0.5507906950463166\n",
      "f1_score: 0.10884002895403548\n"
     ]
    }
   ],
   "source": [
    "x_col = [0, 1, 2, 3, 4, 5, 6, 7, 8, 9, 10, 11, 12, 13, 14, 15, 16, 17, 18, 19, 20, 21, 22, 23, 24, 25, 26, 27, 28, 29, 30, 31, 32, 33, 34, 35, 36, 37, 38, 39, 40, 41, 42, 43, 44, 45, 46, 47]\n",
    "simple_train(complementNB, training_data, x_col, y_col)"
   ]
  },
  {
   "cell_type": "code",
   "execution_count": 18,
   "id": "549611c1",
   "metadata": {
    "Collapsed": "false"
   },
   "outputs": [
    {
     "name": "stdout",
     "output_type": "stream",
     "text": [
      "(1791400, 66)\n",
      "(447850, 66)\n",
      "\n",
      "training time:  Time taken: 0 hours 5 minutes and 48.18 seconds.\n",
      "\n",
      "predict time:  Time taken: 0 hours 0 minutes and 0.3 seconds.\n",
      "accuracy_score: 0.9374857653232109\n",
      "precision score: 0.3951149950638049\n",
      "recall_score: 0.48544474393530995\n",
      "roc_auc_score: 0.7232869998959428\n",
      "f1_score: 0.43564675764478217\n"
     ]
    }
   ],
   "source": [
    "x_col = [0, 1, 2, 3, 4, 5, 6, 7, 8, 9, 10, 11, 12, 13, 14, 15, 16, 17, 18, 19, 20, 21, 22, 23, 24, 25, 26, 27, 28, 29, 30, 31, 32, 33, 34, 35, 36, 37, 38, 39, 40, 41, 42, 43, 44, 45, 46, 47]\n",
    "simple_train(DT, training_data, x_col, y_col)"
   ]
  },
  {
   "cell_type": "code",
   "execution_count": 19,
   "id": "c69e064f",
   "metadata": {
    "Collapsed": "false"
   },
   "outputs": [
    {
     "name": "stdout",
     "output_type": "stream",
     "text": [
      "all finish\n"
     ]
    }
   ],
   "source": [
    "print('all finish')"
   ]
  },
  {
   "cell_type": "code",
   "execution_count": 20,
   "id": "f1213d22",
   "metadata": {
    "Collapsed": "false"
   },
   "outputs": [
    {
     "data": {
      "text/plain": [
       "Counter({False: 2127950, True: 111300})"
      ]
     },
     "execution_count": 20,
     "metadata": {},
     "output_type": "execute_result"
    }
   ],
   "source": [
    "Counter(training_data['FDI'])"
   ]
  }
 ],
 "metadata": {
  "environment": {
   "name": "common-cpu.m71",
   "type": "gcloud",
   "uri": "gcr.io/deeplearning-platform-release/base-cpu:m71"
  },
  "kernelspec": {
   "display_name": "Python 3",
   "language": "python",
   "name": "python3"
  },
  "language_info": {
   "codemirror_mode": {
    "name": "ipython",
    "version": 3
   },
   "file_extension": ".py",
   "mimetype": "text/x-python",
   "name": "python",
   "nbconvert_exporter": "python",
   "pygments_lexer": "ipython3",
   "version": "3.7.10"
  },
  "widgets": {
   "application/vnd.jupyter.widget-state+json": {
    "state": {},
    "version_major": 2,
    "version_minor": 0
   }
  }
 },
 "nbformat": 4,
 "nbformat_minor": 5
}
