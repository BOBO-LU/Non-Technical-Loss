{
 "cells": [
  {
   "cell_type": "code",
   "execution_count": 2,
   "source": [
    "import copy\n",
    "import datetime\n",
    "import gc\n",
    "import logging\n",
    "import os\n",
    "from collections import Counter\n",
    "from concurrent.futures import ProcessPoolExecutor, ThreadPoolExecutor\n",
    "from math import exp, floor, sqrt\n",
    "from time import sleep, time\n",
    "\n",
    "import imblearn\n",
    "import matplotlib.patches as mpatches\n",
    "import matplotlib.pyplot as plt\n",
    "import numpy as np\n",
    "import pandas as pd\n",
    "import psutil\n",
    "import seaborn as sns\n",
    "import tensorflow as tf\n",
    "import tqdm.notebook as tq\n",
    "from imblearn.over_sampling import SMOTE\n",
    "from imblearn.pipeline import Pipeline\n",
    "from imblearn.under_sampling import RandomUnderSampler\n",
    "from minepy import MINE\n",
    "from numpy import mean\n",
    "from sklearn.cluster import KMeans\n",
    "from sklearn.datasets import make_classification\n",
    "from sklearn.ensemble import AdaBoostClassifier, RandomForestClassifier\n",
    "from sklearn.inspection import permutation_importance\n",
    "from sklearn.metrics import (accuracy_score, auc, f1_score, precision_score,\n",
    "                             recall_score, roc_auc_score, silhouette_score)\n",
    "from sklearn.model_selection import (GridSearchCV, RepeatedStratifiedKFold,\n",
    "                                     ShuffleSplit, StratifiedShuffleSplit,\n",
    "                                     cross_val_score)\n",
    "from sklearn.naive_bayes import ComplementNB\n",
    "from sklearn.neighbors import KNeighborsClassifier\n",
    "from sklearn.svm import SVC, LinearSVC\n",
    "from sklearn.tree import DecisionTreeClassifier\n",
    "from tqdm.notebook import tqdm\n",
    "from tslearn.barycenters import (dtw_barycenter_averaging,\n",
    "                                 dtw_barycenter_averaging_subgradient,\n",
    "                                 euclidean_barycenter, softdtw_barycenter)\n",
    "from tslearn.clustering import TimeSeriesKMeans\n",
    "from tslearn.datasets import CachedDatasets\n",
    "from tslearn.metrics import dtw, soft_dtw\n",
    "from tslearn.preprocessing import (TimeSeriesResampler,\n",
    "                                   TimeSeriesScalerMeanVariance)\n",
    "from xgboost import XGBClassifier\n"
   ],
   "outputs": [],
   "metadata": {
    "Collapsed": "false"
   }
  },
  {
   "cell_type": "code",
   "execution_count": null,
   "source": [
    "sns.set()  # for plot styling\n",
    "\n",
    "tf.get_logger().setLevel(logging.ERROR)\n",
    "\n",
    "psutil.virtual_memory()\n",
    "pd.set_option('display.max_rows', 500)\n",
    "pd.set_option('display.max_columns', 500)\n",
    "pd.set_option('display.width', 1000)"
   ],
   "outputs": [],
   "metadata": {
    "Collapsed": "false"
   }
  }
 ],
 "metadata": {
  "environment": {
   "name": "common-cpu.m71",
   "type": "gcloud",
   "uri": "gcr.io/deeplearning-platform-release/base-cpu:m71"
  },
  "kernelspec": {
   "name": "python3",
   "display_name": "Python 3.7.11 64-bit ('ntl': conda)"
  },
  "language_info": {
   "name": "python",
   "version": "3.7.11",
   "mimetype": "text/x-python",
   "codemirror_mode": {
    "name": "ipython",
    "version": 3
   },
   "pygments_lexer": "ipython3",
   "nbconvert_exporter": "python",
   "file_extension": ".py"
  },
  "widgets": {
   "application/vnd.jupyter.widget-state+json": {
    "state": {},
    "version_major": 2,
    "version_minor": 0
   }
  },
  "interpreter": {
   "hash": "97902e0c4db212056752c03d43248bfa0cc88061c39c2b0c505546a150195fa2"
  }
 },
 "nbformat": 4,
 "nbformat_minor": 5
}