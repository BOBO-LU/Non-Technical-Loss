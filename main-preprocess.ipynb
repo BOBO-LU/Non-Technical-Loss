{
 "cells": [
  {
   "cell_type": "code",
   "execution_count": 1,
   "id": "personal-communications",
   "metadata": {
    "Collapsed": "false"
   },
   "outputs": [],
   "source": [
    "import import_ipynb\n",
    "%load_ext autoreload\n",
    "%autoreload 2"
   ]
  },
  {
   "cell_type": "code",
   "execution_count": 2,
   "id": "hired-cyprus",
   "metadata": {
    "Collapsed": "false"
   },
   "outputs": [],
   "source": [
    "%run requirements.ipynb\n",
    "%run config.ipynb"
   ]
  },
  {
   "cell_type": "code",
   "execution_count": 3,
   "id": "dynamic-reach",
   "metadata": {
    "Collapsed": "false"
   },
   "outputs": [],
   "source": [
    "\"\"\"\n",
    "from module_preprocess import ( get_file_from_folder, \n",
    "                               transform_dataframe, \n",
    "                               save_fig, \n",
    "                               plot_day_data, \n",
    "                               data_cleaning_drop_zero,\n",
    "                               data_cleaning_drop_48, \n",
    "                               data_cleaning_select_time,\n",
    "                               drop_meter_from_df, \n",
    "                               plot_df_valuecounts_with_groupby, \n",
    "                               replace_missing_value,\n",
    "                               read_smart_meter_csv)\n",
    "\"\"\"                            \n",
    "%run module_preprocess.ipynb"
   ]
  },
  {
   "cell_type": "code",
   "execution_count": 4,
   "id": "synthetic-princeton",
   "metadata": {
    "Collapsed": "false"
   },
   "outputs": [],
   "source": [
    "\"\"\"\n",
    "from module_fdi_generator import (FdiGenerator, \n",
    "                                  split_group, \n",
    "                                  split_data_to_group, \n",
    "                                  plot_data)\n",
    "\"\"\"  \n",
    "%run module_fdi_generator.ipynb                               "
   ]
  },
  {
   "cell_type": "code",
   "execution_count": 5,
   "id": "going-somewhere",
   "metadata": {
    "Collapsed": "false"
   },
   "outputs": [],
   "source": [
    "%run module_training.ipynb"
   ]
  },
  {
   "cell_type": "code",
   "execution_count": 6,
   "id": "champion-staff",
   "metadata": {
    "Collapsed": "false"
   },
   "outputs": [],
   "source": [
    "%run module_feature_extraction.ipynb"
   ]
  },
  {
   "cell_type": "markdown",
   "id": "quick-nerve",
   "metadata": {
    "Collapsed": "false"
   },
   "source": [
    "# 1. Data acquisition and pre-processing "
   ]
  },
  {
   "cell_type": "markdown",
   "id": "quiet-sydney",
   "metadata": {
    "Collapsed": "true"
   },
   "source": [
    "## Data acquisition"
   ]
  },
  {
   "cell_type": "code",
   "execution_count": 35,
   "id": "downtown-wheat",
   "metadata": {
    "Collapsed": "false"
   },
   "outputs": [
    {
     "ename": "ParserError",
     "evalue": "Error tokenizing data. C error: Calling read(nbytes) on source failed. Try engine='python'.",
     "output_type": "error",
     "traceback": [
      "\u001b[0;31m---------------------------------------------------------------------------\u001b[0m",
      "\u001b[0;31mParserError\u001b[0m                               Traceback (most recent call last)",
      "\u001b[0;32m<ipython-input-35-0ac0d41722c5>\u001b[0m in \u001b[0;36m<module>\u001b[0;34m\u001b[0m\n\u001b[1;32m      1\u001b[0m \u001b[0;31m# read data from folder\u001b[0m\u001b[0;34m\u001b[0m\u001b[0;34m\u001b[0m\u001b[0;34m\u001b[0m\u001b[0m\n\u001b[0;32m----> 2\u001b[0;31m \u001b[0mdata\u001b[0m \u001b[0;34m=\u001b[0m \u001b[0mget_file_from_folder\u001b[0m\u001b[0;34m(\u001b[0m\u001b[0mDATA_FOLDER_PATH\u001b[0m\u001b[0;34m)\u001b[0m\u001b[0;34m\u001b[0m\u001b[0;34m\u001b[0m\u001b[0m\n\u001b[0m",
      "\u001b[0;32m<ipython-input-3-e9f3c033eceb>\u001b[0m in \u001b[0;36mget_file_from_folder\u001b[0;34m(path)\u001b[0m\n\u001b[1;32m      7\u001b[0m         \u001b[0mfile_path\u001b[0m \u001b[0;34m=\u001b[0m \u001b[0mos\u001b[0m\u001b[0;34m.\u001b[0m\u001b[0mpath\u001b[0m\u001b[0;34m.\u001b[0m\u001b[0mjoin\u001b[0m\u001b[0;34m(\u001b[0m\u001b[0mdata_path\u001b[0m\u001b[0;34m,\u001b[0m \u001b[0mfile_name\u001b[0m\u001b[0;34m)\u001b[0m\u001b[0;34m\u001b[0m\u001b[0;34m\u001b[0m\u001b[0m\n\u001b[1;32m      8\u001b[0m \u001b[0;34m\u001b[0m\u001b[0m\n\u001b[0;32m----> 9\u001b[0;31m         \u001b[0mdf\u001b[0m \u001b[0;34m=\u001b[0m \u001b[0mpd\u001b[0m\u001b[0;34m.\u001b[0m\u001b[0mread_csv\u001b[0m\u001b[0;34m(\u001b[0m\u001b[0mfile_path\u001b[0m\u001b[0;34m,\u001b[0m \u001b[0msep\u001b[0m\u001b[0;34m=\u001b[0m\u001b[0;34m\" \"\u001b[0m\u001b[0;34m,\u001b[0m \u001b[0mnames\u001b[0m\u001b[0;34m=\u001b[0m\u001b[0mheaders\u001b[0m\u001b[0;34m)\u001b[0m\u001b[0;34m\u001b[0m\u001b[0;34m\u001b[0m\u001b[0m\n\u001b[0m\u001b[1;32m     10\u001b[0m         \u001b[0mdata\u001b[0m\u001b[0;34m[\u001b[0m\u001b[0mfile_name\u001b[0m\u001b[0;34m]\u001b[0m \u001b[0;34m=\u001b[0m \u001b[0mdf\u001b[0m\u001b[0;34m\u001b[0m\u001b[0;34m\u001b[0m\u001b[0m\n\u001b[1;32m     11\u001b[0m \u001b[0;34m\u001b[0m\u001b[0m\n",
      "\u001b[0;32m/opt/conda/lib/python3.7/site-packages/pandas/io/parsers.py\u001b[0m in \u001b[0;36mread_csv\u001b[0;34m(filepath_or_buffer, sep, delimiter, header, names, index_col, usecols, squeeze, prefix, mangle_dupe_cols, dtype, engine, converters, true_values, false_values, skipinitialspace, skiprows, skipfooter, nrows, na_values, keep_default_na, na_filter, verbose, skip_blank_lines, parse_dates, infer_datetime_format, keep_date_col, date_parser, dayfirst, cache_dates, iterator, chunksize, compression, thousands, decimal, lineterminator, quotechar, quoting, doublequote, escapechar, comment, encoding, dialect, error_bad_lines, warn_bad_lines, delim_whitespace, low_memory, memory_map, float_precision, storage_options)\u001b[0m\n\u001b[1;32m    608\u001b[0m     \u001b[0mkwds\u001b[0m\u001b[0;34m.\u001b[0m\u001b[0mupdate\u001b[0m\u001b[0;34m(\u001b[0m\u001b[0mkwds_defaults\u001b[0m\u001b[0;34m)\u001b[0m\u001b[0;34m\u001b[0m\u001b[0;34m\u001b[0m\u001b[0m\n\u001b[1;32m    609\u001b[0m \u001b[0;34m\u001b[0m\u001b[0m\n\u001b[0;32m--> 610\u001b[0;31m     \u001b[0;32mreturn\u001b[0m \u001b[0m_read\u001b[0m\u001b[0;34m(\u001b[0m\u001b[0mfilepath_or_buffer\u001b[0m\u001b[0;34m,\u001b[0m \u001b[0mkwds\u001b[0m\u001b[0;34m)\u001b[0m\u001b[0;34m\u001b[0m\u001b[0;34m\u001b[0m\u001b[0m\n\u001b[0m\u001b[1;32m    611\u001b[0m \u001b[0;34m\u001b[0m\u001b[0m\n\u001b[1;32m    612\u001b[0m \u001b[0;34m\u001b[0m\u001b[0m\n",
      "\u001b[0;32m/opt/conda/lib/python3.7/site-packages/pandas/io/parsers.py\u001b[0m in \u001b[0;36m_read\u001b[0;34m(filepath_or_buffer, kwds)\u001b[0m\n\u001b[1;32m    466\u001b[0m \u001b[0;34m\u001b[0m\u001b[0m\n\u001b[1;32m    467\u001b[0m     \u001b[0;32mwith\u001b[0m \u001b[0mparser\u001b[0m\u001b[0;34m:\u001b[0m\u001b[0;34m\u001b[0m\u001b[0;34m\u001b[0m\u001b[0m\n\u001b[0;32m--> 468\u001b[0;31m         \u001b[0;32mreturn\u001b[0m \u001b[0mparser\u001b[0m\u001b[0;34m.\u001b[0m\u001b[0mread\u001b[0m\u001b[0;34m(\u001b[0m\u001b[0mnrows\u001b[0m\u001b[0;34m)\u001b[0m\u001b[0;34m\u001b[0m\u001b[0;34m\u001b[0m\u001b[0m\n\u001b[0m\u001b[1;32m    469\u001b[0m \u001b[0;34m\u001b[0m\u001b[0m\n\u001b[1;32m    470\u001b[0m \u001b[0;34m\u001b[0m\u001b[0m\n",
      "\u001b[0;32m/opt/conda/lib/python3.7/site-packages/pandas/io/parsers.py\u001b[0m in \u001b[0;36mread\u001b[0;34m(self, nrows)\u001b[0m\n\u001b[1;32m   1055\u001b[0m     \u001b[0;32mdef\u001b[0m \u001b[0mread\u001b[0m\u001b[0;34m(\u001b[0m\u001b[0mself\u001b[0m\u001b[0;34m,\u001b[0m \u001b[0mnrows\u001b[0m\u001b[0;34m=\u001b[0m\u001b[0;32mNone\u001b[0m\u001b[0;34m)\u001b[0m\u001b[0;34m:\u001b[0m\u001b[0;34m\u001b[0m\u001b[0;34m\u001b[0m\u001b[0m\n\u001b[1;32m   1056\u001b[0m         \u001b[0mnrows\u001b[0m \u001b[0;34m=\u001b[0m \u001b[0mvalidate_integer\u001b[0m\u001b[0;34m(\u001b[0m\u001b[0;34m\"nrows\"\u001b[0m\u001b[0;34m,\u001b[0m \u001b[0mnrows\u001b[0m\u001b[0;34m)\u001b[0m\u001b[0;34m\u001b[0m\u001b[0;34m\u001b[0m\u001b[0m\n\u001b[0;32m-> 1057\u001b[0;31m         \u001b[0mindex\u001b[0m\u001b[0;34m,\u001b[0m \u001b[0mcolumns\u001b[0m\u001b[0;34m,\u001b[0m \u001b[0mcol_dict\u001b[0m \u001b[0;34m=\u001b[0m \u001b[0mself\u001b[0m\u001b[0;34m.\u001b[0m\u001b[0m_engine\u001b[0m\u001b[0;34m.\u001b[0m\u001b[0mread\u001b[0m\u001b[0;34m(\u001b[0m\u001b[0mnrows\u001b[0m\u001b[0;34m)\u001b[0m\u001b[0;34m\u001b[0m\u001b[0;34m\u001b[0m\u001b[0m\n\u001b[0m\u001b[1;32m   1058\u001b[0m \u001b[0;34m\u001b[0m\u001b[0m\n\u001b[1;32m   1059\u001b[0m         \u001b[0;32mif\u001b[0m \u001b[0mindex\u001b[0m \u001b[0;32mis\u001b[0m \u001b[0;32mNone\u001b[0m\u001b[0;34m:\u001b[0m\u001b[0;34m\u001b[0m\u001b[0;34m\u001b[0m\u001b[0m\n",
      "\u001b[0;32m/opt/conda/lib/python3.7/site-packages/pandas/io/parsers.py\u001b[0m in \u001b[0;36mread\u001b[0;34m(self, nrows)\u001b[0m\n\u001b[1;32m   2059\u001b[0m     \u001b[0;32mdef\u001b[0m \u001b[0mread\u001b[0m\u001b[0;34m(\u001b[0m\u001b[0mself\u001b[0m\u001b[0;34m,\u001b[0m \u001b[0mnrows\u001b[0m\u001b[0;34m=\u001b[0m\u001b[0;32mNone\u001b[0m\u001b[0;34m)\u001b[0m\u001b[0;34m:\u001b[0m\u001b[0;34m\u001b[0m\u001b[0;34m\u001b[0m\u001b[0m\n\u001b[1;32m   2060\u001b[0m         \u001b[0;32mtry\u001b[0m\u001b[0;34m:\u001b[0m\u001b[0;34m\u001b[0m\u001b[0;34m\u001b[0m\u001b[0m\n\u001b[0;32m-> 2061\u001b[0;31m             \u001b[0mdata\u001b[0m \u001b[0;34m=\u001b[0m \u001b[0mself\u001b[0m\u001b[0;34m.\u001b[0m\u001b[0m_reader\u001b[0m\u001b[0;34m.\u001b[0m\u001b[0mread\u001b[0m\u001b[0;34m(\u001b[0m\u001b[0mnrows\u001b[0m\u001b[0;34m)\u001b[0m\u001b[0;34m\u001b[0m\u001b[0;34m\u001b[0m\u001b[0m\n\u001b[0m\u001b[1;32m   2062\u001b[0m         \u001b[0;32mexcept\u001b[0m \u001b[0mStopIteration\u001b[0m\u001b[0;34m:\u001b[0m\u001b[0;34m\u001b[0m\u001b[0;34m\u001b[0m\u001b[0m\n\u001b[1;32m   2063\u001b[0m             \u001b[0;32mif\u001b[0m \u001b[0mself\u001b[0m\u001b[0;34m.\u001b[0m\u001b[0m_first_chunk\u001b[0m\u001b[0;34m:\u001b[0m\u001b[0;34m\u001b[0m\u001b[0;34m\u001b[0m\u001b[0m\n",
      "\u001b[0;32mpandas/_libs/parsers.pyx\u001b[0m in \u001b[0;36mpandas._libs.parsers.TextReader.read\u001b[0;34m()\u001b[0m\n",
      "\u001b[0;32mpandas/_libs/parsers.pyx\u001b[0m in \u001b[0;36mpandas._libs.parsers.TextReader._read_low_memory\u001b[0;34m()\u001b[0m\n",
      "\u001b[0;32mpandas/_libs/parsers.pyx\u001b[0m in \u001b[0;36mpandas._libs.parsers.TextReader._read_rows\u001b[0;34m()\u001b[0m\n",
      "\u001b[0;32mpandas/_libs/parsers.pyx\u001b[0m in \u001b[0;36mpandas._libs.parsers.TextReader._tokenize_rows\u001b[0;34m()\u001b[0m\n",
      "\u001b[0;32mpandas/_libs/parsers.pyx\u001b[0m in \u001b[0;36mpandas._libs.parsers.raise_parser_error\u001b[0;34m()\u001b[0m\n",
      "\u001b[0;31mParserError\u001b[0m: Error tokenizing data. C error: Calling read(nbytes) on source failed. Try engine='python'."
     ]
    }
   ],
   "source": [
    "# read data from folder\n",
    "data = get_file_from_folder(DATA_FOLDER_PATH)"
   ]
  },
  {
   "cell_type": "code",
   "execution_count": null,
   "id": "individual-authority",
   "metadata": {
    "Collapsed": "false"
   },
   "outputs": [],
   "source": [
    "# get residential list\n",
    "res_list = []\n",
    "df_sme = pd.read_excel(ALLOCATION_PATH, usecols=\"A:B\")\n",
    "df_sme = df_sme.loc[df_sme['Code'] == 1]\n",
    "res_list = df_sme['ID'].tolist()"
   ]
  },
  {
   "cell_type": "code",
   "execution_count": null,
   "id": "younger-reynolds",
   "metadata": {
    "Collapsed": "false"
   },
   "outputs": [],
   "source": [
    "# filter res data and specific date\n",
    "res_data_list = []\n",
    "for index, name in enumerate(data):\n",
    "    d = data[name]['MeterID'].isin(res_list)\n",
    "    d_is_res = data[name].loc[d]\n",
    "    \n",
    "    d_is_res_and_date = transform_dataframe(d_is_res)\n",
    "    \n",
    "    res_data_list.append(d_is_res_and_date)"
   ]
  },
  {
   "cell_type": "code",
   "execution_count": null,
   "id": "blocked-village",
   "metadata": {
    "Collapsed": "false"
   },
   "outputs": [],
   "source": [
    "load_data = pd.concat(res_data_list, copy=False)\n",
    "load_data.head(10)"
   ]
  },
  {
   "cell_type": "code",
   "execution_count": null,
   "id": "naked-comparison",
   "metadata": {
    "Collapsed": "false"
   },
   "outputs": [],
   "source": [
    "load_data.shape"
   ]
  },
  {
   "cell_type": "markdown",
   "id": "athletic-springfield",
   "metadata": {
    "Collapsed": "true"
   },
   "source": [
    "## Data cleaning"
   ]
  },
  {
   "cell_type": "code",
   "execution_count": null,
   "id": "ethical-entry",
   "metadata": {
    "Collapsed": "false"
   },
   "outputs": [],
   "source": [
    "plot_day_data(load_data[\"Day\"].value_counts().sort_index(), title=\"data quantity for each day in residential meter\", save=True)"
   ]
  },
  {
   "cell_type": "markdown",
   "id": "demographic-interstate",
   "metadata": {
    "Collapsed": "false"
   },
   "source": [
    "### select time interval"
   ]
  },
  {
   "cell_type": "code",
   "execution_count": null,
   "id": "driven-vermont",
   "metadata": {
    "Collapsed": "false"
   },
   "outputs": [],
   "source": [
    "load_data = data_cleaning_select_time(load_data,19501,72948)\n",
    "plot_day_data(load_data[\"Day\"].value_counts().sort_index(), title=\"data quantity in select time 2009.7.15-2010.12.31\", save=True)\n",
    "print(load_data.shape)\n",
    "data_20110101 = data_cleaning_select_time(load_data,73001,73048)"
   ]
  },
  {
   "cell_type": "markdown",
   "id": "committed-pattern",
   "metadata": {
    "Collapsed": "false"
   },
   "source": [
    "### drop more than 48 hours"
   ]
  },
  {
   "cell_type": "code",
   "execution_count": null,
   "id": "express-synthesis",
   "metadata": {
    "Collapsed": "false"
   },
   "outputs": [],
   "source": [
    "load_data = data_cleaning_drop_48(load_data)\n",
    "plot_day_data(load_data[\"Day\"].value_counts().sort_index(), title=\"drop data more than 48 hours a day\", save=True)\n",
    "print(load_data.shape)"
   ]
  },
  {
   "cell_type": "markdown",
   "id": "similar-surrey",
   "metadata": {
    "Collapsed": "false"
   },
   "source": [
    "### drop missing value"
   ]
  },
  {
   "cell_type": "markdown",
   "id": "opposed-white",
   "metadata": {
    "Collapsed": "false"
   },
   "source": [
    "2010-12-24 202416 2010-12-05 200736 2010-12-06 195936 2010-03-29 194350 2010-07-21 182016"
   ]
  },
  {
   "cell_type": "code",
   "execution_count": null,
   "id": "revised-collar",
   "metadata": {
    "Collapsed": "false"
   },
   "outputs": [],
   "source": [
    "# drop data with day missing\n",
    "drop_Day_missing = [\"2010-03-29\", \"2010-12-24\", \"2010-12-05\", \"2010-12-06\", \"2010-07-21\"]\n",
    "load_data = drop_meter_from_df(load_data, \"Day\", drop_Day_missing)\n",
    "plot_day_data(load_data[\"Day\"].value_counts().sort_index(), title=\"drop data with day missing\", save=True)\n",
    "print(load_data.shape)"
   ]
  },
  {
   "cell_type": "markdown",
   "id": "advance-baptist",
   "metadata": {
    "Collapsed": "false"
   },
   "source": [
    "### replace missing value"
   ]
  },
  {
   "cell_type": "markdown",
   "id": "distributed-maryland",
   "metadata": {
    "Collapsed": "false"
   },
   "source": [
    "2010-11-17 202752 2010-11-16 202752 2009-09-04 202704 2010-07-20 202704 2010-12-04 202704"
   ]
  },
  {
   "cell_type": "code",
   "execution_count": null,
   "id": "toxic-dimension",
   "metadata": {
    "Collapsed": "false"
   },
   "outputs": [],
   "source": [
    "print(set(load_data[\"MeterID\"].unique()) - set(load_data[ load_data[\"Day\"]==\"2010-11-16\"][\"MeterID\"].unique()))\n",
    "print(set(load_data[\"MeterID\"].unique()) - set(load_data[ load_data[\"Day\"]==\"2010-11-17\"][\"MeterID\"].unique()))\n",
    "print(set(load_data[\"MeterID\"].unique()) - set(load_data[ load_data[\"Day\"]==\"2009-09-04\"][\"MeterID\"].unique()))\n",
    "print(set(load_data[\"MeterID\"].unique()) - set(load_data[ load_data[\"Day\"]==\"2010-07-20\"][\"MeterID\"].unique()))\n",
    "print(set(load_data[\"MeterID\"].unique()) - set(load_data[ load_data[\"Day\"]==\"2010-12-04\"][\"MeterID\"].unique()))"
   ]
  },
  {
   "cell_type": "code",
   "execution_count": null,
   "id": "nasty-cowboy",
   "metadata": {
    "Collapsed": "false"
   },
   "outputs": [],
   "source": [
    "load_data = replace_missing_value(load_data, 4463, \"2010-11-15\", \"2010-11-16\", 1)\n",
    "load_data = replace_missing_value(load_data, 4463, \"2010-11-14\", \"2010-11-17\", 1)\n",
    "load_data = replace_missing_value(load_data, 2715, \"2009-09-03\", \"2009-09-04\", 1)\n",
    "load_data = replace_missing_value(load_data, 5313, \"2009-09-03\", \"2009-09-04\", 1)\n",
    "load_data = replace_missing_value(load_data, 3433, \"2010-07-19\", \"2010-07-20\", 1)\n",
    "load_data = replace_missing_value(load_data, 5181, \"2010-07-19\", \"2010-07-20\", 1)\n",
    "load_data = replace_missing_value(load_data, 1505, \"2010-12-03\", \"2010-12-04\", 1)\n",
    "load_data = replace_missing_value(load_data, 2728, \"2010-12-03\", \"2010-12-04\", 1)"
   ]
  },
  {
   "cell_type": "code",
   "execution_count": null,
   "id": "standard-queensland",
   "metadata": {
    "Collapsed": "false"
   },
   "outputs": [],
   "source": [
    "plot_day_data(load_data[\"Day\"].value_counts().sort_index(), title=\"fill data with day missing\", save=True)\n",
    "print(load_data.shape)"
   ]
  },
  {
   "cell_type": "code",
   "execution_count": null,
   "id": "distant-crossing",
   "metadata": {
    "Collapsed": "false"
   },
   "outputs": [],
   "source": [
    "load_data"
   ]
  },
  {
   "cell_type": "code",
   "execution_count": 71,
   "id": "expressed-shepherd",
   "metadata": {
    "Collapsed": "false"
   },
   "outputs": [],
   "source": [
    "e = load_data.to_csv(index=False)\n",
    "f = open('CSV/load_data.csv','w')\n",
    "f.write(e) #Give your csv text here.\n",
    "## Python will convert \\n to os.linesep\n",
    "f.close()"
   ]
  },
  {
   "cell_type": "markdown",
   "id": "seventh-career",
   "metadata": {
    "Collapsed": "false"
   },
   "source": [
    "#### clean up"
   ]
  },
  {
   "cell_type": "code",
   "execution_count": null,
   "id": "ruled-curve",
   "metadata": {
    "Collapsed": "false"
   },
   "outputs": [],
   "source": [
    "del data\n",
    "del d\n",
    "del df_sme\n",
    "del d_is_res\n",
    "del res_list\n",
    "del d_is_res_and_date\n",
    "del res_data_list\n",
    "gc.collect()"
   ]
  },
  {
   "cell_type": "markdown",
   "id": "cloudy-knife",
   "metadata": {
    "Collapsed": "false"
   },
   "source": [
    "# 2. FDI Simulation"
   ]
  },
  {
   "cell_type": "markdown",
   "id": "comic-stewart",
   "metadata": {
    "Collapsed": "false"
   },
   "source": [
    "## Meter grouping"
   ]
  },
  {
   "cell_type": "code",
   "execution_count": 36,
   "id": "inside-breakdown",
   "metadata": {
    "Collapsed": "false"
   },
   "outputs": [],
   "source": [
    "load_data = pd.read_csv('CSV/load_data.csv', index_col=False, usecols=[\"MeterID\",\"Day\",\"Time\",\"Electricity\",\"Datetime\"])"
   ]
  },
  {
   "cell_type": "code",
   "execution_count": 37,
   "id": "mysterious-celebrity",
   "metadata": {
    "Collapsed": "false"
   },
   "outputs": [],
   "source": [
    "pretty_data = load_data.sort_values(by=['MeterID', 'Day'])"
   ]
  },
  {
   "cell_type": "code",
   "execution_count": 38,
   "id": "internal-basement",
   "metadata": {
    "Collapsed": "false"
   },
   "outputs": [],
   "source": [
    "# FDI CONST\n",
    "NUMBER_OF_DAYS = len(pretty_data[\"Day\"].unique())\n",
    "NUMBER_OF_HALF_HOURS = NUMBER_OF_DAYS * 48\n",
    "AREA_NUM = 10\n",
    "TOTAL_METER = len(pretty_data.groupby(\"MeterID\")[\"MeterID\"].unique())\n",
    "METER_IN_RANGE = round(len(pretty_data.groupby(\"MeterID\")[\"MeterID\"].unique()) / AREA_NUM)"
   ]
  },
  {
   "cell_type": "code",
   "execution_count": 39,
   "id": "greenhouse-horizon",
   "metadata": {
    "Collapsed": "false"
   },
   "outputs": [
    {
     "data": {
      "text/plain": [
       "(530, 25440, 4225, 422)"
      ]
     },
     "execution_count": 39,
     "metadata": {},
     "output_type": "execute_result"
    }
   ],
   "source": [
    "NUMBER_OF_DAYS, NUMBER_OF_HALF_HOURS, TOTAL_METER, METER_IN_RANGE"
   ]
  },
  {
   "cell_type": "code",
   "execution_count": 40,
   "id": "corrected-despite",
   "metadata": {
    "Collapsed": "false"
   },
   "outputs": [],
   "source": [
    "# split data into 10 groups\n",
    "data_group = split_data_to_group(pretty_data, AREA_NUM, METER_IN_RANGE, NUMBER_OF_HALF_HOURS, TOTAL_METER)"
   ]
  },
  {
   "cell_type": "markdown",
   "id": "metric-drove",
   "metadata": {
    "Collapsed": "false"
   },
   "source": [
    "## FDI\n",
    "#### Have some bug in setting random seed. It will generate diffferent FDI data everytime. "
   ]
  },
  {
   "cell_type": "code",
   "execution_count": 41,
   "id": "coastal-comedy",
   "metadata": {
    "Collapsed": "false"
   },
   "outputs": [
    {
     "data": {
      "application/vnd.jupyter.widget-view+json": {
       "model_id": "3ab6f37c61eb4eb7b9c3809714c5fd98",
       "version_major": 2,
       "version_minor": 0
      },
      "text/plain": [
       "  0%|          | 0/42 [00:00<?, ?it/s]"
      ]
     },
     "metadata": {},
     "output_type": "display_data"
    },
    {
     "name": "stderr",
     "output_type": "stream",
     "text": [
      "/opt/conda/lib/python3.7/site-packages/ipykernel_launcher.py:67: SettingWithCopyWarning: \n",
      "A value is trying to be set on a copy of a slice from a DataFrame.\n",
      "Try using .loc[row_indexer,col_indexer] = value instead\n",
      "\n",
      "See the caveats in the documentation: https://pandas.pydata.org/pandas-docs/stable/user_guide/indexing.html#returning-a-view-versus-a-copy\n"
     ]
    },
    {
     "data": {
      "application/vnd.jupyter.widget-view+json": {
       "model_id": "4b0c78d383de4c25a1c8e52a7498c642",
       "version_major": 2,
       "version_minor": 0
      },
      "text/plain": [
       "  0%|          | 0/42 [00:00<?, ?it/s]"
      ]
     },
     "metadata": {},
     "output_type": "display_data"
    },
    {
     "data": {
      "application/vnd.jupyter.widget-view+json": {
       "model_id": "e4e24aa3518843cc8b38300d2482233f",
       "version_major": 2,
       "version_minor": 0
      },
      "text/plain": [
       "  0%|          | 0/42 [00:00<?, ?it/s]"
      ]
     },
     "metadata": {},
     "output_type": "display_data"
    },
    {
     "data": {
      "application/vnd.jupyter.widget-view+json": {
       "model_id": "3f8629f1f1b84be2a0d556c4a76c43fb",
       "version_major": 2,
       "version_minor": 0
      },
      "text/plain": [
       "  0%|          | 0/42 [00:00<?, ?it/s]"
      ]
     },
     "metadata": {},
     "output_type": "display_data"
    },
    {
     "data": {
      "application/vnd.jupyter.widget-view+json": {
       "model_id": "7bcc3f457e6d4fdabb5fcfbe8c445d27",
       "version_major": 2,
       "version_minor": 0
      },
      "text/plain": [
       "  0%|          | 0/42 [00:00<?, ?it/s]"
      ]
     },
     "metadata": {},
     "output_type": "display_data"
    },
    {
     "data": {
      "application/vnd.jupyter.widget-view+json": {
       "model_id": "a6100391fa864785aea160be8f439abd",
       "version_major": 2,
       "version_minor": 0
      },
      "text/plain": [
       "  0%|          | 0/42 [00:00<?, ?it/s]"
      ]
     },
     "metadata": {},
     "output_type": "display_data"
    },
    {
     "data": {
      "application/vnd.jupyter.widget-view+json": {
       "model_id": "ae22b6b5ee844e07b96656f627747b6d",
       "version_major": 2,
       "version_minor": 0
      },
      "text/plain": [
       "  0%|          | 0/42 [00:00<?, ?it/s]"
      ]
     },
     "metadata": {},
     "output_type": "display_data"
    },
    {
     "data": {
      "application/vnd.jupyter.widget-view+json": {
       "model_id": "b990f916f7584ae3a20390079c9b5b90",
       "version_major": 2,
       "version_minor": 0
      },
      "text/plain": [
       "  0%|          | 0/42 [00:00<?, ?it/s]"
      ]
     },
     "metadata": {},
     "output_type": "display_data"
    },
    {
     "data": {
      "application/vnd.jupyter.widget-view+json": {
       "model_id": "2d0faf14435545d9b0d9a27e6167028d",
       "version_major": 2,
       "version_minor": 0
      },
      "text/plain": [
       "  0%|          | 0/42 [00:00<?, ?it/s]"
      ]
     },
     "metadata": {},
     "output_type": "display_data"
    },
    {
     "data": {
      "application/vnd.jupyter.widget-view+json": {
       "model_id": "49d11c736dcb4039aa066b3da5e264e9",
       "version_major": 2,
       "version_minor": 0
      },
      "text/plain": [
       "  0%|          | 0/42 [00:00<?, ?it/s]"
      ]
     },
     "metadata": {},
     "output_type": "display_data"
    }
   ],
   "source": [
    "FDI = FdiGenerator()\n",
    "final_data_group, origin_data_group = split_group(data_group, total_meter=TOTAL_METER, area_num=AREA_NUM, total_day=NUMBER_OF_DAYS, group_meter=METER_IN_RANGE, ntl_meter_ratio=0.1, ntl_day_ratio=0.5)"
   ]
  },
  {
   "cell_type": "code",
   "execution_count": 11,
   "id": "resistant-scout",
   "metadata": {
    "Collapsed": "false"
   },
   "outputs": [
    {
     "data": {
      "image/png": "[encoded data removed]",
      "text/plain": [
       "<Figure size 2250x600 with 1 Axes>"
      ]
     },
     "metadata": {},
     "output_type": "display_data"
    },
    {
     "data": {
      "image/png": "[encoded data removed]",
      "text/plain": [
       "<Figure size 2250x600 with 1 Axes>"
      ]
     },
     "metadata": {},
     "output_type": "display_data"
    }
   ],
   "source": [
    "for i in range(len(final_data_group)):\n",
    "    if i == 2: break\n",
    "    plot_data(origin_data_group[i][\"fdi\"], final_data_group[i][\"fdi\"], \"actual consumption of all consumers of group \" + str(i), \"normal data\", \"fdi data\", plot_house=1, plot_hour=NUMBER_OF_HALF_HOURS, save=False)"
   ]
  },
  {
   "cell_type": "markdown",
   "id": "bored-mercy",
   "metadata": {
    "Collapsed": "false"
   },
   "source": [
    "## Check NTL"
   ]
  },
  {
   "cell_type": "code",
   "execution_count": 63,
   "id": "genetic-picking",
   "metadata": {
    "Collapsed": "false"
   },
   "outputs": [
    {
     "ename": "NameError",
     "evalue": "name 'final_data_group' is not defined",
     "output_type": "error",
     "traceback": [
      "\u001b[0;31m---------------------------------------------------------------------------\u001b[0m",
      "\u001b[0;31mNameError\u001b[0m                                 Traceback (most recent call last)",
      "\u001b[0;32m<ipython-input-63-59c9eb2edf29>\u001b[0m in \u001b[0;36m<module>\u001b[0;34m\u001b[0m\n\u001b[1;32m      2\u001b[0m \u001b[0;31m# smart_meter_data_group = copy.deepcopy(final_data_group) ## data with fdi\u001b[0m\u001b[0;34m\u001b[0m\u001b[0;34m\u001b[0m\u001b[0;34m\u001b[0m\u001b[0m\n\u001b[1;32m      3\u001b[0m \u001b[0mobserve_meter_data_group\u001b[0m \u001b[0;34m=\u001b[0m \u001b[0morigin_data_group\u001b[0m \u001b[0;31m## data without fdi\u001b[0m\u001b[0;34m\u001b[0m\u001b[0;34m\u001b[0m\u001b[0m\n\u001b[0;32m----> 4\u001b[0;31m \u001b[0msmart_meter_data_group\u001b[0m \u001b[0;34m=\u001b[0m \u001b[0mfinal_data_group\u001b[0m \u001b[0;31m## data with fdi\u001b[0m\u001b[0;34m\u001b[0m\u001b[0;34m\u001b[0m\u001b[0m\n\u001b[0m",
      "\u001b[0;31mNameError\u001b[0m: name 'final_data_group' is not defined"
     ]
    }
   ],
   "source": [
    "# observe_meter_data_group = copy.deepcopy(origin_data_group) ## data without fdi\n",
    "# smart_meter_data_group = copy.deepcopy(final_data_group) ## data with fdi\n",
    "observe_meter_data_group = origin_data_group ## data without fdi\n",
    "smart_meter_data_group = final_data_group ## data with fdi"
   ]
  },
  {
   "cell_type": "code",
   "execution_count": null,
   "id": "complicated-booking",
   "metadata": {
    "Collapsed": "false"
   },
   "outputs": [],
   "source": [
    "# calculate NTL loss vector for every day\n",
    "ntl_loss_data_group = []\n",
    "for observe_area, smart_area in zip(observe_meter_data_group, smart_meter_data_group): # iterate 10 area\n",
    "    ntl_loss_data = []\n",
    "    for observe_meter, smart_meter in zip(observe_area['fdi'], smart_area['fdi']): #iterate fdi meter in each area\n",
    "        \n",
    "        sub = observe_meter[[\"Electricity\"]] - smart_meter[[\"Electricity\"]]\n",
    "\n",
    "        ntl_loss_data = sub.to_numpy().reshape(NUMBER_OF_DAYS, 48) \n",
    "\n",
    "    ntl_loss_data_group.append(ntl_loss_data)\n",
    "ntl_loss_data_group = np.asarray(ntl_loss_data_group)\n",
    "ntl_loss_data_group.shape"
   ]
  },
  {
   "cell_type": "code",
   "execution_count": null,
   "id": "exceptional-middle",
   "metadata": {
    "Collapsed": "false"
   },
   "outputs": [],
   "source": [
    "# make sure there is difference between the observe_meter_data_group and smart_meter_data_group\n",
    "plt.plot(observe_meter_data_group[0][\"fdi\"][0][\"Electricity\"].tolist())\n",
    "plt.plot(smart_meter_data_group[0][\"fdi\"][0][\"Electricity\"].tolist()) \n",
    "for j in range(1):\n",
    "    t = observe_meter_data_group[0][\"fdi\"][j][\"Electricity\"] - smart_meter_data_group[0][\"fdi\"][j][\"Electricity\"]\n",
    "    print(t.value_counts())"
   ]
  },
  {
   "cell_type": "code",
   "execution_count": 19,
   "id": "veterinary-median",
   "metadata": {
    "Collapsed": "false"
   },
   "outputs": [
    {
     "name": "stdout",
     "output_type": "stream",
     "text": [
      "<class 'list'>\n"
     ]
    },
    {
     "data": {
      "text/plain": [
       "380"
      ]
     },
     "execution_count": 19,
     "metadata": {},
     "output_type": "execute_result"
    }
   ],
   "source": [
    "print(type(smart_meter_data_group[0][\"normal\"]))\n",
    "len(smart_meter_data_group[1][\"normal\"])"
   ]
  },
  {
   "cell_type": "markdown",
   "id": "greater-probability",
   "metadata": {
    "Collapsed": "false"
   },
   "source": [
    "### write observe meter data"
   ]
  },
  {
   "cell_type": "code",
   "execution_count": 64,
   "id": "understood-shock",
   "metadata": {
    "Collapsed": "false"
   },
   "outputs": [
    {
     "data": {
      "application/vnd.jupyter.widget-view+json": {
       "model_id": "140a2ddffb4c41c290f22ca37525224d",
       "version_major": 2,
       "version_minor": 0
      },
      "text/plain": [
       "  0%|          | 0/10 [00:00<?, ?it/s]"
      ]
     },
     "metadata": {},
     "output_type": "display_data"
    }
   ],
   "source": [
    "# smart meter to csv\n",
    "observe_meter_list = []\n",
    "observe_meter_df = pd.DataFrame(columns=['MeterID', 'Day', 'FDI','Electricity'])\n",
    "pbar = tqdm(observe_meter_data_group) \n",
    "for area in pbar: # iterate 10 data groups\n",
    "    for meter in area['fdi']: # iterate every fdi meter in area \n",
    "        meter['FDI']='True'\n",
    "        observe_meter_list.append(meter.to_numpy())\n",
    "    for meter in area['normal']:\n",
    "        meter['FDI']='False'\n",
    "        observe_meter_list.append(meter.to_numpy())\n",
    "#             se = {'MeterID': meter_id, 'Day': meter_day,'FDI':True }\n",
    "#             v_value_list.append(se)"
   ]
  },
  {
   "cell_type": "code",
   "execution_count": 65,
   "id": "choice-maintenance",
   "metadata": {
    "Collapsed": "false"
   },
   "outputs": [],
   "source": [
    "# uncomment the code below to save preprocessed data into smart_meter.csv file.\n",
    "df = pd.DataFrame(np.array(observe_meter_list).reshape(-1, 6), columns=[\"MeterID\",\"Day\",\"Time\",\"Electricity\",\"Datetime\", \"FDI\"])\n",
    "df.head()\n",
    "df = df[[\"MeterID\",\"Day\",\"Time\",\"Electricity\",\"FDI\"]]\n",
    "e = df.to_csv(index=False)\n",
    "f = open('CSV/observe_meter.csv','w')\n",
    "f.write(e) #Give your csv text here.\n",
    "f.close()"
   ]
  },
  {
   "cell_type": "markdown",
   "id": "middle-endorsement",
   "metadata": {
    "Collapsed": "false"
   },
   "source": [
    "### write smart meter data"
   ]
  },
  {
   "cell_type": "code",
   "execution_count": 15,
   "id": "meaningful-nightmare",
   "metadata": {
    "Collapsed": "false"
   },
   "outputs": [
    {
     "data": {
      "application/vnd.jupyter.widget-view+json": {
       "model_id": "1db4db9485cf46ed8e22173e8be64ef5",
       "version_major": 2,
       "version_minor": 0
      },
      "text/plain": [
       "  0%|          | 0/10 [00:00<?, ?it/s]"
      ]
     },
     "metadata": {},
     "output_type": "display_data"
    }
   ],
   "source": [
    "# smart meter to csv\n",
    "smart_meter_list = []\n",
    "smart_meter_df = pd.DataFrame(columns=['MeterID', 'Day', 'FDI','Electricity'])\n",
    "pbar = tqdm(smart_meter_data_group) \n",
    "for area in pbar: # iterate 10 data groups\n",
    "    for meter in area['fdi']: # iterate every fdi meter in area \n",
    "        meter['FDI']='True'\n",
    "        smart_meter_list.append(meter.to_numpy())\n",
    "    for meter in area['normal']:\n",
    "        meter['FDI']='False'\n",
    "        smart_meter_list.append(meter.to_numpy())\n",
    "#             se = {'MeterID': meter_id, 'Day': meter_day,'FDI':True }\n",
    "#             v_value_list.append(se)"
   ]
  },
  {
   "cell_type": "code",
   "execution_count": 16,
   "id": "voluntary-drove",
   "metadata": {
    "Collapsed": "false"
   },
   "outputs": [],
   "source": [
    "# uncomment the code below to save preprocessed data into smart_meter.csv file.\n",
    "df = pd.DataFrame(np.array(smart_meter_list).reshape(-1, 6), columns=[\"MeterID\",\"Day\",\"Time\",\"Electricity\",\"Datetime\", \"FDI\"])\n",
    "df.head()\n",
    "df = df[[\"MeterID\",\"Day\",\"Time\",\"Electricity\",\"FDI\"]]\n",
    "e = df.to_csv(index=False)\n",
    "f = open('CSV/smart_meter.csv','w')\n",
    "f.write(e) #Give your csv text here.\n",
    "f.close()"
   ]
  },
  {
   "cell_type": "markdown",
   "id": "exciting-india",
   "metadata": {
    "Collapsed": "false"
   },
   "source": [
    "# 3. Featrue extraction"
   ]
  },
  {
   "cell_type": "markdown",
   "id": "knowing-context",
   "metadata": {
    "Collapsed": "true"
   },
   "source": [
    "### read smart meter data"
   ]
  },
  {
   "cell_type": "code",
   "execution_count": 5,
   "id": "confused-transmission",
   "metadata": {
    "Collapsed": "false"
   },
   "outputs": [
    {
     "name": "stdout",
     "output_type": "stream",
     "text": [
      "start area  0\n",
      "start area  1\n",
      "start area  2\n",
      "start area  3\n",
      "start area  4\n",
      "start area  5\n",
      "start area  6\n",
      "start area  7\n",
      "start area  8\n",
      "start area  9\n"
     ]
    }
   ],
   "source": [
    "smart_meter_data_group = read_smart_meter_csv()"
   ]
  },
  {
   "cell_type": "code",
   "execution_count": 6,
   "id": "devoted-sandwich",
   "metadata": {
    "Collapsed": "false"
   },
   "outputs": [
    {
     "name": "stdout",
     "output_type": "stream",
     "text": [
      "9.741\n",
      "7.651\n",
      "6.23\n"
     ]
    }
   ],
   "source": [
    "for i in smart_meter_data_group[0]['normal'][:3]:\n",
    "    print(i['Electricity'].max())"
   ]
  },
  {
   "cell_type": "markdown",
   "id": "wound-youth",
   "metadata": {
    "Collapsed": "false"
   },
   "source": [
    "## V-Value"
   ]
  },
  {
   "cell_type": "markdown",
   "id": "female-security",
   "metadata": {
    "Collapsed": "true"
   },
   "source": [
    "### Normalization"
   ]
  },
  {
   "cell_type": "code",
   "execution_count": 29,
   "id": "closing-australian",
   "metadata": {
    "Collapsed": "false"
   },
   "outputs": [
    {
     "data": {
      "text/plain": [
       "array([0.03654133667327904, 0.03531269191667239, 0.030966420614507387,\n",
       "       ..., 0.04361966398335228, 0.03120148357601003,\n",
       "       0.011117897020210493], dtype=object)"
      ]
     },
     "execution_count": 29,
     "metadata": {},
     "output_type": "execute_result"
    }
   ],
   "source": [
    "# the value of x is divided by its\n",
    "# maximum and scaled into a value between zero and one\n",
    "# normalized smart_meter_data_group by divide the max eletricity of the meter\n",
    "for area in smart_meter_data_group:\n",
    "    for meter in area['fdi']:\n",
    "        meter_numpy = meter['Electricity'].to_numpy()\n",
    "        meter['Electricity'] = meter_numpy / meter_numpy.max()\n",
    "    for meter in area['normal']:\n",
    "        meter_numpy = meter['Electricity'].to_numpy()\n",
    "        meter['Electricity'] = meter_numpy / meter_numpy.max()\n",
    "smart_meter_data_group[0]['fdi'][0]['Electricity'].to_numpy()"
   ]
  },
  {
   "cell_type": "code",
   "execution_count": 30,
   "id": "invalid-excerpt",
   "metadata": {
    "Collapsed": "false"
   },
   "outputs": [
    {
     "name": "stdout",
     "output_type": "stream",
     "text": [
      "Series([], Name: Electricity, dtype: int64)\n"
     ]
    },
    {
     "data": {
      "image/png": "[encoded data removed]",
      "text/plain": [
       "<Figure size 432x288 with 1 Axes>"
      ]
     },
     "metadata": {},
     "output_type": "display_data"
    }
   ],
   "source": [
    "# make sure there is difference between the observe_meter_data_group and smart_meter_data_group\n",
    "plt.plot(observe_meter_data_group[0][\"fdi\"][0][\"Electricity\"].tolist())\n",
    "plt.plot(smart_meter_data_group[0][\"fdi\"][0][\"Electricity\"].tolist()) \n",
    "for j in range(1):\n",
    "    t = observe_meter_data_group[0][\"fdi\"][j][\"Electricity\"] - smart_meter_data_group[0][\"fdi\"][j][\"Electricity\"]\n",
    "    print(t.value_counts())"
   ]
  },
  {
   "cell_type": "markdown",
   "id": "spread-transportation",
   "metadata": {
    "Collapsed": "true"
   },
   "source": [
    "### calculate v-value"
   ]
  },
  {
   "cell_type": "code",
   "execution_count": 39,
   "id": "impressive-banner",
   "metadata": {
    "Collapsed": "false"
   },
   "outputs": [
    {
     "data": {
      "application/vnd.jupyter.widget-view+json": {
       "model_id": "e5b52273644b46119f9115571d78a249",
       "version_major": 2,
       "version_minor": 0
      },
      "text/plain": [
       "  0%|          | 0/10 [00:00<?, ?it/s]"
      ]
     },
     "metadata": {},
     "output_type": "display_data"
    },
    {
     "name": "stdout",
     "output_type": "stream",
     "text": [
      "finish fdi\n",
      "finish normal\n",
      "finish fdi\n",
      "finish normal\n",
      "finish fdi\n",
      "finish normal\n",
      "finish fdi\n",
      "finish normal\n",
      "finish fdi\n",
      "finish normal\n",
      "finish fdi\n",
      "finish normal\n",
      "finish fdi\n",
      "finish normal\n",
      "finish fdi\n",
      "finish normal\n",
      "finish fdi\n",
      "finish normal\n",
      "finish fdi\n",
      "finish normal\n"
     ]
    }
   ],
   "source": [
    "v_value_list = v_value(smart_meter_data_group, NUMBER_OF_DAYS)"
   ]
  },
  {
   "cell_type": "code",
   "execution_count": 40,
   "id": "burning-meditation",
   "metadata": {
    "Collapsed": "false"
   },
   "outputs": [
    {
     "data": {
      "text/html": [
       "<div>\n",
       "<style scoped>\n",
       "    .dataframe tbody tr th:only-of-type {\n",
       "        vertical-align: middle;\n",
       "    }\n",
       "\n",
       "    .dataframe tbody tr th {\n",
       "        vertical-align: top;\n",
       "    }\n",
       "\n",
       "    .dataframe thead th {\n",
       "        text-align: right;\n",
       "    }\n",
       "</style>\n",
       "<table border=\"1\" class=\"dataframe\">\n",
       "  <thead>\n",
       "    <tr style=\"text-align: right;\">\n",
       "      <th></th>\n",
       "      <th>MeterID</th>\n",
       "      <th>Day</th>\n",
       "      <th>FDI</th>\n",
       "      <th>Tmax1</th>\n",
       "      <th>Tmax2</th>\n",
       "      <th>Tmin1</th>\n",
       "      <th>Cmax1</th>\n",
       "      <th>Cmax2</th>\n",
       "      <th>Cmin1</th>\n",
       "    </tr>\n",
       "  </thead>\n",
       "  <tbody>\n",
       "    <tr>\n",
       "      <th>0</th>\n",
       "      <td>1236</td>\n",
       "      <td>2009-07-15</td>\n",
       "      <td>True</td>\n",
       "      <td>12</td>\n",
       "      <td>30</td>\n",
       "      <td>15</td>\n",
       "      <td>0.205161</td>\n",
       "      <td>0.209875</td>\n",
       "      <td>0.059876</td>\n",
       "    </tr>\n",
       "    <tr>\n",
       "      <th>1</th>\n",
       "      <td>1236</td>\n",
       "      <td>2009-07-16</td>\n",
       "      <td>True</td>\n",
       "      <td>20</td>\n",
       "      <td>34</td>\n",
       "      <td>24</td>\n",
       "      <td>0.656000</td>\n",
       "      <td>0.706000</td>\n",
       "      <td>0.012000</td>\n",
       "    </tr>\n",
       "    <tr>\n",
       "      <th>2</th>\n",
       "      <td>1236</td>\n",
       "      <td>2009-07-17</td>\n",
       "      <td>True</td>\n",
       "      <td>18</td>\n",
       "      <td>35</td>\n",
       "      <td>24</td>\n",
       "      <td>0.925000</td>\n",
       "      <td>1.387000</td>\n",
       "      <td>0.020000</td>\n",
       "    </tr>\n",
       "    <tr>\n",
       "      <th>3</th>\n",
       "      <td>1236</td>\n",
       "      <td>2009-07-18</td>\n",
       "      <td>True</td>\n",
       "      <td>0</td>\n",
       "      <td>35</td>\n",
       "      <td>0</td>\n",
       "      <td>0.000000</td>\n",
       "      <td>1.198190</td>\n",
       "      <td>0.000000</td>\n",
       "    </tr>\n",
       "    <tr>\n",
       "      <th>4</th>\n",
       "      <td>1236</td>\n",
       "      <td>2009-07-19</td>\n",
       "      <td>True</td>\n",
       "      <td>25</td>\n",
       "      <td>36</td>\n",
       "      <td>29</td>\n",
       "      <td>1.669000</td>\n",
       "      <td>0.850000</td>\n",
       "      <td>0.090000</td>\n",
       "    </tr>\n",
       "  </tbody>\n",
       "</table>\n",
       "</div>"
      ],
      "text/plain": [
       "   MeterID         Day   FDI  Tmax1  Tmax2  Tmin1     Cmax1     Cmax2     Cmin1\n",
       "0     1236  2009-07-15  True     12     30     15  0.205161  0.209875  0.059876\n",
       "1     1236  2009-07-16  True     20     34     24  0.656000  0.706000  0.012000\n",
       "2     1236  2009-07-17  True     18     35     24  0.925000  1.387000  0.020000\n",
       "3     1236  2009-07-18  True      0     35      0  0.000000  1.198190  0.000000\n",
       "4     1236  2009-07-19  True     25     36     29  1.669000  0.850000  0.090000"
      ]
     },
     "execution_count": 40,
     "metadata": {},
     "output_type": "execute_result"
    }
   ],
   "source": [
    "df = pd.DataFrame(v_value_list)\n",
    "df.head()"
   ]
  },
  {
   "cell_type": "code",
   "execution_count": 41,
   "id": "norman-acquisition",
   "metadata": {
    "Collapsed": "false"
   },
   "outputs": [],
   "source": [
    "e = df.to_csv(index=False)\n",
    "f = open('CSV/v_value.csv','w')\n",
    "f.write(e) #Give your csv text here.\n",
    "## Python will convert \\n to os.linesep\n",
    "f.close()"
   ]
  },
  {
   "cell_type": "code",
   "execution_count": 42,
   "id": "champion-cabin",
   "metadata": {
    "Collapsed": "false",
    "collapsed": true,
    "jupyter": {
     "outputs_hidden": true
    }
   },
   "outputs": [
    {
     "name": "stdout",
     "output_type": "stream",
     "text": [
      "----- MeterID -----\n",
      "2049    530\n",
      "5425    530\n",
      "1323    530\n",
      "1324    530\n",
      "3373    530\n",
      "       ... \n",
      "6857    530\n",
      "6856    530\n",
      "4809    530\n",
      "2765    530\n",
      "2047    530\n",
      "Name: MeterID, Length: 4225, dtype: int64\n",
      "----- Day -----\n",
      "2010-01-07    4225\n",
      "2009-07-26    4225\n",
      "2010-08-28    4225\n",
      "2009-11-05    4225\n",
      "2010-05-13    4225\n",
      "              ... \n",
      "2009-12-16    4225\n",
      "2010-10-02    4225\n",
      "2010-04-05    4225\n",
      "2010-03-27    4225\n",
      "2009-11-28    4225\n",
      "Name: Day, Length: 530, dtype: int64\n",
      "----- FDI -----\n",
      "False    2016650\n",
      "True      222600\n",
      "Name: FDI, dtype: int64\n",
      "----- Tmax1 -----\n",
      "27    147105\n",
      "26    144821\n",
      "25    144026\n",
      "16    141864\n",
      "15    137091\n",
      "17    131010\n",
      "24    129038\n",
      "18    127262\n",
      "19    124185\n",
      "20    121665\n",
      "21    118484\n",
      "23    116439\n",
      "22    115951\n",
      "0     115939\n",
      "14    104604\n",
      "13     60005\n",
      "1      47532\n",
      "12     38634\n",
      "2      29681\n",
      "11     24369\n",
      "3      20980\n",
      "4      16783\n",
      "10     15860\n",
      "5      14166\n",
      "9      13849\n",
      "6      12995\n",
      "8      12849\n",
      "7      12063\n",
      "Name: Tmax1, dtype: int64\n",
      "----- Tmax2 -----\n",
      "35    176169\n",
      "36    172672\n",
      "37    154810\n",
      "34    150175\n",
      "38    147813\n",
      "39    130952\n",
      "40    120069\n",
      "33    117034\n",
      "28    116379\n",
      "42    114435\n",
      "41    113487\n",
      "43    102430\n",
      "44     93066\n",
      "32     91342\n",
      "29     79925\n",
      "31     78821\n",
      "45     78181\n",
      "30     77116\n",
      "46     67696\n",
      "47     56678\n",
      "Name: Tmax2, dtype: int64\n",
      "----- Tmin1 -----\n",
      "27    194631\n",
      "28    174227\n",
      "29    161131\n",
      "30    140873\n",
      "26    126538\n",
      "25    123056\n",
      "31    120841\n",
      "24    117889\n",
      "23    109236\n",
      "22     98297\n",
      "32     97885\n",
      "21     86718\n",
      "20     74923\n",
      "33     74749\n",
      "19     66227\n",
      "34     56819\n",
      "18     56041\n",
      "35     42055\n",
      "17     42035\n",
      "16     30606\n",
      "36     28234\n",
      "15     22416\n",
      "37     21089\n",
      "14     18324\n",
      "38     15654\n",
      "13     15092\n",
      "12     12623\n",
      "39     11493\n",
      "11     10260\n",
      "0      10188\n",
      "10      8921\n",
      "40      8229\n",
      "9       8020\n",
      "8       7587\n",
      "7       6782\n",
      "6       6315\n",
      "5       5747\n",
      "41      5647\n",
      "4       4941\n",
      "3       3862\n",
      "42      3638\n",
      "2       2995\n",
      "43      2286\n",
      "1       1696\n",
      "44      1373\n",
      "45       713\n",
      "46       348\n",
      "Name: Tmin1, dtype: int64\n",
      "----- Cmax1 -----\n",
      "0.000000    8593\n",
      "0.544000    1018\n",
      "0.534000    1011\n",
      "0.484000    1010\n",
      "0.523000    1008\n",
      "            ... \n",
      "1.662286       1\n",
      "1.299130       1\n",
      "2.080154       1\n",
      "0.208821       1\n",
      "0.326093       1\n",
      "Name: Cmax1, Length: 80681, dtype: int64\n",
      "----- Cmax2 -----\n",
      "0.000000    7100\n",
      "0.009000     881\n",
      "0.117000     795\n",
      "0.102000     785\n",
      "0.104000     771\n",
      "            ... \n",
      "2.928222       1\n",
      "0.194593       1\n",
      "0.165681       1\n",
      "0.431996       1\n",
      "1.156569       1\n",
      "Name: Cmax2, Length: 83161, dtype: int64\n",
      "----- Cmin1 -----\n",
      "0.000000    44010\n",
      "0.025000    11688\n",
      "0.040000    11594\n",
      "0.026000    11552\n",
      "0.032000    11462\n",
      "            ...  \n",
      "0.015741        1\n",
      "0.046649        1\n",
      "0.102066        1\n",
      "0.119005        1\n",
      "0.059100        1\n",
      "Name: Cmin1, Length: 61255, dtype: int64\n"
     ]
    }
   ],
   "source": [
    "for i in df.columns:\n",
    "    print(f\"{'-'*5} {i} {'-'*5}\")\n",
    "    print(df[i].value_counts())"
   ]
  },
  {
   "cell_type": "code",
   "execution_count": null,
   "id": "uniform-clearing",
   "metadata": {
    "Collapsed": "false"
   },
   "outputs": [],
   "source": [
    "del meter_day\n",
    "del meter_id\n",
    "del meter_numpy\n",
    "del e\n",
    "del f\n",
    "del df\n",
    "gc.collect()"
   ]
  },
  {
   "cell_type": "markdown",
   "id": "active-combat",
   "metadata": {
    "Collapsed": "true"
   },
   "source": [
    "##  four time interval"
   ]
  },
  {
   "cell_type": "markdown",
   "id": "seasonal-screening",
   "metadata": {
    "Collapsed": "false"
   },
   "source": [
    "1) Time Period 1: 10.30 P.M.–6.30 A.M.—overnight period (45:14) 17  \n",
    "2) Time Period 2: 6.30–9.00 A.M.—breakfast period (14:18) 4  \n",
    "3) Time Period 3: 9.00 A.M.–3.30 P.M.—daytime period (18:31) 14   \n",
    "4) Time Period 4: 3.30–10.30 P.M.—evening period.(31:45) 14"
   ]
  },
  {
   "cell_type": "code",
   "execution_count": 35,
   "id": "returning-bolivia",
   "metadata": {
    "Collapsed": "false"
   },
   "outputs": [
    {
     "data": {
      "application/vnd.jupyter.widget-view+json": {
       "model_id": "6fb5b262baaf433e82dd9ffc1bf8cb92",
       "version_major": 2,
       "version_minor": 0
      },
      "text/plain": [
       "  0%|          | 0/10 [00:00<?, ?it/s]"
      ]
     },
     "metadata": {},
     "output_type": "display_data"
    },
    {
     "name": "stdout",
     "output_type": "stream",
     "text": [
      "1\n"
     ]
    }
   ],
   "source": [
    "four_time_list = four_time(smart_meter_data_group, NUMBER_OF_DAYS)"
   ]
  },
  {
   "cell_type": "code",
   "execution_count": 36,
   "id": "addressed-assumption",
   "metadata": {
    "Collapsed": "false"
   },
   "outputs": [
    {
     "data": {
      "text/plain": [
       "(   MeterID         Day   FDI  overnight  breakfast   daytime   evening\n",
       " 0     1236  2009-07-15  True   0.128520    0.06780  0.120048  0.119347\n",
       " 1     1236  2009-07-16  True   0.084015    0.23875  0.201571  0.196692\n",
       " 2     1236  2009-07-17  True   0.135647    0.17500  0.231000  0.408409\n",
       " 3     1236  2009-07-18  True   0.083588    0.00000  0.000000  0.092168\n",
       " 4     1236  2009-07-19  True   0.029882    0.24775  0.295500  0.250308,\n",
       " (223660, 7))"
      ]
     },
     "execution_count": 36,
     "metadata": {},
     "output_type": "execute_result"
    }
   ],
   "source": [
    "df = pd.DataFrame(four_time_list)\n",
    "df.head(), df.shape"
   ]
  },
  {
   "cell_type": "code",
   "execution_count": 37,
   "id": "approximate-fetish",
   "metadata": {
    "Collapsed": "false"
   },
   "outputs": [],
   "source": [
    "e = df.to_csv(index=False)\n",
    "f = open('CSV/four_time.csv','w')\n",
    "f.write(e) #Give your csv text here.\n",
    "f.close()"
   ]
  },
  {
   "cell_type": "code",
   "execution_count": 38,
   "id": "veterinary-bunny",
   "metadata": {
    "Collapsed": "false"
   },
   "outputs": [
    {
     "data": {
      "text/plain": [
       "(223660, 7)"
      ]
     },
     "execution_count": 38,
     "metadata": {},
     "output_type": "execute_result"
    }
   ],
   "source": [
    "temp = pd.read_csv('CSV/four_time.csv')\n",
    "temp.shape"
   ]
  },
  {
   "cell_type": "markdown",
   "id": "pursuant-times",
   "metadata": {
    "Collapsed": "false"
   },
   "source": [
    "## TS barycenter"
   ]
  },
  {
   "cell_type": "markdown",
   "id": "falling-leather",
   "metadata": {
    "Collapsed": "true"
   },
   "source": [
    "### Generate file below"
   ]
  },
  {
   "cell_type": "markdown",
   "id": "exciting-newsletter",
   "metadata": {
    "Collapsed": "false"
   },
   "source": [
    "one_cluster_softdtw_barycenter_24hours  \n",
    "one_cluster_euclidean_barycenter_48hours  \n",
    "one_cluster_dba_barycenter_48   \n",
    "one_cluster_sdtw_barycenter_48  "
   ]
  },
  {
   "cell_type": "code",
   "execution_count": null,
   "id": "several-blanket",
   "metadata": {
    "Collapsed": "false"
   },
   "outputs": [],
   "source": [
    "global center\n",
    "\n",
    "def km_cluster(train_data, cluster_num, method=\"EU\"):\n",
    "    if method == \"EU\":\n",
    "        eu_km = TimeSeriesKMeans(n_clusters=cluster_num, verbose=False, random_state=42)\n",
    "        y_pred = eu_km.fit_predict(train_data)\n",
    "        result = eu_km\n",
    "\n",
    "    elif method == \"DBA\":\n",
    "        dba_km = TimeSeriesKMeans(n_clusters=cluster_num,\n",
    "                              n_init=2,\n",
    "                              metric=\"dtw\",\n",
    "                              verbose=False,\n",
    "                              max_iter_barycenter=10,\n",
    "                              random_state=42)\n",
    "\n",
    "        y_pred = dba_km.fit_predict(train_data)\n",
    "        result = dba_km\n",
    "\n",
    "    \n",
    "    elif method == \"Soft-DTW\":\n",
    "        sdtw_km = TimeSeriesKMeans(n_clusters=cluster_num,\n",
    "                           metric=\"softdtw\",\n",
    "                           metric_params={\"gamma\": .01},\n",
    "                           verbose=True  ,\n",
    "                           random_state=42,\n",
    "                            n_jobs=-1)\n",
    "        y_pred = sdtw_km.fit_predict(train_data)\n",
    "        result = sdtw_km\n",
    "        \n",
    "    plt.figure(dpi=80, figsize=(15,4))\n",
    "    for yi in range(cluster_num):\n",
    "        plt.subplot(2, 3, yi+1)\n",
    "        for xx in train_data[y_pred == yi]:\n",
    "            plt.plot(xx.ravel(), \"k-\", alpha=.2)\n",
    "            if method == \"EU\":\n",
    "                plt.plot(eu_km.cluster_centers_[yi].ravel(), \"r-\")\n",
    "            elif method == \"DBA\":\n",
    "                plt.plot(dba_km.cluster_centers_[yi].ravel(), \"r-\")\n",
    "            elif method == \"Soft-DTW\":\n",
    "                plt.plot(sdtw_km.cluster_centers_[yi].ravel(), \"r-\")\n",
    "                \n",
    "        plt.xlim(0, train_data.shape[0])\n",
    "    #     plt.ylim(-4, 4)\n",
    "        plt.text(0.55, 0.85,'Cluster %d' % (yi + 1),\n",
    "                 transform=plt.gca().transAxes)\n",
    "        if yi == 1:\n",
    "            plt.title(method+\"$k$-means\")\n",
    "    plt.show()\n",
    "            \n",
    "    return y_pred, result"
   ]
  },
  {
   "cell_type": "markdown",
   "id": "valuable-innocent",
   "metadata": {
    "Collapsed": "true"
   },
   "source": [
    "### barycenter sdtw 24"
   ]
  },
  {
   "cell_type": "code",
   "execution_count": null,
   "id": "ecological-circular",
   "metadata": {
    "Collapsed": "false"
   },
   "outputs": [],
   "source": [
    "SDTW_result = {}\n",
    "method = \"Soft-DTW\"\n",
    "# barycenter_df = pd.DataFrame(columns=['MeterID', 'Day', 'FDI', 'overnight', 'breakfast', 'daytime', 'evening'])\n",
    "pbar = tqdm(smart_meter_data_group)\n",
    "count = 1\n",
    "for area in pbar: # iterate 10 data groups\n",
    "    X = []\n",
    "    Y = []\n",
    "    for meter in area['fdi']: # iterate every fdi meter in area \n",
    "        X.append(meter[\"Electricity\"].to_numpy())\n",
    "        Y.append((meter[\"MeterID\"].max(), 'True'))\n",
    "    for meter in area['normal']: # iterate every fdi meter in area \n",
    "        X.append(meter[\"Electricity\"].to_numpy())\n",
    "        Y.append((meter[\"MeterID\"].max(), 'False'))\n",
    "    X = np.array(X)\n",
    "    Y = np.array(Y)\n",
    "    X = X.reshape(-1, 530, 48 )\n",
    "    print(X.shape)\n",
    "    y_pred, result = km_cluster(X, 1, method)\n",
    "    SDTW_result[count] = (y_pred, result, result.cluster_centers_, Y)\n",
    "    count = count + 1"
   ]
  },
  {
   "cell_type": "code",
   "execution_count": null,
   "id": "documented-wesley",
   "metadata": {
    "Collapsed": "false"
   },
   "outputs": [],
   "source": [
    "#save model\n",
    "one_cluster_sdtw_barycenter = []\n",
    "for i in range(len(SDTW_result)):\n",
    "    i = i + 1\n",
    "    one_cluster_sdtw_barycenter.append(SDTW_result[i][2])\n",
    "df = pd.DataFrame(one_cluster_sdtw_barycenter[0].reshape(-1, 24))\n",
    "df.head(), df.shape\n",
    "e = df.to_csv(index=False)\n",
    "f = open('one_cluster_softdtw_barycenter_24hours.csv','w')\n",
    "f.write(e) #Give your csv text here.\n",
    "f.close()"
   ]
  },
  {
   "cell_type": "markdown",
   "id": "assumed-check",
   "metadata": {
    "Collapsed": "true"
   },
   "source": [
    "### barycenter euclidean 48"
   ]
  },
  {
   "cell_type": "code",
   "execution_count": null,
   "id": "upset-glory",
   "metadata": {
    "Collapsed": "false"
   },
   "outputs": [],
   "source": [
    "euclidean_barycenter_result = {}\n",
    "pbar = tqdm(smart_meter_data_group)\n",
    "count = 1\n",
    "for area in pbar: # iterate 10 data groups\n",
    "    print(f'start {count}')\n",
    "    X = []\n",
    "    Y = []\n",
    "    for meter in area['fdi']: # iterate every fdi meter in area \n",
    "        X.append(meter[\"Electricity\"].to_numpy())\n",
    "        Y.append((meter[\"MeterID\"].max(), 'True'))\n",
    "    for meter in area['normal']: # iterate every fdi meter in area \n",
    "        X.append(meter[\"Electricity\"].to_numpy())\n",
    "        Y.append((meter[\"MeterID\"].max(), 'False'))\n",
    "    X = np.array(X)\n",
    "    print(X.shape)\n",
    "    Y = np.array(Y)\n",
    "    X = X.reshape(-1, 530, 48 )\n",
    "    print(X.shape)\n",
    "    result = euclidean_barycenter(X)\n",
    "    euclidean_barycenter_result[count] = (result, Y)\n",
    "    count = count + 1\n",
    "    \n",
    "one_cluster_euclidean_barycenter_48 = []\n",
    "for i in range(len(euclidean_barycenter_result)):\n",
    "    i = i + 1\n",
    "    one_cluster_euclidean_barycenter_48.append(euclidean_barycenter_result[i][0])"
   ]
  },
  {
   "cell_type": "code",
   "execution_count": null,
   "id": "egyptian-calcium",
   "metadata": {
    "Collapsed": "false"
   },
   "outputs": [],
   "source": [
    "df = pd.DataFrame(np.array(one_cluster_euclidean_barycenter_48).reshape(10, 530*48))\n",
    "df.shape"
   ]
  },
  {
   "cell_type": "code",
   "execution_count": null,
   "id": "endangered-arrival",
   "metadata": {
    "Collapsed": "false"
   },
   "outputs": [],
   "source": [
    "e = df.to_csv(index=False)\n",
    "f = open('one_cluster_euclidean_barycenter_48hours.csv','w')\n",
    "f.write(e) #Give your csv text here.\n",
    "f.close()"
   ]
  },
  {
   "cell_type": "markdown",
   "id": "tired-alpha",
   "metadata": {
    "Collapsed": "true"
   },
   "source": [
    "#### barycenter euclidean 48 training"
   ]
  },
  {
   "cell_type": "code",
   "execution_count": null,
   "id": "dramatic-collapse",
   "metadata": {
    "Collapsed": "false"
   },
   "outputs": [],
   "source": [
    "for i in one_cluster_euclidean_barycenter_48[1]:\n",
    "    plt.plot(i)"
   ]
  },
  {
   "cell_type": "code",
   "execution_count": null,
   "id": "removable-testament",
   "metadata": {
    "Collapsed": "false"
   },
   "outputs": [],
   "source": [
    "def calc_stuff(x,y):   # these are examples.\n",
    "    meter_euclid = np.linalg.norm(x-y)\n",
    "    meter_dtw = dtw(x,y)\n",
    "    meter_sdtw = soft_dtw(x,y)\n",
    "    return meter_euclid, meter_dtw, meter_sdtw\n",
    "\n",
    "def procedure(j):                 # just factoring out the\n",
    "    df_list = []\n",
    "    d = j.reshape(-1, 5)\n",
    "    meter = pd.DataFrame(d, columns=[\"MeterID\",\"Day\",\"Time\",\"Electricity\",\"FDI\"])\n",
    "    day_list = meter['Day'].reset_index()\n",
    "    for i in range(530): # \n",
    "        \n",
    "        meter_id = meter[\"MeterID\"].loc[0]\n",
    "        meter_day = day_list['Day'][i*48]\n",
    "        meter_fdi = meter[\"FDI\"].loc[0]\n",
    "        x = meter[\"Electricity\"].to_numpy()[i*48:(i+1)*48]\n",
    "        y = center[i*48:(i+1)*48]\n",
    "#         if i == 529:\n",
    "#             print(f'meter_id : {meter_id} , x.shape :{ x.shape}, y.shape: {y.shape},{i*48,(i+1)*48}')\n",
    "        meter_euclid, meter_dtw, meter_sdtw = calc_stuff(x,y)\n",
    "        se = {'MeterID': meter_id, 'Day': meter_day,'FDI': meter_fdi, \"meter_euclid\": meter_euclid, \"meter_dtw\":meter_dtw, \"meter_sdtw\":meter_sdtw}\n",
    "        df_list.append(se)\n",
    "    return df_list\n",
    "\n",
    "def main(PoolExecutor, area_num): # take ProcessPoolExecutor or ThreadPoolExecutor\n",
    "    \n",
    "    inputs = data_group[area_num] # data_group[0] 有422個\n",
    "    output1 = list()\n",
    "\n",
    "    start = time()           # let's see how long this takes\n",
    "    \n",
    "    with PoolExecutor() as executor:\n",
    "        for out1 in executor.map(procedure, inputs):\n",
    "            # put results into correct output list:\n",
    "            output1.append(out1)\n",
    "            \n",
    "    finish = time()\n",
    "    print(f'PoolExecutor: {PoolExecutor}')\n",
    "    print(f'time : {(finish-start)}')\n",
    "    return output1"
   ]
  },
  {
   "cell_type": "code",
   "execution_count": null,
   "id": "parallel-buddy",
   "metadata": {
    "Collapsed": "false"
   },
   "outputs": [],
   "source": [
    "center_euclid_48 = pd.read_csv('one_cluster_euclidean_barycenter_48hours.csv')\n",
    "center_euclid_48.shape"
   ]
  },
  {
   "cell_type": "code",
   "execution_count": null,
   "id": "blessed-integration",
   "metadata": {
    "Collapsed": "false"
   },
   "outputs": [],
   "source": [
    "euclid_day_score_list = []\n",
    "for num in range(10):\n",
    "    print(f'start area {num}')\n",
    "    center = center_euclid_48.loc[num].to_numpy()\n",
    "    sdtwa = main(ProcessPoolExecutor, num)\n",
    "    euclid_day_score_list.append(sdtwa)"
   ]
  },
  {
   "cell_type": "code",
   "execution_count": null,
   "id": "proper-fever",
   "metadata": {
    "Collapsed": "false"
   },
   "outputs": [],
   "source": [
    "score_list = []\n",
    "area_count = 0\n",
    "meter_count = 0\n",
    "day_count = 0\n",
    "\n",
    "for index, area in enumerate(euclid_day_score_list): # area=10\n",
    "    area_count += 1\n",
    "    for meter in area: #meter=422(427)\n",
    "        meter_count += 1\n",
    "        for day in meter:\n",
    "            day_count +=1\n",
    "            score_list.append(day)\n",
    "area_count, meter_count, day_count"
   ]
  },
  {
   "cell_type": "code",
   "execution_count": null,
   "id": "rural-diary",
   "metadata": {
    "Collapsed": "false"
   },
   "outputs": [],
   "source": [
    "euclid_day_score_df = pd.DataFrame(score_list)\n",
    "df = euclid_day_score_df\n",
    "X = df[[\"meter_euclid\"]]\n",
    "Y = df[[\"FDI\"]]\n",
    "\n",
    "partition = 422*8*530\n",
    "evaluation = 422*1*530\n",
    "total = 2239250\n",
    "\n",
    "\n",
    "X_train = X[:partition]\n",
    "X_val = X[partition:total-evaluation]\n",
    "X_test = X[total-evaluation: total]\n",
    "y_train = Y[:partition]\n",
    "y_val = Y[partition:total-evaluation]\n",
    "y_test = Y[total-evaluation: total]"
   ]
  },
  {
   "cell_type": "code",
   "execution_count": null,
   "id": "random-horizontal",
   "metadata": {
    "Collapsed": "false"
   },
   "outputs": [],
   "source": [
    "X_train.shape, X_val.shape, X_test.shape, y_train.shape, y_val.shape, y_test.shape"
   ]
  },
  {
   "cell_type": "code",
   "execution_count": null,
   "id": "saved-convergence",
   "metadata": {
    "Collapsed": "false"
   },
   "outputs": [],
   "source": [
    "model = XGBClassifier()\n",
    "# define grid\n",
    "weights = [0.01, 0.1, 1, 10, 25, 50, 75, 99, 100, 1000, 116,  10.7]\n",
    "param_grid = dict(scale_pos_weight=weights)\n",
    "# define evaluation procedure\n",
    "cv = RepeatedStratifiedKFold(n_splits=10, n_repeats=3, random_state=1)\n",
    "# define grid search\n",
    "grid = GridSearchCV(estimator=model, param_grid=param_grid, n_jobs=-1, cv=cv, scoring='roc_auc')\n",
    "# execute the grid search\n",
    "grid_result = grid.fit(X_train, y_train, verbose=True)\n",
    "# report the best configuration\n",
    "print(\"Best: %f using %s\" % (grid_result.best_score_, grid_result.best_params_))\n",
    "# report all configurations\n",
    "means = grid_result.cv_results_['mean_test_score']\n",
    "stds = grid_result.cv_results_['std_test_score']\n",
    "params = grid_result.cv_results_['params']\n",
    "for mean, stdev, param in zip(means, stds, params):\n",
    "    print(\"%f (%f) with: %r\" % (mean, stdev, param))"
   ]
  },
  {
   "cell_type": "markdown",
   "id": "sexual-longer",
   "metadata": {
    "Collapsed": "true"
   },
   "source": [
    "### barycenter dba 48"
   ]
  },
  {
   "cell_type": "code",
   "execution_count": 42,
   "id": "scientific-looking",
   "metadata": {
    "Collapsed": "false",
    "collapsed": true,
    "jupyter": {
     "outputs_hidden": true
    }
   },
   "outputs": [
    {
     "data": {
      "application/vnd.jupyter.widget-view+json": {
       "model_id": "de7229b0875a47f4b2a084f781911b78",
       "version_major": 2,
       "version_minor": 0
      },
      "text/plain": [
       "  0%|          | 0/10 [00:00<?, ?it/s]"
      ]
     },
     "metadata": {},
     "output_type": "display_data"
    },
    {
     "name": "stdout",
     "output_type": "stream",
     "text": [
      "start 1\n",
      "(422, 25440)\n",
      "(422, 530, 48)\n"
     ]
    },
    {
     "ename": "KeyboardInterrupt",
     "evalue": "",
     "output_type": "error",
     "traceback": [
      "\u001b[0;31m---------------------------------------------------------------------------\u001b[0m",
      "\u001b[0;31mKeyboardInterrupt\u001b[0m                         Traceback (most recent call last)",
      "\u001b[0;32m<ipython-input-42-8b082c6209fd>\u001b[0m in \u001b[0;36m<module>\u001b[0;34m\u001b[0m\n\u001b[1;32m     18\u001b[0m     \u001b[0mX\u001b[0m \u001b[0;34m=\u001b[0m \u001b[0mX\u001b[0m\u001b[0;34m.\u001b[0m\u001b[0mreshape\u001b[0m\u001b[0;34m(\u001b[0m\u001b[0;34m-\u001b[0m\u001b[0;36m1\u001b[0m\u001b[0;34m,\u001b[0m \u001b[0;36m530\u001b[0m\u001b[0;34m,\u001b[0m \u001b[0;36m48\u001b[0m \u001b[0;34m)\u001b[0m\u001b[0;34m\u001b[0m\u001b[0;34m\u001b[0m\u001b[0m\n\u001b[1;32m     19\u001b[0m     \u001b[0mprint\u001b[0m\u001b[0;34m(\u001b[0m\u001b[0mX\u001b[0m\u001b[0;34m.\u001b[0m\u001b[0mshape\u001b[0m\u001b[0;34m)\u001b[0m\u001b[0;34m\u001b[0m\u001b[0;34m\u001b[0m\u001b[0m\n\u001b[0;32m---> 20\u001b[0;31m     \u001b[0mresult\u001b[0m \u001b[0;34m=\u001b[0m \u001b[0mdtw_barycenter_averaging_subgradient\u001b[0m\u001b[0;34m(\u001b[0m\u001b[0mX\u001b[0m\u001b[0;34m,\u001b[0m \u001b[0mmax_iter\u001b[0m\u001b[0;34m=\u001b[0m\u001b[0;36m20\u001b[0m\u001b[0;34m,\u001b[0m \u001b[0mtol\u001b[0m\u001b[0;34m=\u001b[0m\u001b[0;36m1e-3\u001b[0m\u001b[0;34m)\u001b[0m\u001b[0;34m\u001b[0m\u001b[0;34m\u001b[0m\u001b[0m\n\u001b[0m\u001b[1;32m     21\u001b[0m     \u001b[0mdba_barycenter_result\u001b[0m\u001b[0;34m[\u001b[0m\u001b[0mcount\u001b[0m\u001b[0;34m]\u001b[0m \u001b[0;34m=\u001b[0m \u001b[0;34m(\u001b[0m\u001b[0mresult\u001b[0m\u001b[0;34m,\u001b[0m \u001b[0mY\u001b[0m\u001b[0;34m)\u001b[0m\u001b[0;34m\u001b[0m\u001b[0;34m\u001b[0m\u001b[0m\n\u001b[1;32m     22\u001b[0m     \u001b[0mcount\u001b[0m \u001b[0;34m=\u001b[0m \u001b[0mcount\u001b[0m \u001b[0;34m+\u001b[0m \u001b[0;36m1\u001b[0m\u001b[0;34m\u001b[0m\u001b[0;34m\u001b[0m\u001b[0m\n",
      "\u001b[0;32m/opt/conda/lib/python3.7/site-packages/tslearn/barycenters/dba.py\u001b[0m in \u001b[0;36mdtw_barycenter_averaging_subgradient\u001b[0;34m(X, barycenter_size, init_barycenter, max_iter, initial_step_size, final_step_size, tol, random_state, weights, metric_params, verbose)\u001b[0m\n\u001b[1;32m    717\u001b[0m             \u001b[0mwi\u001b[0m \u001b[0;34m=\u001b[0m \u001b[0mweights\u001b[0m\u001b[0;34m[\u001b[0m\u001b[0midx\u001b[0m\u001b[0;34m:\u001b[0m\u001b[0midx\u001b[0m\u001b[0;34m+\u001b[0m\u001b[0;36m1\u001b[0m\u001b[0;34m]\u001b[0m\u001b[0;34m\u001b[0m\u001b[0;34m\u001b[0m\u001b[0m\n\u001b[1;32m    718\u001b[0m             list_p_k, cost = _mm_assignment(Xi, barycenter, weights,\n\u001b[0;32m--> 719\u001b[0;31m                                             metric_params)\n\u001b[0m\u001b[1;32m    720\u001b[0m             list_diag_v_k, list_w_k = _subgradient_valence_warping(\n\u001b[1;32m    721\u001b[0m                 \u001b[0mlist_p_k\u001b[0m\u001b[0;34m,\u001b[0m\u001b[0;34m\u001b[0m\u001b[0;34m\u001b[0m\u001b[0m\n",
      "\u001b[0;32m/opt/conda/lib/python3.7/site-packages/tslearn/barycenters/dba.py\u001b[0m in \u001b[0;36m_mm_assignment\u001b[0;34m(X, barycenter, weights, metric_params)\u001b[0m\n\u001b[1;32m    212\u001b[0m     \u001b[0mlist_p_k\u001b[0m \u001b[0;34m=\u001b[0m \u001b[0;34m[\u001b[0m\u001b[0;34m]\u001b[0m\u001b[0;34m\u001b[0m\u001b[0;34m\u001b[0m\u001b[0m\n\u001b[1;32m    213\u001b[0m     \u001b[0;32mfor\u001b[0m \u001b[0mi\u001b[0m \u001b[0;32min\u001b[0m \u001b[0mrange\u001b[0m\u001b[0;34m(\u001b[0m\u001b[0mn\u001b[0m\u001b[0;34m)\u001b[0m\u001b[0;34m:\u001b[0m\u001b[0;34m\u001b[0m\u001b[0;34m\u001b[0m\u001b[0m\n\u001b[0;32m--> 214\u001b[0;31m         \u001b[0mpath\u001b[0m\u001b[0;34m,\u001b[0m \u001b[0mdist_i\u001b[0m \u001b[0;34m=\u001b[0m \u001b[0mdtw_path\u001b[0m\u001b[0;34m(\u001b[0m\u001b[0mbarycenter\u001b[0m\u001b[0;34m,\u001b[0m \u001b[0mX\u001b[0m\u001b[0;34m[\u001b[0m\u001b[0mi\u001b[0m\u001b[0;34m]\u001b[0m\u001b[0;34m,\u001b[0m \u001b[0;34m**\u001b[0m\u001b[0mmetric_params\u001b[0m\u001b[0;34m)\u001b[0m\u001b[0;34m\u001b[0m\u001b[0;34m\u001b[0m\u001b[0m\n\u001b[0m\u001b[1;32m    215\u001b[0m         \u001b[0mcost\u001b[0m \u001b[0;34m+=\u001b[0m \u001b[0mdist_i\u001b[0m \u001b[0;34m**\u001b[0m \u001b[0;36m2\u001b[0m \u001b[0;34m*\u001b[0m \u001b[0mweights\u001b[0m\u001b[0;34m[\u001b[0m\u001b[0mi\u001b[0m\u001b[0;34m]\u001b[0m\u001b[0;34m\u001b[0m\u001b[0;34m\u001b[0m\u001b[0m\n\u001b[1;32m    216\u001b[0m         \u001b[0mlist_p_k\u001b[0m\u001b[0;34m.\u001b[0m\u001b[0mappend\u001b[0m\u001b[0;34m(\u001b[0m\u001b[0mpath\u001b[0m\u001b[0;34m)\u001b[0m\u001b[0;34m\u001b[0m\u001b[0;34m\u001b[0m\u001b[0m\n",
      "\u001b[0;32m/opt/conda/lib/python3.7/site-packages/tslearn/metrics/dtw_variants.py\u001b[0m in \u001b[0;36mdtw_path\u001b[0;34m(s1, s2, global_constraint, sakoe_chiba_radius, itakura_max_slope)\u001b[0m\n\u001b[1;32m    194\u001b[0m         \u001b[0msakoe_chiba_radius\u001b[0m\u001b[0;34m,\u001b[0m \u001b[0mitakura_max_slope\u001b[0m\u001b[0;34m\u001b[0m\u001b[0;34m\u001b[0m\u001b[0m\n\u001b[1;32m    195\u001b[0m     )\n\u001b[0;32m--> 196\u001b[0;31m     \u001b[0macc_cost_mat\u001b[0m \u001b[0;34m=\u001b[0m \u001b[0mnjit_accumulated_matrix\u001b[0m\u001b[0;34m(\u001b[0m\u001b[0ms1\u001b[0m\u001b[0;34m,\u001b[0m \u001b[0ms2\u001b[0m\u001b[0;34m,\u001b[0m \u001b[0mmask\u001b[0m\u001b[0;34m=\u001b[0m\u001b[0mmask\u001b[0m\u001b[0;34m)\u001b[0m\u001b[0;34m\u001b[0m\u001b[0;34m\u001b[0m\u001b[0m\n\u001b[0m\u001b[1;32m    197\u001b[0m     \u001b[0mpath\u001b[0m \u001b[0;34m=\u001b[0m \u001b[0m_return_path\u001b[0m\u001b[0;34m(\u001b[0m\u001b[0macc_cost_mat\u001b[0m\u001b[0;34m)\u001b[0m\u001b[0;34m\u001b[0m\u001b[0;34m\u001b[0m\u001b[0m\n\u001b[1;32m    198\u001b[0m     \u001b[0;32mreturn\u001b[0m \u001b[0mpath\u001b[0m\u001b[0;34m,\u001b[0m \u001b[0mnumpy\u001b[0m\u001b[0;34m.\u001b[0m\u001b[0msqrt\u001b[0m\u001b[0;34m(\u001b[0m\u001b[0macc_cost_mat\u001b[0m\u001b[0;34m[\u001b[0m\u001b[0;34m-\u001b[0m\u001b[0;36m1\u001b[0m\u001b[0;34m,\u001b[0m \u001b[0;34m-\u001b[0m\u001b[0;36m1\u001b[0m\u001b[0;34m]\u001b[0m\u001b[0;34m)\u001b[0m\u001b[0;34m\u001b[0m\u001b[0;34m\u001b[0m\u001b[0m\n",
      "\u001b[0;31mKeyboardInterrupt\u001b[0m: "
     ]
    }
   ],
   "source": [
    "# calculate center\n",
    "dba_barycenter_result = {}\n",
    "pbar = tqdm(smart_meter_data_group)\n",
    "count = 1\n",
    "for area in pbar: # iterate 10 data groups\n",
    "    print(f'start {count}')\n",
    "    X = []\n",
    "    Y = []\n",
    "    for meter in area['fdi']: # iterate every fdi meter in area \n",
    "        X.append(meter[\"Electricity\"].to_numpy())\n",
    "        Y.append((meter[\"MeterID\"].max(), 'True'))\n",
    "    for meter in area['normal']: # iterate every fdi meter in area \n",
    "        X.append(meter[\"Electricity\"].to_numpy())\n",
    "        Y.append((meter[\"MeterID\"].max(), 'False'))\n",
    "    X = np.array(X)\n",
    "    print(X.shape)\n",
    "    Y = np.array(Y)\n",
    "    X = X.reshape(-1, 530, 48 )\n",
    "    print(X.shape)\n",
    "    result = dtw_barycenter_averaging_subgradient(X, max_iter=20, tol=1e-3)\n",
    "    dba_barycenter_result[count] = (result, Y)\n",
    "    count = count + 1\n",
    "    \n",
    "one_cluster_dba_barycenter_48 = []\n",
    "for i in range(len(dba_barycenter_result)):\n",
    "    i = i + 1\n",
    "    one_cluster_dba_barycenter_48.append(dba_barycenter_result[i][0])\n",
    "print(one_cluster_dba_barycenter_48[9].shape)"
   ]
  },
  {
   "cell_type": "code",
   "execution_count": null,
   "id": "theoretical-option",
   "metadata": {
    "Collapsed": "false"
   },
   "outputs": [],
   "source": [
    "for i in one_cluster_dba_barycenter_48[0][:10]:\n",
    "    plt.plot(i)\n",
    "#     break"
   ]
  },
  {
   "cell_type": "code",
   "execution_count": null,
   "id": "racial-weight",
   "metadata": {
    "Collapsed": "false"
   },
   "outputs": [],
   "source": [
    "# df = pd.DataFrame(np.array(one_cluster_dba_barycenter_48).reshape(10, 530*48))\n",
    "# print(df.shape)\n",
    "# e = df.to_csv(index=False)\n",
    "# f = open('one_cluster_dba_barycenter_48.csv','w')\n",
    "# f.write(e) #Give your csv text here.\n",
    "# f.close()"
   ]
  },
  {
   "cell_type": "markdown",
   "id": "introductory-glenn",
   "metadata": {
    "Collapsed": "true"
   },
   "source": [
    "#### barycenter dba 48 training"
   ]
  },
  {
   "cell_type": "code",
   "execution_count": null,
   "id": "atlantic-fashion",
   "metadata": {
    "Collapsed": "false"
   },
   "outputs": [],
   "source": [
    "def calc_stuff(x,y):   # these are examples.\n",
    "    meter_euclid = np.linalg.norm(x-y)\n",
    "    meter_dtw = dtw(x,y)\n",
    "    meter_sdtw = soft_dtw(x,y)\n",
    "    return meter_euclid, meter_dtw, meter_sdtw\n",
    "\n",
    "def procedure(j):                 # just factoring out the\n",
    "    df_list = []\n",
    "    d = j.reshape(-1, 5)\n",
    "    meter = pd.DataFrame(d, columns=[\"MeterID\",\"Day\",\"Time\",\"Electricity\",\"FDI\"])\n",
    "    day_list = meter['Day'].reset_index()\n",
    "    for i in range(530): # \n",
    "        \n",
    "        meter_id = meter[\"MeterID\"].loc[0]\n",
    "        meter_day = day_list['Day'][i*48]\n",
    "        meter_fdi = meter[\"FDI\"].loc[0]\n",
    "        x = meter[\"Electricity\"].to_numpy()[i*48:(i+1)*48]\n",
    "        y = center[i*48:(i+1)*48]\n",
    "#         if i == 529:\n",
    "#             print(f'meter_id : {meter_id} , x.shape :{ x.shape}, y.shape: {y.shape},{i*48,(i+1)*48}')\n",
    "        meter_euclid, meter_dtw, meter_sdtw = calc_stuff(x,y)\n",
    "        se = {'MeterID': meter_id, 'Day': meter_day,'FDI': meter_fdi, \"meter_euclid\": meter_euclid, \"meter_dtw\":meter_dtw, \"meter_sdtw\":meter_sdtw}\n",
    "        df_list.append(se)\n",
    "    return df_list\n",
    "\n",
    "def main(PoolExecutor, area_num): # take ProcessPoolExecutor or ThreadPoolExecutor\n",
    "    \n",
    "    inputs = data_group[area_num] # data_group[0] 有422個\n",
    "    output1 = list()\n",
    "\n",
    "    start = time()           # let's see how long this takes\n",
    "    \n",
    "    with PoolExecutor() as executor:\n",
    "        for out1 in executor.map(procedure, inputs):\n",
    "            # put results into correct output list:\n",
    "            output1.append(out1)\n",
    "            \n",
    "    finish = time()\n",
    "    print(f'PoolExecutor: {PoolExecutor}')\n",
    "    print(f'time : {(finish-start)}')\n",
    "    return output1"
   ]
  },
  {
   "cell_type": "code",
   "execution_count": null,
   "id": "unexpected-jordan",
   "metadata": {
    "Collapsed": "false"
   },
   "outputs": [],
   "source": [
    "center_dba_48 = pd.read_csv('one_cluster_dba_barycenter_48.csv')\n",
    "center_dba_48.shape"
   ]
  },
  {
   "cell_type": "code",
   "execution_count": null,
   "id": "random-verification",
   "metadata": {
    "Collapsed": "false"
   },
   "outputs": [],
   "source": [
    "dba_day_score_list = []\n",
    "for num in range(10):\n",
    "    print(f'start area {num}')\n",
    "    center = center_dba_48.loc[num].to_numpy()\n",
    "    sdtwa = main(ProcessPoolExecutor, num)\n",
    "    dba_day_score_list.append(sdtwa)"
   ]
  },
  {
   "cell_type": "code",
   "execution_count": null,
   "id": "forbidden-service",
   "metadata": {
    "Collapsed": "false"
   },
   "outputs": [],
   "source": [
    "# combime score list\n",
    "score_list = []\n",
    "area_count = 0\n",
    "meter_count = 0\n",
    "day_count = 0\n",
    "dba_day_score_df = pd.DataFrame(columns=[\"MeterID\", \"Day\", \"FDI\", \"meter_dtw\", \"meter_sdtw\"])\n",
    "for index, area in enumerate(dba_day_score_list): # area=10\n",
    "    area_count += 1\n",
    "    for meter in area: #meter=422(427)\n",
    "        meter_count += 1\n",
    "        for day in meter:\n",
    "            day_count +=1\n",
    "            score_list.append(day)\n",
    "area_count, meter_count, day_count"
   ]
  },
  {
   "cell_type": "code",
   "execution_count": null,
   "id": "indian-trinity",
   "metadata": {
    "Collapsed": "false"
   },
   "outputs": [],
   "source": [
    "X_train.shape, X_val.shape, X_test.shape, y_train.shape, y_val.shape, y_test.shape"
   ]
  },
  {
   "cell_type": "code",
   "execution_count": null,
   "id": "honest-following",
   "metadata": {
    "Collapsed": "false"
   },
   "outputs": [],
   "source": [
    "dba_day_score_df = pd.DataFrame(score_list)\n",
    "df = dba_day_score_df\n",
    "X = df[[\"meter_dtw\"]]\n",
    "Y = df[[\"FDI\"]]\n",
    "\n",
    "partition = 422*8*530\n",
    "evaluation = 422*1*530\n",
    "total = 2239250\n",
    "\n",
    "\n",
    "X_train = X[:partition]\n",
    "X_val = X[partition:total-evaluation]\n",
    "X_test = X[total-evaluation: total]\n",
    "y_train = Y[:partition]\n",
    "y_val = Y[partition:total-evaluation]\n",
    "y_test = Y[total-evaluation: total]\n",
    "\n",
    "model = XGBClassifier()\n",
    "# define grid\n",
    "weights = [0.01, 0.1, 1, 10, 25, 50, 75, 99, 100, 1000, 116,  10.7]\n",
    "param_grid = dict(scale_pos_weight=weights)\n",
    "# define evaluation procedure\n",
    "cv = RepeatedStratifiedKFold(n_splits=10, n_repeats=3, random_state=1)\n",
    "# define grid search\n",
    "grid = GridSearchCV(estimator=model, param_grid=param_grid, n_jobs=-1, cv=cv, scoring='roc_auc')\n",
    "# execute the grid search\n",
    "grid_result = grid.fit(X_train, y_train, verbose=True)\n",
    "# report the best configuration\n",
    "print(\"Best: %f using %s\" % (grid_result.best_score_, grid_result.best_params_))\n",
    "# report all configurations\n",
    "means = grid_result.cv_results_['mean_test_score']\n",
    "stds = grid_result.cv_results_['std_test_score']\n",
    "params = grid_result.cv_results_['params']\n",
    "for mean, stdev, param in zip(means, stds, params):\n",
    "    print(\"%f (%f) with: %r\" % (mean, stdev, param))"
   ]
  },
  {
   "cell_type": "code",
   "execution_count": null,
   "id": "stretch-consensus",
   "metadata": {},
   "outputs": [],
   "source": [
    "print(\"Best: %f using %s\" % (grid_result.best_score_, grid_result.best_params_))\n",
    "# report all configurations\n",
    "means = grid_result.cv_results_['mean_test_score']\n",
    "stds = grid_result.cv_results_['std_test_score']\n",
    "params = grid_result.cv_results_['params']\n",
    "for mean, stdev, param in zip(means, stds, params):\n",
    "    print(\"%f (%f) with: %r\" % (mean, stdev, param))"
   ]
  },
  {
   "cell_type": "markdown",
   "id": "registered-error",
   "metadata": {
    "Collapsed": "true"
   },
   "source": [
    "### barycenter sdtw 48"
   ]
  },
  {
   "cell_type": "code",
   "execution_count": 45,
   "id": "neural-value",
   "metadata": {
    "Collapsed": "false",
    "collapsed": true,
    "jupyter": {
     "outputs_hidden": true
    }
   },
   "outputs": [
    {
     "data": {
      "application/vnd.jupyter.widget-view+json": {
       "model_id": "37e3384ff0794a7a84be56023a6cef19",
       "version_major": 2,
       "version_minor": 0
      },
      "text/plain": [
       "  0%|          | 0/10 [00:00<?, ?it/s]"
      ]
     },
     "metadata": {},
     "output_type": "display_data"
    },
    {
     "name": "stdout",
     "output_type": "stream",
     "text": [
      "start 1\n",
      "(422, 25440)\n",
      "(422, 530, 48)\n",
      "start 2\n",
      "(422, 25440)\n",
      "(422, 530, 48)\n"
     ]
    },
    {
     "ename": "KeyboardInterrupt",
     "evalue": "",
     "output_type": "error",
     "traceback": [
      "\u001b[0;31m---------------------------------------------------------------------------\u001b[0m",
      "\u001b[0;31mKeyboardInterrupt\u001b[0m                         Traceback (most recent call last)",
      "\u001b[0;32m<ipython-input-45-f5b3af5457a6>\u001b[0m in \u001b[0;36m<module>\u001b[0;34m\u001b[0m\n\u001b[1;32m     17\u001b[0m     \u001b[0mX\u001b[0m \u001b[0;34m=\u001b[0m \u001b[0mX\u001b[0m\u001b[0;34m.\u001b[0m\u001b[0mreshape\u001b[0m\u001b[0;34m(\u001b[0m\u001b[0;34m-\u001b[0m\u001b[0;36m1\u001b[0m\u001b[0;34m,\u001b[0m \u001b[0;36m530\u001b[0m\u001b[0;34m,\u001b[0m \u001b[0;36m48\u001b[0m \u001b[0;34m)\u001b[0m\u001b[0;34m\u001b[0m\u001b[0;34m\u001b[0m\u001b[0m\n\u001b[1;32m     18\u001b[0m     \u001b[0mprint\u001b[0m\u001b[0;34m(\u001b[0m\u001b[0mX\u001b[0m\u001b[0;34m.\u001b[0m\u001b[0mshape\u001b[0m\u001b[0;34m)\u001b[0m\u001b[0;34m\u001b[0m\u001b[0;34m\u001b[0m\u001b[0m\n\u001b[0;32m---> 19\u001b[0;31m     \u001b[0mresult\u001b[0m \u001b[0;34m=\u001b[0m \u001b[0msoftdtw_barycenter\u001b[0m\u001b[0;34m(\u001b[0m\u001b[0mX\u001b[0m\u001b[0;34m,\u001b[0m \u001b[0mmax_iter\u001b[0m\u001b[0;34m=\u001b[0m\u001b[0;36m5\u001b[0m\u001b[0;34m,\u001b[0m \u001b[0mgamma\u001b[0m\u001b[0;34m=\u001b[0m\u001b[0;36m1.\u001b[0m\u001b[0;34m)\u001b[0m\u001b[0;34m\u001b[0m\u001b[0;34m\u001b[0m\u001b[0m\n\u001b[0m\u001b[1;32m     20\u001b[0m     \u001b[0mbarycenter_result\u001b[0m\u001b[0;34m[\u001b[0m\u001b[0mcount\u001b[0m\u001b[0;34m]\u001b[0m \u001b[0;34m=\u001b[0m \u001b[0;34m(\u001b[0m\u001b[0mresult\u001b[0m\u001b[0;34m,\u001b[0m \u001b[0mY\u001b[0m\u001b[0;34m)\u001b[0m\u001b[0;34m\u001b[0m\u001b[0;34m\u001b[0m\u001b[0m\n\u001b[1;32m     21\u001b[0m     \u001b[0mcount\u001b[0m \u001b[0;34m=\u001b[0m \u001b[0mcount\u001b[0m \u001b[0;34m+\u001b[0m \u001b[0;36m1\u001b[0m\u001b[0;34m\u001b[0m\u001b[0;34m\u001b[0m\u001b[0m\n",
      "\u001b[0;32m/opt/conda/lib/python3.7/site-packages/tslearn/barycenters/softdtw.py\u001b[0m in \u001b[0;36msoftdtw_barycenter\u001b[0;34m(X, gamma, weights, method, tol, max_iter, init)\u001b[0m\n\u001b[1;32m    108\u001b[0m         \u001b[0;31m# The function works with vectors so we need to vectorize barycenter.\u001b[0m\u001b[0;34m\u001b[0m\u001b[0;34m\u001b[0m\u001b[0;34m\u001b[0m\u001b[0m\n\u001b[1;32m    109\u001b[0m         res = minimize(f, barycenter.ravel(), method=method, jac=True, tol=tol,\n\u001b[0;32m--> 110\u001b[0;31m                        options=dict(maxiter=max_iter, disp=False))\n\u001b[0m\u001b[1;32m    111\u001b[0m         \u001b[0;32mreturn\u001b[0m \u001b[0mres\u001b[0m\u001b[0;34m.\u001b[0m\u001b[0mx\u001b[0m\u001b[0;34m.\u001b[0m\u001b[0mreshape\u001b[0m\u001b[0;34m(\u001b[0m\u001b[0mbarycenter\u001b[0m\u001b[0;34m.\u001b[0m\u001b[0mshape\u001b[0m\u001b[0;34m)\u001b[0m\u001b[0;34m\u001b[0m\u001b[0;34m\u001b[0m\u001b[0m\n\u001b[1;32m    112\u001b[0m     \u001b[0;32melse\u001b[0m\u001b[0;34m:\u001b[0m\u001b[0;34m\u001b[0m\u001b[0;34m\u001b[0m\u001b[0m\n",
      "\u001b[0;32m/opt/conda/lib/python3.7/site-packages/scipy/optimize/_minimize.py\u001b[0m in \u001b[0;36mminimize\u001b[0;34m(fun, x0, args, method, jac, hess, hessp, bounds, constraints, tol, callback, options)\u001b[0m\n\u001b[1;32m    618\u001b[0m     \u001b[0;32melif\u001b[0m \u001b[0mmeth\u001b[0m \u001b[0;34m==\u001b[0m \u001b[0;34m'l-bfgs-b'\u001b[0m\u001b[0;34m:\u001b[0m\u001b[0;34m\u001b[0m\u001b[0;34m\u001b[0m\u001b[0m\n\u001b[1;32m    619\u001b[0m         return _minimize_lbfgsb(fun, x0, args, jac, bounds,\n\u001b[0;32m--> 620\u001b[0;31m                                 callback=callback, **options)\n\u001b[0m\u001b[1;32m    621\u001b[0m     \u001b[0;32melif\u001b[0m \u001b[0mmeth\u001b[0m \u001b[0;34m==\u001b[0m \u001b[0;34m'tnc'\u001b[0m\u001b[0;34m:\u001b[0m\u001b[0;34m\u001b[0m\u001b[0;34m\u001b[0m\u001b[0m\n\u001b[1;32m    622\u001b[0m         return _minimize_tnc(fun, x0, args, jac, bounds, callback=callback,\n",
      "\u001b[0;32m/opt/conda/lib/python3.7/site-packages/scipy/optimize/lbfgsb.py\u001b[0m in \u001b[0;36m_minimize_lbfgsb\u001b[0;34m(fun, x0, args, jac, bounds, disp, maxcor, ftol, gtol, eps, maxfun, maxiter, iprint, callback, maxls, finite_diff_rel_step, **unknown_options)\u001b[0m\n\u001b[1;32m    358\u001b[0m             \u001b[0;31m# until the completion of the current minimization iteration.\u001b[0m\u001b[0;34m\u001b[0m\u001b[0;34m\u001b[0m\u001b[0;34m\u001b[0m\u001b[0m\n\u001b[1;32m    359\u001b[0m             \u001b[0;31m# Overwrite f and g:\u001b[0m\u001b[0;34m\u001b[0m\u001b[0;34m\u001b[0m\u001b[0;34m\u001b[0m\u001b[0m\n\u001b[0;32m--> 360\u001b[0;31m             \u001b[0mf\u001b[0m\u001b[0;34m,\u001b[0m \u001b[0mg\u001b[0m \u001b[0;34m=\u001b[0m \u001b[0mfunc_and_grad\u001b[0m\u001b[0;34m(\u001b[0m\u001b[0mx\u001b[0m\u001b[0;34m)\u001b[0m\u001b[0;34m\u001b[0m\u001b[0;34m\u001b[0m\u001b[0m\n\u001b[0m\u001b[1;32m    361\u001b[0m         \u001b[0;32melif\u001b[0m \u001b[0mtask_str\u001b[0m\u001b[0;34m.\u001b[0m\u001b[0mstartswith\u001b[0m\u001b[0;34m(\u001b[0m\u001b[0;34mb'NEW_X'\u001b[0m\u001b[0;34m)\u001b[0m\u001b[0;34m:\u001b[0m\u001b[0;34m\u001b[0m\u001b[0;34m\u001b[0m\u001b[0m\n\u001b[1;32m    362\u001b[0m             \u001b[0;31m# new iteration\u001b[0m\u001b[0;34m\u001b[0m\u001b[0;34m\u001b[0m\u001b[0;34m\u001b[0m\u001b[0m\n",
      "\u001b[0;32m/opt/conda/lib/python3.7/site-packages/scipy/optimize/_differentiable_functions.py\u001b[0m in \u001b[0;36mfun_and_grad\u001b[0;34m(self, x)\u001b[0m\n\u001b[1;32m    258\u001b[0m         \u001b[0;32mif\u001b[0m \u001b[0;32mnot\u001b[0m \u001b[0mnp\u001b[0m\u001b[0;34m.\u001b[0m\u001b[0marray_equal\u001b[0m\u001b[0;34m(\u001b[0m\u001b[0mx\u001b[0m\u001b[0;34m,\u001b[0m \u001b[0mself\u001b[0m\u001b[0;34m.\u001b[0m\u001b[0mx\u001b[0m\u001b[0;34m)\u001b[0m\u001b[0;34m:\u001b[0m\u001b[0;34m\u001b[0m\u001b[0;34m\u001b[0m\u001b[0m\n\u001b[1;32m    259\u001b[0m             \u001b[0mself\u001b[0m\u001b[0;34m.\u001b[0m\u001b[0m_update_x_impl\u001b[0m\u001b[0;34m(\u001b[0m\u001b[0mx\u001b[0m\u001b[0;34m)\u001b[0m\u001b[0;34m\u001b[0m\u001b[0;34m\u001b[0m\u001b[0m\n\u001b[0;32m--> 260\u001b[0;31m         \u001b[0mself\u001b[0m\u001b[0;34m.\u001b[0m\u001b[0m_update_fun\u001b[0m\u001b[0;34m(\u001b[0m\u001b[0;34m)\u001b[0m\u001b[0;34m\u001b[0m\u001b[0;34m\u001b[0m\u001b[0m\n\u001b[0m\u001b[1;32m    261\u001b[0m         \u001b[0mself\u001b[0m\u001b[0;34m.\u001b[0m\u001b[0m_update_grad\u001b[0m\u001b[0;34m(\u001b[0m\u001b[0;34m)\u001b[0m\u001b[0;34m\u001b[0m\u001b[0;34m\u001b[0m\u001b[0m\n\u001b[1;32m    262\u001b[0m         \u001b[0;32mreturn\u001b[0m \u001b[0mself\u001b[0m\u001b[0;34m.\u001b[0m\u001b[0mf\u001b[0m\u001b[0;34m,\u001b[0m \u001b[0mself\u001b[0m\u001b[0;34m.\u001b[0m\u001b[0mg\u001b[0m\u001b[0;34m\u001b[0m\u001b[0;34m\u001b[0m\u001b[0m\n",
      "\u001b[0;32m/opt/conda/lib/python3.7/site-packages/scipy/optimize/_differentiable_functions.py\u001b[0m in \u001b[0;36m_update_fun\u001b[0;34m(self)\u001b[0m\n\u001b[1;32m    224\u001b[0m     \u001b[0;32mdef\u001b[0m \u001b[0m_update_fun\u001b[0m\u001b[0;34m(\u001b[0m\u001b[0mself\u001b[0m\u001b[0;34m)\u001b[0m\u001b[0;34m:\u001b[0m\u001b[0;34m\u001b[0m\u001b[0;34m\u001b[0m\u001b[0m\n\u001b[1;32m    225\u001b[0m         \u001b[0;32mif\u001b[0m \u001b[0;32mnot\u001b[0m \u001b[0mself\u001b[0m\u001b[0;34m.\u001b[0m\u001b[0mf_updated\u001b[0m\u001b[0;34m:\u001b[0m\u001b[0;34m\u001b[0m\u001b[0;34m\u001b[0m\u001b[0m\n\u001b[0;32m--> 226\u001b[0;31m             \u001b[0mself\u001b[0m\u001b[0;34m.\u001b[0m\u001b[0m_update_fun_impl\u001b[0m\u001b[0;34m(\u001b[0m\u001b[0;34m)\u001b[0m\u001b[0;34m\u001b[0m\u001b[0;34m\u001b[0m\u001b[0m\n\u001b[0m\u001b[1;32m    227\u001b[0m             \u001b[0mself\u001b[0m\u001b[0;34m.\u001b[0m\u001b[0mf_updated\u001b[0m \u001b[0;34m=\u001b[0m \u001b[0;32mTrue\u001b[0m\u001b[0;34m\u001b[0m\u001b[0;34m\u001b[0m\u001b[0m\n\u001b[1;32m    228\u001b[0m \u001b[0;34m\u001b[0m\u001b[0m\n",
      "\u001b[0;32m/opt/conda/lib/python3.7/site-packages/scipy/optimize/_differentiable_functions.py\u001b[0m in \u001b[0;36mupdate_fun\u001b[0;34m()\u001b[0m\n\u001b[1;32m    131\u001b[0m \u001b[0;34m\u001b[0m\u001b[0m\n\u001b[1;32m    132\u001b[0m         \u001b[0;32mdef\u001b[0m \u001b[0mupdate_fun\u001b[0m\u001b[0;34m(\u001b[0m\u001b[0;34m)\u001b[0m\u001b[0;34m:\u001b[0m\u001b[0;34m\u001b[0m\u001b[0;34m\u001b[0m\u001b[0m\n\u001b[0;32m--> 133\u001b[0;31m             \u001b[0mself\u001b[0m\u001b[0;34m.\u001b[0m\u001b[0mf\u001b[0m \u001b[0;34m=\u001b[0m \u001b[0mfun_wrapped\u001b[0m\u001b[0;34m(\u001b[0m\u001b[0mself\u001b[0m\u001b[0;34m.\u001b[0m\u001b[0mx\u001b[0m\u001b[0;34m)\u001b[0m\u001b[0;34m\u001b[0m\u001b[0;34m\u001b[0m\u001b[0m\n\u001b[0m\u001b[1;32m    134\u001b[0m \u001b[0;34m\u001b[0m\u001b[0m\n\u001b[1;32m    135\u001b[0m         \u001b[0mself\u001b[0m\u001b[0;34m.\u001b[0m\u001b[0m_update_fun_impl\u001b[0m \u001b[0;34m=\u001b[0m \u001b[0mupdate_fun\u001b[0m\u001b[0;34m\u001b[0m\u001b[0;34m\u001b[0m\u001b[0m\n",
      "\u001b[0;32m/opt/conda/lib/python3.7/site-packages/scipy/optimize/_differentiable_functions.py\u001b[0m in \u001b[0;36mfun_wrapped\u001b[0;34m(x)\u001b[0m\n\u001b[1;32m    128\u001b[0m         \u001b[0;32mdef\u001b[0m \u001b[0mfun_wrapped\u001b[0m\u001b[0;34m(\u001b[0m\u001b[0mx\u001b[0m\u001b[0;34m)\u001b[0m\u001b[0;34m:\u001b[0m\u001b[0;34m\u001b[0m\u001b[0;34m\u001b[0m\u001b[0m\n\u001b[1;32m    129\u001b[0m             \u001b[0mself\u001b[0m\u001b[0;34m.\u001b[0m\u001b[0mnfev\u001b[0m \u001b[0;34m+=\u001b[0m \u001b[0;36m1\u001b[0m\u001b[0;34m\u001b[0m\u001b[0;34m\u001b[0m\u001b[0m\n\u001b[0;32m--> 130\u001b[0;31m             \u001b[0;32mreturn\u001b[0m \u001b[0mfun\u001b[0m\u001b[0;34m(\u001b[0m\u001b[0mx\u001b[0m\u001b[0;34m,\u001b[0m \u001b[0;34m*\u001b[0m\u001b[0margs\u001b[0m\u001b[0;34m)\u001b[0m\u001b[0;34m\u001b[0m\u001b[0;34m\u001b[0m\u001b[0m\n\u001b[0m\u001b[1;32m    131\u001b[0m \u001b[0;34m\u001b[0m\u001b[0m\n\u001b[1;32m    132\u001b[0m         \u001b[0;32mdef\u001b[0m \u001b[0mupdate_fun\u001b[0m\u001b[0;34m(\u001b[0m\u001b[0;34m)\u001b[0m\u001b[0;34m:\u001b[0m\u001b[0;34m\u001b[0m\u001b[0;34m\u001b[0m\u001b[0m\n",
      "\u001b[0;32m/opt/conda/lib/python3.7/site-packages/scipy/optimize/optimize.py\u001b[0m in \u001b[0;36m__call__\u001b[0;34m(self, x, *args)\u001b[0m\n\u001b[1;32m     72\u001b[0m     \u001b[0;32mdef\u001b[0m \u001b[0m__call__\u001b[0m\u001b[0;34m(\u001b[0m\u001b[0mself\u001b[0m\u001b[0;34m,\u001b[0m \u001b[0mx\u001b[0m\u001b[0;34m,\u001b[0m \u001b[0;34m*\u001b[0m\u001b[0margs\u001b[0m\u001b[0;34m)\u001b[0m\u001b[0;34m:\u001b[0m\u001b[0;34m\u001b[0m\u001b[0;34m\u001b[0m\u001b[0m\n\u001b[1;32m     73\u001b[0m         \u001b[0;34m\"\"\" returns the the function value \"\"\"\u001b[0m\u001b[0;34m\u001b[0m\u001b[0;34m\u001b[0m\u001b[0m\n\u001b[0;32m---> 74\u001b[0;31m         \u001b[0mself\u001b[0m\u001b[0;34m.\u001b[0m\u001b[0m_compute_if_needed\u001b[0m\u001b[0;34m(\u001b[0m\u001b[0mx\u001b[0m\u001b[0;34m,\u001b[0m \u001b[0;34m*\u001b[0m\u001b[0margs\u001b[0m\u001b[0;34m)\u001b[0m\u001b[0;34m\u001b[0m\u001b[0;34m\u001b[0m\u001b[0m\n\u001b[0m\u001b[1;32m     75\u001b[0m         \u001b[0;32mreturn\u001b[0m \u001b[0mself\u001b[0m\u001b[0;34m.\u001b[0m\u001b[0m_value\u001b[0m\u001b[0;34m\u001b[0m\u001b[0;34m\u001b[0m\u001b[0m\n\u001b[1;32m     76\u001b[0m \u001b[0;34m\u001b[0m\u001b[0m\n",
      "\u001b[0;32m/opt/conda/lib/python3.7/site-packages/scipy/optimize/optimize.py\u001b[0m in \u001b[0;36m_compute_if_needed\u001b[0;34m(self, x, *args)\u001b[0m\n\u001b[1;32m     66\u001b[0m         \u001b[0;32mif\u001b[0m \u001b[0;32mnot\u001b[0m \u001b[0mnp\u001b[0m\u001b[0;34m.\u001b[0m\u001b[0mall\u001b[0m\u001b[0;34m(\u001b[0m\u001b[0mx\u001b[0m \u001b[0;34m==\u001b[0m \u001b[0mself\u001b[0m\u001b[0;34m.\u001b[0m\u001b[0mx\u001b[0m\u001b[0;34m)\u001b[0m \u001b[0;32mor\u001b[0m \u001b[0mself\u001b[0m\u001b[0;34m.\u001b[0m\u001b[0m_value\u001b[0m \u001b[0;32mis\u001b[0m \u001b[0;32mNone\u001b[0m \u001b[0;32mor\u001b[0m \u001b[0mself\u001b[0m\u001b[0;34m.\u001b[0m\u001b[0mjac\u001b[0m \u001b[0;32mis\u001b[0m \u001b[0;32mNone\u001b[0m\u001b[0;34m:\u001b[0m\u001b[0;34m\u001b[0m\u001b[0;34m\u001b[0m\u001b[0m\n\u001b[1;32m     67\u001b[0m             \u001b[0mself\u001b[0m\u001b[0;34m.\u001b[0m\u001b[0mx\u001b[0m \u001b[0;34m=\u001b[0m \u001b[0mnp\u001b[0m\u001b[0;34m.\u001b[0m\u001b[0masarray\u001b[0m\u001b[0;34m(\u001b[0m\u001b[0mx\u001b[0m\u001b[0;34m)\u001b[0m\u001b[0;34m.\u001b[0m\u001b[0mcopy\u001b[0m\u001b[0;34m(\u001b[0m\u001b[0;34m)\u001b[0m\u001b[0;34m\u001b[0m\u001b[0;34m\u001b[0m\u001b[0m\n\u001b[0;32m---> 68\u001b[0;31m             \u001b[0mfg\u001b[0m \u001b[0;34m=\u001b[0m \u001b[0mself\u001b[0m\u001b[0;34m.\u001b[0m\u001b[0mfun\u001b[0m\u001b[0;34m(\u001b[0m\u001b[0mx\u001b[0m\u001b[0;34m,\u001b[0m \u001b[0;34m*\u001b[0m\u001b[0margs\u001b[0m\u001b[0;34m)\u001b[0m\u001b[0;34m\u001b[0m\u001b[0;34m\u001b[0m\u001b[0m\n\u001b[0m\u001b[1;32m     69\u001b[0m             \u001b[0mself\u001b[0m\u001b[0;34m.\u001b[0m\u001b[0mjac\u001b[0m \u001b[0;34m=\u001b[0m \u001b[0mfg\u001b[0m\u001b[0;34m[\u001b[0m\u001b[0;36m1\u001b[0m\u001b[0;34m]\u001b[0m\u001b[0;34m\u001b[0m\u001b[0;34m\u001b[0m\u001b[0m\n\u001b[1;32m     70\u001b[0m             \u001b[0mself\u001b[0m\u001b[0;34m.\u001b[0m\u001b[0m_value\u001b[0m \u001b[0;34m=\u001b[0m \u001b[0mfg\u001b[0m\u001b[0;34m[\u001b[0m\u001b[0;36m0\u001b[0m\u001b[0;34m]\u001b[0m\u001b[0;34m\u001b[0m\u001b[0;34m\u001b[0m\u001b[0m\n",
      "\u001b[0;32m/opt/conda/lib/python3.7/site-packages/tslearn/barycenters/softdtw.py\u001b[0m in \u001b[0;36mf\u001b[0;34m(Z)\u001b[0m\n\u001b[1;32m    104\u001b[0m \u001b[0;34m\u001b[0m\u001b[0m\n\u001b[1;32m    105\u001b[0m         \u001b[0;32mdef\u001b[0m \u001b[0mf\u001b[0m\u001b[0;34m(\u001b[0m\u001b[0mZ\u001b[0m\u001b[0;34m)\u001b[0m\u001b[0;34m:\u001b[0m\u001b[0;34m\u001b[0m\u001b[0;34m\u001b[0m\u001b[0m\n\u001b[0;32m--> 106\u001b[0;31m             \u001b[0;32mreturn\u001b[0m \u001b[0m_softdtw_func\u001b[0m\u001b[0;34m(\u001b[0m\u001b[0mZ\u001b[0m\u001b[0;34m,\u001b[0m \u001b[0mX_\u001b[0m\u001b[0;34m,\u001b[0m \u001b[0mweights\u001b[0m\u001b[0;34m,\u001b[0m \u001b[0mbarycenter\u001b[0m\u001b[0;34m,\u001b[0m \u001b[0mgamma\u001b[0m\u001b[0;34m)\u001b[0m\u001b[0;34m\u001b[0m\u001b[0;34m\u001b[0m\u001b[0m\n\u001b[0m\u001b[1;32m    107\u001b[0m \u001b[0;34m\u001b[0m\u001b[0m\n\u001b[1;32m    108\u001b[0m         \u001b[0;31m# The function works with vectors so we need to vectorize barycenter.\u001b[0m\u001b[0;34m\u001b[0m\u001b[0;34m\u001b[0m\u001b[0;34m\u001b[0m\u001b[0m\n",
      "\u001b[0;32m/opt/conda/lib/python3.7/site-packages/tslearn/barycenters/softdtw.py\u001b[0m in \u001b[0;36m_softdtw_func\u001b[0;34m(Z, X, weights, barycenter, gamma)\u001b[0m\n\u001b[1;32m     26\u001b[0m         \u001b[0msdtw\u001b[0m \u001b[0;34m=\u001b[0m \u001b[0mSoftDTW\u001b[0m\u001b[0;34m(\u001b[0m\u001b[0mD\u001b[0m\u001b[0;34m,\u001b[0m \u001b[0mgamma\u001b[0m\u001b[0;34m=\u001b[0m\u001b[0mgamma\u001b[0m\u001b[0;34m)\u001b[0m\u001b[0;34m\u001b[0m\u001b[0;34m\u001b[0m\u001b[0m\n\u001b[1;32m     27\u001b[0m         \u001b[0mvalue\u001b[0m \u001b[0;34m=\u001b[0m \u001b[0msdtw\u001b[0m\u001b[0;34m.\u001b[0m\u001b[0mcompute\u001b[0m\u001b[0;34m(\u001b[0m\u001b[0;34m)\u001b[0m\u001b[0;34m\u001b[0m\u001b[0;34m\u001b[0m\u001b[0m\n\u001b[0;32m---> 28\u001b[0;31m         \u001b[0mE\u001b[0m \u001b[0;34m=\u001b[0m \u001b[0msdtw\u001b[0m\u001b[0;34m.\u001b[0m\u001b[0mgrad\u001b[0m\u001b[0;34m(\u001b[0m\u001b[0;34m)\u001b[0m\u001b[0;34m\u001b[0m\u001b[0;34m\u001b[0m\u001b[0m\n\u001b[0m\u001b[1;32m     29\u001b[0m         \u001b[0mG_tmp\u001b[0m \u001b[0;34m=\u001b[0m \u001b[0mD\u001b[0m\u001b[0;34m.\u001b[0m\u001b[0mjacobian_product\u001b[0m\u001b[0;34m(\u001b[0m\u001b[0mE\u001b[0m\u001b[0;34m)\u001b[0m\u001b[0;34m\u001b[0m\u001b[0;34m\u001b[0m\u001b[0m\n\u001b[1;32m     30\u001b[0m         \u001b[0mG\u001b[0m \u001b[0;34m+=\u001b[0m \u001b[0mweights\u001b[0m\u001b[0;34m[\u001b[0m\u001b[0mi\u001b[0m\u001b[0;34m]\u001b[0m \u001b[0;34m*\u001b[0m \u001b[0mG_tmp\u001b[0m\u001b[0;34m\u001b[0m\u001b[0;34m\u001b[0m\u001b[0m\n",
      "\u001b[0;32m/opt/conda/lib/python3.7/site-packages/tslearn/metrics/softdtw_variants.py\u001b[0m in \u001b[0;36mgrad\u001b[0;34m(self)\u001b[0m\n\u001b[1;32m    674\u001b[0m         \u001b[0mE\u001b[0m \u001b[0;34m=\u001b[0m \u001b[0mnumpy\u001b[0m\u001b[0;34m.\u001b[0m\u001b[0mzeros\u001b[0m\u001b[0;34m(\u001b[0m\u001b[0;34m(\u001b[0m\u001b[0mm\u001b[0m \u001b[0;34m+\u001b[0m \u001b[0;36m2\u001b[0m\u001b[0;34m,\u001b[0m \u001b[0mn\u001b[0m \u001b[0;34m+\u001b[0m \u001b[0;36m2\u001b[0m\u001b[0;34m)\u001b[0m\u001b[0;34m,\u001b[0m \u001b[0mdtype\u001b[0m\u001b[0;34m=\u001b[0m\u001b[0mnumpy\u001b[0m\u001b[0;34m.\u001b[0m\u001b[0mfloat64\u001b[0m\u001b[0;34m)\u001b[0m\u001b[0;34m\u001b[0m\u001b[0;34m\u001b[0m\u001b[0m\n\u001b[1;32m    675\u001b[0m \u001b[0;34m\u001b[0m\u001b[0m\n\u001b[0;32m--> 676\u001b[0;31m         \u001b[0m_soft_dtw_grad\u001b[0m\u001b[0;34m(\u001b[0m\u001b[0mD\u001b[0m\u001b[0;34m,\u001b[0m \u001b[0mself\u001b[0m\u001b[0;34m.\u001b[0m\u001b[0mR_\u001b[0m\u001b[0;34m,\u001b[0m \u001b[0mE\u001b[0m\u001b[0;34m,\u001b[0m \u001b[0mgamma\u001b[0m\u001b[0;34m=\u001b[0m\u001b[0mself\u001b[0m\u001b[0;34m.\u001b[0m\u001b[0mgamma\u001b[0m\u001b[0;34m)\u001b[0m\u001b[0;34m\u001b[0m\u001b[0;34m\u001b[0m\u001b[0m\n\u001b[0m\u001b[1;32m    677\u001b[0m \u001b[0;34m\u001b[0m\u001b[0m\n\u001b[1;32m    678\u001b[0m         \u001b[0;32mreturn\u001b[0m \u001b[0mE\u001b[0m\u001b[0;34m[\u001b[0m\u001b[0;36m1\u001b[0m\u001b[0;34m:\u001b[0m\u001b[0;34m-\u001b[0m\u001b[0;36m1\u001b[0m\u001b[0;34m,\u001b[0m \u001b[0;36m1\u001b[0m\u001b[0;34m:\u001b[0m\u001b[0;34m-\u001b[0m\u001b[0;36m1\u001b[0m\u001b[0;34m]\u001b[0m\u001b[0;34m\u001b[0m\u001b[0;34m\u001b[0m\u001b[0m\n",
      "\u001b[0;31mKeyboardInterrupt\u001b[0m: "
     ]
    }
   ],
   "source": [
    "barycenter_result = {}\n",
    "pbar = tqdm(smart_meter_data_group)\n",
    "count = 1\n",
    "for area in pbar: # iterate 10 data groups\n",
    "    print(f'start {count}')\n",
    "    X = []\n",
    "    Y = []\n",
    "    for meter in area['fdi']: # iterate every fdi meter in area \n",
    "        X.append(meter[\"Electricity\"].to_numpy())\n",
    "        Y.append((meter[\"MeterID\"].max(), 'True'))\n",
    "    for meter in area['normal']: # iterate every fdi meter in area \n",
    "        X.append(meter[\"Electricity\"].to_numpy())\n",
    "        Y.append((meter[\"MeterID\"].max(), 'False'))\n",
    "    X = np.array(X)\n",
    "    print(X.shape)\n",
    "    Y = np.array(Y)\n",
    "    X = X.reshape(-1, 530, 48 )\n",
    "    print(X.shape)\n",
    "    result = softdtw_barycenter(X, max_iter=5, gamma=1.)\n",
    "    barycenter_result[count] = (result, Y)\n",
    "    count = count + 1\n",
    "one_cluster_sdtw_barycenter_48 = []\n",
    "for i in range(len(barycenter_result)):\n",
    "    i = i + 1\n",
    "    one_cluster_sdtw_barycenter_48.append(barycenter_result[i][0])\n",
    "one_cluster_sdtw_barycenter_48[0].shape"
   ]
  },
  {
   "cell_type": "code",
   "execution_count": null,
   "id": "conventional-letter",
   "metadata": {
    "Collapsed": "false"
   },
   "outputs": [],
   "source": [
    "for i in one_cluster_sdtw_barycenter_48[0]:\n",
    "    plt.title(\"Every day's barycenter in first area\")\n",
    "    plt.xlabel(\"Half hours\")\n",
    "    plt.ylabel(\"Soft-dtw barycenter\")\n",
    "    plt.plot(i)\n",
    "save_fig(\"Barycenter of each day in the first area\")"
   ]
  },
  {
   "cell_type": "code",
   "execution_count": null,
   "id": "laughing-ground",
   "metadata": {
    "Collapsed": "false"
   },
   "outputs": [],
   "source": [
    "for i in one_cluster_sdtw_barycenter_48[0]:\n",
    "    plt.plot(i)"
   ]
  },
  {
   "cell_type": "code",
   "execution_count": null,
   "id": "prostate-railway",
   "metadata": {
    "Collapsed": "false"
   },
   "outputs": [],
   "source": [
    "df = pd.DataFrame(np.array(one_cluster_sdtw_barycenter_48).reshape(10, 530*48))\n",
    "df.shape"
   ]
  },
  {
   "cell_type": "code",
   "execution_count": null,
   "id": "positive-services",
   "metadata": {
    "Collapsed": "false"
   },
   "outputs": [],
   "source": [
    "e = df.to_csv(index=False)\n",
    "f = open('one_cluster_sdtw_barycenter_48.csv','w')\n",
    "f.write(e) #Give your csv text here.\n",
    "f.close()"
   ]
  },
  {
   "cell_type": "markdown",
   "id": "interstate-horizontal",
   "metadata": {
    "Collapsed": "false"
   },
   "source": [
    "#### barycenter sdtw 48 training"
   ]
  },
  {
   "cell_type": "code",
   "execution_count": null,
   "id": "affected-saskatchewan",
   "metadata": {
    "Collapsed": "false"
   },
   "outputs": [],
   "source": [
    "center_sdtw_48 = pd.read_csv('one_cluster_sdtw_barycenter_48.csv')\n",
    "center_sdtw_48.shape"
   ]
  },
  {
   "cell_type": "code",
   "execution_count": null,
   "id": "three-taxation",
   "metadata": {
    "Collapsed": "false"
   },
   "outputs": [],
   "source": [
    "sdtw_day_score_list = []\n",
    "for num in range(10):\n",
    "    print(f'start area {num}')\n",
    "    center = center_sdtw_48.loc[num].to_numpy()\n",
    "    sdtwa = main(ProcessPoolExecutor, num)\n",
    "    sdtw_day_score_list.append(sdtwa)"
   ]
  },
  {
   "cell_type": "code",
   "execution_count": null,
   "id": "american-riding",
   "metadata": {
    "Collapsed": "false"
   },
   "outputs": [],
   "source": [
    "# combime score list\n",
    "score_list = []\n",
    "area_count = 0\n",
    "meter_count = 0\n",
    "day_count = 0\n",
    "sdtw_day_score_list = pd.DataFrame(columns=[\"MeterID\", \"Day\", \"FDI\", \"meter_dtw\", \"meter_sdtw\"])\n",
    "for index, area in enumerate(sdtw_day_score_list): # area=10\n",
    "    area_count += 1\n",
    "    for meter in area: #meter=422(427)\n",
    "        meter_count += 1\n",
    "        for day in meter:\n",
    "            day_count +=1\n",
    "            score_list.append(day)\n",
    "area_count, meter_count, day_count"
   ]
  },
  {
   "cell_type": "code",
   "execution_count": null,
   "id": "strong-mistress",
   "metadata": {
    "Collapsed": "false"
   },
   "outputs": [],
   "source": [
    "sdtw_day_score_list = pd.DataFrame(score_list)\n",
    "df = sdtw_day_score_list\n",
    "X = df[[\"meter_dtw\"]]\n",
    "Y = df[[\"FDI\"]]\n",
    "\n",
    "partition = 422*8*530\n",
    "evaluation = 422*1*530\n",
    "total = 2239250\n",
    "\n",
    "print(X_train.shape, X_val.shape, X_test.shape, y_train.shape, y_val.shape, y_test.shape)\n",
    "\n",
    "X_train = X[:partition]\n",
    "X_val = X[partition:total-evaluation]\n",
    "X_test = X[total-evaluation: total]\n",
    "y_train = Y[:partition]\n",
    "y_val = Y[partition:total-evaluation]\n",
    "y_test = Y[total-evaluation: total]\n",
    "\n",
    "model = XGBClassifier()\n",
    "# define grid\n",
    "weights = [0.01, 0.1, 1, 10, 25, 50, 75, 99, 100, 1000, 116,  10.7]\n",
    "param_grid = dict(scale_pos_weight=weights)\n",
    "# define evaluation procedure\n",
    "cv = RepeatedStratifiedKFold(n_splits=10, n_repeats=3, random_state=1)\n",
    "# define grid search\n",
    "grid = GridSearchCV(estimator=model, param_grid=param_grid, n_jobs=-1, cv=cv, scoring='roc_auc')\n",
    "# execute the grid search\n",
    "grid_result = grid.fit(X_train, y_train, verbose=True)\n",
    "# report the best configuration\n",
    "print(\"Best: %f using %s\" % (grid_result.best_score_, grid_result.best_params_))\n",
    "# report all configurations\n",
    "means = grid_result.cv_results_['mean_test_score']\n",
    "stds = grid_result.cv_results_['std_test_score']\n",
    "params = grid_result.cv_results_['params']\n",
    "for mean, stdev, param in zip(means, stds, params):\n",
    "    print(\"%f (%f) with: %r\" % (mean, stdev, param))"
   ]
  },
  {
   "cell_type": "code",
   "execution_count": null,
   "id": "western-glory",
   "metadata": {
    "Collapsed": "false"
   },
   "outputs": [],
   "source": [
    "print(\"Best: %f using %s\" % (grid_result.best_score_, grid_result.best_params_))\n",
    "# report all configurations\n",
    "means = grid_result.cv_results_['mean_test_score']\n",
    "stds = grid_result.cv_results_['std_test_score']\n",
    "params = grid_result.cv_results_['params']\n",
    "for mean, stdev, param in zip(means, stds, params):\n",
    "    print(\"%f (%f) with: %r\" % (mean, stdev, param))"
   ]
  },
  {
   "cell_type": "markdown",
   "id": "tracked-thousand",
   "metadata": {
    "Collapsed": "false"
   },
   "source": [
    "### Final sdtw day score calculating"
   ]
  },
  {
   "cell_type": "markdown",
   "id": "temporal-queue",
   "metadata": {
    "Collapsed": "true"
   },
   "source": [
    "#### using 10 * 48 sdtw"
   ]
  },
  {
   "cell_type": "code",
   "execution_count": 7,
   "id": "adapted-questionnaire",
   "metadata": {
    "Collapsed": "false"
   },
   "outputs": [
    {
     "name": "stdout",
     "output_type": "stream",
     "text": [
      "(10, 48)\n",
      "(107484000, 5)\n"
     ]
    }
   ],
   "source": [
    "center_sdtw = pd.read_csv('CSV/tsc/one_cluster_sdtw_barycenter.csv')\n",
    "print(center_sdtw.shape)\n",
    "\n",
    "smart_meter_df = pd.read_csv('CSV/smart_meter.csv')\n",
    "print(smart_meter_df.shape)"
   ]
  },
  {
   "cell_type": "code",
   "execution_count": 8,
   "id": "sublime-christianity",
   "metadata": {
    "Collapsed": "false"
   },
   "outputs": [
    {
     "name": "stdout",
     "output_type": "stream",
     "text": [
      "nr.shape:  (4225, 530, 48, 1)\n",
      "data_group[0][0][0].shape:  (48,)\n",
      "(422, 530, 48)\n"
     ]
    }
   ],
   "source": [
    "n = np.array(smart_meter_df['Electricity'])\n",
    "nr = n.reshape(-1, 530, 48, 1)\n",
    "print(\"nr.shape: \", nr.shape)\n",
    "\n",
    "data_group = {}\n",
    "for i in range(10):\n",
    "    if i == 9:\n",
    "        data_group[i] = nr[4225-427: 4225].reshape(-1, 530, 48)\n",
    "    else:\n",
    "        data_group[i] = nr[i*422:(i+1)*422].reshape(-1, 530, 48)\n",
    "print(\"data_group[0][0][0].shape: \", data_group[0][0][0].shape)\n",
    "print(data_group[0].shape)"
   ]
  },
  {
   "cell_type": "code",
   "execution_count": 11,
   "id": "recreational-germany",
   "metadata": {
    "Collapsed": "false"
   },
   "outputs": [],
   "source": [
    "def calc_stuff(x,y):   # calc dtw and sdtw between x and y \n",
    "    meter_dtw = dtw(x,y)\n",
    "    meter_sdtw = soft_dtw(x,y)\n",
    "    return meter_dtw, meter_sdtw\n",
    "\n",
    "def procedure(area_data):                 # just factoring out the\n",
    "    df_list = []\n",
    "    \n",
    "    for i in range(530): # iterate every day for each user\n",
    "        \n",
    "        \n",
    "        x = area_data[i]\n",
    "        y = center\n",
    "        print(y)\n",
    "        meter_dtw, meter_sdtw = calc_stuff(x,y)\n",
    "        se = {\"meter_dtw\":meter_dtw, \"meter_sdtw\":meter_sdtw}\n",
    "        df_list.append(se)    \n",
    "    return df_list\n",
    "\n",
    "def main(PoolExecutor, area_num): # take ProcessPoolExecutor or ThreadPoolExecutor\n",
    "    \n",
    "    inputs = data_group[area_num] # data_group[0] 有422個\n",
    "    output1 = list()\n",
    "\n",
    "    start = time()           # let's see how long this takes\n",
    "    \n",
    "    with PoolExecutor() as executor:\n",
    "        for out1 in executor.map(procedure, inputs): #iterate 422 users in each area\n",
    "            # put results into correct output list:\n",
    "            output1.append(out1)\n",
    "            \n",
    "    finish = time()\n",
    "    print(f'PoolExecutor: {PoolExecutor}')\n",
    "    print(f'time : {(finish-start)}')\n",
    "    return output1"
   ]
  },
  {
   "cell_type": "code",
   "execution_count": 10,
   "id": "placed-dealing",
   "metadata": {
    "Collapsed": "false",
    "collapsed": true,
    "jupyter": {
     "outputs_hidden": true
    }
   },
   "outputs": [
    {
     "name": "stdout",
     "output_type": "stream",
     "text": [
      "start area 0\n",
      "[0.54657957 0.28922521 0.24800499 0.22420908 0.20933082 0.19997395\n",
      " 0.19436095 0.19172163 0.19156306 0.19359103 0.19799834 0.20500539\n",
      " 0.21484785 0.22765341 0.2430915  0.26068419 0.28014836 0.30021529\n",
      " 0.3182198  0.33127211 0.3376995  0.33851627 0.33614842 0.33239407\n",
      " 0.32873584 0.32582216 0.32295344 0.32082812 0.32087544 0.32415688\n",
      " 0.33189268 0.34602787 0.37009989 0.41119512 0.48864445 0.69065013\n",
      " 2.05741718 0.81716723 0.62444931 0.57292458 0.55044253 0.55128956\n",
      " 0.56410809 0.58241957 0.59582272 0.58926679 0.56261874 0.54399193][0.54657957 0.28922521 0.24800499 0.22420908 0.20933082 0.19997395\n",
      " 0.19436095 0.19172163 0.19156306 0.19359103 0.19799834 0.20500539\n",
      " 0.21484785 0.22765341 0.2430915  0.26068419 0.28014836 0.30021529\n",
      " 0.3182198  0.33127211 0.3376995  0.33851627 0.33614842 0.33239407\n",
      " 0.32873584 0.32582216 0.32295344 0.32082812 0.32087544 0.32415688\n",
      " 0.33189268 0.34602787 0.37009989 0.41119512 0.48864445 0.69065013\n",
      " 2.05741718 0.81716723 0.62444931 0.57292458 0.55044253 0.55128956\n",
      " 0.56410809 0.58241957 0.59582272 0.58926679 0.56261874 0.54399193]\n",
      "\n",
      "PoolExecutor: <class 'concurrent.futures.process.ProcessPoolExecutor'>\n",
      "time : 1.162914514541626\n",
      "start area 1\n",
      "[0.3831311  0.27697885 0.23588502 0.21192852 0.19676936 0.18695266\n",
      " 0.180904   0.17774215 0.17722974 0.17931785 0.18419288 0.1922543\n",
      " 0.20423368 0.21785834 0.23294336 0.24873014 0.26571187 0.28300789\n",
      " 0.29931278 0.31265215 0.32109417 0.32437671 0.32395672 0.32180546\n",
      " 0.31902911 0.31679632 0.31628511 0.31667936 0.31856439 0.32265581\n",
      " 0.33035243 0.34325434 0.36513807 0.40320776 0.47807147 0.68292597\n",
      " 2.01754018 0.81496142 0.60852436 0.54733334 0.52748234 0.52821344\n",
      " 0.53700208 0.54825775 0.55344126 0.54407834 0.51770643 0.48658505][0.3831311  0.27697885 0.23588502 0.21192852 0.19676936 0.18695266\n",
      " 0.180904   0.17774215 0.17722974 0.17931785 0.18419288 0.1922543\n",
      " 0.20423368 0.21785834 0.23294336 0.24873014 0.26571187 0.28300789\n",
      " 0.29931278 0.31265215 0.32109417 0.32437671 0.32395672 0.32180546\n",
      " 0.31902911 0.31679632 0.31628511 0.31667936 0.31856439 0.32265581\n",
      " 0.33035243 0.34325434 0.36513807 0.40320776 0.47807147 0.68292597\n",
      " 2.01754018 0.81496142 0.60852436 0.54733334 0.52748234 0.52821344\n",
      " 0.53700208 0.54825775 0.55344126 0.54407834 0.51770643 0.48658505]\n",
      "\n",
      "PoolExecutor: <class 'concurrent.futures.process.ProcessPoolExecutor'>\n",
      "time : 1.1912307739257812\n",
      "start area 2\n",
      "[0.42408629 0.29068744 0.24535684 0.22045018 0.20527337 0.19568645\n",
      " 0.19044749 0.18796681 0.18827323 0.19082587 0.1955993  0.20239766\n",
      " 0.21154599 0.22354451 0.23935122 0.25806528 0.27629975 0.2921903\n",
      " 0.30661209 0.31885216 0.32728532 0.3309772  0.33052497 0.32743513\n",
      " 0.32421481 0.32243374 0.3217002  0.32163995 0.32330554 0.32713135\n",
      " 0.33462995 0.34755891 0.37022938 0.41121264 0.4935409  0.71082351\n",
      " 2.03622028 0.86713761 0.63317667 0.56758811 0.54769835 0.5462361\n",
      " 0.55560072 0.57337634 0.58298166 0.58011503 0.56469435 0.5428385 ][0.42408629 0.29068744 0.24535684 0.22045018 0.20527337 0.19568645\n",
      " 0.19044749 0.18796681 0.18827323 0.19082587 0.1955993  0.20239766\n",
      " 0.21154599 0.22354451 0.23935122 0.25806528 0.27629975 0.2921903\n",
      " 0.30661209 0.31885216 0.32728532 0.3309772  0.33052497 0.32743513\n",
      " 0.32421481 0.32243374 0.3217002  0.32163995 0.32330554 0.32713135\n",
      " 0.33462995 0.34755891 0.37022938 0.41121264 0.4935409  0.71082351\n",
      " 2.03622028 0.86713761 0.63317667 0.56758811 0.54769835 0.5462361\n",
      " 0.55560072 0.57337634 0.58298166 0.58011503 0.56469435 0.5428385 ]\n",
      "\n",
      "PoolExecutor: <class 'concurrent.futures.process.ProcessPoolExecutor'>\n",
      "time : 1.1557235717773438\n",
      "start area 3\n",
      "[0.41004555 0.29525956 0.25156014 0.22664546 0.2109282  0.20072969\n",
      " 0.19445959 0.19131186 0.19077291 0.19278557 0.19723593 0.20420198\n",
      " 0.21394891 0.22669795 0.2422769  0.25999178 0.27864898 0.29723175\n",
      " 0.31436326 0.32908707 0.34003829 0.34619097 0.34743642 0.34496088\n",
      " 0.34065973 0.33614535 0.33294128 0.33177063 0.33251147 0.33596006\n",
      " 0.34304359 0.35598512 0.37822895 0.41850784 0.50213967 0.72578459\n",
      " 2.04266296 0.89538619 0.67178328 0.59553123 0.57001967 0.56565573\n",
      " 0.56985064 0.57443663 0.57232626 0.5595395  0.53686982 0.51333637][0.41004555 0.29525956 0.25156014 0.22664546 0.2109282  0.20072969\n",
      " 0.19445959 0.19131186 0.19077291 0.19278557 0.19723593 0.20420198\n",
      " 0.21394891 0.22669795 0.2422769  0.25999178 0.27864898 0.29723175\n",
      " 0.31436326 0.32908707 0.34003829 0.34619097 0.34743642 0.34496088\n",
      " 0.34065973 0.33614535 0.33294128 0.33177063 0.33251147 0.33596006\n",
      " 0.34304359 0.35598512 0.37822895 0.41850784 0.50213967 0.72578459\n",
      " 2.04266296 0.89538619 0.67178328 0.59553123 0.57001967 0.56565573\n",
      " 0.56985064 0.57443663 0.57232626 0.5595395  0.53686982 0.51333637]\n",
      "\n",
      "PoolExecutor: <class 'concurrent.futures.process.ProcessPoolExecutor'>\n",
      "time : 1.1527795791625977\n",
      "start area 4\n",
      "[0.37582324 0.27800961 0.23698039 0.21340143 0.19876201 0.18960436\n",
      " 0.18434191 0.18217706 0.18265469 0.18550582 0.19046291 0.19744238\n",
      " 0.20640356 0.21806356 0.23266757 0.2501682  0.26883714 0.28649296\n",
      " 0.30173753 0.31350212 0.32043169 0.3220097  0.31939982 0.31498782\n",
      " 0.31082214 0.30768905 0.305607   0.30497041 0.30595017 0.30942943\n",
      " 0.31636653 0.32884561 0.35012748 0.38803552 0.4628978  0.65253946\n",
      " 1.98726443 0.78795328 0.60062374 0.54762178 0.53205018 0.53310306\n",
      " 0.54519621 0.56001057 0.56391322 0.55217638 0.52610283 0.49624492][0.37582324 0.27800961 0.23698039 0.21340143 0.19876201 0.18960436\n",
      " 0.18434191 0.18217706 0.18265469 0.18550582 0.19046291 0.19744238\n",
      " 0.20640356 0.21806356 0.23266757 0.2501682  0.26883714 0.28649296\n",
      " 0.30173753 0.31350212 0.32043169 0.3220097  0.31939982 0.31498782\n",
      " 0.31082214 0.30768905 0.305607   0.30497041 0.30595017 0.30942943\n",
      " 0.31636653 0.32884561 0.35012748 0.38803552 0.4628978  0.65253946\n",
      " 1.98726443 0.78795328 0.60062374 0.54762178 0.53205018 0.53310306\n",
      " 0.54519621 0.56001057 0.56391322 0.55217638 0.52610283 0.49624492]\n",
      "\n",
      "PoolExecutor: <class 'concurrent.futures.process.ProcessPoolExecutor'>\n",
      "time : 1.1469485759735107\n",
      "start area 5\n",
      "[0.40864002 0.29576462 0.25197583 0.22708717 0.21159396 0.20154398\n",
      " 0.19560265 0.19256744 0.19225874 0.19438926 0.19904787 0.20573498\n",
      " 0.21432384 0.22534258 0.24123833 0.26009531 0.27892742 0.29642536\n",
      " 0.31228582 0.32499358 0.33267372 0.33520496 0.33359322 0.33004611\n",
      " 0.32675009 0.32436891 0.323369   0.32347193 0.32499272 0.32858805\n",
      " 0.33549278 0.34735441 0.36804079 0.4049075  0.47864026 0.67652304\n",
      " 2.00939194 0.82838473 0.61349647 0.55554469 0.53826348 0.53861758\n",
      " 0.54758605 0.55963976 0.56688221 0.56169725 0.54172546 0.51859655][0.40864002 0.29576462 0.25197583 0.22708717 0.21159396 0.20154398\n",
      " 0.19560265 0.19256744 0.19225874 0.19438926 0.19904787 0.20573498\n",
      " 0.21432384 0.22534258 0.24123833 0.26009531 0.27892742 0.29642536\n",
      " 0.31228582 0.32499358 0.33267372 0.33520496 0.33359322 0.33004611\n",
      " 0.32675009 0.32436891 0.323369   0.32347193 0.32499272 0.32858805\n",
      " 0.33549278 0.34735441 0.36804079 0.4049075  0.47864026 0.67652304\n",
      " 2.00939194 0.82838473 0.61349647 0.55554469 0.53826348 0.53861758\n",
      " 0.54758605 0.55963976 0.56688221 0.56169725 0.54172546 0.51859655]\n",
      "\n",
      "PoolExecutor: <class 'concurrent.futures.process.ProcessPoolExecutor'>\n",
      "time : 1.1488213539123535\n",
      "start area 6\n",
      "[0.41188336 0.29080645 0.24633198 0.22143445 0.20597704 0.1962583\n",
      " 0.19049567 0.18788169 0.18804835 0.19055172 0.19503189 0.20147065\n",
      " 0.20954883 0.22029381 0.23317343 0.24943475 0.26661986 0.28405938\n",
      " 0.30101751 0.31638975 0.32811127 0.33416886 0.33436672 0.33077294\n",
      " 0.32576965 0.32099862 0.31791609 0.31712285 0.31803342 0.32142347\n",
      " 0.32832797 0.34129538 0.36447675 0.40892813 0.50923721 0.81869257\n",
      " 2.06371758 0.85781562 0.64991952 0.57803361 0.55588866 0.55785304\n",
      " 0.56926758 0.57751658 0.57705383 0.56429817 0.53967625 0.51223004][0.41188336 0.29080645 0.24633198 0.22143445 0.20597704 0.1962583\n",
      " 0.19049567 0.18788169 0.18804835 0.19055172 0.19503189 0.20147065\n",
      " 0.20954883 0.22029381 0.23317343 0.24943475 0.26661986 0.28405938\n",
      " 0.30101751 0.31638975 0.32811127 0.33416886 0.33436672 0.33077294\n",
      " 0.32576965 0.32099862 0.31791609 0.31712285 0.31803342 0.32142347\n",
      " 0.32832797 0.34129538 0.36447675 0.40892813 0.50923721 0.81869257\n",
      " 2.06371758 0.85781562 0.64991952 0.57803361 0.55588866 0.55785304\n",
      " 0.56926758 0.57751658 0.57705383 0.56429817 0.53967625 0.51223004]\n",
      "\n",
      "PoolExecutor: <class 'concurrent.futures.process.ProcessPoolExecutor'>\n",
      "time : 1.1430795192718506\n",
      "start area 7\n",
      "[0.40050254 0.28434409 0.24072634 0.21508172 0.19872585 0.18813698\n",
      " 0.18167352 0.17831686 0.17752551 0.17926602 0.18395675 0.19115084\n",
      " 0.20177325 0.21506592 0.23057109 0.24576    0.26129419 0.27844762\n",
      " 0.29589489 0.31086434 0.32084852 0.32489109 0.32440147 0.3215028\n",
      " 0.31785683 0.31485309 0.31268399 0.31153952 0.31269534 0.31670875\n",
      " 0.32469723 0.33848749 0.36174889 0.40201684 0.47732129 0.6731287\n",
      " 2.01870087 0.8161264  0.63697113 0.57014787 0.55588305 0.56200007\n",
      " 0.57591792 0.59396048 0.60437925 0.59306714 0.55419207 0.50947291][0.40050254 0.28434409 0.24072634 0.21508172 0.19872585 0.18813698\n",
      " 0.18167352 0.17831686 0.17752551 0.17926602 0.18395675 0.19115084\n",
      " 0.20177325 0.21506592 0.23057109 0.24576    0.26129419 0.27844762\n",
      " 0.29589489 0.31086434 0.32084852 0.32489109 0.32440147 0.3215028\n",
      " 0.31785683 0.31485309 0.31268399 0.31153952 0.31269534 0.31670875\n",
      " 0.32469723 0.33848749 0.36174889 0.40201684 0.47732129 0.6731287\n",
      " 2.01870087 0.8161264  0.63697113 0.57014787 0.55588305 0.56200007\n",
      " 0.57591792 0.59396048 0.60437925 0.59306714 0.55419207 0.50947291]\n",
      "\n",
      "PoolExecutor: <class 'concurrent.futures.process.ProcessPoolExecutor'>\n",
      "time : 1.1500873565673828\n",
      "start area 8\n",
      "[0.39735516 0.27796258 0.23823648 0.21502216 0.20005789 0.19028933\n",
      " 0.18411867 0.18098496 0.1805372  0.18259932 0.18716246 0.19410978\n",
      " 0.20331532 0.2146637  0.22790349 0.24307583 0.26029413 0.27788208\n",
      " 0.2935549  0.3055275  0.31265049 0.31498244 0.31421185 0.31212984\n",
      " 0.30996873 0.30789654 0.30597595 0.30492396 0.30586858 0.30956175\n",
      " 0.31697326 0.32964749 0.35059816 0.38586676 0.45156678 0.62305448\n",
      " 1.92284656 0.78609098 0.58474225 0.52819089 0.51890559 0.52492941\n",
      " 0.5369371  0.54854096 0.55210211 0.53856176 0.50733515 0.47602724][0.39735516 0.27796258 0.23823648 0.21502216 0.20005789 0.19028933\n",
      " 0.18411867 0.18098496 0.1805372  0.18259932 0.18716246 0.19410978\n",
      " 0.20331532 0.2146637  0.22790349 0.24307583 0.26029413 0.27788208\n",
      " 0.2935549  0.3055275  0.31265049 0.31498244 0.31421185 0.31212984\n",
      " 0.30996873 0.30789654 0.30597595 0.30492396 0.30586858 0.30956175\n",
      " 0.31697326 0.32964749 0.35059816 0.38586676 0.45156678 0.62305448\n",
      " 1.92284656 0.78609098 0.58474225 0.52819089 0.51890559 0.52492941\n",
      " 0.5369371  0.54854096 0.55210211 0.53856176 0.50733515 0.47602724]\n",
      "\n",
      "PoolExecutor: <class 'concurrent.futures.process.ProcessPoolExecutor'>\n",
      "time : 1.1559345722198486\n",
      "start area 9\n",
      "[0.39304453 0.28770483 0.2452486  0.22044619 0.20462632 0.19440196\n",
      " 0.18816374 0.18497187 0.18451038 0.18649492 0.19083225 0.19758959\n",
      " 0.20636295 0.21682785 0.22867084 0.24168553 0.25736816 0.275703\n",
      " 0.29383472 0.3098142  0.32197246 0.32927132 0.33235072 0.33262092\n",
      " 0.33106614 0.32806805 0.32391561 0.32021601 0.31826307 0.31893262\n",
      " 0.32249877 0.32933332 0.33972756 0.35421969 0.37510351 0.41278051\n",
      " 0.48682877 0.67145812 1.9128457  0.76228986 0.61100876 0.56786859\n",
      " 0.55781945 0.56043354 0.56272366 0.55166516 0.52623506 0.49986459][0.39304453 0.28770483 0.2452486  0.22044619 0.20462632 0.19440196\n",
      " 0.18816374 0.18497187 0.18451038 0.18649492 0.19083225 0.19758959\n",
      " 0.20636295 0.21682785 0.22867084 0.24168553 0.25736816 0.275703\n",
      " 0.29383472 0.3098142  0.32197246 0.32927132 0.33235072 0.33262092\n",
      " 0.33106614 0.32806805 0.32391561 0.32021601 0.31826307 0.31893262\n",
      " 0.32249877 0.32933332 0.33972756 0.35421969 0.37510351 0.41278051\n",
      " 0.48682877 0.67145812 1.9128457  0.76228986 0.61100876 0.56786859\n",
      " 0.55781945 0.56043354 0.56272366 0.55166516 0.52623506 0.49986459]\n",
      "\n",
      "PoolExecutor: <class 'concurrent.futures.process.ProcessPoolExecutor'>\n",
      "time : 1.1570518016815186\n"
     ]
    }
   ],
   "source": [
    "sdtw_day_score_list = []\n",
    "for area in range(10): #iter 10 area\n",
    "    print(f'start area {area}')\n",
    "    center = center_sdtw.iloc[area].to_numpy()\n",
    "    sdtw_temp = main(ProcessPoolExecutor, area)\n",
    "    sdtw_day_score_list.append(sdtw_temp)"
   ]
  },
  {
   "cell_type": "code",
   "execution_count": 37,
   "id": "blank-catering",
   "metadata": {
    "Collapsed": "false"
   },
   "outputs": [],
   "source": [
    "sdtw_temp = []\n",
    "for i in range(len(sdtw_day_score_list)):\n",
    "    sdtw_temp.append(sdtw_day_score_list[i])"
   ]
  },
  {
   "cell_type": "code",
   "execution_count": 49,
   "id": "chief-division",
   "metadata": {
    "Collapsed": "false"
   },
   "outputs": [
    {
     "name": "stdout",
     "output_type": "stream",
     "text": [
      "10\n",
      "422\n",
      "530\n",
      "2\n"
     ]
    }
   ],
   "source": [
    "print(len(sdtw_day_score_list))\n",
    "print(len(sdtw_day_score_list[0]))\n",
    "print(len(sdtw_day_score_list[0][0]))\n",
    "print(len(sdtw_day_score_list[0][0][0]))"
   ]
  },
  {
   "cell_type": "code",
   "execution_count": 50,
   "id": "resident-warren",
   "metadata": {
    "Collapsed": "false"
   },
   "outputs": [
    {
     "name": "stdout",
     "output_type": "stream",
     "text": [
      "10 4225 2239250\n"
     ]
    }
   ],
   "source": [
    "score_list = []\n",
    "area_count = 0\n",
    "meter_count = 0\n",
    "day_count = 0\n",
    "\n",
    "for index, area in enumerate(sdtw_day_score_list): # area=10\n",
    "    area_count += 1\n",
    "    for meter in area: #meter=422(427)\n",
    "        meter_count += 1\n",
    "        for day in meter:\n",
    "            day_count +=1\n",
    "            score_list.append(day)\n",
    "print(area_count, meter_count, day_count)"
   ]
  },
  {
   "cell_type": "code",
   "execution_count": 52,
   "id": "pressing-sight",
   "metadata": {
    "Collapsed": "false"
   },
   "outputs": [],
   "source": [
    "sdtw_day_score_df = pd.DataFrame(score_list)\n",
    "e = sdtw_day_score_df.to_csv(index=False)\n",
    "f = open('tsc_dtw_sdtw_10*48.csv','w')\n",
    "f.write(e) #Give your csv text here.\n",
    "f.close()"
   ]
  },
  {
   "cell_type": "markdown",
   "id": "pregnant-darwin",
   "metadata": {
    "Collapsed": "false"
   },
   "source": [
    "#### using 10 * 530 * 48 sdtw"
   ]
  },
  {
   "cell_type": "code",
   "execution_count": 12,
   "id": "behavioral-nickname",
   "metadata": {
    "Collapsed": "false"
   },
   "outputs": [
    {
     "name": "stdout",
     "output_type": "stream",
     "text": [
      "(10, 25440)\n",
      "(107484000, 5)\n"
     ]
    }
   ],
   "source": [
    "center_sdtw = pd.read_csv('CSV/tsc/one_cluster_sdtw_barycenter_48.csv')\n",
    "print(center_sdtw.shape)\n",
    "\n",
    "smart_meter_df = pd.read_csv('CSV/smart_meter.csv')\n",
    "print(smart_meter_df.shape)"
   ]
  },
  {
   "cell_type": "code",
   "execution_count": 13,
   "id": "driving-treasury",
   "metadata": {
    "Collapsed": "false"
   },
   "outputs": [
    {
     "name": "stdout",
     "output_type": "stream",
     "text": [
      "nr.shape:  (4225, 530, 48, 1)\n"
     ]
    }
   ],
   "source": [
    "n = np.array(smart_meter_df['Electricity'])\n",
    "nr = n.reshape(-1, 530, 48, 1)\n",
    "print(\"nr.shape: \", nr.shape)"
   ]
  },
  {
   "cell_type": "code",
   "execution_count": 14,
   "id": "incredible-eleven",
   "metadata": {
    "Collapsed": "false"
   },
   "outputs": [
    {
     "name": "stdout",
     "output_type": "stream",
     "text": [
      "data_group[0][0][0].shape:  (48,)\n",
      "(422, 530, 48)\n"
     ]
    }
   ],
   "source": [
    "data_group = {}\n",
    "for i in range(10):\n",
    "    if i == 9:\n",
    "        data_group[i] = nr[4225-427: 4225].reshape(-1, 530, 48)\n",
    "    else:\n",
    "        data_group[i] = nr[i*422:(i+1)*422].reshape(-1, 530, 48)\n",
    "print(\"data_group[0][0][0].shape: \", data_group[0][0][0].shape)\n",
    "print(data_group[0].shape)"
   ]
  },
  {
   "cell_type": "code",
   "execution_count": 24,
   "id": "metallic-detail",
   "metadata": {
    "Collapsed": "false"
   },
   "outputs": [],
   "source": [
    "def calc_stuff(x,y):   # calc dtw and sdtw between x and y \n",
    "    meter_dtw = dtw(x,y)\n",
    "    meter_sdtw = soft_dtw(x,y)\n",
    "    return meter_dtw, meter_sdtw\n",
    "\n",
    "def procedure(area_data):                 # just factoring out the\n",
    "    df_list = []\n",
    "    \n",
    "    for i in range(530): # iterate every day for each user\n",
    "        x = area_data[i]\n",
    "        y = center[i*48:(i+1)*48]\n",
    "        meter_dtw, meter_sdtw = calc_stuff(x,y)\n",
    "        se = {\"meter_dtw\":meter_dtw, \"meter_sdtw\":meter_sdtw}\n",
    "        df_list.append(se)    \n",
    "    return df_list\n",
    "\n",
    "def main(PoolExecutor, area_num): # take ProcessPoolExecutor or ThreadPoolExecutor\n",
    "    \n",
    "    inputs = data_group[area_num] # data_group[0] 有422個\n",
    "    output1 = list()\n",
    "\n",
    "    start = time()           # let's see how long this takes\n",
    "    \n",
    "    with PoolExecutor() as executor:\n",
    "        for out1 in executor.map(procedure, inputs): #iterate 422 users in each area\n",
    "            # put results into correct output list:\n",
    "            output1.append(out1)\n",
    "            \n",
    "    finish = time()\n",
    "    print(f'PoolExecutor: {PoolExecutor}')\n",
    "    print(f'time : {(finish-start)}')\n",
    "    return output1"
   ]
  },
  {
   "cell_type": "code",
   "execution_count": 26,
   "id": "missing-infrastructure",
   "metadata": {
    "Collapsed": "false"
   },
   "outputs": [
    {
     "name": "stdout",
     "output_type": "stream",
     "text": [
      "start area 0\n",
      "PoolExecutor: <class 'concurrent.futures.process.ProcessPoolExecutor'>\n",
      "time : 8.396644115447998\n",
      "start area 1\n",
      "PoolExecutor: <class 'concurrent.futures.process.ProcessPoolExecutor'>\n",
      "time : 8.371230363845825\n",
      "start area 2\n",
      "PoolExecutor: <class 'concurrent.futures.process.ProcessPoolExecutor'>\n",
      "time : 8.73043704032898\n",
      "start area 3\n",
      "PoolExecutor: <class 'concurrent.futures.process.ProcessPoolExecutor'>\n",
      "time : 8.860711336135864\n",
      "start area 4\n",
      "PoolExecutor: <class 'concurrent.futures.process.ProcessPoolExecutor'>\n",
      "time : 8.803816556930542\n",
      "start area 5\n",
      "PoolExecutor: <class 'concurrent.futures.process.ProcessPoolExecutor'>\n",
      "time : 8.81618881225586\n",
      "start area 6\n",
      "PoolExecutor: <class 'concurrent.futures.process.ProcessPoolExecutor'>\n",
      "time : 8.781157970428467\n",
      "start area 7\n",
      "PoolExecutor: <class 'concurrent.futures.process.ProcessPoolExecutor'>\n",
      "time : 8.821248292922974\n",
      "start area 8\n",
      "PoolExecutor: <class 'concurrent.futures.process.ProcessPoolExecutor'>\n",
      "time : 8.96027159690857\n",
      "start area 9\n",
      "PoolExecutor: <class 'concurrent.futures.process.ProcessPoolExecutor'>\n",
      "time : 8.498056411743164\n"
     ]
    }
   ],
   "source": [
    "sdtw_day_score_list = []\n",
    "for area in range(10): #iter 10 area\n",
    "    print(f'start area {area}')\n",
    "    center = center_sdtw.iloc[area].to_numpy()\n",
    "    sdtw_temp = main(ProcessPoolExecutor, area)\n",
    "    sdtw_day_score_list.append(sdtw_temp)"
   ]
  },
  {
   "cell_type": "code",
   "execution_count": 27,
   "id": "cultural-rescue",
   "metadata": {
    "Collapsed": "false"
   },
   "outputs": [],
   "source": [
    "sdtw_temp = []\n",
    "for i in range(len(sdtw_day_score_list)):\n",
    "    sdtw_temp.append(sdtw_day_score_list[i])"
   ]
  },
  {
   "cell_type": "code",
   "execution_count": 28,
   "id": "elder-sharing",
   "metadata": {
    "Collapsed": "false"
   },
   "outputs": [
    {
     "name": "stdout",
     "output_type": "stream",
     "text": [
      "10\n",
      "422\n",
      "530\n",
      "2\n"
     ]
    }
   ],
   "source": [
    "print(len(sdtw_day_score_list))\n",
    "print(len(sdtw_day_score_list[0]))\n",
    "print(len(sdtw_day_score_list[0][0]))\n",
    "print(len(sdtw_day_score_list[0][0][0]))"
   ]
  },
  {
   "cell_type": "code",
   "execution_count": 29,
   "id": "continuing-labor",
   "metadata": {
    "Collapsed": "false"
   },
   "outputs": [
    {
     "name": "stdout",
     "output_type": "stream",
     "text": [
      "10 4225 2239250\n"
     ]
    }
   ],
   "source": [
    "score_list = []\n",
    "area_count = 0\n",
    "meter_count = 0\n",
    "day_count = 0\n",
    "\n",
    "for index, area in enumerate(sdtw_day_score_list): # area=10\n",
    "    area_count += 1\n",
    "    for meter in area: #meter=422(427)\n",
    "        meter_count += 1\n",
    "        for day in meter:\n",
    "            day_count +=1\n",
    "            score_list.append(day)\n",
    "print(area_count, meter_count, day_count)"
   ]
  },
  {
   "cell_type": "code",
   "execution_count": 30,
   "id": "sound-george",
   "metadata": {
    "Collapsed": "false"
   },
   "outputs": [],
   "source": [
    "sdtw_day_score_df = pd.DataFrame(score_list)\n",
    "e = sdtw_day_score_df.to_csv(index=False)\n",
    "f = open('tsc_dtw_sdtw_10*530*48.csv','w')\n",
    "f.write(e) #Give your csv text here.\n",
    "f.close()"
   ]
  },
  {
   "cell_type": "markdown",
   "id": "black-mississippi",
   "metadata": {
    "Collapsed": "false"
   },
   "source": [
    "## MIC"
   ]
  },
  {
   "cell_type": "code",
   "execution_count": 43,
   "id": "moral-generator",
   "metadata": {
    "Collapsed": "false"
   },
   "outputs": [
    {
     "name": "stdout",
     "output_type": "stream",
     "text": [
      "start area  0\n",
      "start area  1\n",
      "start area  2\n",
      "start area  3\n",
      "start area  4\n",
      "start area  5\n",
      "start area  6\n",
      "start area  7\n",
      "start area  8\n",
      "start area  9\n"
     ]
    }
   ],
   "source": [
    "smart_meter_data_group = read_smart_meter_csv()"
   ]
  },
  {
   "cell_type": "code",
   "execution_count": 32,
   "id": "demonstrated-concentration",
   "metadata": {
    "Collapsed": "false"
   },
   "outputs": [],
   "source": [
    "smart_meter_data_mic = []\n",
    "for area in smart_meter_data_group:\n",
    "    \n",
    "    for meter in area['fdi']:\n",
    "        t = meter['Electricity'].to_numpy().reshape(530, 48)\n",
    "        smart_meter_data_mic.append(t)\n",
    "    for meter in area['normal']:\n",
    "        t = meter['Electricity'].to_numpy().reshape(530, 48)\n",
    "        smart_meter_data_mic.append(t)\n",
    "        \n",
    "smart_meter_data_mic = np.asarray(smart_meter_data_mic)"
   ]
  },
  {
   "cell_type": "code",
   "execution_count": 33,
   "id": "unsigned-metropolitan",
   "metadata": {
    "Collapsed": "false"
   },
   "outputs": [
    {
     "data": {
      "text/plain": [
       "(4225, 530, 48)"
      ]
     },
     "execution_count": 33,
     "metadata": {},
     "output_type": "execute_result"
    }
   ],
   "source": [
    "smart_meter_data_mic.shape"
   ]
  },
  {
   "cell_type": "code",
   "execution_count": 34,
   "id": "marine-valuable",
   "metadata": {
    "Collapsed": "false"
   },
   "outputs": [
    {
     "ename": "NameError",
     "evalue": "name 'ntl_loss_data_group' is not defined",
     "output_type": "error",
     "traceback": [
      "\u001b[0;31m---------------------------------------------------------------------------\u001b[0m",
      "\u001b[0;31mNameError\u001b[0m                                 Traceback (most recent call last)",
      "\u001b[0;32m<ipython-input-34-3615254d594d>\u001b[0m in \u001b[0;36m<module>\u001b[0;34m\u001b[0m\n\u001b[0;32m----> 1\u001b[0;31m \u001b[0mntl_loss_data_group\u001b[0m\u001b[0;34m.\u001b[0m\u001b[0mshape\u001b[0m\u001b[0;34m,\u001b[0m \u001b[0mntl_loss_data_group\u001b[0m\u001b[0;34m[\u001b[0m\u001b[0;36m0\u001b[0m\u001b[0;34m]\u001b[0m\u001b[0;34m.\u001b[0m\u001b[0mshape\u001b[0m\u001b[0;34m\u001b[0m\u001b[0;34m\u001b[0m\u001b[0m\n\u001b[0m",
      "\u001b[0;31mNameError\u001b[0m: name 'ntl_loss_data_group' is not defined"
     ]
    }
   ],
   "source": [
    "ntl_loss_data_group.shape, ntl_loss_data_group[0].shape"
   ]
  },
  {
   "cell_type": "code",
   "execution_count": null,
   "id": "listed-tomato",
   "metadata": {
    "Collapsed": "false"
   },
   "outputs": [],
   "source": [
    "ntl_loss_data_group[0][0]"
   ]
  },
  {
   "cell_type": "code",
   "execution_count": null,
   "id": "floating-genesis",
   "metadata": {
    "Collapsed": "false"
   },
   "outputs": [],
   "source": [
    "# calculate MIC \n",
    "m = MINE(alpha=0.8)\n",
    "mic_result = []\n",
    "pbar = tqdm(smart_meter_data_group)\n",
    "# ntl_loss_data_group, smart_meter_data_group\n",
    "\n",
    "for area_num, area in enumerate(pbar): # iterate 10 data groups\n",
    "    loss_list = ntl_loss_data_group[area_num]\n",
    "    for meter in area['fdi']: # iterate every fdi meter in area +\n",
    "        day_list = meter['Day'].reset_index()\n",
    "        for i in range(NUMBER_OF_DAYS): # iterate every day\n",
    "            meter_id = meter['MeterID'].max()\n",
    "            meter_day = day_list['Day'][i*48]\n",
    "#             meter_fdi = meter[\"FDI\"].loc[0]\n",
    "            u = meter[\"Electricity\"].to_numpy()[i*48:(i+1)*48]\n",
    "            e = loss_list[i]\n",
    "            m.compute_score(u, e)\n",
    "            mic_value = m.mic()\n",
    "            se = {'MeterID': meter_id, 'Day': meter_day,'FDI': True, \"mic\":round(mic_value, 6)}\n",
    "            mic_result.append(se)\n",
    "    for meter in area['normal']:\n",
    "        day_list = meter['Day'].reset_index()\n",
    "        for i in range(NUMBER_OF_DAYS): # iterate every day\n",
    "            meter_id = meter['MeterID'].max()\n",
    "            meter_day = day_list['Day'][i*48]\n",
    "#             meter_fdi = meter[\"FDI\"].loc[0]\n",
    "            u = meter[\"Electricity\"].to_numpy()[i*48:(i+1)*48]\n",
    "            e = loss_list[i]\n",
    "            \n",
    "            m.compute_score(u, e)\n",
    "            mic_value = m.mic()\n",
    "            se = {'MeterID': meter_id, 'Day': meter_day,'FDI': False, \"mic\":mic_value}\n",
    "            mic_result.append(se)"
   ]
  },
  {
   "cell_type": "code",
   "execution_count": null,
   "id": "appointed-istanbul",
   "metadata": {
    "Collapsed": "false"
   },
   "outputs": [],
   "source": [
    "mic = pd.DataFrame(mic_result)"
   ]
  },
  {
   "cell_type": "code",
   "execution_count": null,
   "id": "fewer-smoke",
   "metadata": {
    "Collapsed": "false"
   },
   "outputs": [],
   "source": [
    "e = mic.to_csv(index=False)\n",
    "f = open('mic.csv','w')\n",
    "f.write(e) #Give your csv text here.\n",
    "## Python will convert \\n to os.linesep\n",
    "f.close()"
   ]
  }
 ],
 "metadata": {
  "environment": {
   "name": "common-cpu.m65",
   "type": "gcloud",
   "uri": "gcr.io/deeplearning-platform-release/base-cpu:m65"
  },
  "kernelspec": {
   "display_name": "Python 3",
   "language": "python",
   "name": "python3"
  },
  "language_info": {
   "codemirror_mode": {
    "name": "ipython",
    "version": 3
   },
   "file_extension": ".py",
   "mimetype": "text/x-python",
   "name": "python",
   "nbconvert_exporter": "python",
   "pygments_lexer": "ipython3",
   "version": "3.7.10"
  }
 },
 "nbformat": 4,
 "nbformat_minor": 5
}
