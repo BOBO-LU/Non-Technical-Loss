{
 "cells": [
  {
   "cell_type": "code",
   "execution_count": 1,
   "id": "ce995d9b",
   "metadata": {},
   "outputs": [],
   "source": [
    "import pandas as pd"
   ]
  },
  {
   "cell_type": "code",
   "execution_count": 18,
   "id": "3acdc45f",
   "metadata": {},
   "outputs": [
    {
     "name": "stdout",
     "output_type": "stream",
     "text": [
      "four time:  (2239250, 7)\n",
      "v value:  (2239250, 9)\n",
      "tsc 10*48:  (2239250, 2)\n",
      "tsc 10*530*48:  (2239250, 2)\n",
      "mic:  (2239250, 4)\n"
     ]
    }
   ],
   "source": [
    "# print('load: ', pd.read_csv('load_data.csv').shape)\n",
    "# print('observe: ', pd.read_csv('observe_meter.csv').shape)\n",
    "# print('smart: ', pd.read_csv('smart_meter.csv').shape)\n",
    "print('four time: ', pd.read_csv('four_time.csv').shape)\n",
    "print('v value: ', pd.read_csv('v_value.csv').shape)\n",
    "print('tsc 10*48: ', pd.read_csv('tsc_dtw_sdtw_10_48.csv').shape)\n",
    "print('tsc 10*530*48: ', pd.read_csv('tsc_dtw_sdtw_10_530_48.csv').shape)\n",
    "print('mic: ', pd.read_csv('mic.csv').shape)"
   ]
  },
  {
   "cell_type": "code",
   "execution_count": 2,
   "id": "2c1bbb16",
   "metadata": {},
   "outputs": [
    {
     "name": "stdout",
     "output_type": "stream",
     "text": [
      "(10748400, 5)\n",
      "(10748400, 5)\n",
      "(10748400, 5)\n",
      "(10748400, 5)\n",
      "(10748400, 5)\n",
      "(10748400, 5)\n",
      "(10748400, 5)\n",
      "(10748400, 5)\n",
      "(10748400, 5)\n",
      "(10748400, 5)\n"
     ]
    }
   ],
   "source": [
    "for i in range(10):\n",
    "    print(pd.read_csv('smartmeter/smart_meter_'+str(i)+'.csv').shape)"
   ]
  },
  {
   "cell_type": "code",
   "execution_count": null,
   "id": "4edc059c",
   "metadata": {},
   "outputs": [],
   "source": []
  },
  {
   "cell_type": "code",
   "execution_count": null,
   "id": "d46a8d1b",
   "metadata": {},
   "outputs": [],
   "source": []
  }
 ],
 "metadata": {
  "environment": {
   "name": "common-cpu.m71",
   "type": "gcloud",
   "uri": "gcr.io/deeplearning-platform-release/base-cpu:m71"
  },
  "kernelspec": {
   "display_name": "Python 3",
   "language": "python",
   "name": "python3"
  },
  "language_info": {
   "codemirror_mode": {
    "name": "ipython",
    "version": 3
   },
   "file_extension": ".py",
   "mimetype": "text/x-python",
   "name": "python",
   "nbconvert_exporter": "python",
   "pygments_lexer": "ipython3",
   "version": "3.7.10"
  },
  "widgets": {
   "application/vnd.jupyter.widget-state+json": {
    "state": {},
    "version_major": 2,
    "version_minor": 0
   }
  }
 },
 "nbformat": 4,
 "nbformat_minor": 5
}
