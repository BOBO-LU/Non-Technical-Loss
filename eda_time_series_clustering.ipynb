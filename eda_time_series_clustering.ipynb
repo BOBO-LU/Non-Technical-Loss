{
 "cells": [
  {
   "cell_type": "code",
   "execution_count": 1,
   "id": "796d2c47",
   "metadata": {
    "heading_collapsed": "false"
   },
   "outputs": [],
   "source": [
    "%run requirements.ipynb\n",
    "%run config.ipynb\n",
    "%run module_preprocess.ipynb\n",
    "%run module_training.ipynb\n",
    "%run module_fdi_generator.ipynb\n",
    "%run module_feature_extraction.ipynb"
   ]
  },
  {
   "cell_type": "code",
   "execution_count": 2,
   "id": "911def59",
   "metadata": {
    "heading_collapsed": "false"
   },
   "outputs": [
    {
     "name": "stdout",
     "output_type": "stream",
     "text": [
      "(10735680, 8)\n",
      "(10735680, 8)\n",
      "(10735680, 8)\n",
      "(10735680, 8)\n",
      "(10735680, 8)\n",
      "(10735680, 8)\n",
      "(10735680, 8)\n",
      "(10735680, 8)\n",
      "(10735680, 8)\n",
      "(10862880, 8)\n"
     ]
    }
   ],
   "source": [
    "smart_meter_data_group = []\n",
    "for i in range(10):\n",
    "    d1 = pd.read_csv('CSV/smartmeterhalf/smart_meter_'+str(i)+'_1.csv')\n",
    "    d2 = pd.read_csv('CSV/smartmeterhalf/smart_meter_'+str(i)+'_2.csv')\n",
    "    data = pd.concat([d1,d2])\n",
    "    print(data.shape)\n",
    "    smart_meter_data_group.append(data)"
   ]
  },
  {
   "cell_type": "code",
   "execution_count": 3,
   "id": "5d5b5233",
   "metadata": {
    "heading_collapsed": "false"
   },
   "outputs": [
    {
     "name": "stdout",
     "output_type": "stream",
     "text": [
      "(10735680, 8) 534240\n",
      "(10735680, 8) 534240\n",
      "\n",
      "(10735680, 8) 534240\n",
      "(10735680, 8) 534240\n",
      "\n",
      "(10735680, 8) 534240\n",
      "(10735680, 8) 534240\n",
      "\n",
      "(10735680, 8) 534240\n",
      "(10735680, 8) 534240\n",
      "\n",
      "(10735680, 8) 534240\n",
      "(10735680, 8) 534240\n",
      "\n",
      "(10735680, 8) 534240\n",
      "(10735680, 8) 534240\n",
      "\n",
      "(10735680, 8) 534240\n",
      "(10735680, 8) 534240\n",
      "\n",
      "(10735680, 8) 534240\n",
      "(10735680, 8) 534240\n",
      "\n",
      "(10735680, 8) 534240\n",
      "(10735680, 8) 534240\n",
      "\n",
      "(10862880, 8) 534240\n",
      "(10862880, 8) 534240\n",
      "\n"
     ]
    }
   ],
   "source": [
    "for f in smart_meter_data_group:\n",
    "    print(f.shape, f[ f['FDI_method'] != 0 ]['FDI'].count())\n",
    "    print(f.shape, f[ f['FDI'] == True ]['FDI'].count())\n",
    "    print()"
   ]
  },
  {
   "cell_type": "markdown",
   "id": "8b4f9d2c",
   "metadata": {},
   "source": [
    "### start"
   ]
  },
  {
   "cell_type": "code",
   "execution_count": 17,
   "id": "95fdd53c",
   "metadata": {
    "heading_collapsed": "false"
   },
   "outputs": [],
   "source": [
    "# if daily == True: X.reshape(-1, 48)\n",
    "# if daily == False: X.reshape(-1, 530, 48)  ## default\n",
    "\n",
    "def get_no_ntl(daily=False):\n",
    "    X_list = []\n",
    "    pbar = tqdm(smart_meter_data_group)\n",
    "    count = 1\n",
    "    for area in pbar: # iterate 10 data groups\n",
    "#         print(f'start {count}')\n",
    "        X = []\n",
    "        for meter_index in range(int(area.shape[0]/530/48)): # iterate every fdi meter in area \n",
    "            meter_offset = meter_index * 530 * 48\n",
    "            meter = area[meter_offset: meter_offset + 530 * 48]\n",
    "            for i in range(530):\n",
    "                if any(meter[i*48:(i+1)*48]['FDI']):\n",
    "                    continue\n",
    "                X.append(meter[\"Atk_Elec\"][i*48:(i+1)*48].to_numpy())\n",
    "        X = np.array(X)\n",
    "        if daily:\n",
    "            X = X.reshape(-1, 48)\n",
    "        else:\n",
    "            X = X.reshape(-1, 530, 48)\n",
    "        X_list.append(X)\n",
    "        count = count + 1\n",
    "    return X_list\n",
    "def get_only_ntl(daily=False):\n",
    "    X_list = []\n",
    "    pbar = tqdm(smart_meter_data_group)\n",
    "    count = 1\n",
    "    for area in pbar: # iterate 10 data groups\n",
    "#         print(f'start {count}')\n",
    "        X = []\n",
    "        for meter_index in range(int(area.shape[0]/530/48)): # iterate every fdi meter in area \n",
    "            meter_offset = meter_index * 530 * 48\n",
    "            meter = area[meter_offset: meter_offset + 530 * 48]\n",
    "            for i in range(530):\n",
    "                if not any(meter[i*48:(i+1)*48]['FDI']):\n",
    "                    continue\n",
    "                X.append(meter[\"Atk_Elec\"][i*48:(i+1)*48].to_numpy())\n",
    "        X = np.array(X)\n",
    "        if daily:\n",
    "            X = X.reshape(-1, 48)\n",
    "        else:\n",
    "            X = X.reshape(-1, 530, 48)\n",
    "        X_list.append(X)\n",
    "        count = count + 1\n",
    "    return X_list\n",
    "def get_all(daily=False):\n",
    "    X_list = []\n",
    "    pbar = tqdm(smart_meter_data_group)\n",
    "    count = 1\n",
    "    for area in pbar: # iterate 10 data groups\n",
    "#         print(f'start {count}')\n",
    "        X = area['Atk_Elec'].to_numpy()\n",
    "        if daily:\n",
    "            X = X.reshape(-1, 48)\n",
    "        else:\n",
    "            X = X.reshape(-1, 530, 48)\n",
    "        X_list.append(X)\n",
    "        count = count + 1\n",
    "    return X_list"
   ]
  },
  {
   "cell_type": "code",
   "execution_count": 14,
   "id": "ef9ddaed",
   "metadata": {},
   "outputs": [
    {
     "data": {
      "application/vnd.jupyter.widget-view+json": {
       "model_id": "",
       "version_major": 2,
       "version_minor": 0
      },
      "text/plain": [
       "  0%|          | 0/10 [00:00<?, ?it/s]"
      ]
     },
     "metadata": {},
     "output_type": "display_data"
    },
    {
     "name": "stdout",
     "output_type": "stream",
     "text": [
      "(212530, 48)\n"
     ]
    },
    {
     "data": {
      "text/plain": [
       "(212530, 48)"
      ]
     },
     "execution_count": 14,
     "metadata": {},
     "output_type": "execute_result"
    }
   ],
   "source": [
    "X_list = get_no_ntl(daily=True)\n",
    "X_list[0].shape"
   ]
  },
  {
   "cell_type": "code",
   "execution_count": 15,
   "id": "94d91868",
   "metadata": {},
   "outputs": [
    {
     "data": {
      "application/vnd.jupyter.widget-view+json": {
       "model_id": "",
       "version_major": 2,
       "version_minor": 0
      },
      "text/plain": [
       "  0%|          | 0/10 [00:00<?, ?it/s]"
      ]
     },
     "metadata": {},
     "output_type": "display_data"
    },
    {
     "data": {
      "text/plain": [
       "(11130, 48)"
      ]
     },
     "execution_count": 15,
     "metadata": {},
     "output_type": "execute_result"
    }
   ],
   "source": [
    "X_list = get_only_ntl(daily=True)\n",
    "X_list[0].shape"
   ]
  },
  {
   "cell_type": "code",
   "execution_count": 16,
   "id": "6f635a13",
   "metadata": {},
   "outputs": [
    {
     "data": {
      "application/vnd.jupyter.widget-view+json": {
       "model_id": "",
       "version_major": 2,
       "version_minor": 0
      },
      "text/plain": [
       "  0%|          | 0/10 [00:00<?, ?it/s]"
      ]
     },
     "metadata": {},
     "output_type": "display_data"
    },
    {
     "data": {
      "text/plain": [
       "(223660, 48)"
      ]
     },
     "execution_count": 16,
     "metadata": {},
     "output_type": "execute_result"
    }
   ],
   "source": [
    "X_list = get_all(daily=True)\n",
    "X_list[0].shape"
   ]
  },
  {
   "cell_type": "code",
   "execution_count": 7,
   "id": "12d4810e",
   "metadata": {
    "heading_collapsed": "false"
   },
   "outputs": [
    {
     "data": {
      "text/plain": [
       "'\\ncalculate dba 48 & 530, sdtw 48 & 530\\ncheck ntl affect\\nsilhouette\\ncluster it\\n'"
      ]
     },
     "execution_count": 7,
     "metadata": {},
     "output_type": "execute_result"
    }
   ],
   "source": [
    "\"\"\"\n",
    "calculate dba 48 & 530, sdtw 48 & 530\n",
    "check ntl affect\n",
    "silhouette\n",
    "cluster it\n",
    "\"\"\""
   ]
  },
  {
   "cell_type": "markdown",
   "id": "32aef00d",
   "metadata": {},
   "source": [
    "# euclidean"
   ]
  },
  {
   "cell_type": "markdown",
   "id": "ef1d7006",
   "metadata": {},
   "source": [
    "## eu, -1 * 530 * 48"
   ]
  },
  {
   "cell_type": "code",
   "execution_count": 20,
   "id": "32f53bce",
   "metadata": {
    "heading_collapsed": "false"
   },
   "outputs": [
    {
     "data": {
      "application/vnd.jupyter.widget-view+json": {
       "model_id": "dc7cc977d83e491a85260ee9dd9dd78b",
       "version_major": 2,
       "version_minor": 0
      },
      "text/plain": [
       "  0%|          | 0/10 [00:00<?, ?it/s]"
      ]
     },
     "metadata": {},
     "output_type": "display_data"
    },
    {
     "data": {
      "application/vnd.jupyter.widget-view+json": {
       "model_id": "38fc7ad809394ab8940b114ad14f951a",
       "version_major": 2,
       "version_minor": 0
      },
      "text/plain": [
       "  0%|          | 0/10 [00:00<?, ?it/s]"
      ]
     },
     "metadata": {},
     "output_type": "display_data"
    },
    {
     "name": "stdout",
     "output_type": "stream",
     "text": [
      "(530, 48)\n"
     ]
    },
    {
     "data": {
      "application/vnd.jupyter.widget-view+json": {
       "model_id": "58fb8d7e027942cda346f1f0e1d83392",
       "version_major": 2,
       "version_minor": 0
      },
      "text/plain": [
       "  0%|          | 0/10 [00:00<?, ?it/s]"
      ]
     },
     "metadata": {},
     "output_type": "display_data"
    },
    {
     "data": {
      "application/vnd.jupyter.widget-view+json": {
       "model_id": "f006349a20034bac990e8b94861079c2",
       "version_major": 2,
       "version_minor": 0
      },
      "text/plain": [
       "  0%|          | 0/10 [00:00<?, ?it/s]"
      ]
     },
     "metadata": {},
     "output_type": "display_data"
    },
    {
     "name": "stdout",
     "output_type": "stream",
     "text": [
      "(530, 48)\n"
     ]
    },
    {
     "data": {
      "application/vnd.jupyter.widget-view+json": {
       "model_id": "24ec783413894ebc94c06ee40fd554d3",
       "version_major": 2,
       "version_minor": 0
      },
      "text/plain": [
       "  0%|          | 0/10 [00:00<?, ?it/s]"
      ]
     },
     "metadata": {},
     "output_type": "display_data"
    },
    {
     "data": {
      "application/vnd.jupyter.widget-view+json": {
       "model_id": "36a493b8bdc748dc81c44dd78e890f5e",
       "version_major": 2,
       "version_minor": 0
      },
      "text/plain": [
       "  0%|          | 0/10 [00:00<?, ?it/s]"
      ]
     },
     "metadata": {},
     "output_type": "display_data"
    },
    {
     "name": "stdout",
     "output_type": "stream",
     "text": [
      "(530, 48)\n"
     ]
    }
   ],
   "source": [
    "# 530 * 48 all\n",
    "one_cluster_eu_barycenter_48 = []\n",
    "X_list = get_all()\n",
    "pbar = tqdm(X_list)\n",
    "for X in pbar:\n",
    "    result = euclidean_barycenter(X)\n",
    "    one_cluster_eu_barycenter_48.append(result)\n",
    "print(one_cluster_eu_barycenter_48[0].shape)\n",
    "\n",
    "# 530 * 48 no ntl\n",
    "one_cluster_eu_barycenter_48_no_ntl = []\n",
    "X_list = get_no_ntl()\n",
    "pbar = tqdm(X_list)\n",
    "for X in pbar:\n",
    "    result = euclidean_barycenter(X)\n",
    "    one_cluster_eu_barycenter_48_no_ntl.append(result)\n",
    "print(one_cluster_eu_barycenter_48_no_ntl[0].shape)\n",
    "\n",
    "# 530 * 48 only ntl\n",
    "one_cluster_eu_barycenter_48_only_ntl = []\n",
    "X_list = get_only_ntl()\n",
    "pbar = tqdm(X_list)\n",
    "for X in pbar:\n",
    "    result = euclidean_barycenter(X)\n",
    "    one_cluster_eu_barycenter_48_only_ntl.append(result)\n",
    "print(one_cluster_eu_barycenter_48_only_ntl[0].shape)"
   ]
  },
  {
   "cell_type": "code",
   "execution_count": 21,
   "id": "8e56f54c",
   "metadata": {
    "heading_collapsed": "false"
   },
   "outputs": [
    {
     "data": {
      "image/png": "[encoded data removed]",
      "text/plain": [
       "<Figure size 432x288 with 1 Axes>"
      ]
     },
     "metadata": {},
     "output_type": "display_data"
    }
   ],
   "source": [
    "# sdtw area 0\n",
    "plt.plot(one_cluster_eu_barycenter_48[0][0], label=\"all\")\n",
    "plt.plot(one_cluster_eu_barycenter_48_no_ntl[0][0], label=\"no ntl\")\n",
    "plt.plot(one_cluster_eu_barycenter_48_only_ntl[0][0], label=\"only ntl\")\n",
    "plt.legend(loc=\"upper left\")\n",
    "plt.xlabel(\"Half hours\")\n",
    "plt.ylabel(\"Electricity\")\n",
    "plt.savefig(\"eucldean barycenter 530*48 1 day in area 0\")"
   ]
  },
  {
   "cell_type": "markdown",
   "id": "9b58f53d",
   "metadata": {},
   "source": [
    "## eu, -1 * 48"
   ]
  },
  {
   "cell_type": "code",
   "execution_count": 18,
   "id": "44405826",
   "metadata": {
    "heading_collapsed": "false"
   },
   "outputs": [
    {
     "data": {
      "application/vnd.jupyter.widget-view+json": {
       "model_id": "b9ad820a009d429eab9788a8f4a64f72",
       "version_major": 2,
       "version_minor": 0
      },
      "text/plain": [
       "  0%|          | 0/10 [00:00<?, ?it/s]"
      ]
     },
     "metadata": {},
     "output_type": "display_data"
    },
    {
     "data": {
      "application/vnd.jupyter.widget-view+json": {
       "model_id": "b6253d5cb3b2453eacc0fa9ab441f81d",
       "version_major": 2,
       "version_minor": 0
      },
      "text/plain": [
       "  0%|          | 0/10 [00:00<?, ?it/s]"
      ]
     },
     "metadata": {},
     "output_type": "display_data"
    },
    {
     "name": "stdout",
     "output_type": "stream",
     "text": [
      "(48, 1)\n"
     ]
    },
    {
     "data": {
      "application/vnd.jupyter.widget-view+json": {
       "model_id": "981e11d9e15b457eae45284d1f62e9ac",
       "version_major": 2,
       "version_minor": 0
      },
      "text/plain": [
       "  0%|          | 0/10 [00:00<?, ?it/s]"
      ]
     },
     "metadata": {},
     "output_type": "display_data"
    },
    {
     "data": {
      "application/vnd.jupyter.widget-view+json": {
       "model_id": "c8fdcb43ef3d4b959da61bc847e0a6e6",
       "version_major": 2,
       "version_minor": 0
      },
      "text/plain": [
       "  0%|          | 0/10 [00:00<?, ?it/s]"
      ]
     },
     "metadata": {},
     "output_type": "display_data"
    },
    {
     "name": "stdout",
     "output_type": "stream",
     "text": [
      "(48, 1)\n"
     ]
    },
    {
     "data": {
      "application/vnd.jupyter.widget-view+json": {
       "model_id": "f9e02ff2f7aa4295ae58234c05c24095",
       "version_major": 2,
       "version_minor": 0
      },
      "text/plain": [
       "  0%|          | 0/10 [00:00<?, ?it/s]"
      ]
     },
     "metadata": {},
     "output_type": "display_data"
    },
    {
     "data": {
      "application/vnd.jupyter.widget-view+json": {
       "model_id": "2728e5c82e714f4bbf942b11de08f74c",
       "version_major": 2,
       "version_minor": 0
      },
      "text/plain": [
       "  0%|          | 0/10 [00:00<?, ?it/s]"
      ]
     },
     "metadata": {},
     "output_type": "display_data"
    },
    {
     "name": "stdout",
     "output_type": "stream",
     "text": [
      "(48, 1)\n"
     ]
    }
   ],
   "source": [
    "# 530 * 48 all\n",
    "one_cluster_eu_barycenter = []\n",
    "X_list = get_all(daily=True)\n",
    "pbar = tqdm(X_list)\n",
    "for X in pbar:\n",
    "    result = euclidean_barycenter(X)\n",
    "    one_cluster_eu_barycenter.append(result)\n",
    "print(one_cluster_eu_barycenter[0].shape)\n",
    "\n",
    "# 530 * 48 no ntl\n",
    "one_cluster_eu_barycenter_no_ntl = []\n",
    "X_list = get_no_ntl(daily=True)\n",
    "pbar = tqdm(X_list)\n",
    "for X in pbar:\n",
    "    result = euclidean_barycenter(X)\n",
    "    one_cluster_eu_barycenter_no_ntl.append(result)\n",
    "print(one_cluster_eu_barycenter_no_ntl[0].shape)\n",
    "\n",
    "# 530 * 48 only ntl\n",
    "one_cluster_eu_barycenter_only_ntl = []\n",
    "X_list = get_only_ntl(daily=True)\n",
    "pbar = tqdm(X_list)\n",
    "for X in pbar:\n",
    "    result = euclidean_barycenter(X)\n",
    "    one_cluster_eu_barycenter_only_ntl.append(result)\n",
    "print(one_cluster_eu_barycenter_only_ntl[0].shape)"
   ]
  },
  {
   "cell_type": "code",
   "execution_count": 19,
   "id": "edefd389",
   "metadata": {
    "heading_collapsed": "false"
   },
   "outputs": [
    {
     "data": {
      "image/png": "[encoded data removed]",
      "text/plain": [
       "<Figure size 432x288 with 1 Axes>"
      ]
     },
     "metadata": {},
     "output_type": "display_data"
    }
   ],
   "source": [
    "# sdtw area 0\n",
    "plt.plot(one_cluster_eu_barycenter[0], label=\"all\")\n",
    "plt.plot(one_cluster_eu_barycenter_no_ntl[0], label=\"no ntl\")\n",
    "plt.plot(one_cluster_eu_barycenter_only_ntl[0], label=\"only ntl\")\n",
    "plt.legend(loc=\"upper left\")\n",
    "plt.xlabel(\"Half hours\")\n",
    "plt.ylabel(\"Electricity\")\n",
    "plt.savefig(\"euclidean barycenter -1*48 1 day in area 0\")"
   ]
  },
  {
   "cell_type": "markdown",
   "id": "47f910f2",
   "metadata": {},
   "source": [
    "# dba"
   ]
  },
  {
   "cell_type": "markdown",
   "id": "e9302788",
   "metadata": {
    "heading_collapsed": "false"
   },
   "source": [
    "## dba, -1 * 530 * 48"
   ]
  },
  {
   "cell_type": "code",
   "execution_count": 24,
   "id": "fba6e681",
   "metadata": {
    "heading_collapsed": "false"
   },
   "outputs": [
    {
     "data": {
      "application/vnd.jupyter.widget-view+json": {
       "model_id": "4c8f35e64f8a47399a31da70b4df1697",
       "version_major": 2,
       "version_minor": 0
      },
      "text/plain": [
       "  0%|          | 0/10 [00:00<?, ?it/s]"
      ]
     },
     "metadata": {},
     "output_type": "display_data"
    },
    {
     "data": {
      "application/vnd.jupyter.widget-view+json": {
       "model_id": "0f541251bd524262a52c378e30fa6500",
       "version_major": 2,
       "version_minor": 0
      },
      "text/plain": [
       "  0%|          | 0/10 [00:00<?, ?it/s]"
      ]
     },
     "metadata": {},
     "output_type": "display_data"
    },
    {
     "name": "stdout",
     "output_type": "stream",
     "text": [
      "(530, 48)\n"
     ]
    }
   ],
   "source": [
    "# 530 * 48 all\n",
    "one_cluster_dba_barycenter_48 = []\n",
    "X_list = get_all()\n",
    "pbar = tqdm(X_list)\n",
    "for X in pbar:\n",
    "    result = dtw_barycenter_averaging_subgradient(X, max_iter=20, tol=1e-3)\n",
    "    one_cluster_dba_barycenter_48.append(result)\n",
    "print(one_cluster_dba_barycenter_48[0].shape)"
   ]
  },
  {
   "cell_type": "code",
   "execution_count": 25,
   "id": "cab80282",
   "metadata": {
    "heading_collapsed": "false"
   },
   "outputs": [
    {
     "data": {
      "application/vnd.jupyter.widget-view+json": {
       "model_id": "65b8c215f0a84359997fdc8468b50800",
       "version_major": 2,
       "version_minor": 0
      },
      "text/plain": [
       "  0%|          | 0/10 [00:00<?, ?it/s]"
      ]
     },
     "metadata": {},
     "output_type": "display_data"
    },
    {
     "data": {
      "application/vnd.jupyter.widget-view+json": {
       "model_id": "6f43ef6502734e9ebe9d17e2e2eab108",
       "version_major": 2,
       "version_minor": 0
      },
      "text/plain": [
       "  0%|          | 0/10 [00:00<?, ?it/s]"
      ]
     },
     "metadata": {},
     "output_type": "display_data"
    },
    {
     "name": "stdout",
     "output_type": "stream",
     "text": [
      "(530, 48)\n"
     ]
    }
   ],
   "source": [
    "# 530 * 48 no ntl\n",
    "one_cluster_dba_barycenter_48_no_ntl = []\n",
    "X_list = get_no_ntl()\n",
    "pbar = tqdm(X_list)\n",
    "for X in pbar:\n",
    "    result = dtw_barycenter_averaging_subgradient(X, max_iter=20, tol=1e-3)\n",
    "    one_cluster_dba_barycenter_48_no_ntl.append(result)\n",
    "print(one_cluster_dba_barycenter_48_no_ntl[0].shape)"
   ]
  },
  {
   "cell_type": "code",
   "execution_count": 26,
   "id": "0e2e000f",
   "metadata": {
    "heading_collapsed": "false"
   },
   "outputs": [
    {
     "data": {
      "application/vnd.jupyter.widget-view+json": {
       "model_id": "507ce528f4cb450dab5a327ff43ce8e2",
       "version_major": 2,
       "version_minor": 0
      },
      "text/plain": [
       "  0%|          | 0/10 [00:00<?, ?it/s]"
      ]
     },
     "metadata": {},
     "output_type": "display_data"
    },
    {
     "data": {
      "application/vnd.jupyter.widget-view+json": {
       "model_id": "17e8b94276c74b7594199f68c21115e8",
       "version_major": 2,
       "version_minor": 0
      },
      "text/plain": [
       "  0%|          | 0/10 [00:00<?, ?it/s]"
      ]
     },
     "metadata": {},
     "output_type": "display_data"
    },
    {
     "name": "stdout",
     "output_type": "stream",
     "text": [
      "(530, 48)\n"
     ]
    }
   ],
   "source": [
    "# 530 * 48 only ntl\n",
    "one_cluster_dba_barycenter_48_only_ntl = []\n",
    "X_list = get_only_ntl()\n",
    "pbar = tqdm(X_list)\n",
    "for X in pbar:\n",
    "    result = dtw_barycenter_averaging_subgradient(X, max_iter=20, tol=1e-3)\n",
    "    one_cluster_dba_barycenter_48_only_ntl.append(result)\n",
    "print(one_cluster_dba_barycenter_48_only_ntl[0].shape)"
   ]
  },
  {
   "cell_type": "code",
   "execution_count": 27,
   "id": "c63431f5",
   "metadata": {
    "heading_collapsed": "false"
   },
   "outputs": [
    {
     "data": {
      "text/plain": [
       "<matplotlib.legend.Legend at 0x7fa6ae036820>"
      ]
     },
     "execution_count": 27,
     "metadata": {},
     "output_type": "execute_result"
    },
    {
     "data": {
      "image/png": "[encoded data removed]",
      "text/plain": [
       "<Figure size 432x288 with 1 Axes>"
      ]
     },
     "metadata": {},
     "output_type": "display_data"
    }
   ],
   "source": [
    "# dba area 0\n",
    "plt.plot(one_cluster_dba_barycenter_48[0][0], label=\"all\")\n",
    "plt.plot(one_cluster_dba_barycenter_48_no_ntl[0][0], label=\"no ntl\")\n",
    "plt.plot(one_cluster_dba_barycenter_48_only_ntl[0][0], label=\"only ntl\")\n",
    "plt.legend(loc=\"upper left\")"
   ]
  },
  {
   "cell_type": "markdown",
   "id": "c4a56959",
   "metadata": {},
   "source": [
    "## dba, -1 * 48"
   ]
  },
  {
   "cell_type": "code",
   "execution_count": 28,
   "id": "7738f682",
   "metadata": {
    "heading_collapsed": "false"
   },
   "outputs": [
    {
     "data": {
      "application/vnd.jupyter.widget-view+json": {
       "model_id": "73c58171400940f49c44d7047e9ec3cb",
       "version_major": 2,
       "version_minor": 0
      },
      "text/plain": [
       "  0%|          | 0/10 [00:00<?, ?it/s]"
      ]
     },
     "metadata": {},
     "output_type": "display_data"
    },
    {
     "data": {
      "application/vnd.jupyter.widget-view+json": {
       "model_id": "85efd9fbf7b343c3a829224c43635605",
       "version_major": 2,
       "version_minor": 0
      },
      "text/plain": [
       "  0%|          | 0/10 [00:00<?, ?it/s]"
      ]
     },
     "metadata": {},
     "output_type": "display_data"
    },
    {
     "name": "stdout",
     "output_type": "stream",
     "text": [
      "(48, 1)\n"
     ]
    },
    {
     "data": {
      "application/vnd.jupyter.widget-view+json": {
       "model_id": "9d8a0076db1245bcb352aef9dab26afe",
       "version_major": 2,
       "version_minor": 0
      },
      "text/plain": [
       "  0%|          | 0/10 [00:00<?, ?it/s]"
      ]
     },
     "metadata": {},
     "output_type": "display_data"
    },
    {
     "data": {
      "application/vnd.jupyter.widget-view+json": {
       "model_id": "9915f5f74dcb4b4caa530ca80d48e18a",
       "version_major": 2,
       "version_minor": 0
      },
      "text/plain": [
       "  0%|          | 0/10 [00:00<?, ?it/s]"
      ]
     },
     "metadata": {},
     "output_type": "display_data"
    },
    {
     "name": "stdout",
     "output_type": "stream",
     "text": [
      "(48, 1)\n"
     ]
    },
    {
     "data": {
      "application/vnd.jupyter.widget-view+json": {
       "model_id": "789902b4f5d54245b0b7a73039fc0587",
       "version_major": 2,
       "version_minor": 0
      },
      "text/plain": [
       "  0%|          | 0/10 [00:00<?, ?it/s]"
      ]
     },
     "metadata": {},
     "output_type": "display_data"
    },
    {
     "data": {
      "application/vnd.jupyter.widget-view+json": {
       "model_id": "98c78e8aacbd42e99eb675fecfb44e51",
       "version_major": 2,
       "version_minor": 0
      },
      "text/plain": [
       "  0%|          | 0/10 [00:00<?, ?it/s]"
      ]
     },
     "metadata": {},
     "output_type": "display_data"
    },
    {
     "name": "stderr",
     "output_type": "stream",
     "text": [
      "/home/oplabsushi/.local/lib/python3.9/site-packages/tslearn/barycenters/dba.py:735: ConvergenceWarning: DBA loss is increasing while it should not be. Stopping optimization.\n",
      "  warnings.warn(\"DBA loss is increasing while it should not be. \"\n"
     ]
    },
    {
     "name": "stdout",
     "output_type": "stream",
     "text": [
      "(48, 1)\n"
     ]
    }
   ],
   "source": [
    "# 530 * 48 all\n",
    "one_cluster_dba_barycenter = []\n",
    "X_list = get_all(daily=True)\n",
    "pbar = tqdm(X_list)\n",
    "for X in pbar:\n",
    "    result = dtw_barycenter_averaging_subgradient(X, max_iter=20, tol=1e-3)\n",
    "    one_cluster_dba_barycenter.append(result)\n",
    "print(one_cluster_dba_barycenter[0].shape)\n",
    "\n",
    "# 530 * 48 no ntl\n",
    "one_cluster_dba_barycenter_no_ntl = []\n",
    "X_list = get_no_ntl(daily=True)\n",
    "pbar = tqdm(X_list)\n",
    "for X in pbar:\n",
    "    result = dtw_barycenter_averaging_subgradient(X, max_iter=20, tol=1e-3)\n",
    "    one_cluster_dba_barycenter_no_ntl.append(result)\n",
    "print(one_cluster_dba_barycenter_no_ntl[0].shape)\n",
    "\n",
    "# 530 * 48 only ntl\n",
    "one_cluster_dba_barycenter_only_ntl = []\n",
    "X_list = get_only_ntl(daily=True)\n",
    "pbar = tqdm(X_list)\n",
    "for X in pbar:\n",
    "    result = dtw_barycenter_averaging_subgradient(X, max_iter=20, tol=1e-3)\n",
    "    one_cluster_dba_barycenter_only_ntl.append(result)\n",
    "print(one_cluster_dba_barycenter_only_ntl[0].shape)"
   ]
  },
  {
   "cell_type": "code",
   "execution_count": 30,
   "id": "e2a093dc",
   "metadata": {
    "heading_collapsed": "false"
   },
   "outputs": [
    {
     "data": {
      "text/plain": [
       "<matplotlib.legend.Legend at 0x7fa6ae023c10>"
      ]
     },
     "execution_count": 30,
     "metadata": {},
     "output_type": "execute_result"
    },
    {
     "data": {
      "image/png": "[encoded data removed]",
      "text/plain": [
       "<Figure size 432x288 with 1 Axes>"
      ]
     },
     "metadata": {},
     "output_type": "display_data"
    }
   ],
   "source": [
    "# dba area 0\n",
    "plt.plot(one_cluster_dba_barycenter[0], label=\"all\")\n",
    "plt.plot(one_cluster_dba_barycenter_no_ntl[0], label=\"no ntl\")\n",
    "plt.plot(one_cluster_dba_barycenter_only_ntl[0], label=\"only ntl\")\n",
    "plt.legend(loc=\"upper left\")"
   ]
  },
  {
   "cell_type": "markdown",
   "id": "014a793a",
   "metadata": {},
   "source": [
    "# sdtw"
   ]
  },
  {
   "cell_type": "markdown",
   "id": "4d9a1a5c",
   "metadata": {
    "heading_collapsed": "true"
   },
   "source": [
    "## sdtw, -1 * 530 * 48"
   ]
  },
  {
   "cell_type": "code",
   "execution_count": 31,
   "id": "0b481252",
   "metadata": {
    "heading_collapsed": "false"
   },
   "outputs": [
    {
     "data": {
      "application/vnd.jupyter.widget-view+json": {
       "model_id": "bb9ea77f9a3848d59e01d3fdf07fbd13",
       "version_major": 2,
       "version_minor": 0
      },
      "text/plain": [
       "  0%|          | 0/10 [00:00<?, ?it/s]"
      ]
     },
     "metadata": {},
     "output_type": "display_data"
    },
    {
     "data": {
      "application/vnd.jupyter.widget-view+json": {
       "model_id": "fda0036d8c8143afb99a83a6742a74cc",
       "version_major": 2,
       "version_minor": 0
      },
      "text/plain": [
       "  0%|          | 0/10 [00:00<?, ?it/s]"
      ]
     },
     "metadata": {},
     "output_type": "display_data"
    },
    {
     "ename": "KeyboardInterrupt",
     "evalue": "",
     "output_type": "error",
     "traceback": [
      "\u001b[0;31m---------------------------------------------------------------------------\u001b[0m",
      "\u001b[0;31mKeyboardInterrupt\u001b[0m                         Traceback (most recent call last)",
      "\u001b[0;32m<ipython-input-31-8d9c93049efa>\u001b[0m in \u001b[0;36m<module>\u001b[0;34m\u001b[0m\n\u001b[1;32m      4\u001b[0m \u001b[0mpbar\u001b[0m \u001b[0;34m=\u001b[0m \u001b[0mtqdm\u001b[0m\u001b[0;34m(\u001b[0m\u001b[0mX_list\u001b[0m\u001b[0;34m)\u001b[0m\u001b[0;34m\u001b[0m\u001b[0;34m\u001b[0m\u001b[0m\n\u001b[1;32m      5\u001b[0m \u001b[0;32mfor\u001b[0m \u001b[0mX\u001b[0m \u001b[0;32min\u001b[0m \u001b[0mpbar\u001b[0m\u001b[0;34m:\u001b[0m\u001b[0;34m\u001b[0m\u001b[0;34m\u001b[0m\u001b[0m\n\u001b[0;32m----> 6\u001b[0;31m     \u001b[0mresult\u001b[0m \u001b[0;34m=\u001b[0m \u001b[0msoftdtw_barycenter\u001b[0m\u001b[0;34m(\u001b[0m\u001b[0mX\u001b[0m\u001b[0;34m,\u001b[0m \u001b[0mmax_iter\u001b[0m\u001b[0;34m=\u001b[0m\u001b[0;36m20\u001b[0m\u001b[0;34m,\u001b[0m \u001b[0mtol\u001b[0m\u001b[0;34m=\u001b[0m\u001b[0;36m1e-3\u001b[0m\u001b[0;34m)\u001b[0m\u001b[0;34m\u001b[0m\u001b[0;34m\u001b[0m\u001b[0m\n\u001b[0m\u001b[1;32m      7\u001b[0m     \u001b[0mone_cluster_sdtw_barycenter_48\u001b[0m\u001b[0;34m.\u001b[0m\u001b[0mappend\u001b[0m\u001b[0;34m(\u001b[0m\u001b[0mresult\u001b[0m\u001b[0;34m)\u001b[0m\u001b[0;34m\u001b[0m\u001b[0;34m\u001b[0m\u001b[0m\n\u001b[1;32m      8\u001b[0m \u001b[0mprint\u001b[0m\u001b[0;34m(\u001b[0m\u001b[0mone_cluster_sdtw_barycenter_48\u001b[0m\u001b[0;34m[\u001b[0m\u001b[0;36m0\u001b[0m\u001b[0;34m]\u001b[0m\u001b[0;34m.\u001b[0m\u001b[0mshape\u001b[0m\u001b[0;34m)\u001b[0m\u001b[0;34m\u001b[0m\u001b[0;34m\u001b[0m\u001b[0m\n",
      "\u001b[0;32m~/.local/lib/python3.9/site-packages/tslearn/barycenters/softdtw.py\u001b[0m in \u001b[0;36msoftdtw_barycenter\u001b[0;34m(X, gamma, weights, method, tol, max_iter, init)\u001b[0m\n\u001b[1;32m    107\u001b[0m \u001b[0;34m\u001b[0m\u001b[0m\n\u001b[1;32m    108\u001b[0m         \u001b[0;31m# The function works with vectors so we need to vectorize barycenter.\u001b[0m\u001b[0;34m\u001b[0m\u001b[0;34m\u001b[0m\u001b[0;34m\u001b[0m\u001b[0m\n\u001b[0;32m--> 109\u001b[0;31m         res = minimize(f, barycenter.ravel(), method=method, jac=True, tol=tol,\n\u001b[0m\u001b[1;32m    110\u001b[0m                        options=dict(maxiter=max_iter, disp=False))\n\u001b[1;32m    111\u001b[0m         \u001b[0;32mreturn\u001b[0m \u001b[0mres\u001b[0m\u001b[0;34m.\u001b[0m\u001b[0mx\u001b[0m\u001b[0;34m.\u001b[0m\u001b[0mreshape\u001b[0m\u001b[0;34m(\u001b[0m\u001b[0mbarycenter\u001b[0m\u001b[0;34m.\u001b[0m\u001b[0mshape\u001b[0m\u001b[0;34m)\u001b[0m\u001b[0;34m\u001b[0m\u001b[0;34m\u001b[0m\u001b[0m\n",
      "\u001b[0;32m~/.local/lib/python3.9/site-packages/scipy/optimize/_minimize.py\u001b[0m in \u001b[0;36mminimize\u001b[0;34m(fun, x0, args, method, jac, hess, hessp, bounds, constraints, tol, callback, options)\u001b[0m\n\u001b[1;32m    617\u001b[0m                                   **options)\n\u001b[1;32m    618\u001b[0m     \u001b[0;32melif\u001b[0m \u001b[0mmeth\u001b[0m \u001b[0;34m==\u001b[0m \u001b[0;34m'l-bfgs-b'\u001b[0m\u001b[0;34m:\u001b[0m\u001b[0;34m\u001b[0m\u001b[0;34m\u001b[0m\u001b[0m\n\u001b[0;32m--> 619\u001b[0;31m         return _minimize_lbfgsb(fun, x0, args, jac, bounds,\n\u001b[0m\u001b[1;32m    620\u001b[0m                                 callback=callback, **options)\n\u001b[1;32m    621\u001b[0m     \u001b[0;32melif\u001b[0m \u001b[0mmeth\u001b[0m \u001b[0;34m==\u001b[0m \u001b[0;34m'tnc'\u001b[0m\u001b[0;34m:\u001b[0m\u001b[0;34m\u001b[0m\u001b[0;34m\u001b[0m\u001b[0m\n",
      "\u001b[0;32m~/.local/lib/python3.9/site-packages/scipy/optimize/lbfgsb.py\u001b[0m in \u001b[0;36m_minimize_lbfgsb\u001b[0;34m(fun, x0, args, jac, bounds, disp, maxcor, ftol, gtol, eps, maxfun, maxiter, iprint, callback, maxls, finite_diff_rel_step, **unknown_options)\u001b[0m\n\u001b[1;32m    358\u001b[0m             \u001b[0;31m# until the completion of the current minimization iteration.\u001b[0m\u001b[0;34m\u001b[0m\u001b[0;34m\u001b[0m\u001b[0;34m\u001b[0m\u001b[0m\n\u001b[1;32m    359\u001b[0m             \u001b[0;31m# Overwrite f and g:\u001b[0m\u001b[0;34m\u001b[0m\u001b[0;34m\u001b[0m\u001b[0;34m\u001b[0m\u001b[0m\n\u001b[0;32m--> 360\u001b[0;31m             \u001b[0mf\u001b[0m\u001b[0;34m,\u001b[0m \u001b[0mg\u001b[0m \u001b[0;34m=\u001b[0m \u001b[0mfunc_and_grad\u001b[0m\u001b[0;34m(\u001b[0m\u001b[0mx\u001b[0m\u001b[0;34m)\u001b[0m\u001b[0;34m\u001b[0m\u001b[0;34m\u001b[0m\u001b[0m\n\u001b[0m\u001b[1;32m    361\u001b[0m         \u001b[0;32melif\u001b[0m \u001b[0mtask_str\u001b[0m\u001b[0;34m.\u001b[0m\u001b[0mstartswith\u001b[0m\u001b[0;34m(\u001b[0m\u001b[0;34mb'NEW_X'\u001b[0m\u001b[0;34m)\u001b[0m\u001b[0;34m:\u001b[0m\u001b[0;34m\u001b[0m\u001b[0;34m\u001b[0m\u001b[0m\n\u001b[1;32m    362\u001b[0m             \u001b[0;31m# new iteration\u001b[0m\u001b[0;34m\u001b[0m\u001b[0;34m\u001b[0m\u001b[0;34m\u001b[0m\u001b[0m\n",
      "\u001b[0;32m~/.local/lib/python3.9/site-packages/scipy/optimize/_differentiable_functions.py\u001b[0m in \u001b[0;36mfun_and_grad\u001b[0;34m(self, x)\u001b[0m\n\u001b[1;32m    258\u001b[0m         \u001b[0;32mif\u001b[0m \u001b[0;32mnot\u001b[0m \u001b[0mnp\u001b[0m\u001b[0;34m.\u001b[0m\u001b[0marray_equal\u001b[0m\u001b[0;34m(\u001b[0m\u001b[0mx\u001b[0m\u001b[0;34m,\u001b[0m \u001b[0mself\u001b[0m\u001b[0;34m.\u001b[0m\u001b[0mx\u001b[0m\u001b[0;34m)\u001b[0m\u001b[0;34m:\u001b[0m\u001b[0;34m\u001b[0m\u001b[0;34m\u001b[0m\u001b[0m\n\u001b[1;32m    259\u001b[0m             \u001b[0mself\u001b[0m\u001b[0;34m.\u001b[0m\u001b[0m_update_x_impl\u001b[0m\u001b[0;34m(\u001b[0m\u001b[0mx\u001b[0m\u001b[0;34m)\u001b[0m\u001b[0;34m\u001b[0m\u001b[0;34m\u001b[0m\u001b[0m\n\u001b[0;32m--> 260\u001b[0;31m         \u001b[0mself\u001b[0m\u001b[0;34m.\u001b[0m\u001b[0m_update_fun\u001b[0m\u001b[0;34m(\u001b[0m\u001b[0;34m)\u001b[0m\u001b[0;34m\u001b[0m\u001b[0;34m\u001b[0m\u001b[0m\n\u001b[0m\u001b[1;32m    261\u001b[0m         \u001b[0mself\u001b[0m\u001b[0;34m.\u001b[0m\u001b[0m_update_grad\u001b[0m\u001b[0;34m(\u001b[0m\u001b[0;34m)\u001b[0m\u001b[0;34m\u001b[0m\u001b[0;34m\u001b[0m\u001b[0m\n\u001b[1;32m    262\u001b[0m         \u001b[0;32mreturn\u001b[0m \u001b[0mself\u001b[0m\u001b[0;34m.\u001b[0m\u001b[0mf\u001b[0m\u001b[0;34m,\u001b[0m \u001b[0mself\u001b[0m\u001b[0;34m.\u001b[0m\u001b[0mg\u001b[0m\u001b[0;34m\u001b[0m\u001b[0;34m\u001b[0m\u001b[0m\n",
      "\u001b[0;32m~/.local/lib/python3.9/site-packages/scipy/optimize/_differentiable_functions.py\u001b[0m in \u001b[0;36m_update_fun\u001b[0;34m(self)\u001b[0m\n\u001b[1;32m    224\u001b[0m     \u001b[0;32mdef\u001b[0m \u001b[0m_update_fun\u001b[0m\u001b[0;34m(\u001b[0m\u001b[0mself\u001b[0m\u001b[0;34m)\u001b[0m\u001b[0;34m:\u001b[0m\u001b[0;34m\u001b[0m\u001b[0;34m\u001b[0m\u001b[0m\n\u001b[1;32m    225\u001b[0m         \u001b[0;32mif\u001b[0m \u001b[0;32mnot\u001b[0m \u001b[0mself\u001b[0m\u001b[0;34m.\u001b[0m\u001b[0mf_updated\u001b[0m\u001b[0;34m:\u001b[0m\u001b[0;34m\u001b[0m\u001b[0;34m\u001b[0m\u001b[0m\n\u001b[0;32m--> 226\u001b[0;31m             \u001b[0mself\u001b[0m\u001b[0;34m.\u001b[0m\u001b[0m_update_fun_impl\u001b[0m\u001b[0;34m(\u001b[0m\u001b[0;34m)\u001b[0m\u001b[0;34m\u001b[0m\u001b[0;34m\u001b[0m\u001b[0m\n\u001b[0m\u001b[1;32m    227\u001b[0m             \u001b[0mself\u001b[0m\u001b[0;34m.\u001b[0m\u001b[0mf_updated\u001b[0m \u001b[0;34m=\u001b[0m \u001b[0;32mTrue\u001b[0m\u001b[0;34m\u001b[0m\u001b[0;34m\u001b[0m\u001b[0m\n\u001b[1;32m    228\u001b[0m \u001b[0;34m\u001b[0m\u001b[0m\n",
      "\u001b[0;32m~/.local/lib/python3.9/site-packages/scipy/optimize/_differentiable_functions.py\u001b[0m in \u001b[0;36mupdate_fun\u001b[0;34m()\u001b[0m\n\u001b[1;32m    131\u001b[0m \u001b[0;34m\u001b[0m\u001b[0m\n\u001b[1;32m    132\u001b[0m         \u001b[0;32mdef\u001b[0m \u001b[0mupdate_fun\u001b[0m\u001b[0;34m(\u001b[0m\u001b[0;34m)\u001b[0m\u001b[0;34m:\u001b[0m\u001b[0;34m\u001b[0m\u001b[0;34m\u001b[0m\u001b[0m\n\u001b[0;32m--> 133\u001b[0;31m             \u001b[0mself\u001b[0m\u001b[0;34m.\u001b[0m\u001b[0mf\u001b[0m \u001b[0;34m=\u001b[0m \u001b[0mfun_wrapped\u001b[0m\u001b[0;34m(\u001b[0m\u001b[0mself\u001b[0m\u001b[0;34m.\u001b[0m\u001b[0mx\u001b[0m\u001b[0;34m)\u001b[0m\u001b[0;34m\u001b[0m\u001b[0;34m\u001b[0m\u001b[0m\n\u001b[0m\u001b[1;32m    134\u001b[0m \u001b[0;34m\u001b[0m\u001b[0m\n\u001b[1;32m    135\u001b[0m         \u001b[0mself\u001b[0m\u001b[0;34m.\u001b[0m\u001b[0m_update_fun_impl\u001b[0m \u001b[0;34m=\u001b[0m \u001b[0mupdate_fun\u001b[0m\u001b[0;34m\u001b[0m\u001b[0;34m\u001b[0m\u001b[0m\n",
      "\u001b[0;32m~/.local/lib/python3.9/site-packages/scipy/optimize/_differentiable_functions.py\u001b[0m in \u001b[0;36mfun_wrapped\u001b[0;34m(x)\u001b[0m\n\u001b[1;32m    128\u001b[0m         \u001b[0;32mdef\u001b[0m \u001b[0mfun_wrapped\u001b[0m\u001b[0;34m(\u001b[0m\u001b[0mx\u001b[0m\u001b[0;34m)\u001b[0m\u001b[0;34m:\u001b[0m\u001b[0;34m\u001b[0m\u001b[0;34m\u001b[0m\u001b[0m\n\u001b[1;32m    129\u001b[0m             \u001b[0mself\u001b[0m\u001b[0;34m.\u001b[0m\u001b[0mnfev\u001b[0m \u001b[0;34m+=\u001b[0m \u001b[0;36m1\u001b[0m\u001b[0;34m\u001b[0m\u001b[0;34m\u001b[0m\u001b[0m\n\u001b[0;32m--> 130\u001b[0;31m             \u001b[0;32mreturn\u001b[0m \u001b[0mfun\u001b[0m\u001b[0;34m(\u001b[0m\u001b[0mx\u001b[0m\u001b[0;34m,\u001b[0m \u001b[0;34m*\u001b[0m\u001b[0margs\u001b[0m\u001b[0;34m)\u001b[0m\u001b[0;34m\u001b[0m\u001b[0;34m\u001b[0m\u001b[0m\n\u001b[0m\u001b[1;32m    131\u001b[0m \u001b[0;34m\u001b[0m\u001b[0m\n\u001b[1;32m    132\u001b[0m         \u001b[0;32mdef\u001b[0m \u001b[0mupdate_fun\u001b[0m\u001b[0;34m(\u001b[0m\u001b[0;34m)\u001b[0m\u001b[0;34m:\u001b[0m\u001b[0;34m\u001b[0m\u001b[0;34m\u001b[0m\u001b[0m\n",
      "\u001b[0;32m~/.local/lib/python3.9/site-packages/scipy/optimize/optimize.py\u001b[0m in \u001b[0;36m__call__\u001b[0;34m(self, x, *args)\u001b[0m\n\u001b[1;32m     72\u001b[0m     \u001b[0;32mdef\u001b[0m \u001b[0m__call__\u001b[0m\u001b[0;34m(\u001b[0m\u001b[0mself\u001b[0m\u001b[0;34m,\u001b[0m \u001b[0mx\u001b[0m\u001b[0;34m,\u001b[0m \u001b[0;34m*\u001b[0m\u001b[0margs\u001b[0m\u001b[0;34m)\u001b[0m\u001b[0;34m:\u001b[0m\u001b[0;34m\u001b[0m\u001b[0;34m\u001b[0m\u001b[0m\n\u001b[1;32m     73\u001b[0m         \u001b[0;34m\"\"\" returns the the function value \"\"\"\u001b[0m\u001b[0;34m\u001b[0m\u001b[0;34m\u001b[0m\u001b[0m\n\u001b[0;32m---> 74\u001b[0;31m         \u001b[0mself\u001b[0m\u001b[0;34m.\u001b[0m\u001b[0m_compute_if_needed\u001b[0m\u001b[0;34m(\u001b[0m\u001b[0mx\u001b[0m\u001b[0;34m,\u001b[0m \u001b[0;34m*\u001b[0m\u001b[0margs\u001b[0m\u001b[0;34m)\u001b[0m\u001b[0;34m\u001b[0m\u001b[0;34m\u001b[0m\u001b[0m\n\u001b[0m\u001b[1;32m     75\u001b[0m         \u001b[0;32mreturn\u001b[0m \u001b[0mself\u001b[0m\u001b[0;34m.\u001b[0m\u001b[0m_value\u001b[0m\u001b[0;34m\u001b[0m\u001b[0;34m\u001b[0m\u001b[0m\n\u001b[1;32m     76\u001b[0m \u001b[0;34m\u001b[0m\u001b[0m\n",
      "\u001b[0;32m~/.local/lib/python3.9/site-packages/scipy/optimize/optimize.py\u001b[0m in \u001b[0;36m_compute_if_needed\u001b[0;34m(self, x, *args)\u001b[0m\n\u001b[1;32m     66\u001b[0m         \u001b[0;32mif\u001b[0m \u001b[0;32mnot\u001b[0m \u001b[0mnp\u001b[0m\u001b[0;34m.\u001b[0m\u001b[0mall\u001b[0m\u001b[0;34m(\u001b[0m\u001b[0mx\u001b[0m \u001b[0;34m==\u001b[0m \u001b[0mself\u001b[0m\u001b[0;34m.\u001b[0m\u001b[0mx\u001b[0m\u001b[0;34m)\u001b[0m \u001b[0;32mor\u001b[0m \u001b[0mself\u001b[0m\u001b[0;34m.\u001b[0m\u001b[0m_value\u001b[0m \u001b[0;32mis\u001b[0m \u001b[0;32mNone\u001b[0m \u001b[0;32mor\u001b[0m \u001b[0mself\u001b[0m\u001b[0;34m.\u001b[0m\u001b[0mjac\u001b[0m \u001b[0;32mis\u001b[0m \u001b[0;32mNone\u001b[0m\u001b[0;34m:\u001b[0m\u001b[0;34m\u001b[0m\u001b[0;34m\u001b[0m\u001b[0m\n\u001b[1;32m     67\u001b[0m             \u001b[0mself\u001b[0m\u001b[0;34m.\u001b[0m\u001b[0mx\u001b[0m \u001b[0;34m=\u001b[0m \u001b[0mnp\u001b[0m\u001b[0;34m.\u001b[0m\u001b[0masarray\u001b[0m\u001b[0;34m(\u001b[0m\u001b[0mx\u001b[0m\u001b[0;34m)\u001b[0m\u001b[0;34m.\u001b[0m\u001b[0mcopy\u001b[0m\u001b[0;34m(\u001b[0m\u001b[0;34m)\u001b[0m\u001b[0;34m\u001b[0m\u001b[0;34m\u001b[0m\u001b[0m\n\u001b[0;32m---> 68\u001b[0;31m             \u001b[0mfg\u001b[0m \u001b[0;34m=\u001b[0m \u001b[0mself\u001b[0m\u001b[0;34m.\u001b[0m\u001b[0mfun\u001b[0m\u001b[0;34m(\u001b[0m\u001b[0mx\u001b[0m\u001b[0;34m,\u001b[0m \u001b[0;34m*\u001b[0m\u001b[0margs\u001b[0m\u001b[0;34m)\u001b[0m\u001b[0;34m\u001b[0m\u001b[0;34m\u001b[0m\u001b[0m\n\u001b[0m\u001b[1;32m     69\u001b[0m             \u001b[0mself\u001b[0m\u001b[0;34m.\u001b[0m\u001b[0mjac\u001b[0m \u001b[0;34m=\u001b[0m \u001b[0mfg\u001b[0m\u001b[0;34m[\u001b[0m\u001b[0;36m1\u001b[0m\u001b[0;34m]\u001b[0m\u001b[0;34m\u001b[0m\u001b[0;34m\u001b[0m\u001b[0m\n\u001b[1;32m     70\u001b[0m             \u001b[0mself\u001b[0m\u001b[0;34m.\u001b[0m\u001b[0m_value\u001b[0m \u001b[0;34m=\u001b[0m \u001b[0mfg\u001b[0m\u001b[0;34m[\u001b[0m\u001b[0;36m0\u001b[0m\u001b[0;34m]\u001b[0m\u001b[0;34m\u001b[0m\u001b[0;34m\u001b[0m\u001b[0m\n",
      "\u001b[0;32m~/.local/lib/python3.9/site-packages/tslearn/barycenters/softdtw.py\u001b[0m in \u001b[0;36mf\u001b[0;34m(Z)\u001b[0m\n\u001b[1;32m    104\u001b[0m \u001b[0;34m\u001b[0m\u001b[0m\n\u001b[1;32m    105\u001b[0m         \u001b[0;32mdef\u001b[0m \u001b[0mf\u001b[0m\u001b[0;34m(\u001b[0m\u001b[0mZ\u001b[0m\u001b[0;34m)\u001b[0m\u001b[0;34m:\u001b[0m\u001b[0;34m\u001b[0m\u001b[0;34m\u001b[0m\u001b[0m\n\u001b[0;32m--> 106\u001b[0;31m             \u001b[0;32mreturn\u001b[0m \u001b[0m_softdtw_func\u001b[0m\u001b[0;34m(\u001b[0m\u001b[0mZ\u001b[0m\u001b[0;34m,\u001b[0m \u001b[0mX_\u001b[0m\u001b[0;34m,\u001b[0m \u001b[0mweights\u001b[0m\u001b[0;34m,\u001b[0m \u001b[0mbarycenter\u001b[0m\u001b[0;34m,\u001b[0m \u001b[0mgamma\u001b[0m\u001b[0;34m)\u001b[0m\u001b[0;34m\u001b[0m\u001b[0;34m\u001b[0m\u001b[0m\n\u001b[0m\u001b[1;32m    107\u001b[0m \u001b[0;34m\u001b[0m\u001b[0m\n\u001b[1;32m    108\u001b[0m         \u001b[0;31m# The function works with vectors so we need to vectorize barycenter.\u001b[0m\u001b[0;34m\u001b[0m\u001b[0;34m\u001b[0m\u001b[0;34m\u001b[0m\u001b[0m\n",
      "\u001b[0;32m~/.local/lib/python3.9/site-packages/tslearn/barycenters/softdtw.py\u001b[0m in \u001b[0;36m_softdtw_func\u001b[0;34m(Z, X, weights, barycenter, gamma)\u001b[0m\n\u001b[1;32m     27\u001b[0m         \u001b[0mvalue\u001b[0m \u001b[0;34m=\u001b[0m \u001b[0msdtw\u001b[0m\u001b[0;34m.\u001b[0m\u001b[0mcompute\u001b[0m\u001b[0;34m(\u001b[0m\u001b[0;34m)\u001b[0m\u001b[0;34m\u001b[0m\u001b[0;34m\u001b[0m\u001b[0m\n\u001b[1;32m     28\u001b[0m         \u001b[0mE\u001b[0m \u001b[0;34m=\u001b[0m \u001b[0msdtw\u001b[0m\u001b[0;34m.\u001b[0m\u001b[0mgrad\u001b[0m\u001b[0;34m(\u001b[0m\u001b[0;34m)\u001b[0m\u001b[0;34m\u001b[0m\u001b[0;34m\u001b[0m\u001b[0m\n\u001b[0;32m---> 29\u001b[0;31m         \u001b[0mG_tmp\u001b[0m \u001b[0;34m=\u001b[0m \u001b[0mD\u001b[0m\u001b[0;34m.\u001b[0m\u001b[0mjacobian_product\u001b[0m\u001b[0;34m(\u001b[0m\u001b[0mE\u001b[0m\u001b[0;34m)\u001b[0m\u001b[0;34m\u001b[0m\u001b[0;34m\u001b[0m\u001b[0m\n\u001b[0m\u001b[1;32m     30\u001b[0m         \u001b[0mG\u001b[0m \u001b[0;34m+=\u001b[0m \u001b[0mweights\u001b[0m\u001b[0;34m[\u001b[0m\u001b[0mi\u001b[0m\u001b[0;34m]\u001b[0m \u001b[0;34m*\u001b[0m \u001b[0mG_tmp\u001b[0m\u001b[0;34m\u001b[0m\u001b[0;34m\u001b[0m\u001b[0m\n\u001b[1;32m     31\u001b[0m         \u001b[0mobj\u001b[0m \u001b[0;34m+=\u001b[0m \u001b[0mweights\u001b[0m\u001b[0;34m[\u001b[0m\u001b[0mi\u001b[0m\u001b[0;34m]\u001b[0m \u001b[0;34m*\u001b[0m \u001b[0mvalue\u001b[0m\u001b[0;34m\u001b[0m\u001b[0;34m\u001b[0m\u001b[0m\n",
      "\u001b[0;32m~/.local/lib/python3.9/site-packages/tslearn/metrics/softdtw_variants.py\u001b[0m in \u001b[0;36mjacobian_product\u001b[0;34m(self, E)\u001b[0m\n\u001b[1;32m    727\u001b[0m         \u001b[0mG\u001b[0m \u001b[0;34m=\u001b[0m \u001b[0mnumpy\u001b[0m\u001b[0;34m.\u001b[0m\u001b[0mzeros_like\u001b[0m\u001b[0;34m(\u001b[0m\u001b[0mself\u001b[0m\u001b[0;34m.\u001b[0m\u001b[0mX\u001b[0m\u001b[0;34m,\u001b[0m \u001b[0mdtype\u001b[0m\u001b[0;34m=\u001b[0m\u001b[0mnumpy\u001b[0m\u001b[0;34m.\u001b[0m\u001b[0mfloat64\u001b[0m\u001b[0;34m)\u001b[0m\u001b[0;34m\u001b[0m\u001b[0;34m\u001b[0m\u001b[0m\n\u001b[1;32m    728\u001b[0m \u001b[0;34m\u001b[0m\u001b[0m\n\u001b[0;32m--> 729\u001b[0;31m         \u001b[0m_jacobian_product_sq_euc\u001b[0m\u001b[0;34m(\u001b[0m\u001b[0mself\u001b[0m\u001b[0;34m.\u001b[0m\u001b[0mX\u001b[0m\u001b[0;34m,\u001b[0m \u001b[0mself\u001b[0m\u001b[0;34m.\u001b[0m\u001b[0mY\u001b[0m\u001b[0;34m,\u001b[0m \u001b[0mE\u001b[0m\u001b[0;34m.\u001b[0m\u001b[0mastype\u001b[0m\u001b[0;34m(\u001b[0m\u001b[0mnumpy\u001b[0m\u001b[0;34m.\u001b[0m\u001b[0mfloat64\u001b[0m\u001b[0;34m)\u001b[0m\u001b[0;34m,\u001b[0m \u001b[0mG\u001b[0m\u001b[0;34m)\u001b[0m\u001b[0;34m\u001b[0m\u001b[0;34m\u001b[0m\u001b[0m\n\u001b[0m\u001b[1;32m    730\u001b[0m \u001b[0;34m\u001b[0m\u001b[0m\n\u001b[1;32m    731\u001b[0m         \u001b[0;32mreturn\u001b[0m \u001b[0mG\u001b[0m\u001b[0;34m\u001b[0m\u001b[0;34m\u001b[0m\u001b[0m\n",
      "\u001b[0;31mKeyboardInterrupt\u001b[0m: "
     ]
    }
   ],
   "source": [
    "# 530 * 48 all\n",
    "one_cluster_sdtw_barycenter_48 = []\n",
    "X_list = get_all()\n",
    "pbar = tqdm(X_list)\n",
    "for X in pbar:\n",
    "    result = softdtw_barycenter(X, max_iter=20, tol=1e-3)\n",
    "    one_cluster_sdtw_barycenter_48.append(result)\n",
    "print(one_cluster_sdtw_barycenter_48[0].shape)\n",
    "\n",
    "# 530 * 48 no ntl\n",
    "one_cluster_sdtw_barycenter_48_no_ntl = []\n",
    "X_list = get_no_ntl()\n",
    "pbar = tqdm(X_list)\n",
    "for X in pbar:\n",
    "    result = softdtw_barycenter(X, max_iter=20, tol=1e-3)\n",
    "    one_cluster_sdtw_barycenter_48_no_ntl.append(result)\n",
    "print(one_cluster_sdtw_barycenter_48_no_ntl[0].shape)\n",
    "\n",
    "# 530 * 48 only ntl\n",
    "one_cluster_sdtw_barycenter_48_only_ntl = []\n",
    "X_list = get_only_ntl()\n",
    "pbar = tqdm(X_list)\n",
    "for X in pbar:\n",
    "    result = softdtw_barycenter(X, max_iter=20, tol=1e-3)\n",
    "    one_cluster_sdtw_barycenter_48_only_ntl.append(result)\n",
    "print(one_cluster_sdtw_barycenter_48_only_ntl[0].shape)"
   ]
  },
  {
   "cell_type": "code",
   "execution_count": null,
   "id": "7a93d3e6",
   "metadata": {
    "heading_collapsed": "false"
   },
   "outputs": [],
   "source": [
    "# sdtw area 0\n",
    "plt.plot(one_cluster_sdtw_barycenter_48[0][0], label=\"all\")\n",
    "plt.plot(one_cluster_sdtw_barycenter_48_no_ntl[0][0], label=\"no ntl\")\n",
    "plt.plot(one_cluster_sdtw_barycenter_48_only_ntl[0][0], label=\"only ntl\")\n",
    "plt.legend(loc=\"upper left\")"
   ]
  },
  {
   "cell_type": "code",
   "execution_count": null,
   "id": "66dd2339",
   "metadata": {
    "heading_collapsed": "false"
   },
   "outputs": [],
   "source": [
    "plt.plot(one_cluster_sdtw_barycenter_48[0][0], label=\"all\")\n",
    "plt.plot(one_cluster_sdtw_barycenter_48_no_ntl[0][0], label=\"no ntl\")\n",
    "plt.plot(one_cluster_sdtw_barycenter_48_only_ntl[0][0], label=\"only ntl\")\n",
    "plt.legend(loc=\"upper left\")\n",
    "plt.xlabel(\"Half hours\")\n",
    "plt.ylabel(\"Electricity\")\n",
    "plt.savefig(\"sdtw barycenter 530*48 1 day in area 0\")"
   ]
  },
  {
   "cell_type": "code",
   "execution_count": null,
   "id": "bbecdac2",
   "metadata": {
    "heading_collapsed": "false"
   },
   "outputs": [],
   "source": [
    "print(len(X_list))\n",
    "print(len(X_list[0]))\n",
    "print(len(X_list[0][0]))\n",
    "print(len(X_list[0][0][0]))"
   ]
  },
  {
   "cell_type": "code",
   "execution_count": null,
   "id": "28e98385",
   "metadata": {
    "heading_collapsed": "false"
   },
   "outputs": [],
   "source": [
    "print(len(one_cluster_sdtw_barycenter_48))\n",
    "print(len(one_cluster_sdtw_barycenter_48[0]))\n",
    "print(len(one_cluster_sdtw_barycenter_48[0][0]))"
   ]
  },
  {
   "cell_type": "code",
   "execution_count": null,
   "id": "21075af5",
   "metadata": {
    "heading_collapsed": "false"
   },
   "outputs": [],
   "source": [
    "continous = np.empty(0)\n",
    "continous_no_ntl = np.empty(0)\n",
    "continous_only_ntl = np.empty(0)\n",
    "for i in range(5): #前五天\n",
    "    plt.plot(one_cluster_sdtw_barycenter_48[0][i], label=i)\n",
    "    continous = np.append(continous, one_cluster_sdtw_barycenter_48[0][i][0:48])\n",
    "    continous_no_ntl = np.append(continous_no_ntl, one_cluster_sdtw_barycenter_48_no_ntl[0][i][0:48])\n",
    "    continous_only_ntl = np.append(continous_only_ntl, one_cluster_sdtw_barycenter_48_only_ntl[0][i][0:48])\n",
    "    plt.legend(loc=\"upper left\")"
   ]
  },
  {
   "cell_type": "code",
   "execution_count": null,
   "id": "45e9ec3a",
   "metadata": {
    "heading_collapsed": "false"
   },
   "outputs": [],
   "source": [
    "# sdtw area 0\n",
    "plt.figure(figsize=(10,3))\n",
    "plt.plot(continous, label=\"all\")\n",
    "plt.plot(continous_no_ntl, label=\"no ntl\")\n",
    "plt.plot(continous_only_ntl, label=\"only ntl\")\n",
    "plt.legend(loc=\"upper left\")\n",
    "plt.xlabel(\"Half hours\")\n",
    "plt.ylabel(\"Electricity\")\n",
    "plt.savefig(\"sdtw barycenter 530*48 5 day in area 0\")"
   ]
  },
  {
   "cell_type": "markdown",
   "id": "017f5dee",
   "metadata": {},
   "source": [
    "## sdtw, -1 * 48"
   ]
  },
  {
   "cell_type": "code",
   "execution_count": 32,
   "id": "c30093f2",
   "metadata": {
    "heading_collapsed": "false"
   },
   "outputs": [
    {
     "data": {
      "application/vnd.jupyter.widget-view+json": {
       "model_id": "035a6a5e2ee948beb9bed19a760f27aa",
       "version_major": 2,
       "version_minor": 0
      },
      "text/plain": [
       "  0%|          | 0/10 [00:00<?, ?it/s]"
      ]
     },
     "metadata": {},
     "output_type": "display_data"
    },
    {
     "data": {
      "application/vnd.jupyter.widget-view+json": {
       "model_id": "3f6217b32d984e3f8db02e4640426499",
       "version_major": 2,
       "version_minor": 0
      },
      "text/plain": [
       "  0%|          | 0/10 [00:00<?, ?it/s]"
      ]
     },
     "metadata": {},
     "output_type": "display_data"
    },
    {
     "name": "stdout",
     "output_type": "stream",
     "text": [
      "(48, 1)\n"
     ]
    },
    {
     "data": {
      "application/vnd.jupyter.widget-view+json": {
       "model_id": "902d81a89973477c934303fd38565ebb",
       "version_major": 2,
       "version_minor": 0
      },
      "text/plain": [
       "  0%|          | 0/10 [00:00<?, ?it/s]"
      ]
     },
     "metadata": {},
     "output_type": "display_data"
    },
    {
     "data": {
      "application/vnd.jupyter.widget-view+json": {
       "model_id": "14281e6c7654407f99dd68849982ca5c",
       "version_major": 2,
       "version_minor": 0
      },
      "text/plain": [
       "  0%|          | 0/10 [00:00<?, ?it/s]"
      ]
     },
     "metadata": {},
     "output_type": "display_data"
    },
    {
     "name": "stdout",
     "output_type": "stream",
     "text": [
      "(48, 1)\n"
     ]
    },
    {
     "data": {
      "application/vnd.jupyter.widget-view+json": {
       "model_id": "4ed4a93dd8d5430a9604420de5c1e07b",
       "version_major": 2,
       "version_minor": 0
      },
      "text/plain": [
       "  0%|          | 0/10 [00:00<?, ?it/s]"
      ]
     },
     "metadata": {},
     "output_type": "display_data"
    },
    {
     "data": {
      "application/vnd.jupyter.widget-view+json": {
       "model_id": "bebf82f8b79c4c549678dd2d543aad28",
       "version_major": 2,
       "version_minor": 0
      },
      "text/plain": [
       "  0%|          | 0/10 [00:00<?, ?it/s]"
      ]
     },
     "metadata": {},
     "output_type": "display_data"
    },
    {
     "name": "stdout",
     "output_type": "stream",
     "text": [
      "(48, 1)\n"
     ]
    }
   ],
   "source": [
    "# 530 * 48 all\n",
    "one_cluster_sdtw_barycenter = []\n",
    "X_list = get_all(daily=True)\n",
    "pbar = tqdm(X_list)\n",
    "for X in pbar:\n",
    "    result = softdtw_barycenter(X, max_iter=20, tol=1e-3)\n",
    "    one_cluster_sdtw_barycenter.append(result)\n",
    "print(one_cluster_sdtw_barycenter[0].shape)\n",
    "\n",
    "# 530 * 48 no ntl\n",
    "one_cluster_sdtw_barycenter_no_ntl = []\n",
    "X_list = get_no_ntl(daily=True)\n",
    "pbar = tqdm(X_list)\n",
    "for X in pbar:\n",
    "    result = softdtw_barycenter(X, max_iter=20, tol=1e-3)\n",
    "    one_cluster_sdtw_barycenter_no_ntl.append(result)\n",
    "print(one_cluster_sdtw_barycenter_no_ntl[0].shape)\n",
    "\n",
    "# 530 * 48 only ntl\n",
    "one_cluster_sdtw_barycenter_only_ntl = []\n",
    "X_list = get_only_ntl(daily=True)\n",
    "pbar = tqdm(X_list)\n",
    "for X in pbar:\n",
    "    result = softdtw_barycenter(X, max_iter=20, tol=1e-3)\n",
    "    one_cluster_sdtw_barycenter_only_ntl.append(result)\n",
    "print(one_cluster_sdtw_barycenter_only_ntl[0].shape)"
   ]
  },
  {
   "cell_type": "code",
   "execution_count": 35,
   "id": "ea2a8fef",
   "metadata": {
    "heading_collapsed": "false"
   },
   "outputs": [
    {
     "data": {
      "image/png": "[encoded data removed]",
      "text/plain": [
       "<Figure size 432x288 with 1 Axes>"
      ]
     },
     "metadata": {},
     "output_type": "display_data"
    }
   ],
   "source": [
    "# sdtw area 0\n",
    "plt.plot(one_cluster_sdtw_barycenter[0], label=\"all\")\n",
    "plt.plot(one_cluster_sdtw_barycenter_no_ntl[0], label=\"no ntl\")\n",
    "plt.plot(one_cluster_sdtw_barycenter_only_ntl[0], label=\"only ntl\")\n",
    "plt.legend(loc=\"upper left\")\n",
    "plt.xlabel(\"Half hours\")\n",
    "plt.ylabel(\"Electricity\")\n",
    "plt.savefig(\"sdtw barycenter -1*48 1 day in area 0\")"
   ]
  },
  {
   "cell_type": "code",
   "execution_count": 55,
   "id": "92583430",
   "metadata": {
    "heading_collapsed": "false"
   },
   "outputs": [
    {
     "name": "stdout",
     "output_type": "stream",
     "text": [
      "10\n",
      "48\n",
      "1\n"
     ]
    }
   ],
   "source": [
    "print(len(one_cluster_sdtw_barycenter))\n",
    "print(len(one_cluster_sdtw_barycenter[0]))\n",
    "print(len(one_cluster_sdtw_barycenter[0][0]))"
   ]
  },
  {
   "cell_type": "code",
   "execution_count": 34,
   "id": "23efa4a1",
   "metadata": {
    "heading_collapsed": "false"
   },
   "outputs": [
    {
     "data": {
      "image/png": "[encoded data removed]",
      "text/plain": [
       "<Figure size 432x288 with 1 Axes>"
      ]
     },
     "metadata": {},
     "output_type": "display_data"
    }
   ],
   "source": [
    "continous = np.empty(0)\n",
    "continous_no_ntl = np.empty(0)\n",
    "continous_only_ntl = np.empty(0)\n",
    "for i in range(10): #前五天\n",
    "    plt.plot(one_cluster_sdtw_barycenter[i], label=i)\n",
    "    continous = np.append(continous, one_cluster_sdtw_barycenter[i][0:48])\n",
    "    continous_no_ntl = np.append(continous_no_ntl, one_cluster_sdtw_barycenter_no_ntl[i][0:48])\n",
    "    continous_only_ntl = np.append(continous_only_ntl, one_cluster_sdtw_barycenter_only_ntl[i][0:48])\n",
    "    plt.legend(loc=\"upper left\")"
   ]
  },
  {
   "cell_type": "code",
   "execution_count": 122,
   "id": "c77b1c6b",
   "metadata": {
    "heading_collapsed": "false"
   },
   "outputs": [
    {
     "data": {
      "image/png": "[encoded data removed]",
      "text/plain": [
       "<Figure size 720x216 with 1 Axes>"
      ]
     },
     "metadata": {},
     "output_type": "display_data"
    }
   ],
   "source": [
    "# sdtw area 0\n",
    "plt.figure(figsize=(10,3))\n",
    "plt.plot(continous, label=\"all\")\n",
    "plt.plot(continous_no_ntl, label=\"no ntl\")\n",
    "plt.plot(continous_only_ntl, label=\"only ntl\")\n",
    "plt.legend(loc=\"upper left\")\n",
    "plt.xlabel(\"Half hours\")\n",
    "plt.ylabel(\"Electricity\")\n",
    "plt.savefig(\"sdtw barycenter -1*48 10 day in area 0\")"
   ]
  },
  {
   "cell_type": "markdown",
   "id": "0b25a64d",
   "metadata": {},
   "source": [
    "# save results"
   ]
  },
  {
   "cell_type": "markdown",
   "id": "bb301234",
   "metadata": {
    "heading_collapsed": "true"
   },
   "source": [
    "## 530 * 48"
   ]
  },
  {
   "cell_type": "code",
   "execution_count": 130,
   "id": "814b58a8",
   "metadata": {
    "heading_collapsed": "false"
   },
   "outputs": [],
   "source": [
    "#euclidean\n",
    "df = pd.DataFrame(np.array(one_cluster_eu_barycenter_48).reshape(10, 530*48))\n",
    "df.shape\n",
    "e = df.to_csv(index=False)\n",
    "f = open('one_cluster_eu_barycenter_48.csv','w')\n",
    "f.write(e) #Give your csv text here.\n",
    "f.close()\n",
    "\n",
    "df = pd.DataFrame(np.array(one_cluster_eu_barycenter_48_no_ntl).reshape(10, 530*48))\n",
    "df.shape\n",
    "e = df.to_csv(index=False)\n",
    "f = open('one_cluster_eu_barycenter_48_no_ntl.csv','w')\n",
    "f.write(e) #Give your csv text here.\n",
    "f.close()\n",
    "\n",
    "df = pd.DataFrame(np.array(one_cluster_eu_barycenter_48_only_ntl).reshape(10, 530*48))\n",
    "df.shape\n",
    "e = df.to_csv(index=False)\n",
    "f = open('one_cluster_eu_barycenter_48_only_ntl.csv','w')\n",
    "f.write(e) #Give your csv text here.\n",
    "f.close()"
   ]
  },
  {
   "cell_type": "code",
   "execution_count": 30,
   "id": "85bceccb",
   "metadata": {
    "heading_collapsed": "false"
   },
   "outputs": [],
   "source": [
    "#dba\n",
    "df = pd.DataFrame(np.array(one_cluster_dba_barycenter_48).reshape(10, 530*48))\n",
    "df.shape\n",
    "e = df.to_csv(index=False)\n",
    "f = open('one_cluster_dba_barycenter_48.csv','w')\n",
    "f.write(e) #Give your csv text here.\n",
    "f.close()\n",
    "\n",
    "df = pd.DataFrame(np.array(one_cluster_dba_barycenter_48_no_ntl).reshape(10, 530*48))\n",
    "df.shape\n",
    "e = df.to_csv(index=False)\n",
    "f = open('one_cluster_dba_barycenter_48_no_ntl.csv','w')\n",
    "f.write(e) #Give your csv text here.\n",
    "f.close()\n",
    "\n",
    "df = pd.DataFrame(np.array(one_cluster_dba_barycenter_48_only_ntl).reshape(10, 530*48))\n",
    "df.shape\n",
    "e = df.to_csv(index=False)\n",
    "f = open('one_cluster_dba_barycenter_48_only_ntl.csv','w')\n",
    "f.write(e) #Give your csv text here.\n",
    "f.close()"
   ]
  },
  {
   "cell_type": "code",
   "execution_count": 31,
   "id": "6d737880",
   "metadata": {
    "heading_collapsed": "false"
   },
   "outputs": [],
   "source": [
    "#sdtw\n",
    "df = pd.DataFrame(np.array(one_cluster_sdtw_barycenter_48).reshape(10, 530*48))\n",
    "df.shape\n",
    "e = df.to_csv(index=False)\n",
    "f = open('one_cluster_sdtw_barycenter_48.csv','w')\n",
    "f.write(e) #Give your csv text here.\n",
    "f.close()\n",
    "\n",
    "df = pd.DataFrame(np.array(one_cluster_sdtw_barycenter_48_no_ntl).reshape(10, 530*48))\n",
    "df.shape\n",
    "e = df.to_csv(index=False)\n",
    "f = open('one_cluster_sdtw_barycenter_48_no_ntl.csv','w')\n",
    "f.write(e) #Give your csv text here.\n",
    "f.close()\n",
    "\n",
    "df = pd.DataFrame(np.array(one_cluster_sdtw_barycenter_48_only_ntl).reshape(10, 530*48))\n",
    "df.shape\n",
    "e = df.to_csv(index=False)\n",
    "f = open('one_cluster_sdtw_barycenter_48_only_ntl.csv','w')\n",
    "f.write(e) #Give your csv text here.\n",
    "f.close()"
   ]
  },
  {
   "cell_type": "markdown",
   "id": "63206c1f",
   "metadata": {
    "heading_collapsed": "false"
   },
   "source": [
    "## -1 * 48"
   ]
  },
  {
   "cell_type": "code",
   "execution_count": 38,
   "id": "c5e69c14",
   "metadata": {
    "heading_collapsed": "false"
   },
   "outputs": [],
   "source": [
    "#euclidean\n",
    "df = pd.DataFrame(np.array(one_cluster_eu_barycenter).reshape(10,48))\n",
    "df.shape\n",
    "e = df.to_csv(index=False)\n",
    "f = open('one_cluster_eu_barycenter.csv','w')\n",
    "f.write(e) #Give your csv text here.\n",
    "f.close()\n",
    "\n",
    "df = pd.DataFrame(np.array(one_cluster_eu_barycenter_no_ntl).reshape(10, 48))\n",
    "df.shape\n",
    "e = df.to_csv(index=False)\n",
    "f = open('one_cluster_eu_barycenter_no_ntl.csv','w')\n",
    "f.write(e) #Give your csv text here.\n",
    "f.close()\n",
    "\n",
    "df = pd.DataFrame(np.array(one_cluster_eu_barycenter_only_ntl).reshape(10, 48))\n",
    "df.shape\n",
    "e = df.to_csv(index=False)\n",
    "f = open('one_cluster_eu_barycenter_only_ntl.csv','w')\n",
    "f.write(e) #Give your csv text here.\n",
    "f.close()"
   ]
  },
  {
   "cell_type": "code",
   "execution_count": 39,
   "id": "b98618c1",
   "metadata": {
    "heading_collapsed": "false"
   },
   "outputs": [],
   "source": [
    "#dba\n",
    "df = pd.DataFrame(np.array(one_cluster_dba_barycenter).reshape(10, 48))\n",
    "df.shape\n",
    "e = df.to_csv(index=False)\n",
    "f = open('one_cluster_dba_barycenter.csv','w')\n",
    "f.write(e) #Give your csv text here.\n",
    "f.close()\n",
    "\n",
    "df = pd.DataFrame(np.array(one_cluster_dba_barycenter_no_ntl).reshape(10, 48))\n",
    "df.shape\n",
    "e = df.to_csv(index=False)\n",
    "f = open('one_cluster_dba_barycenter_no_ntl.csv','w')\n",
    "f.write(e) #Give your csv text here.\n",
    "f.close()\n",
    "\n",
    "df = pd.DataFrame(np.array(one_cluster_dba_barycenter_only_ntl).reshape(10, 48))\n",
    "df.shape\n",
    "e = df.to_csv(index=False)\n",
    "f = open('one_cluster_dba_barycenter_only_ntl.csv','w')\n",
    "f.write(e) #Give your csv text here.\n",
    "f.close()"
   ]
  },
  {
   "cell_type": "code",
   "execution_count": 37,
   "id": "a2336367",
   "metadata": {
    "heading_collapsed": "false"
   },
   "outputs": [],
   "source": [
    "#sdtw\n",
    "df = pd.DataFrame(np.array(one_cluster_sdtw_barycenter).reshape(10, 48))\n",
    "df.shape\n",
    "e = df.to_csv(index=False)\n",
    "f = open('one_cluster_sdtw_barycenter.csv','w')\n",
    "f.write(e) #Give your csv text here.\n",
    "f.close()\n",
    "\n",
    "df = pd.DataFrame(np.array(one_cluster_sdtw_barycenter_no_ntl).reshape(10, 48))\n",
    "df.shape\n",
    "e = df.to_csv(index=False)\n",
    "f = open('one_cluster_sdtw_barycenter_no_ntl.csv','w')\n",
    "f.write(e) #Give your csv text here.\n",
    "f.close()\n",
    "\n",
    "df = pd.DataFrame(np.array(one_cluster_sdtw_barycenter_only_ntl).reshape(10, 48))\n",
    "df.shape\n",
    "e = df.to_csv(index=False)\n",
    "f = open('one_cluster_sdtw_barycenter_only_ntl.csv','w')\n",
    "f.write(e) #Give your csv text here.\n",
    "f.close()"
   ]
  },
  {
   "cell_type": "code",
   "execution_count": null,
   "id": "5b4edc84",
   "metadata": {},
   "outputs": [],
   "source": []
  }
 ],
 "metadata": {
  "environment": {
   "name": "common-cpu.m71",
   "type": "gcloud",
   "uri": "gcr.io/deeplearning-platform-release/base-cpu:m71"
  },
  "kernelspec": {
   "display_name": "Python 3",
   "language": "python",
   "name": "python3"
  },
  "language_info": {
   "codemirror_mode": {
    "name": "ipython",
    "version": 3
   },
   "file_extension": ".py",
   "mimetype": "text/x-python",
   "name": "python",
   "nbconvert_exporter": "python",
   "pygments_lexer": "ipython3",
   "version": "3.9.4"
  },
  "widgets": {
   "application/vnd.jupyter.widget-state+json": {
    "state": {
     "0160ba22307042bfb988b07440409846": {
      "model_module": "@jupyter-widgets/base",
      "model_module_version": "1.2.0",
      "model_name": "LayoutModel",
      "state": {}
     },
     "028793704a3941c9b7db6da55ffb89bc": {
      "model_module": "@jupyter-widgets/controls",
      "model_module_version": "1.5.0",
      "model_name": "FloatProgressModel",
      "state": {
       "bar_style": "danger",
       "layout": "IPY_MODEL_79a5ca3f80e4496ea044be5ebd4317f8",
       "max": 10,
       "style": "IPY_MODEL_d888fe3231c0439faf5c85559913b7e1"
      }
     },
     "058ae65112404c158a405f3b0277ff64": {
      "model_module": "@jupyter-widgets/controls",
      "model_module_version": "1.5.0",
      "model_name": "FloatProgressModel",
      "state": {
       "bar_style": "success",
       "layout": "IPY_MODEL_805a7b86c87448339f8f146a506ae598",
       "max": 10,
       "style": "IPY_MODEL_5a54032159624240a3041fd027ab13c2",
       "value": 10
      }
     },
     "05f5dc43433d4fd1b23c6d73ef90c65a": {
      "model_module": "@jupyter-widgets/controls",
      "model_module_version": "1.5.0",
      "model_name": "FloatProgressModel",
      "state": {
       "bar_style": "success",
       "layout": "IPY_MODEL_977d38daabca4230a909088fa7cb2475",
       "max": 10,
       "style": "IPY_MODEL_b40702a4242146b38aa9c627420ba620",
       "value": 10
      }
     },
     "08624ba7d98840dcb0e72a0bb1d944a0": {
      "model_module": "@jupyter-widgets/controls",
      "model_module_version": "1.5.0",
      "model_name": "ProgressStyleModel",
      "state": {
       "description_width": ""
      }
     },
     "08dd9be0a4d849a8a40c607df2114e72": {
      "model_module": "@jupyter-widgets/controls",
      "model_module_version": "1.5.0",
      "model_name": "HTMLModel",
      "state": {
       "layout": "IPY_MODEL_248bf3d584e643158c7f14f5ccb1473b",
       "style": "IPY_MODEL_12ddb635801d4b339f12455319a41e3c",
       "value": " 0/10 [00:00&lt;?, ?it/s]"
      }
     },
     "0b47b07572ed4e02aed4e5afd594caa3": {
      "model_module": "@jupyter-widgets/controls",
      "model_module_version": "1.5.0",
      "model_name": "HBoxModel",
      "state": {
       "children": [
        "IPY_MODEL_db1bed8af1734d5392d40eb12ff92c96",
        "IPY_MODEL_058ae65112404c158a405f3b0277ff64",
        "IPY_MODEL_fdb2c57eadee4a8ab6c5d8f9414aaebe"
       ],
       "layout": "IPY_MODEL_9045e6bfe63b464d851b8d732cb64231"
      }
     },
     "0b5d9849ddfd49d98359089c00d62ce0": {
      "model_module": "@jupyter-widgets/controls",
      "model_module_version": "1.5.0",
      "model_name": "ProgressStyleModel",
      "state": {
       "description_width": ""
      }
     },
     "0be667dd898e46998c698c18cdba9d5c": {
      "model_module": "@jupyter-widgets/controls",
      "model_module_version": "1.5.0",
      "model_name": "HTMLModel",
      "state": {
       "layout": "IPY_MODEL_92bfc1feb9a34d8e925dfac93f2f3106",
       "style": "IPY_MODEL_61c38ea9a5fb4bbba7fc81c7b8b7976f",
       "value": "100%"
      }
     },
     "0f2c28cb90eb4eca9ed1f34b1901fb3e": {
      "model_module": "@jupyter-widgets/base",
      "model_module_version": "1.2.0",
      "model_name": "LayoutModel",
      "state": {}
     },
     "111c5b98d9434b62883b1c5ee498bcd6": {
      "model_module": "@jupyter-widgets/base",
      "model_module_version": "1.2.0",
      "model_name": "LayoutModel",
      "state": {}
     },
     "113e5980129c4b25841b36885c37a8f4": {
      "model_module": "@jupyter-widgets/controls",
      "model_module_version": "1.5.0",
      "model_name": "DescriptionStyleModel",
      "state": {
       "description_width": ""
      }
     },
     "12ddb635801d4b339f12455319a41e3c": {
      "model_module": "@jupyter-widgets/controls",
      "model_module_version": "1.5.0",
      "model_name": "DescriptionStyleModel",
      "state": {
       "description_width": ""
      }
     },
     "13446290696444c1935ac1c08ac03cef": {
      "model_module": "@jupyter-widgets/controls",
      "model_module_version": "1.5.0",
      "model_name": "HTMLModel",
      "state": {
       "layout": "IPY_MODEL_38de92d684e34693915ba4756b0ec10a",
       "style": "IPY_MODEL_ab2a84ad451e4b6fa3bfbf6a30c8d14f",
       "value": "  0%"
      }
     },
     "13e7eef8bb2b48dfbba21bdb0ded491f": {
      "model_module": "@jupyter-widgets/controls",
      "model_module_version": "1.5.0",
      "model_name": "DescriptionStyleModel",
      "state": {
       "description_width": ""
      }
     },
     "150a51da23f74812ad6f0cab3efb5df0": {
      "model_module": "@jupyter-widgets/base",
      "model_module_version": "1.2.0",
      "model_name": "LayoutModel",
      "state": {}
     },
     "1544fd1539e3433a8753a41f088c2839": {
      "model_module": "@jupyter-widgets/base",
      "model_module_version": "1.2.0",
      "model_name": "LayoutModel",
      "state": {}
     },
     "182b778ab5f6410aac400723ce7b4297": {
      "model_module": "@jupyter-widgets/controls",
      "model_module_version": "1.5.0",
      "model_name": "DescriptionStyleModel",
      "state": {
       "description_width": ""
      }
     },
     "1a0043f84b4d45c5ae71e68256c821d7": {
      "model_module": "@jupyter-widgets/base",
      "model_module_version": "1.2.0",
      "model_name": "LayoutModel",
      "state": {}
     },
     "1a40d9b87ff942b9802bc6081b6f30db": {
      "model_module": "@jupyter-widgets/controls",
      "model_module_version": "1.5.0",
      "model_name": "FloatProgressModel",
      "state": {
       "bar_style": "danger",
       "layout": "IPY_MODEL_64f5ea355f234fb39423c29fc6d9d3ce",
       "max": 10,
       "style": "IPY_MODEL_0b5d9849ddfd49d98359089c00d62ce0"
      }
     },
     "1df89184f7fc45de9229e078e9563ab3": {
      "model_module": "@jupyter-widgets/base",
      "model_module_version": "1.2.0",
      "model_name": "LayoutModel",
      "state": {}
     },
     "1e3221dac6474e06968d1dd6ad4307ae": {
      "model_module": "@jupyter-widgets/controls",
      "model_module_version": "1.5.0",
      "model_name": "HTMLModel",
      "state": {
       "layout": "IPY_MODEL_9b742883a26e456c904b949536a98aaa",
       "style": "IPY_MODEL_36c914ac9cbc4128bae1f47977010080",
       "value": " 10/10 [00:00&lt;00:00, 413.07it/s]"
      }
     },
     "1ec6ca44c9c64e95a036940aa64138fd": {
      "model_module": "@jupyter-widgets/controls",
      "model_module_version": "1.5.0",
      "model_name": "DescriptionStyleModel",
      "state": {
       "description_width": ""
      }
     },
     "21c9c2eb065940dd9a188a8d7cdab49b": {
      "model_module": "@jupyter-widgets/controls",
      "model_module_version": "1.5.0",
      "model_name": "HTMLModel",
      "state": {
       "layout": "IPY_MODEL_35eff1d5603d40d1893f29928943f745",
       "style": "IPY_MODEL_e78da3962be24b2eb70946f2fa0b4fce",
       "value": "100%"
      }
     },
     "2410c2c7002b46c88c68c2b0a14d64b9": {
      "model_module": "@jupyter-widgets/controls",
      "model_module_version": "1.5.0",
      "model_name": "FloatProgressModel",
      "state": {
       "bar_style": "success",
       "layout": "IPY_MODEL_1df89184f7fc45de9229e078e9563ab3",
       "max": 10,
       "style": "IPY_MODEL_08624ba7d98840dcb0e72a0bb1d944a0",
       "value": 10
      }
     },
     "248bf3d584e643158c7f14f5ccb1473b": {
      "model_module": "@jupyter-widgets/base",
      "model_module_version": "1.2.0",
      "model_name": "LayoutModel",
      "state": {}
     },
     "273adb2c834944e3b8ce73b840183237": {
      "model_module": "@jupyter-widgets/controls",
      "model_module_version": "1.5.0",
      "model_name": "DescriptionStyleModel",
      "state": {
       "description_width": ""
      }
     },
     "2805321b766e4f7b9d4d8095e1a2214f": {
      "model_module": "@jupyter-widgets/controls",
      "model_module_version": "1.5.0",
      "model_name": "ProgressStyleModel",
      "state": {
       "description_width": ""
      }
     },
     "29aaf75fb0d54c89837b0e60d606ccb4": {
      "model_module": "@jupyter-widgets/controls",
      "model_module_version": "1.5.0",
      "model_name": "DescriptionStyleModel",
      "state": {
       "description_width": ""
      }
     },
     "2a9ae0a8ebd94cb4983529750a45d8cb": {
      "model_module": "@jupyter-widgets/controls",
      "model_module_version": "1.5.0",
      "model_name": "HBoxModel",
      "state": {
       "children": [
        "IPY_MODEL_b82b925cb1c44df79a8b246b7169a312",
        "IPY_MODEL_8bd7bbddfd0b4cd6b3b5c060f74f934b",
        "IPY_MODEL_08dd9be0a4d849a8a40c607df2114e72"
       ],
       "layout": "IPY_MODEL_35d826c858044300b50edf119117725e"
      }
     },
     "2c31089a4d3d4b958c3c7ba5db921943": {
      "model_module": "@jupyter-widgets/controls",
      "model_module_version": "1.5.0",
      "model_name": "HBoxModel",
      "state": {
       "children": [
        "IPY_MODEL_593ea1114de648e2a921defd7d2bfd29",
        "IPY_MODEL_05f5dc43433d4fd1b23c6d73ef90c65a",
        "IPY_MODEL_d59108cfaed94608993d7df266d9fbdc"
       ],
       "layout": "IPY_MODEL_82656a208d494f8cb4940a64f6c460a5"
      }
     },
     "2e3f1e130f9648dfa9479f8943ebe451": {
      "model_module": "@jupyter-widgets/controls",
      "model_module_version": "1.5.0",
      "model_name": "HTMLModel",
      "state": {
       "layout": "IPY_MODEL_9867d718c6c54a3ab8fbcecab928379c",
       "style": "IPY_MODEL_9cd18b998969458da18af80f12e010c1",
       "value": " 0/10 [00:00&lt;?, ?it/s]"
      }
     },
     "2edb959a188743e999d3e25bcdfff565": {
      "model_module": "@jupyter-widgets/base",
      "model_module_version": "1.2.0",
      "model_name": "LayoutModel",
      "state": {}
     },
     "2f6b440b71674110ad54cf0f2ddf994b": {
      "model_module": "@jupyter-widgets/controls",
      "model_module_version": "1.5.0",
      "model_name": "HTMLModel",
      "state": {
       "layout": "IPY_MODEL_ee1a339e0a04417eb68d898c70488d9c",
       "style": "IPY_MODEL_29aaf75fb0d54c89837b0e60d606ccb4",
       "value": "  0%"
      }
     },
     "2fb7c405be594ed0acc3685da74d616d": {
      "model_module": "@jupyter-widgets/controls",
      "model_module_version": "1.5.0",
      "model_name": "ProgressStyleModel",
      "state": {
       "description_width": ""
      }
     },
     "35d826c858044300b50edf119117725e": {
      "model_module": "@jupyter-widgets/base",
      "model_module_version": "1.2.0",
      "model_name": "LayoutModel",
      "state": {}
     },
     "35eff1d5603d40d1893f29928943f745": {
      "model_module": "@jupyter-widgets/base",
      "model_module_version": "1.2.0",
      "model_name": "LayoutModel",
      "state": {}
     },
     "36c914ac9cbc4128bae1f47977010080": {
      "model_module": "@jupyter-widgets/controls",
      "model_module_version": "1.5.0",
      "model_name": "DescriptionStyleModel",
      "state": {
       "description_width": ""
      }
     },
     "36f4f40d452e41cc9e02565b5f09eb0f": {
      "model_module": "@jupyter-widgets/controls",
      "model_module_version": "1.5.0",
      "model_name": "DescriptionStyleModel",
      "state": {
       "description_width": ""
      }
     },
     "37a6d69bb25c4180a2dcaa2eebcd03a2": {
      "model_module": "@jupyter-widgets/controls",
      "model_module_version": "1.5.0",
      "model_name": "ProgressStyleModel",
      "state": {
       "description_width": ""
      }
     },
     "38de92d684e34693915ba4756b0ec10a": {
      "model_module": "@jupyter-widgets/base",
      "model_module_version": "1.2.0",
      "model_name": "LayoutModel",
      "state": {}
     },
     "39d67caf214d4e47a1002bb4d52763ab": {
      "model_module": "@jupyter-widgets/controls",
      "model_module_version": "1.5.0",
      "model_name": "DescriptionStyleModel",
      "state": {
       "description_width": ""
      }
     },
     "3b859923c3d04f689e49bb586648dae6": {
      "model_module": "@jupyter-widgets/controls",
      "model_module_version": "1.5.0",
      "model_name": "HTMLModel",
      "state": {
       "layout": "IPY_MODEL_1a0043f84b4d45c5ae71e68256c821d7",
       "style": "IPY_MODEL_89f0e52f4b324334b8baa7a5cc3a44a5",
       "value": "  0%"
      }
     },
     "3e3dc695ebfc4a6abe417837d7a86cd9": {
      "model_module": "@jupyter-widgets/controls",
      "model_module_version": "1.5.0",
      "model_name": "HBoxModel",
      "state": {
       "children": [
        "IPY_MODEL_63b8b5d96f164ee1898caa4544cfc378",
        "IPY_MODEL_c6e743294bee4d26afb28bd09dc8ea72",
        "IPY_MODEL_2e3f1e130f9648dfa9479f8943ebe451"
       ],
       "layout": "IPY_MODEL_9d391432448540458b460b2d8f715ff7"
      }
     },
     "3e4bb31b1efb48b3a022716ae0d90976": {
      "model_module": "@jupyter-widgets/controls",
      "model_module_version": "1.5.0",
      "model_name": "HBoxModel",
      "state": {
       "children": [
        "IPY_MODEL_21c9c2eb065940dd9a188a8d7cdab49b",
        "IPY_MODEL_e2dff83d546a45c39604544f1e835866",
        "IPY_MODEL_1e3221dac6474e06968d1dd6ad4307ae"
       ],
       "layout": "IPY_MODEL_da1f3ac50ed24e95a74656ff18b8df91"
      }
     },
     "427afe2082c446738469d8993dff5990": {
      "model_module": "@jupyter-widgets/base",
      "model_module_version": "1.2.0",
      "model_name": "LayoutModel",
      "state": {}
     },
     "440def59890d41a68189252f2aa86839": {
      "model_module": "@jupyter-widgets/controls",
      "model_module_version": "1.5.0",
      "model_name": "HTMLModel",
      "state": {
       "layout": "IPY_MODEL_d1d1fb66991d42bd91facbf2f9ab5814",
       "style": "IPY_MODEL_b1bd46c58c884f7db178782407e97136",
       "value": " 0/10 [00:35&lt;?, ?it/s]"
      }
     },
     "45d71df4564648ba9935074e6c967128": {
      "model_module": "@jupyter-widgets/base",
      "model_module_version": "1.2.0",
      "model_name": "LayoutModel",
      "state": {}
     },
     "45f2272855fb4a1ca38c371943d5ebd7": {
      "model_module": "@jupyter-widgets/base",
      "model_module_version": "1.2.0",
      "model_name": "LayoutModel",
      "state": {}
     },
     "46c838a7796e4541bd2f1cdbf5ca19d2": {
      "model_module": "@jupyter-widgets/base",
      "model_module_version": "1.2.0",
      "model_name": "LayoutModel",
      "state": {}
     },
     "46cc0345b83841c599e5ae367e9dc9ed": {
      "model_module": "@jupyter-widgets/controls",
      "model_module_version": "1.5.0",
      "model_name": "HBoxModel",
      "state": {
       "children": [
        "IPY_MODEL_eb85d75d850d46459d21cd0755f91226",
        "IPY_MODEL_c461489e68f74f20a3b69fcb55c21f51",
        "IPY_MODEL_79a2d440806a48cab28f04a6a9820427"
       ],
       "layout": "IPY_MODEL_a595f7bdaf5a4eb2a5bd9fa11a7e1c7e"
      }
     },
     "480fa591e98e4839a41167db5fbad7c2": {
      "model_module": "@jupyter-widgets/controls",
      "model_module_version": "1.5.0",
      "model_name": "DescriptionStyleModel",
      "state": {
       "description_width": ""
      }
     },
     "4ca11549ead046f28a14558e805ed8b4": {
      "model_module": "@jupyter-widgets/controls",
      "model_module_version": "1.5.0",
      "model_name": "HTMLModel",
      "state": {
       "layout": "IPY_MODEL_5432114ad8194459b4670640efacdc54",
       "style": "IPY_MODEL_480fa591e98e4839a41167db5fbad7c2",
       "value": "  0%"
      }
     },
     "4d24e43c40a6486688684cec3c4c677f": {
      "model_module": "@jupyter-widgets/base",
      "model_module_version": "1.2.0",
      "model_name": "LayoutModel",
      "state": {}
     },
     "53154c5cb0c14d519a7e4305a9939e59": {
      "model_module": "@jupyter-widgets/base",
      "model_module_version": "1.2.0",
      "model_name": "LayoutModel",
      "state": {}
     },
     "5432114ad8194459b4670640efacdc54": {
      "model_module": "@jupyter-widgets/base",
      "model_module_version": "1.2.0",
      "model_name": "LayoutModel",
      "state": {}
     },
     "54987f147f8844d29c76f962d1cc1b85": {
      "model_module": "@jupyter-widgets/base",
      "model_module_version": "1.2.0",
      "model_name": "LayoutModel",
      "state": {}
     },
     "57830f867dd8446d9e970d43deb958f3": {
      "model_module": "@jupyter-widgets/controls",
      "model_module_version": "1.5.0",
      "model_name": "ProgressStyleModel",
      "state": {
       "description_width": ""
      }
     },
     "5899dd9df5374913860343056cf2d36f": {
      "model_module": "@jupyter-widgets/controls",
      "model_module_version": "1.5.0",
      "model_name": "HTMLModel",
      "state": {
       "layout": "IPY_MODEL_a881a69bf44d42f18a4a267c6e5828df",
       "style": "IPY_MODEL_f05d66f8dbb24a94ac1f8ee151c52eb0",
       "value": " 10/10 [00:00&lt;00:00, 406.63it/s]"
      }
     },
     "593ea1114de648e2a921defd7d2bfd29": {
      "model_module": "@jupyter-widgets/controls",
      "model_module_version": "1.5.0",
      "model_name": "HTMLModel",
      "state": {
       "layout": "IPY_MODEL_9f13ada3d6094b6da801be4d96d272f5",
       "style": "IPY_MODEL_997ce3f5a1f64c65b32424b89e78a69c",
       "value": "100%"
      }
     },
     "5a54032159624240a3041fd027ab13c2": {
      "model_module": "@jupyter-widgets/controls",
      "model_module_version": "1.5.0",
      "model_name": "ProgressStyleModel",
      "state": {
       "description_width": ""
      }
     },
     "5a74266d64ae4a5a9e4e502cc2b5e0bb": {
      "model_module": "@jupyter-widgets/controls",
      "model_module_version": "1.5.0",
      "model_name": "DescriptionStyleModel",
      "state": {
       "description_width": ""
      }
     },
     "5c221ee4a909464c974df2f95f03ccdb": {
      "model_module": "@jupyter-widgets/base",
      "model_module_version": "1.2.0",
      "model_name": "LayoutModel",
      "state": {}
     },
     "604d259e2de84ed3afcc4dce920c515d": {
      "model_module": "@jupyter-widgets/controls",
      "model_module_version": "1.5.0",
      "model_name": "HTMLModel",
      "state": {
       "layout": "IPY_MODEL_bd44bd9a57c64b65973e1782e4bea401",
       "style": "IPY_MODEL_b2e0ca85e4554b10a01e6158a39a72fc",
       "value": " 0/10 [00:00&lt;?, ?it/s]"
      }
     },
     "61c38ea9a5fb4bbba7fc81c7b8b7976f": {
      "model_module": "@jupyter-widgets/controls",
      "model_module_version": "1.5.0",
      "model_name": "DescriptionStyleModel",
      "state": {
       "description_width": ""
      }
     },
     "63b8b5d96f164ee1898caa4544cfc378": {
      "model_module": "@jupyter-widgets/controls",
      "model_module_version": "1.5.0",
      "model_name": "HTMLModel",
      "state": {
       "layout": "IPY_MODEL_ee366e58426841b7b63772146e9d276f",
       "style": "IPY_MODEL_182b778ab5f6410aac400723ce7b4297",
       "value": "  0%"
      }
     },
     "6442d16a30944e9cbb1484cfa4fa667b": {
      "model_module": "@jupyter-widgets/base",
      "model_module_version": "1.2.0",
      "model_name": "LayoutModel",
      "state": {}
     },
     "64f5ea355f234fb39423c29fc6d9d3ce": {
      "model_module": "@jupyter-widgets/base",
      "model_module_version": "1.2.0",
      "model_name": "LayoutModel",
      "state": {}
     },
     "6e9320d0966847dd888a94978291ae49": {
      "model_module": "@jupyter-widgets/controls",
      "model_module_version": "1.5.0",
      "model_name": "HTMLModel",
      "state": {
       "layout": "IPY_MODEL_45f2272855fb4a1ca38c371943d5ebd7",
       "style": "IPY_MODEL_39d67caf214d4e47a1002bb4d52763ab",
       "value": " 0/10 [00:34&lt;?, ?it/s]"
      }
     },
     "6f319527cb0743549c2933cc2c9afb4f": {
      "model_module": "@jupyter-widgets/controls",
      "model_module_version": "1.5.0",
      "model_name": "HTMLModel",
      "state": {
       "layout": "IPY_MODEL_4d24e43c40a6486688684cec3c4c677f",
       "style": "IPY_MODEL_ab82bc4b9b4043e299cd30726a6b655e",
       "value": "  0%"
      }
     },
     "713c61fe951140329ba483fab106b7bb": {
      "model_module": "@jupyter-widgets/base",
      "model_module_version": "1.2.0",
      "model_name": "LayoutModel",
      "state": {}
     },
     "72a30f390cf54fe5b5b256bf9eba62e1": {
      "model_module": "@jupyter-widgets/controls",
      "model_module_version": "1.5.0",
      "model_name": "HBoxModel",
      "state": {
       "children": [
        "IPY_MODEL_13446290696444c1935ac1c08ac03cef",
        "IPY_MODEL_a6b311be8b644b669d17f4c59e6439f2",
        "IPY_MODEL_da21d202c8b9441a8d1bbcd6491524b2"
       ],
       "layout": "IPY_MODEL_46c838a7796e4541bd2f1cdbf5ca19d2"
      }
     },
     "72e3ea3de4b44ec79f788d1d3efa8eb3": {
      "model_module": "@jupyter-widgets/controls",
      "model_module_version": "1.5.0",
      "model_name": "DescriptionStyleModel",
      "state": {
       "description_width": ""
      }
     },
     "7454dc9f32b048aaa5f4de294595c912": {
      "model_module": "@jupyter-widgets/base",
      "model_module_version": "1.2.0",
      "model_name": "LayoutModel",
      "state": {}
     },
     "7585f2a157464741a23db2ffe34206c7": {
      "model_module": "@jupyter-widgets/base",
      "model_module_version": "1.2.0",
      "model_name": "LayoutModel",
      "state": {}
     },
     "76b5dd522e17425db69fd0a006bfde5b": {
      "model_module": "@jupyter-widgets/controls",
      "model_module_version": "1.5.0",
      "model_name": "ProgressStyleModel",
      "state": {
       "description_width": ""
      }
     },
     "78beb4ea55b24f04ae693c30fbad8efa": {
      "model_module": "@jupyter-widgets/controls",
      "model_module_version": "1.5.0",
      "model_name": "ProgressStyleModel",
      "state": {
       "description_width": ""
      }
     },
     "79a2d440806a48cab28f04a6a9820427": {
      "model_module": "@jupyter-widgets/controls",
      "model_module_version": "1.5.0",
      "model_name": "HTMLModel",
      "state": {
       "layout": "IPY_MODEL_eabc29bb72774ef9a3f385804b0349cc",
       "style": "IPY_MODEL_9795b6492e9a436bb1099d71427d8d72",
       "value": " 0/10 [00:00&lt;?, ?it/s]"
      }
     },
     "79a5ca3f80e4496ea044be5ebd4317f8": {
      "model_module": "@jupyter-widgets/base",
      "model_module_version": "1.2.0",
      "model_name": "LayoutModel",
      "state": {}
     },
     "7a25359d6ae343bb835c888fce121c55": {
      "model_module": "@jupyter-widgets/controls",
      "model_module_version": "1.5.0",
      "model_name": "DescriptionStyleModel",
      "state": {
       "description_width": ""
      }
     },
     "7b81388d14e74d91b2fd171b47495e4e": {
      "model_module": "@jupyter-widgets/controls",
      "model_module_version": "1.5.0",
      "model_name": "HBoxModel",
      "state": {
       "children": [
        "IPY_MODEL_b9a7f788dec94c6e972fb3b379e9f351",
        "IPY_MODEL_7d1181d99df74caeb51ec6d900cd323d",
        "IPY_MODEL_dc53a922f5c34dacb08248a7e01aa5a6"
       ],
       "layout": "IPY_MODEL_713c61fe951140329ba483fab106b7bb"
      }
     },
     "7d1181d99df74caeb51ec6d900cd323d": {
      "model_module": "@jupyter-widgets/controls",
      "model_module_version": "1.5.0",
      "model_name": "FloatProgressModel",
      "state": {
       "bar_style": "success",
       "layout": "IPY_MODEL_0f2c28cb90eb4eca9ed1f34b1901fb3e",
       "max": 10,
       "style": "IPY_MODEL_37a6d69bb25c4180a2dcaa2eebcd03a2",
       "value": 10
      }
     },
     "7ff9a7b90a5f4f79a5d8585cdc59e0b0": {
      "model_module": "@jupyter-widgets/base",
      "model_module_version": "1.2.0",
      "model_name": "LayoutModel",
      "state": {}
     },
     "805a7b86c87448339f8f146a506ae598": {
      "model_module": "@jupyter-widgets/base",
      "model_module_version": "1.2.0",
      "model_name": "LayoutModel",
      "state": {}
     },
     "80db7b164c1f483fa12d942503ba6849": {
      "model_module": "@jupyter-widgets/controls",
      "model_module_version": "1.5.0",
      "model_name": "DescriptionStyleModel",
      "state": {
       "description_width": ""
      }
     },
     "82656a208d494f8cb4940a64f6c460a5": {
      "model_module": "@jupyter-widgets/base",
      "model_module_version": "1.2.0",
      "model_name": "LayoutModel",
      "state": {}
     },
     "84d9f7793f5048e5952ac01169132e91": {
      "model_module": "@jupyter-widgets/controls",
      "model_module_version": "1.5.0",
      "model_name": "HTMLModel",
      "state": {
       "layout": "IPY_MODEL_54987f147f8844d29c76f962d1cc1b85",
       "style": "IPY_MODEL_1ec6ca44c9c64e95a036940aa64138fd",
       "value": "  0%"
      }
     },
     "89f0e52f4b324334b8baa7a5cc3a44a5": {
      "model_module": "@jupyter-widgets/controls",
      "model_module_version": "1.5.0",
      "model_name": "DescriptionStyleModel",
      "state": {
       "description_width": ""
      }
     },
     "8bd7bbddfd0b4cd6b3b5c060f74f934b": {
      "model_module": "@jupyter-widgets/controls",
      "model_module_version": "1.5.0",
      "model_name": "FloatProgressModel",
      "state": {
       "layout": "IPY_MODEL_bab03d0a4c4143229b137e881ba845ca",
       "max": 10,
       "style": "IPY_MODEL_b545e497e7574812a3b97c611de76c8d"
      }
     },
     "9045e6bfe63b464d851b8d732cb64231": {
      "model_module": "@jupyter-widgets/base",
      "model_module_version": "1.2.0",
      "model_name": "LayoutModel",
      "state": {}
     },
     "92bfc1feb9a34d8e925dfac93f2f3106": {
      "model_module": "@jupyter-widgets/base",
      "model_module_version": "1.2.0",
      "model_name": "LayoutModel",
      "state": {}
     },
     "941ceecde5af4c88aeee40c151cdaa0e": {
      "model_module": "@jupyter-widgets/base",
      "model_module_version": "1.2.0",
      "model_name": "LayoutModel",
      "state": {}
     },
     "962eb3d06fac4d56b1b4e7ec5183ed5c": {
      "model_module": "@jupyter-widgets/controls",
      "model_module_version": "1.5.0",
      "model_name": "DescriptionStyleModel",
      "state": {
       "description_width": ""
      }
     },
     "96a625744fda4821af5e110877607e99": {
      "model_module": "@jupyter-widgets/controls",
      "model_module_version": "1.5.0",
      "model_name": "FloatProgressModel",
      "state": {
       "bar_style": "danger",
       "layout": "IPY_MODEL_9a04c20f7c504bbdb6c1bc03f8aec178",
       "max": 10,
       "style": "IPY_MODEL_c56ee2fe983443cb906cc82b8d1e8d84"
      }
     },
     "977d38daabca4230a909088fa7cb2475": {
      "model_module": "@jupyter-widgets/base",
      "model_module_version": "1.2.0",
      "model_name": "LayoutModel",
      "state": {}
     },
     "9795b6492e9a436bb1099d71427d8d72": {
      "model_module": "@jupyter-widgets/controls",
      "model_module_version": "1.5.0",
      "model_name": "DescriptionStyleModel",
      "state": {
       "description_width": ""
      }
     },
     "9867d718c6c54a3ab8fbcecab928379c": {
      "model_module": "@jupyter-widgets/base",
      "model_module_version": "1.2.0",
      "model_name": "LayoutModel",
      "state": {}
     },
     "997ce3f5a1f64c65b32424b89e78a69c": {
      "model_module": "@jupyter-widgets/controls",
      "model_module_version": "1.5.0",
      "model_name": "DescriptionStyleModel",
      "state": {
       "description_width": ""
      }
     },
     "9a04c20f7c504bbdb6c1bc03f8aec178": {
      "model_module": "@jupyter-widgets/base",
      "model_module_version": "1.2.0",
      "model_name": "LayoutModel",
      "state": {}
     },
     "9a1b681815cf4570bdd0ae8495d22a0a": {
      "model_module": "@jupyter-widgets/base",
      "model_module_version": "1.2.0",
      "model_name": "LayoutModel",
      "state": {}
     },
     "9b742883a26e456c904b949536a98aaa": {
      "model_module": "@jupyter-widgets/base",
      "model_module_version": "1.2.0",
      "model_name": "LayoutModel",
      "state": {}
     },
     "9cd18b998969458da18af80f12e010c1": {
      "model_module": "@jupyter-widgets/controls",
      "model_module_version": "1.5.0",
      "model_name": "DescriptionStyleModel",
      "state": {
       "description_width": ""
      }
     },
     "9d0538720b924a41810d68eae81931c0": {
      "model_module": "@jupyter-widgets/controls",
      "model_module_version": "1.5.0",
      "model_name": "HTMLModel",
      "state": {
       "layout": "IPY_MODEL_7454dc9f32b048aaa5f4de294595c912",
       "style": "IPY_MODEL_113e5980129c4b25841b36885c37a8f4",
       "value": " 0/10 [00:34&lt;?, ?it/s]"
      }
     },
     "9d391432448540458b460b2d8f715ff7": {
      "model_module": "@jupyter-widgets/base",
      "model_module_version": "1.2.0",
      "model_name": "LayoutModel",
      "state": {}
     },
     "9f13ada3d6094b6da801be4d96d272f5": {
      "model_module": "@jupyter-widgets/base",
      "model_module_version": "1.2.0",
      "model_name": "LayoutModel",
      "state": {}
     },
     "a089414aa42745b483636ff5bde36758": {
      "model_module": "@jupyter-widgets/controls",
      "model_module_version": "1.5.0",
      "model_name": "FloatProgressModel",
      "state": {
       "bar_style": "danger",
       "layout": "IPY_MODEL_caa372db863d4aef98620b496ce2e58a",
       "max": 10,
       "style": "IPY_MODEL_78beb4ea55b24f04ae693c30fbad8efa"
      }
     },
     "a2480d1cb7a74582b1fa260165dbb275": {
      "model_module": "@jupyter-widgets/controls",
      "model_module_version": "1.5.0",
      "model_name": "DescriptionStyleModel",
      "state": {
       "description_width": ""
      }
     },
     "a4197da2e3e843888dc66a2aea4156bc": {
      "model_module": "@jupyter-widgets/controls",
      "model_module_version": "1.5.0",
      "model_name": "HBoxModel",
      "state": {
       "children": [
        "IPY_MODEL_3b859923c3d04f689e49bb586648dae6",
        "IPY_MODEL_96a625744fda4821af5e110877607e99",
        "IPY_MODEL_d094d014e8d646a3be133eac502eea0e"
       ],
       "layout": "IPY_MODEL_45d71df4564648ba9935074e6c967128"
      }
     },
     "a595f7bdaf5a4eb2a5bd9fa11a7e1c7e": {
      "model_module": "@jupyter-widgets/base",
      "model_module_version": "1.2.0",
      "model_name": "LayoutModel",
      "state": {}
     },
     "a6b311be8b644b669d17f4c59e6439f2": {
      "model_module": "@jupyter-widgets/controls",
      "model_module_version": "1.5.0",
      "model_name": "FloatProgressModel",
      "state": {
       "bar_style": "danger",
       "layout": "IPY_MODEL_ea8816c8cf6f41a3a19038c17896b4b6",
       "max": 10,
       "style": "IPY_MODEL_2fb7c405be594ed0acc3685da74d616d"
      }
     },
     "a81c5e027bbd4c3dbd0a4a1af40a8d96": {
      "model_module": "@jupyter-widgets/controls",
      "model_module_version": "1.5.0",
      "model_name": "HTMLModel",
      "state": {
       "layout": "IPY_MODEL_c6c88a2dde4d402795c3d8c5d524e063",
       "style": "IPY_MODEL_13e7eef8bb2b48dfbba21bdb0ded491f",
       "value": "  0%"
      }
     },
     "a881a69bf44d42f18a4a267c6e5828df": {
      "model_module": "@jupyter-widgets/base",
      "model_module_version": "1.2.0",
      "model_name": "LayoutModel",
      "state": {}
     },
     "ab2a84ad451e4b6fa3bfbf6a30c8d14f": {
      "model_module": "@jupyter-widgets/controls",
      "model_module_version": "1.5.0",
      "model_name": "DescriptionStyleModel",
      "state": {
       "description_width": ""
      }
     },
     "ab82bc4b9b4043e299cd30726a6b655e": {
      "model_module": "@jupyter-widgets/controls",
      "model_module_version": "1.5.0",
      "model_name": "DescriptionStyleModel",
      "state": {
       "description_width": ""
      }
     },
     "ac7eb723764743bb9c8535889f5ab1ad": {
      "model_module": "@jupyter-widgets/controls",
      "model_module_version": "1.5.0",
      "model_name": "ProgressStyleModel",
      "state": {
       "description_width": ""
      }
     },
     "b1a8431fb1d5409ea027db23c898ee6b": {
      "model_module": "@jupyter-widgets/controls",
      "model_module_version": "1.5.0",
      "model_name": "HBoxModel",
      "state": {
       "children": [
        "IPY_MODEL_84d9f7793f5048e5952ac01169132e91",
        "IPY_MODEL_e6450fdcf147494aa8370ddeda3e6483",
        "IPY_MODEL_9d0538720b924a41810d68eae81931c0"
       ],
       "layout": "IPY_MODEL_e2cbe58961d6490cae6815fb31bfe5b1"
      }
     },
     "b1bd46c58c884f7db178782407e97136": {
      "model_module": "@jupyter-widgets/controls",
      "model_module_version": "1.5.0",
      "model_name": "DescriptionStyleModel",
      "state": {
       "description_width": ""
      }
     },
     "b2e0ca85e4554b10a01e6158a39a72fc": {
      "model_module": "@jupyter-widgets/controls",
      "model_module_version": "1.5.0",
      "model_name": "DescriptionStyleModel",
      "state": {
       "description_width": ""
      }
     },
     "b40702a4242146b38aa9c627420ba620": {
      "model_module": "@jupyter-widgets/controls",
      "model_module_version": "1.5.0",
      "model_name": "ProgressStyleModel",
      "state": {
       "description_width": ""
      }
     },
     "b545e497e7574812a3b97c611de76c8d": {
      "model_module": "@jupyter-widgets/controls",
      "model_module_version": "1.5.0",
      "model_name": "ProgressStyleModel",
      "state": {
       "description_width": ""
      }
     },
     "b82b925cb1c44df79a8b246b7169a312": {
      "model_module": "@jupyter-widgets/controls",
      "model_module_version": "1.5.0",
      "model_name": "HTMLModel",
      "state": {
       "layout": "IPY_MODEL_f4eb22e21e2a4b9c8925910d9f0fd68d",
       "style": "IPY_MODEL_e5af9088ca034907a6601a28089573eb",
       "value": "  0%"
      }
     },
     "b9a7f788dec94c6e972fb3b379e9f351": {
      "model_module": "@jupyter-widgets/controls",
      "model_module_version": "1.5.0",
      "model_name": "HTMLModel",
      "state": {
       "layout": "IPY_MODEL_5c221ee4a909464c974df2f95f03ccdb",
       "style": "IPY_MODEL_273adb2c834944e3b8ce73b840183237",
       "value": "100%"
      }
     },
     "b9cbb15480414b3095c2449e64054035": {
      "model_module": "@jupyter-widgets/controls",
      "model_module_version": "1.5.0",
      "model_name": "HBoxModel",
      "state": {
       "children": [
        "IPY_MODEL_6f319527cb0743549c2933cc2c9afb4f",
        "IPY_MODEL_028793704a3941c9b7db6da55ffb89bc",
        "IPY_MODEL_604d259e2de84ed3afcc4dce920c515d"
       ],
       "layout": "IPY_MODEL_1544fd1539e3433a8753a41f088c2839"
      }
     },
     "bab03d0a4c4143229b137e881ba845ca": {
      "model_module": "@jupyter-widgets/base",
      "model_module_version": "1.2.0",
      "model_name": "LayoutModel",
      "state": {}
     },
     "bac56f8595304c8da1c525114e6d92cf": {
      "model_module": "@jupyter-widgets/controls",
      "model_module_version": "1.5.0",
      "model_name": "ProgressStyleModel",
      "state": {
       "description_width": ""
      }
     },
     "bc47410791bf4089843499e2d135da4d": {
      "model_module": "@jupyter-widgets/controls",
      "model_module_version": "1.5.0",
      "model_name": "HBoxModel",
      "state": {
       "children": [
        "IPY_MODEL_0be667dd898e46998c698c18cdba9d5c",
        "IPY_MODEL_2410c2c7002b46c88c68c2b0a14d64b9",
        "IPY_MODEL_5899dd9df5374913860343056cf2d36f"
       ],
       "layout": "IPY_MODEL_150a51da23f74812ad6f0cab3efb5df0"
      }
     },
     "bd44bd9a57c64b65973e1782e4bea401": {
      "model_module": "@jupyter-widgets/base",
      "model_module_version": "1.2.0",
      "model_name": "LayoutModel",
      "state": {}
     },
     "bff216d9c2724bbcbb48953c5896fe5f": {
      "model_module": "@jupyter-widgets/base",
      "model_module_version": "1.2.0",
      "model_name": "LayoutModel",
      "state": {}
     },
     "c04c654a9abb465c8f3b83b676c214f8": {
      "model_module": "@jupyter-widgets/base",
      "model_module_version": "1.2.0",
      "model_name": "LayoutModel",
      "state": {}
     },
     "c1f3014a29f745b9bd45f8d24b7ef261": {
      "model_module": "@jupyter-widgets/base",
      "model_module_version": "1.2.0",
      "model_name": "LayoutModel",
      "state": {}
     },
     "c461489e68f74f20a3b69fcb55c21f51": {
      "model_module": "@jupyter-widgets/controls",
      "model_module_version": "1.5.0",
      "model_name": "FloatProgressModel",
      "state": {
       "bar_style": "danger",
       "layout": "IPY_MODEL_c1f3014a29f745b9bd45f8d24b7ef261",
       "max": 10,
       "style": "IPY_MODEL_ac7eb723764743bb9c8535889f5ab1ad"
      }
     },
     "c56ee2fe983443cb906cc82b8d1e8d84": {
      "model_module": "@jupyter-widgets/controls",
      "model_module_version": "1.5.0",
      "model_name": "ProgressStyleModel",
      "state": {
       "description_width": ""
      }
     },
     "c6c88a2dde4d402795c3d8c5d524e063": {
      "model_module": "@jupyter-widgets/base",
      "model_module_version": "1.2.0",
      "model_name": "LayoutModel",
      "state": {}
     },
     "c6e743294bee4d26afb28bd09dc8ea72": {
      "model_module": "@jupyter-widgets/controls",
      "model_module_version": "1.5.0",
      "model_name": "FloatProgressModel",
      "state": {
       "bar_style": "danger",
       "layout": "IPY_MODEL_6442d16a30944e9cbb1484cfa4fa667b",
       "max": 10,
       "style": "IPY_MODEL_bac56f8595304c8da1c525114e6d92cf"
      }
     },
     "ca629a42881c4a92b9d60a2e770912ad": {
      "model_module": "@jupyter-widgets/controls",
      "model_module_version": "1.5.0",
      "model_name": "HBoxModel",
      "state": {
       "children": [
        "IPY_MODEL_2f6b440b71674110ad54cf0f2ddf994b",
        "IPY_MODEL_1a40d9b87ff942b9802bc6081b6f30db",
        "IPY_MODEL_6e9320d0966847dd888a94978291ae49"
       ],
       "layout": "IPY_MODEL_53154c5cb0c14d519a7e4305a9939e59"
      }
     },
     "caa372db863d4aef98620b496ce2e58a": {
      "model_module": "@jupyter-widgets/base",
      "model_module_version": "1.2.0",
      "model_name": "LayoutModel",
      "state": {}
     },
     "cc300ed2a8d3469794feb76fdef1ce7c": {
      "model_module": "@jupyter-widgets/controls",
      "model_module_version": "1.5.0",
      "model_name": "HTMLModel",
      "state": {
       "layout": "IPY_MODEL_2edb959a188743e999d3e25bcdfff565",
       "style": "IPY_MODEL_d74dfbd92b3a416bbcc5b6502610e547",
       "value": " 0/10 [00:09&lt;?, ?it/s]"
      }
     },
     "d06e0bc5a2814217a6c184d72fd1fd80": {
      "model_module": "@jupyter-widgets/base",
      "model_module_version": "1.2.0",
      "model_name": "LayoutModel",
      "state": {}
     },
     "d094d014e8d646a3be133eac502eea0e": {
      "model_module": "@jupyter-widgets/controls",
      "model_module_version": "1.5.0",
      "model_name": "HTMLModel",
      "state": {
       "layout": "IPY_MODEL_c04c654a9abb465c8f3b83b676c214f8",
       "style": "IPY_MODEL_5a74266d64ae4a5a9e4e502cc2b5e0bb",
       "value": " 0/10 [00:00&lt;?, ?it/s]"
      }
     },
     "d1c4542b38144ff7b2ead412f6439b5c": {
      "model_module": "@jupyter-widgets/controls",
      "model_module_version": "1.5.0",
      "model_name": "FloatProgressModel",
      "state": {
       "bar_style": "danger",
       "layout": "IPY_MODEL_d06e0bc5a2814217a6c184d72fd1fd80",
       "max": 10,
       "style": "IPY_MODEL_57830f867dd8446d9e970d43deb958f3"
      }
     },
     "d1d1fb66991d42bd91facbf2f9ab5814": {
      "model_module": "@jupyter-widgets/base",
      "model_module_version": "1.2.0",
      "model_name": "LayoutModel",
      "state": {}
     },
     "d59108cfaed94608993d7df266d9fbdc": {
      "model_module": "@jupyter-widgets/controls",
      "model_module_version": "1.5.0",
      "model_name": "HTMLModel",
      "state": {
       "layout": "IPY_MODEL_941ceecde5af4c88aeee40c151cdaa0e",
       "style": "IPY_MODEL_80db7b164c1f483fa12d942503ba6849",
       "value": " 10/10 [00:00&lt;00:00, 370.77it/s]"
      }
     },
     "d74dfbd92b3a416bbcc5b6502610e547": {
      "model_module": "@jupyter-widgets/controls",
      "model_module_version": "1.5.0",
      "model_name": "DescriptionStyleModel",
      "state": {
       "description_width": ""
      }
     },
     "d7dd2004211c458c9c9c4ccaa47697c5": {
      "model_module": "@jupyter-widgets/controls",
      "model_module_version": "1.5.0",
      "model_name": "HBoxModel",
      "state": {
       "children": [
        "IPY_MODEL_4ca11549ead046f28a14558e805ed8b4",
        "IPY_MODEL_a089414aa42745b483636ff5bde36758",
        "IPY_MODEL_cc300ed2a8d3469794feb76fdef1ce7c"
       ],
       "layout": "IPY_MODEL_fd13f1d277a84d0885c31c8e6362fb56"
      }
     },
     "d888fe3231c0439faf5c85559913b7e1": {
      "model_module": "@jupyter-widgets/controls",
      "model_module_version": "1.5.0",
      "model_name": "ProgressStyleModel",
      "state": {
       "description_width": ""
      }
     },
     "da1f3ac50ed24e95a74656ff18b8df91": {
      "model_module": "@jupyter-widgets/base",
      "model_module_version": "1.2.0",
      "model_name": "LayoutModel",
      "state": {}
     },
     "da21d202c8b9441a8d1bbcd6491524b2": {
      "model_module": "@jupyter-widgets/controls",
      "model_module_version": "1.5.0",
      "model_name": "HTMLModel",
      "state": {
       "layout": "IPY_MODEL_427afe2082c446738469d8993dff5990",
       "style": "IPY_MODEL_a2480d1cb7a74582b1fa260165dbb275",
       "value": " 0/10 [06:38&lt;?, ?it/s]"
      }
     },
     "db1bed8af1734d5392d40eb12ff92c96": {
      "model_module": "@jupyter-widgets/controls",
      "model_module_version": "1.5.0",
      "model_name": "HTMLModel",
      "state": {
       "layout": "IPY_MODEL_bff216d9c2724bbcbb48953c5896fe5f",
       "style": "IPY_MODEL_36f4f40d452e41cc9e02565b5f09eb0f",
       "value": "100%"
      }
     },
     "dc53a922f5c34dacb08248a7e01aa5a6": {
      "model_module": "@jupyter-widgets/controls",
      "model_module_version": "1.5.0",
      "model_name": "HTMLModel",
      "state": {
       "layout": "IPY_MODEL_9a1b681815cf4570bdd0ae8495d22a0a",
       "style": "IPY_MODEL_72e3ea3de4b44ec79f788d1d3efa8eb3",
       "value": " 10/10 [04:00&lt;00:00, 24.27s/it]"
      }
     },
     "e2cbe58961d6490cae6815fb31bfe5b1": {
      "model_module": "@jupyter-widgets/base",
      "model_module_version": "1.2.0",
      "model_name": "LayoutModel",
      "state": {}
     },
     "e2dff83d546a45c39604544f1e835866": {
      "model_module": "@jupyter-widgets/controls",
      "model_module_version": "1.5.0",
      "model_name": "FloatProgressModel",
      "state": {
       "bar_style": "success",
       "layout": "IPY_MODEL_7ff9a7b90a5f4f79a5d8585cdc59e0b0",
       "max": 10,
       "style": "IPY_MODEL_76b5dd522e17425db69fd0a006bfde5b",
       "value": 10
      }
     },
     "e5af9088ca034907a6601a28089573eb": {
      "model_module": "@jupyter-widgets/controls",
      "model_module_version": "1.5.0",
      "model_name": "DescriptionStyleModel",
      "state": {
       "description_width": ""
      }
     },
     "e6450fdcf147494aa8370ddeda3e6483": {
      "model_module": "@jupyter-widgets/controls",
      "model_module_version": "1.5.0",
      "model_name": "FloatProgressModel",
      "state": {
       "bar_style": "danger",
       "layout": "IPY_MODEL_fd676c790189407a93a307e11b650dff",
       "max": 10,
       "style": "IPY_MODEL_2805321b766e4f7b9d4d8095e1a2214f"
      }
     },
     "e71b47eadb1c4c2aa7713281f64ce921": {
      "model_module": "@jupyter-widgets/controls",
      "model_module_version": "1.5.0",
      "model_name": "HBoxModel",
      "state": {
       "children": [
        "IPY_MODEL_a81c5e027bbd4c3dbd0a4a1af40a8d96",
        "IPY_MODEL_d1c4542b38144ff7b2ead412f6439b5c",
        "IPY_MODEL_440def59890d41a68189252f2aa86839"
       ],
       "layout": "IPY_MODEL_111c5b98d9434b62883b1c5ee498bcd6"
      }
     },
     "e78da3962be24b2eb70946f2fa0b4fce": {
      "model_module": "@jupyter-widgets/controls",
      "model_module_version": "1.5.0",
      "model_name": "DescriptionStyleModel",
      "state": {
       "description_width": ""
      }
     },
     "ea8816c8cf6f41a3a19038c17896b4b6": {
      "model_module": "@jupyter-widgets/base",
      "model_module_version": "1.2.0",
      "model_name": "LayoutModel",
      "state": {}
     },
     "eabc29bb72774ef9a3f385804b0349cc": {
      "model_module": "@jupyter-widgets/base",
      "model_module_version": "1.2.0",
      "model_name": "LayoutModel",
      "state": {}
     },
     "eb85d75d850d46459d21cd0755f91226": {
      "model_module": "@jupyter-widgets/controls",
      "model_module_version": "1.5.0",
      "model_name": "HTMLModel",
      "state": {
       "layout": "IPY_MODEL_7585f2a157464741a23db2ffe34206c7",
       "style": "IPY_MODEL_7a25359d6ae343bb835c888fce121c55",
       "value": "  0%"
      }
     },
     "ee1a339e0a04417eb68d898c70488d9c": {
      "model_module": "@jupyter-widgets/base",
      "model_module_version": "1.2.0",
      "model_name": "LayoutModel",
      "state": {}
     },
     "ee366e58426841b7b63772146e9d276f": {
      "model_module": "@jupyter-widgets/base",
      "model_module_version": "1.2.0",
      "model_name": "LayoutModel",
      "state": {}
     },
     "f05d66f8dbb24a94ac1f8ee151c52eb0": {
      "model_module": "@jupyter-widgets/controls",
      "model_module_version": "1.5.0",
      "model_name": "DescriptionStyleModel",
      "state": {
       "description_width": ""
      }
     },
     "f4eb22e21e2a4b9c8925910d9f0fd68d": {
      "model_module": "@jupyter-widgets/base",
      "model_module_version": "1.2.0",
      "model_name": "LayoutModel",
      "state": {}
     },
     "fd13f1d277a84d0885c31c8e6362fb56": {
      "model_module": "@jupyter-widgets/base",
      "model_module_version": "1.2.0",
      "model_name": "LayoutModel",
      "state": {}
     },
     "fd676c790189407a93a307e11b650dff": {
      "model_module": "@jupyter-widgets/base",
      "model_module_version": "1.2.0",
      "model_name": "LayoutModel",
      "state": {}
     },
     "fdb2c57eadee4a8ab6c5d8f9414aaebe": {
      "model_module": "@jupyter-widgets/controls",
      "model_module_version": "1.5.0",
      "model_name": "HTMLModel",
      "state": {
       "layout": "IPY_MODEL_0160ba22307042bfb988b07440409846",
       "style": "IPY_MODEL_962eb3d06fac4d56b1b4e7ec5183ed5c",
       "value": " 10/10 [06:02&lt;00:00, 35.60s/it]"
      }
     }
    },
    "version_major": 2,
    "version_minor": 0
   }
  }
 },
 "nbformat": 4,
 "nbformat_minor": 5
}
