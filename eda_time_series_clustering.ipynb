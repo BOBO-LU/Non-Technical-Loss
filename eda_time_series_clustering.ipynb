{
 "cells": [
  {
   "cell_type": "code",
   "execution_count": 1,
   "id": "ae41516e",
   "metadata": {
    "Collapsed": "false"
   },
   "outputs": [],
   "source": [
    "%run requirements.ipynb\n",
    "%run config.ipynb\n",
    "%run module_preprocess.ipynb\n",
    "%run module_training.ipynb\n",
    "%run module_fdi_generator.ipynb\n",
    "%run module_feature_extraction.ipynb"
   ]
  },
  {
   "cell_type": "code",
   "execution_count": 2,
   "id": "b7faa160",
   "metadata": {
    "Collapsed": "false"
   },
   "outputs": [
    {
     "name": "stdout",
     "output_type": "stream",
     "text": [
      "(10735680, 8)\n",
      "(10735680, 8)\n",
      "(10735680, 8)\n",
      "(10735680, 8)\n",
      "(10735680, 8)\n",
      "(10735680, 8)\n",
      "(10735680, 8)\n",
      "(10735680, 8)\n",
      "(10735680, 8)\n",
      "(10862880, 8)\n"
     ]
    }
   ],
   "source": [
    "smart_meter_data_group = []\n",
    "for i in range(10):\n",
    "    d1 = pd.read_csv('CSV/smartmeterhalf/smart_meter_'+str(i)+'_1.csv')\n",
    "    d2 = pd.read_csv('CSV/smartmeterhalf/smart_meter_'+str(i)+'_2.csv')\n",
    "    data = pd.concat([d1,d2])\n",
    "    print(data.shape)\n",
    "    smart_meter_data_group.append(data)"
   ]
  },
  {
   "cell_type": "code",
   "execution_count": 3,
   "id": "5cdd0086",
   "metadata": {
    "Collapsed": "false"
   },
   "outputs": [
    {
     "name": "stdout",
     "output_type": "stream",
     "text": [
      "(10735680, 8) 534240\n",
      "(10735680, 8) 534240\n",
      "\n",
      "(10735680, 8) 534240\n",
      "(10735680, 8) 534240\n",
      "\n",
      "(10735680, 8) 534240\n",
      "(10735680, 8) 534240\n",
      "\n",
      "(10735680, 8) 534240\n",
      "(10735680, 8) 534240\n",
      "\n",
      "(10735680, 8) 534240\n",
      "(10735680, 8) 534240\n",
      "\n",
      "(10735680, 8) 534240\n",
      "(10735680, 8) 534240\n",
      "\n",
      "(10735680, 8) 534240\n",
      "(10735680, 8) 534240\n",
      "\n",
      "(10735680, 8) 534240\n",
      "(10735680, 8) 534240\n",
      "\n",
      "(10735680, 8) 534240\n",
      "(10735680, 8) 534240\n",
      "\n",
      "(10862880, 8) 534240\n",
      "(10862880, 8) 534240\n",
      "\n"
     ]
    }
   ],
   "source": [
    "for f in smart_meter_data_group:\n",
    "    print(f.shape, f[ f['FDI_method'] != 0 ]['FDI'].count())\n",
    "    print(f.shape, f[ f['FDI'] == True ]['FDI'].count())\n",
    "    print()"
   ]
  },
  {
   "cell_type": "markdown",
   "id": "e55c0689",
   "metadata": {
    "Collapsed": "false"
   },
   "source": [
    "### start"
   ]
  },
  {
   "cell_type": "code",
   "execution_count": 25,
   "id": "ad7bd0f2",
   "metadata": {
    "Collapsed": "false"
   },
   "outputs": [],
   "source": [
    "# if daily == True: X.reshape(-1, 48)\n",
    "# if daily == False: X.reshape(-1, 530, 48)  ## default\n",
    "\n",
    "def get_no_ntl(daily=False):\n",
    "    X_list = []\n",
    "    pbar = tqdm(smart_meter_data_group)\n",
    "    count = 1\n",
    "    for area in pbar: # iterate 10 data groups\n",
    "#         print(f'start {count}')\n",
    "        X = []\n",
    "        for meter_index in range(int(area.shape[0]/530/48)): # iterate every fdi meter in area \n",
    "            meter_offset = meter_index * 530 * 48\n",
    "            meter = area[meter_offset: meter_offset + 530 * 48]\n",
    "            for i in range(530):\n",
    "                if any(meter[i*48:(i+1)*48]['FDI']):\n",
    "                    fdi_count += 1\n",
    "                    continue\n",
    "                X.append(meter[\"Atk_Elec\"][i*48:(i+1)*48].to_numpy())\n",
    "        X = np.array(X)\n",
    "        if daily:\n",
    "            X = X.reshape(-1, 48)\n",
    "        else:\n",
    "            X = X.reshape(-1, 530, 48)\n",
    "        X_list.append(X)\n",
    "        count = count + 1\n",
    "        break\n",
    "    return X_list\n",
    "def get_only_ntl(daily=False):\n",
    "    X_list = []\n",
    "    pbar = tqdm(smart_meter_data_group)\n",
    "    count = 1\n",
    "    for area in pbar: # iterate 10 data groups\n",
    "#         print(f'start {count}')\n",
    "        X = []\n",
    "        for meter_index in range(int(area.shape[0]/530/48)): # iterate every fdi meter in area \n",
    "            meter_offset = meter_index * 530 * 48\n",
    "            meter = area[meter_offset: meter_offset + 530 * 48]\n",
    "            for i in range(530):\n",
    "                if not any(meter[i*48:(i+1)*48]['FDI']):\n",
    "\n",
    "                    continue\n",
    "                X.append(meter[\"Atk_Elec\"][i*48:(i+1)*48].to_numpy())\n",
    "        X = np.array(X)\n",
    "        if daily:\n",
    "            X = X.reshape(-1, 48)\n",
    "        else:\n",
    "            X = X.reshape(-1, 530, 48)\n",
    "        X_list.append(X)\n",
    "        count = count + 1\n",
    "    return X_list\n",
    "def get_all(daily=False):\n",
    "    X_list = []\n",
    "    pbar = tqdm(smart_meter_data_group)\n",
    "    count = 1\n",
    "    for area in pbar: # iterate 10 data groups\n",
    "#         print(f'start {count}')\n",
    "        X = area['Atk_Elec'].to_numpy()\n",
    "        if daily:\n",
    "            X = X.reshape(-1, 48)\n",
    "        else:\n",
    "            X = X.reshape(-1, 530, 48)\n",
    "        X_list.append(X)\n",
    "        count = count + 1\n",
    "    return X_list"
   ]
  },
  {
   "cell_type": "code",
   "execution_count": 26,
   "id": "5898331a",
   "metadata": {
    "Collapsed": "false"
   },
   "outputs": [
    {
     "data": {
      "application/vnd.jupyter.widget-view+json": {
       "model_id": "3e4bb31b1efb48b3a022716ae0d90976",
       "version_major": 2,
       "version_minor": 0
      },
      "text/plain": [
       "  0%|          | 0/10 [00:00<?, ?it/s]"
      ]
     },
     "metadata": {},
     "output_type": "display_data"
    },
    {
     "data": {
      "text/plain": [
       "(223660, 48)"
      ]
     },
     "execution_count": 26,
     "metadata": {},
     "output_type": "execute_result"
    }
   ],
   "source": [
    "X_list = get_all(daily=True)\n"
   ]
  },
  {
   "cell_type": "code",
   "execution_count": 27,
   "id": "e9fc6eb8",
   "metadata": {
    "Collapsed": "false"
   },
   "outputs": [
    {
     "name": "stdout",
     "output_type": "stream",
     "text": [
      "(223660, 48)\n",
      "(223660, 48)\n",
      "(223660, 48)\n",
      "(223660, 48)\n",
      "(223660, 48)\n",
      "(223660, 48)\n",
      "(223660, 48)\n",
      "(223660, 48)\n",
      "(223660, 48)\n",
      "(226310, 48)\n"
     ]
    }
   ],
   "source": [
    "for i in X_list:\n",
    "    print(i.shape)"
   ]
  },
  {
   "cell_type": "code",
   "execution_count": 24,
   "id": "b25400ec",
   "metadata": {
    "Collapsed": "false"
   },
   "outputs": [
    {
     "data": {
      "application/vnd.jupyter.widget-view+json": {
       "model_id": "7b81388d14e74d91b2fd171b47495e4e",
       "version_major": 2,
       "version_minor": 0
      },
      "text/plain": [
       "  0%|          | 0/10 [00:00<?, ?it/s]"
      ]
     },
     "metadata": {},
     "output_type": "display_data"
    },
    {
     "data": {
      "text/plain": [
       "(11130, 48)"
      ]
     },
     "execution_count": 24,
     "metadata": {},
     "output_type": "execute_result"
    }
   ],
   "source": [
    "X_list = get_all(daily=True)\n",
    "X_list[0].shape"
   ]
  },
  {
   "cell_type": "code",
   "execution_count": null,
   "id": "90e21de0",
   "metadata": {
    "Collapsed": "false"
   },
   "outputs": [],
   "source": []
  },
  {
   "cell_type": "code",
   "execution_count": 20,
   "id": "4538d1f9",
   "metadata": {
    "Collapsed": "false"
   },
   "outputs": [
    {
     "name": "stdout",
     "output_type": "stream",
     "text": [
      "(212530, 48)\n",
      "have 0\n"
     ]
    }
   ],
   "source": [
    "for i in X_list:\n",
    "    print(i.shape)\n",
    "    if 1 in i.reshape(-1):\n",
    "        print('have 0')\n",
    "    break"
   ]
  },
  {
   "cell_type": "code",
   "execution_count": null,
   "id": "575b4e6d",
   "metadata": {
    "Collapsed": "false"
   },
   "outputs": [],
   "source": [
    "\"\"\"\n",
    "calculate dba 48 & 530, sdtw 48 & 530\n",
    "check ntl affect\n",
    "silhouette\n",
    "cluster it\n",
    "\"\"\""
   ]
  },
  {
   "cell_type": "markdown",
   "id": "5d5375b3",
   "metadata": {
    "Collapsed": "false"
   },
   "source": [
    "# euclidean"
   ]
  },
  {
   "cell_type": "markdown",
   "id": "e9ee0496",
   "metadata": {
    "Collapsed": "false"
   },
   "source": [
    "## eu, -1 * 530 * 48"
   ]
  },
  {
   "cell_type": "code",
   "execution_count": 123,
   "id": "078ceacc",
   "metadata": {
    "Collapsed": "false"
   },
   "outputs": [
    {
     "data": {
      "application/vnd.jupyter.widget-view+json": {
       "model_id": "ff34559331bf4802a3e321904d931566",
       "version_major": 2,
       "version_minor": 0
      },
      "text/plain": [
       "  0%|          | 0/10 [00:00<?, ?it/s]"
      ]
     },
     "metadata": {},
     "output_type": "display_data"
    },
    {
     "data": {
      "application/vnd.jupyter.widget-view+json": {
       "model_id": "43426affd3d04ceb84ea90f7111cb2e1",
       "version_major": 2,
       "version_minor": 0
      },
      "text/plain": [
       "  0%|          | 0/10 [00:00<?, ?it/s]"
      ]
     },
     "metadata": {},
     "output_type": "display_data"
    },
    {
     "name": "stdout",
     "output_type": "stream",
     "text": [
      "(530, 48)\n"
     ]
    },
    {
     "data": {
      "application/vnd.jupyter.widget-view+json": {
       "model_id": "17f33ce38e6f4bf295e7140fc13b6e48",
       "version_major": 2,
       "version_minor": 0
      },
      "text/plain": [
       "  0%|          | 0/10 [00:00<?, ?it/s]"
      ]
     },
     "metadata": {},
     "output_type": "display_data"
    },
    {
     "data": {
      "application/vnd.jupyter.widget-view+json": {
       "model_id": "54be7f2b69754e13aa61d6c4b017d080",
       "version_major": 2,
       "version_minor": 0
      },
      "text/plain": [
       "  0%|          | 0/10 [00:00<?, ?it/s]"
      ]
     },
     "metadata": {},
     "output_type": "display_data"
    },
    {
     "name": "stdout",
     "output_type": "stream",
     "text": [
      "(530, 48)\n"
     ]
    },
    {
     "data": {
      "application/vnd.jupyter.widget-view+json": {
       "model_id": "f7f04f00f1c54098b5693480524af5e2",
       "version_major": 2,
       "version_minor": 0
      },
      "text/plain": [
       "  0%|          | 0/10 [00:00<?, ?it/s]"
      ]
     },
     "metadata": {},
     "output_type": "display_data"
    },
    {
     "data": {
      "application/vnd.jupyter.widget-view+json": {
       "model_id": "2b8f7663f3694574ae0f49a711160165",
       "version_major": 2,
       "version_minor": 0
      },
      "text/plain": [
       "  0%|          | 0/10 [00:00<?, ?it/s]"
      ]
     },
     "metadata": {},
     "output_type": "display_data"
    },
    {
     "name": "stdout",
     "output_type": "stream",
     "text": [
      "(530, 48)\n"
     ]
    }
   ],
   "source": [
    "# 530 * 48 all\n",
    "one_cluster_eu_barycenter_48 = []\n",
    "X_list = get_all()\n",
    "pbar = tqdm(X_list)\n",
    "for X in pbar:\n",
    "    result = euclidean_barycenter(X)\n",
    "    one_cluster_eu_barycenter_48.append(result)\n",
    "print(one_cluster_eu_barycenter_48[0].shape)\n",
    "\n",
    "# 530 * 48 no ntl\n",
    "one_cluster_eu_barycenter_48_no_ntl = []\n",
    "X_list = get_no_ntl()\n",
    "pbar = tqdm(X_list)\n",
    "for X in pbar:\n",
    "    result = euclidean_barycenter(X)\n",
    "    one_cluster_eu_barycenter_48_no_ntl.append(result)\n",
    "print(one_cluster_eu_barycenter_48_no_ntl[0].shape)\n",
    "\n",
    "# 530 * 48 only ntl\n",
    "one_cluster_eu_barycenter_48_only_ntl = []\n",
    "X_list = get_only_ntl()\n",
    "pbar = tqdm(X_list)\n",
    "for X in pbar:\n",
    "    result = euclidean_barycenter(X)\n",
    "    one_cluster_eu_barycenter_48_only_ntl.append(result)\n",
    "print(one_cluster_eu_barycenter_48_only_ntl[0].shape)"
   ]
  },
  {
   "cell_type": "code",
   "execution_count": 129,
   "id": "bdccf84d",
   "metadata": {
    "Collapsed": "false"
   },
   "outputs": [
    {
     "data": {
      "image/png": "[encoded data removed]",
      "text/plain": [
       "<Figure size 432x288 with 1 Axes>"
      ]
     },
     "metadata": {},
     "output_type": "display_data"
    }
   ],
   "source": [
    "# sdtw area 0\n",
    "plt.plot(one_cluster_eu_barycenter_48[0][0], label=\"all\")\n",
    "plt.plot(one_cluster_eu_barycenter_48_no_ntl[0][0], label=\"no ntl\")\n",
    "plt.plot(one_cluster_eu_barycenter_48_only_ntl[0][0], label=\"only ntl\")\n",
    "plt.legend(loc=\"upper left\")\n",
    "plt.xlabel(\"Half hours\")\n",
    "plt.ylabel(\"Electricity\")\n",
    "plt.savefig(\"eucldean barycenter 530*48 1 day in area 0\")"
   ]
  },
  {
   "cell_type": "markdown",
   "id": "55828456",
   "metadata": {
    "Collapsed": "false"
   },
   "source": [
    "## eu, -1 * 48"
   ]
  },
  {
   "cell_type": "code",
   "execution_count": 125,
   "id": "ffa02196",
   "metadata": {
    "Collapsed": "false"
   },
   "outputs": [
    {
     "data": {
      "application/vnd.jupyter.widget-view+json": {
       "model_id": "d45716f4255c48aca75ab3e875d66cfc",
       "version_major": 2,
       "version_minor": 0
      },
      "text/plain": [
       "  0%|          | 0/10 [00:00<?, ?it/s]"
      ]
     },
     "metadata": {},
     "output_type": "display_data"
    },
    {
     "data": {
      "application/vnd.jupyter.widget-view+json": {
       "model_id": "076a5488d3084d93bbf3e54b78a54336",
       "version_major": 2,
       "version_minor": 0
      },
      "text/plain": [
       "  0%|          | 0/10 [00:00<?, ?it/s]"
      ]
     },
     "metadata": {},
     "output_type": "display_data"
    },
    {
     "name": "stdout",
     "output_type": "stream",
     "text": [
      "(48, 1)\n"
     ]
    },
    {
     "data": {
      "application/vnd.jupyter.widget-view+json": {
       "model_id": "2885008f9cda443e8a54cee28868efc3",
       "version_major": 2,
       "version_minor": 0
      },
      "text/plain": [
       "  0%|          | 0/10 [00:00<?, ?it/s]"
      ]
     },
     "metadata": {},
     "output_type": "display_data"
    },
    {
     "data": {
      "application/vnd.jupyter.widget-view+json": {
       "model_id": "8b83adb630aa422083ac6abd178b35ce",
       "version_major": 2,
       "version_minor": 0
      },
      "text/plain": [
       "  0%|          | 0/10 [00:00<?, ?it/s]"
      ]
     },
     "metadata": {},
     "output_type": "display_data"
    },
    {
     "name": "stdout",
     "output_type": "stream",
     "text": [
      "(48, 1)\n"
     ]
    },
    {
     "data": {
      "application/vnd.jupyter.widget-view+json": {
       "model_id": "218ad17e21d746fda8d2ca744cc33f2e",
       "version_major": 2,
       "version_minor": 0
      },
      "text/plain": [
       "  0%|          | 0/10 [00:00<?, ?it/s]"
      ]
     },
     "metadata": {},
     "output_type": "display_data"
    },
    {
     "data": {
      "application/vnd.jupyter.widget-view+json": {
       "model_id": "bd083fb80efb4a6f81e0c3c4c1da990e",
       "version_major": 2,
       "version_minor": 0
      },
      "text/plain": [
       "  0%|          | 0/10 [00:00<?, ?it/s]"
      ]
     },
     "metadata": {},
     "output_type": "display_data"
    },
    {
     "name": "stdout",
     "output_type": "stream",
     "text": [
      "(48, 1)\n"
     ]
    }
   ],
   "source": [
    "# 530 * 48 all\n",
    "one_cluster_eu_barycenter = []\n",
    "X_list = get_all(daily=True)\n",
    "pbar = tqdm(X_list)\n",
    "for X in pbar:\n",
    "    result = euclidean_barycenter(X)\n",
    "    one_cluster_eu_barycenter.append(result)\n",
    "print(one_cluster_eu_barycenter[0].shape)\n",
    "\n",
    "# 530 * 48 no ntl\n",
    "one_cluster_eu_barycenter_no_ntl = []\n",
    "X_list = get_no_ntl(daily=True)\n",
    "pbar = tqdm(X_list)\n",
    "for X in pbar:\n",
    "    result = euclidean_barycenter(X)\n",
    "    one_cluster_eu_barycenter_no_ntl.append(result)\n",
    "print(one_cluster_eu_barycenter_no_ntl[0].shape)\n",
    "\n",
    "# 530 * 48 only ntl\n",
    "one_cluster_eu_barycenter_only_ntl = []\n",
    "X_list = get_only_ntl(daily=True)\n",
    "pbar = tqdm(X_list)\n",
    "for X in pbar:\n",
    "    result = euclidean_barycenter(X)\n",
    "    one_cluster_eu_barycenter_only_ntl.append(result)\n",
    "print(one_cluster_eu_barycenter_only_ntl[0].shape)"
   ]
  },
  {
   "cell_type": "code",
   "execution_count": 128,
   "id": "5aa99e61",
   "metadata": {
    "Collapsed": "false"
   },
   "outputs": [
    {
     "data": {
      "image/png": "[encoded data removed]",
      "text/plain": [
       "<Figure size 432x288 with 1 Axes>"
      ]
     },
     "metadata": {},
     "output_type": "display_data"
    }
   ],
   "source": [
    "# sdtw area 0\n",
    "plt.plot(one_cluster_eu_barycenter[0], label=\"all\")\n",
    "plt.plot(one_cluster_eu_barycenter_no_ntl[0], label=\"no ntl\")\n",
    "plt.plot(one_cluster_eu_barycenter_only_ntl[0], label=\"only ntl\")\n",
    "plt.legend(loc=\"upper left\")\n",
    "plt.xlabel(\"Half hours\")\n",
    "plt.ylabel(\"Electricity\")\n",
    "plt.savefig(\"euclidean barycenter -1*48 1 day in area 0\")"
   ]
  },
  {
   "cell_type": "markdown",
   "id": "23c63076",
   "metadata": {
    "Collapsed": "false"
   },
   "source": [
    "# dba"
   ]
  },
  {
   "cell_type": "markdown",
   "id": "63004a05",
   "metadata": {
    "Collapsed": "true"
   },
   "source": [
    "## dba, -1 * 530 * 48"
   ]
  },
  {
   "cell_type": "code",
   "execution_count": 10,
   "id": "ce700461",
   "metadata": {
    "Collapsed": "false",
    "collapsed": true,
    "jupyter": {
     "outputs_hidden": true
    }
   },
   "outputs": [
    {
     "data": {
      "application/vnd.jupyter.widget-view+json": {
       "model_id": "63e546fe93a54f52b2c24cb93fd9a9b1",
       "version_major": 2,
       "version_minor": 0
      },
      "text/plain": [
       "  0%|          | 0/10 [00:00<?, ?it/s]"
      ]
     },
     "metadata": {},
     "output_type": "display_data"
    },
    {
     "name": "stdout",
     "output_type": "stream",
     "text": [
      "(530, 48)\n"
     ]
    }
   ],
   "source": [
    "# 530 * 48 all\n",
    "one_cluster_dba_barycenter_48 = []\n",
    "pbar = tqdm(X_list)\n",
    "for X in pbar:\n",
    "    result = dtw_barycenter_averaging_subgradient(X, max_iter=20, tol=1e-3)\n",
    "    one_cluster_dba_barycenter_48.append(result)\n",
    "print(one_cluster_dba_barycenter_48[0].shape)"
   ]
  },
  {
   "cell_type": "code",
   "execution_count": 16,
   "id": "49810f1a",
   "metadata": {
    "Collapsed": "false",
    "collapsed": true,
    "jupyter": {
     "outputs_hidden": true
    }
   },
   "outputs": [
    {
     "data": {
      "application/vnd.jupyter.widget-view+json": {
       "model_id": "42d0dc161a7446d19fad2df2f71b82dd",
       "version_major": 2,
       "version_minor": 0
      },
      "text/plain": [
       "  0%|          | 0/10 [00:00<?, ?it/s]"
      ]
     },
     "metadata": {},
     "output_type": "display_data"
    },
    {
     "name": "stdout",
     "output_type": "stream",
     "text": [
      "start 1\n",
      "start 2\n",
      "start 3\n",
      "start 4\n",
      "start 5\n",
      "start 6\n",
      "start 7\n",
      "start 8\n",
      "start 9\n",
      "start 10\n"
     ]
    },
    {
     "data": {
      "application/vnd.jupyter.widget-view+json": {
       "model_id": "f41019b248a94526aa7df22e4065cd9d",
       "version_major": 2,
       "version_minor": 0
      },
      "text/plain": [
       "  0%|          | 0/10 [00:00<?, ?it/s]"
      ]
     },
     "metadata": {},
     "output_type": "display_data"
    },
    {
     "name": "stdout",
     "output_type": "stream",
     "text": [
      "(530, 48)\n"
     ]
    }
   ],
   "source": [
    "# 530 * 48 no ntl\n",
    "one_cluster_dba_barycenter_48_no_ntl = []\n",
    "X_list = get_no_ntl()\n",
    "pbar = tqdm(X_list)\n",
    "for X in pbar:\n",
    "    result = dtw_barycenter_averaging_subgradient(X, max_iter=20, tol=1e-3)\n",
    "    one_cluster_dba_barycenter_48_no_ntl.append(result)\n",
    "print(one_cluster_dba_barycenter_48_no_ntl[0].shape)"
   ]
  },
  {
   "cell_type": "code",
   "execution_count": 17,
   "id": "ec74f352",
   "metadata": {
    "Collapsed": "false",
    "collapsed": true,
    "jupyter": {
     "outputs_hidden": true
    }
   },
   "outputs": [
    {
     "data": {
      "application/vnd.jupyter.widget-view+json": {
       "model_id": "2a41538b753b479a9455f5d49e1e4c95",
       "version_major": 2,
       "version_minor": 0
      },
      "text/plain": [
       "  0%|          | 0/10 [00:00<?, ?it/s]"
      ]
     },
     "metadata": {},
     "output_type": "display_data"
    },
    {
     "name": "stdout",
     "output_type": "stream",
     "text": [
      "start 1\n",
      "start 2\n",
      "start 3\n",
      "start 4\n",
      "start 5\n",
      "start 6\n",
      "start 7\n",
      "start 8\n",
      "start 9\n",
      "start 10\n"
     ]
    },
    {
     "data": {
      "application/vnd.jupyter.widget-view+json": {
       "model_id": "419a34033a6d4eb78bd3d685a831de8b",
       "version_major": 2,
       "version_minor": 0
      },
      "text/plain": [
       "  0%|          | 0/10 [00:00<?, ?it/s]"
      ]
     },
     "metadata": {},
     "output_type": "display_data"
    },
    {
     "name": "stdout",
     "output_type": "stream",
     "text": [
      "(530, 48)\n"
     ]
    }
   ],
   "source": [
    "# 530 * 48 only ntl\n",
    "one_cluster_dba_barycenter_48_only_ntl = []\n",
    "X_list = get_only_ntl()\n",
    "pbar = tqdm(X_list)\n",
    "for X in pbar:\n",
    "    result = dtw_barycenter_averaging_subgradient(X, max_iter=20, tol=1e-3)\n",
    "    one_cluster_dba_barycenter_48_only_ntl.append(result)\n",
    "print(one_cluster_dba_barycenter_48_only_ntl[0].shape)"
   ]
  },
  {
   "cell_type": "code",
   "execution_count": 19,
   "id": "a54b1eb6",
   "metadata": {
    "Collapsed": "false"
   },
   "outputs": [
    {
     "data": {
      "text/plain": [
       "<matplotlib.legend.Legend at 0x7fb6b04cfd10>"
      ]
     },
     "execution_count": 19,
     "metadata": {},
     "output_type": "execute_result"
    },
    {
     "data": {
      "image/png": "[encoded data removed]",
      "text/plain": [
       "<Figure size 432x288 with 1 Axes>"
      ]
     },
     "metadata": {},
     "output_type": "display_data"
    }
   ],
   "source": [
    "# dba area 0\n",
    "plt.plot(one_cluster_dba_barycenter_48[0][0], label=\"all\")\n",
    "plt.plot(one_cluster_dba_barycenter_48_no_ntl[0][0], label=\"no ntl\")\n",
    "plt.plot(one_cluster_dba_barycenter_48_only_ntl[0][0], label=\"only ntl\")\n",
    "plt.legend(loc=\"upper left\")"
   ]
  },
  {
   "cell_type": "markdown",
   "id": "1a39aa84",
   "metadata": {
    "Collapsed": "true"
   },
   "source": [
    "## dba, -1 * 48"
   ]
  },
  {
   "cell_type": "code",
   "execution_count": 24,
   "id": "4645dff1",
   "metadata": {
    "Collapsed": "false",
    "collapsed": true,
    "jupyter": {
     "outputs_hidden": true
    }
   },
   "outputs": [
    {
     "data": {
      "application/vnd.jupyter.widget-view+json": {
       "model_id": "253a898099194a9cb2d5c6e19d483909",
       "version_major": 2,
       "version_minor": 0
      },
      "text/plain": [
       "  0%|          | 0/10 [00:00<?, ?it/s]"
      ]
     },
     "metadata": {},
     "output_type": "display_data"
    },
    {
     "name": "stdout",
     "output_type": "stream",
     "text": [
      "start 1\n",
      "start 2\n",
      "start 3\n",
      "start 4\n",
      "start 5\n",
      "start 6\n",
      "start 7\n",
      "start 8\n",
      "start 9\n",
      "start 10\n"
     ]
    },
    {
     "data": {
      "application/vnd.jupyter.widget-view+json": {
       "model_id": "1a5d551a7e324b78be1068ecb5dd68cd",
       "version_major": 2,
       "version_minor": 0
      },
      "text/plain": [
       "  0%|          | 0/10 [00:00<?, ?it/s]"
      ]
     },
     "metadata": {},
     "output_type": "display_data"
    },
    {
     "name": "stdout",
     "output_type": "stream",
     "text": [
      "(48, 1)\n"
     ]
    },
    {
     "data": {
      "application/vnd.jupyter.widget-view+json": {
       "model_id": "a0cc7f2d002046fda94ea25591bd4468",
       "version_major": 2,
       "version_minor": 0
      },
      "text/plain": [
       "  0%|          | 0/10 [00:00<?, ?it/s]"
      ]
     },
     "metadata": {},
     "output_type": "display_data"
    },
    {
     "name": "stdout",
     "output_type": "stream",
     "text": [
      "start 1\n",
      "start 2\n",
      "start 3\n",
      "start 4\n",
      "start 5\n",
      "start 6\n",
      "start 7\n",
      "start 8\n",
      "start 9\n",
      "start 10\n"
     ]
    },
    {
     "data": {
      "application/vnd.jupyter.widget-view+json": {
       "model_id": "5a5091dc39b549c0b9becae7038573ac",
       "version_major": 2,
       "version_minor": 0
      },
      "text/plain": [
       "  0%|          | 0/10 [00:00<?, ?it/s]"
      ]
     },
     "metadata": {},
     "output_type": "display_data"
    },
    {
     "name": "stdout",
     "output_type": "stream",
     "text": [
      "(48, 1)\n"
     ]
    },
    {
     "data": {
      "application/vnd.jupyter.widget-view+json": {
       "model_id": "1acef7d5c72146f78a6930fad812721c",
       "version_major": 2,
       "version_minor": 0
      },
      "text/plain": [
       "  0%|          | 0/10 [00:00<?, ?it/s]"
      ]
     },
     "metadata": {},
     "output_type": "display_data"
    },
    {
     "name": "stdout",
     "output_type": "stream",
     "text": [
      "start 1\n",
      "start 2\n",
      "start 3\n",
      "start 4\n",
      "start 5\n",
      "start 6\n",
      "start 7\n",
      "start 8\n",
      "start 9\n",
      "start 10\n"
     ]
    },
    {
     "data": {
      "application/vnd.jupyter.widget-view+json": {
       "model_id": "a7d8ee5364da4b6f8b6d38d59d2b4929",
       "version_major": 2,
       "version_minor": 0
      },
      "text/plain": [
       "  0%|          | 0/10 [00:00<?, ?it/s]"
      ]
     },
     "metadata": {},
     "output_type": "display_data"
    },
    {
     "name": "stderr",
     "output_type": "stream",
     "text": [
      "/opt/conda/lib/python3.7/site-packages/tslearn/barycenters/dba.py:736: ConvergenceWarning: DBA loss is increasing while it should not be. Stopping optimization.\n",
      "  \"Stopping optimization.\", ConvergenceWarning)\n"
     ]
    },
    {
     "name": "stdout",
     "output_type": "stream",
     "text": [
      "(48, 1)\n"
     ]
    }
   ],
   "source": [
    "# 530 * 48 all\n",
    "one_cluster_dba_barycenter = []\n",
    "X_list = get_all(daily=True)\n",
    "pbar = tqdm(X_list)\n",
    "for X in pbar:\n",
    "    result = dtw_barycenter_averaging_subgradient(X, max_iter=20, tol=1e-3)\n",
    "    one_cluster_dba_barycenter.append(result)\n",
    "print(one_cluster_dba_barycenter[0].shape)\n",
    "\n",
    "# 530 * 48 no ntl\n",
    "one_cluster_dba_barycenter_no_ntl = []\n",
    "X_list = get_no_ntl(daily=True)\n",
    "pbar = tqdm(X_list)\n",
    "for X in pbar:\n",
    "    result = dtw_barycenter_averaging_subgradient(X, max_iter=20, tol=1e-3)\n",
    "    one_cluster_dba_barycenter_no_ntl.append(result)\n",
    "print(one_cluster_dba_barycenter_no_ntl[0].shape)\n",
    "\n",
    "# 530 * 48 only ntl\n",
    "one_cluster_dba_barycenter_only_ntl = []\n",
    "X_list = get_only_ntl(daily=True)\n",
    "pbar = tqdm(X_list)\n",
    "for X in pbar:\n",
    "    result = dtw_barycenter_averaging_subgradient(X, max_iter=20, tol=1e-3)\n",
    "    one_cluster_dba_barycenter_only_ntl.append(result)\n",
    "print(one_cluster_dba_barycenter_only_ntl[0].shape)"
   ]
  },
  {
   "cell_type": "code",
   "execution_count": 25,
   "id": "4049fb2f",
   "metadata": {
    "Collapsed": "false"
   },
   "outputs": [
    {
     "data": {
      "text/plain": [
       "<matplotlib.legend.Legend at 0x7fb6b04a30d0>"
      ]
     },
     "execution_count": 25,
     "metadata": {},
     "output_type": "execute_result"
    },
    {
     "data": {
      "image/png": "[encoded data removed]",
      "text/plain": [
       "<Figure size 432x288 with 1 Axes>"
      ]
     },
     "metadata": {},
     "output_type": "display_data"
    }
   ],
   "source": [
    "# dba area 0\n",
    "plt.plot(one_cluster_dba_barycenter[0], label=\"all\")\n",
    "plt.plot(one_cluster_dba_barycenter_no_ntl[0], label=\"no ntl\")\n",
    "plt.plot(one_cluster_dba_barycenter_only_ntl[0], label=\"only ntl\")\n",
    "plt.legend(loc=\"upper left\")"
   ]
  },
  {
   "cell_type": "markdown",
   "id": "df4925fe",
   "metadata": {
    "Collapsed": "false"
   },
   "source": [
    "# sdtw"
   ]
  },
  {
   "cell_type": "markdown",
   "id": "62e1b5f4",
   "metadata": {
    "Collapsed": "false"
   },
   "source": [
    "## sdtw, -1 * 530 * 48"
   ]
  },
  {
   "cell_type": "code",
   "execution_count": 28,
   "id": "2611af19",
   "metadata": {
    "Collapsed": "false"
   },
   "outputs": [
    {
     "data": {
      "application/vnd.jupyter.widget-view+json": {
       "model_id": "89fdc807ed094078878df3c65e7e2d7d",
       "version_major": 2,
       "version_minor": 0
      },
      "text/plain": [
       "  0%|          | 0/10 [00:00<?, ?it/s]"
      ]
     },
     "metadata": {},
     "output_type": "display_data"
    },
    {
     "data": {
      "application/vnd.jupyter.widget-view+json": {
       "model_id": "d300b0a7c0f34383a1f5349d186e99d5",
       "version_major": 2,
       "version_minor": 0
      },
      "text/plain": [
       "  0%|          | 0/10 [00:00<?, ?it/s]"
      ]
     },
     "metadata": {},
     "output_type": "display_data"
    },
    {
     "name": "stdout",
     "output_type": "stream",
     "text": [
      "(530, 48)\n"
     ]
    },
    {
     "data": {
      "application/vnd.jupyter.widget-view+json": {
       "model_id": "49a628c386ae4af19ee4d0ad26aa6f60",
       "version_major": 2,
       "version_minor": 0
      },
      "text/plain": [
       "  0%|          | 0/10 [00:00<?, ?it/s]"
      ]
     },
     "metadata": {},
     "output_type": "display_data"
    },
    {
     "data": {
      "application/vnd.jupyter.widget-view+json": {
       "model_id": "4580240039524ca798c9bae16ce2f245",
       "version_major": 2,
       "version_minor": 0
      },
      "text/plain": [
       "  0%|          | 0/10 [00:00<?, ?it/s]"
      ]
     },
     "metadata": {},
     "output_type": "display_data"
    },
    {
     "name": "stdout",
     "output_type": "stream",
     "text": [
      "(530, 48)\n"
     ]
    },
    {
     "data": {
      "application/vnd.jupyter.widget-view+json": {
       "model_id": "9adb57af57c24bbd84522c63f1824890",
       "version_major": 2,
       "version_minor": 0
      },
      "text/plain": [
       "  0%|          | 0/10 [00:00<?, ?it/s]"
      ]
     },
     "metadata": {},
     "output_type": "display_data"
    },
    {
     "data": {
      "application/vnd.jupyter.widget-view+json": {
       "model_id": "1e53ed4049dd4af3af91f27a1d109695",
       "version_major": 2,
       "version_minor": 0
      },
      "text/plain": [
       "  0%|          | 0/10 [00:00<?, ?it/s]"
      ]
     },
     "metadata": {},
     "output_type": "display_data"
    },
    {
     "name": "stdout",
     "output_type": "stream",
     "text": [
      "(530, 48)\n"
     ]
    }
   ],
   "source": [
    "# 530 * 48 all\n",
    "one_cluster_sdtw_barycenter_48 = []\n",
    "X_list = get_all()\n",
    "pbar = tqdm(X_list)\n",
    "for X in pbar:\n",
    "    result = softdtw_barycenter(X, max_iter=20, tol=1e-3)\n",
    "    one_cluster_sdtw_barycenter_48.append(result)\n",
    "print(one_cluster_sdtw_barycenter_48[0].shape)\n",
    "\n",
    "# 530 * 48 no ntl\n",
    "one_cluster_sdtw_barycenter_48_no_ntl = []\n",
    "X_list = get_no_ntl()\n",
    "pbar = tqdm(X_list)\n",
    "for X in pbar:\n",
    "    result = softdtw_barycenter(X, max_iter=20, tol=1e-3)\n",
    "    one_cluster_sdtw_barycenter_48_no_ntl.append(result)\n",
    "print(one_cluster_sdtw_barycenter_48_no_ntl[0].shape)\n",
    "\n",
    "# 530 * 48 only ntl\n",
    "one_cluster_sdtw_barycenter_48_only_ntl = []\n",
    "X_list = get_only_ntl()\n",
    "pbar = tqdm(X_list)\n",
    "for X in pbar:\n",
    "    result = softdtw_barycenter(X, max_iter=20, tol=1e-3)\n",
    "    one_cluster_sdtw_barycenter_48_only_ntl.append(result)\n",
    "print(one_cluster_sdtw_barycenter_48_only_ntl[0].shape)"
   ]
  },
  {
   "cell_type": "code",
   "execution_count": 34,
   "id": "984b4845",
   "metadata": {
    "Collapsed": "false"
   },
   "outputs": [
    {
     "data": {
      "text/plain": [
       "<matplotlib.legend.Legend at 0x7fb672bc4910>"
      ]
     },
     "execution_count": 34,
     "metadata": {},
     "output_type": "execute_result"
    },
    {
     "data": {
      "image/png": "[encoded data removed]",
      "text/plain": [
       "<Figure size 432x288 with 1 Axes>"
      ]
     },
     "metadata": {},
     "output_type": "display_data"
    }
   ],
   "source": [
    "# sdtw area 0\n",
    "plt.plot(one_cluster_sdtw_barycenter_48[0][0], label=\"all\")\n",
    "plt.plot(one_cluster_sdtw_barycenter_48_no_ntl[0][0], label=\"no ntl\")\n",
    "plt.plot(one_cluster_sdtw_barycenter_48_only_ntl[0][0], label=\"only ntl\")\n",
    "plt.legend(loc=\"upper left\")"
   ]
  },
  {
   "cell_type": "code",
   "execution_count": 112,
   "id": "9eeb5ad3",
   "metadata": {
    "Collapsed": "false"
   },
   "outputs": [
    {
     "data": {
      "image/png": "[encoded data removed]",
      "text/plain": [
       "<Figure size 432x288 with 1 Axes>"
      ]
     },
     "metadata": {},
     "output_type": "display_data"
    }
   ],
   "source": [
    "plt.plot(one_cluster_sdtw_barycenter_48[0][0], label=\"all\")\n",
    "plt.plot(one_cluster_sdtw_barycenter_48_no_ntl[0][0], label=\"no ntl\")\n",
    "plt.plot(one_cluster_sdtw_barycenter_48_only_ntl[0][0], label=\"only ntl\")\n",
    "plt.legend(loc=\"upper left\")\n",
    "plt.xlabel(\"Half hours\")\n",
    "plt.ylabel(\"Electricity\")\n",
    "plt.savefig(\"sdtw barycenter 530*48 1 day in area 0\")"
   ]
  },
  {
   "cell_type": "code",
   "execution_count": 53,
   "id": "fdd9c32a",
   "metadata": {
    "Collapsed": "false"
   },
   "outputs": [
    {
     "name": "stdout",
     "output_type": "stream",
     "text": [
      "10\n",
      "422\n",
      "530\n",
      "48\n"
     ]
    }
   ],
   "source": [
    "print(len(X_list))\n",
    "print(len(X_list[0]))\n",
    "print(len(X_list[0][0]))\n",
    "print(len(X_list[0][0][0]))"
   ]
  },
  {
   "cell_type": "code",
   "execution_count": 54,
   "id": "0ff571c0",
   "metadata": {
    "Collapsed": "false"
   },
   "outputs": [
    {
     "name": "stdout",
     "output_type": "stream",
     "text": [
      "10\n",
      "530\n",
      "48\n"
     ]
    }
   ],
   "source": [
    "print(len(one_cluster_sdtw_barycenter_48))\n",
    "print(len(one_cluster_sdtw_barycenter_48[0]))\n",
    "print(len(one_cluster_sdtw_barycenter_48[0][0]))"
   ]
  },
  {
   "cell_type": "code",
   "execution_count": 116,
   "id": "7dbe2d86",
   "metadata": {
    "Collapsed": "false"
   },
   "outputs": [
    {
     "data": {
      "image/png": "[encoded data removed]",
      "text/plain": [
       "<Figure size 432x288 with 1 Axes>"
      ]
     },
     "metadata": {},
     "output_type": "display_data"
    }
   ],
   "source": [
    "continous = np.empty(0)\n",
    "continous_no_ntl = np.empty(0)\n",
    "continous_only_ntl = np.empty(0)\n",
    "for i in range(5): #前五天\n",
    "    plt.plot(one_cluster_sdtw_barycenter_48[0][i], label=i)\n",
    "    continous = np.append(continous, one_cluster_sdtw_barycenter_48[0][i][0:48])\n",
    "    continous_no_ntl = np.append(continous_no_ntl, one_cluster_sdtw_barycenter_48_no_ntl[0][i][0:48])\n",
    "    continous_only_ntl = np.append(continous_only_ntl, one_cluster_sdtw_barycenter_48_only_ntl[0][i][0:48])\n",
    "    plt.legend(loc=\"upper left\")"
   ]
  },
  {
   "cell_type": "code",
   "execution_count": 117,
   "id": "754097e8",
   "metadata": {
    "Collapsed": "false"
   },
   "outputs": [
    {
     "data": {
      "image/png": "[encoded data removed]",
      "text/plain": [
       "<Figure size 720x216 with 1 Axes>"
      ]
     },
     "metadata": {},
     "output_type": "display_data"
    }
   ],
   "source": [
    "# sdtw area 0\n",
    "plt.figure(figsize=(10,3))\n",
    "plt.plot(continous, label=\"all\")\n",
    "plt.plot(continous_no_ntl, label=\"no ntl\")\n",
    "plt.plot(continous_only_ntl, label=\"only ntl\")\n",
    "plt.legend(loc=\"upper left\")\n",
    "plt.xlabel(\"Half hours\")\n",
    "plt.ylabel(\"Electricity\")\n",
    "plt.savefig(\"sdtw barycenter 530*48 5 day in area 0\")"
   ]
  },
  {
   "cell_type": "markdown",
   "id": "16fd6bb0",
   "metadata": {
    "Collapsed": "true"
   },
   "source": [
    "## sdtw, -1 * 48"
   ]
  },
  {
   "cell_type": "code",
   "execution_count": 32,
   "id": "00e0753d",
   "metadata": {
    "Collapsed": "false"
   },
   "outputs": [
    {
     "data": {
      "application/vnd.jupyter.widget-view+json": {
       "model_id": "e7d52415927f44c6b569f02525c79cd4",
       "version_major": 2,
       "version_minor": 0
      },
      "text/plain": [
       "  0%|          | 0/10 [00:00<?, ?it/s]"
      ]
     },
     "metadata": {},
     "output_type": "display_data"
    },
    {
     "data": {
      "application/vnd.jupyter.widget-view+json": {
       "model_id": "145d0b435aa14727bf81581362fdd9ce",
       "version_major": 2,
       "version_minor": 0
      },
      "text/plain": [
       "  0%|          | 0/10 [00:00<?, ?it/s]"
      ]
     },
     "metadata": {},
     "output_type": "display_data"
    },
    {
     "name": "stdout",
     "output_type": "stream",
     "text": [
      "(48, 1)\n"
     ]
    },
    {
     "data": {
      "application/vnd.jupyter.widget-view+json": {
       "model_id": "7aa0557d28e0458e88c864175298c6c3",
       "version_major": 2,
       "version_minor": 0
      },
      "text/plain": [
       "  0%|          | 0/10 [00:00<?, ?it/s]"
      ]
     },
     "metadata": {},
     "output_type": "display_data"
    },
    {
     "data": {
      "application/vnd.jupyter.widget-view+json": {
       "model_id": "fd9d34dabbdf4fc4a35c550d0bc12a4e",
       "version_major": 2,
       "version_minor": 0
      },
      "text/plain": [
       "  0%|          | 0/10 [00:00<?, ?it/s]"
      ]
     },
     "metadata": {},
     "output_type": "display_data"
    },
    {
     "name": "stdout",
     "output_type": "stream",
     "text": [
      "(48, 1)\n"
     ]
    },
    {
     "data": {
      "application/vnd.jupyter.widget-view+json": {
       "model_id": "56bac96f6f62488f9e5eca2664e37b85",
       "version_major": 2,
       "version_minor": 0
      },
      "text/plain": [
       "  0%|          | 0/10 [00:00<?, ?it/s]"
      ]
     },
     "metadata": {},
     "output_type": "display_data"
    },
    {
     "data": {
      "application/vnd.jupyter.widget-view+json": {
       "model_id": "89c764e43c6949d1aba88ae7eb46d343",
       "version_major": 2,
       "version_minor": 0
      },
      "text/plain": [
       "  0%|          | 0/10 [00:00<?, ?it/s]"
      ]
     },
     "metadata": {},
     "output_type": "display_data"
    },
    {
     "name": "stdout",
     "output_type": "stream",
     "text": [
      "(48, 1)\n"
     ]
    }
   ],
   "source": [
    "# 530 * 48 all\n",
    "one_cluster_sdtw_barycenter = []\n",
    "X_list = get_all(daily=True)\n",
    "pbar = tqdm(X_list)\n",
    "for X in pbar:\n",
    "    result = softdtw_barycenter(X, max_iter=20, tol=1e-3)\n",
    "    one_cluster_sdtw_barycenter.append(result)\n",
    "print(one_cluster_sdtw_barycenter[0].shape)\n",
    "\n",
    "# 530 * 48 no ntl\n",
    "one_cluster_sdtw_barycenter_no_ntl = []\n",
    "X_list = get_no_ntl(daily=True)\n",
    "pbar = tqdm(X_list)\n",
    "for X in pbar:\n",
    "    result = softdtw_barycenter(X, max_iter=20, tol=1e-3)\n",
    "    one_cluster_sdtw_barycenter_no_ntl.append(result)\n",
    "print(one_cluster_sdtw_barycenter_no_ntl[0].shape)\n",
    "\n",
    "# 530 * 48 only ntl\n",
    "one_cluster_sdtw_barycenter_only_ntl = []\n",
    "X_list = get_only_ntl(daily=True)\n",
    "pbar = tqdm(X_list)\n",
    "for X in pbar:\n",
    "    result = softdtw_barycenter(X, max_iter=20, tol=1e-3)\n",
    "    one_cluster_sdtw_barycenter_only_ntl.append(result)\n",
    "print(one_cluster_sdtw_barycenter_only_ntl[0].shape)"
   ]
  },
  {
   "cell_type": "code",
   "execution_count": 118,
   "id": "994b2ee1",
   "metadata": {
    "Collapsed": "false"
   },
   "outputs": [
    {
     "data": {
      "image/png": "[encoded data removed]",
      "text/plain": [
       "<Figure size 432x288 with 1 Axes>"
      ]
     },
     "metadata": {},
     "output_type": "display_data"
    }
   ],
   "source": [
    "# sdtw area 0\n",
    "plt.plot(one_cluster_sdtw_barycenter[0], label=\"all\")\n",
    "plt.plot(one_cluster_sdtw_barycenter_no_ntl[0], label=\"no ntl\")\n",
    "plt.plot(one_cluster_sdtw_barycenter_only_ntl[0], label=\"only ntl\")\n",
    "plt.legend(loc=\"upper left\")\n",
    "plt.xlabel(\"Half hours\")\n",
    "plt.ylabel(\"Electricity\")\n",
    "plt.savefig(\"sdtw barycenter -1*48 1 day in area 0\")"
   ]
  },
  {
   "cell_type": "code",
   "execution_count": 55,
   "id": "1e2dfbca",
   "metadata": {
    "Collapsed": "false"
   },
   "outputs": [
    {
     "name": "stdout",
     "output_type": "stream",
     "text": [
      "10\n",
      "48\n",
      "1\n"
     ]
    }
   ],
   "source": [
    "print(len(one_cluster_sdtw_barycenter))\n",
    "print(len(one_cluster_sdtw_barycenter[0]))\n",
    "print(len(one_cluster_sdtw_barycenter[0][0]))"
   ]
  },
  {
   "cell_type": "code",
   "execution_count": 121,
   "id": "04b389ab",
   "metadata": {
    "Collapsed": "false"
   },
   "outputs": [
    {
     "data": {
      "image/png": "[encoded data removed]",
      "text/plain": [
       "<Figure size 432x288 with 1 Axes>"
      ]
     },
     "metadata": {},
     "output_type": "display_data"
    }
   ],
   "source": [
    "continous = np.empty(0)\n",
    "continous_no_ntl = np.empty(0)\n",
    "continous_only_ntl = np.empty(0)\n",
    "for i in range(10): #前五天\n",
    "    plt.plot(one_cluster_sdtw_barycenter[i], label=i)\n",
    "    continous = np.append(continous, one_cluster_sdtw_barycenter[i][0:48])\n",
    "    continous_no_ntl = np.append(continous_no_ntl, one_cluster_sdtw_barycenter_no_ntl[i][0:48])\n",
    "    continous_only_ntl = np.append(continous_only_ntl, one_cluster_sdtw_barycenter_only_ntl[i][0:48])\n",
    "    plt.legend(loc=\"upper left\")"
   ]
  },
  {
   "cell_type": "code",
   "execution_count": 122,
   "id": "289ff2b4",
   "metadata": {
    "Collapsed": "false"
   },
   "outputs": [
    {
     "data": {
      "image/png": "[encoded data removed]",
      "text/plain": [
       "<Figure size 720x216 with 1 Axes>"
      ]
     },
     "metadata": {},
     "output_type": "display_data"
    }
   ],
   "source": [
    "# sdtw area 0\n",
    "plt.figure(figsize=(10,3))\n",
    "plt.plot(continous, label=\"all\")\n",
    "plt.plot(continous_no_ntl, label=\"no ntl\")\n",
    "plt.plot(continous_only_ntl, label=\"only ntl\")\n",
    "plt.legend(loc=\"upper left\")\n",
    "plt.xlabel(\"Half hours\")\n",
    "plt.ylabel(\"Electricity\")\n",
    "plt.savefig(\"sdtw barycenter -1*48 10 day in area 0\")"
   ]
  },
  {
   "cell_type": "markdown",
   "id": "954fffd6",
   "metadata": {
    "Collapsed": "false"
   },
   "source": [
    "# save results"
   ]
  },
  {
   "cell_type": "markdown",
   "id": "ceb7763b",
   "metadata": {
    "Collapsed": "false"
   },
   "source": [
    "## 530 * 48"
   ]
  },
  {
   "cell_type": "code",
   "execution_count": 130,
   "id": "6a42e205",
   "metadata": {
    "Collapsed": "false"
   },
   "outputs": [],
   "source": [
    "#euclidean\n",
    "df = pd.DataFrame(np.array(one_cluster_eu_barycenter_48).reshape(10, 530*48))\n",
    "df.shape\n",
    "e = df.to_csv(index=False)\n",
    "f = open('one_cluster_eu_barycenter_48.csv','w')\n",
    "f.write(e) #Give your csv text here.\n",
    "f.close()\n",
    "\n",
    "df = pd.DataFrame(np.array(one_cluster_eu_barycenter_48_no_ntl).reshape(10, 530*48))\n",
    "df.shape\n",
    "e = df.to_csv(index=False)\n",
    "f = open('one_cluster_eu_barycenter_48_no_ntl.csv','w')\n",
    "f.write(e) #Give your csv text here.\n",
    "f.close()\n",
    "\n",
    "df = pd.DataFrame(np.array(one_cluster_eu_barycenter_48_only_ntl).reshape(10, 530*48))\n",
    "df.shape\n",
    "e = df.to_csv(index=False)\n",
    "f = open('one_cluster_eu_barycenter_48_only_ntl.csv','w')\n",
    "f.write(e) #Give your csv text here.\n",
    "f.close()"
   ]
  },
  {
   "cell_type": "code",
   "execution_count": 30,
   "id": "f78f88d8",
   "metadata": {
    "Collapsed": "false"
   },
   "outputs": [],
   "source": [
    "#dba\n",
    "df = pd.DataFrame(np.array(one_cluster_dba_barycenter_48).reshape(10, 530*48))\n",
    "df.shape\n",
    "e = df.to_csv(index=False)\n",
    "f = open('one_cluster_dba_barycenter_48.csv','w')\n",
    "f.write(e) #Give your csv text here.\n",
    "f.close()\n",
    "\n",
    "df = pd.DataFrame(np.array(one_cluster_dba_barycenter_48_no_ntl).reshape(10, 530*48))\n",
    "df.shape\n",
    "e = df.to_csv(index=False)\n",
    "f = open('one_cluster_dba_barycenter_48_no_ntl.csv','w')\n",
    "f.write(e) #Give your csv text here.\n",
    "f.close()\n",
    "\n",
    "df = pd.DataFrame(np.array(one_cluster_dba_barycenter_48_only_ntl).reshape(10, 530*48))\n",
    "df.shape\n",
    "e = df.to_csv(index=False)\n",
    "f = open('one_cluster_dba_barycenter_48_only_ntl.csv','w')\n",
    "f.write(e) #Give your csv text here.\n",
    "f.close()"
   ]
  },
  {
   "cell_type": "code",
   "execution_count": 31,
   "id": "2776da45",
   "metadata": {
    "Collapsed": "false"
   },
   "outputs": [],
   "source": [
    "#sdtw\n",
    "df = pd.DataFrame(np.array(one_cluster_sdtw_barycenter_48).reshape(10, 530*48))\n",
    "df.shape\n",
    "e = df.to_csv(index=False)\n",
    "f = open('one_cluster_sdtw_barycenter_48.csv','w')\n",
    "f.write(e) #Give your csv text here.\n",
    "f.close()\n",
    "\n",
    "df = pd.DataFrame(np.array(one_cluster_sdtw_barycenter_48_no_ntl).reshape(10, 530*48))\n",
    "df.shape\n",
    "e = df.to_csv(index=False)\n",
    "f = open('one_cluster_sdtw_barycenter_48_no_ntl.csv','w')\n",
    "f.write(e) #Give your csv text here.\n",
    "f.close()\n",
    "\n",
    "df = pd.DataFrame(np.array(one_cluster_sdtw_barycenter_48_only_ntl).reshape(10, 530*48))\n",
    "df.shape\n",
    "e = df.to_csv(index=False)\n",
    "f = open('one_cluster_sdtw_barycenter_48_only_ntl.csv','w')\n",
    "f.write(e) #Give your csv text here.\n",
    "f.close()"
   ]
  },
  {
   "cell_type": "markdown",
   "id": "28fecc5c",
   "metadata": {
    "Collapsed": "false"
   },
   "source": [
    "## -1 * 48"
   ]
  },
  {
   "cell_type": "code",
   "execution_count": 137,
   "id": "87f7d8e9",
   "metadata": {
    "Collapsed": "false"
   },
   "outputs": [],
   "source": [
    "#euclidean\n",
    "df = pd.DataFrame(np.array(one_cluster_eu_barycenter).reshape(10,48))\n",
    "df.shape\n",
    "e = df.to_csv(index=False)\n",
    "f = open('one_cluster_eu_barycenter.csv','w')\n",
    "f.write(e) #Give your csv text here.\n",
    "f.close()\n",
    "\n",
    "df = pd.DataFrame(np.array(one_cluster_eu_barycenter_no_ntl).reshape(10, 48))\n",
    "df.shape\n",
    "e = df.to_csv(index=False)\n",
    "f = open('one_cluster_eu_barycenter_no_ntl.csv','w')\n",
    "f.write(e) #Give your csv text here.\n",
    "f.close()\n",
    "\n",
    "df = pd.DataFrame(np.array(one_cluster_eu_barycenter_only_ntl).reshape(10, 48))\n",
    "df.shape\n",
    "e = df.to_csv(index=False)\n",
    "f = open('one_cluster_eu_barycenter_only_ntl.csv','w')\n",
    "f.write(e) #Give your csv text here.\n",
    "f.close()"
   ]
  },
  {
   "cell_type": "code",
   "execution_count": 140,
   "id": "59228741",
   "metadata": {
    "Collapsed": "false"
   },
   "outputs": [],
   "source": [
    "#dba\n",
    "df = pd.DataFrame(np.array(one_cluster_dba_barycenter).reshape(10, 48))\n",
    "df.shape\n",
    "e = df.to_csv(index=False)\n",
    "f = open('one_cluster_dba_barycenter.csv','w')\n",
    "f.write(e) #Give your csv text here.\n",
    "f.close()\n",
    "\n",
    "df = pd.DataFrame(np.array(one_cluster_dba_barycenter_no_ntl).reshape(10, 48))\n",
    "df.shape\n",
    "e = df.to_csv(index=False)\n",
    "f = open('one_cluster_dba_barycenter_no_ntl.csv','w')\n",
    "f.write(e) #Give your csv text here.\n",
    "f.close()\n",
    "\n",
    "df = pd.DataFrame(np.array(one_cluster_dba_barycenter_only_ntl).reshape(10, 48))\n",
    "df.shape\n",
    "e = df.to_csv(index=False)\n",
    "f = open('one_cluster_dba_barycenter_only_ntl.csv','w')\n",
    "f.write(e) #Give your csv text here.\n",
    "f.close()"
   ]
  },
  {
   "cell_type": "code",
   "execution_count": 141,
   "id": "d7d6f9fd",
   "metadata": {
    "Collapsed": "false"
   },
   "outputs": [],
   "source": [
    "#sdtw\n",
    "df = pd.DataFrame(np.array(one_cluster_sdtw_barycenter).reshape(10, 48))\n",
    "df.shape\n",
    "e = df.to_csv(index=False)\n",
    "f = open('one_cluster_sdtw_barycenter.csv','w')\n",
    "f.write(e) #Give your csv text here.\n",
    "f.close()\n",
    "\n",
    "df = pd.DataFrame(np.array(one_cluster_sdtw_barycenter_no_ntl).reshape(10, 48))\n",
    "df.shape\n",
    "e = df.to_csv(index=False)\n",
    "f = open('one_cluster_sdtw_barycenter_no_ntl.csv','w')\n",
    "f.write(e) #Give your csv text here.\n",
    "f.close()\n",
    "\n",
    "df = pd.DataFrame(np.array(one_cluster_sdtw_barycenter_only_ntl).reshape(10, 48))\n",
    "df.shape\n",
    "e = df.to_csv(index=False)\n",
    "f = open('one_cluster_sdtw_barycenter_only_ntl.csv','w')\n",
    "f.write(e) #Give your csv text here.\n",
    "f.close()"
   ]
  }
 ],
 "metadata": {
  "environment": {
   "name": "common-cpu.m71",
   "type": "gcloud",
   "uri": "gcr.io/deeplearning-platform-release/base-cpu:m71"
  },
  "kernelspec": {
   "display_name": "Python 3",
   "language": "python",
   "name": "python3"
  },
  "language_info": {
   "codemirror_mode": {
    "name": "ipython",
    "version": 3
   },
   "file_extension": ".py",
   "mimetype": "text/x-python",
   "name": "python",
   "nbconvert_exporter": "python",
   "pygments_lexer": "ipython3",
   "version": "3.7.10"
  },
  "widgets": {
   "application/vnd.jupyter.widget-state+json": {
    "state": {
     "0160ba22307042bfb988b07440409846": {
      "model_module": "@jupyter-widgets/base",
      "model_module_version": "1.2.0",
      "model_name": "LayoutModel",
      "state": {}
     },
     "028793704a3941c9b7db6da55ffb89bc": {
      "model_module": "@jupyter-widgets/controls",
      "model_module_version": "1.5.0",
      "model_name": "FloatProgressModel",
      "state": {
       "bar_style": "danger",
       "layout": "IPY_MODEL_79a5ca3f80e4496ea044be5ebd4317f8",
       "max": 10,
       "style": "IPY_MODEL_d888fe3231c0439faf5c85559913b7e1"
      }
     },
     "058ae65112404c158a405f3b0277ff64": {
      "model_module": "@jupyter-widgets/controls",
      "model_module_version": "1.5.0",
      "model_name": "FloatProgressModel",
      "state": {
       "bar_style": "success",
       "layout": "IPY_MODEL_805a7b86c87448339f8f146a506ae598",
       "max": 10,
       "style": "IPY_MODEL_5a54032159624240a3041fd027ab13c2",
       "value": 10
      }
     },
     "0b47b07572ed4e02aed4e5afd594caa3": {
      "model_module": "@jupyter-widgets/controls",
      "model_module_version": "1.5.0",
      "model_name": "HBoxModel",
      "state": {
       "children": [
        "IPY_MODEL_db1bed8af1734d5392d40eb12ff92c96",
        "IPY_MODEL_058ae65112404c158a405f3b0277ff64",
        "IPY_MODEL_fdb2c57eadee4a8ab6c5d8f9414aaebe"
       ],
       "layout": "IPY_MODEL_9045e6bfe63b464d851b8d732cb64231"
      }
     },
     "0b5d9849ddfd49d98359089c00d62ce0": {
      "model_module": "@jupyter-widgets/controls",
      "model_module_version": "1.5.0",
      "model_name": "ProgressStyleModel",
      "state": {
       "description_width": ""
      }
     },
     "0f2c28cb90eb4eca9ed1f34b1901fb3e": {
      "model_module": "@jupyter-widgets/base",
      "model_module_version": "1.2.0",
      "model_name": "LayoutModel",
      "state": {}
     },
     "111c5b98d9434b62883b1c5ee498bcd6": {
      "model_module": "@jupyter-widgets/base",
      "model_module_version": "1.2.0",
      "model_name": "LayoutModel",
      "state": {}
     },
     "113e5980129c4b25841b36885c37a8f4": {
      "model_module": "@jupyter-widgets/controls",
      "model_module_version": "1.5.0",
      "model_name": "DescriptionStyleModel",
      "state": {
       "description_width": ""
      }
     },
     "13e7eef8bb2b48dfbba21bdb0ded491f": {
      "model_module": "@jupyter-widgets/controls",
      "model_module_version": "1.5.0",
      "model_name": "DescriptionStyleModel",
      "state": {
       "description_width": ""
      }
     },
     "1544fd1539e3433a8753a41f088c2839": {
      "model_module": "@jupyter-widgets/base",
      "model_module_version": "1.2.0",
      "model_name": "LayoutModel",
      "state": {}
     },
     "182b778ab5f6410aac400723ce7b4297": {
      "model_module": "@jupyter-widgets/controls",
      "model_module_version": "1.5.0",
      "model_name": "DescriptionStyleModel",
      "state": {
       "description_width": ""
      }
     },
     "1a0043f84b4d45c5ae71e68256c821d7": {
      "model_module": "@jupyter-widgets/base",
      "model_module_version": "1.2.0",
      "model_name": "LayoutModel",
      "state": {}
     },
     "1a40d9b87ff942b9802bc6081b6f30db": {
      "model_module": "@jupyter-widgets/controls",
      "model_module_version": "1.5.0",
      "model_name": "FloatProgressModel",
      "state": {
       "bar_style": "danger",
       "layout": "IPY_MODEL_64f5ea355f234fb39423c29fc6d9d3ce",
       "max": 10,
       "style": "IPY_MODEL_0b5d9849ddfd49d98359089c00d62ce0"
      }
     },
     "1e3221dac6474e06968d1dd6ad4307ae": {
      "model_module": "@jupyter-widgets/controls",
      "model_module_version": "1.5.0",
      "model_name": "HTMLModel",
      "state": {
       "layout": "IPY_MODEL_9b742883a26e456c904b949536a98aaa",
       "style": "IPY_MODEL_36c914ac9cbc4128bae1f47977010080",
       "value": " 10/10 [00:00&lt;00:00, 413.07it/s]"
      }
     },
     "1ec6ca44c9c64e95a036940aa64138fd": {
      "model_module": "@jupyter-widgets/controls",
      "model_module_version": "1.5.0",
      "model_name": "DescriptionStyleModel",
      "state": {
       "description_width": ""
      }
     },
     "21c9c2eb065940dd9a188a8d7cdab49b": {
      "model_module": "@jupyter-widgets/controls",
      "model_module_version": "1.5.0",
      "model_name": "HTMLModel",
      "state": {
       "layout": "IPY_MODEL_35eff1d5603d40d1893f29928943f745",
       "style": "IPY_MODEL_e78da3962be24b2eb70946f2fa0b4fce",
       "value": "100%"
      }
     },
     "273adb2c834944e3b8ce73b840183237": {
      "model_module": "@jupyter-widgets/controls",
      "model_module_version": "1.5.0",
      "model_name": "DescriptionStyleModel",
      "state": {
       "description_width": ""
      }
     },
     "2805321b766e4f7b9d4d8095e1a2214f": {
      "model_module": "@jupyter-widgets/controls",
      "model_module_version": "1.5.0",
      "model_name": "ProgressStyleModel",
      "state": {
       "description_width": ""
      }
     },
     "29aaf75fb0d54c89837b0e60d606ccb4": {
      "model_module": "@jupyter-widgets/controls",
      "model_module_version": "1.5.0",
      "model_name": "DescriptionStyleModel",
      "state": {
       "description_width": ""
      }
     },
     "2e3f1e130f9648dfa9479f8943ebe451": {
      "model_module": "@jupyter-widgets/controls",
      "model_module_version": "1.5.0",
      "model_name": "HTMLModel",
      "state": {
       "layout": "IPY_MODEL_9867d718c6c54a3ab8fbcecab928379c",
       "style": "IPY_MODEL_9cd18b998969458da18af80f12e010c1",
       "value": " 0/10 [00:00&lt;?, ?it/s]"
      }
     },
     "2edb959a188743e999d3e25bcdfff565": {
      "model_module": "@jupyter-widgets/base",
      "model_module_version": "1.2.0",
      "model_name": "LayoutModel",
      "state": {}
     },
     "2f6b440b71674110ad54cf0f2ddf994b": {
      "model_module": "@jupyter-widgets/controls",
      "model_module_version": "1.5.0",
      "model_name": "HTMLModel",
      "state": {
       "layout": "IPY_MODEL_ee1a339e0a04417eb68d898c70488d9c",
       "style": "IPY_MODEL_29aaf75fb0d54c89837b0e60d606ccb4",
       "value": "  0%"
      }
     },
     "35eff1d5603d40d1893f29928943f745": {
      "model_module": "@jupyter-widgets/base",
      "model_module_version": "1.2.0",
      "model_name": "LayoutModel",
      "state": {}
     },
     "36c914ac9cbc4128bae1f47977010080": {
      "model_module": "@jupyter-widgets/controls",
      "model_module_version": "1.5.0",
      "model_name": "DescriptionStyleModel",
      "state": {
       "description_width": ""
      }
     },
     "36f4f40d452e41cc9e02565b5f09eb0f": {
      "model_module": "@jupyter-widgets/controls",
      "model_module_version": "1.5.0",
      "model_name": "DescriptionStyleModel",
      "state": {
       "description_width": ""
      }
     },
     "37a6d69bb25c4180a2dcaa2eebcd03a2": {
      "model_module": "@jupyter-widgets/controls",
      "model_module_version": "1.5.0",
      "model_name": "ProgressStyleModel",
      "state": {
       "description_width": ""
      }
     },
     "39d67caf214d4e47a1002bb4d52763ab": {
      "model_module": "@jupyter-widgets/controls",
      "model_module_version": "1.5.0",
      "model_name": "DescriptionStyleModel",
      "state": {
       "description_width": ""
      }
     },
     "3b859923c3d04f689e49bb586648dae6": {
      "model_module": "@jupyter-widgets/controls",
      "model_module_version": "1.5.0",
      "model_name": "HTMLModel",
      "state": {
       "layout": "IPY_MODEL_1a0043f84b4d45c5ae71e68256c821d7",
       "style": "IPY_MODEL_89f0e52f4b324334b8baa7a5cc3a44a5",
       "value": "  0%"
      }
     },
     "3e3dc695ebfc4a6abe417837d7a86cd9": {
      "model_module": "@jupyter-widgets/controls",
      "model_module_version": "1.5.0",
      "model_name": "HBoxModel",
      "state": {
       "children": [
        "IPY_MODEL_63b8b5d96f164ee1898caa4544cfc378",
        "IPY_MODEL_c6e743294bee4d26afb28bd09dc8ea72",
        "IPY_MODEL_2e3f1e130f9648dfa9479f8943ebe451"
       ],
       "layout": "IPY_MODEL_9d391432448540458b460b2d8f715ff7"
      }
     },
     "3e4bb31b1efb48b3a022716ae0d90976": {
      "model_module": "@jupyter-widgets/controls",
      "model_module_version": "1.5.0",
      "model_name": "HBoxModel",
      "state": {
       "children": [
        "IPY_MODEL_21c9c2eb065940dd9a188a8d7cdab49b",
        "IPY_MODEL_e2dff83d546a45c39604544f1e835866",
        "IPY_MODEL_1e3221dac6474e06968d1dd6ad4307ae"
       ],
       "layout": "IPY_MODEL_da1f3ac50ed24e95a74656ff18b8df91"
      }
     },
     "440def59890d41a68189252f2aa86839": {
      "model_module": "@jupyter-widgets/controls",
      "model_module_version": "1.5.0",
      "model_name": "HTMLModel",
      "state": {
       "layout": "IPY_MODEL_d1d1fb66991d42bd91facbf2f9ab5814",
       "style": "IPY_MODEL_b1bd46c58c884f7db178782407e97136",
       "value": " 0/10 [00:35&lt;?, ?it/s]"
      }
     },
     "45d71df4564648ba9935074e6c967128": {
      "model_module": "@jupyter-widgets/base",
      "model_module_version": "1.2.0",
      "model_name": "LayoutModel",
      "state": {}
     },
     "45f2272855fb4a1ca38c371943d5ebd7": {
      "model_module": "@jupyter-widgets/base",
      "model_module_version": "1.2.0",
      "model_name": "LayoutModel",
      "state": {}
     },
     "46cc0345b83841c599e5ae367e9dc9ed": {
      "model_module": "@jupyter-widgets/controls",
      "model_module_version": "1.5.0",
      "model_name": "HBoxModel",
      "state": {
       "children": [
        "IPY_MODEL_eb85d75d850d46459d21cd0755f91226",
        "IPY_MODEL_c461489e68f74f20a3b69fcb55c21f51",
        "IPY_MODEL_79a2d440806a48cab28f04a6a9820427"
       ],
       "layout": "IPY_MODEL_a595f7bdaf5a4eb2a5bd9fa11a7e1c7e"
      }
     },
     "480fa591e98e4839a41167db5fbad7c2": {
      "model_module": "@jupyter-widgets/controls",
      "model_module_version": "1.5.0",
      "model_name": "DescriptionStyleModel",
      "state": {
       "description_width": ""
      }
     },
     "4ca11549ead046f28a14558e805ed8b4": {
      "model_module": "@jupyter-widgets/controls",
      "model_module_version": "1.5.0",
      "model_name": "HTMLModel",
      "state": {
       "layout": "IPY_MODEL_5432114ad8194459b4670640efacdc54",
       "style": "IPY_MODEL_480fa591e98e4839a41167db5fbad7c2",
       "value": "  0%"
      }
     },
     "4d24e43c40a6486688684cec3c4c677f": {
      "model_module": "@jupyter-widgets/base",
      "model_module_version": "1.2.0",
      "model_name": "LayoutModel",
      "state": {}
     },
     "53154c5cb0c14d519a7e4305a9939e59": {
      "model_module": "@jupyter-widgets/base",
      "model_module_version": "1.2.0",
      "model_name": "LayoutModel",
      "state": {}
     },
     "5432114ad8194459b4670640efacdc54": {
      "model_module": "@jupyter-widgets/base",
      "model_module_version": "1.2.0",
      "model_name": "LayoutModel",
      "state": {}
     },
     "54987f147f8844d29c76f962d1cc1b85": {
      "model_module": "@jupyter-widgets/base",
      "model_module_version": "1.2.0",
      "model_name": "LayoutModel",
      "state": {}
     },
     "57830f867dd8446d9e970d43deb958f3": {
      "model_module": "@jupyter-widgets/controls",
      "model_module_version": "1.5.0",
      "model_name": "ProgressStyleModel",
      "state": {
       "description_width": ""
      }
     },
     "5a54032159624240a3041fd027ab13c2": {
      "model_module": "@jupyter-widgets/controls",
      "model_module_version": "1.5.0",
      "model_name": "ProgressStyleModel",
      "state": {
       "description_width": ""
      }
     },
     "5a74266d64ae4a5a9e4e502cc2b5e0bb": {
      "model_module": "@jupyter-widgets/controls",
      "model_module_version": "1.5.0",
      "model_name": "DescriptionStyleModel",
      "state": {
       "description_width": ""
      }
     },
     "5c221ee4a909464c974df2f95f03ccdb": {
      "model_module": "@jupyter-widgets/base",
      "model_module_version": "1.2.0",
      "model_name": "LayoutModel",
      "state": {}
     },
     "604d259e2de84ed3afcc4dce920c515d": {
      "model_module": "@jupyter-widgets/controls",
      "model_module_version": "1.5.0",
      "model_name": "HTMLModel",
      "state": {
       "layout": "IPY_MODEL_bd44bd9a57c64b65973e1782e4bea401",
       "style": "IPY_MODEL_b2e0ca85e4554b10a01e6158a39a72fc",
       "value": " 0/10 [00:00&lt;?, ?it/s]"
      }
     },
     "63b8b5d96f164ee1898caa4544cfc378": {
      "model_module": "@jupyter-widgets/controls",
      "model_module_version": "1.5.0",
      "model_name": "HTMLModel",
      "state": {
       "layout": "IPY_MODEL_ee366e58426841b7b63772146e9d276f",
       "style": "IPY_MODEL_182b778ab5f6410aac400723ce7b4297",
       "value": "  0%"
      }
     },
     "6442d16a30944e9cbb1484cfa4fa667b": {
      "model_module": "@jupyter-widgets/base",
      "model_module_version": "1.2.0",
      "model_name": "LayoutModel",
      "state": {}
     },
     "64f5ea355f234fb39423c29fc6d9d3ce": {
      "model_module": "@jupyter-widgets/base",
      "model_module_version": "1.2.0",
      "model_name": "LayoutModel",
      "state": {}
     },
     "6e9320d0966847dd888a94978291ae49": {
      "model_module": "@jupyter-widgets/controls",
      "model_module_version": "1.5.0",
      "model_name": "HTMLModel",
      "state": {
       "layout": "IPY_MODEL_45f2272855fb4a1ca38c371943d5ebd7",
       "style": "IPY_MODEL_39d67caf214d4e47a1002bb4d52763ab",
       "value": " 0/10 [00:34&lt;?, ?it/s]"
      }
     },
     "6f319527cb0743549c2933cc2c9afb4f": {
      "model_module": "@jupyter-widgets/controls",
      "model_module_version": "1.5.0",
      "model_name": "HTMLModel",
      "state": {
       "layout": "IPY_MODEL_4d24e43c40a6486688684cec3c4c677f",
       "style": "IPY_MODEL_ab82bc4b9b4043e299cd30726a6b655e",
       "value": "  0%"
      }
     },
     "713c61fe951140329ba483fab106b7bb": {
      "model_module": "@jupyter-widgets/base",
      "model_module_version": "1.2.0",
      "model_name": "LayoutModel",
      "state": {}
     },
     "72e3ea3de4b44ec79f788d1d3efa8eb3": {
      "model_module": "@jupyter-widgets/controls",
      "model_module_version": "1.5.0",
      "model_name": "DescriptionStyleModel",
      "state": {
       "description_width": ""
      }
     },
     "7454dc9f32b048aaa5f4de294595c912": {
      "model_module": "@jupyter-widgets/base",
      "model_module_version": "1.2.0",
      "model_name": "LayoutModel",
      "state": {}
     },
     "7585f2a157464741a23db2ffe34206c7": {
      "model_module": "@jupyter-widgets/base",
      "model_module_version": "1.2.0",
      "model_name": "LayoutModel",
      "state": {}
     },
     "76b5dd522e17425db69fd0a006bfde5b": {
      "model_module": "@jupyter-widgets/controls",
      "model_module_version": "1.5.0",
      "model_name": "ProgressStyleModel",
      "state": {
       "description_width": ""
      }
     },
     "78beb4ea55b24f04ae693c30fbad8efa": {
      "model_module": "@jupyter-widgets/controls",
      "model_module_version": "1.5.0",
      "model_name": "ProgressStyleModel",
      "state": {
       "description_width": ""
      }
     },
     "79a2d440806a48cab28f04a6a9820427": {
      "model_module": "@jupyter-widgets/controls",
      "model_module_version": "1.5.0",
      "model_name": "HTMLModel",
      "state": {
       "layout": "IPY_MODEL_eabc29bb72774ef9a3f385804b0349cc",
       "style": "IPY_MODEL_9795b6492e9a436bb1099d71427d8d72",
       "value": " 0/10 [00:00&lt;?, ?it/s]"
      }
     },
     "79a5ca3f80e4496ea044be5ebd4317f8": {
      "model_module": "@jupyter-widgets/base",
      "model_module_version": "1.2.0",
      "model_name": "LayoutModel",
      "state": {}
     },
     "7a25359d6ae343bb835c888fce121c55": {
      "model_module": "@jupyter-widgets/controls",
      "model_module_version": "1.5.0",
      "model_name": "DescriptionStyleModel",
      "state": {
       "description_width": ""
      }
     },
     "7b81388d14e74d91b2fd171b47495e4e": {
      "model_module": "@jupyter-widgets/controls",
      "model_module_version": "1.5.0",
      "model_name": "HBoxModel",
      "state": {
       "children": [
        "IPY_MODEL_b9a7f788dec94c6e972fb3b379e9f351",
        "IPY_MODEL_7d1181d99df74caeb51ec6d900cd323d",
        "IPY_MODEL_dc53a922f5c34dacb08248a7e01aa5a6"
       ],
       "layout": "IPY_MODEL_713c61fe951140329ba483fab106b7bb"
      }
     },
     "7d1181d99df74caeb51ec6d900cd323d": {
      "model_module": "@jupyter-widgets/controls",
      "model_module_version": "1.5.0",
      "model_name": "FloatProgressModel",
      "state": {
       "bar_style": "success",
       "layout": "IPY_MODEL_0f2c28cb90eb4eca9ed1f34b1901fb3e",
       "max": 10,
       "style": "IPY_MODEL_37a6d69bb25c4180a2dcaa2eebcd03a2",
       "value": 10
      }
     },
     "7ff9a7b90a5f4f79a5d8585cdc59e0b0": {
      "model_module": "@jupyter-widgets/base",
      "model_module_version": "1.2.0",
      "model_name": "LayoutModel",
      "state": {}
     },
     "805a7b86c87448339f8f146a506ae598": {
      "model_module": "@jupyter-widgets/base",
      "model_module_version": "1.2.0",
      "model_name": "LayoutModel",
      "state": {}
     },
     "84d9f7793f5048e5952ac01169132e91": {
      "model_module": "@jupyter-widgets/controls",
      "model_module_version": "1.5.0",
      "model_name": "HTMLModel",
      "state": {
       "layout": "IPY_MODEL_54987f147f8844d29c76f962d1cc1b85",
       "style": "IPY_MODEL_1ec6ca44c9c64e95a036940aa64138fd",
       "value": "  0%"
      }
     },
     "89f0e52f4b324334b8baa7a5cc3a44a5": {
      "model_module": "@jupyter-widgets/controls",
      "model_module_version": "1.5.0",
      "model_name": "DescriptionStyleModel",
      "state": {
       "description_width": ""
      }
     },
     "9045e6bfe63b464d851b8d732cb64231": {
      "model_module": "@jupyter-widgets/base",
      "model_module_version": "1.2.0",
      "model_name": "LayoutModel",
      "state": {}
     },
     "962eb3d06fac4d56b1b4e7ec5183ed5c": {
      "model_module": "@jupyter-widgets/controls",
      "model_module_version": "1.5.0",
      "model_name": "DescriptionStyleModel",
      "state": {
       "description_width": ""
      }
     },
     "96a625744fda4821af5e110877607e99": {
      "model_module": "@jupyter-widgets/controls",
      "model_module_version": "1.5.0",
      "model_name": "FloatProgressModel",
      "state": {
       "bar_style": "danger",
       "layout": "IPY_MODEL_9a04c20f7c504bbdb6c1bc03f8aec178",
       "max": 10,
       "style": "IPY_MODEL_c56ee2fe983443cb906cc82b8d1e8d84"
      }
     },
     "9795b6492e9a436bb1099d71427d8d72": {
      "model_module": "@jupyter-widgets/controls",
      "model_module_version": "1.5.0",
      "model_name": "DescriptionStyleModel",
      "state": {
       "description_width": ""
      }
     },
     "9867d718c6c54a3ab8fbcecab928379c": {
      "model_module": "@jupyter-widgets/base",
      "model_module_version": "1.2.0",
      "model_name": "LayoutModel",
      "state": {}
     },
     "9a04c20f7c504bbdb6c1bc03f8aec178": {
      "model_module": "@jupyter-widgets/base",
      "model_module_version": "1.2.0",
      "model_name": "LayoutModel",
      "state": {}
     },
     "9a1b681815cf4570bdd0ae8495d22a0a": {
      "model_module": "@jupyter-widgets/base",
      "model_module_version": "1.2.0",
      "model_name": "LayoutModel",
      "state": {}
     },
     "9b742883a26e456c904b949536a98aaa": {
      "model_module": "@jupyter-widgets/base",
      "model_module_version": "1.2.0",
      "model_name": "LayoutModel",
      "state": {}
     },
     "9cd18b998969458da18af80f12e010c1": {
      "model_module": "@jupyter-widgets/controls",
      "model_module_version": "1.5.0",
      "model_name": "DescriptionStyleModel",
      "state": {
       "description_width": ""
      }
     },
     "9d0538720b924a41810d68eae81931c0": {
      "model_module": "@jupyter-widgets/controls",
      "model_module_version": "1.5.0",
      "model_name": "HTMLModel",
      "state": {
       "layout": "IPY_MODEL_7454dc9f32b048aaa5f4de294595c912",
       "style": "IPY_MODEL_113e5980129c4b25841b36885c37a8f4",
       "value": " 0/10 [00:34&lt;?, ?it/s]"
      }
     },
     "9d391432448540458b460b2d8f715ff7": {
      "model_module": "@jupyter-widgets/base",
      "model_module_version": "1.2.0",
      "model_name": "LayoutModel",
      "state": {}
     },
     "a089414aa42745b483636ff5bde36758": {
      "model_module": "@jupyter-widgets/controls",
      "model_module_version": "1.5.0",
      "model_name": "FloatProgressModel",
      "state": {
       "bar_style": "danger",
       "layout": "IPY_MODEL_caa372db863d4aef98620b496ce2e58a",
       "max": 10,
       "style": "IPY_MODEL_78beb4ea55b24f04ae693c30fbad8efa"
      }
     },
     "a4197da2e3e843888dc66a2aea4156bc": {
      "model_module": "@jupyter-widgets/controls",
      "model_module_version": "1.5.0",
      "model_name": "HBoxModel",
      "state": {
       "children": [
        "IPY_MODEL_3b859923c3d04f689e49bb586648dae6",
        "IPY_MODEL_96a625744fda4821af5e110877607e99",
        "IPY_MODEL_d094d014e8d646a3be133eac502eea0e"
       ],
       "layout": "IPY_MODEL_45d71df4564648ba9935074e6c967128"
      }
     },
     "a595f7bdaf5a4eb2a5bd9fa11a7e1c7e": {
      "model_module": "@jupyter-widgets/base",
      "model_module_version": "1.2.0",
      "model_name": "LayoutModel",
      "state": {}
     },
     "a81c5e027bbd4c3dbd0a4a1af40a8d96": {
      "model_module": "@jupyter-widgets/controls",
      "model_module_version": "1.5.0",
      "model_name": "HTMLModel",
      "state": {
       "layout": "IPY_MODEL_c6c88a2dde4d402795c3d8c5d524e063",
       "style": "IPY_MODEL_13e7eef8bb2b48dfbba21bdb0ded491f",
       "value": "  0%"
      }
     },
     "ab82bc4b9b4043e299cd30726a6b655e": {
      "model_module": "@jupyter-widgets/controls",
      "model_module_version": "1.5.0",
      "model_name": "DescriptionStyleModel",
      "state": {
       "description_width": ""
      }
     },
     "ac7eb723764743bb9c8535889f5ab1ad": {
      "model_module": "@jupyter-widgets/controls",
      "model_module_version": "1.5.0",
      "model_name": "ProgressStyleModel",
      "state": {
       "description_width": ""
      }
     },
     "b1a8431fb1d5409ea027db23c898ee6b": {
      "model_module": "@jupyter-widgets/controls",
      "model_module_version": "1.5.0",
      "model_name": "HBoxModel",
      "state": {
       "children": [
        "IPY_MODEL_84d9f7793f5048e5952ac01169132e91",
        "IPY_MODEL_e6450fdcf147494aa8370ddeda3e6483",
        "IPY_MODEL_9d0538720b924a41810d68eae81931c0"
       ],
       "layout": "IPY_MODEL_e2cbe58961d6490cae6815fb31bfe5b1"
      }
     },
     "b1bd46c58c884f7db178782407e97136": {
      "model_module": "@jupyter-widgets/controls",
      "model_module_version": "1.5.0",
      "model_name": "DescriptionStyleModel",
      "state": {
       "description_width": ""
      }
     },
     "b2e0ca85e4554b10a01e6158a39a72fc": {
      "model_module": "@jupyter-widgets/controls",
      "model_module_version": "1.5.0",
      "model_name": "DescriptionStyleModel",
      "state": {
       "description_width": ""
      }
     },
     "b9a7f788dec94c6e972fb3b379e9f351": {
      "model_module": "@jupyter-widgets/controls",
      "model_module_version": "1.5.0",
      "model_name": "HTMLModel",
      "state": {
       "layout": "IPY_MODEL_5c221ee4a909464c974df2f95f03ccdb",
       "style": "IPY_MODEL_273adb2c834944e3b8ce73b840183237",
       "value": "100%"
      }
     },
     "b9cbb15480414b3095c2449e64054035": {
      "model_module": "@jupyter-widgets/controls",
      "model_module_version": "1.5.0",
      "model_name": "HBoxModel",
      "state": {
       "children": [
        "IPY_MODEL_6f319527cb0743549c2933cc2c9afb4f",
        "IPY_MODEL_028793704a3941c9b7db6da55ffb89bc",
        "IPY_MODEL_604d259e2de84ed3afcc4dce920c515d"
       ],
       "layout": "IPY_MODEL_1544fd1539e3433a8753a41f088c2839"
      }
     },
     "bac56f8595304c8da1c525114e6d92cf": {
      "model_module": "@jupyter-widgets/controls",
      "model_module_version": "1.5.0",
      "model_name": "ProgressStyleModel",
      "state": {
       "description_width": ""
      }
     },
     "bd44bd9a57c64b65973e1782e4bea401": {
      "model_module": "@jupyter-widgets/base",
      "model_module_version": "1.2.0",
      "model_name": "LayoutModel",
      "state": {}
     },
     "bff216d9c2724bbcbb48953c5896fe5f": {
      "model_module": "@jupyter-widgets/base",
      "model_module_version": "1.2.0",
      "model_name": "LayoutModel",
      "state": {}
     },
     "c04c654a9abb465c8f3b83b676c214f8": {
      "model_module": "@jupyter-widgets/base",
      "model_module_version": "1.2.0",
      "model_name": "LayoutModel",
      "state": {}
     },
     "c1f3014a29f745b9bd45f8d24b7ef261": {
      "model_module": "@jupyter-widgets/base",
      "model_module_version": "1.2.0",
      "model_name": "LayoutModel",
      "state": {}
     },
     "c461489e68f74f20a3b69fcb55c21f51": {
      "model_module": "@jupyter-widgets/controls",
      "model_module_version": "1.5.0",
      "model_name": "FloatProgressModel",
      "state": {
       "bar_style": "danger",
       "layout": "IPY_MODEL_c1f3014a29f745b9bd45f8d24b7ef261",
       "max": 10,
       "style": "IPY_MODEL_ac7eb723764743bb9c8535889f5ab1ad"
      }
     },
     "c56ee2fe983443cb906cc82b8d1e8d84": {
      "model_module": "@jupyter-widgets/controls",
      "model_module_version": "1.5.0",
      "model_name": "ProgressStyleModel",
      "state": {
       "description_width": ""
      }
     },
     "c6c88a2dde4d402795c3d8c5d524e063": {
      "model_module": "@jupyter-widgets/base",
      "model_module_version": "1.2.0",
      "model_name": "LayoutModel",
      "state": {}
     },
     "c6e743294bee4d26afb28bd09dc8ea72": {
      "model_module": "@jupyter-widgets/controls",
      "model_module_version": "1.5.0",
      "model_name": "FloatProgressModel",
      "state": {
       "bar_style": "danger",
       "layout": "IPY_MODEL_6442d16a30944e9cbb1484cfa4fa667b",
       "max": 10,
       "style": "IPY_MODEL_bac56f8595304c8da1c525114e6d92cf"
      }
     },
     "ca629a42881c4a92b9d60a2e770912ad": {
      "model_module": "@jupyter-widgets/controls",
      "model_module_version": "1.5.0",
      "model_name": "HBoxModel",
      "state": {
       "children": [
        "IPY_MODEL_2f6b440b71674110ad54cf0f2ddf994b",
        "IPY_MODEL_1a40d9b87ff942b9802bc6081b6f30db",
        "IPY_MODEL_6e9320d0966847dd888a94978291ae49"
       ],
       "layout": "IPY_MODEL_53154c5cb0c14d519a7e4305a9939e59"
      }
     },
     "caa372db863d4aef98620b496ce2e58a": {
      "model_module": "@jupyter-widgets/base",
      "model_module_version": "1.2.0",
      "model_name": "LayoutModel",
      "state": {}
     },
     "cc300ed2a8d3469794feb76fdef1ce7c": {
      "model_module": "@jupyter-widgets/controls",
      "model_module_version": "1.5.0",
      "model_name": "HTMLModel",
      "state": {
       "layout": "IPY_MODEL_2edb959a188743e999d3e25bcdfff565",
       "style": "IPY_MODEL_d74dfbd92b3a416bbcc5b6502610e547",
       "value": " 0/10 [00:09&lt;?, ?it/s]"
      }
     },
     "d06e0bc5a2814217a6c184d72fd1fd80": {
      "model_module": "@jupyter-widgets/base",
      "model_module_version": "1.2.0",
      "model_name": "LayoutModel",
      "state": {}
     },
     "d094d014e8d646a3be133eac502eea0e": {
      "model_module": "@jupyter-widgets/controls",
      "model_module_version": "1.5.0",
      "model_name": "HTMLModel",
      "state": {
       "layout": "IPY_MODEL_c04c654a9abb465c8f3b83b676c214f8",
       "style": "IPY_MODEL_5a74266d64ae4a5a9e4e502cc2b5e0bb",
       "value": " 0/10 [00:00&lt;?, ?it/s]"
      }
     },
     "d1c4542b38144ff7b2ead412f6439b5c": {
      "model_module": "@jupyter-widgets/controls",
      "model_module_version": "1.5.0",
      "model_name": "FloatProgressModel",
      "state": {
       "bar_style": "danger",
       "layout": "IPY_MODEL_d06e0bc5a2814217a6c184d72fd1fd80",
       "max": 10,
       "style": "IPY_MODEL_57830f867dd8446d9e970d43deb958f3"
      }
     },
     "d1d1fb66991d42bd91facbf2f9ab5814": {
      "model_module": "@jupyter-widgets/base",
      "model_module_version": "1.2.0",
      "model_name": "LayoutModel",
      "state": {}
     },
     "d74dfbd92b3a416bbcc5b6502610e547": {
      "model_module": "@jupyter-widgets/controls",
      "model_module_version": "1.5.0",
      "model_name": "DescriptionStyleModel",
      "state": {
       "description_width": ""
      }
     },
     "d7dd2004211c458c9c9c4ccaa47697c5": {
      "model_module": "@jupyter-widgets/controls",
      "model_module_version": "1.5.0",
      "model_name": "HBoxModel",
      "state": {
       "children": [
        "IPY_MODEL_4ca11549ead046f28a14558e805ed8b4",
        "IPY_MODEL_a089414aa42745b483636ff5bde36758",
        "IPY_MODEL_cc300ed2a8d3469794feb76fdef1ce7c"
       ],
       "layout": "IPY_MODEL_fd13f1d277a84d0885c31c8e6362fb56"
      }
     },
     "d888fe3231c0439faf5c85559913b7e1": {
      "model_module": "@jupyter-widgets/controls",
      "model_module_version": "1.5.0",
      "model_name": "ProgressStyleModel",
      "state": {
       "description_width": ""
      }
     },
     "da1f3ac50ed24e95a74656ff18b8df91": {
      "model_module": "@jupyter-widgets/base",
      "model_module_version": "1.2.0",
      "model_name": "LayoutModel",
      "state": {}
     },
     "db1bed8af1734d5392d40eb12ff92c96": {
      "model_module": "@jupyter-widgets/controls",
      "model_module_version": "1.5.0",
      "model_name": "HTMLModel",
      "state": {
       "layout": "IPY_MODEL_bff216d9c2724bbcbb48953c5896fe5f",
       "style": "IPY_MODEL_36f4f40d452e41cc9e02565b5f09eb0f",
       "value": "100%"
      }
     },
     "dc53a922f5c34dacb08248a7e01aa5a6": {
      "model_module": "@jupyter-widgets/controls",
      "model_module_version": "1.5.0",
      "model_name": "HTMLModel",
      "state": {
       "layout": "IPY_MODEL_9a1b681815cf4570bdd0ae8495d22a0a",
       "style": "IPY_MODEL_72e3ea3de4b44ec79f788d1d3efa8eb3",
       "value": " 10/10 [04:00&lt;00:00, 24.27s/it]"
      }
     },
     "e2cbe58961d6490cae6815fb31bfe5b1": {
      "model_module": "@jupyter-widgets/base",
      "model_module_version": "1.2.0",
      "model_name": "LayoutModel",
      "state": {}
     },
     "e2dff83d546a45c39604544f1e835866": {
      "model_module": "@jupyter-widgets/controls",
      "model_module_version": "1.5.0",
      "model_name": "FloatProgressModel",
      "state": {
       "bar_style": "success",
       "layout": "IPY_MODEL_7ff9a7b90a5f4f79a5d8585cdc59e0b0",
       "max": 10,
       "style": "IPY_MODEL_76b5dd522e17425db69fd0a006bfde5b",
       "value": 10
      }
     },
     "e6450fdcf147494aa8370ddeda3e6483": {
      "model_module": "@jupyter-widgets/controls",
      "model_module_version": "1.5.0",
      "model_name": "FloatProgressModel",
      "state": {
       "bar_style": "danger",
       "layout": "IPY_MODEL_fd676c790189407a93a307e11b650dff",
       "max": 10,
       "style": "IPY_MODEL_2805321b766e4f7b9d4d8095e1a2214f"
      }
     },
     "e71b47eadb1c4c2aa7713281f64ce921": {
      "model_module": "@jupyter-widgets/controls",
      "model_module_version": "1.5.0",
      "model_name": "HBoxModel",
      "state": {
       "children": [
        "IPY_MODEL_a81c5e027bbd4c3dbd0a4a1af40a8d96",
        "IPY_MODEL_d1c4542b38144ff7b2ead412f6439b5c",
        "IPY_MODEL_440def59890d41a68189252f2aa86839"
       ],
       "layout": "IPY_MODEL_111c5b98d9434b62883b1c5ee498bcd6"
      }
     },
     "e78da3962be24b2eb70946f2fa0b4fce": {
      "model_module": "@jupyter-widgets/controls",
      "model_module_version": "1.5.0",
      "model_name": "DescriptionStyleModel",
      "state": {
       "description_width": ""
      }
     },
     "eabc29bb72774ef9a3f385804b0349cc": {
      "model_module": "@jupyter-widgets/base",
      "model_module_version": "1.2.0",
      "model_name": "LayoutModel",
      "state": {}
     },
     "eb85d75d850d46459d21cd0755f91226": {
      "model_module": "@jupyter-widgets/controls",
      "model_module_version": "1.5.0",
      "model_name": "HTMLModel",
      "state": {
       "layout": "IPY_MODEL_7585f2a157464741a23db2ffe34206c7",
       "style": "IPY_MODEL_7a25359d6ae343bb835c888fce121c55",
       "value": "  0%"
      }
     },
     "ee1a339e0a04417eb68d898c70488d9c": {
      "model_module": "@jupyter-widgets/base",
      "model_module_version": "1.2.0",
      "model_name": "LayoutModel",
      "state": {}
     },
     "ee366e58426841b7b63772146e9d276f": {
      "model_module": "@jupyter-widgets/base",
      "model_module_version": "1.2.0",
      "model_name": "LayoutModel",
      "state": {}
     },
     "fd13f1d277a84d0885c31c8e6362fb56": {
      "model_module": "@jupyter-widgets/base",
      "model_module_version": "1.2.0",
      "model_name": "LayoutModel",
      "state": {}
     },
     "fd676c790189407a93a307e11b650dff": {
      "model_module": "@jupyter-widgets/base",
      "model_module_version": "1.2.0",
      "model_name": "LayoutModel",
      "state": {}
     },
     "fdb2c57eadee4a8ab6c5d8f9414aaebe": {
      "model_module": "@jupyter-widgets/controls",
      "model_module_version": "1.5.0",
      "model_name": "HTMLModel",
      "state": {
       "layout": "IPY_MODEL_0160ba22307042bfb988b07440409846",
       "style": "IPY_MODEL_962eb3d06fac4d56b1b4e7ec5183ed5c",
       "value": " 10/10 [06:02&lt;00:00, 35.60s/it]"
      }
     }
    },
    "version_major": 2,
    "version_minor": 0
   }
  }
 },
 "nbformat": 4,
 "nbformat_minor": 5
}
