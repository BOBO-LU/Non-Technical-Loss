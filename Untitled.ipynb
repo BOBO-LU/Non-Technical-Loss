{
 "cells": [
  {
   "cell_type": "markdown",
   "id": "maritime-owner",
   "metadata": {
    "Collapsed": "false"
   },
   "source": [
    "### df = pd.DataFrame(my_array, columns = ['Column_A','Column_B','Column_C'])\n"
   ]
  },
  {
   "cell_type": "code",
   "execution_count": 2,
   "id": "electoral-ballot",
   "metadata": {
    "Collapsed": "false"
   },
   "outputs": [],
   "source": [
    "%run requirements.ipynb\n",
    "%run config.ipynb\n",
    "%run module_training.ipynb"
   ]
  },
  {
   "cell_type": "code",
   "execution_count": 1,
   "id": "emotional-spanking",
   "metadata": {
    "Collapsed": "false"
   },
   "outputs": [],
   "source": [
    "import numpy as np\n",
    "import pandas as pd"
   ]
  },
  {
   "cell_type": "code",
   "execution_count": 4,
   "id": "hungarian-royal",
   "metadata": {
    "Collapsed": "false"
   },
   "outputs": [
    {
     "name": "stdout",
     "output_type": "stream",
     "text": [
      "(107484000, 5)\n",
      "(4225, 530, 48, 5)\n",
      "start area  0\n",
      "start area  1\n",
      "start area  2\n",
      "start area  3\n",
      "start area  4\n",
      "start area  5\n",
      "start area  6\n",
      "start area  7\n",
      "start area  8\n",
      "start area  9\n"
     ]
    }
   ],
   "source": [
    "def read_smart_meter():\n",
    "    smart_meter = pd.read_csv('CSV/smart_meter.csv')\n",
    "    # print(smart_meter.shape)\n",
    "    n = np.array(smart_meter)\n",
    "    nr = n.reshape(-1, 530, 48, 5)\n",
    "    # print(nr.shape)\n",
    "    read_data_group = []\n",
    "    for i in range(10):\n",
    "        print(\"start area \", i)\n",
    "        area_data = {}\n",
    "        # get data in right position\n",
    "        if i == 9:\n",
    "            temp_data = nr[4225-427: 4225]\n",
    "        else:\n",
    "            temp_data = nr[i*422:(i+1)*422]\n",
    "\n",
    "        t = pd.DataFrame(temp_data.reshape(-1, 5), columns = [\"MeterID\",\"Day\",\"Time\",\"Electricity\",\"FDI\"])\n",
    "\n",
    "        #seperate normal and fdi\n",
    "        normal_df = t[t['FDI'] == False]\n",
    "        fdi_df = t[t['FDI'] == True]\n",
    "        normal_list = []\n",
    "        fdi_list = []\n",
    "\n",
    "        for j in range( int(normal_df.shape[0] /25440) ):\n",
    "            normal_list.append(normal_df[i*25440:(i+1)*25440])\n",
    "        for j in range( int(fdi_df.shape[0] /25440) ): \n",
    "            fdi_list.append(fdi_df[i*25440:(i+1)*25440])\n",
    "\n",
    "        area_data[\"normal\"] = normal_list\n",
    "        area_data[\"fdi\"] = fdi_list\n",
    "\n",
    "        read_data_group.append(area_data)\n",
    "\n",
    "return read_data_group"
   ]
  },
  {
   "cell_type": "code",
   "execution_count": 2,
   "id": "rocky-definition",
   "metadata": {
    "Collapsed": "false"
   },
   "outputs": [],
   "source": [
    "import numpy as np"
   ]
  },
  {
   "cell_type": "code",
   "execution_count": 3,
   "id": "premium-registration",
   "metadata": {
    "Collapsed": "false"
   },
   "outputs": [],
   "source": [
    "a = np.array([[1,2,3],[4,5,6]])"
   ]
  },
  {
   "cell_type": "code",
   "execution_count": 5,
   "id": "absolute-access",
   "metadata": {
    "Collapsed": "false"
   },
   "outputs": [
    {
     "data": {
      "text/plain": [
       "(2, 3)"
      ]
     },
     "execution_count": 5,
     "metadata": {},
     "output_type": "execute_result"
    }
   ],
   "source": [
    "a.shape"
   ]
  },
  {
   "cell_type": "code",
   "execution_count": 16,
   "id": "frequent-homework",
   "metadata": {
    "Collapsed": "false"
   },
   "outputs": [],
   "source": [
    "a = np.arange(1, 49)"
   ]
  },
  {
   "cell_type": "code",
   "execution_count": 17,
   "id": "median-clark",
   "metadata": {
    "Collapsed": "false"
   },
   "outputs": [
    {
     "data": {
      "text/plain": [
       "array([ 1,  2,  3,  4,  5,  6,  7,  8,  9, 10, 11, 12, 13, 14, 15, 16, 17,\n",
       "       18, 19, 20, 21, 22, 23, 24, 25, 26, 27, 28, 29, 30, 31, 32, 33, 34,\n",
       "       35, 36, 37, 38, 39, 40, 41, 42, 43, 44, 45, 46, 47, 48])"
      ]
     },
     "execution_count": 17,
     "metadata": {},
     "output_type": "execute_result"
    }
   ],
   "source": [
    "a"
   ]
  },
  {
   "cell_type": "code",
   "execution_count": 18,
   "id": "weighted-sending",
   "metadata": {
    "Collapsed": "false"
   },
   "outputs": [
    {
     "data": {
      "text/plain": [
       "array([[[ 1,  2,  3,  4],\n",
       "        [ 5,  6,  7,  8],\n",
       "        [ 9, 10, 11, 12]],\n",
       "\n",
       "       [[13, 14, 15, 16],\n",
       "        [17, 18, 19, 20],\n",
       "        [21, 22, 23, 24]],\n",
       "\n",
       "       [[25, 26, 27, 28],\n",
       "        [29, 30, 31, 32],\n",
       "        [33, 34, 35, 36]],\n",
       "\n",
       "       [[37, 38, 39, 40],\n",
       "        [41, 42, 43, 44],\n",
       "        [45, 46, 47, 48]]])"
      ]
     },
     "execution_count": 18,
     "metadata": {},
     "output_type": "execute_result"
    }
   ],
   "source": [
    "a = a.reshape(-1, 3, 4)\n",
    "a"
   ]
  },
  {
   "cell_type": "code",
   "execution_count": 19,
   "id": "motivated-christopher",
   "metadata": {
    "Collapsed": "false"
   },
   "outputs": [
    {
     "data": {
      "text/plain": [
       "array([[ 1,  2,  3,  4,  5,  6,  7,  8,  9, 10, 11, 12],\n",
       "       [13, 14, 15, 16, 17, 18, 19, 20, 21, 22, 23, 24],\n",
       "       [25, 26, 27, 28, 29, 30, 31, 32, 33, 34, 35, 36],\n",
       "       [37, 38, 39, 40, 41, 42, 43, 44, 45, 46, 47, 48]])"
      ]
     },
     "execution_count": 19,
     "metadata": {},
     "output_type": "execute_result"
    }
   ],
   "source": [
    "a = a.reshape(-1, 12)\n",
    "a"
   ]
  },
  {
   "cell_type": "code",
   "execution_count": 21,
   "id": "about-circuit",
   "metadata": {
    "Collapsed": "false"
   },
   "outputs": [
    {
     "data": {
      "text/plain": [
       "array([[ 1,  2],\n",
       "       [ 3,  4],\n",
       "       [ 5,  6],\n",
       "       [ 7,  8],\n",
       "       [ 9, 10],\n",
       "       [11, 12],\n",
       "       [13, 14],\n",
       "       [15, 16],\n",
       "       [17, 18],\n",
       "       [19, 20],\n",
       "       [21, 22],\n",
       "       [23, 24],\n",
       "       [25, 26],\n",
       "       [27, 28],\n",
       "       [29, 30],\n",
       "       [31, 32],\n",
       "       [33, 34],\n",
       "       [35, 36],\n",
       "       [37, 38],\n",
       "       [39, 40],\n",
       "       [41, 42],\n",
       "       [43, 44],\n",
       "       [45, 46],\n",
       "       [47, 48]])"
      ]
     },
     "execution_count": 21,
     "metadata": {},
     "output_type": "execute_result"
    }
   ],
   "source": [
    "a = a.reshape(-1, 12)\n",
    "a"
   ]
  },
  {
   "cell_type": "code",
   "execution_count": 15,
   "id": "fossil-profession",
   "metadata": {
    "Collapsed": "false"
   },
   "outputs": [],
   "source": [
    "import numpy\n",
    "import matplotlib.pyplot as plt\n",
    "\n",
    "from tslearn.barycenters import \\\n",
    "    euclidean_barycenter, \\\n",
    "    dtw_barycenter_averaging, \\\n",
    "    dtw_barycenter_averaging_subgradient, \\\n",
    "    softdtw_barycenter"
   ]
  },
  {
   "cell_type": "code",
   "execution_count": null,
   "id": "bearing-logan",
   "metadata": {
    "Collapsed": "false"
   },
   "outputs": [],
   "source": []
  },
  {
   "cell_type": "code",
   "execution_count": null,
   "id": "increased-sense",
   "metadata": {
    "Collapsed": "false"
   },
   "outputs": [],
   "source": [
    "X = a.reshape()"
   ]
  },
  {
   "cell_type": "code",
   "execution_count": null,
   "id": "still-annual",
   "metadata": {
    "Collapsed": "false"
   },
   "outputs": [],
   "source": [
    "dtw_barycenter_averaging_subgradient(X, max_iter=50, tol=1e-3)"
   ]
  },
  {
   "cell_type": "code",
   "execution_count": null,
   "id": "incredible-burst",
   "metadata": {
    "Collapsed": "false"
   },
   "outputs": [],
   "source": []
  },
  {
   "cell_type": "code",
   "execution_count": null,
   "id": "confident-preference",
   "metadata": {
    "Collapsed": "false"
   },
   "outputs": [],
   "source": []
  },
  {
   "cell_type": "code",
   "execution_count": 1,
   "id": "devoted-peoples",
   "metadata": {
    "Collapsed": "false",
    "collapsed": true,
    "jupyter": {
     "outputs_hidden": true
    }
   },
   "outputs": [
    {
     "name": "stdout",
     "output_type": "stream",
     "text": [
      "Collecting py-cpuinfo\n",
      "  Downloading py-cpuinfo-8.0.0.tar.gz (99 kB)\n",
      "\u001b[K     |████████████████████████████████| 99 kB 3.2 MB/s eta 0:00:011\n",
      "\u001b[?25hBuilding wheels for collected packages: py-cpuinfo\n",
      "  Building wheel for py-cpuinfo (setup.py) ... \u001b[?25ldone\n",
      "\u001b[?25h  Created wheel for py-cpuinfo: filename=py_cpuinfo-8.0.0-py3-none-any.whl size=22245 sha256=10d7fe3d37ff6d58f3b83ef3be803f6fc311a4b296567692a7bf5c6e8bf2bbe8\n",
      "  Stored in directory: /home/jupyter/.cache/pip/wheels/d2/f1/1f/041add21dc9c4220157f1bd2bd6afe1f1a49524c3396b94401\n",
      "Successfully built py-cpuinfo\n",
      "Installing collected packages: py-cpuinfo\n",
      "Successfully installed py-cpuinfo-8.0.0\n"
     ]
    }
   ],
   "source": [
    "!pip install py-cpuinfo"
   ]
  },
  {
   "cell_type": "code",
   "execution_count": 1,
   "id": "smart-sheet",
   "metadata": {
    "Collapsed": "false",
    "collapsed": true,
    "jupyter": {
     "outputs_hidden": true
    }
   },
   "outputs": [
    {
     "data": {
      "text/plain": [
       "{'python_version': '3.7.10.final.0 (64 bit)',\n",
       " 'cpuinfo_version': [8, 0, 0],\n",
       " 'cpuinfo_version_string': '8.0.0',\n",
       " 'arch': 'X86_64',\n",
       " 'bits': 64,\n",
       " 'count': 16,\n",
       " 'arch_string_raw': 'x86_64',\n",
       " 'vendor_id_raw': 'GenuineIntel',\n",
       " 'brand_raw': 'Intel(R) Xeon(R) CPU',\n",
       " 'hz_advertised_friendly': '3.1002 GHz',\n",
       " 'hz_actual_friendly': '3.1002 GHz',\n",
       " 'hz_advertised': [3100226000, 0],\n",
       " 'hz_actual': [3100226000, 0],\n",
       " 'stepping': 7,\n",
       " 'model': 85,\n",
       " 'family': 6,\n",
       " 'flags': ['3dnowprefetch',\n",
       "  'abm',\n",
       "  'adx',\n",
       "  'aes',\n",
       "  'apic',\n",
       "  'arat',\n",
       "  'arch_capabilities',\n",
       "  'avx',\n",
       "  'avx2',\n",
       "  'avx512_vnni',\n",
       "  'avx512bw',\n",
       "  'avx512cd',\n",
       "  'avx512dq',\n",
       "  'avx512f',\n",
       "  'avx512vl',\n",
       "  'avx512vnni',\n",
       "  'bmi1',\n",
       "  'bmi2',\n",
       "  'clflush',\n",
       "  'clflushopt',\n",
       "  'clwb',\n",
       "  'cmov',\n",
       "  'constant_tsc',\n",
       "  'cpuid',\n",
       "  'cx16',\n",
       "  'cx8',\n",
       "  'de',\n",
       "  'erms',\n",
       "  'f16c',\n",
       "  'fma',\n",
       "  'fpu',\n",
       "  'fsgsbase',\n",
       "  'fxsr',\n",
       "  'hle',\n",
       "  'ht',\n",
       "  'hypervisor',\n",
       "  'ibpb',\n",
       "  'ibrs',\n",
       "  'ibrs_enhanced',\n",
       "  'invpcid',\n",
       "  'invpcid_single',\n",
       "  'lahf_lm',\n",
       "  'lm',\n",
       "  'mca',\n",
       "  'mce',\n",
       "  'md_clear',\n",
       "  'mmx',\n",
       "  'movbe',\n",
       "  'mpx',\n",
       "  'msr',\n",
       "  'mtrr',\n",
       "  'nonstop_tsc',\n",
       "  'nopl',\n",
       "  'nx',\n",
       "  'osxsave',\n",
       "  'pae',\n",
       "  'pat',\n",
       "  'pcid',\n",
       "  'pclmulqdq',\n",
       "  'pdpe1gb',\n",
       "  'pge',\n",
       "  'pni',\n",
       "  'popcnt',\n",
       "  'pse',\n",
       "  'pse36',\n",
       "  'rdrand',\n",
       "  'rdrnd',\n",
       "  'rdseed',\n",
       "  'rdtscp',\n",
       "  'rep_good',\n",
       "  'rtm',\n",
       "  'sep',\n",
       "  'smap',\n",
       "  'smep',\n",
       "  'ss',\n",
       "  'ssbd',\n",
       "  'sse',\n",
       "  'sse2',\n",
       "  'sse4_1',\n",
       "  'sse4_2',\n",
       "  'ssse3',\n",
       "  'stibp',\n",
       "  'syscall',\n",
       "  'tsc',\n",
       "  'tsc_adjust',\n",
       "  'tsc_known_freq',\n",
       "  'vme',\n",
       "  'x2apic',\n",
       "  'xgetbv1',\n",
       "  'xsave',\n",
       "  'xsavec',\n",
       "  'xsaveopt',\n",
       "  'xsaves',\n",
       "  'xtopology'],\n",
       " 'l3_cache_size': 25952256,\n",
       " 'l2_cache_size': 1048576,\n",
       " 'l1_data_cache_size': 32768,\n",
       " 'l1_instruction_cache_size': 32768,\n",
       " 'l2_cache_line_size': 256,\n",
       " 'l2_cache_associativity': 6}"
      ]
     },
     "execution_count": 1,
     "metadata": {},
     "output_type": "execute_result"
    }
   ],
   "source": [
    "# c2 cpu 16vcore\n",
    "import cpuinfo\n",
    "cpuinfo.get_cpu_info()"
   ]
  },
  {
   "cell_type": "code",
   "execution_count": 3,
   "id": "ranging-ordinance",
   "metadata": {
    "Collapsed": "false",
    "collapsed": true,
    "jupyter": {
     "outputs_hidden": true
    }
   },
   "outputs": [
    {
     "data": {
      "text/plain": [
       "{'python_version': '3.7.10.final.0 (64 bit)',\n",
       " 'cpuinfo_version': [8, 0, 0],\n",
       " 'cpuinfo_version_string': '8.0.0',\n",
       " 'arch': 'X86_64',\n",
       " 'bits': 64,\n",
       " 'count': 16,\n",
       " 'arch_string_raw': 'x86_64',\n",
       " 'vendor_id_raw': 'AuthenticAMD',\n",
       " 'brand_raw': 'AMD EPYC 7B12',\n",
       " 'hz_advertised_friendly': '2.2500 GHz',\n",
       " 'hz_actual_friendly': '2.2500 GHz',\n",
       " 'hz_advertised': [2249998000, 0],\n",
       " 'hz_actual': [2249998000, 0],\n",
       " 'model': 49,\n",
       " 'family': 23,\n",
       " 'flags': ['3dnowext',\n",
       "  '3dnowprefetch',\n",
       "  'abm',\n",
       "  'adx',\n",
       "  'aes',\n",
       "  'apic',\n",
       "  'arat',\n",
       "  'avx',\n",
       "  'avx2',\n",
       "  'bmi1',\n",
       "  'bmi2',\n",
       "  'clflush',\n",
       "  'clflushopt',\n",
       "  'clwb',\n",
       "  'clzero',\n",
       "  'cmov',\n",
       "  'cmp_legacy',\n",
       "  'constant_tsc',\n",
       "  'cpuid',\n",
       "  'cr8_legacy',\n",
       "  'cx16',\n",
       "  'cx8',\n",
       "  'de',\n",
       "  'extd_apicid',\n",
       "  'f16c',\n",
       "  'fma',\n",
       "  'fpu',\n",
       "  'fsgsbase',\n",
       "  'fxsr',\n",
       "  'fxsr_opt',\n",
       "  'ht',\n",
       "  'hypervisor',\n",
       "  'ibpb',\n",
       "  'ibrs',\n",
       "  'lahf_lm',\n",
       "  'lm',\n",
       "  'mca',\n",
       "  'mce',\n",
       "  'misalignsse',\n",
       "  'mmx',\n",
       "  'mmxext',\n",
       "  'movbe',\n",
       "  'msr',\n",
       "  'mtrr',\n",
       "  'nonstop_tsc',\n",
       "  'nopl',\n",
       "  'npt',\n",
       "  'nrip_save',\n",
       "  'nx',\n",
       "  'osvw',\n",
       "  'osxsave',\n",
       "  'pae',\n",
       "  'pat',\n",
       "  'pclmulqdq',\n",
       "  'pdpe1gb',\n",
       "  'pge',\n",
       "  'pni',\n",
       "  'popcnt',\n",
       "  'pse',\n",
       "  'pse36',\n",
       "  'rdpid',\n",
       "  'rdrand',\n",
       "  'rdrnd',\n",
       "  'rdseed',\n",
       "  'rdtscp',\n",
       "  'rep_good',\n",
       "  'sep',\n",
       "  'sha',\n",
       "  'sha_ni',\n",
       "  'smap',\n",
       "  'smep',\n",
       "  'ssbd',\n",
       "  'sse',\n",
       "  'sse2',\n",
       "  'sse4_1',\n",
       "  'sse4_2',\n",
       "  'sse4a',\n",
       "  'ssse3',\n",
       "  'stibp',\n",
       "  'syscall',\n",
       "  'topoext',\n",
       "  'tsc',\n",
       "  'tsc_adjust',\n",
       "  'tsc_known_freq',\n",
       "  'umip',\n",
       "  'vme',\n",
       "  'vmmcall',\n",
       "  'xgetbv1',\n",
       "  'xsave',\n",
       "  'xsavec',\n",
       "  'xsaveerptr',\n",
       "  'xsaveopt',\n",
       "  'xtopology'],\n",
       " 'l3_cache_size': 524288,\n",
       " 'l2_cache_size': 524288,\n",
       " 'l1_data_cache_size': 32768,\n",
       " 'l1_instruction_cache_size': 32768,\n",
       " 'l2_cache_line_size': 512,\n",
       " 'l2_cache_associativity': 6}"
      ]
     },
     "execution_count": 3,
     "metadata": {},
     "output_type": "execute_result"
    }
   ],
   "source": [
    "# n2d cpu 16vcore\n",
    "import cpuinfo\n",
    "cpuinfo.get_cpu_info()"
   ]
  }
 ],
 "metadata": {
  "environment": {
   "name": "common-cpu.m65",
   "type": "gcloud",
   "uri": "gcr.io/deeplearning-platform-release/base-cpu:m65"
  },
  "kernelspec": {
   "display_name": "Python 3",
   "language": "python",
   "name": "python3"
  },
  "language_info": {
   "codemirror_mode": {
    "name": "ipython",
    "version": 3
   },
   "file_extension": ".py",
   "mimetype": "text/x-python",
   "name": "python",
   "nbconvert_exporter": "python",
   "pygments_lexer": "ipython3",
   "version": "3.7.10"
  }
 },
 "nbformat": 4,
 "nbformat_minor": 5
}
